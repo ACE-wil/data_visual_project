{
 "cells": [
  {
   "cell_type": "code",
   "execution_count": 26,
   "metadata": {
    "collapsed": true
   },
   "outputs": [],
   "source": [
    "from requests_html import HTMLSession"
   ]
  },
  {
   "cell_type": "code",
   "execution_count": 27,
   "outputs": [],
   "source": [
    "session = HTMLSession()"
   ],
   "metadata": {
    "collapsed": false
   }
  },
  {
   "cell_type": "code",
   "execution_count": 39,
   "outputs": [],
   "source": [
    "url  = 'https://www.baidu.com/s?wd=%E8%96%9B%E4%B9%8B%E8%B0%A6&base_query=%E8%96%9B%E4%B9%8B%E8%B0%A6&pn=0&oq=%E8%96%9B%E4%B9%8B%E8%B0%A6&tn=baiduhome_pg&ie=utf-8&usm=3&rsv_idx=2&rsv_pq=9a37e83400192e18&rsv_t=8e68zuyq8PCfmXfaeMzaAR1ys03MtppzHEuB5w8zDshCIvHfWCH%2BiQQOykOyDPNDm9LT'"
   ],
   "metadata": {
    "collapsed": false
   }
  },
  {
   "cell_type": "code",
   "execution_count": 40,
   "outputs": [],
   "source": [
    "r = session.get(url)"
   ],
   "metadata": {
    "collapsed": false
   }
  },
  {
   "cell_type": "code",
   "execution_count": 41,
   "outputs": [
    {
     "data": {
      "text/plain": "200"
     },
     "execution_count": 41,
     "metadata": {},
     "output_type": "execute_result"
    }
   ],
   "source": [
    "r.status_code"
   ],
   "metadata": {
    "collapsed": false
   }
  },
  {
   "cell_type": "code",
   "execution_count": 46,
   "outputs": [
    {
     "data": {
      "text/plain": "[]"
     },
     "execution_count": 46,
     "metadata": {},
     "output_type": "execute_result"
    }
   ],
   "source": [
    "baidu_title = r.html.find('div.c-container > a')\n",
    "baidu_title"
   ],
   "metadata": {
    "collapsed": false
   }
  },
  {
   "cell_type": "code",
   "execution_count": 47,
   "outputs": [
    {
     "data": {
      "text/plain": "[]"
     },
     "execution_count": 47,
     "metadata": {},
     "output_type": "execute_result"
    }
   ],
   "source": [
    "baidu_title_list = [x.text for x in baidu_title]\n",
    "baidu_title_list"
   ],
   "metadata": {
    "collapsed": false
   }
  },
  {
   "cell_type": "code",
   "execution_count": 20,
   "outputs": [],
   "source": [
    "# 第一页\n",
    "# https://www.baidu.com/s?wd=%E8%96%9B%E4%B9%8B%E8%B0%A6&base_query=%E8%96%9B%E4%B9%8B%E8%B0%A6&pn=0&oq=%E8%96%9B%E4%B9%8B%E8%B0%A6&tn=baiduhome_pg&ie=utf-8&usm=3&rsv_idx=2&rsv_pq=9a37e83400192e18&rsv_t=8e68zuyq8PCfmXfaeMzaAR1ys03MtppzHEuB5w8zDshCIvHfWCH%2BiQQOykOyDPNDm9LT"
   ],
   "metadata": {
    "collapsed": false
   }
  },
  {
   "cell_type": "code",
   "execution_count": null,
   "outputs": [],
   "source": [
    "# # 第二页\n",
    "# https://www.baidu.com/s?wd=%E8%96%9B%E4%B9%8B%E8%B0%A6&base_query=%E8%96%9B%E4%B9%8B%E8%B0%A6&pn=10&oq=%E8%96%9B%E4%B9%8B%E8%B0%A6&tn=baiduhome_pg&ie=utf-8&usm=3&rsv_idx=2&rsv_pq=aad9dba400026840&rsv_t=4babBqzH%2Ftx0f0wojsK93epRQbVFgp8%2B7rLsNNV7TPbRxsgS75GwsEkCQ3wVeDA5LceN"
   ],
   "metadata": {
    "collapsed": false
   }
  },
  {
   "cell_type": "code",
   "execution_count": null,
   "outputs": [],
   "source": [
    "# # 第三页\n",
    "# https://www.baidu.com/s?wd=%E8%96%9B%E4%B9%8B%E8%B0%A6&base_query=%E8%96%9B%E4%B9%8B%E8%B0%A6&pn=20&oq=%E8%96%9B%E4%B9%8B%E8%B0%A6&tn=baiduhome_pg&ie=utf-8&usm=3&rsv_idx=2&rsv_pq=c8de18c900027546&rsv_t=0e37ujEwoAoI7o%2F0TwLhcg8%2FHMGxgwT%2FhGFvQu%2BaFeYiUGBsr1SVUNUBbVzoqiZM7%2FB9"
   ],
   "metadata": {
    "collapsed": false
   }
  },
  {
   "cell_type": "code",
   "execution_count": 48,
   "outputs": [],
   "source": [
    "import requests\n",
    "from requests_html import HTMLSession"
   ],
   "metadata": {
    "collapsed": false
   }
  },
  {
   "cell_type": "code",
   "execution_count": 55,
   "outputs": [],
   "source": [],
   "metadata": {
    "collapsed": false
   }
  },
  {
   "cell_type": "code",
   "execution_count": 67,
   "outputs": [],
   "source": [
    "url  = 'https://www.baidu.com/s?ie=utf-8&mod=1&isbd=1&isid=c6cf3d1e00099ecc&ie=utf-8&f=8&rsv_bp=1&rsv_idx=2&tn=baiduhome_pg&wd=%E5%B9%BF%E4%B8%9C&oq=gd&rsv_pq=c6cf3d1e00099ecc&rsv_t=c6b1Pwd2RPclNuyFccsnjGTj6s6PRfMS1RboeRjrbR0uzTbQrFmaFQow9XqC7rvIV%2BeZ&rqlang=cn&rsv_enter=0&rsv_dl=tb&rsv_btype=t&inputT=2737&rsv_sug3=5&rsv_sug1=6&rsv_sug7=100&rsv_sug2=0&rsv_sug4=2737&bs=gd&rsv_sid=undefined&_ss=1&clist=&hsug=&f4s=1&csor=2&_cr1=33972'"
   ],
   "metadata": {
    "collapsed": false
   }
  },
  {
   "cell_type": "code",
   "execution_count": 68,
   "outputs": [],
   "source": [
    "import json\n",
    "session = HTMLSession()"
   ],
   "metadata": {
    "collapsed": false
   }
  },
  {
   "cell_type": "code",
   "execution_count": 69,
   "outputs": [],
   "source": [
    "headers = {}"
   ],
   "metadata": {
    "collapsed": false
   }
  },
  {
   "cell_type": "code",
   "execution_count": 78,
   "outputs": [],
   "source": [
    "r= session.get(url,headers=headers)"
   ],
   "metadata": {
    "collapsed": false
   }
  },
  {
   "cell_type": "code",
   "execution_count": 79,
   "outputs": [
    {
     "data": {
      "text/plain": "200"
     },
     "execution_count": 79,
     "metadata": {},
     "output_type": "execute_result"
    }
   ],
   "source": [
    "r.status_code"
   ],
   "metadata": {
    "collapsed": false
   }
  },
  {
   "cell_type": "code",
   "execution_count": 80,
   "outputs": [
    {
     "name": "stdout",
     "output_type": "stream",
     "text": [
      "<Response [200]>\n"
     ]
    }
   ],
   "source": [
    "print(r)"
   ],
   "metadata": {
    "collapsed": false
   }
  },
  {
   "cell_type": "code",
   "execution_count": null,
   "outputs": [],
   "source": [],
   "metadata": {
    "collapsed": false
   }
  }
 ],
 "metadata": {
  "kernelspec": {
   "display_name": "Python 3",
   "language": "python",
   "name": "python3"
  },
  "language_info": {
   "codemirror_mode": {
    "name": "ipython",
    "version": 2
   },
   "file_extension": ".py",
   "mimetype": "text/x-python",
   "name": "python",
   "nbconvert_exporter": "python",
   "pygments_lexer": "ipython2",
   "version": "2.7.6"
  }
 },
 "nbformat": 4,
 "nbformat_minor": 0
}
