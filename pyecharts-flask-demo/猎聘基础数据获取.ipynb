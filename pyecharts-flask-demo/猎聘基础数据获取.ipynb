{
 "cells": [
  {
   "cell_type": "markdown",
   "id": "be8b4981",
   "metadata": {},
   "source": [
    "# 数据准备-liepin-PM"
   ]
  },
  {
   "cell_type": "markdown",
   "id": "cf22335a",
   "metadata": {},
   "source": [
    "## 请求页面准备\n",
    "> 1. 找到页面的数据API接口\n",
    "> 2. 提供正确的用户请求酬载（payload）\n",
    "> 3. 准备请求的headers，增加cookie信息（用户登录之后的cookie），保证数据的合理性\n"
   ]
  },
  {
   "cell_type": "code",
   "execution_count": 1,
   "id": "7df093b6",
   "metadata": {},
   "outputs": [],
   "source": [
    "用户输入职位 = input(\"请输入你要查询的职位：\")\n"
   ]
  },
  {
   "cell_type": "code",
   "execution_count": 2,
   "outputs": [],
   "source": [
    "城市编码 = {\n",
    "    '北京':'010',\n",
    "    '上海':'020',\n",
    "    '广州':'050020',\n",
    "    '深圳':'050090',\n",
    "\n",
    "}"
   ],
   "metadata": {
    "collapsed": false
   }
  },
  {
   "cell_type": "code",
   "execution_count": 3,
   "outputs": [],
   "source": [
    "用户输入城市 = input(\"请输入你要查询的城市：\")"
   ],
   "metadata": {
    "collapsed": false
   }
  },
  {
   "cell_type": "code",
   "execution_count": 4,
   "id": "c6f6861b",
   "metadata": {},
   "outputs": [
    {
     "name": "stdout",
     "output_type": "stream",
     "text": [
      "{'flag': 1, 'data': {'data': {'jobCardList': [{'job': {'labels': ['数据产品', '工具产品', 'CRM系统', 'to B', '产品规划', '产品优化', '产品设计', '用户研究', '数据分析', 'Axure'], 'requireEduLevel': '大专', 'dataPromId': 'd_sfrom=search_prime&d_ckId=null&d_curPage=0&d_pageSize=40&d_headId=null&d_posi=0&skId=h2c8pxojavrmo1w785z7ueih2ybfpux8&fkId=h2c8pxojavrmo1w785z7ueih2ybfpux8&ckId=h2c8pxojavrmo1w785z7ueih2ybfpux8&sfrom=search_job_pc&curPage=0&pageSize=40&index=0', 'title': '产品经理', 'jobId': '61894371', 'salary': '15-18k', 'requireWorkYears': '3-5年', 'jobKind': '2', 'topJob': True, 'link': 'https://www.liepin.com/job/1961894371.shtml', 'refreshTime': '20230925170533', 'dq': '广州-番禺区', 'advViewFlag': True, 'pcOuterLink': '', 'h5OuterLink': ''}, 'recruiter': {'recruiterPhoto': '5f8f986779c7cc70efbf36c008u.jpg', 'recruiterId': 'cc88b0c4e1a42225fac8dea42743dc5a', 'chatted': False, 'imId': 'd1b6352aea971560f1cfaf888dfec3b6', 'imUserType': '2', 'recruiterName': '蔡女士', 'recruiterTitle': '招聘专员'}, 'comp': {'compId': 10122365, 'compStage': '融资未公开', 'compLogo': '5d2eede1dde7f0565c180dd001u.jpg', 'compName': '宏脉信息技术(广州)股份有限公司', 'compScale': '100-499人', 'compIndustry': '计算机软件', 'link': 'https://www.liepin.com/company/10122365/'}, 'dataInfo': '%7B%22as_from%22%3A%22search_prime%22%2C%22ckId%22%3A%22h2c8pxojavrmo1w785z7ueih2ybfpux8%22%2C%22scene%22%3A%22input%22%2C%22skId%22%3A%22h2c8pxojavrmo1w785z7ueih2ybfpux8%22%2C%22fkId%22%3A%22h2c8pxojavrmo1w785z7ueih2ybfpux8%22%2C%22jobId%22%3A%2261894371%22%2C%22jobKind%22%3A%222%22%2C%22sfrom%22%3A%22search_job_pc%22%2C%22pageSize%22%3A%2240%22%2C%22curPage%22%3A%220%22%2C%22d_curPage%22%3A%220%22%2C%22d_pageSize%22%3A%2240%22%7D', 'dataParams': '{\"recruiterPhoto\":\"5f8f986779c7cc70efbf36c008u.jpg\",\"jobId\":\"61894371\",\"imId\":\"d1b6352aea971560f1cfaf888dfec3b6\",\"imUserType\":\"2\",\"jobKind\":\"2\",\"userId\":\"cc88b0c4e1a42225fac8dea42743dc5a\",\"recruiterName\":\"蔡女士\"}'}, {'job': {'labels': ['英语', '市场推广', '市场拓展', '渠道策划', '市场策划', '市场调研分析', '乙方公司背景', 'to B', '大客户', '无销售性质'], 'requireEduLevel': '硕士', 'dataPromId': 'd_sfrom=search_prime&d_ckId=null&d_curPage=0&d_pageSize=40&d_headId=null&d_posi=1&skId=h2c8pxojavrmo1w785z7ueih2ybfpux8&fkId=h2c8pxojavrmo1w785z7ueih2ybfpux8&ckId=h2c8pxojavrmo1w785z7ueih2ybfpux8&sfrom=search_job_pc&curPage=0&pageSize=40&index=1', 'title': '产品经理（化妆品原料）/Product Manager', 'jobId': '50965433', 'salary': '薪资面议', 'requireWorkYears': '3-5年', 'jobKind': '2', 'topJob': False, 'link': 'https://www.liepin.com/job/1950965433.shtml', 'refreshTime': '20231215105929', 'dq': '广州-天河区', 'advViewFlag': False, 'pcOuterLink': '', 'h5OuterLink': ''}, 'recruiter': {'recruiterPhoto': '5f8f98648dbe6273dcf8515508u.jpg', 'recruiterId': '14799e1bef289c70aa9b550257de7ea8', 'chatted': False, 'imId': '0ce6f53a162e27cc9427b88c78d2ff1f', 'imUserType': '2', 'recruiterName': '吴女士', 'recruiterTitle': 'HR Officer'}, 'comp': {'compId': 8112968, 'compLogo': '6274ee6d04a5ff469b10880402u.png', 'compName': '仙婷集团', 'compScale': '50-99人', 'compIndustry': '贸易/进出口', 'link': 'https://www.liepin.com/company/8112968/'}, 'dataInfo': '%7B%22as_from%22%3A%22search_prime%22%2C%22ckId%22%3A%22h2c8pxojavrmo1w785z7ueih2ybfpux8%22%2C%22scene%22%3A%22input%22%2C%22skId%22%3A%22h2c8pxojavrmo1w785z7ueih2ybfpux8%22%2C%22fkId%22%3A%22h2c8pxojavrmo1w785z7ueih2ybfpux8%22%2C%22jobId%22%3A%2250965433%22%2C%22jobKind%22%3A%222%22%2C%22sfrom%22%3A%22search_job_pc%22%2C%22pageSize%22%3A%2240%22%2C%22curPage%22%3A%220%22%2C%22d_curPage%22%3A%220%22%2C%22d_pageSize%22%3A%2240%22%7D', 'dataParams': '{\"recruiterPhoto\":\"5f8f98648dbe6273dcf8515508u.jpg\",\"jobId\":\"50965433\",\"imId\":\"0ce6f53a162e27cc9427b88c78d2ff1f\",\"imUserType\":\"2\",\"jobKind\":\"2\",\"userId\":\"14799e1bef289c70aa9b550257de7ea8\",\"recruiterName\":\"吴女士\"}'}, {'job': {'labels': ['口腔健康', '口腔护理', '产品推广', '方案设计', '产品策划', '研讨会', '技术支持', '英语可作工作语言', 'PPT', '数据分析'], 'requireEduLevel': '统招本科', 'dataPromId': 'd_sfrom=search_prime&d_ckId=null&d_curPage=0&d_pageSize=40&d_headId=null&d_posi=2&skId=h2c8pxojavrmo1w785z7ueih2ybfpux8&fkId=h2c8pxojavrmo1w785z7ueih2ybfpux8&ckId=h2c8pxojavrmo1w785z7ueih2ybfpux8&sfrom=search_job_pc&curPage=0&pageSize=40&index=2', 'title': '口腔护理产品经理/Oral Product Manager', 'jobId': '62080471', 'salary': '薪资面议', 'requireWorkYears': '5-10年', 'jobKind': '2', 'topJob': False, 'link': 'https://www.liepin.com/job/1962080471.shtml', 'refreshTime': '20231215105929', 'dq': '广州-天河区', 'advViewFlag': False, 'pcOuterLink': '', 'h5OuterLink': ''}, 'recruiter': {'recruiterPhoto': '5f8f98648dbe6273dcf8515508u.jpg', 'recruiterId': '14799e1bef289c70aa9b550257de7ea8', 'chatted': False, 'imId': '0ce6f53a162e27cc9427b88c78d2ff1f', 'imUserType': '2', 'recruiterName': '吴女士', 'recruiterTitle': 'HR Officer'}, 'comp': {'compId': 8112968, 'compLogo': '6274ee6d04a5ff469b10880402u.png', 'compName': '仙婷集团', 'compScale': '50-99人', 'compIndustry': '贸易/进出口', 'link': 'https://www.liepin.com/company/8112968/'}, 'dataInfo': '%7B%22as_from%22%3A%22search_prime%22%2C%22ckId%22%3A%22h2c8pxojavrmo1w785z7ueih2ybfpux8%22%2C%22scene%22%3A%22input%22%2C%22skId%22%3A%22h2c8pxojavrmo1w785z7ueih2ybfpux8%22%2C%22fkId%22%3A%22h2c8pxojavrmo1w785z7ueih2ybfpux8%22%2C%22jobId%22%3A%2262080471%22%2C%22jobKind%22%3A%222%22%2C%22sfrom%22%3A%22search_job_pc%22%2C%22pageSize%22%3A%2240%22%2C%22curPage%22%3A%220%22%2C%22d_curPage%22%3A%220%22%2C%22d_pageSize%22%3A%2240%22%7D', 'dataParams': '{\"recruiterPhoto\":\"5f8f98648dbe6273dcf8515508u.jpg\",\"jobId\":\"62080471\",\"imId\":\"0ce6f53a162e27cc9427b88c78d2ff1f\",\"imUserType\":\"2\",\"jobKind\":\"2\",\"userId\":\"14799e1bef289c70aa9b550257de7ea8\",\"recruiterName\":\"吴女士\"}'}, {'job': {'labels': [], 'requireEduLevel': '本科', 'dataPromId': 'd_sfrom=search_prime&d_ckId=null&d_curPage=0&d_pageSize=40&d_headId=null&d_posi=3&skId=h2c8pxojavrmo1w785z7ueih2ybfpux8&fkId=h2c8pxojavrmo1w785z7ueih2ybfpux8&ckId=h2c8pxojavrmo1w785z7ueih2ybfpux8&sfrom=search_job_pc&curPage=0&pageSize=40&index=3', 'title': '口腔护理产品经理/Oral Product Manager', 'jobId': '50919815', 'salary': '18-28k·14薪', 'requireWorkYears': '经验不限', 'jobKind': '1', 'topJob': False, 'link': 'https://www.liepin.com/a/50919815.shtml', 'refreshTime': '20231215162631', 'dq': '广州', 'advViewFlag': False}, 'recruiter': {'recruiterPhoto': '5df9da4ecd52473b940aa61d06u.jpg', 'recruiterId': '8c8180877842a91f8f5f6e759dc9c471', 'chatted': False, 'imId': 'ca233b3cc0d7ec89c62c94f01ec83e9b', 'imUserType': '2', 'recruiterName': '朱先生', 'recruiterTitle': '猎头顾问'}, 'comp': {'compStage': '融资未公开', 'compLogo': '60e2fe0bf3df194a3c48adb502u.png', 'compName': '某广州贸易进出口公司', 'compScale': '50-99人', 'compIndustry': '贸易/进出口', 'link': ''}, 'dataInfo': '%7B%22as_from%22%3A%22search_prime%22%2C%22ckId%22%3A%22h2c8pxojavrmo1w785z7ueih2ybfpux8%22%2C%22scene%22%3A%22input%22%2C%22skId%22%3A%22h2c8pxojavrmo1w785z7ueih2ybfpux8%22%2C%22fkId%22%3A%22h2c8pxojavrmo1w785z7ueih2ybfpux8%22%2C%22jobId%22%3A%2250919815%22%2C%22jobKind%22%3A%221%22%2C%22sfrom%22%3A%22search_job_pc%22%2C%22pageSize%22%3A%2240%22%2C%22curPage%22%3A%220%22%2C%22d_curPage%22%3A%220%22%2C%22d_pageSize%22%3A%2240%22%7D', 'dataParams': '{\"recruiterPhoto\":\"5df9da4ecd52473b940aa61d06u.jpg\",\"jobId\":\"50919815\",\"imId\":\"ca233b3cc0d7ec89c62c94f01ec83e9b\",\"imUserType\":\"2\",\"jobKind\":\"1\",\"userId\":\"8c8180877842a91f8f5f6e759dc9c471\",\"recruiterName\":\"朱先生\"}'}, {'job': {'labels': ['金融产品', '保险行业', '产品规划', '团队管理', '数据分析'], 'requireEduLevel': '统招本科', 'dataPromId': 'd_sfrom=search_prime&d_ckId=null&d_curPage=0&d_pageSize=40&d_headId=null&d_posi=4&skId=h2c8pxojavrmo1w785z7ueih2ybfpux8&fkId=h2c8pxojavrmo1w785z7ueih2ybfpux8&ckId=h2c8pxojavrmo1w785z7ueih2ybfpux8&sfrom=search_job_pc&curPage=0&pageSize=40&index=4', 'title': 'Product Manager产品经理', 'jobId': '51322725', 'salary': '15-25k', 'requireWorkYears': '5-10年', 'jobKind': '1', 'topJob': False, 'link': 'https://www.liepin.com/a/51322725.shtml', 'refreshTime': '20231213103804', 'dq': '广州-天河区', 'advViewFlag': False}, 'recruiter': {'recruiterPhoto': '5b7ccdab8e5016e5665bac4d04a.jpg', 'recruiterId': '7ebfdfd05c30c3a937ba5fedca246f3d', 'chatted': False, 'imId': '6d1de177e686e34ce37b0b202b2adc1c', 'imUserType': '2', 'recruiterName': '江女士', 'recruiterTitle': '猎头顾问'}, 'comp': {'compStage': '融资未公开', 'compLogo': '60e2fe0bf3df194a3c48adb502u.png', 'compName': '某广州IT服务公司', 'compScale': '100-499人', 'compIndustry': 'IT服务', 'link': ''}, 'dataInfo': '%7B%22as_from%22%3A%22search_prime%22%2C%22ckId%22%3A%22h2c8pxojavrmo1w785z7ueih2ybfpux8%22%2C%22scene%22%3A%22input%22%2C%22skId%22%3A%22h2c8pxojavrmo1w785z7ueih2ybfpux8%22%2C%22fkId%22%3A%22h2c8pxojavrmo1w785z7ueih2ybfpux8%22%2C%22jobId%22%3A%2251322725%22%2C%22jobKind%22%3A%221%22%2C%22sfrom%22%3A%22search_job_pc%22%2C%22pageSize%22%3A%2240%22%2C%22curPage%22%3A%220%22%2C%22d_curPage%22%3A%220%22%2C%22d_pageSize%22%3A%2240%22%7D', 'dataParams': '{\"recruiterPhoto\":\"5b7ccdab8e5016e5665bac4d04a.jpg\",\"jobId\":\"51322725\",\"imId\":\"6d1de177e686e34ce37b0b202b2adc1c\",\"imUserType\":\"2\",\"jobKind\":\"1\",\"userId\":\"7ebfdfd05c30c3a937ba5fedca246f3d\",\"recruiterName\":\"江女士\"}'}, {'job': {'labels': ['中央市场产品经理经验'], 'requireEduLevel': '统招本科', 'dataPromId': 'd_sfrom=search_prime&d_ckId=null&d_curPage=0&d_pageSize=40&d_headId=null&d_posi=5&skId=h2c8pxojavrmo1w785z7ueih2ybfpux8&fkId=h2c8pxojavrmo1w785z7ueih2ybfpux8&ckId=h2c8pxojavrmo1w785z7ueih2ybfpux8&sfrom=search_job_pc&curPage=0&pageSize=40&index=5', 'title': '产品经理PM（慢病）广东灵活base', 'jobId': '50820025', 'salary': '20-30k', 'requireWorkYears': '经验不限', 'jobKind': '1', 'topJob': False, 'link': 'https://www.liepin.com/a/50820025.shtml', 'refreshTime': '20231217193716', 'dq': '广州', 'advViewFlag': False}, 'recruiter': {'recruiterPhoto': '6231b0d9da1d3077a00fb14c01u.png', 'recruiterId': 'e2bbf25c0098de6f7ef83d3cb1f32d26', 'chatted': False, 'imId': '2c9e72fbdf2bd8d599eeb040770b0b48', 'imUserType': '2', 'recruiterName': '周先生', 'recruiterTitle': '猎头顾问'}, 'comp': {'compStage': '已上市', 'compLogo': '60e2fe0bf3df194a3c48adb502u.png', 'compName': '大型制药集团公司', 'compScale': '10000人以上', 'compIndustry': '制药/生物工程', 'link': ''}, 'dataInfo': '%7B%22as_from%22%3A%22search_prime%22%2C%22ckId%22%3A%22h2c8pxojavrmo1w785z7ueih2ybfpux8%22%2C%22scene%22%3A%22input%22%2C%22skId%22%3A%22h2c8pxojavrmo1w785z7ueih2ybfpux8%22%2C%22fkId%22%3A%22h2c8pxojavrmo1w785z7ueih2ybfpux8%22%2C%22jobId%22%3A%2250820025%22%2C%22jobKind%22%3A%221%22%2C%22sfrom%22%3A%22search_job_pc%22%2C%22pageSize%22%3A%2240%22%2C%22curPage%22%3A%220%22%2C%22d_curPage%22%3A%220%22%2C%22d_pageSize%22%3A%2240%22%7D', 'dataParams': '{\"recruiterPhoto\":\"6231b0d9da1d3077a00fb14c01u.png\",\"jobId\":\"50820025\",\"imId\":\"2c9e72fbdf2bd8d599eeb040770b0b48\",\"imUserType\":\"2\",\"jobKind\":\"1\",\"userId\":\"e2bbf25c0098de6f7ef83d3cb1f32d26\",\"recruiterName\":\"周先生\"}'}, {'job': {'labels': ['神外', '医生'], 'requireEduLevel': '统招本科', 'dataPromId': 'd_sfrom=search_prime&d_ckId=null&d_curPage=0&d_pageSize=40&d_headId=null&d_posi=6&skId=h2c8pxojavrmo1w785z7ueih2ybfpux8&fkId=h2c8pxojavrmo1w785z7ueih2ybfpux8&ckId=h2c8pxojavrmo1w785z7ueih2ybfpux8&sfrom=search_job_pc&curPage=0&pageSize=40&index=6', 'title': '神外产品销售经理 Product Sales Manager', 'jobId': '58215521', 'salary': '12-15k·15薪', 'requireWorkYears': '1-3年', 'jobKind': '2', 'topJob': False, 'link': 'https://www.liepin.com/job/1958215521.shtml', 'refreshTime': '20230428143658', 'dq': '广州-越秀区', 'advViewFlag': False, 'pcOuterLink': '', 'h5OuterLink': ''}, 'recruiter': {'recruiterPhoto': '5f8f986aea60860b75384fab08u.jpg', 'recruiterId': '5445ba45a2189a2b1a078f176245fc3b', 'chatted': False, 'imId': 'f8a500e0eab81d475153eb2d84a8b1de', 'imUserType': '2', 'recruiterName': '张先生', 'recruiterTitle': '人力资源专员'}, 'comp': {'compId': 7023768, 'compStage': '已上市', 'compLogo': '5bfe9d4974719d2aa34b5ab303a.png', 'compName': '复星医药集团', 'compScale': '10000人以上', 'compIndustry': '制药', 'link': 'https://www.liepin.com/company/7023768/'}, 'dataInfo': '%7B%22as_from%22%3A%22search_prime%22%2C%22ckId%22%3A%22h2c8pxojavrmo1w785z7ueih2ybfpux8%22%2C%22scene%22%3A%22input%22%2C%22skId%22%3A%22h2c8pxojavrmo1w785z7ueih2ybfpux8%22%2C%22fkId%22%3A%22h2c8pxojavrmo1w785z7ueih2ybfpux8%22%2C%22jobId%22%3A%2258215521%22%2C%22jobKind%22%3A%222%22%2C%22sfrom%22%3A%22search_job_pc%22%2C%22pageSize%22%3A%2240%22%2C%22curPage%22%3A%220%22%2C%22d_curPage%22%3A%220%22%2C%22d_pageSize%22%3A%2240%22%7D', 'dataParams': '{\"recruiterPhoto\":\"5f8f986aea60860b75384fab08u.jpg\",\"jobId\":\"58215521\",\"imId\":\"f8a500e0eab81d475153eb2d84a8b1de\",\"imUserType\":\"2\",\"jobKind\":\"2\",\"userId\":\"5445ba45a2189a2b1a078f176245fc3b\",\"recruiterName\":\"张先生\"}'}, {'job': {'labels': [], 'requireEduLevel': '本科', 'dataPromId': 'd_sfrom=search_prime&d_ckId=null&d_curPage=0&d_pageSize=40&d_headId=null&d_posi=7&skId=h2c8pxojavrmo1w785z7ueih2ybfpux8&fkId=h2c8pxojavrmo1w785z7ueih2ybfpux8&ckId=h2c8pxojavrmo1w785z7ueih2ybfpux8&sfrom=search_job_pc&curPage=0&pageSize=40&index=7', 'title': '产品经理-广州 (MJ003531)', 'jobId': '63149957', 'salary': '20-30k·14薪', 'requireWorkYears': '5-10年', 'jobKind': '2', 'topJob': False, 'link': 'https://www.liepin.com/job/1963149957.shtml', 'refreshTime': '20231205163202', 'dq': '广州-天河区', 'advViewFlag': False, 'pcOuterLink': '', 'h5OuterLink': ''}, 'recruiter': {'recruiterPhoto': '594288437032b79cf8db769e04a.jpg', 'recruiterId': '601d8aa7f0d90922b1e4821fa7826444', 'chatted': False, 'imId': '74d9d3867489c6a9ad8732728d6065d6', 'imUserType': '2', 'recruiterName': '孙女士', 'recruiterTitle': '招聘经理'}, 'comp': {'compId': 8789859, 'compStage': 'D轮', 'compLogo': '5bfe962874719df0ac98f7d503a.png', 'compName': '广东天普生化医药股份有限公司', 'compScale': '5000-10000人', 'compIndustry': '制药', 'link': 'https://www.liepin.com/company/8789859/'}, 'dataInfo': '%7B%22as_from%22%3A%22search_prime%22%2C%22ckId%22%3A%22h2c8pxojavrmo1w785z7ueih2ybfpux8%22%2C%22scene%22%3A%22input%22%2C%22skId%22%3A%22h2c8pxojavrmo1w785z7ueih2ybfpux8%22%2C%22fkId%22%3A%22h2c8pxojavrmo1w785z7ueih2ybfpux8%22%2C%22jobId%22%3A%2263149957%22%2C%22jobKind%22%3A%222%22%2C%22sfrom%22%3A%22search_job_pc%22%2C%22pageSize%22%3A%2240%22%2C%22curPage%22%3A%220%22%2C%22d_curPage%22%3A%220%22%2C%22d_pageSize%22%3A%2240%22%7D', 'dataParams': '{\"recruiterPhoto\":\"594288437032b79cf8db769e04a.jpg\",\"jobId\":\"63149957\",\"imId\":\"74d9d3867489c6a9ad8732728d6065d6\",\"imUserType\":\"2\",\"jobKind\":\"2\",\"userId\":\"601d8aa7f0d90922b1e4821fa7826444\",\"recruiterName\":\"孙女士\"}'}, {'job': {'labels': [], 'requireEduLevel': '本科', 'dataPromId': 'd_sfrom=search_prime&d_ckId=null&d_curPage=0&d_pageSize=40&d_headId=null&d_posi=8&skId=h2c8pxojavrmo1w785z7ueih2ybfpux8&fkId=h2c8pxojavrmo1w785z7ueih2ybfpux8&ckId=h2c8pxojavrmo1w785z7ueih2ybfpux8&sfrom=search_job_pc&curPage=0&pageSize=40&index=8', 'title': 'CT 产品销售经理 广州/武汉', 'jobId': '61288741', 'salary': '薪资面议', 'requireWorkYears': '5-10年', 'jobKind': '2', 'topJob': False, 'link': 'https://www.liepin.com/job/1961288741.shtml', 'refreshTime': '20230831193805', 'dq': '广州-越秀区', 'advViewFlag': False, 'pcOuterLink': '', 'h5OuterLink': ''}, 'recruiter': {'recruiterPhoto': '5f8f98648dbe6273dcf8515508u.jpg', 'recruiterId': 'f08748e81b3b0757d734fc6b171fa589', 'chatted': False, 'imId': '8595d9ba8d1a1a2d801c17c79e240538', 'imUserType': '2', 'recruiterName': '翁女士', 'recruiterTitle': 'Recruiter-Talent Acquisition'}, 'comp': {'compId': 8916227, 'compLogo': '5c0dfd9f570cb120f184080203u.jpg', 'compName': '西门子医疗系统', 'compScale': '5000-10000人', 'compIndustry': '医疗器械', 'link': 'https://www.liepin.com/company/8916227/'}, 'dataInfo': '%7B%22as_from%22%3A%22search_prime%22%2C%22ckId%22%3A%22h2c8pxojavrmo1w785z7ueih2ybfpux8%22%2C%22scene%22%3A%22input%22%2C%22skId%22%3A%22h2c8pxojavrmo1w785z7ueih2ybfpux8%22%2C%22fkId%22%3A%22h2c8pxojavrmo1w785z7ueih2ybfpux8%22%2C%22jobId%22%3A%2261288741%22%2C%22jobKind%22%3A%222%22%2C%22sfrom%22%3A%22search_job_pc%22%2C%22pageSize%22%3A%2240%22%2C%22curPage%22%3A%220%22%2C%22d_curPage%22%3A%220%22%2C%22d_pageSize%22%3A%2240%22%7D', 'dataParams': '{\"recruiterPhoto\":\"5f8f98648dbe6273dcf8515508u.jpg\",\"jobId\":\"61288741\",\"imId\":\"8595d9ba8d1a1a2d801c17c79e240538\",\"imUserType\":\"2\",\"jobKind\":\"2\",\"userId\":\"f08748e81b3b0757d734fc6b171fa589\",\"recruiterName\":\"翁女士\"}'}, {'job': {'labels': ['渠道销售', '销售管理', '客户管理'], 'requireEduLevel': '统招本科', 'dataPromId': 'd_sfrom=search_prime&d_ckId=null&d_curPage=0&d_pageSize=40&d_headId=null&d_posi=9&skId=h2c8pxojavrmo1w785z7ueih2ybfpux8&fkId=h2c8pxojavrmo1w785z7ueih2ybfpux8&ckId=h2c8pxojavrmo1w785z7ueih2ybfpux8&sfrom=search_job_pc&curPage=0&pageSize=40&index=9', 'title': '神经介入产品经理(156582)', 'jobId': '51448799', 'salary': '15-25k·13薪', 'requireWorkYears': '3-5年', 'jobKind': '1', 'topJob': False, 'link': 'https://www.liepin.com/a/51448799.shtml', 'refreshTime': '20231215091714', 'dq': '广州-天河区', 'advViewFlag': False}, 'recruiter': {'recruiterPhoto': '655b1befd54c7f1107c7cbbb04u.jpeg', 'recruiterId': 'bb614f5d9f286a56454d65a43a2f9384', 'chatted': False, 'imId': 'c2b5bab9783fbe731b4fb320fc878e26', 'imUserType': '2', 'recruiterName': '陈女士', 'recruiterTitle': '猎头顾问'}, 'comp': {'compLogo': '60e2fe0bf3df194a3c48adb502u.png', 'compName': '某上海贸易进出口公司', 'compScale': '1-49人', 'compIndustry': '贸易/进出口', 'link': ''}, 'dataInfo': '%7B%22as_from%22%3A%22search_prime%22%2C%22ckId%22%3A%22h2c8pxojavrmo1w785z7ueih2ybfpux8%22%2C%22scene%22%3A%22input%22%2C%22skId%22%3A%22h2c8pxojavrmo1w785z7ueih2ybfpux8%22%2C%22fkId%22%3A%22h2c8pxojavrmo1w785z7ueih2ybfpux8%22%2C%22jobId%22%3A%2251448799%22%2C%22jobKind%22%3A%221%22%2C%22sfrom%22%3A%22search_job_pc%22%2C%22pageSize%22%3A%2240%22%2C%22curPage%22%3A%220%22%2C%22d_curPage%22%3A%220%22%2C%22d_pageSize%22%3A%2240%22%7D', 'dataParams': '{\"recruiterPhoto\":\"655b1befd54c7f1107c7cbbb04u.jpeg\",\"jobId\":\"51448799\",\"imId\":\"c2b5bab9783fbe731b4fb320fc878e26\",\"imUserType\":\"2\",\"jobKind\":\"1\",\"userId\":\"bb614f5d9f286a56454d65a43a2f9384\",\"recruiterName\":\"陈女士\"}'}, {'job': {'labels': [], 'requireEduLevel': '硕士', 'dataPromId': 'd_sfrom=search_prime&d_ckId=null&d_curPage=0&d_pageSize=40&d_headId=null&d_posi=10&skId=h2c8pxojavrmo1w785z7ueih2ybfpux8&fkId=h2c8pxojavrmo1w785z7ueih2ybfpux8&ckId=h2c8pxojavrmo1w785z7ueih2ybfpux8&sfrom=search_job_pc&curPage=0&pageSize=40&index=10', 'title': 'Product Manager', 'jobId': '51341685', 'salary': '35-50k', 'requireWorkYears': '5-10年', 'jobKind': '1', 'topJob': False, 'link': 'https://www.liepin.com/a/51341685.shtml', 'refreshTime': '20231204163740', 'dq': '广州-天河区', 'advViewFlag': False}, 'recruiter': {'recruiterPhoto': '5f8fa3bdea60860b75385c7e08u.png', 'recruiterId': '82de75a2c58dde5bb73559033c48ec7b', 'chatted': False, 'imId': '413481a86a4a4105361cc4c1c85cc0f8', 'imUserType': '2', 'recruiterName': '黄女士', 'recruiterTitle': '猎头顾问'}, 'comp': {'compLogo': '60e2fe0bf3df194a3c48adb502u.png', 'compName': '某知名公司', 'compScale': '100-499人', 'compIndustry': '机械/设备', 'link': ''}, 'dataInfo': '%7B%22as_from%22%3A%22search_prime%22%2C%22ckId%22%3A%22h2c8pxojavrmo1w785z7ueih2ybfpux8%22%2C%22scene%22%3A%22input%22%2C%22skId%22%3A%22h2c8pxojavrmo1w785z7ueih2ybfpux8%22%2C%22fkId%22%3A%22h2c8pxojavrmo1w785z7ueih2ybfpux8%22%2C%22jobId%22%3A%2251341685%22%2C%22jobKind%22%3A%221%22%2C%22sfrom%22%3A%22search_job_pc%22%2C%22pageSize%22%3A%2240%22%2C%22curPage%22%3A%220%22%2C%22d_curPage%22%3A%220%22%2C%22d_pageSize%22%3A%2240%22%7D', 'dataParams': '{\"recruiterPhoto\":\"5f8fa3bdea60860b75385c7e08u.png\",\"jobId\":\"51341685\",\"imId\":\"413481a86a4a4105361cc4c1c85cc0f8\",\"imUserType\":\"2\",\"jobKind\":\"1\",\"userId\":\"82de75a2c58dde5bb73559033c48ec7b\",\"recruiterName\":\"黄女士\"}'}, {'job': {'labels': ['招商产品经理'], 'requireEduLevel': '统招本科', 'dataPromId': 'd_sfrom=search_prime&d_ckId=null&d_curPage=0&d_pageSize=40&d_headId=null&d_posi=11&skId=h2c8pxojavrmo1w785z7ueih2ybfpux8&fkId=h2c8pxojavrmo1w785z7ueih2ybfpux8&ckId=h2c8pxojavrmo1w785z7ueih2ybfpux8&sfrom=search_job_pc&curPage=0&pageSize=40&index=11', 'title': '产品经理', 'jobId': '51098757', 'salary': '20-30k·14薪', 'requireWorkYears': '3-5年', 'jobKind': '1', 'topJob': False, 'link': 'https://www.liepin.com/a/51098757.shtml', 'refreshTime': '20231215090853', 'dq': '广州', 'advViewFlag': False}, 'recruiter': {'recruiterPhoto': '63feb4168215c0586b782b5306u.jpeg', 'recruiterId': 'aa962e4752fbca291f08f73ae1fac03f', 'chatted': False, 'imId': '5d74db042f5fd415f76fdb90ccba96fb', 'imUserType': '2', 'recruiterName': '刘女士', 'recruiterTitle': '猎头顾问'}, 'comp': {'compStage': '已上市', 'compLogo': '60e2fe0bf3df194a3c48adb502u.png', 'compName': '某广州知名制药公司', 'compScale': '500-999人', 'compIndustry': '制药', 'link': ''}, 'dataInfo': '%7B%22as_from%22%3A%22search_prime%22%2C%22ckId%22%3A%22h2c8pxojavrmo1w785z7ueih2ybfpux8%22%2C%22scene%22%3A%22input%22%2C%22skId%22%3A%22h2c8pxojavrmo1w785z7ueih2ybfpux8%22%2C%22fkId%22%3A%22h2c8pxojavrmo1w785z7ueih2ybfpux8%22%2C%22jobId%22%3A%2251098757%22%2C%22jobKind%22%3A%221%22%2C%22sfrom%22%3A%22search_job_pc%22%2C%22pageSize%22%3A%2240%22%2C%22curPage%22%3A%220%22%2C%22d_curPage%22%3A%220%22%2C%22d_pageSize%22%3A%2240%22%7D', 'dataParams': '{\"recruiterPhoto\":\"63feb4168215c0586b782b5306u.jpeg\",\"jobId\":\"51098757\",\"imId\":\"5d74db042f5fd415f76fdb90ccba96fb\",\"imUserType\":\"2\",\"jobKind\":\"1\",\"userId\":\"aa962e4752fbca291f08f73ae1fac03f\",\"recruiterName\":\"刘女士\"}'}, {'job': {'labels': ['产品经理', '车身电子模块'], 'requireEduLevel': '本科', 'dataPromId': 'd_sfrom=search_prime&d_ckId=null&d_curPage=0&d_pageSize=40&d_headId=null&d_posi=12&skId=h2c8pxojavrmo1w785z7ueih2ybfpux8&fkId=h2c8pxojavrmo1w785z7ueih2ybfpux8&ckId=h2c8pxojavrmo1w785z7ueih2ybfpux8&sfrom=search_job_pc&curPage=0&pageSize=40&index=12', 'title': '产品经理-汽车车身电子域控', 'jobId': '49625465', 'salary': '40-50k·15薪', 'requireWorkYears': '5-10年', 'jobKind': '1', 'topJob': False, 'link': 'https://www.liepin.com/a/49625465.shtml', 'refreshTime': '20231215092709', 'dq': '广州', 'advViewFlag': False}, 'recruiter': {'recruiterPhoto': '618374e44ef3c506648f576402u.png', 'recruiterId': '41fa653e194c220ad46c8825140e3e22', 'chatted': False, 'imId': '620910a8fc740c479b730e23f2bd8f83', 'imUserType': '2', 'recruiterName': '赵先生', 'recruiterTitle': '猎头顾问'}, 'comp': {'compStage': '融资未公开', 'compLogo': '60e2fe0bf3df194a3c48adb502u.png', 'compName': '某广州大型整车制造公司', 'compScale': '10000人以上', 'compIndustry': '汽车零部件及配件', 'link': ''}, 'dataInfo': '%7B%22as_from%22%3A%22search_prime%22%2C%22ckId%22%3A%22h2c8pxojavrmo1w785z7ueih2ybfpux8%22%2C%22scene%22%3A%22input%22%2C%22skId%22%3A%22h2c8pxojavrmo1w785z7ueih2ybfpux8%22%2C%22fkId%22%3A%22h2c8pxojavrmo1w785z7ueih2ybfpux8%22%2C%22jobId%22%3A%2249625465%22%2C%22jobKind%22%3A%221%22%2C%22sfrom%22%3A%22search_job_pc%22%2C%22pageSize%22%3A%2240%22%2C%22curPage%22%3A%220%22%2C%22d_curPage%22%3A%220%22%2C%22d_pageSize%22%3A%2240%22%7D', 'dataParams': '{\"recruiterPhoto\":\"618374e44ef3c506648f576402u.png\",\"jobId\":\"49625465\",\"imId\":\"620910a8fc740c479b730e23f2bd8f83\",\"imUserType\":\"2\",\"jobKind\":\"1\",\"userId\":\"41fa653e194c220ad46c8825140e3e22\",\"recruiterName\":\"赵先生\"}'}, {'job': {'labels': ['O2O'], 'requireEduLevel': '统招本科', 'dataPromId': 'd_sfrom=search_prime&d_ckId=null&d_curPage=0&d_pageSize=40&d_headId=null&d_posi=13&skId=h2c8pxojavrmo1w785z7ueih2ybfpux8&fkId=h2c8pxojavrmo1w785z7ueih2ybfpux8&ckId=h2c8pxojavrmo1w785z7ueih2ybfpux8&sfrom=search_job_pc&curPage=0&pageSize=40&index=13', 'title': 'Global Product Manager Trainee  (MJ006226)', 'jobId': '61281705', 'salary': '15-30k·13薪', 'requireWorkYears': '1-3年', 'jobKind': '2', 'topJob': False, 'link': 'https://www.liepin.com/job/1961281705.shtml', 'refreshTime': '20231117174851', 'dq': '广州-番禺区', 'advViewFlag': False, 'pcOuterLink': '', 'h5OuterLink': ''}, 'recruiter': {'recruiterPhoto': '5f8f986779c7cc70efbf36c008u.jpg', 'recruiterId': 'afbf12d877df8a7a4702592abf81987c', 'chatted': False, 'imId': '794026459431c35e9941166e65ebdb6f', 'imUserType': '2', 'recruiterName': '刘女士', 'recruiterTitle': '人事'}, 'comp': {'compId': 930104, 'compStage': '美股上市', 'compLogo': '5e13ea35643e6e53a878611508u.jpg', 'compName': '欢聚集团', 'compScale': '5000-10000人', 'compIndustry': '互联网', 'link': 'https://www.liepin.com/company/930104/'}, 'dataInfo': '%7B%22as_from%22%3A%22search_prime%22%2C%22ckId%22%3A%22h2c8pxojavrmo1w785z7ueih2ybfpux8%22%2C%22scene%22%3A%22input%22%2C%22skId%22%3A%22h2c8pxojavrmo1w785z7ueih2ybfpux8%22%2C%22fkId%22%3A%22h2c8pxojavrmo1w785z7ueih2ybfpux8%22%2C%22jobId%22%3A%2261281705%22%2C%22jobKind%22%3A%222%22%2C%22sfrom%22%3A%22search_job_pc%22%2C%22pageSize%22%3A%2240%22%2C%22curPage%22%3A%220%22%2C%22d_curPage%22%3A%220%22%2C%22d_pageSize%22%3A%2240%22%7D', 'dataParams': '{\"recruiterPhoto\":\"5f8f986779c7cc70efbf36c008u.jpg\",\"jobId\":\"61281705\",\"imId\":\"794026459431c35e9941166e65ebdb6f\",\"imUserType\":\"2\",\"jobKind\":\"2\",\"userId\":\"afbf12d877df8a7a4702592abf81987c\",\"recruiterName\":\"刘女士\"}'}, {'job': {'labels': ['产品策略', '爆品', '母婴', '美妆', '产品策划', '电商'], 'requireEduLevel': '本科', 'dataPromId': 'd_sfrom=search_prime&d_ckId=null&d_curPage=0&d_pageSize=40&d_headId=null&d_posi=14&skId=h2c8pxojavrmo1w785z7ueih2ybfpux8&fkId=h2c8pxojavrmo1w785z7ueih2ybfpux8&ckId=h2c8pxojavrmo1w785z7ueih2ybfpux8&sfrom=search_job_pc&curPage=0&pageSize=40&index=14', 'title': '产品策划经理', 'jobId': '58870277', 'salary': '18-30k', 'requireWorkYears': '5-10年', 'jobKind': '2', 'topJob': False, 'link': 'https://www.liepin.com/job/1958870277.shtml', 'refreshTime': '20231214185356', 'dq': '广州-白云区', 'advViewFlag': False, 'pcOuterLink': '', 'h5OuterLink': ''}, 'recruiter': {'recruiterPhoto': '5f8f9863f6d1ab58476f246a08u.jpg', 'recruiterId': '1b2d3c696b09ca69b0e5f3264419b081', 'chatted': False, 'imId': '556085ce1cfb1ea84c7b9da341e06feb', 'imUserType': '2', 'recruiterName': '黄女士', 'recruiterTitle': 'HRBP经理'}, 'comp': {'compId': 9660700, 'compLogo': '5f30a76e556e7a7b1280cc3006u.png', 'compName': '嫚熙控股(广州)有限公司', 'compScale': '1000-2000人', 'compIndustry': '互联网', 'link': 'https://www.liepin.com/company/9660700/'}, 'dataInfo': '%7B%22as_from%22%3A%22search_prime%22%2C%22ckId%22%3A%22h2c8pxojavrmo1w785z7ueih2ybfpux8%22%2C%22scene%22%3A%22input%22%2C%22skId%22%3A%22h2c8pxojavrmo1w785z7ueih2ybfpux8%22%2C%22fkId%22%3A%22h2c8pxojavrmo1w785z7ueih2ybfpux8%22%2C%22jobId%22%3A%2258870277%22%2C%22jobKind%22%3A%222%22%2C%22sfrom%22%3A%22search_job_pc%22%2C%22pageSize%22%3A%2240%22%2C%22curPage%22%3A%220%22%2C%22d_curPage%22%3A%220%22%2C%22d_pageSize%22%3A%2240%22%7D', 'dataParams': '{\"recruiterPhoto\":\"5f8f9863f6d1ab58476f246a08u.jpg\",\"jobId\":\"58870277\",\"imId\":\"556085ce1cfb1ea84c7b9da341e06feb\",\"imUserType\":\"2\",\"jobKind\":\"2\",\"userId\":\"1b2d3c696b09ca69b0e5f3264419b081\",\"recruiterName\":\"黄女士\"}'}, {'job': {'labels': ['AIGC', 'AI产品'], 'requireEduLevel': '统招本科', 'dataPromId': 'd_sfrom=search_prime&d_ckId=null&d_curPage=0&d_pageSize=40&d_headId=null&d_posi=15&skId=h2c8pxojavrmo1w785z7ueih2ybfpux8&fkId=h2c8pxojavrmo1w785z7ueih2ybfpux8&ckId=h2c8pxojavrmo1w785z7ueih2ybfpux8&sfrom=search_job_pc&curPage=0&pageSize=40&index=15', 'title': 'AIGC营销产品经理', 'jobId': '47365799', 'salary': '35-45k', 'requireWorkYears': '3-5年', 'jobKind': '1', 'topJob': False, 'link': 'https://www.liepin.com/a/47365799.shtml', 'refreshTime': '20231215145636', 'dq': '广州', 'advViewFlag': False}, 'recruiter': {'recruiterPhoto': '608c916063e75e67cfb39bdc05u.png', 'recruiterId': 'd82443182845f7d6e5afd23549098fa1', 'chatted': False, 'imId': 'c2f0b8b1f0fe91f9e030375514342674', 'imUserType': '2', 'recruiterName': '杨女士', 'recruiterTitle': '猎头顾问'}, 'comp': {'compStage': '已上市', 'compLogo': '60e2fe0bf3df194a3c48adb502u.png', 'compName': '某知名公司', 'compScale': '100-499人', 'compIndustry': '广告/公关/会展', 'link': ''}, 'dataInfo': '%7B%22as_from%22%3A%22search_prime%22%2C%22ckId%22%3A%22h2c8pxojavrmo1w785z7ueih2ybfpux8%22%2C%22scene%22%3A%22input%22%2C%22skId%22%3A%22h2c8pxojavrmo1w785z7ueih2ybfpux8%22%2C%22fkId%22%3A%22h2c8pxojavrmo1w785z7ueih2ybfpux8%22%2C%22jobId%22%3A%2247365799%22%2C%22jobKind%22%3A%221%22%2C%22sfrom%22%3A%22search_job_pc%22%2C%22pageSize%22%3A%2240%22%2C%22curPage%22%3A%220%22%2C%22d_curPage%22%3A%220%22%2C%22d_pageSize%22%3A%2240%22%7D', 'dataParams': '{\"recruiterPhoto\":\"608c916063e75e67cfb39bdc05u.png\",\"jobId\":\"47365799\",\"imId\":\"c2f0b8b1f0fe91f9e030375514342674\",\"imUserType\":\"2\",\"jobKind\":\"1\",\"userId\":\"d82443182845f7d6e5afd23549098fa1\",\"recruiterName\":\"杨女士\"}'}, {'job': {'labels': [], 'requireEduLevel': '本科', 'dataPromId': 'd_sfrom=search_prime&d_ckId=null&d_curPage=0&d_pageSize=40&d_headId=null&d_posi=16&skId=h2c8pxojavrmo1w785z7ueih2ybfpux8&fkId=h2c8pxojavrmo1w785z7ueih2ybfpux8&ckId=h2c8pxojavrmo1w785z7ueih2ybfpux8&sfrom=search_job_pc&curPage=0&pageSize=40&index=16', 'title': 'Automation Product Manager', 'jobId': '56876529', 'salary': '20-40k·13薪', 'requireWorkYears': '5-10年', 'jobKind': '2', 'topJob': False, 'link': 'https://www.liepin.com/job/1956876529.shtml', 'refreshTime': '20230626175056', 'dq': '广州-天河区', 'advViewFlag': False, 'pcOuterLink': '', 'h5OuterLink': ''}, 'recruiter': {'recruiterPhoto': '5f8f98648dbe6273dcf8515508u.jpg', 'recruiterId': '57a52ed73fed146b4c632be0178bfd3f', 'chatted': False, 'imId': '24c1cab13ef9bc2e801c17c79e240538', 'imUserType': '2', 'recruiterName': '王女士', 'recruiterTitle': '人力资源专员'}, 'comp': {'compId': 8506529, 'compLogo': '652cc8f450dc1d7858fd548107u.png', 'compName': '丹纳赫', 'compScale': '5000-10000人', 'compIndustry': '医疗器械', 'link': 'https://www.liepin.com/company/8506529/'}, 'dataInfo': '%7B%22as_from%22%3A%22search_prime%22%2C%22ckId%22%3A%22h2c8pxojavrmo1w785z7ueih2ybfpux8%22%2C%22scene%22%3A%22input%22%2C%22skId%22%3A%22h2c8pxojavrmo1w785z7ueih2ybfpux8%22%2C%22fkId%22%3A%22h2c8pxojavrmo1w785z7ueih2ybfpux8%22%2C%22jobId%22%3A%2256876529%22%2C%22jobKind%22%3A%222%22%2C%22sfrom%22%3A%22search_job_pc%22%2C%22pageSize%22%3A%2240%22%2C%22curPage%22%3A%220%22%2C%22d_curPage%22%3A%220%22%2C%22d_pageSize%22%3A%2240%22%7D', 'dataParams': '{\"recruiterPhoto\":\"5f8f98648dbe6273dcf8515508u.jpg\",\"jobId\":\"56876529\",\"imId\":\"24c1cab13ef9bc2e801c17c79e240538\",\"imUserType\":\"2\",\"jobKind\":\"2\",\"userId\":\"57a52ed73fed146b4c632be0178bfd3f\",\"recruiterName\":\"王女士\"}'}, {'job': {'labels': [], 'requireEduLevel': '本科', 'dataPromId': 'd_sfrom=search_prime&d_ckId=null&d_curPage=0&d_pageSize=40&d_headId=null&d_posi=17&skId=h2c8pxojavrmo1w785z7ueih2ybfpux8&fkId=h2c8pxojavrmo1w785z7ueih2ybfpux8&ckId=h2c8pxojavrmo1w785z7ueih2ybfpux8&sfrom=search_job_pc&curPage=0&pageSize=40&index=17', 'title': 'Product Manager（外企保险不加班）', 'jobId': '63559441', 'salary': '23-29k', 'requireWorkYears': '5-10年', 'jobKind': '2', 'topJob': False, 'link': 'https://www.liepin.com/job/1963559441.shtml', 'refreshTime': '20231212152012', 'dq': '广州-天河区', 'advViewFlag': False, 'pcOuterLink': '', 'h5OuterLink': ''}, 'recruiter': {'recruiterPhoto': '5f8f9868f6d1ab58476f24a008u.jpg', 'recruiterId': '4a53bc5232589adbaba6c30e620cd045', 'chatted': False, 'imId': 'd4034d8dd9af0fe66e8893c9219f7e03', 'imUserType': '2', 'recruiterName': '黄先生', 'recruiterTitle': '招聘顾问'}, 'comp': {'compId': 8598051, 'compLogo': '59029b747032a701b89b8b7a04a.jpg', 'compName': '上海华钦信息科技股份有限公司', 'compScale': '1000-2000人', 'compIndustry': '计算机软件', 'link': 'https://www.liepin.com/company/8598051/'}, 'dataInfo': '%7B%22as_from%22%3A%22search_prime%22%2C%22ckId%22%3A%22h2c8pxojavrmo1w785z7ueih2ybfpux8%22%2C%22scene%22%3A%22input%22%2C%22skId%22%3A%22h2c8pxojavrmo1w785z7ueih2ybfpux8%22%2C%22fkId%22%3A%22h2c8pxojavrmo1w785z7ueih2ybfpux8%22%2C%22jobId%22%3A%2263559441%22%2C%22jobKind%22%3A%222%22%2C%22sfrom%22%3A%22search_job_pc%22%2C%22pageSize%22%3A%2240%22%2C%22curPage%22%3A%220%22%2C%22d_curPage%22%3A%220%22%2C%22d_pageSize%22%3A%2240%22%7D', 'dataParams': '{\"recruiterPhoto\":\"5f8f9868f6d1ab58476f24a008u.jpg\",\"jobId\":\"63559441\",\"imId\":\"d4034d8dd9af0fe66e8893c9219f7e03\",\"imUserType\":\"2\",\"jobKind\":\"2\",\"userId\":\"4a53bc5232589adbaba6c30e620cd045\",\"recruiterName\":\"黄先生\"}'}, {'job': {'labels': ['b端产品', '用户增长', '策略产品', '数据分析', '内容产品', 'C端产品', '增长黑客', '私域增长', '新零售'], 'requireEduLevel': '硕士', 'dataPromId': 'd_sfrom=search_prime&d_ckId=null&d_curPage=0&d_pageSize=40&d_headId=null&d_posi=18&skId=h2c8pxojavrmo1w785z7ueih2ybfpux8&fkId=h2c8pxojavrmo1w785z7ueih2ybfpux8&ckId=h2c8pxojavrmo1w785z7ueih2ybfpux8&sfrom=search_job_pc&curPage=0&pageSize=40&index=18', 'title': '产品经理', 'jobId': '30477665', 'salary': '18-40k·14薪', 'requireWorkYears': '5-10年', 'jobKind': '2', 'topJob': False, 'link': 'https://www.liepin.com/job/1930477665.shtml', 'refreshTime': '20231213115114', 'dq': '广州-越秀区', 'advViewFlag': False, 'pcOuterLink': '', 'h5OuterLink': ''}, 'recruiter': {'recruiterPhoto': '5f8f9865ea60860b75384fa508u.jpg', 'recruiterId': '8d90c26ed477481c5bfe988e1b72f121', 'chatted': False, 'imId': 'edbe6a7c4ed9d6e5aaa70b13e477f173', 'imUserType': '2', 'recruiterName': 'Keli Tang', 'recruiterTitle': 'HRBP'}, 'comp': {'compId': 9283329, 'compLogo': '59dc78457832e11b880f044c05a.png', 'compName': '即能科技(广州)有限公司', 'compScale': '1-49人', 'compIndustry': '专业技术服务', 'link': 'https://www.liepin.com/company/9283329/'}, 'dataInfo': '%7B%22as_from%22%3A%22search_prime%22%2C%22ckId%22%3A%22h2c8pxojavrmo1w785z7ueih2ybfpux8%22%2C%22scene%22%3A%22input%22%2C%22skId%22%3A%22h2c8pxojavrmo1w785z7ueih2ybfpux8%22%2C%22fkId%22%3A%22h2c8pxojavrmo1w785z7ueih2ybfpux8%22%2C%22jobId%22%3A%2230477665%22%2C%22jobKind%22%3A%222%22%2C%22sfrom%22%3A%22search_job_pc%22%2C%22pageSize%22%3A%2240%22%2C%22curPage%22%3A%220%22%2C%22d_curPage%22%3A%220%22%2C%22d_pageSize%22%3A%2240%22%7D', 'dataParams': '{\"recruiterPhoto\":\"5f8f9865ea60860b75384fa508u.jpg\",\"jobId\":\"30477665\",\"imId\":\"edbe6a7c4ed9d6e5aaa70b13e477f173\",\"imUserType\":\"2\",\"jobKind\":\"2\",\"userId\":\"8d90c26ed477481c5bfe988e1b72f121\",\"recruiterName\":\"Keli Tang\"}'}, {'job': {'labels': [], 'requireEduLevel': '本科', 'dataPromId': 'd_sfrom=search_prime&d_ckId=null&d_curPage=0&d_pageSize=40&d_headId=null&d_posi=19&skId=h2c8pxojavrmo1w785z7ueih2ybfpux8&fkId=h2c8pxojavrmo1w785z7ueih2ybfpux8&ckId=h2c8pxojavrmo1w785z7ueih2ybfpux8&sfrom=search_job_pc&curPage=0&pageSize=40&index=19', 'title': '数码产品经理', 'jobId': '43037645', 'salary': '薪资面议', 'requireWorkYears': '3-5年', 'jobKind': '2', 'topJob': False, 'link': 'https://www.liepin.com/job/1943037645.shtml', 'refreshTime': '20210913204744', 'dq': '广州', 'advViewFlag': False, 'pcOuterLink': '', 'h5OuterLink': ''}, 'recruiter': {'recruiterPhoto': '5f8f986aea60860b75384fab08u.jpg', 'recruiterId': '80a35acbf6b5573c5c8cd7b9f6ba8101', 'chatted': False, 'imId': 'bd0efb08acc7704271de52c3bc0b6279', 'imUserType': '2', 'recruiterName': '张先生', 'recruiterTitle': '112'}, 'comp': {'compId': 2664546, 'compStage': '其他', 'compLogo': '5bfe92c174719d9f609a7b9603a.png', 'compName': '汇丰软件', 'compScale': '2000-5000人', 'compIndustry': '计算机软件', 'link': 'https://www.liepin.com/company/2664546/'}, 'dataInfo': '%7B%22as_from%22%3A%22search_prime%22%2C%22ckId%22%3A%22h2c8pxojavrmo1w785z7ueih2ybfpux8%22%2C%22scene%22%3A%22input%22%2C%22skId%22%3A%22h2c8pxojavrmo1w785z7ueih2ybfpux8%22%2C%22fkId%22%3A%22h2c8pxojavrmo1w785z7ueih2ybfpux8%22%2C%22jobId%22%3A%2243037645%22%2C%22jobKind%22%3A%222%22%2C%22sfrom%22%3A%22search_job_pc%22%2C%22pageSize%22%3A%2240%22%2C%22curPage%22%3A%220%22%2C%22d_curPage%22%3A%220%22%2C%22d_pageSize%22%3A%2240%22%7D', 'dataParams': '{\"recruiterPhoto\":\"5f8f986aea60860b75384fab08u.jpg\",\"jobId\":\"43037645\",\"imId\":\"bd0efb08acc7704271de52c3bc0b6279\",\"imUserType\":\"2\",\"jobKind\":\"2\",\"userId\":\"80a35acbf6b5573c5c8cd7b9f6ba8101\",\"recruiterName\":\"张先生\"}'}, {'job': {'labels': [], 'requireEduLevel': '硕士', 'dataPromId': 'd_sfrom=search_prime&d_ckId=null&d_curPage=0&d_pageSize=40&d_headId=null&d_posi=20&skId=h2c8pxojavrmo1w785z7ueih2ybfpux8&fkId=h2c8pxojavrmo1w785z7ueih2ybfpux8&ckId=h2c8pxojavrmo1w785z7ueih2ybfpux8&sfrom=search_job_pc&curPage=0&pageSize=40&index=20', 'title': '产品经理（工业消洗产品）', 'jobId': '35923437', 'salary': '12-30k', 'requireWorkYears': '3-5年', 'jobKind': '2', 'topJob': False, 'link': 'https://www.liepin.com/job/1935923437.shtml', 'refreshTime': '20230602115342', 'dq': '广州', 'advViewFlag': False, 'pcOuterLink': '', 'h5OuterLink': ''}, 'recruiter': {'recruiterPhoto': '5f8f9863f6d1ab58476f246a08u.jpg', 'recruiterId': '7f371db882206fccd2bdf1809a52d3e6', 'chatted': False, 'imId': '18f5af2ced812a43d6a9d1214a39013b', 'imUserType': '2', 'recruiterName': '陈女士', 'recruiterTitle': 'HR'}, 'comp': {'compId': 7932064, 'compStage': '融资未公开', 'compLogo': '5bfe8edd74719d35745a548603a.png', 'compName': '广东环凯微生物科技有限公司', 'compScale': '100-499人', 'compIndustry': '制药', 'link': 'https://www.liepin.com/company/7932064/'}, 'dataInfo': '%7B%22as_from%22%3A%22search_prime%22%2C%22ckId%22%3A%22h2c8pxojavrmo1w785z7ueih2ybfpux8%22%2C%22scene%22%3A%22input%22%2C%22skId%22%3A%22h2c8pxojavrmo1w785z7ueih2ybfpux8%22%2C%22fkId%22%3A%22h2c8pxojavrmo1w785z7ueih2ybfpux8%22%2C%22jobId%22%3A%2235923437%22%2C%22jobKind%22%3A%222%22%2C%22sfrom%22%3A%22search_job_pc%22%2C%22pageSize%22%3A%2240%22%2C%22curPage%22%3A%220%22%2C%22d_curPage%22%3A%220%22%2C%22d_pageSize%22%3A%2240%22%7D', 'dataParams': '{\"recruiterPhoto\":\"5f8f9863f6d1ab58476f246a08u.jpg\",\"jobId\":\"35923437\",\"imId\":\"18f5af2ced812a43d6a9d1214a39013b\",\"imUserType\":\"2\",\"jobKind\":\"2\",\"userId\":\"7f371db882206fccd2bdf1809a52d3e6\",\"recruiterName\":\"陈女士\"}'}, {'job': {'labels': ['商品管理', '产品企划', '商品运营'], 'requireEduLevel': '本科', 'dataPromId': 'd_sfrom=search_prime&d_ckId=null&d_curPage=0&d_pageSize=40&d_headId=null&d_posi=21&skId=h2c8pxojavrmo1w785z7ueih2ybfpux8&fkId=h2c8pxojavrmo1w785z7ueih2ybfpux8&ckId=h2c8pxojavrmo1w785z7ueih2ybfpux8&sfrom=search_job_pc&curPage=0&pageSize=40&index=21', 'title': '产品经理-产品企划（鞋类）(J13091)', 'jobId': '50466807', 'salary': '14-28k·16薪', 'requireWorkYears': '3-5年', 'jobKind': '2', 'topJob': False, 'link': 'https://www.liepin.com/job/1950466807.shtml', 'refreshTime': '20221116184947', 'dq': '广州-天河区', 'advViewFlag': False, 'pcOuterLink': '', 'h5OuterLink': ''}, 'recruiter': {'recruiterPhoto': '5f8f9868f6d1ab58476f24a008u.jpg', 'recruiterId': '3466dbf14ff3a1923d3d8a2c8cd5b370', 'chatted': False, 'imId': 'feaaf399e43a569d29323863fa1c0b93', 'imUserType': '2', 'recruiterName': '陈先生', 'recruiterTitle': ''}, 'comp': {'compId': 13032765, 'compLogo': '628c584cb244352e0e92248608u.png', 'compName': '斯凯奇中国', 'compScale': '2000-5000人', 'compIndustry': '服装/纺织/皮革', 'link': 'https://www.liepin.com/company/13032765/'}, 'dataInfo': '%7B%22as_from%22%3A%22search_prime%22%2C%22ckId%22%3A%22h2c8pxojavrmo1w785z7ueih2ybfpux8%22%2C%22scene%22%3A%22input%22%2C%22skId%22%3A%22h2c8pxojavrmo1w785z7ueih2ybfpux8%22%2C%22fkId%22%3A%22h2c8pxojavrmo1w785z7ueih2ybfpux8%22%2C%22jobId%22%3A%2250466807%22%2C%22jobKind%22%3A%222%22%2C%22sfrom%22%3A%22search_job_pc%22%2C%22pageSize%22%3A%2240%22%2C%22curPage%22%3A%220%22%2C%22d_curPage%22%3A%220%22%2C%22d_pageSize%22%3A%2240%22%7D', 'dataParams': '{\"recruiterPhoto\":\"5f8f9868f6d1ab58476f24a008u.jpg\",\"jobId\":\"50466807\",\"imId\":\"feaaf399e43a569d29323863fa1c0b93\",\"imUserType\":\"2\",\"jobKind\":\"2\",\"userId\":\"3466dbf14ff3a1923d3d8a2c8cd5b370\",\"recruiterName\":\"陈先生\"}'}, {'job': {'labels': ['内容产品', '策略产品', 'IT互联网', '消费品', '产品优化', '产品规划', '小程序产品', '产品设计', '数据分析', '竞品分析'], 'requireEduLevel': '本科', 'dataPromId': 'd_sfrom=search_prime&d_ckId=null&d_curPage=0&d_pageSize=40&d_headId=null&d_posi=22&skId=h2c8pxojavrmo1w785z7ueih2ybfpux8&fkId=h2c8pxojavrmo1w785z7ueih2ybfpux8&ckId=h2c8pxojavrmo1w785z7ueih2ybfpux8&sfrom=search_job_pc&curPage=0&pageSize=40&index=22', 'title': '产品经理', 'jobId': '60422621', 'salary': '16-22k', 'requireWorkYears': '3-5年', 'jobKind': '2', 'topJob': False, 'link': 'https://www.liepin.com/job/1960422621.shtml', 'refreshTime': '20231215101713', 'dq': '广州-天河区', 'advViewFlag': False, 'pcOuterLink': '', 'h5OuterLink': ''}, 'recruiter': {'recruiterPhoto': '5f8f9866dfb13a7dee342f1808u.jpg', 'recruiterId': '45f2508978d0b25257aafe3aa5e73b67', 'chatted': False, 'imId': 'd140258a56e55a998f669bb17ec3d8eb', 'imUserType': '2', 'recruiterName': '赵女士', 'recruiterTitle': 'SP'}, 'comp': {'compId': 7865459, 'compLogo': '5bfe90cf74719d35745ab55f03a.png', 'compName': '软通动力', 'compScale': '10000人以上', 'compIndustry': '互联网', 'link': 'https://www.liepin.com/company/7865459/'}, 'dataInfo': '%7B%22as_from%22%3A%22search_prime%22%2C%22ckId%22%3A%22h2c8pxojavrmo1w785z7ueih2ybfpux8%22%2C%22scene%22%3A%22input%22%2C%22skId%22%3A%22h2c8pxojavrmo1w785z7ueih2ybfpux8%22%2C%22fkId%22%3A%22h2c8pxojavrmo1w785z7ueih2ybfpux8%22%2C%22jobId%22%3A%2260422621%22%2C%22jobKind%22%3A%222%22%2C%22sfrom%22%3A%22search_job_pc%22%2C%22pageSize%22%3A%2240%22%2C%22curPage%22%3A%220%22%2C%22d_curPage%22%3A%220%22%2C%22d_pageSize%22%3A%2240%22%7D', 'dataParams': '{\"recruiterPhoto\":\"5f8f9866dfb13a7dee342f1808u.jpg\",\"jobId\":\"60422621\",\"imId\":\"d140258a56e55a998f669bb17ec3d8eb\",\"imUserType\":\"2\",\"jobKind\":\"2\",\"userId\":\"45f2508978d0b25257aafe3aa5e73b67\",\"recruiterName\":\"赵女士\"}'}, {'job': {'labels': ['口腔健康', '口腔护理', '产品推广', '方案设计', '产品策划', '研讨会', '技术支持', '英语可作工作语言', 'PPT', '数据分析'], 'requireEduLevel': '统招本科', 'dataPromId': 'd_sfrom=search_prime&d_ckId=null&d_curPage=0&d_pageSize=40&d_headId=null&d_posi=23&skId=h2c8pxojavrmo1w785z7ueih2ybfpux8&fkId=h2c8pxojavrmo1w785z7ueih2ybfpux8&ckId=h2c8pxojavrmo1w785z7ueih2ybfpux8&sfrom=search_job_pc&curPage=0&pageSize=40&index=23', 'title': 'Oral Product Manager', 'jobId': '62080265', 'salary': '薪资面议', 'requireWorkYears': '5-10年', 'jobKind': '2', 'topJob': False, 'link': 'https://www.liepin.com/job/1962080265.shtml', 'refreshTime': '20231215105929', 'dq': '广州-天河区', 'advViewFlag': False, 'pcOuterLink': '', 'h5OuterLink': ''}, 'recruiter': {'recruiterPhoto': '5f8f98648dbe6273dcf8515508u.jpg', 'recruiterId': '14799e1bef289c70aa9b550257de7ea8', 'chatted': False, 'imId': '0ce6f53a162e27cc9427b88c78d2ff1f', 'imUserType': '2', 'recruiterName': '吴女士', 'recruiterTitle': 'HR Officer'}, 'comp': {'compId': 8112968, 'compLogo': '6274ee6d04a5ff469b10880402u.png', 'compName': '仙婷集团', 'compScale': '50-99人', 'compIndustry': '贸易/进出口', 'link': 'https://www.liepin.com/company/8112968/'}, 'dataInfo': '%7B%22as_from%22%3A%22search_prime%22%2C%22ckId%22%3A%22h2c8pxojavrmo1w785z7ueih2ybfpux8%22%2C%22scene%22%3A%22input%22%2C%22skId%22%3A%22h2c8pxojavrmo1w785z7ueih2ybfpux8%22%2C%22fkId%22%3A%22h2c8pxojavrmo1w785z7ueih2ybfpux8%22%2C%22jobId%22%3A%2262080265%22%2C%22jobKind%22%3A%222%22%2C%22sfrom%22%3A%22search_job_pc%22%2C%22pageSize%22%3A%2240%22%2C%22curPage%22%3A%220%22%2C%22d_curPage%22%3A%220%22%2C%22d_pageSize%22%3A%2240%22%7D', 'dataParams': '{\"recruiterPhoto\":\"5f8f98648dbe6273dcf8515508u.jpg\",\"jobId\":\"62080265\",\"imId\":\"0ce6f53a162e27cc9427b88c78d2ff1f\",\"imUserType\":\"2\",\"jobKind\":\"2\",\"userId\":\"14799e1bef289c70aa9b550257de7ea8\",\"recruiterName\":\"吴女士\"}'}, {'job': {'labels': ['泌尿外科'], 'requireEduLevel': '硕士', 'dataPromId': 'd_sfrom=search_prime&d_ckId=null&d_curPage=0&d_pageSize=40&d_headId=null&d_posi=24&skId=h2c8pxojavrmo1w785z7ueih2ybfpux8&fkId=h2c8pxojavrmo1w785z7ueih2ybfpux8&ckId=h2c8pxojavrmo1w785z7ueih2ybfpux8&sfrom=search_job_pc&curPage=0&pageSize=40&index=24', 'title': '医药产品经理', 'jobId': '57157157', 'salary': '25-30k·14薪', 'requireWorkYears': '1-3年', 'jobKind': '2', 'topJob': False, 'link': 'https://www.liepin.com/job/1957157157.shtml', 'refreshTime': '20231107193630', 'dq': '广州-越秀区', 'advViewFlag': False, 'pcOuterLink': '', 'h5OuterLink': ''}, 'recruiter': {'recruiterPhoto': '5f8f986aea60860b75384fab08u.jpg', 'recruiterId': '22ab2b1a88769c3259935c280d474240', 'chatted': False, 'imId': 'd4cc4bca17cae276aefc9b4a2bd8879c', 'imUserType': '2', 'recruiterName': '刘先生', 'recruiterTitle': '高级医学信息沟通专员'}, 'comp': {'compId': 8275623, 'compStage': '港股上市', 'compLogo': '5bfe916674719d35745ad29703a.png', 'compName': '康方生物', 'compScale': '2000-5000人', 'compIndustry': '制药', 'link': 'https://www.liepin.com/company/8275623/'}, 'dataInfo': '%7B%22as_from%22%3A%22search_prime%22%2C%22ckId%22%3A%22h2c8pxojavrmo1w785z7ueih2ybfpux8%22%2C%22scene%22%3A%22input%22%2C%22skId%22%3A%22h2c8pxojavrmo1w785z7ueih2ybfpux8%22%2C%22fkId%22%3A%22h2c8pxojavrmo1w785z7ueih2ybfpux8%22%2C%22jobId%22%3A%2257157157%22%2C%22jobKind%22%3A%222%22%2C%22sfrom%22%3A%22search_job_pc%22%2C%22pageSize%22%3A%2240%22%2C%22curPage%22%3A%220%22%2C%22d_curPage%22%3A%220%22%2C%22d_pageSize%22%3A%2240%22%7D', 'dataParams': '{\"recruiterPhoto\":\"5f8f986aea60860b75384fab08u.jpg\",\"jobId\":\"57157157\",\"imId\":\"d4cc4bca17cae276aefc9b4a2bd8879c\",\"imUserType\":\"2\",\"jobKind\":\"2\",\"userId\":\"22ab2b1a88769c3259935c280d474240\",\"recruiterName\":\"刘先生\"}'}, {'job': {'labels': [], 'requireEduLevel': '统招本科', 'dataPromId': 'd_sfrom=search_prime&d_ckId=null&d_curPage=0&d_pageSize=40&d_headId=null&d_posi=25&skId=h2c8pxojavrmo1w785z7ueih2ybfpux8&fkId=h2c8pxojavrmo1w785z7ueih2ybfpux8&ckId=h2c8pxojavrmo1w785z7ueih2ybfpux8&sfrom=search_job_pc&curPage=0&pageSize=40&index=25', 'title': 'Oral Product Manager(口腔护理产品）', 'jobId': '49927587', 'salary': '12-18k·13薪', 'requireWorkYears': '5-10年', 'jobKind': '1', 'topJob': False, 'link': 'https://www.liepin.com/a/49927587.shtml', 'refreshTime': '20231215093934', 'dq': '广州-天河区', 'advViewFlag': False}, 'recruiter': {'recruiterPhoto': '54d0bf50712e13549ab1aecc02c.jpg', 'recruiterId': '43077be1b8f8678f50d28906691afd37', 'chatted': False, 'imId': '74583cc804aba44c337193710fe42056', 'imUserType': '2', 'recruiterName': '颜女士', 'recruiterTitle': '猎头顾问'}, 'comp': {'compStage': '融资未公开', 'compLogo': '60e2fe0bf3df194a3c48adb502u.png', 'compName': '某广州贸易进出口公司', 'compScale': '50-99人', 'compIndustry': '贸易/进出口', 'link': ''}, 'dataInfo': '%7B%22as_from%22%3A%22search_prime%22%2C%22ckId%22%3A%22h2c8pxojavrmo1w785z7ueih2ybfpux8%22%2C%22scene%22%3A%22input%22%2C%22skId%22%3A%22h2c8pxojavrmo1w785z7ueih2ybfpux8%22%2C%22fkId%22%3A%22h2c8pxojavrmo1w785z7ueih2ybfpux8%22%2C%22jobId%22%3A%2249927587%22%2C%22jobKind%22%3A%221%22%2C%22sfrom%22%3A%22search_job_pc%22%2C%22pageSize%22%3A%2240%22%2C%22curPage%22%3A%220%22%2C%22d_curPage%22%3A%220%22%2C%22d_pageSize%22%3A%2240%22%7D', 'dataParams': '{\"recruiterPhoto\":\"54d0bf50712e13549ab1aecc02c.jpg\",\"jobId\":\"49927587\",\"imId\":\"74583cc804aba44c337193710fe42056\",\"imUserType\":\"2\",\"jobKind\":\"1\",\"userId\":\"43077be1b8f8678f50d28906691afd37\",\"recruiterName\":\"颜女士\"}'}, {'job': {'labels': ['拓展培训', '市场洞察', '销售管理', '团队管理', '出差'], 'requireEduLevel': '本科', 'dataPromId': 'd_sfrom=search_prime&d_ckId=null&d_curPage=0&d_pageSize=40&d_headId=null&d_posi=26&skId=h2c8pxojavrmo1w785z7ueih2ybfpux8&fkId=h2c8pxojavrmo1w785z7ueih2ybfpux8&ckId=h2c8pxojavrmo1w785z7ueih2ybfpux8&sfrom=search_job_pc&curPage=0&pageSize=40&index=26', 'title': '微生物检测产品销售经理（制药行业/双休）', 'jobId': '61072575', 'salary': '15-30k·20薪', 'requireWorkYears': '5-10年', 'jobKind': '2', 'topJob': False, 'link': 'https://www.liepin.com/job/1961072575.shtml', 'refreshTime': '20231215145253', 'dq': '广州-黄埔区', 'advViewFlag': False, 'pcOuterLink': '', 'h5OuterLink': ''}, 'recruiter': {'recruiterPhoto': '5f8f98648dbe6273dcf8515508u.jpg', 'recruiterId': '0f80a6460fa3a5f3c33c5fd0dac95307', 'chatted': False, 'imId': '767685575712890413dd84912f51618a', 'imUserType': '2', 'recruiterName': '陈女士', 'recruiterTitle': ''}, 'comp': {'compId': 7932064, 'compStage': '融资未公开', 'compLogo': '5bfe8edd74719d35745a548603a.png', 'compName': '广东环凯微生物科技有限公司', 'compScale': '100-499人', 'compIndustry': '制药', 'link': 'https://www.liepin.com/company/7932064/'}, 'dataInfo': '%7B%22as_from%22%3A%22search_prime%22%2C%22ckId%22%3A%22h2c8pxojavrmo1w785z7ueih2ybfpux8%22%2C%22scene%22%3A%22input%22%2C%22skId%22%3A%22h2c8pxojavrmo1w785z7ueih2ybfpux8%22%2C%22fkId%22%3A%22h2c8pxojavrmo1w785z7ueih2ybfpux8%22%2C%22jobId%22%3A%2261072575%22%2C%22jobKind%22%3A%222%22%2C%22sfrom%22%3A%22search_job_pc%22%2C%22pageSize%22%3A%2240%22%2C%22curPage%22%3A%220%22%2C%22d_curPage%22%3A%220%22%2C%22d_pageSize%22%3A%2240%22%7D', 'dataParams': '{\"recruiterPhoto\":\"5f8f98648dbe6273dcf8515508u.jpg\",\"jobId\":\"61072575\",\"imId\":\"767685575712890413dd84912f51618a\",\"imUserType\":\"2\",\"jobKind\":\"2\",\"userId\":\"0f80a6460fa3a5f3c33c5fd0dac95307\",\"recruiterName\":\"陈女士\"}'}, {'job': {'labels': ['to B', '产品规划', '产品设计'], 'requireEduLevel': '本科', 'dataPromId': 'd_sfrom=search_prime&d_ckId=null&d_curPage=0&d_pageSize=40&d_headId=null&d_posi=27&skId=h2c8pxojavrmo1w785z7ueih2ybfpux8&fkId=h2c8pxojavrmo1w785z7ueih2ybfpux8&ckId=h2c8pxojavrmo1w785z7ueih2ybfpux8&sfrom=search_job_pc&curPage=0&pageSize=40&index=27', 'title': '产品经理', 'jobId': '49477287', 'salary': '25-35k·14薪', 'requireWorkYears': '经验不限', 'jobKind': '1', 'topJob': False, 'link': 'https://www.liepin.com/a/49477287.shtml', 'refreshTime': '20230918103406', 'dq': '广州', 'advViewFlag': False}, 'recruiter': {'recruiterPhoto': '5f23ee20556e7a7b12762cf901u.jpg', 'recruiterId': '31d408dc7dda43175cbd0ed6bfaa09dc', 'chatted': False, 'imId': '162b33fcc79aa0e8ff86eb5f1c63f723', 'imUserType': '2', 'recruiterName': '岑先生', 'recruiterTitle': '猎头顾问'}, 'comp': {'compStage': '融资未公开', 'compLogo': '60e2fe0bf3df194a3c48adb502u.png', 'compName': '某广州仪器仪表公司', 'compScale': '100-499人', 'compIndustry': '仪器仪表', 'link': ''}, 'dataInfo': '%7B%22as_from%22%3A%22search_prime%22%2C%22ckId%22%3A%22h2c8pxojavrmo1w785z7ueih2ybfpux8%22%2C%22scene%22%3A%22input%22%2C%22skId%22%3A%22h2c8pxojavrmo1w785z7ueih2ybfpux8%22%2C%22fkId%22%3A%22h2c8pxojavrmo1w785z7ueih2ybfpux8%22%2C%22jobId%22%3A%2249477287%22%2C%22jobKind%22%3A%221%22%2C%22sfrom%22%3A%22search_job_pc%22%2C%22pageSize%22%3A%2240%22%2C%22curPage%22%3A%220%22%2C%22d_curPage%22%3A%220%22%2C%22d_pageSize%22%3A%2240%22%7D', 'dataParams': '{\"recruiterPhoto\":\"5f23ee20556e7a7b12762cf901u.jpg\",\"jobId\":\"49477287\",\"imId\":\"162b33fcc79aa0e8ff86eb5f1c63f723\",\"imUserType\":\"2\",\"jobKind\":\"1\",\"userId\":\"31d408dc7dda43175cbd0ed6bfaa09dc\",\"recruiterName\":\"岑先生\"}'}, {'job': {'labels': ['CRM软件', '信息化项目', '软件行业', '售前支持', '批发/零售', '咨询项目', '化工行业', '服务业', 'IT/互联网/软件', 'CRM系统'], 'requireEduLevel': '本科', 'dataPromId': 'd_sfrom=search_prime&d_ckId=null&d_curPage=0&d_pageSize=40&d_headId=null&d_posi=28&skId=h2c8pxojavrmo1w785z7ueih2ybfpux8&fkId=h2c8pxojavrmo1w785z7ueih2ybfpux8&ckId=h2c8pxojavrmo1w785z7ueih2ybfpux8&sfrom=search_job_pc&curPage=0&pageSize=40&index=28', 'title': 'CRM实施顾问&项目经理PM(J12971)', 'jobId': '57403583', 'salary': '11-22k', 'requireWorkYears': '3-5年', 'jobKind': '2', 'topJob': False, 'link': 'https://www.liepin.com/job/1957403583.shtml', 'refreshTime': '20230329180701', 'dq': '广州-番禺区', 'advViewFlag': False, 'pcOuterLink': '', 'h5OuterLink': ''}, 'recruiter': {'recruiterPhoto': '601baaab60c8320221e3c1d902u.png', 'recruiterId': '77ca96ebd1c0d4c9b55b81912526b943', 'chatted': False, 'imId': '927752d28c878e66e4cd5c055e1e05ce', 'imUserType': '2', 'recruiterName': '俞女士', 'recruiterTitle': 'HR'}, 'comp': {'compId': 8361671, 'compStage': '已上市', 'compLogo': '5ed700f4ec4db462f82e4ddf01u.png', 'compName': '上海汉得信息技术股份有限公司', 'compScale': '10000人以上', 'compIndustry': '互联网', 'link': 'https://www.liepin.com/company/8361671/'}, 'dataInfo': '%7B%22as_from%22%3A%22search_prime%22%2C%22ckId%22%3A%22h2c8pxojavrmo1w785z7ueih2ybfpux8%22%2C%22scene%22%3A%22input%22%2C%22skId%22%3A%22h2c8pxojavrmo1w785z7ueih2ybfpux8%22%2C%22fkId%22%3A%22h2c8pxojavrmo1w785z7ueih2ybfpux8%22%2C%22jobId%22%3A%2257403583%22%2C%22jobKind%22%3A%222%22%2C%22sfrom%22%3A%22search_job_pc%22%2C%22pageSize%22%3A%2240%22%2C%22curPage%22%3A%220%22%2C%22d_curPage%22%3A%220%22%2C%22d_pageSize%22%3A%2240%22%7D', 'dataParams': '{\"recruiterPhoto\":\"601baaab60c8320221e3c1d902u.png\",\"jobId\":\"57403583\",\"imId\":\"927752d28c878e66e4cd5c055e1e05ce\",\"imUserType\":\"2\",\"jobKind\":\"2\",\"userId\":\"77ca96ebd1c0d4c9b55b81912526b943\",\"recruiterName\":\"俞女士\"}'}, {'job': {'labels': [], 'requireEduLevel': '硕士', 'dataPromId': 'd_sfrom=search_prime&d_ckId=null&d_curPage=0&d_pageSize=40&d_headId=null&d_posi=29&skId=h2c8pxojavrmo1w785z7ueih2ybfpux8&fkId=h2c8pxojavrmo1w785z7ueih2ybfpux8&ckId=h2c8pxojavrmo1w785z7ueih2ybfpux8&sfrom=search_job_pc&curPage=0&pageSize=40&index=29', 'title': 'Ai product manager', 'jobId': '51543657', 'salary': '35-50k', 'requireWorkYears': '5-10年', 'jobKind': '1', 'topJob': False, 'link': 'https://www.liepin.com/a/51543657.shtml', 'refreshTime': '20231212114732', 'dq': '广州-天河区', 'advViewFlag': False}, 'recruiter': {'recruiterPhoto': '5fa24ae58082791fc896913e08u.png', 'recruiterId': '90d6e445593b14627600a6cf88179d66', 'chatted': False, 'imId': 'a573e04998ed29da160b5b344d4ef7b6', 'imUserType': '2', 'recruiterName': '张女士', 'recruiterTitle': '猎头顾问'}, 'comp': {'compStage': '其他', 'compLogo': '60e2fe0bf3df194a3c48adb502u.png', 'compName': '某广州大型计算机软件公司', 'compScale': '2000-5000人', 'compIndustry': '计算机软件', 'link': ''}, 'dataInfo': '%7B%22as_from%22%3A%22search_prime%22%2C%22ckId%22%3A%22h2c8pxojavrmo1w785z7ueih2ybfpux8%22%2C%22scene%22%3A%22input%22%2C%22skId%22%3A%22h2c8pxojavrmo1w785z7ueih2ybfpux8%22%2C%22fkId%22%3A%22h2c8pxojavrmo1w785z7ueih2ybfpux8%22%2C%22jobId%22%3A%2251543657%22%2C%22jobKind%22%3A%221%22%2C%22sfrom%22%3A%22search_job_pc%22%2C%22pageSize%22%3A%2240%22%2C%22curPage%22%3A%220%22%2C%22d_curPage%22%3A%220%22%2C%22d_pageSize%22%3A%2240%22%7D', 'dataParams': '{\"recruiterPhoto\":\"5fa24ae58082791fc896913e08u.png\",\"jobId\":\"51543657\",\"imId\":\"a573e04998ed29da160b5b344d4ef7b6\",\"imUserType\":\"2\",\"jobKind\":\"1\",\"userId\":\"90d6e445593b14627600a6cf88179d66\",\"recruiterName\":\"张女士\"}'}, {'job': {'labels': ['品牌策划'], 'requireEduLevel': '本科', 'dataPromId': 'd_sfrom=search_prime&d_ckId=null&d_curPage=0&d_pageSize=40&d_headId=null&d_posi=30&skId=h2c8pxojavrmo1w785z7ueih2ybfpux8&fkId=h2c8pxojavrmo1w785z7ueih2ybfpux8&ckId=h2c8pxojavrmo1w785z7ueih2ybfpux8&sfrom=search_job_pc&curPage=0&pageSize=40&index=30', 'title': '产品策划经理', 'jobId': '55992453', 'salary': '15-25k', 'requireWorkYears': '5-10年', 'jobKind': '2', 'topJob': False, 'link': 'https://www.liepin.com/job/1955992453.shtml', 'refreshTime': '20230626124343', 'dq': '广州-白云区', 'advViewFlag': False, 'pcOuterLink': '', 'h5OuterLink': ''}, 'recruiter': {'recruiterPhoto': '5f8f9868f6d1ab58476f24a008u.jpg', 'recruiterId': '71e39b9fa38c7913909ac669ef10aa84', 'chatted': False, 'imId': 'ecb69f58b8af2fa07bed4a56d1662c8b', 'imUserType': '2', 'recruiterName': '郑先生', 'recruiterTitle': 'HRM'}, 'comp': {'compId': 9660700, 'compLogo': '5f30a76e556e7a7b1280cc3006u.png', 'compName': '嫚熙控股(广州)有限公司', 'compScale': '1000-2000人', 'compIndustry': '互联网', 'link': 'https://www.liepin.com/company/9660700/'}, 'dataInfo': '%7B%22as_from%22%3A%22search_prime%22%2C%22ckId%22%3A%22h2c8pxojavrmo1w785z7ueih2ybfpux8%22%2C%22scene%22%3A%22input%22%2C%22skId%22%3A%22h2c8pxojavrmo1w785z7ueih2ybfpux8%22%2C%22fkId%22%3A%22h2c8pxojavrmo1w785z7ueih2ybfpux8%22%2C%22jobId%22%3A%2255992453%22%2C%22jobKind%22%3A%222%22%2C%22sfrom%22%3A%22search_job_pc%22%2C%22pageSize%22%3A%2240%22%2C%22curPage%22%3A%220%22%2C%22d_curPage%22%3A%220%22%2C%22d_pageSize%22%3A%2240%22%7D', 'dataParams': '{\"recruiterPhoto\":\"5f8f9868f6d1ab58476f24a008u.jpg\",\"jobId\":\"55992453\",\"imId\":\"ecb69f58b8af2fa07bed4a56d1662c8b\",\"imUserType\":\"2\",\"jobKind\":\"2\",\"userId\":\"71e39b9fa38c7913909ac669ef10aa84\",\"recruiterName\":\"郑先生\"}'}, {'job': {'labels': ['数据产品', '供应链产品', '电商产品', '后台产品', '交易产品', '批发/零售', '物流快递', 'IT互联网', '交通/运输/物流', '产品设计'], 'requireEduLevel': '统招本科', 'dataPromId': 'd_sfrom=search_prime&d_ckId=null&d_curPage=0&d_pageSize=40&d_headId=null&d_posi=31&skId=h2c8pxojavrmo1w785z7ueih2ybfpux8&fkId=h2c8pxojavrmo1w785z7ueih2ybfpux8&ckId=h2c8pxojavrmo1w785z7ueih2ybfpux8&sfrom=search_job_pc&curPage=0&pageSize=40&index=31', 'title': '央企子公司-产品经理', 'jobId': '49879669', 'salary': '18-24k·17薪', 'requireWorkYears': '经验不限', 'jobKind': '1', 'topJob': False, 'link': 'https://www.liepin.com/a/49879669.shtml', 'refreshTime': '20231009152223', 'dq': '广州-海珠区', 'advViewFlag': False}, 'recruiter': {'recruiterPhoto': '5f2a549e556e7a7b127a73df08u.jpg', 'recruiterId': '852741cb8c24c3af7e655412497995d4', 'chatted': False, 'imId': '37eaf080056c8a456bc971ec2e264ed1', 'imUserType': '2', 'recruiterName': '陶女士', 'recruiterTitle': '猎头顾问'}, 'comp': {'compLogo': '60e2fe0bf3df194a3c48adb502u.png', 'compName': '某广州IT服务公司', 'compScale': '100-499人', 'compIndustry': 'IT服务', 'link': ''}, 'dataInfo': '%7B%22as_from%22%3A%22search_prime%22%2C%22ckId%22%3A%22h2c8pxojavrmo1w785z7ueih2ybfpux8%22%2C%22scene%22%3A%22input%22%2C%22skId%22%3A%22h2c8pxojavrmo1w785z7ueih2ybfpux8%22%2C%22fkId%22%3A%22h2c8pxojavrmo1w785z7ueih2ybfpux8%22%2C%22jobId%22%3A%2249879669%22%2C%22jobKind%22%3A%221%22%2C%22sfrom%22%3A%22search_job_pc%22%2C%22pageSize%22%3A%2240%22%2C%22curPage%22%3A%220%22%2C%22d_curPage%22%3A%220%22%2C%22d_pageSize%22%3A%2240%22%7D', 'dataParams': '{\"recruiterPhoto\":\"5f2a549e556e7a7b127a73df08u.jpg\",\"jobId\":\"49879669\",\"imId\":\"37eaf080056c8a456bc971ec2e264ed1\",\"imUserType\":\"2\",\"jobKind\":\"1\",\"userId\":\"852741cb8c24c3af7e655412497995d4\",\"recruiterName\":\"陶女士\"}'}, {'job': {'labels': [], 'requireEduLevel': '学历不限', 'dataPromId': 'd_sfrom=search_prime&d_ckId=null&d_curPage=0&d_pageSize=40&d_headId=null&d_posi=32&skId=h2c8pxojavrmo1w785z7ueih2ybfpux8&fkId=h2c8pxojavrmo1w785z7ueih2ybfpux8&ckId=h2c8pxojavrmo1w785z7ueih2ybfpux8&sfrom=search_job_pc&curPage=0&pageSize=40&index=32', 'title': 'PM LEAD', 'jobId': '50771977', 'salary': '19-23k·13薪', 'requireWorkYears': '5-10年', 'jobKind': '1', 'topJob': False, 'link': 'https://www.liepin.com/a/50771977.shtml', 'refreshTime': '20231110175752', 'dq': '广州', 'advViewFlag': False}, 'recruiter': {'recruiterPhoto': '627ddd11afaf234b9f45e0ba05u.jpg', 'recruiterId': 'b9832fb2b0c34ec6f44aaf62dfefad13', 'chatted': False, 'imId': '8b1891d82cfbc4dd66eeece80d41bfcb', 'imUserType': '2', 'recruiterName': '于女士', 'recruiterTitle': '猎头顾问'}, 'comp': {'compStage': '融资未公开', 'compLogo': '60e2fe0bf3df194a3c48adb502u.png', 'compName': '某上海大型食品/饮料/酒水公司', 'compScale': '5000-10000人', 'compIndustry': '食品/饮料/酒水', 'link': ''}, 'dataInfo': '%7B%22as_from%22%3A%22search_prime%22%2C%22ckId%22%3A%22h2c8pxojavrmo1w785z7ueih2ybfpux8%22%2C%22scene%22%3A%22input%22%2C%22skId%22%3A%22h2c8pxojavrmo1w785z7ueih2ybfpux8%22%2C%22fkId%22%3A%22h2c8pxojavrmo1w785z7ueih2ybfpux8%22%2C%22jobId%22%3A%2250771977%22%2C%22jobKind%22%3A%221%22%2C%22sfrom%22%3A%22search_job_pc%22%2C%22pageSize%22%3A%2240%22%2C%22curPage%22%3A%220%22%2C%22d_curPage%22%3A%220%22%2C%22d_pageSize%22%3A%2240%22%7D', 'dataParams': '{\"recruiterPhoto\":\"627ddd11afaf234b9f45e0ba05u.jpg\",\"jobId\":\"50771977\",\"imId\":\"8b1891d82cfbc4dd66eeece80d41bfcb\",\"imUserType\":\"2\",\"jobKind\":\"1\",\"userId\":\"b9832fb2b0c34ec6f44aaf62dfefad13\",\"recruiterName\":\"于女士\"}'}, {'job': {'labels': ['临床试验', '临床项目管理', 'GCP认证', 'CE认证'], 'requireEduLevel': '统招本科', 'dataPromId': 'd_sfrom=search_prime&d_ckId=null&d_curPage=0&d_pageSize=40&d_headId=null&d_posi=33&skId=h2c8pxojavrmo1w785z7ueih2ybfpux8&fkId=h2c8pxojavrmo1w785z7ueih2ybfpux8&ckId=h2c8pxojavrmo1w785z7ueih2ybfpux8&sfrom=search_job_pc&curPage=0&pageSize=40&index=33', 'title': '临床试验项目经理PM', 'jobId': '45175333', 'salary': '25-45k', 'requireWorkYears': '3-5年', 'jobKind': '2', 'topJob': False, 'link': 'https://www.liepin.com/job/1945175333.shtml', 'refreshTime': '20221024180150', 'dq': '广州', 'advViewFlag': False, 'pcOuterLink': '', 'h5OuterLink': ''}, 'recruiter': {'recruiterPhoto': '5f8f9863f6d1ab58476f246a08u.jpg', 'recruiterId': 'b7496ba1a2ad4a49540e81c097c2c00b', 'chatted': False, 'imId': '4e9d98e158ba3d98966d2c65245014c5', 'imUserType': '2', 'recruiterName': '林女士', 'recruiterTitle': 'consultant'}, 'comp': {'compId': 8014813, 'compLogo': '5f5af11af6d1ab584752271c08u.png', 'compName': '昆翎医药', 'compScale': '1000-2000人', 'compIndustry': '制药', 'link': 'https://www.liepin.com/company/8014813/'}, 'dataInfo': '%7B%22as_from%22%3A%22search_prime%22%2C%22ckId%22%3A%22h2c8pxojavrmo1w785z7ueih2ybfpux8%22%2C%22scene%22%3A%22input%22%2C%22skId%22%3A%22h2c8pxojavrmo1w785z7ueih2ybfpux8%22%2C%22fkId%22%3A%22h2c8pxojavrmo1w785z7ueih2ybfpux8%22%2C%22jobId%22%3A%2245175333%22%2C%22jobKind%22%3A%222%22%2C%22sfrom%22%3A%22search_job_pc%22%2C%22pageSize%22%3A%2240%22%2C%22curPage%22%3A%220%22%2C%22d_curPage%22%3A%220%22%2C%22d_pageSize%22%3A%2240%22%7D', 'dataParams': '{\"recruiterPhoto\":\"5f8f9863f6d1ab58476f246a08u.jpg\",\"jobId\":\"45175333\",\"imId\":\"4e9d98e158ba3d98966d2c65245014c5\",\"imUserType\":\"2\",\"jobKind\":\"2\",\"userId\":\"b7496ba1a2ad4a49540e81c097c2c00b\",\"recruiterName\":\"林女士\"}'}, {'job': {'labels': ['axure', 'visio', 'powerpoint', 'word', 'Excel'], 'requireEduLevel': '大专', 'dataPromId': 'd_sfrom=search_prime&d_ckId=null&d_curPage=0&d_pageSize=40&d_headId=null&d_posi=34&skId=h2c8pxojavrmo1w785z7ueih2ybfpux8&fkId=h2c8pxojavrmo1w785z7ueih2ybfpux8&ckId=h2c8pxojavrmo1w785z7ueih2ybfpux8&sfrom=search_job_pc&curPage=0&pageSize=40&index=34', 'title': '初级产品经理', 'jobId': '44331983', 'salary': '5-10k', 'requireWorkYears': '经验不限', 'jobKind': '2', 'topJob': False, 'link': 'https://www.liepin.com/job/1944331983.shtml', 'refreshTime': '20211125150437', 'dq': '广州', 'advViewFlag': False, 'pcOuterLink': '', 'h5OuterLink': ''}, 'recruiter': {'recruiterPhoto': '5f8f986779c7cc70efbf36c008u.jpg', 'recruiterId': 'dfd86eaa710f7eb297d8d49512cabd0a', 'chatted': False, 'imId': '190ab81a74d5846c2e02023589153cdf', 'imUserType': '2', 'recruiterName': '霍女士', 'recruiterTitle': '人事'}, 'comp': {'compId': 12931963, 'compLogo': '61b07937d0458d53c627567e02u.jpg', 'compName': '广州秒音科技有限公司', 'compScale': '50-99人', 'compIndustry': '培训服务', 'link': 'https://www.liepin.com/company/12931963/'}, 'dataInfo': '%7B%22as_from%22%3A%22search_prime%22%2C%22ckId%22%3A%22h2c8pxojavrmo1w785z7ueih2ybfpux8%22%2C%22scene%22%3A%22input%22%2C%22skId%22%3A%22h2c8pxojavrmo1w785z7ueih2ybfpux8%22%2C%22fkId%22%3A%22h2c8pxojavrmo1w785z7ueih2ybfpux8%22%2C%22jobId%22%3A%2244331983%22%2C%22jobKind%22%3A%222%22%2C%22sfrom%22%3A%22search_job_pc%22%2C%22pageSize%22%3A%2240%22%2C%22curPage%22%3A%220%22%2C%22d_curPage%22%3A%220%22%2C%22d_pageSize%22%3A%2240%22%7D', 'dataParams': '{\"recruiterPhoto\":\"5f8f986779c7cc70efbf36c008u.jpg\",\"jobId\":\"44331983\",\"imId\":\"190ab81a74d5846c2e02023589153cdf\",\"imUserType\":\"2\",\"jobKind\":\"2\",\"userId\":\"dfd86eaa710f7eb297d8d49512cabd0a\",\"recruiterName\":\"霍女士\"}'}, {'job': {'labels': ['AI人工智能产品', '安全产品', '金融产品', '硬件产品', 'IT互联网', '智慧城市', '金融理财/贷款', '教育行业', 'to G', 'to B'], 'requireEduLevel': '本科', 'dataPromId': 'd_sfrom=search_prime&d_ckId=null&d_curPage=0&d_pageSize=40&d_headId=null&d_posi=35&skId=h2c8pxojavrmo1w785z7ueih2ybfpux8&fkId=h2c8pxojavrmo1w785z7ueih2ybfpux8&ckId=h2c8pxojavrmo1w785z7ueih2ybfpux8&sfrom=search_job_pc&curPage=0&pageSize=40&index=35', 'title': '高级软件/硬件产品经理（安防类产品）', 'jobId': '50822191', 'salary': '25-35k', 'requireWorkYears': '5-10年', 'jobKind': '1', 'topJob': False, 'link': 'https://www.liepin.com/a/50822191.shtml', 'refreshTime': '20231215103819', 'dq': '广州-天河区', 'advViewFlag': False}, 'recruiter': {'recruiterPhoto': '62d3ab2992f1f01426a55f9906u.png', 'recruiterId': 'b5b71a25e653ba7f641720177ce2bbe6', 'chatted': False, 'imId': 'c1855bb216b28220eb75d3f48ca9a0eb', 'imUserType': '2', 'recruiterName': '王女士', 'recruiterTitle': '猎头顾问'}, 'comp': {'compStage': '融资未公开', 'compLogo': '60e2fe0bf3df194a3c48adb502u.png', 'compName': '某广州知名IT服务公司', 'compScale': '100-499人', 'compIndustry': 'IT服务', 'link': ''}, 'dataInfo': '%7B%22as_from%22%3A%22search_prime%22%2C%22ckId%22%3A%22h2c8pxojavrmo1w785z7ueih2ybfpux8%22%2C%22scene%22%3A%22input%22%2C%22skId%22%3A%22h2c8pxojavrmo1w785z7ueih2ybfpux8%22%2C%22fkId%22%3A%22h2c8pxojavrmo1w785z7ueih2ybfpux8%22%2C%22jobId%22%3A%2250822191%22%2C%22jobKind%22%3A%221%22%2C%22sfrom%22%3A%22search_job_pc%22%2C%22pageSize%22%3A%2240%22%2C%22curPage%22%3A%220%22%2C%22d_curPage%22%3A%220%22%2C%22d_pageSize%22%3A%2240%22%7D', 'dataParams': '{\"recruiterPhoto\":\"62d3ab2992f1f01426a55f9906u.png\",\"jobId\":\"50822191\",\"imId\":\"c1855bb216b28220eb75d3f48ca9a0eb\",\"imUserType\":\"2\",\"jobKind\":\"1\",\"userId\":\"b5b71a25e653ba7f641720177ce2bbe6\",\"recruiterName\":\"王女士\"}'}, {'job': {'labels': ['硬件产品', 'AI人工智能产品', '数据产品', '硬件系统集成', '计算机软件', '人工智能', '金融行业', '产品规划', '团队管理', '产品优化'], 'requireEduLevel': '统招本科', 'dataPromId': 'd_sfrom=search_prime&d_ckId=null&d_curPage=0&d_pageSize=40&d_headId=null&d_posi=36&skId=h2c8pxojavrmo1w785z7ueih2ybfpux8&fkId=h2c8pxojavrmo1w785z7ueih2ybfpux8&ckId=h2c8pxojavrmo1w785z7ueih2ybfpux8&sfrom=search_job_pc&curPage=0&pageSize=40&index=36', 'title': '高级软件/硬件产品经理', 'jobId': '50942839', 'salary': '20-25k', 'requireWorkYears': '经验不限', 'jobKind': '1', 'topJob': False, 'link': 'https://www.liepin.com/a/50942839.shtml', 'refreshTime': '20231214101817', 'dq': '广州-天河区', 'advViewFlag': False}, 'recruiter': {'recruiterPhoto': '5f8fa3a8ea60860b75385c7208u.png', 'recruiterId': '018f1ce29e16cc4c958e591c52132465', 'chatted': False, 'imId': '729004da8a6c394f4f9742af3b6a500a', 'imUserType': '2', 'recruiterName': '曾先生', 'recruiterTitle': '猎头顾问'}, 'comp': {'compStage': '融资未公开', 'compLogo': '60e2fe0bf3df194a3c48adb502u.png', 'compName': '某广州IT服务公司', 'compScale': '100-499人', 'compIndustry': 'IT服务', 'link': ''}, 'dataInfo': '%7B%22as_from%22%3A%22search_prime%22%2C%22ckId%22%3A%22h2c8pxojavrmo1w785z7ueih2ybfpux8%22%2C%22scene%22%3A%22input%22%2C%22skId%22%3A%22h2c8pxojavrmo1w785z7ueih2ybfpux8%22%2C%22fkId%22%3A%22h2c8pxojavrmo1w785z7ueih2ybfpux8%22%2C%22jobId%22%3A%2250942839%22%2C%22jobKind%22%3A%221%22%2C%22sfrom%22%3A%22search_job_pc%22%2C%22pageSize%22%3A%2240%22%2C%22curPage%22%3A%220%22%2C%22d_curPage%22%3A%220%22%2C%22d_pageSize%22%3A%2240%22%7D', 'dataParams': '{\"recruiterPhoto\":\"5f8fa3a8ea60860b75385c7208u.png\",\"jobId\":\"50942839\",\"imId\":\"729004da8a6c394f4f9742af3b6a500a\",\"imUserType\":\"2\",\"jobKind\":\"1\",\"userId\":\"018f1ce29e16cc4c958e591c52132465\",\"recruiterName\":\"曾先生\"}'}, {'job': {'labels': ['安防行业'], 'requireEduLevel': '本科', 'dataPromId': 'd_sfrom=search_prime&d_ckId=null&d_curPage=0&d_pageSize=40&d_headId=null&d_posi=37&skId=h2c8pxojavrmo1w785z7ueih2ybfpux8&fkId=h2c8pxojavrmo1w785z7ueih2ybfpux8&ckId=h2c8pxojavrmo1w785z7ueih2ybfpux8&sfrom=search_job_pc&curPage=0&pageSize=40&index=37', 'title': '高级产品经理', 'jobId': '50817951', 'salary': '25-35k', 'requireWorkYears': '5-10年', 'jobKind': '1', 'topJob': False, 'link': 'https://www.liepin.com/a/50817951.shtml', 'refreshTime': '20231113190326', 'dq': '广州', 'advViewFlag': False}, 'recruiter': {'recruiterPhoto': '6237d9b97db2016abe43dd8706u.png', 'recruiterId': 'd56a0d1b72765379c1f07aa1c8f181be', 'chatted': False, 'imId': 'c6548458b34f4b268d946a46ea6f110f', 'imUserType': '2', 'recruiterName': '张女士', 'recruiterTitle': '猎头顾问'}, 'comp': {'compStage': '融资未公开', 'compLogo': '60e2fe0bf3df194a3c48adb502u.png', 'compName': '某广州知名公司', 'compScale': '100-499人', 'compIndustry': 'IT服务', 'link': ''}, 'dataInfo': '%7B%22as_from%22%3A%22search_prime%22%2C%22ckId%22%3A%22h2c8pxojavrmo1w785z7ueih2ybfpux8%22%2C%22scene%22%3A%22input%22%2C%22skId%22%3A%22h2c8pxojavrmo1w785z7ueih2ybfpux8%22%2C%22fkId%22%3A%22h2c8pxojavrmo1w785z7ueih2ybfpux8%22%2C%22jobId%22%3A%2250817951%22%2C%22jobKind%22%3A%221%22%2C%22sfrom%22%3A%22search_job_pc%22%2C%22pageSize%22%3A%2240%22%2C%22curPage%22%3A%220%22%2C%22d_curPage%22%3A%220%22%2C%22d_pageSize%22%3A%2240%22%7D', 'dataParams': '{\"recruiterPhoto\":\"6237d9b97db2016abe43dd8706u.png\",\"jobId\":\"50817951\",\"imId\":\"c6548458b34f4b268d946a46ea6f110f\",\"imUserType\":\"2\",\"jobKind\":\"1\",\"userId\":\"d56a0d1b72765379c1f07aa1c8f181be\",\"recruiterName\":\"张女士\"}'}, {'job': {'labels': ['电商产品', '策略产品', '跨境电商', 'Axure', '产品规划'], 'requireEduLevel': '本科', 'dataPromId': 'd_sfrom=search_prime&d_ckId=null&d_curPage=0&d_pageSize=40&d_headId=null&d_posi=38&skId=h2c8pxojavrmo1w785z7ueih2ybfpux8&fkId=h2c8pxojavrmo1w785z7ueih2ybfpux8&ckId=h2c8pxojavrmo1w785z7ueih2ybfpux8&sfrom=search_job_pc&curPage=0&pageSize=40&index=38', 'title': '前中台产品经理（欧美独立站）', 'jobId': '51054705', 'salary': '30-60k', 'requireWorkYears': '10年以上', 'jobKind': '1', 'topJob': False, 'link': 'https://www.liepin.com/a/51054705.shtml', 'refreshTime': '20231213165538', 'dq': '广州', 'advViewFlag': False}, 'recruiter': {'recruiterPhoto': '601779ccbec45a78f579444502u.jpg', 'recruiterId': 'ff186e8769d0eb433b3d2e40fab0791f', 'chatted': False, 'imId': '265d84fd020f8b83cc809655362a8e54', 'imUserType': '2', 'recruiterName': '孙女士', 'recruiterTitle': '猎头顾问'}, 'comp': {'compLogo': '60e2fe0bf3df194a3c48adb502u.png', 'compName': '某广州贸易进出口公司', 'compScale': '100-499人', 'compIndustry': '批发/零售', 'link': ''}, 'dataInfo': '%7B%22as_from%22%3A%22search_prime%22%2C%22ckId%22%3A%22h2c8pxojavrmo1w785z7ueih2ybfpux8%22%2C%22scene%22%3A%22input%22%2C%22skId%22%3A%22h2c8pxojavrmo1w785z7ueih2ybfpux8%22%2C%22fkId%22%3A%22h2c8pxojavrmo1w785z7ueih2ybfpux8%22%2C%22jobId%22%3A%2251054705%22%2C%22jobKind%22%3A%221%22%2C%22sfrom%22%3A%22search_job_pc%22%2C%22pageSize%22%3A%2240%22%2C%22curPage%22%3A%220%22%2C%22d_curPage%22%3A%220%22%2C%22d_pageSize%22%3A%2240%22%7D', 'dataParams': '{\"recruiterPhoto\":\"601779ccbec45a78f579444502u.jpg\",\"jobId\":\"51054705\",\"imId\":\"265d84fd020f8b83cc809655362a8e54\",\"imUserType\":\"2\",\"jobKind\":\"1\",\"userId\":\"ff186e8769d0eb433b3d2e40fab0791f\",\"recruiterName\":\"孙女士\"}'}, {'job': {'labels': ['产品规划', '电子商务', '电子/半导体/集成电路', 'to C', '市场调研', '需求分析', '用户研究', '流程设计', '产品优化', '团队管理'], 'requireEduLevel': '大专', 'dataPromId': 'd_sfrom=search_prime&d_ckId=null&d_curPage=0&d_pageSize=40&d_headId=null&d_posi=39&skId=h2c8pxojavrmo1w785z7ueih2ybfpux8&fkId=h2c8pxojavrmo1w785z7ueih2ybfpux8&ckId=h2c8pxojavrmo1w785z7ueih2ybfpux8&sfrom=search_job_pc&curPage=0&pageSize=40&index=39', 'title': '产品经理/总监', 'jobId': '60491179', 'salary': '25-35k', 'requireWorkYears': '5-10年', 'jobKind': '2', 'topJob': False, 'link': 'https://www.liepin.com/job/1960491179.shtml', 'refreshTime': '20230802162827', 'dq': '广州-白云区', 'advViewFlag': False, 'pcOuterLink': '', 'h5OuterLink': ''}, 'recruiter': {'recruiterPhoto': '5f8f98648dbe6273dcf8515508u.jpg', 'recruiterId': '898b99ecbab728d1e6a600e9ed3acc94', 'chatted': False, 'imId': '0ee39be5923f3ab31d908bf5ceb6b06c', 'imUserType': '2', 'recruiterName': '彭女士', 'recruiterTitle': ''}, 'comp': {'compId': 12787765, 'compLogo': '60ed0b2b8ff3356e6d0ae00406u.png', 'compName': '广州一卓科技有限公司', 'compScale': '1-49人', 'compIndustry': '专业技术服务', 'link': 'https://www.liepin.com/company/12787765/'}, 'dataInfo': '%7B%22as_from%22%3A%22search_prime%22%2C%22ckId%22%3A%22h2c8pxojavrmo1w785z7ueih2ybfpux8%22%2C%22scene%22%3A%22input%22%2C%22skId%22%3A%22h2c8pxojavrmo1w785z7ueih2ybfpux8%22%2C%22fkId%22%3A%22h2c8pxojavrmo1w785z7ueih2ybfpux8%22%2C%22jobId%22%3A%2260491179%22%2C%22jobKind%22%3A%222%22%2C%22sfrom%22%3A%22search_job_pc%22%2C%22pageSize%22%3A%2240%22%2C%22curPage%22%3A%220%22%2C%22d_curPage%22%3A%220%22%2C%22d_pageSize%22%3A%2240%22%7D', 'dataParams': '{\"recruiterPhoto\":\"5f8f98648dbe6273dcf8515508u.jpg\",\"jobId\":\"60491179\",\"imId\":\"0ee39be5923f3ab31d908bf5ceb6b06c\",\"imUserType\":\"2\",\"jobKind\":\"2\",\"userId\":\"898b99ecbab728d1e6a600e9ed3acc94\",\"recruiterName\":\"彭女士\"}'}], 'compList': [], 'jobSubscribeInfo': {'keyword': '产品经理', 'dqName': '广州', 'qrUrl': 'https://mp.weixin.qq.com/cgi-bin/showqrcode?ticket=gQG_7zwAAAAAAAAAAS5odHRwOi8vd2VpeGluLnFxLmNvbS9xLzAyYnZEVDBORm9jdWoxR0Q2MWhCY0MAAgQnTHhlAwSAOgkA', 'dqCode': '050020', 'id': '5aa9ec60fa1f0e55c8ca3053b1f7e0bd'}}, 'passThroughData': {'ckId': 'h2c8pxojavrmo1w785z7ueih2ybfpux8', 'scene': 'input', 'skId': 'h2c8pxojavrmo1w785z7ueih2ybfpux8', 'fkId': 'h2c8pxojavrmo1w785z7ueih2ybfpux8', 'sfrom': 'search_job_pc'}, 'pagination': {'currentPage': 0, 'totalPage': 10, 'pageSize': 40, 'totalCounts': 801, 'hasNext': False}}}\n"
     ]
    }
   ],
   "source": [
    "import pandas\n",
    "from requests_html import HTMLSession\n",
    "import json\n",
    "import pandas as pd\n",
    "\n",
    "\n",
    "url = \"https://apic.liepin.com/api/com.liepin.searchfront4c.pc-search-job\"\n",
    "payload = {\n",
    "    \"data\": {\n",
    "        \"mainSearchPcConditionForm\": {\n",
    "            \"city\": 城市编码[用户输入城市],\n",
    "            \"dq\": 城市编码[用户输入城市],\n",
    "            \"pubTime\": \"\",\n",
    "            \"currentPage\": 0,\n",
    "            \"pageSize\": 40,\n",
    "            \"key\": str(用户输入职位),\n",
    "            \"suggestTag\": \"\",\n",
    "            \"workYearCode\": \"0\",\n",
    "            \"compId\": \"\",\n",
    "            \"compName\": \"\",\n",
    "            \"compTag\": \"\",\n",
    "            \"industry\": \"\",\n",
    "            \"salary\": \"\",\n",
    "            \"jobKind\": \"\",\n",
    "            \"compScale\": \"\",\n",
    "            \"compKind\": \"\",\n",
    "            \"compStage\": \"\",\n",
    "            \"eduLevel\": \"\"\n",
    "        },\n",
    "        \"passThroughForm\": {\n",
    "            \"scene\": \"input\",\n",
    "            \"skId\": \"\",\n",
    "            \"fkId\": \"\",\n",
    "            \"ckId\": \"h2c8pxojavrmo1w785z7ueih2ybfpux8\",\n",
    "            \"suggest\": None\n",
    "        }\n",
    "    }\n",
    "}\n",
    "\n",
    "# create an HTML session using Requests-HTML\n",
    "session = HTMLSession()\n",
    "\n",
    "# set the headers\n",
    "headers = {}\n",
    "\n",
    "# send a POST request with headers\n",
    "r = session.post(url, data=json.dumps(payload), headers=headers)\n",
    "\n",
    "# extract the JSON data from the response\n",
    "response_data = r.json()\n",
    "\n",
    "# example: print the number of job postings returned\n",
    "print(response_data)"
   ]
  },
  {
   "cell_type": "code",
   "execution_count": 5,
   "id": "c9ce3169",
   "metadata": {},
   "outputs": [
    {
     "data": {
      "text/plain": "10"
     },
     "execution_count": 5,
     "metadata": {},
     "output_type": "execute_result"
    }
   ],
   "source": [
    "# 向上取整\n",
    "page = response_data['data']['pagination']['totalPage']\n",
    "page"
   ]
  },
  {
   "cell_type": "markdown",
   "id": "00d5fcb6",
   "metadata": {},
   "source": [
    "## 翻页获取数据"
   ]
  },
  {
   "cell_type": "code",
   "execution_count": 6,
   "id": "43043d51",
   "metadata": {},
   "outputs": [
    {
     "name": "stdout",
     "output_type": "stream",
     "text": [
      "{'flag': 1, 'data': {'data': {'jobCardList': [{'comp': {'link': 'https://www.liepin.com/company/10122365/', 'compId': 10122365, 'compScale': '100-499人', 'compStage': '融资未公开', 'compLogo': '5d2eede1dde7f0565c180dd001u.jpg', 'compName': '宏脉信息技术(广州)股份有限公司', 'compIndustry': '计算机软件'}, 'job': {'labels': ['数据产品', '工具产品', 'CRM系统', 'to B', '产品规划', '产品优化', '产品设计', '用户研究', '数据分析', 'Axure'], 'link': 'https://www.liepin.com/job/1961894371.shtml', 'jobKind': '2', 'salary': '15-18k', 'title': '产品经理', 'topJob': True, 'refreshTime': '20230925170533', 'dq': '广州-番禺区', 'jobId': '61894371', 'pcOuterLink': '', 'h5OuterLink': '', 'requireWorkYears': '3-5年', 'advViewFlag': True, 'dataPromId': 'd_sfrom=search_prime&d_ckId=null&d_curPage=0&d_pageSize=40&d_headId=null&d_posi=0&skId=h2c8pxojavrmo1w785z7ueih2ybfpux8&fkId=h2c8pxojavrmo1w785z7ueih2ybfpux8&ckId=h2c8pxojavrmo1w785z7ueih2ybfpux8&sfrom=search_job_pc&curPage=0&pageSize=40&index=0', 'requireEduLevel': '大专'}, 'recruiter': {'recruiterId': 'cc88b0c4e1a42225fac8dea42743dc5a', 'recruiterName': '蔡女士', 'recruiterTitle': '招聘专员', 'imId': 'd1b6352aea971560f1cfaf888dfec3b6', 'imUserType': '2', 'chatted': False, 'recruiterPhoto': '5f8f986779c7cc70efbf36c008u.jpg'}, 'dataInfo': '%7B%22jobKind%22%3A%222%22%2C%22sfrom%22%3A%22search_job_pc%22%2C%22ckId%22%3A%22h2c8pxojavrmo1w785z7ueih2ybfpux8%22%2C%22scene%22%3A%22input%22%2C%22skId%22%3A%22h2c8pxojavrmo1w785z7ueih2ybfpux8%22%2C%22fkId%22%3A%22h2c8pxojavrmo1w785z7ueih2ybfpux8%22%2C%22pageSize%22%3A%2240%22%2C%22curPage%22%3A%220%22%2C%22jobId%22%3A%2261894371%22%2C%22d_curPage%22%3A%220%22%2C%22d_pageSize%22%3A%2240%22%2C%22as_from%22%3A%22search_prime%22%7D', 'dataParams': '{\"jobKind\":\"2\",\"userId\":\"cc88b0c4e1a42225fac8dea42743dc5a\",\"recruiterName\":\"蔡女士\",\"imId\":\"d1b6352aea971560f1cfaf888dfec3b6\",\"imUserType\":\"2\",\"jobId\":\"61894371\",\"recruiterPhoto\":\"5f8f986779c7cc70efbf36c008u.jpg\"}'}, {'comp': {'link': 'https://www.liepin.com/company/8112968/', 'compId': 8112968, 'compScale': '50-99人', 'compLogo': '6274ee6d04a5ff469b10880402u.png', 'compName': '仙婷集团', 'compIndustry': '贸易/进出口'}, 'job': {'labels': ['英语', '市场推广', '市场拓展', '渠道策划', '市场策划', '市场调研分析', '乙方公司背景', 'to B', '大客户', '无销售性质'], 'link': 'https://www.liepin.com/job/1950965433.shtml', 'jobKind': '2', 'salary': '薪资面议', 'title': '产品经理（化妆品原料）/Product Manager', 'topJob': False, 'refreshTime': '20231215105929', 'dq': '广州-天河区', 'jobId': '50965433', 'pcOuterLink': '', 'h5OuterLink': '', 'requireWorkYears': '3-5年', 'advViewFlag': False, 'dataPromId': 'd_sfrom=search_prime&d_ckId=null&d_curPage=0&d_pageSize=40&d_headId=null&d_posi=1&skId=h2c8pxojavrmo1w785z7ueih2ybfpux8&fkId=h2c8pxojavrmo1w785z7ueih2ybfpux8&ckId=h2c8pxojavrmo1w785z7ueih2ybfpux8&sfrom=search_job_pc&curPage=0&pageSize=40&index=1', 'requireEduLevel': '硕士'}, 'recruiter': {'recruiterId': '14799e1bef289c70aa9b550257de7ea8', 'recruiterName': '吴女士', 'recruiterTitle': 'HR Officer', 'imId': '0ce6f53a162e27cc9427b88c78d2ff1f', 'imUserType': '2', 'chatted': False, 'recruiterPhoto': '5f8f98648dbe6273dcf8515508u.jpg'}, 'dataInfo': '%7B%22jobKind%22%3A%222%22%2C%22sfrom%22%3A%22search_job_pc%22%2C%22ckId%22%3A%22h2c8pxojavrmo1w785z7ueih2ybfpux8%22%2C%22scene%22%3A%22input%22%2C%22skId%22%3A%22h2c8pxojavrmo1w785z7ueih2ybfpux8%22%2C%22fkId%22%3A%22h2c8pxojavrmo1w785z7ueih2ybfpux8%22%2C%22pageSize%22%3A%2240%22%2C%22curPage%22%3A%220%22%2C%22jobId%22%3A%2250965433%22%2C%22d_curPage%22%3A%220%22%2C%22d_pageSize%22%3A%2240%22%2C%22as_from%22%3A%22search_prime%22%7D', 'dataParams': '{\"jobKind\":\"2\",\"userId\":\"14799e1bef289c70aa9b550257de7ea8\",\"recruiterName\":\"吴女士\",\"imId\":\"0ce6f53a162e27cc9427b88c78d2ff1f\",\"imUserType\":\"2\",\"jobId\":\"50965433\",\"recruiterPhoto\":\"5f8f98648dbe6273dcf8515508u.jpg\"}'}, {'comp': {'link': 'https://www.liepin.com/company/8112968/', 'compId': 8112968, 'compScale': '50-99人', 'compLogo': '6274ee6d04a5ff469b10880402u.png', 'compName': '仙婷集团', 'compIndustry': '贸易/进出口'}, 'job': {'labels': ['口腔健康', '口腔护理', '产品推广', '方案设计', '产品策划', '研讨会', '技术支持', '英语可作工作语言', 'PPT', '数据分析'], 'link': 'https://www.liepin.com/job/1962080471.shtml', 'jobKind': '2', 'salary': '薪资面议', 'title': '口腔护理产品经理/Oral Product Manager', 'topJob': False, 'refreshTime': '20231215105929', 'dq': '广州-天河区', 'jobId': '62080471', 'pcOuterLink': '', 'h5OuterLink': '', 'requireWorkYears': '5-10年', 'advViewFlag': False, 'dataPromId': 'd_sfrom=search_prime&d_ckId=null&d_curPage=0&d_pageSize=40&d_headId=null&d_posi=2&skId=h2c8pxojavrmo1w785z7ueih2ybfpux8&fkId=h2c8pxojavrmo1w785z7ueih2ybfpux8&ckId=h2c8pxojavrmo1w785z7ueih2ybfpux8&sfrom=search_job_pc&curPage=0&pageSize=40&index=2', 'requireEduLevel': '统招本科'}, 'recruiter': {'recruiterId': '14799e1bef289c70aa9b550257de7ea8', 'recruiterName': '吴女士', 'recruiterTitle': 'HR Officer', 'imId': '0ce6f53a162e27cc9427b88c78d2ff1f', 'imUserType': '2', 'chatted': False, 'recruiterPhoto': '5f8f98648dbe6273dcf8515508u.jpg'}, 'dataInfo': '%7B%22jobKind%22%3A%222%22%2C%22sfrom%22%3A%22search_job_pc%22%2C%22ckId%22%3A%22h2c8pxojavrmo1w785z7ueih2ybfpux8%22%2C%22scene%22%3A%22input%22%2C%22skId%22%3A%22h2c8pxojavrmo1w785z7ueih2ybfpux8%22%2C%22fkId%22%3A%22h2c8pxojavrmo1w785z7ueih2ybfpux8%22%2C%22pageSize%22%3A%2240%22%2C%22curPage%22%3A%220%22%2C%22jobId%22%3A%2262080471%22%2C%22d_curPage%22%3A%220%22%2C%22d_pageSize%22%3A%2240%22%2C%22as_from%22%3A%22search_prime%22%7D', 'dataParams': '{\"jobKind\":\"2\",\"userId\":\"14799e1bef289c70aa9b550257de7ea8\",\"recruiterName\":\"吴女士\",\"imId\":\"0ce6f53a162e27cc9427b88c78d2ff1f\",\"imUserType\":\"2\",\"jobId\":\"62080471\",\"recruiterPhoto\":\"5f8f98648dbe6273dcf8515508u.jpg\"}'}, {'comp': {'link': '', 'compScale': '50-99人', 'compStage': '融资未公开', 'compLogo': '60e2fe0bf3df194a3c48adb502u.png', 'compName': '某广州贸易进出口公司', 'compIndustry': '贸易/进出口'}, 'job': {'labels': [], 'link': 'https://www.liepin.com/a/50919815.shtml', 'jobKind': '1', 'salary': '18-28k·14薪', 'title': '口腔护理产品经理/Oral Product Manager', 'topJob': False, 'refreshTime': '20231215162631', 'dq': '广州', 'jobId': '50919815', 'requireWorkYears': '经验不限', 'advViewFlag': False, 'dataPromId': 'd_sfrom=search_prime&d_ckId=null&d_curPage=0&d_pageSize=40&d_headId=null&d_posi=3&skId=h2c8pxojavrmo1w785z7ueih2ybfpux8&fkId=h2c8pxojavrmo1w785z7ueih2ybfpux8&ckId=h2c8pxojavrmo1w785z7ueih2ybfpux8&sfrom=search_job_pc&curPage=0&pageSize=40&index=3', 'requireEduLevel': '本科'}, 'recruiter': {'recruiterId': '8c8180877842a91f8f5f6e759dc9c471', 'recruiterName': '朱先生', 'recruiterTitle': '猎头顾问', 'imId': 'ca233b3cc0d7ec89c62c94f01ec83e9b', 'imUserType': '2', 'chatted': False, 'recruiterPhoto': '5df9da4ecd52473b940aa61d06u.jpg'}, 'dataInfo': '%7B%22jobKind%22%3A%221%22%2C%22sfrom%22%3A%22search_job_pc%22%2C%22ckId%22%3A%22h2c8pxojavrmo1w785z7ueih2ybfpux8%22%2C%22scene%22%3A%22input%22%2C%22skId%22%3A%22h2c8pxojavrmo1w785z7ueih2ybfpux8%22%2C%22fkId%22%3A%22h2c8pxojavrmo1w785z7ueih2ybfpux8%22%2C%22pageSize%22%3A%2240%22%2C%22curPage%22%3A%220%22%2C%22jobId%22%3A%2250919815%22%2C%22d_curPage%22%3A%220%22%2C%22d_pageSize%22%3A%2240%22%2C%22as_from%22%3A%22search_prime%22%7D', 'dataParams': '{\"jobKind\":\"1\",\"userId\":\"8c8180877842a91f8f5f6e759dc9c471\",\"recruiterName\":\"朱先生\",\"imId\":\"ca233b3cc0d7ec89c62c94f01ec83e9b\",\"imUserType\":\"2\",\"jobId\":\"50919815\",\"recruiterPhoto\":\"5df9da4ecd52473b940aa61d06u.jpg\"}'}, {'comp': {'link': '', 'compScale': '100-499人', 'compStage': '融资未公开', 'compLogo': '60e2fe0bf3df194a3c48adb502u.png', 'compName': '某广州IT服务公司', 'compIndustry': 'IT服务'}, 'job': {'labels': ['金融产品', '保险行业', '产品规划', '团队管理', '数据分析'], 'link': 'https://www.liepin.com/a/51322725.shtml', 'jobKind': '1', 'salary': '15-25k', 'title': 'Product Manager产品经理', 'topJob': False, 'refreshTime': '20231213103804', 'dq': '广州-天河区', 'jobId': '51322725', 'requireWorkYears': '5-10年', 'advViewFlag': False, 'dataPromId': 'd_sfrom=search_prime&d_ckId=null&d_curPage=0&d_pageSize=40&d_headId=null&d_posi=4&skId=h2c8pxojavrmo1w785z7ueih2ybfpux8&fkId=h2c8pxojavrmo1w785z7ueih2ybfpux8&ckId=h2c8pxojavrmo1w785z7ueih2ybfpux8&sfrom=search_job_pc&curPage=0&pageSize=40&index=4', 'requireEduLevel': '统招本科'}, 'recruiter': {'recruiterId': '7ebfdfd05c30c3a937ba5fedca246f3d', 'recruiterName': '江女士', 'recruiterTitle': '猎头顾问', 'imId': '6d1de177e686e34ce37b0b202b2adc1c', 'imUserType': '2', 'chatted': False, 'recruiterPhoto': '5b7ccdab8e5016e5665bac4d04a.jpg'}, 'dataInfo': '%7B%22jobKind%22%3A%221%22%2C%22sfrom%22%3A%22search_job_pc%22%2C%22ckId%22%3A%22h2c8pxojavrmo1w785z7ueih2ybfpux8%22%2C%22scene%22%3A%22input%22%2C%22skId%22%3A%22h2c8pxojavrmo1w785z7ueih2ybfpux8%22%2C%22fkId%22%3A%22h2c8pxojavrmo1w785z7ueih2ybfpux8%22%2C%22pageSize%22%3A%2240%22%2C%22curPage%22%3A%220%22%2C%22jobId%22%3A%2251322725%22%2C%22d_curPage%22%3A%220%22%2C%22d_pageSize%22%3A%2240%22%2C%22as_from%22%3A%22search_prime%22%7D', 'dataParams': '{\"jobKind\":\"1\",\"userId\":\"7ebfdfd05c30c3a937ba5fedca246f3d\",\"recruiterName\":\"江女士\",\"imId\":\"6d1de177e686e34ce37b0b202b2adc1c\",\"imUserType\":\"2\",\"jobId\":\"51322725\",\"recruiterPhoto\":\"5b7ccdab8e5016e5665bac4d04a.jpg\"}'}, {'comp': {'link': '', 'compScale': '10000人以上', 'compStage': '已上市', 'compLogo': '60e2fe0bf3df194a3c48adb502u.png', 'compName': '大型制药集团公司', 'compIndustry': '制药/生物工程'}, 'job': {'labels': ['中央市场产品经理经验'], 'link': 'https://www.liepin.com/a/50820025.shtml', 'jobKind': '1', 'salary': '20-30k', 'title': '产品经理PM（慢病）广东灵活base', 'topJob': False, 'refreshTime': '20231217193716', 'dq': '广州', 'jobId': '50820025', 'requireWorkYears': '经验不限', 'advViewFlag': False, 'dataPromId': 'd_sfrom=search_prime&d_ckId=null&d_curPage=0&d_pageSize=40&d_headId=null&d_posi=5&skId=h2c8pxojavrmo1w785z7ueih2ybfpux8&fkId=h2c8pxojavrmo1w785z7ueih2ybfpux8&ckId=h2c8pxojavrmo1w785z7ueih2ybfpux8&sfrom=search_job_pc&curPage=0&pageSize=40&index=5', 'requireEduLevel': '统招本科'}, 'recruiter': {'recruiterId': 'e2bbf25c0098de6f7ef83d3cb1f32d26', 'recruiterName': '周先生', 'recruiterTitle': '猎头顾问', 'imId': '2c9e72fbdf2bd8d599eeb040770b0b48', 'imUserType': '2', 'chatted': False, 'recruiterPhoto': '6231b0d9da1d3077a00fb14c01u.png'}, 'dataInfo': '%7B%22jobKind%22%3A%221%22%2C%22sfrom%22%3A%22search_job_pc%22%2C%22ckId%22%3A%22h2c8pxojavrmo1w785z7ueih2ybfpux8%22%2C%22scene%22%3A%22input%22%2C%22skId%22%3A%22h2c8pxojavrmo1w785z7ueih2ybfpux8%22%2C%22fkId%22%3A%22h2c8pxojavrmo1w785z7ueih2ybfpux8%22%2C%22pageSize%22%3A%2240%22%2C%22curPage%22%3A%220%22%2C%22jobId%22%3A%2250820025%22%2C%22d_curPage%22%3A%220%22%2C%22d_pageSize%22%3A%2240%22%2C%22as_from%22%3A%22search_prime%22%7D', 'dataParams': '{\"jobKind\":\"1\",\"userId\":\"e2bbf25c0098de6f7ef83d3cb1f32d26\",\"recruiterName\":\"周先生\",\"imId\":\"2c9e72fbdf2bd8d599eeb040770b0b48\",\"imUserType\":\"2\",\"jobId\":\"50820025\",\"recruiterPhoto\":\"6231b0d9da1d3077a00fb14c01u.png\"}'}, {'comp': {'link': 'https://www.liepin.com/company/7023768/', 'compId': 7023768, 'compScale': '10000人以上', 'compStage': '已上市', 'compLogo': '5bfe9d4974719d2aa34b5ab303a.png', 'compName': '复星医药集团', 'compIndustry': '制药'}, 'job': {'labels': ['神外', '医生'], 'link': 'https://www.liepin.com/job/1958215521.shtml', 'jobKind': '2', 'salary': '12-15k·15薪', 'title': '神外产品销售经理 Product Sales Manager', 'topJob': False, 'refreshTime': '20230428143658', 'dq': '广州-越秀区', 'jobId': '58215521', 'pcOuterLink': '', 'h5OuterLink': '', 'requireWorkYears': '1-3年', 'advViewFlag': False, 'dataPromId': 'd_sfrom=search_prime&d_ckId=null&d_curPage=0&d_pageSize=40&d_headId=null&d_posi=6&skId=h2c8pxojavrmo1w785z7ueih2ybfpux8&fkId=h2c8pxojavrmo1w785z7ueih2ybfpux8&ckId=h2c8pxojavrmo1w785z7ueih2ybfpux8&sfrom=search_job_pc&curPage=0&pageSize=40&index=6', 'requireEduLevel': '统招本科'}, 'recruiter': {'recruiterId': '5445ba45a2189a2b1a078f176245fc3b', 'recruiterName': '张先生', 'recruiterTitle': '人力资源专员', 'imId': 'f8a500e0eab81d475153eb2d84a8b1de', 'imUserType': '2', 'chatted': False, 'recruiterPhoto': '5f8f986aea60860b75384fab08u.jpg'}, 'dataInfo': '%7B%22jobKind%22%3A%222%22%2C%22sfrom%22%3A%22search_job_pc%22%2C%22ckId%22%3A%22h2c8pxojavrmo1w785z7ueih2ybfpux8%22%2C%22scene%22%3A%22input%22%2C%22skId%22%3A%22h2c8pxojavrmo1w785z7ueih2ybfpux8%22%2C%22fkId%22%3A%22h2c8pxojavrmo1w785z7ueih2ybfpux8%22%2C%22pageSize%22%3A%2240%22%2C%22curPage%22%3A%220%22%2C%22jobId%22%3A%2258215521%22%2C%22d_curPage%22%3A%220%22%2C%22d_pageSize%22%3A%2240%22%2C%22as_from%22%3A%22search_prime%22%7D', 'dataParams': '{\"jobKind\":\"2\",\"userId\":\"5445ba45a2189a2b1a078f176245fc3b\",\"recruiterName\":\"张先生\",\"imId\":\"f8a500e0eab81d475153eb2d84a8b1de\",\"imUserType\":\"2\",\"jobId\":\"58215521\",\"recruiterPhoto\":\"5f8f986aea60860b75384fab08u.jpg\"}'}, {'comp': {'link': 'https://www.liepin.com/company/8789859/', 'compId': 8789859, 'compScale': '5000-10000人', 'compStage': 'D轮', 'compLogo': '5bfe962874719df0ac98f7d503a.png', 'compName': '广东天普生化医药股份有限公司', 'compIndustry': '制药'}, 'job': {'labels': [], 'link': 'https://www.liepin.com/job/1963149957.shtml', 'jobKind': '2', 'salary': '20-30k·14薪', 'title': '产品经理-广州 (MJ003531)', 'topJob': False, 'refreshTime': '20231205163202', 'dq': '广州-天河区', 'jobId': '63149957', 'pcOuterLink': '', 'h5OuterLink': '', 'requireWorkYears': '5-10年', 'advViewFlag': False, 'dataPromId': 'd_sfrom=search_prime&d_ckId=null&d_curPage=0&d_pageSize=40&d_headId=null&d_posi=7&skId=h2c8pxojavrmo1w785z7ueih2ybfpux8&fkId=h2c8pxojavrmo1w785z7ueih2ybfpux8&ckId=h2c8pxojavrmo1w785z7ueih2ybfpux8&sfrom=search_job_pc&curPage=0&pageSize=40&index=7', 'requireEduLevel': '本科'}, 'recruiter': {'recruiterId': '601d8aa7f0d90922b1e4821fa7826444', 'recruiterName': '孙女士', 'recruiterTitle': '招聘经理', 'imId': '74d9d3867489c6a9ad8732728d6065d6', 'imUserType': '2', 'chatted': False, 'recruiterPhoto': '594288437032b79cf8db769e04a.jpg'}, 'dataInfo': '%7B%22jobKind%22%3A%222%22%2C%22sfrom%22%3A%22search_job_pc%22%2C%22ckId%22%3A%22h2c8pxojavrmo1w785z7ueih2ybfpux8%22%2C%22scene%22%3A%22input%22%2C%22skId%22%3A%22h2c8pxojavrmo1w785z7ueih2ybfpux8%22%2C%22fkId%22%3A%22h2c8pxojavrmo1w785z7ueih2ybfpux8%22%2C%22pageSize%22%3A%2240%22%2C%22curPage%22%3A%220%22%2C%22jobId%22%3A%2263149957%22%2C%22d_curPage%22%3A%220%22%2C%22d_pageSize%22%3A%2240%22%2C%22as_from%22%3A%22search_prime%22%7D', 'dataParams': '{\"jobKind\":\"2\",\"userId\":\"601d8aa7f0d90922b1e4821fa7826444\",\"recruiterName\":\"孙女士\",\"imId\":\"74d9d3867489c6a9ad8732728d6065d6\",\"imUserType\":\"2\",\"jobId\":\"63149957\",\"recruiterPhoto\":\"594288437032b79cf8db769e04a.jpg\"}'}, {'comp': {'link': 'https://www.liepin.com/company/8916227/', 'compId': 8916227, 'compScale': '5000-10000人', 'compLogo': '5c0dfd9f570cb120f184080203u.jpg', 'compName': '西门子医疗系统', 'compIndustry': '医疗器械'}, 'job': {'labels': [], 'link': 'https://www.liepin.com/job/1961288741.shtml', 'jobKind': '2', 'salary': '薪资面议', 'title': 'CT 产品销售经理 广州/武汉', 'topJob': False, 'refreshTime': '20230831193805', 'dq': '广州-越秀区', 'jobId': '61288741', 'pcOuterLink': '', 'h5OuterLink': '', 'requireWorkYears': '5-10年', 'advViewFlag': False, 'dataPromId': 'd_sfrom=search_prime&d_ckId=null&d_curPage=0&d_pageSize=40&d_headId=null&d_posi=8&skId=h2c8pxojavrmo1w785z7ueih2ybfpux8&fkId=h2c8pxojavrmo1w785z7ueih2ybfpux8&ckId=h2c8pxojavrmo1w785z7ueih2ybfpux8&sfrom=search_job_pc&curPage=0&pageSize=40&index=8', 'requireEduLevel': '本科'}, 'recruiter': {'recruiterId': 'f08748e81b3b0757d734fc6b171fa589', 'recruiterName': '翁女士', 'recruiterTitle': 'Recruiter-Talent Acquisition', 'imId': '8595d9ba8d1a1a2d801c17c79e240538', 'imUserType': '2', 'chatted': False, 'recruiterPhoto': '5f8f98648dbe6273dcf8515508u.jpg'}, 'dataInfo': '%7B%22jobKind%22%3A%222%22%2C%22sfrom%22%3A%22search_job_pc%22%2C%22ckId%22%3A%22h2c8pxojavrmo1w785z7ueih2ybfpux8%22%2C%22scene%22%3A%22input%22%2C%22skId%22%3A%22h2c8pxojavrmo1w785z7ueih2ybfpux8%22%2C%22fkId%22%3A%22h2c8pxojavrmo1w785z7ueih2ybfpux8%22%2C%22pageSize%22%3A%2240%22%2C%22curPage%22%3A%220%22%2C%22jobId%22%3A%2261288741%22%2C%22d_curPage%22%3A%220%22%2C%22d_pageSize%22%3A%2240%22%2C%22as_from%22%3A%22search_prime%22%7D', 'dataParams': '{\"jobKind\":\"2\",\"userId\":\"f08748e81b3b0757d734fc6b171fa589\",\"recruiterName\":\"翁女士\",\"imId\":\"8595d9ba8d1a1a2d801c17c79e240538\",\"imUserType\":\"2\",\"jobId\":\"61288741\",\"recruiterPhoto\":\"5f8f98648dbe6273dcf8515508u.jpg\"}'}, {'comp': {'link': '', 'compScale': '1-49人', 'compLogo': '60e2fe0bf3df194a3c48adb502u.png', 'compName': '某上海贸易进出口公司', 'compIndustry': '贸易/进出口'}, 'job': {'labels': ['渠道销售', '销售管理', '客户管理'], 'link': 'https://www.liepin.com/a/51448799.shtml', 'jobKind': '1', 'salary': '15-25k·13薪', 'title': '神经介入产品经理(156582)', 'topJob': False, 'refreshTime': '20231215091714', 'dq': '广州-天河区', 'jobId': '51448799', 'requireWorkYears': '3-5年', 'advViewFlag': False, 'dataPromId': 'd_sfrom=search_prime&d_ckId=null&d_curPage=0&d_pageSize=40&d_headId=null&d_posi=9&skId=h2c8pxojavrmo1w785z7ueih2ybfpux8&fkId=h2c8pxojavrmo1w785z7ueih2ybfpux8&ckId=h2c8pxojavrmo1w785z7ueih2ybfpux8&sfrom=search_job_pc&curPage=0&pageSize=40&index=9', 'requireEduLevel': '统招本科'}, 'recruiter': {'recruiterId': 'bb614f5d9f286a56454d65a43a2f9384', 'recruiterName': '陈女士', 'recruiterTitle': '猎头顾问', 'imId': 'c2b5bab9783fbe731b4fb320fc878e26', 'imUserType': '2', 'chatted': False, 'recruiterPhoto': '655b1befd54c7f1107c7cbbb04u.jpeg'}, 'dataInfo': '%7B%22jobKind%22%3A%221%22%2C%22sfrom%22%3A%22search_job_pc%22%2C%22ckId%22%3A%22h2c8pxojavrmo1w785z7ueih2ybfpux8%22%2C%22scene%22%3A%22input%22%2C%22skId%22%3A%22h2c8pxojavrmo1w785z7ueih2ybfpux8%22%2C%22fkId%22%3A%22h2c8pxojavrmo1w785z7ueih2ybfpux8%22%2C%22pageSize%22%3A%2240%22%2C%22curPage%22%3A%220%22%2C%22jobId%22%3A%2251448799%22%2C%22d_curPage%22%3A%220%22%2C%22d_pageSize%22%3A%2240%22%2C%22as_from%22%3A%22search_prime%22%7D', 'dataParams': '{\"jobKind\":\"1\",\"userId\":\"bb614f5d9f286a56454d65a43a2f9384\",\"recruiterName\":\"陈女士\",\"imId\":\"c2b5bab9783fbe731b4fb320fc878e26\",\"imUserType\":\"2\",\"jobId\":\"51448799\",\"recruiterPhoto\":\"655b1befd54c7f1107c7cbbb04u.jpeg\"}'}, {'comp': {'link': '', 'compScale': '100-499人', 'compLogo': '60e2fe0bf3df194a3c48adb502u.png', 'compName': '某知名公司', 'compIndustry': '机械/设备'}, 'job': {'labels': [], 'link': 'https://www.liepin.com/a/51341685.shtml', 'jobKind': '1', 'salary': '35-50k', 'title': 'Product Manager', 'topJob': False, 'refreshTime': '20231204163740', 'dq': '广州-天河区', 'jobId': '51341685', 'requireWorkYears': '5-10年', 'advViewFlag': False, 'dataPromId': 'd_sfrom=search_prime&d_ckId=null&d_curPage=0&d_pageSize=40&d_headId=null&d_posi=10&skId=h2c8pxojavrmo1w785z7ueih2ybfpux8&fkId=h2c8pxojavrmo1w785z7ueih2ybfpux8&ckId=h2c8pxojavrmo1w785z7ueih2ybfpux8&sfrom=search_job_pc&curPage=0&pageSize=40&index=10', 'requireEduLevel': '硕士'}, 'recruiter': {'recruiterId': '82de75a2c58dde5bb73559033c48ec7b', 'recruiterName': '黄女士', 'recruiterTitle': '猎头顾问', 'imId': '413481a86a4a4105361cc4c1c85cc0f8', 'imUserType': '2', 'chatted': False, 'recruiterPhoto': '5f8fa3bdea60860b75385c7e08u.png'}, 'dataInfo': '%7B%22jobKind%22%3A%221%22%2C%22sfrom%22%3A%22search_job_pc%22%2C%22ckId%22%3A%22h2c8pxojavrmo1w785z7ueih2ybfpux8%22%2C%22scene%22%3A%22input%22%2C%22skId%22%3A%22h2c8pxojavrmo1w785z7ueih2ybfpux8%22%2C%22fkId%22%3A%22h2c8pxojavrmo1w785z7ueih2ybfpux8%22%2C%22pageSize%22%3A%2240%22%2C%22curPage%22%3A%220%22%2C%22jobId%22%3A%2251341685%22%2C%22d_curPage%22%3A%220%22%2C%22d_pageSize%22%3A%2240%22%2C%22as_from%22%3A%22search_prime%22%7D', 'dataParams': '{\"jobKind\":\"1\",\"userId\":\"82de75a2c58dde5bb73559033c48ec7b\",\"recruiterName\":\"黄女士\",\"imId\":\"413481a86a4a4105361cc4c1c85cc0f8\",\"imUserType\":\"2\",\"jobId\":\"51341685\",\"recruiterPhoto\":\"5f8fa3bdea60860b75385c7e08u.png\"}'}, {'comp': {'link': '', 'compScale': '500-999人', 'compStage': '已上市', 'compLogo': '60e2fe0bf3df194a3c48adb502u.png', 'compName': '某广州知名制药公司', 'compIndustry': '制药'}, 'job': {'labels': ['招商产品经理'], 'link': 'https://www.liepin.com/a/51098757.shtml', 'jobKind': '1', 'salary': '20-30k·14薪', 'title': '产品经理', 'topJob': False, 'refreshTime': '20231215090853', 'dq': '广州', 'jobId': '51098757', 'requireWorkYears': '3-5年', 'advViewFlag': False, 'dataPromId': 'd_sfrom=search_prime&d_ckId=null&d_curPage=0&d_pageSize=40&d_headId=null&d_posi=11&skId=h2c8pxojavrmo1w785z7ueih2ybfpux8&fkId=h2c8pxojavrmo1w785z7ueih2ybfpux8&ckId=h2c8pxojavrmo1w785z7ueih2ybfpux8&sfrom=search_job_pc&curPage=0&pageSize=40&index=11', 'requireEduLevel': '统招本科'}, 'recruiter': {'recruiterId': 'aa962e4752fbca291f08f73ae1fac03f', 'recruiterName': '刘女士', 'recruiterTitle': '猎头顾问', 'imId': '5d74db042f5fd415f76fdb90ccba96fb', 'imUserType': '2', 'chatted': False, 'recruiterPhoto': '63feb4168215c0586b782b5306u.jpeg'}, 'dataInfo': '%7B%22jobKind%22%3A%221%22%2C%22sfrom%22%3A%22search_job_pc%22%2C%22ckId%22%3A%22h2c8pxojavrmo1w785z7ueih2ybfpux8%22%2C%22scene%22%3A%22input%22%2C%22skId%22%3A%22h2c8pxojavrmo1w785z7ueih2ybfpux8%22%2C%22fkId%22%3A%22h2c8pxojavrmo1w785z7ueih2ybfpux8%22%2C%22pageSize%22%3A%2240%22%2C%22curPage%22%3A%220%22%2C%22jobId%22%3A%2251098757%22%2C%22d_curPage%22%3A%220%22%2C%22d_pageSize%22%3A%2240%22%2C%22as_from%22%3A%22search_prime%22%7D', 'dataParams': '{\"jobKind\":\"1\",\"userId\":\"aa962e4752fbca291f08f73ae1fac03f\",\"recruiterName\":\"刘女士\",\"imId\":\"5d74db042f5fd415f76fdb90ccba96fb\",\"imUserType\":\"2\",\"jobId\":\"51098757\",\"recruiterPhoto\":\"63feb4168215c0586b782b5306u.jpeg\"}'}, {'comp': {'link': '', 'compScale': '10000人以上', 'compStage': '融资未公开', 'compLogo': '60e2fe0bf3df194a3c48adb502u.png', 'compName': '某广州大型整车制造公司', 'compIndustry': '汽车零部件及配件'}, 'job': {'labels': ['产品经理', '车身电子模块'], 'link': 'https://www.liepin.com/a/49625465.shtml', 'jobKind': '1', 'salary': '40-50k·15薪', 'title': '产品经理-汽车车身电子域控', 'topJob': False, 'refreshTime': '20231215092709', 'dq': '广州', 'jobId': '49625465', 'requireWorkYears': '5-10年', 'advViewFlag': False, 'dataPromId': 'd_sfrom=search_prime&d_ckId=null&d_curPage=0&d_pageSize=40&d_headId=null&d_posi=12&skId=h2c8pxojavrmo1w785z7ueih2ybfpux8&fkId=h2c8pxojavrmo1w785z7ueih2ybfpux8&ckId=h2c8pxojavrmo1w785z7ueih2ybfpux8&sfrom=search_job_pc&curPage=0&pageSize=40&index=12', 'requireEduLevel': '本科'}, 'recruiter': {'recruiterId': '41fa653e194c220ad46c8825140e3e22', 'recruiterName': '赵先生', 'recruiterTitle': '猎头顾问', 'imId': '620910a8fc740c479b730e23f2bd8f83', 'imUserType': '2', 'chatted': False, 'recruiterPhoto': '618374e44ef3c506648f576402u.png'}, 'dataInfo': '%7B%22jobKind%22%3A%221%22%2C%22sfrom%22%3A%22search_job_pc%22%2C%22ckId%22%3A%22h2c8pxojavrmo1w785z7ueih2ybfpux8%22%2C%22scene%22%3A%22input%22%2C%22skId%22%3A%22h2c8pxojavrmo1w785z7ueih2ybfpux8%22%2C%22fkId%22%3A%22h2c8pxojavrmo1w785z7ueih2ybfpux8%22%2C%22pageSize%22%3A%2240%22%2C%22curPage%22%3A%220%22%2C%22jobId%22%3A%2249625465%22%2C%22d_curPage%22%3A%220%22%2C%22d_pageSize%22%3A%2240%22%2C%22as_from%22%3A%22search_prime%22%7D', 'dataParams': '{\"jobKind\":\"1\",\"userId\":\"41fa653e194c220ad46c8825140e3e22\",\"recruiterName\":\"赵先生\",\"imId\":\"620910a8fc740c479b730e23f2bd8f83\",\"imUserType\":\"2\",\"jobId\":\"49625465\",\"recruiterPhoto\":\"618374e44ef3c506648f576402u.png\"}'}, {'comp': {'link': 'https://www.liepin.com/company/930104/', 'compId': 930104, 'compScale': '5000-10000人', 'compStage': '美股上市', 'compLogo': '5e13ea35643e6e53a878611508u.jpg', 'compName': '欢聚集团', 'compIndustry': '互联网'}, 'job': {'labels': ['O2O'], 'link': 'https://www.liepin.com/job/1961281705.shtml', 'jobKind': '2', 'salary': '15-30k·13薪', 'title': 'Global Product Manager Trainee  (MJ006226)', 'topJob': False, 'refreshTime': '20231117174851', 'dq': '广州-番禺区', 'jobId': '61281705', 'pcOuterLink': '', 'h5OuterLink': '', 'requireWorkYears': '1-3年', 'advViewFlag': False, 'dataPromId': 'd_sfrom=search_prime&d_ckId=null&d_curPage=0&d_pageSize=40&d_headId=null&d_posi=13&skId=h2c8pxojavrmo1w785z7ueih2ybfpux8&fkId=h2c8pxojavrmo1w785z7ueih2ybfpux8&ckId=h2c8pxojavrmo1w785z7ueih2ybfpux8&sfrom=search_job_pc&curPage=0&pageSize=40&index=13', 'requireEduLevel': '统招本科'}, 'recruiter': {'recruiterId': 'afbf12d877df8a7a4702592abf81987c', 'recruiterName': '刘女士', 'recruiterTitle': '人事', 'imId': '794026459431c35e9941166e65ebdb6f', 'imUserType': '2', 'chatted': False, 'recruiterPhoto': '5f8f986779c7cc70efbf36c008u.jpg'}, 'dataInfo': '%7B%22jobKind%22%3A%222%22%2C%22sfrom%22%3A%22search_job_pc%22%2C%22ckId%22%3A%22h2c8pxojavrmo1w785z7ueih2ybfpux8%22%2C%22scene%22%3A%22input%22%2C%22skId%22%3A%22h2c8pxojavrmo1w785z7ueih2ybfpux8%22%2C%22fkId%22%3A%22h2c8pxojavrmo1w785z7ueih2ybfpux8%22%2C%22pageSize%22%3A%2240%22%2C%22curPage%22%3A%220%22%2C%22jobId%22%3A%2261281705%22%2C%22d_curPage%22%3A%220%22%2C%22d_pageSize%22%3A%2240%22%2C%22as_from%22%3A%22search_prime%22%7D', 'dataParams': '{\"jobKind\":\"2\",\"userId\":\"afbf12d877df8a7a4702592abf81987c\",\"recruiterName\":\"刘女士\",\"imId\":\"794026459431c35e9941166e65ebdb6f\",\"imUserType\":\"2\",\"jobId\":\"61281705\",\"recruiterPhoto\":\"5f8f986779c7cc70efbf36c008u.jpg\"}'}, {'comp': {'link': 'https://www.liepin.com/company/9660700/', 'compId': 9660700, 'compScale': '1000-2000人', 'compLogo': '5f30a76e556e7a7b1280cc3006u.png', 'compName': '嫚熙控股(广州)有限公司', 'compIndustry': '互联网'}, 'job': {'labels': ['产品策略', '爆品', '母婴', '美妆', '产品策划', '电商'], 'link': 'https://www.liepin.com/job/1958870277.shtml', 'jobKind': '2', 'salary': '18-30k', 'title': '产品策划经理', 'topJob': False, 'refreshTime': '20231214185356', 'dq': '广州-白云区', 'jobId': '58870277', 'pcOuterLink': '', 'h5OuterLink': '', 'requireWorkYears': '5-10年', 'advViewFlag': False, 'dataPromId': 'd_sfrom=search_prime&d_ckId=null&d_curPage=0&d_pageSize=40&d_headId=null&d_posi=14&skId=h2c8pxojavrmo1w785z7ueih2ybfpux8&fkId=h2c8pxojavrmo1w785z7ueih2ybfpux8&ckId=h2c8pxojavrmo1w785z7ueih2ybfpux8&sfrom=search_job_pc&curPage=0&pageSize=40&index=14', 'requireEduLevel': '本科'}, 'recruiter': {'recruiterId': '1b2d3c696b09ca69b0e5f3264419b081', 'recruiterName': '黄女士', 'recruiterTitle': 'HRBP经理', 'imId': '556085ce1cfb1ea84c7b9da341e06feb', 'imUserType': '2', 'chatted': False, 'recruiterPhoto': '5f8f9863f6d1ab58476f246a08u.jpg'}, 'dataInfo': '%7B%22jobKind%22%3A%222%22%2C%22sfrom%22%3A%22search_job_pc%22%2C%22ckId%22%3A%22h2c8pxojavrmo1w785z7ueih2ybfpux8%22%2C%22scene%22%3A%22input%22%2C%22skId%22%3A%22h2c8pxojavrmo1w785z7ueih2ybfpux8%22%2C%22fkId%22%3A%22h2c8pxojavrmo1w785z7ueih2ybfpux8%22%2C%22pageSize%22%3A%2240%22%2C%22curPage%22%3A%220%22%2C%22jobId%22%3A%2258870277%22%2C%22d_curPage%22%3A%220%22%2C%22d_pageSize%22%3A%2240%22%2C%22as_from%22%3A%22search_prime%22%7D', 'dataParams': '{\"jobKind\":\"2\",\"userId\":\"1b2d3c696b09ca69b0e5f3264419b081\",\"recruiterName\":\"黄女士\",\"imId\":\"556085ce1cfb1ea84c7b9da341e06feb\",\"imUserType\":\"2\",\"jobId\":\"58870277\",\"recruiterPhoto\":\"5f8f9863f6d1ab58476f246a08u.jpg\"}'}, {'comp': {'link': '', 'compScale': '100-499人', 'compStage': '已上市', 'compLogo': '60e2fe0bf3df194a3c48adb502u.png', 'compName': '某知名公司', 'compIndustry': '广告/公关/会展'}, 'job': {'labels': ['AIGC', 'AI产品'], 'link': 'https://www.liepin.com/a/47365799.shtml', 'jobKind': '1', 'salary': '35-45k', 'title': 'AIGC营销产品经理', 'topJob': False, 'refreshTime': '20231215145636', 'dq': '广州', 'jobId': '47365799', 'requireWorkYears': '3-5年', 'advViewFlag': False, 'dataPromId': 'd_sfrom=search_prime&d_ckId=null&d_curPage=0&d_pageSize=40&d_headId=null&d_posi=15&skId=h2c8pxojavrmo1w785z7ueih2ybfpux8&fkId=h2c8pxojavrmo1w785z7ueih2ybfpux8&ckId=h2c8pxojavrmo1w785z7ueih2ybfpux8&sfrom=search_job_pc&curPage=0&pageSize=40&index=15', 'requireEduLevel': '统招本科'}, 'recruiter': {'recruiterId': 'd82443182845f7d6e5afd23549098fa1', 'recruiterName': '杨女士', 'recruiterTitle': '猎头顾问', 'imId': 'c2f0b8b1f0fe91f9e030375514342674', 'imUserType': '2', 'chatted': False, 'recruiterPhoto': '608c916063e75e67cfb39bdc05u.png'}, 'dataInfo': '%7B%22jobKind%22%3A%221%22%2C%22sfrom%22%3A%22search_job_pc%22%2C%22ckId%22%3A%22h2c8pxojavrmo1w785z7ueih2ybfpux8%22%2C%22scene%22%3A%22input%22%2C%22skId%22%3A%22h2c8pxojavrmo1w785z7ueih2ybfpux8%22%2C%22fkId%22%3A%22h2c8pxojavrmo1w785z7ueih2ybfpux8%22%2C%22pageSize%22%3A%2240%22%2C%22curPage%22%3A%220%22%2C%22jobId%22%3A%2247365799%22%2C%22d_curPage%22%3A%220%22%2C%22d_pageSize%22%3A%2240%22%2C%22as_from%22%3A%22search_prime%22%7D', 'dataParams': '{\"jobKind\":\"1\",\"userId\":\"d82443182845f7d6e5afd23549098fa1\",\"recruiterName\":\"杨女士\",\"imId\":\"c2f0b8b1f0fe91f9e030375514342674\",\"imUserType\":\"2\",\"jobId\":\"47365799\",\"recruiterPhoto\":\"608c916063e75e67cfb39bdc05u.png\"}'}, {'comp': {'link': 'https://www.liepin.com/company/8506529/', 'compId': 8506529, 'compScale': '5000-10000人', 'compLogo': '652cc8f450dc1d7858fd548107u.png', 'compName': '丹纳赫', 'compIndustry': '医疗器械'}, 'job': {'labels': [], 'link': 'https://www.liepin.com/job/1956876529.shtml', 'jobKind': '2', 'salary': '20-40k·13薪', 'title': 'Automation Product Manager', 'topJob': False, 'refreshTime': '20230626175056', 'dq': '广州-天河区', 'jobId': '56876529', 'pcOuterLink': '', 'h5OuterLink': '', 'requireWorkYears': '5-10年', 'advViewFlag': False, 'dataPromId': 'd_sfrom=search_prime&d_ckId=null&d_curPage=0&d_pageSize=40&d_headId=null&d_posi=16&skId=h2c8pxojavrmo1w785z7ueih2ybfpux8&fkId=h2c8pxojavrmo1w785z7ueih2ybfpux8&ckId=h2c8pxojavrmo1w785z7ueih2ybfpux8&sfrom=search_job_pc&curPage=0&pageSize=40&index=16', 'requireEduLevel': '本科'}, 'recruiter': {'recruiterId': '57a52ed73fed146b4c632be0178bfd3f', 'recruiterName': '王女士', 'recruiterTitle': '人力资源专员', 'imId': '24c1cab13ef9bc2e801c17c79e240538', 'imUserType': '2', 'chatted': False, 'recruiterPhoto': '5f8f98648dbe6273dcf8515508u.jpg'}, 'dataInfo': '%7B%22jobKind%22%3A%222%22%2C%22sfrom%22%3A%22search_job_pc%22%2C%22ckId%22%3A%22h2c8pxojavrmo1w785z7ueih2ybfpux8%22%2C%22scene%22%3A%22input%22%2C%22skId%22%3A%22h2c8pxojavrmo1w785z7ueih2ybfpux8%22%2C%22fkId%22%3A%22h2c8pxojavrmo1w785z7ueih2ybfpux8%22%2C%22pageSize%22%3A%2240%22%2C%22curPage%22%3A%220%22%2C%22jobId%22%3A%2256876529%22%2C%22d_curPage%22%3A%220%22%2C%22d_pageSize%22%3A%2240%22%2C%22as_from%22%3A%22search_prime%22%7D', 'dataParams': '{\"jobKind\":\"2\",\"userId\":\"57a52ed73fed146b4c632be0178bfd3f\",\"recruiterName\":\"王女士\",\"imId\":\"24c1cab13ef9bc2e801c17c79e240538\",\"imUserType\":\"2\",\"jobId\":\"56876529\",\"recruiterPhoto\":\"5f8f98648dbe6273dcf8515508u.jpg\"}'}, {'comp': {'link': 'https://www.liepin.com/company/8598051/', 'compId': 8598051, 'compScale': '1000-2000人', 'compLogo': '59029b747032a701b89b8b7a04a.jpg', 'compName': '上海华钦信息科技股份有限公司', 'compIndustry': '计算机软件'}, 'job': {'labels': [], 'link': 'https://www.liepin.com/job/1963559441.shtml', 'jobKind': '2', 'salary': '23-29k', 'title': 'Product Manager（外企保险不加班）', 'topJob': False, 'refreshTime': '20231212152012', 'dq': '广州-天河区', 'jobId': '63559441', 'pcOuterLink': '', 'h5OuterLink': '', 'requireWorkYears': '5-10年', 'advViewFlag': False, 'dataPromId': 'd_sfrom=search_prime&d_ckId=null&d_curPage=0&d_pageSize=40&d_headId=null&d_posi=17&skId=h2c8pxojavrmo1w785z7ueih2ybfpux8&fkId=h2c8pxojavrmo1w785z7ueih2ybfpux8&ckId=h2c8pxojavrmo1w785z7ueih2ybfpux8&sfrom=search_job_pc&curPage=0&pageSize=40&index=17', 'requireEduLevel': '本科'}, 'recruiter': {'recruiterId': '4a53bc5232589adbaba6c30e620cd045', 'recruiterName': '黄先生', 'recruiterTitle': '招聘顾问', 'imId': 'd4034d8dd9af0fe66e8893c9219f7e03', 'imUserType': '2', 'chatted': False, 'recruiterPhoto': '5f8f9868f6d1ab58476f24a008u.jpg'}, 'dataInfo': '%7B%22jobKind%22%3A%222%22%2C%22sfrom%22%3A%22search_job_pc%22%2C%22ckId%22%3A%22h2c8pxojavrmo1w785z7ueih2ybfpux8%22%2C%22scene%22%3A%22input%22%2C%22skId%22%3A%22h2c8pxojavrmo1w785z7ueih2ybfpux8%22%2C%22fkId%22%3A%22h2c8pxojavrmo1w785z7ueih2ybfpux8%22%2C%22pageSize%22%3A%2240%22%2C%22curPage%22%3A%220%22%2C%22jobId%22%3A%2263559441%22%2C%22d_curPage%22%3A%220%22%2C%22d_pageSize%22%3A%2240%22%2C%22as_from%22%3A%22search_prime%22%7D', 'dataParams': '{\"jobKind\":\"2\",\"userId\":\"4a53bc5232589adbaba6c30e620cd045\",\"recruiterName\":\"黄先生\",\"imId\":\"d4034d8dd9af0fe66e8893c9219f7e03\",\"imUserType\":\"2\",\"jobId\":\"63559441\",\"recruiterPhoto\":\"5f8f9868f6d1ab58476f24a008u.jpg\"}'}, {'comp': {'link': 'https://www.liepin.com/company/9283329/', 'compId': 9283329, 'compScale': '1-49人', 'compLogo': '59dc78457832e11b880f044c05a.png', 'compName': '即能科技(广州)有限公司', 'compIndustry': '专业技术服务'}, 'job': {'labels': ['b端产品', '用户增长', '策略产品', '数据分析', '内容产品', 'C端产品', '增长黑客', '私域增长', '新零售'], 'link': 'https://www.liepin.com/job/1930477665.shtml', 'jobKind': '2', 'salary': '18-40k·14薪', 'title': '产品经理', 'topJob': False, 'refreshTime': '20231213115114', 'dq': '广州-越秀区', 'jobId': '30477665', 'pcOuterLink': '', 'h5OuterLink': '', 'requireWorkYears': '5-10年', 'advViewFlag': False, 'dataPromId': 'd_sfrom=search_prime&d_ckId=null&d_curPage=0&d_pageSize=40&d_headId=null&d_posi=18&skId=h2c8pxojavrmo1w785z7ueih2ybfpux8&fkId=h2c8pxojavrmo1w785z7ueih2ybfpux8&ckId=h2c8pxojavrmo1w785z7ueih2ybfpux8&sfrom=search_job_pc&curPage=0&pageSize=40&index=18', 'requireEduLevel': '硕士'}, 'recruiter': {'recruiterId': '8d90c26ed477481c5bfe988e1b72f121', 'recruiterName': 'Keli Tang', 'recruiterTitle': 'HRBP', 'imId': 'edbe6a7c4ed9d6e5aaa70b13e477f173', 'imUserType': '2', 'chatted': False, 'recruiterPhoto': '5f8f9865ea60860b75384fa508u.jpg'}, 'dataInfo': '%7B%22jobKind%22%3A%222%22%2C%22sfrom%22%3A%22search_job_pc%22%2C%22ckId%22%3A%22h2c8pxojavrmo1w785z7ueih2ybfpux8%22%2C%22scene%22%3A%22input%22%2C%22skId%22%3A%22h2c8pxojavrmo1w785z7ueih2ybfpux8%22%2C%22fkId%22%3A%22h2c8pxojavrmo1w785z7ueih2ybfpux8%22%2C%22pageSize%22%3A%2240%22%2C%22curPage%22%3A%220%22%2C%22jobId%22%3A%2230477665%22%2C%22d_curPage%22%3A%220%22%2C%22d_pageSize%22%3A%2240%22%2C%22as_from%22%3A%22search_prime%22%7D', 'dataParams': '{\"jobKind\":\"2\",\"userId\":\"8d90c26ed477481c5bfe988e1b72f121\",\"recruiterName\":\"Keli Tang\",\"imId\":\"edbe6a7c4ed9d6e5aaa70b13e477f173\",\"imUserType\":\"2\",\"jobId\":\"30477665\",\"recruiterPhoto\":\"5f8f9865ea60860b75384fa508u.jpg\"}'}, {'comp': {'link': 'https://www.liepin.com/company/2664546/', 'compId': 2664546, 'compScale': '2000-5000人', 'compStage': '其他', 'compLogo': '5bfe92c174719d9f609a7b9603a.png', 'compName': '汇丰软件', 'compIndustry': '计算机软件'}, 'job': {'labels': [], 'link': 'https://www.liepin.com/job/1943037645.shtml', 'jobKind': '2', 'salary': '薪资面议', 'title': '数码产品经理', 'topJob': False, 'refreshTime': '20210913204744', 'dq': '广州', 'jobId': '43037645', 'pcOuterLink': '', 'h5OuterLink': '', 'requireWorkYears': '3-5年', 'advViewFlag': False, 'dataPromId': 'd_sfrom=search_prime&d_ckId=null&d_curPage=0&d_pageSize=40&d_headId=null&d_posi=19&skId=h2c8pxojavrmo1w785z7ueih2ybfpux8&fkId=h2c8pxojavrmo1w785z7ueih2ybfpux8&ckId=h2c8pxojavrmo1w785z7ueih2ybfpux8&sfrom=search_job_pc&curPage=0&pageSize=40&index=19', 'requireEduLevel': '本科'}, 'recruiter': {'recruiterId': '80a35acbf6b5573c5c8cd7b9f6ba8101', 'recruiterName': '张先生', 'recruiterTitle': '112', 'imId': 'bd0efb08acc7704271de52c3bc0b6279', 'imUserType': '2', 'chatted': False, 'recruiterPhoto': '5f8f986aea60860b75384fab08u.jpg'}, 'dataInfo': '%7B%22jobKind%22%3A%222%22%2C%22sfrom%22%3A%22search_job_pc%22%2C%22ckId%22%3A%22h2c8pxojavrmo1w785z7ueih2ybfpux8%22%2C%22scene%22%3A%22input%22%2C%22skId%22%3A%22h2c8pxojavrmo1w785z7ueih2ybfpux8%22%2C%22fkId%22%3A%22h2c8pxojavrmo1w785z7ueih2ybfpux8%22%2C%22pageSize%22%3A%2240%22%2C%22curPage%22%3A%220%22%2C%22jobId%22%3A%2243037645%22%2C%22d_curPage%22%3A%220%22%2C%22d_pageSize%22%3A%2240%22%2C%22as_from%22%3A%22search_prime%22%7D', 'dataParams': '{\"jobKind\":\"2\",\"userId\":\"80a35acbf6b5573c5c8cd7b9f6ba8101\",\"recruiterName\":\"张先生\",\"imId\":\"bd0efb08acc7704271de52c3bc0b6279\",\"imUserType\":\"2\",\"jobId\":\"43037645\",\"recruiterPhoto\":\"5f8f986aea60860b75384fab08u.jpg\"}'}, {'comp': {'link': 'https://www.liepin.com/company/7932064/', 'compId': 7932064, 'compScale': '100-499人', 'compStage': '融资未公开', 'compLogo': '5bfe8edd74719d35745a548603a.png', 'compName': '广东环凯微生物科技有限公司', 'compIndustry': '制药'}, 'job': {'labels': [], 'link': 'https://www.liepin.com/job/1935923437.shtml', 'jobKind': '2', 'salary': '12-30k', 'title': '产品经理（工业消洗产品）', 'topJob': False, 'refreshTime': '20230602115342', 'dq': '广州', 'jobId': '35923437', 'pcOuterLink': '', 'h5OuterLink': '', 'requireWorkYears': '3-5年', 'advViewFlag': False, 'dataPromId': 'd_sfrom=search_prime&d_ckId=null&d_curPage=0&d_pageSize=40&d_headId=null&d_posi=20&skId=h2c8pxojavrmo1w785z7ueih2ybfpux8&fkId=h2c8pxojavrmo1w785z7ueih2ybfpux8&ckId=h2c8pxojavrmo1w785z7ueih2ybfpux8&sfrom=search_job_pc&curPage=0&pageSize=40&index=20', 'requireEduLevel': '硕士'}, 'recruiter': {'recruiterId': '7f371db882206fccd2bdf1809a52d3e6', 'recruiterName': '陈女士', 'recruiterTitle': 'HR', 'imId': '18f5af2ced812a43d6a9d1214a39013b', 'imUserType': '2', 'chatted': False, 'recruiterPhoto': '5f8f9863f6d1ab58476f246a08u.jpg'}, 'dataInfo': '%7B%22jobKind%22%3A%222%22%2C%22sfrom%22%3A%22search_job_pc%22%2C%22ckId%22%3A%22h2c8pxojavrmo1w785z7ueih2ybfpux8%22%2C%22scene%22%3A%22input%22%2C%22skId%22%3A%22h2c8pxojavrmo1w785z7ueih2ybfpux8%22%2C%22fkId%22%3A%22h2c8pxojavrmo1w785z7ueih2ybfpux8%22%2C%22pageSize%22%3A%2240%22%2C%22curPage%22%3A%220%22%2C%22jobId%22%3A%2235923437%22%2C%22d_curPage%22%3A%220%22%2C%22d_pageSize%22%3A%2240%22%2C%22as_from%22%3A%22search_prime%22%7D', 'dataParams': '{\"jobKind\":\"2\",\"userId\":\"7f371db882206fccd2bdf1809a52d3e6\",\"recruiterName\":\"陈女士\",\"imId\":\"18f5af2ced812a43d6a9d1214a39013b\",\"imUserType\":\"2\",\"jobId\":\"35923437\",\"recruiterPhoto\":\"5f8f9863f6d1ab58476f246a08u.jpg\"}'}, {'comp': {'link': 'https://www.liepin.com/company/13032765/', 'compId': 13032765, 'compScale': '2000-5000人', 'compLogo': '628c584cb244352e0e92248608u.png', 'compName': '斯凯奇中国', 'compIndustry': '服装/纺织/皮革'}, 'job': {'labels': ['商品管理', '产品企划', '商品运营'], 'link': 'https://www.liepin.com/job/1950466807.shtml', 'jobKind': '2', 'salary': '14-28k·16薪', 'title': '产品经理-产品企划（鞋类）(J13091)', 'topJob': False, 'refreshTime': '20221116184947', 'dq': '广州-天河区', 'jobId': '50466807', 'pcOuterLink': '', 'h5OuterLink': '', 'requireWorkYears': '3-5年', 'advViewFlag': False, 'dataPromId': 'd_sfrom=search_prime&d_ckId=null&d_curPage=0&d_pageSize=40&d_headId=null&d_posi=21&skId=h2c8pxojavrmo1w785z7ueih2ybfpux8&fkId=h2c8pxojavrmo1w785z7ueih2ybfpux8&ckId=h2c8pxojavrmo1w785z7ueih2ybfpux8&sfrom=search_job_pc&curPage=0&pageSize=40&index=21', 'requireEduLevel': '本科'}, 'recruiter': {'recruiterId': '3466dbf14ff3a1923d3d8a2c8cd5b370', 'recruiterName': '陈先生', 'recruiterTitle': '', 'imId': 'feaaf399e43a569d29323863fa1c0b93', 'imUserType': '2', 'chatted': False, 'recruiterPhoto': '5f8f9868f6d1ab58476f24a008u.jpg'}, 'dataInfo': '%7B%22jobKind%22%3A%222%22%2C%22sfrom%22%3A%22search_job_pc%22%2C%22ckId%22%3A%22h2c8pxojavrmo1w785z7ueih2ybfpux8%22%2C%22scene%22%3A%22input%22%2C%22skId%22%3A%22h2c8pxojavrmo1w785z7ueih2ybfpux8%22%2C%22fkId%22%3A%22h2c8pxojavrmo1w785z7ueih2ybfpux8%22%2C%22pageSize%22%3A%2240%22%2C%22curPage%22%3A%220%22%2C%22jobId%22%3A%2250466807%22%2C%22d_curPage%22%3A%220%22%2C%22d_pageSize%22%3A%2240%22%2C%22as_from%22%3A%22search_prime%22%7D', 'dataParams': '{\"jobKind\":\"2\",\"userId\":\"3466dbf14ff3a1923d3d8a2c8cd5b370\",\"recruiterName\":\"陈先生\",\"imId\":\"feaaf399e43a569d29323863fa1c0b93\",\"imUserType\":\"2\",\"jobId\":\"50466807\",\"recruiterPhoto\":\"5f8f9868f6d1ab58476f24a008u.jpg\"}'}, {'comp': {'link': 'https://www.liepin.com/company/7865459/', 'compId': 7865459, 'compScale': '10000人以上', 'compLogo': '5bfe90cf74719d35745ab55f03a.png', 'compName': '软通动力', 'compIndustry': '互联网'}, 'job': {'labels': ['内容产品', '策略产品', 'IT互联网', '消费品', '产品优化', '产品规划', '小程序产品', '产品设计', '数据分析', '竞品分析'], 'link': 'https://www.liepin.com/job/1960422621.shtml', 'jobKind': '2', 'salary': '16-22k', 'title': '产品经理', 'topJob': False, 'refreshTime': '20231215101713', 'dq': '广州-天河区', 'jobId': '60422621', 'pcOuterLink': '', 'h5OuterLink': '', 'requireWorkYears': '3-5年', 'advViewFlag': False, 'dataPromId': 'd_sfrom=search_prime&d_ckId=null&d_curPage=0&d_pageSize=40&d_headId=null&d_posi=22&skId=h2c8pxojavrmo1w785z7ueih2ybfpux8&fkId=h2c8pxojavrmo1w785z7ueih2ybfpux8&ckId=h2c8pxojavrmo1w785z7ueih2ybfpux8&sfrom=search_job_pc&curPage=0&pageSize=40&index=22', 'requireEduLevel': '本科'}, 'recruiter': {'recruiterId': '45f2508978d0b25257aafe3aa5e73b67', 'recruiterName': '赵女士', 'recruiterTitle': 'SP', 'imId': 'd140258a56e55a998f669bb17ec3d8eb', 'imUserType': '2', 'chatted': False, 'recruiterPhoto': '5f8f9866dfb13a7dee342f1808u.jpg'}, 'dataInfo': '%7B%22jobKind%22%3A%222%22%2C%22sfrom%22%3A%22search_job_pc%22%2C%22ckId%22%3A%22h2c8pxojavrmo1w785z7ueih2ybfpux8%22%2C%22scene%22%3A%22input%22%2C%22skId%22%3A%22h2c8pxojavrmo1w785z7ueih2ybfpux8%22%2C%22fkId%22%3A%22h2c8pxojavrmo1w785z7ueih2ybfpux8%22%2C%22pageSize%22%3A%2240%22%2C%22curPage%22%3A%220%22%2C%22jobId%22%3A%2260422621%22%2C%22d_curPage%22%3A%220%22%2C%22d_pageSize%22%3A%2240%22%2C%22as_from%22%3A%22search_prime%22%7D', 'dataParams': '{\"jobKind\":\"2\",\"userId\":\"45f2508978d0b25257aafe3aa5e73b67\",\"recruiterName\":\"赵女士\",\"imId\":\"d140258a56e55a998f669bb17ec3d8eb\",\"imUserType\":\"2\",\"jobId\":\"60422621\",\"recruiterPhoto\":\"5f8f9866dfb13a7dee342f1808u.jpg\"}'}, {'comp': {'link': 'https://www.liepin.com/company/8112968/', 'compId': 8112968, 'compScale': '50-99人', 'compLogo': '6274ee6d04a5ff469b10880402u.png', 'compName': '仙婷集团', 'compIndustry': '贸易/进出口'}, 'job': {'labels': ['口腔健康', '口腔护理', '产品推广', '方案设计', '产品策划', '研讨会', '技术支持', '英语可作工作语言', 'PPT', '数据分析'], 'link': 'https://www.liepin.com/job/1962080265.shtml', 'jobKind': '2', 'salary': '薪资面议', 'title': 'Oral Product Manager', 'topJob': False, 'refreshTime': '20231215105929', 'dq': '广州-天河区', 'jobId': '62080265', 'pcOuterLink': '', 'h5OuterLink': '', 'requireWorkYears': '5-10年', 'advViewFlag': False, 'dataPromId': 'd_sfrom=search_prime&d_ckId=null&d_curPage=0&d_pageSize=40&d_headId=null&d_posi=23&skId=h2c8pxojavrmo1w785z7ueih2ybfpux8&fkId=h2c8pxojavrmo1w785z7ueih2ybfpux8&ckId=h2c8pxojavrmo1w785z7ueih2ybfpux8&sfrom=search_job_pc&curPage=0&pageSize=40&index=23', 'requireEduLevel': '统招本科'}, 'recruiter': {'recruiterId': '14799e1bef289c70aa9b550257de7ea8', 'recruiterName': '吴女士', 'recruiterTitle': 'HR Officer', 'imId': '0ce6f53a162e27cc9427b88c78d2ff1f', 'imUserType': '2', 'chatted': False, 'recruiterPhoto': '5f8f98648dbe6273dcf8515508u.jpg'}, 'dataInfo': '%7B%22jobKind%22%3A%222%22%2C%22sfrom%22%3A%22search_job_pc%22%2C%22ckId%22%3A%22h2c8pxojavrmo1w785z7ueih2ybfpux8%22%2C%22scene%22%3A%22input%22%2C%22skId%22%3A%22h2c8pxojavrmo1w785z7ueih2ybfpux8%22%2C%22fkId%22%3A%22h2c8pxojavrmo1w785z7ueih2ybfpux8%22%2C%22pageSize%22%3A%2240%22%2C%22curPage%22%3A%220%22%2C%22jobId%22%3A%2262080265%22%2C%22d_curPage%22%3A%220%22%2C%22d_pageSize%22%3A%2240%22%2C%22as_from%22%3A%22search_prime%22%7D', 'dataParams': '{\"jobKind\":\"2\",\"userId\":\"14799e1bef289c70aa9b550257de7ea8\",\"recruiterName\":\"吴女士\",\"imId\":\"0ce6f53a162e27cc9427b88c78d2ff1f\",\"imUserType\":\"2\",\"jobId\":\"62080265\",\"recruiterPhoto\":\"5f8f98648dbe6273dcf8515508u.jpg\"}'}, {'comp': {'link': 'https://www.liepin.com/company/8275623/', 'compId': 8275623, 'compScale': '2000-5000人', 'compStage': '港股上市', 'compLogo': '5bfe916674719d35745ad29703a.png', 'compName': '康方生物', 'compIndustry': '制药'}, 'job': {'labels': ['泌尿外科'], 'link': 'https://www.liepin.com/job/1957157157.shtml', 'jobKind': '2', 'salary': '25-30k·14薪', 'title': '医药产品经理', 'topJob': False, 'refreshTime': '20231107193630', 'dq': '广州-越秀区', 'jobId': '57157157', 'pcOuterLink': '', 'h5OuterLink': '', 'requireWorkYears': '1-3年', 'advViewFlag': False, 'dataPromId': 'd_sfrom=search_prime&d_ckId=null&d_curPage=0&d_pageSize=40&d_headId=null&d_posi=24&skId=h2c8pxojavrmo1w785z7ueih2ybfpux8&fkId=h2c8pxojavrmo1w785z7ueih2ybfpux8&ckId=h2c8pxojavrmo1w785z7ueih2ybfpux8&sfrom=search_job_pc&curPage=0&pageSize=40&index=24', 'requireEduLevel': '硕士'}, 'recruiter': {'recruiterId': '22ab2b1a88769c3259935c280d474240', 'recruiterName': '刘先生', 'recruiterTitle': '高级医学信息沟通专员', 'imId': 'd4cc4bca17cae276aefc9b4a2bd8879c', 'imUserType': '2', 'chatted': False, 'recruiterPhoto': '5f8f986aea60860b75384fab08u.jpg'}, 'dataInfo': '%7B%22jobKind%22%3A%222%22%2C%22sfrom%22%3A%22search_job_pc%22%2C%22ckId%22%3A%22h2c8pxojavrmo1w785z7ueih2ybfpux8%22%2C%22scene%22%3A%22input%22%2C%22skId%22%3A%22h2c8pxojavrmo1w785z7ueih2ybfpux8%22%2C%22fkId%22%3A%22h2c8pxojavrmo1w785z7ueih2ybfpux8%22%2C%22pageSize%22%3A%2240%22%2C%22curPage%22%3A%220%22%2C%22jobId%22%3A%2257157157%22%2C%22d_curPage%22%3A%220%22%2C%22d_pageSize%22%3A%2240%22%2C%22as_from%22%3A%22search_prime%22%7D', 'dataParams': '{\"jobKind\":\"2\",\"userId\":\"22ab2b1a88769c3259935c280d474240\",\"recruiterName\":\"刘先生\",\"imId\":\"d4cc4bca17cae276aefc9b4a2bd8879c\",\"imUserType\":\"2\",\"jobId\":\"57157157\",\"recruiterPhoto\":\"5f8f986aea60860b75384fab08u.jpg\"}'}, {'comp': {'link': '', 'compScale': '50-99人', 'compStage': '融资未公开', 'compLogo': '60e2fe0bf3df194a3c48adb502u.png', 'compName': '某广州贸易进出口公司', 'compIndustry': '贸易/进出口'}, 'job': {'labels': [], 'link': 'https://www.liepin.com/a/49927587.shtml', 'jobKind': '1', 'salary': '12-18k·13薪', 'title': 'Oral Product Manager(口腔护理产品）', 'topJob': False, 'refreshTime': '20231215093934', 'dq': '广州-天河区', 'jobId': '49927587', 'requireWorkYears': '5-10年', 'advViewFlag': False, 'dataPromId': 'd_sfrom=search_prime&d_ckId=null&d_curPage=0&d_pageSize=40&d_headId=null&d_posi=25&skId=h2c8pxojavrmo1w785z7ueih2ybfpux8&fkId=h2c8pxojavrmo1w785z7ueih2ybfpux8&ckId=h2c8pxojavrmo1w785z7ueih2ybfpux8&sfrom=search_job_pc&curPage=0&pageSize=40&index=25', 'requireEduLevel': '统招本科'}, 'recruiter': {'recruiterId': '43077be1b8f8678f50d28906691afd37', 'recruiterName': '颜女士', 'recruiterTitle': '猎头顾问', 'imId': '74583cc804aba44c337193710fe42056', 'imUserType': '2', 'chatted': False, 'recruiterPhoto': '54d0bf50712e13549ab1aecc02c.jpg'}, 'dataInfo': '%7B%22jobKind%22%3A%221%22%2C%22sfrom%22%3A%22search_job_pc%22%2C%22ckId%22%3A%22h2c8pxojavrmo1w785z7ueih2ybfpux8%22%2C%22scene%22%3A%22input%22%2C%22skId%22%3A%22h2c8pxojavrmo1w785z7ueih2ybfpux8%22%2C%22fkId%22%3A%22h2c8pxojavrmo1w785z7ueih2ybfpux8%22%2C%22pageSize%22%3A%2240%22%2C%22curPage%22%3A%220%22%2C%22jobId%22%3A%2249927587%22%2C%22d_curPage%22%3A%220%22%2C%22d_pageSize%22%3A%2240%22%2C%22as_from%22%3A%22search_prime%22%7D', 'dataParams': '{\"jobKind\":\"1\",\"userId\":\"43077be1b8f8678f50d28906691afd37\",\"recruiterName\":\"颜女士\",\"imId\":\"74583cc804aba44c337193710fe42056\",\"imUserType\":\"2\",\"jobId\":\"49927587\",\"recruiterPhoto\":\"54d0bf50712e13549ab1aecc02c.jpg\"}'}, {'comp': {'link': 'https://www.liepin.com/company/7932064/', 'compId': 7932064, 'compScale': '100-499人', 'compStage': '融资未公开', 'compLogo': '5bfe8edd74719d35745a548603a.png', 'compName': '广东环凯微生物科技有限公司', 'compIndustry': '制药'}, 'job': {'labels': ['拓展培训', '市场洞察', '销售管理', '团队管理', '出差'], 'link': 'https://www.liepin.com/job/1961072575.shtml', 'jobKind': '2', 'salary': '15-30k·20薪', 'title': '微生物检测产品销售经理（制药行业/双休）', 'topJob': False, 'refreshTime': '20231215145253', 'dq': '广州-黄埔区', 'jobId': '61072575', 'pcOuterLink': '', 'h5OuterLink': '', 'requireWorkYears': '5-10年', 'advViewFlag': False, 'dataPromId': 'd_sfrom=search_prime&d_ckId=null&d_curPage=0&d_pageSize=40&d_headId=null&d_posi=26&skId=h2c8pxojavrmo1w785z7ueih2ybfpux8&fkId=h2c8pxojavrmo1w785z7ueih2ybfpux8&ckId=h2c8pxojavrmo1w785z7ueih2ybfpux8&sfrom=search_job_pc&curPage=0&pageSize=40&index=26', 'requireEduLevel': '本科'}, 'recruiter': {'recruiterId': '0f80a6460fa3a5f3c33c5fd0dac95307', 'recruiterName': '陈女士', 'recruiterTitle': '', 'imId': '767685575712890413dd84912f51618a', 'imUserType': '2', 'chatted': False, 'recruiterPhoto': '5f8f98648dbe6273dcf8515508u.jpg'}, 'dataInfo': '%7B%22jobKind%22%3A%222%22%2C%22sfrom%22%3A%22search_job_pc%22%2C%22ckId%22%3A%22h2c8pxojavrmo1w785z7ueih2ybfpux8%22%2C%22scene%22%3A%22input%22%2C%22skId%22%3A%22h2c8pxojavrmo1w785z7ueih2ybfpux8%22%2C%22fkId%22%3A%22h2c8pxojavrmo1w785z7ueih2ybfpux8%22%2C%22pageSize%22%3A%2240%22%2C%22curPage%22%3A%220%22%2C%22jobId%22%3A%2261072575%22%2C%22d_curPage%22%3A%220%22%2C%22d_pageSize%22%3A%2240%22%2C%22as_from%22%3A%22search_prime%22%7D', 'dataParams': '{\"jobKind\":\"2\",\"userId\":\"0f80a6460fa3a5f3c33c5fd0dac95307\",\"recruiterName\":\"陈女士\",\"imId\":\"767685575712890413dd84912f51618a\",\"imUserType\":\"2\",\"jobId\":\"61072575\",\"recruiterPhoto\":\"5f8f98648dbe6273dcf8515508u.jpg\"}'}, {'comp': {'link': '', 'compScale': '100-499人', 'compStage': '融资未公开', 'compLogo': '60e2fe0bf3df194a3c48adb502u.png', 'compName': '某广州仪器仪表公司', 'compIndustry': '仪器仪表'}, 'job': {'labels': ['to B', '产品规划', '产品设计'], 'link': 'https://www.liepin.com/a/49477287.shtml', 'jobKind': '1', 'salary': '25-35k·14薪', 'title': '产品经理', 'topJob': False, 'refreshTime': '20230918103406', 'dq': '广州', 'jobId': '49477287', 'requireWorkYears': '经验不限', 'advViewFlag': False, 'dataPromId': 'd_sfrom=search_prime&d_ckId=null&d_curPage=0&d_pageSize=40&d_headId=null&d_posi=27&skId=h2c8pxojavrmo1w785z7ueih2ybfpux8&fkId=h2c8pxojavrmo1w785z7ueih2ybfpux8&ckId=h2c8pxojavrmo1w785z7ueih2ybfpux8&sfrom=search_job_pc&curPage=0&pageSize=40&index=27', 'requireEduLevel': '本科'}, 'recruiter': {'recruiterId': '31d408dc7dda43175cbd0ed6bfaa09dc', 'recruiterName': '岑先生', 'recruiterTitle': '猎头顾问', 'imId': '162b33fcc79aa0e8ff86eb5f1c63f723', 'imUserType': '2', 'chatted': False, 'recruiterPhoto': '5f23ee20556e7a7b12762cf901u.jpg'}, 'dataInfo': '%7B%22jobKind%22%3A%221%22%2C%22sfrom%22%3A%22search_job_pc%22%2C%22ckId%22%3A%22h2c8pxojavrmo1w785z7ueih2ybfpux8%22%2C%22scene%22%3A%22input%22%2C%22skId%22%3A%22h2c8pxojavrmo1w785z7ueih2ybfpux8%22%2C%22fkId%22%3A%22h2c8pxojavrmo1w785z7ueih2ybfpux8%22%2C%22pageSize%22%3A%2240%22%2C%22curPage%22%3A%220%22%2C%22jobId%22%3A%2249477287%22%2C%22d_curPage%22%3A%220%22%2C%22d_pageSize%22%3A%2240%22%2C%22as_from%22%3A%22search_prime%22%7D', 'dataParams': '{\"jobKind\":\"1\",\"userId\":\"31d408dc7dda43175cbd0ed6bfaa09dc\",\"recruiterName\":\"岑先生\",\"imId\":\"162b33fcc79aa0e8ff86eb5f1c63f723\",\"imUserType\":\"2\",\"jobId\":\"49477287\",\"recruiterPhoto\":\"5f23ee20556e7a7b12762cf901u.jpg\"}'}, {'comp': {'link': 'https://www.liepin.com/company/8361671/', 'compId': 8361671, 'compScale': '10000人以上', 'compStage': '已上市', 'compLogo': '5ed700f4ec4db462f82e4ddf01u.png', 'compName': '上海汉得信息技术股份有限公司', 'compIndustry': '互联网'}, 'job': {'labels': ['CRM软件', '信息化项目', '软件行业', '售前支持', '批发/零售', '咨询项目', '化工行业', '服务业', 'IT/互联网/软件', 'CRM系统'], 'link': 'https://www.liepin.com/job/1957403583.shtml', 'jobKind': '2', 'salary': '11-22k', 'title': 'CRM实施顾问&项目经理PM(J12971)', 'topJob': False, 'refreshTime': '20230329180701', 'dq': '广州-番禺区', 'jobId': '57403583', 'pcOuterLink': '', 'h5OuterLink': '', 'requireWorkYears': '3-5年', 'advViewFlag': False, 'dataPromId': 'd_sfrom=search_prime&d_ckId=null&d_curPage=0&d_pageSize=40&d_headId=null&d_posi=28&skId=h2c8pxojavrmo1w785z7ueih2ybfpux8&fkId=h2c8pxojavrmo1w785z7ueih2ybfpux8&ckId=h2c8pxojavrmo1w785z7ueih2ybfpux8&sfrom=search_job_pc&curPage=0&pageSize=40&index=28', 'requireEduLevel': '本科'}, 'recruiter': {'recruiterId': '77ca96ebd1c0d4c9b55b81912526b943', 'recruiterName': '俞女士', 'recruiterTitle': 'HR', 'imId': '927752d28c878e66e4cd5c055e1e05ce', 'imUserType': '2', 'chatted': False, 'recruiterPhoto': '601baaab60c8320221e3c1d902u.png'}, 'dataInfo': '%7B%22jobKind%22%3A%222%22%2C%22sfrom%22%3A%22search_job_pc%22%2C%22ckId%22%3A%22h2c8pxojavrmo1w785z7ueih2ybfpux8%22%2C%22scene%22%3A%22input%22%2C%22skId%22%3A%22h2c8pxojavrmo1w785z7ueih2ybfpux8%22%2C%22fkId%22%3A%22h2c8pxojavrmo1w785z7ueih2ybfpux8%22%2C%22pageSize%22%3A%2240%22%2C%22curPage%22%3A%220%22%2C%22jobId%22%3A%2257403583%22%2C%22d_curPage%22%3A%220%22%2C%22d_pageSize%22%3A%2240%22%2C%22as_from%22%3A%22search_prime%22%7D', 'dataParams': '{\"jobKind\":\"2\",\"userId\":\"77ca96ebd1c0d4c9b55b81912526b943\",\"recruiterName\":\"俞女士\",\"imId\":\"927752d28c878e66e4cd5c055e1e05ce\",\"imUserType\":\"2\",\"jobId\":\"57403583\",\"recruiterPhoto\":\"601baaab60c8320221e3c1d902u.png\"}'}, {'comp': {'link': '', 'compScale': '2000-5000人', 'compStage': '其他', 'compLogo': '60e2fe0bf3df194a3c48adb502u.png', 'compName': '某广州大型计算机软件公司', 'compIndustry': '计算机软件'}, 'job': {'labels': [], 'link': 'https://www.liepin.com/a/51543657.shtml', 'jobKind': '1', 'salary': '35-50k', 'title': 'Ai product manager', 'topJob': False, 'refreshTime': '20231212114732', 'dq': '广州-天河区', 'jobId': '51543657', 'requireWorkYears': '5-10年', 'advViewFlag': False, 'dataPromId': 'd_sfrom=search_prime&d_ckId=null&d_curPage=0&d_pageSize=40&d_headId=null&d_posi=29&skId=h2c8pxojavrmo1w785z7ueih2ybfpux8&fkId=h2c8pxojavrmo1w785z7ueih2ybfpux8&ckId=h2c8pxojavrmo1w785z7ueih2ybfpux8&sfrom=search_job_pc&curPage=0&pageSize=40&index=29', 'requireEduLevel': '硕士'}, 'recruiter': {'recruiterId': '90d6e445593b14627600a6cf88179d66', 'recruiterName': '张女士', 'recruiterTitle': '猎头顾问', 'imId': 'a573e04998ed29da160b5b344d4ef7b6', 'imUserType': '2', 'chatted': False, 'recruiterPhoto': '5fa24ae58082791fc896913e08u.png'}, 'dataInfo': '%7B%22jobKind%22%3A%221%22%2C%22sfrom%22%3A%22search_job_pc%22%2C%22ckId%22%3A%22h2c8pxojavrmo1w785z7ueih2ybfpux8%22%2C%22scene%22%3A%22input%22%2C%22skId%22%3A%22h2c8pxojavrmo1w785z7ueih2ybfpux8%22%2C%22fkId%22%3A%22h2c8pxojavrmo1w785z7ueih2ybfpux8%22%2C%22pageSize%22%3A%2240%22%2C%22curPage%22%3A%220%22%2C%22jobId%22%3A%2251543657%22%2C%22d_curPage%22%3A%220%22%2C%22d_pageSize%22%3A%2240%22%2C%22as_from%22%3A%22search_prime%22%7D', 'dataParams': '{\"jobKind\":\"1\",\"userId\":\"90d6e445593b14627600a6cf88179d66\",\"recruiterName\":\"张女士\",\"imId\":\"a573e04998ed29da160b5b344d4ef7b6\",\"imUserType\":\"2\",\"jobId\":\"51543657\",\"recruiterPhoto\":\"5fa24ae58082791fc896913e08u.png\"}'}, {'comp': {'link': 'https://www.liepin.com/company/9660700/', 'compId': 9660700, 'compScale': '1000-2000人', 'compLogo': '5f30a76e556e7a7b1280cc3006u.png', 'compName': '嫚熙控股(广州)有限公司', 'compIndustry': '互联网'}, 'job': {'labels': ['品牌策划'], 'link': 'https://www.liepin.com/job/1955992453.shtml', 'jobKind': '2', 'salary': '15-25k', 'title': '产品策划经理', 'topJob': False, 'refreshTime': '20230626124343', 'dq': '广州-白云区', 'jobId': '55992453', 'pcOuterLink': '', 'h5OuterLink': '', 'requireWorkYears': '5-10年', 'advViewFlag': False, 'dataPromId': 'd_sfrom=search_prime&d_ckId=null&d_curPage=0&d_pageSize=40&d_headId=null&d_posi=30&skId=h2c8pxojavrmo1w785z7ueih2ybfpux8&fkId=h2c8pxojavrmo1w785z7ueih2ybfpux8&ckId=h2c8pxojavrmo1w785z7ueih2ybfpux8&sfrom=search_job_pc&curPage=0&pageSize=40&index=30', 'requireEduLevel': '本科'}, 'recruiter': {'recruiterId': '71e39b9fa38c7913909ac669ef10aa84', 'recruiterName': '郑先生', 'recruiterTitle': 'HRM', 'imId': 'ecb69f58b8af2fa07bed4a56d1662c8b', 'imUserType': '2', 'chatted': False, 'recruiterPhoto': '5f8f9868f6d1ab58476f24a008u.jpg'}, 'dataInfo': '%7B%22jobKind%22%3A%222%22%2C%22sfrom%22%3A%22search_job_pc%22%2C%22ckId%22%3A%22h2c8pxojavrmo1w785z7ueih2ybfpux8%22%2C%22scene%22%3A%22input%22%2C%22skId%22%3A%22h2c8pxojavrmo1w785z7ueih2ybfpux8%22%2C%22fkId%22%3A%22h2c8pxojavrmo1w785z7ueih2ybfpux8%22%2C%22pageSize%22%3A%2240%22%2C%22curPage%22%3A%220%22%2C%22jobId%22%3A%2255992453%22%2C%22d_curPage%22%3A%220%22%2C%22d_pageSize%22%3A%2240%22%2C%22as_from%22%3A%22search_prime%22%7D', 'dataParams': '{\"jobKind\":\"2\",\"userId\":\"71e39b9fa38c7913909ac669ef10aa84\",\"recruiterName\":\"郑先生\",\"imId\":\"ecb69f58b8af2fa07bed4a56d1662c8b\",\"imUserType\":\"2\",\"jobId\":\"55992453\",\"recruiterPhoto\":\"5f8f9868f6d1ab58476f24a008u.jpg\"}'}, {'comp': {'link': '', 'compScale': '100-499人', 'compLogo': '60e2fe0bf3df194a3c48adb502u.png', 'compName': '某广州IT服务公司', 'compIndustry': 'IT服务'}, 'job': {'labels': ['数据产品', '供应链产品', '电商产品', '后台产品', '交易产品', '批发/零售', '物流快递', 'IT互联网', '交通/运输/物流', '产品设计'], 'link': 'https://www.liepin.com/a/49879669.shtml', 'jobKind': '1', 'salary': '18-24k·17薪', 'title': '央企子公司-产品经理', 'topJob': False, 'refreshTime': '20231009152223', 'dq': '广州-海珠区', 'jobId': '49879669', 'requireWorkYears': '经验不限', 'advViewFlag': False, 'dataPromId': 'd_sfrom=search_prime&d_ckId=null&d_curPage=0&d_pageSize=40&d_headId=null&d_posi=31&skId=h2c8pxojavrmo1w785z7ueih2ybfpux8&fkId=h2c8pxojavrmo1w785z7ueih2ybfpux8&ckId=h2c8pxojavrmo1w785z7ueih2ybfpux8&sfrom=search_job_pc&curPage=0&pageSize=40&index=31', 'requireEduLevel': '统招本科'}, 'recruiter': {'recruiterId': '852741cb8c24c3af7e655412497995d4', 'recruiterName': '陶女士', 'recruiterTitle': '猎头顾问', 'imId': '37eaf080056c8a456bc971ec2e264ed1', 'imUserType': '2', 'chatted': False, 'recruiterPhoto': '5f2a549e556e7a7b127a73df08u.jpg'}, 'dataInfo': '%7B%22jobKind%22%3A%221%22%2C%22sfrom%22%3A%22search_job_pc%22%2C%22ckId%22%3A%22h2c8pxojavrmo1w785z7ueih2ybfpux8%22%2C%22scene%22%3A%22input%22%2C%22skId%22%3A%22h2c8pxojavrmo1w785z7ueih2ybfpux8%22%2C%22fkId%22%3A%22h2c8pxojavrmo1w785z7ueih2ybfpux8%22%2C%22pageSize%22%3A%2240%22%2C%22curPage%22%3A%220%22%2C%22jobId%22%3A%2249879669%22%2C%22d_curPage%22%3A%220%22%2C%22d_pageSize%22%3A%2240%22%2C%22as_from%22%3A%22search_prime%22%7D', 'dataParams': '{\"jobKind\":\"1\",\"userId\":\"852741cb8c24c3af7e655412497995d4\",\"recruiterName\":\"陶女士\",\"imId\":\"37eaf080056c8a456bc971ec2e264ed1\",\"imUserType\":\"2\",\"jobId\":\"49879669\",\"recruiterPhoto\":\"5f2a549e556e7a7b127a73df08u.jpg\"}'}, {'comp': {'link': '', 'compScale': '5000-10000人', 'compStage': '融资未公开', 'compLogo': '60e2fe0bf3df194a3c48adb502u.png', 'compName': '某上海大型食品/饮料/酒水公司', 'compIndustry': '食品/饮料/酒水'}, 'job': {'labels': [], 'link': 'https://www.liepin.com/a/50771977.shtml', 'jobKind': '1', 'salary': '19-23k·13薪', 'title': 'PM LEAD', 'topJob': False, 'refreshTime': '20231110175752', 'dq': '广州', 'jobId': '50771977', 'requireWorkYears': '5-10年', 'advViewFlag': False, 'dataPromId': 'd_sfrom=search_prime&d_ckId=null&d_curPage=0&d_pageSize=40&d_headId=null&d_posi=32&skId=h2c8pxojavrmo1w785z7ueih2ybfpux8&fkId=h2c8pxojavrmo1w785z7ueih2ybfpux8&ckId=h2c8pxojavrmo1w785z7ueih2ybfpux8&sfrom=search_job_pc&curPage=0&pageSize=40&index=32', 'requireEduLevel': '学历不限'}, 'recruiter': {'recruiterId': 'b9832fb2b0c34ec6f44aaf62dfefad13', 'recruiterName': '于女士', 'recruiterTitle': '猎头顾问', 'imId': '8b1891d82cfbc4dd66eeece80d41bfcb', 'imUserType': '2', 'chatted': False, 'recruiterPhoto': '627ddd11afaf234b9f45e0ba05u.jpg'}, 'dataInfo': '%7B%22jobKind%22%3A%221%22%2C%22sfrom%22%3A%22search_job_pc%22%2C%22ckId%22%3A%22h2c8pxojavrmo1w785z7ueih2ybfpux8%22%2C%22scene%22%3A%22input%22%2C%22skId%22%3A%22h2c8pxojavrmo1w785z7ueih2ybfpux8%22%2C%22fkId%22%3A%22h2c8pxojavrmo1w785z7ueih2ybfpux8%22%2C%22pageSize%22%3A%2240%22%2C%22curPage%22%3A%220%22%2C%22jobId%22%3A%2250771977%22%2C%22d_curPage%22%3A%220%22%2C%22d_pageSize%22%3A%2240%22%2C%22as_from%22%3A%22search_prime%22%7D', 'dataParams': '{\"jobKind\":\"1\",\"userId\":\"b9832fb2b0c34ec6f44aaf62dfefad13\",\"recruiterName\":\"于女士\",\"imId\":\"8b1891d82cfbc4dd66eeece80d41bfcb\",\"imUserType\":\"2\",\"jobId\":\"50771977\",\"recruiterPhoto\":\"627ddd11afaf234b9f45e0ba05u.jpg\"}'}, {'comp': {'link': 'https://www.liepin.com/company/8014813/', 'compId': 8014813, 'compScale': '1000-2000人', 'compLogo': '5f5af11af6d1ab584752271c08u.png', 'compName': '昆翎医药', 'compIndustry': '制药'}, 'job': {'labels': ['临床试验', '临床项目管理', 'GCP认证', 'CE认证'], 'link': 'https://www.liepin.com/job/1945175333.shtml', 'jobKind': '2', 'salary': '25-45k', 'title': '临床试验项目经理PM', 'topJob': False, 'refreshTime': '20221024180150', 'dq': '广州', 'jobId': '45175333', 'pcOuterLink': '', 'h5OuterLink': '', 'requireWorkYears': '3-5年', 'advViewFlag': False, 'dataPromId': 'd_sfrom=search_prime&d_ckId=null&d_curPage=0&d_pageSize=40&d_headId=null&d_posi=33&skId=h2c8pxojavrmo1w785z7ueih2ybfpux8&fkId=h2c8pxojavrmo1w785z7ueih2ybfpux8&ckId=h2c8pxojavrmo1w785z7ueih2ybfpux8&sfrom=search_job_pc&curPage=0&pageSize=40&index=33', 'requireEduLevel': '统招本科'}, 'recruiter': {'recruiterId': 'b7496ba1a2ad4a49540e81c097c2c00b', 'recruiterName': '林女士', 'recruiterTitle': 'consultant', 'imId': '4e9d98e158ba3d98966d2c65245014c5', 'imUserType': '2', 'chatted': False, 'recruiterPhoto': '5f8f9863f6d1ab58476f246a08u.jpg'}, 'dataInfo': '%7B%22jobKind%22%3A%222%22%2C%22sfrom%22%3A%22search_job_pc%22%2C%22ckId%22%3A%22h2c8pxojavrmo1w785z7ueih2ybfpux8%22%2C%22scene%22%3A%22input%22%2C%22skId%22%3A%22h2c8pxojavrmo1w785z7ueih2ybfpux8%22%2C%22fkId%22%3A%22h2c8pxojavrmo1w785z7ueih2ybfpux8%22%2C%22pageSize%22%3A%2240%22%2C%22curPage%22%3A%220%22%2C%22jobId%22%3A%2245175333%22%2C%22d_curPage%22%3A%220%22%2C%22d_pageSize%22%3A%2240%22%2C%22as_from%22%3A%22search_prime%22%7D', 'dataParams': '{\"jobKind\":\"2\",\"userId\":\"b7496ba1a2ad4a49540e81c097c2c00b\",\"recruiterName\":\"林女士\",\"imId\":\"4e9d98e158ba3d98966d2c65245014c5\",\"imUserType\":\"2\",\"jobId\":\"45175333\",\"recruiterPhoto\":\"5f8f9863f6d1ab58476f246a08u.jpg\"}'}, {'comp': {'link': 'https://www.liepin.com/company/12931963/', 'compId': 12931963, 'compScale': '50-99人', 'compLogo': '61b07937d0458d53c627567e02u.jpg', 'compName': '广州秒音科技有限公司', 'compIndustry': '培训服务'}, 'job': {'labels': ['axure', 'visio', 'powerpoint', 'word', 'Excel'], 'link': 'https://www.liepin.com/job/1944331983.shtml', 'jobKind': '2', 'salary': '5-10k', 'title': '初级产品经理', 'topJob': False, 'refreshTime': '20211125150437', 'dq': '广州', 'jobId': '44331983', 'pcOuterLink': '', 'h5OuterLink': '', 'requireWorkYears': '经验不限', 'advViewFlag': False, 'dataPromId': 'd_sfrom=search_prime&d_ckId=null&d_curPage=0&d_pageSize=40&d_headId=null&d_posi=34&skId=h2c8pxojavrmo1w785z7ueih2ybfpux8&fkId=h2c8pxojavrmo1w785z7ueih2ybfpux8&ckId=h2c8pxojavrmo1w785z7ueih2ybfpux8&sfrom=search_job_pc&curPage=0&pageSize=40&index=34', 'requireEduLevel': '大专'}, 'recruiter': {'recruiterId': 'dfd86eaa710f7eb297d8d49512cabd0a', 'recruiterName': '霍女士', 'recruiterTitle': '人事', 'imId': '190ab81a74d5846c2e02023589153cdf', 'imUserType': '2', 'chatted': False, 'recruiterPhoto': '5f8f986779c7cc70efbf36c008u.jpg'}, 'dataInfo': '%7B%22jobKind%22%3A%222%22%2C%22sfrom%22%3A%22search_job_pc%22%2C%22ckId%22%3A%22h2c8pxojavrmo1w785z7ueih2ybfpux8%22%2C%22scene%22%3A%22input%22%2C%22skId%22%3A%22h2c8pxojavrmo1w785z7ueih2ybfpux8%22%2C%22fkId%22%3A%22h2c8pxojavrmo1w785z7ueih2ybfpux8%22%2C%22pageSize%22%3A%2240%22%2C%22curPage%22%3A%220%22%2C%22jobId%22%3A%2244331983%22%2C%22d_curPage%22%3A%220%22%2C%22d_pageSize%22%3A%2240%22%2C%22as_from%22%3A%22search_prime%22%7D', 'dataParams': '{\"jobKind\":\"2\",\"userId\":\"dfd86eaa710f7eb297d8d49512cabd0a\",\"recruiterName\":\"霍女士\",\"imId\":\"190ab81a74d5846c2e02023589153cdf\",\"imUserType\":\"2\",\"jobId\":\"44331983\",\"recruiterPhoto\":\"5f8f986779c7cc70efbf36c008u.jpg\"}'}, {'comp': {'link': '', 'compScale': '100-499人', 'compStage': '融资未公开', 'compLogo': '60e2fe0bf3df194a3c48adb502u.png', 'compName': '某广州知名IT服务公司', 'compIndustry': 'IT服务'}, 'job': {'labels': ['AI人工智能产品', '安全产品', '金融产品', '硬件产品', 'IT互联网', '智慧城市', '金融理财/贷款', '教育行业', 'to G', 'to B'], 'link': 'https://www.liepin.com/a/50822191.shtml', 'jobKind': '1', 'salary': '25-35k', 'title': '高级软件/硬件产品经理（安防类产品）', 'topJob': False, 'refreshTime': '20231215103819', 'dq': '广州-天河区', 'jobId': '50822191', 'requireWorkYears': '5-10年', 'advViewFlag': False, 'dataPromId': 'd_sfrom=search_prime&d_ckId=null&d_curPage=0&d_pageSize=40&d_headId=null&d_posi=35&skId=h2c8pxojavrmo1w785z7ueih2ybfpux8&fkId=h2c8pxojavrmo1w785z7ueih2ybfpux8&ckId=h2c8pxojavrmo1w785z7ueih2ybfpux8&sfrom=search_job_pc&curPage=0&pageSize=40&index=35', 'requireEduLevel': '本科'}, 'recruiter': {'recruiterId': 'b5b71a25e653ba7f641720177ce2bbe6', 'recruiterName': '王女士', 'recruiterTitle': '猎头顾问', 'imId': 'c1855bb216b28220eb75d3f48ca9a0eb', 'imUserType': '2', 'chatted': False, 'recruiterPhoto': '62d3ab2992f1f01426a55f9906u.png'}, 'dataInfo': '%7B%22jobKind%22%3A%221%22%2C%22sfrom%22%3A%22search_job_pc%22%2C%22ckId%22%3A%22h2c8pxojavrmo1w785z7ueih2ybfpux8%22%2C%22scene%22%3A%22input%22%2C%22skId%22%3A%22h2c8pxojavrmo1w785z7ueih2ybfpux8%22%2C%22fkId%22%3A%22h2c8pxojavrmo1w785z7ueih2ybfpux8%22%2C%22pageSize%22%3A%2240%22%2C%22curPage%22%3A%220%22%2C%22jobId%22%3A%2250822191%22%2C%22d_curPage%22%3A%220%22%2C%22d_pageSize%22%3A%2240%22%2C%22as_from%22%3A%22search_prime%22%7D', 'dataParams': '{\"jobKind\":\"1\",\"userId\":\"b5b71a25e653ba7f641720177ce2bbe6\",\"recruiterName\":\"王女士\",\"imId\":\"c1855bb216b28220eb75d3f48ca9a0eb\",\"imUserType\":\"2\",\"jobId\":\"50822191\",\"recruiterPhoto\":\"62d3ab2992f1f01426a55f9906u.png\"}'}, {'comp': {'link': '', 'compScale': '100-499人', 'compStage': '融资未公开', 'compLogo': '60e2fe0bf3df194a3c48adb502u.png', 'compName': '某广州IT服务公司', 'compIndustry': 'IT服务'}, 'job': {'labels': ['硬件产品', 'AI人工智能产品', '数据产品', '硬件系统集成', '计算机软件', '人工智能', '金融行业', '产品规划', '团队管理', '产品优化'], 'link': 'https://www.liepin.com/a/50942839.shtml', 'jobKind': '1', 'salary': '20-25k', 'title': '高级软件/硬件产品经理', 'topJob': False, 'refreshTime': '20231214101817', 'dq': '广州-天河区', 'jobId': '50942839', 'requireWorkYears': '经验不限', 'advViewFlag': False, 'dataPromId': 'd_sfrom=search_prime&d_ckId=null&d_curPage=0&d_pageSize=40&d_headId=null&d_posi=36&skId=h2c8pxojavrmo1w785z7ueih2ybfpux8&fkId=h2c8pxojavrmo1w785z7ueih2ybfpux8&ckId=h2c8pxojavrmo1w785z7ueih2ybfpux8&sfrom=search_job_pc&curPage=0&pageSize=40&index=36', 'requireEduLevel': '统招本科'}, 'recruiter': {'recruiterId': '018f1ce29e16cc4c958e591c52132465', 'recruiterName': '曾先生', 'recruiterTitle': '猎头顾问', 'imId': '729004da8a6c394f4f9742af3b6a500a', 'imUserType': '2', 'chatted': False, 'recruiterPhoto': '5f8fa3a8ea60860b75385c7208u.png'}, 'dataInfo': '%7B%22jobKind%22%3A%221%22%2C%22sfrom%22%3A%22search_job_pc%22%2C%22ckId%22%3A%22h2c8pxojavrmo1w785z7ueih2ybfpux8%22%2C%22scene%22%3A%22input%22%2C%22skId%22%3A%22h2c8pxojavrmo1w785z7ueih2ybfpux8%22%2C%22fkId%22%3A%22h2c8pxojavrmo1w785z7ueih2ybfpux8%22%2C%22pageSize%22%3A%2240%22%2C%22curPage%22%3A%220%22%2C%22jobId%22%3A%2250942839%22%2C%22d_curPage%22%3A%220%22%2C%22d_pageSize%22%3A%2240%22%2C%22as_from%22%3A%22search_prime%22%7D', 'dataParams': '{\"jobKind\":\"1\",\"userId\":\"018f1ce29e16cc4c958e591c52132465\",\"recruiterName\":\"曾先生\",\"imId\":\"729004da8a6c394f4f9742af3b6a500a\",\"imUserType\":\"2\",\"jobId\":\"50942839\",\"recruiterPhoto\":\"5f8fa3a8ea60860b75385c7208u.png\"}'}, {'comp': {'link': '', 'compScale': '100-499人', 'compStage': '融资未公开', 'compLogo': '60e2fe0bf3df194a3c48adb502u.png', 'compName': '某广州知名公司', 'compIndustry': 'IT服务'}, 'job': {'labels': ['安防行业'], 'link': 'https://www.liepin.com/a/50817951.shtml', 'jobKind': '1', 'salary': '25-35k', 'title': '高级产品经理', 'topJob': False, 'refreshTime': '20231113190326', 'dq': '广州', 'jobId': '50817951', 'requireWorkYears': '5-10年', 'advViewFlag': False, 'dataPromId': 'd_sfrom=search_prime&d_ckId=null&d_curPage=0&d_pageSize=40&d_headId=null&d_posi=37&skId=h2c8pxojavrmo1w785z7ueih2ybfpux8&fkId=h2c8pxojavrmo1w785z7ueih2ybfpux8&ckId=h2c8pxojavrmo1w785z7ueih2ybfpux8&sfrom=search_job_pc&curPage=0&pageSize=40&index=37', 'requireEduLevel': '本科'}, 'recruiter': {'recruiterId': 'd56a0d1b72765379c1f07aa1c8f181be', 'recruiterName': '张女士', 'recruiterTitle': '猎头顾问', 'imId': 'c6548458b34f4b268d946a46ea6f110f', 'imUserType': '2', 'chatted': False, 'recruiterPhoto': '6237d9b97db2016abe43dd8706u.png'}, 'dataInfo': '%7B%22jobKind%22%3A%221%22%2C%22sfrom%22%3A%22search_job_pc%22%2C%22ckId%22%3A%22h2c8pxojavrmo1w785z7ueih2ybfpux8%22%2C%22scene%22%3A%22input%22%2C%22skId%22%3A%22h2c8pxojavrmo1w785z7ueih2ybfpux8%22%2C%22fkId%22%3A%22h2c8pxojavrmo1w785z7ueih2ybfpux8%22%2C%22pageSize%22%3A%2240%22%2C%22curPage%22%3A%220%22%2C%22jobId%22%3A%2250817951%22%2C%22d_curPage%22%3A%220%22%2C%22d_pageSize%22%3A%2240%22%2C%22as_from%22%3A%22search_prime%22%7D', 'dataParams': '{\"jobKind\":\"1\",\"userId\":\"d56a0d1b72765379c1f07aa1c8f181be\",\"recruiterName\":\"张女士\",\"imId\":\"c6548458b34f4b268d946a46ea6f110f\",\"imUserType\":\"2\",\"jobId\":\"50817951\",\"recruiterPhoto\":\"6237d9b97db2016abe43dd8706u.png\"}'}, {'comp': {'link': '', 'compScale': '100-499人', 'compLogo': '60e2fe0bf3df194a3c48adb502u.png', 'compName': '某广州贸易进出口公司', 'compIndustry': '批发/零售'}, 'job': {'labels': ['电商产品', '策略产品', '跨境电商', 'Axure', '产品规划'], 'link': 'https://www.liepin.com/a/51054705.shtml', 'jobKind': '1', 'salary': '30-60k', 'title': '前中台产品经理（欧美独立站）', 'topJob': False, 'refreshTime': '20231213165538', 'dq': '广州', 'jobId': '51054705', 'requireWorkYears': '10年以上', 'advViewFlag': False, 'dataPromId': 'd_sfrom=search_prime&d_ckId=null&d_curPage=0&d_pageSize=40&d_headId=null&d_posi=38&skId=h2c8pxojavrmo1w785z7ueih2ybfpux8&fkId=h2c8pxojavrmo1w785z7ueih2ybfpux8&ckId=h2c8pxojavrmo1w785z7ueih2ybfpux8&sfrom=search_job_pc&curPage=0&pageSize=40&index=38', 'requireEduLevel': '本科'}, 'recruiter': {'recruiterId': 'ff186e8769d0eb433b3d2e40fab0791f', 'recruiterName': '孙女士', 'recruiterTitle': '猎头顾问', 'imId': '265d84fd020f8b83cc809655362a8e54', 'imUserType': '2', 'chatted': False, 'recruiterPhoto': '601779ccbec45a78f579444502u.jpg'}, 'dataInfo': '%7B%22jobKind%22%3A%221%22%2C%22sfrom%22%3A%22search_job_pc%22%2C%22ckId%22%3A%22h2c8pxojavrmo1w785z7ueih2ybfpux8%22%2C%22scene%22%3A%22input%22%2C%22skId%22%3A%22h2c8pxojavrmo1w785z7ueih2ybfpux8%22%2C%22fkId%22%3A%22h2c8pxojavrmo1w785z7ueih2ybfpux8%22%2C%22pageSize%22%3A%2240%22%2C%22curPage%22%3A%220%22%2C%22jobId%22%3A%2251054705%22%2C%22d_curPage%22%3A%220%22%2C%22d_pageSize%22%3A%2240%22%2C%22as_from%22%3A%22search_prime%22%7D', 'dataParams': '{\"jobKind\":\"1\",\"userId\":\"ff186e8769d0eb433b3d2e40fab0791f\",\"recruiterName\":\"孙女士\",\"imId\":\"265d84fd020f8b83cc809655362a8e54\",\"imUserType\":\"2\",\"jobId\":\"51054705\",\"recruiterPhoto\":\"601779ccbec45a78f579444502u.jpg\"}'}, {'comp': {'link': 'https://www.liepin.com/company/12787765/', 'compId': 12787765, 'compScale': '1-49人', 'compLogo': '60ed0b2b8ff3356e6d0ae00406u.png', 'compName': '广州一卓科技有限公司', 'compIndustry': '专业技术服务'}, 'job': {'labels': ['产品规划', '电子商务', '电子/半导体/集成电路', 'to C', '市场调研', '需求分析', '用户研究', '流程设计', '产品优化', '团队管理'], 'link': 'https://www.liepin.com/job/1960491179.shtml', 'jobKind': '2', 'salary': '25-35k', 'title': '产品经理/总监', 'topJob': False, 'refreshTime': '20230802162827', 'dq': '广州-白云区', 'jobId': '60491179', 'pcOuterLink': '', 'h5OuterLink': '', 'requireWorkYears': '5-10年', 'advViewFlag': False, 'dataPromId': 'd_sfrom=search_prime&d_ckId=null&d_curPage=0&d_pageSize=40&d_headId=null&d_posi=39&skId=h2c8pxojavrmo1w785z7ueih2ybfpux8&fkId=h2c8pxojavrmo1w785z7ueih2ybfpux8&ckId=h2c8pxojavrmo1w785z7ueih2ybfpux8&sfrom=search_job_pc&curPage=0&pageSize=40&index=39', 'requireEduLevel': '大专'}, 'recruiter': {'recruiterId': '898b99ecbab728d1e6a600e9ed3acc94', 'recruiterName': '彭女士', 'recruiterTitle': '', 'imId': '0ee39be5923f3ab31d908bf5ceb6b06c', 'imUserType': '2', 'chatted': False, 'recruiterPhoto': '5f8f98648dbe6273dcf8515508u.jpg'}, 'dataInfo': '%7B%22jobKind%22%3A%222%22%2C%22sfrom%22%3A%22search_job_pc%22%2C%22ckId%22%3A%22h2c8pxojavrmo1w785z7ueih2ybfpux8%22%2C%22scene%22%3A%22input%22%2C%22skId%22%3A%22h2c8pxojavrmo1w785z7ueih2ybfpux8%22%2C%22fkId%22%3A%22h2c8pxojavrmo1w785z7ueih2ybfpux8%22%2C%22pageSize%22%3A%2240%22%2C%22curPage%22%3A%220%22%2C%22jobId%22%3A%2260491179%22%2C%22d_curPage%22%3A%220%22%2C%22d_pageSize%22%3A%2240%22%2C%22as_from%22%3A%22search_prime%22%7D', 'dataParams': '{\"jobKind\":\"2\",\"userId\":\"898b99ecbab728d1e6a600e9ed3acc94\",\"recruiterName\":\"彭女士\",\"imId\":\"0ee39be5923f3ab31d908bf5ceb6b06c\",\"imUserType\":\"2\",\"jobId\":\"60491179\",\"recruiterPhoto\":\"5f8f98648dbe6273dcf8515508u.jpg\"}'}], 'compList': [], 'jobSubscribeInfo': {'keyword': '产品经理', 'qrUrl': 'https://mp.weixin.qq.com/cgi-bin/showqrcode?ticket=gQG_7zwAAAAAAAAAAS5odHRwOi8vd2VpeGluLnFxLmNvbS9xLzAyYnZEVDBORm9jdWoxR0Q2MWhCY0MAAgQnTHhlAwSAOgkA', 'dqName': '广州', 'dqCode': '050020', 'id': '5aa9ec60fa1f0e55c8ca3053b1f7e0bd'}}, 'passThroughData': {'sfrom': 'search_job_pc', 'ckId': 'h2c8pxojavrmo1w785z7ueih2ybfpux8', 'scene': 'input', 'skId': 'h2c8pxojavrmo1w785z7ueih2ybfpux8', 'fkId': 'h2c8pxojavrmo1w785z7ueih2ybfpux8'}, 'pagination': {'currentPage': 0, 'totalPage': 10, 'pageSize': 40, 'totalCounts': 801, 'hasNext': False}}}\n",
      "{'flag': 1, 'data': {'data': {'jobCardList': [{'comp': {'compIndustry': '制药', 'link': 'https://www.liepin.com/company/12568645/', 'compId': 12568645, 'compStage': 'D轮', 'compLogo': '6441ff67c063625b1d3bc6c104u.png', 'compName': '江苏知原药业股份有限公司', 'compScale': '100-499人'}, 'job': {'labels': ['数据分析'], 'link': 'https://www.liepin.com/job/1940053971.shtml', 'title': '助理产品经理', 'salary': '16-20k', 'refreshTime': '20230505145705', 'dq': '广州', 'jobId': '40053971', 'topJob': False, 'jobKind': '2', 'requireEduLevel': '本科', 'advViewFlag': False, 'requireWorkYears': '1-3年', 'pcOuterLink': '', 'h5OuterLink': '', 'dataPromId': 'd_sfrom=search_prime&d_ckId=null&d_curPage=1&d_pageSize=40&d_headId=null&d_posi=0&skId=h2c8pxojavrmo1w785z7ueih2ybfpux8&fkId=h2c8pxojavrmo1w785z7ueih2ybfpux8&ckId=h2c8pxojavrmo1w785z7ueih2ybfpux8&sfrom=search_job_pc&curPage=1&pageSize=40&index=0'}, 'recruiter': {'imId': '529552300bc2bc6e160bef405ccde8ba', 'imUserType': '2', 'recruiterName': '徐女士', 'recruiterTitle': '招聘经理', 'chatted': False, 'recruiterId': '1590a7fa7a4c122cc9faa5f1f002919b', 'recruiterPhoto': '5f8f9865ea60860b75384fa508u.jpg'}, 'dataInfo': '%7B%22pageSize%22%3A%2240%22%2C%22curPage%22%3A%221%22%2C%22ckId%22%3A%22h2c8pxojavrmo1w785z7ueih2ybfpux8%22%2C%22scene%22%3A%22input%22%2C%22skId%22%3A%22h2c8pxojavrmo1w785z7ueih2ybfpux8%22%2C%22fkId%22%3A%22h2c8pxojavrmo1w785z7ueih2ybfpux8%22%2C%22jobId%22%3A%2240053971%22%2C%22sfrom%22%3A%22search_job_pc%22%2C%22jobKind%22%3A%222%22%2C%22d_curPage%22%3A%221%22%2C%22d_pageSize%22%3A%2240%22%2C%22as_from%22%3A%22search_prime%22%7D', 'dataParams': '{\"imId\":\"529552300bc2bc6e160bef405ccde8ba\",\"imUserType\":\"2\",\"jobId\":\"40053971\",\"recruiterName\":\"徐女士\",\"jobKind\":\"2\",\"userId\":\"1590a7fa7a4c122cc9faa5f1f002919b\",\"recruiterPhoto\":\"5f8f9865ea60860b75384fa508u.jpg\"}'}, {'comp': {'compIndustry': '互联网', 'link': '', 'compStage': 'C轮', 'compLogo': '60e2fe0bf3df194a3c48adb502u.png', 'compName': '某广州大型互联网公司', 'compScale': '2000-5000人'}, 'job': {'labels': ['工具产品', '社区产品'], 'link': 'https://www.liepin.com/a/50704031.shtml', 'title': '大厂产品经理（多方向，需求多）', 'salary': '20-40k·16薪', 'refreshTime': '20231215115011', 'dq': '广州', 'jobId': '50704031', 'topJob': False, 'jobKind': '1', 'requireEduLevel': '统招本科', 'advViewFlag': False, 'requireWorkYears': '3-5年', 'dataPromId': 'd_sfrom=search_prime&d_ckId=null&d_curPage=1&d_pageSize=40&d_headId=null&d_posi=1&skId=h2c8pxojavrmo1w785z7ueih2ybfpux8&fkId=h2c8pxojavrmo1w785z7ueih2ybfpux8&ckId=h2c8pxojavrmo1w785z7ueih2ybfpux8&sfrom=search_job_pc&curPage=1&pageSize=40&index=1'}, 'recruiter': {'imId': '498067bb1f1e086e58df9ed6b1b051e6', 'imUserType': '2', 'recruiterName': '黄女士', 'recruiterTitle': '猎头顾问', 'chatted': False, 'recruiterId': '28cc49c9078e7870c2de8526278c84ba', 'recruiterPhoto': '6507b70e4c87f41f02d6d1a806u.png'}, 'dataInfo': '%7B%22pageSize%22%3A%2240%22%2C%22curPage%22%3A%221%22%2C%22ckId%22%3A%22h2c8pxojavrmo1w785z7ueih2ybfpux8%22%2C%22scene%22%3A%22input%22%2C%22skId%22%3A%22h2c8pxojavrmo1w785z7ueih2ybfpux8%22%2C%22fkId%22%3A%22h2c8pxojavrmo1w785z7ueih2ybfpux8%22%2C%22jobId%22%3A%2250704031%22%2C%22sfrom%22%3A%22search_job_pc%22%2C%22jobKind%22%3A%221%22%2C%22d_curPage%22%3A%221%22%2C%22d_pageSize%22%3A%2240%22%2C%22as_from%22%3A%22search_prime%22%7D', 'dataParams': '{\"imId\":\"498067bb1f1e086e58df9ed6b1b051e6\",\"imUserType\":\"2\",\"jobId\":\"50704031\",\"recruiterName\":\"黄女士\",\"jobKind\":\"1\",\"userId\":\"28cc49c9078e7870c2de8526278c84ba\",\"recruiterPhoto\":\"6507b70e4c87f41f02d6d1a806u.png\"}'}, {'comp': {'compIndustry': '互联网', 'link': 'https://www.liepin.com/company/12936965/', 'compId': 12936965, 'compLogo': '635b92a65fd2f55ef5a2b62f03u.png', 'compName': '世纪美尚(广州)化妆品有限公司', 'compScale': '500-999人'}, 'job': {'labels': ['平台产品', '消费品', '产品规划', '产品设计', '需求分析', '流程设计', '用户研究', '产品优化'], 'link': 'https://www.liepin.com/job/1951272273.shtml', 'title': '产品经理（营销中台）', 'salary': '15-20k·13薪', 'refreshTime': '20231025115616', 'dq': '广州-海珠区', 'jobId': '51272273', 'topJob': False, 'jobKind': '2', 'requireEduLevel': '本科', 'advViewFlag': False, 'requireWorkYears': '3-5年', 'pcOuterLink': '', 'h5OuterLink': '', 'dataPromId': 'd_sfrom=search_prime&d_ckId=null&d_curPage=1&d_pageSize=40&d_headId=null&d_posi=2&skId=h2c8pxojavrmo1w785z7ueih2ybfpux8&fkId=h2c8pxojavrmo1w785z7ueih2ybfpux8&ckId=h2c8pxojavrmo1w785z7ueih2ybfpux8&sfrom=search_job_pc&curPage=1&pageSize=40&index=2'}, 'recruiter': {'imId': '47a35efb50248c31651ec1d54741dccf', 'imUserType': '2', 'recruiterName': '黄先生', 'recruiterTitle': 'HR', 'chatted': False, 'recruiterId': 'eba381f0416081d21f3abea44bb936cc', 'recruiterPhoto': '5f8f986bdfb13a7dee342f2108u.jpg'}, 'dataInfo': '%7B%22pageSize%22%3A%2240%22%2C%22curPage%22%3A%221%22%2C%22ckId%22%3A%22h2c8pxojavrmo1w785z7ueih2ybfpux8%22%2C%22scene%22%3A%22input%22%2C%22skId%22%3A%22h2c8pxojavrmo1w785z7ueih2ybfpux8%22%2C%22fkId%22%3A%22h2c8pxojavrmo1w785z7ueih2ybfpux8%22%2C%22jobId%22%3A%2251272273%22%2C%22sfrom%22%3A%22search_job_pc%22%2C%22jobKind%22%3A%222%22%2C%22d_curPage%22%3A%221%22%2C%22d_pageSize%22%3A%2240%22%2C%22as_from%22%3A%22search_prime%22%7D', 'dataParams': '{\"imId\":\"47a35efb50248c31651ec1d54741dccf\",\"imUserType\":\"2\",\"jobId\":\"51272273\",\"recruiterName\":\"黄先生\",\"jobKind\":\"2\",\"userId\":\"eba381f0416081d21f3abea44bb936cc\",\"recruiterPhoto\":\"5f8f986bdfb13a7dee342f2108u.jpg\"}'}, {'comp': {'compIndustry': '互联网', 'link': 'https://www.liepin.com/company/693385/', 'compId': 693385, 'compStage': '已上市', 'compLogo': '5bfe954674719dc6ed7416af03a.png', 'compName': '广联达', 'compScale': '2000-5000人'}, 'job': {'labels': ['计算机软件', 'to B', '原型设计', '需求分析', '产品设计', '建筑软件', '建筑信息化', '建筑行业', 'web端产品'], 'link': 'https://www.liepin.com/job/1950292625.shtml', 'title': '解决方案产品经理 (MJ013260)', 'salary': '18-25k·14薪', 'refreshTime': '20220610154122', 'dq': '广州-白云区', 'jobId': '50292625', 'topJob': False, 'jobKind': '2', 'requireEduLevel': '本科', 'advViewFlag': False, 'requireWorkYears': '5-10年', 'pcOuterLink': '', 'h5OuterLink': '', 'dataPromId': 'd_sfrom=search_prime&d_ckId=null&d_curPage=1&d_pageSize=40&d_headId=null&d_posi=3&skId=h2c8pxojavrmo1w785z7ueih2ybfpux8&fkId=h2c8pxojavrmo1w785z7ueih2ybfpux8&ckId=h2c8pxojavrmo1w785z7ueih2ybfpux8&sfrom=search_job_pc&curPage=1&pageSize=40&index=3'}, 'recruiter': {'imId': 'ef8545a6e86a01268fa263ed17de85b1', 'imUserType': '2', 'recruiterName': '韩女士', 'recruiterTitle': '高级招聘专员', 'chatted': False, 'recruiterId': 'a3ba989ac5734611c54970ffa845eefa', 'recruiterPhoto': '5f8f98648dbe6273dcf8515508u.jpg'}, 'dataInfo': '%7B%22pageSize%22%3A%2240%22%2C%22curPage%22%3A%221%22%2C%22ckId%22%3A%22h2c8pxojavrmo1w785z7ueih2ybfpux8%22%2C%22scene%22%3A%22input%22%2C%22skId%22%3A%22h2c8pxojavrmo1w785z7ueih2ybfpux8%22%2C%22fkId%22%3A%22h2c8pxojavrmo1w785z7ueih2ybfpux8%22%2C%22jobId%22%3A%2250292625%22%2C%22sfrom%22%3A%22search_job_pc%22%2C%22jobKind%22%3A%222%22%2C%22d_curPage%22%3A%221%22%2C%22d_pageSize%22%3A%2240%22%2C%22as_from%22%3A%22search_prime%22%7D', 'dataParams': '{\"imId\":\"ef8545a6e86a01268fa263ed17de85b1\",\"imUserType\":\"2\",\"jobId\":\"50292625\",\"recruiterName\":\"韩女士\",\"jobKind\":\"2\",\"userId\":\"a3ba989ac5734611c54970ffa845eefa\",\"recruiterPhoto\":\"5f8f98648dbe6273dcf8515508u.jpg\"}'}, {'comp': {'compIndustry': '智能硬件', 'link': 'https://www.liepin.com/company/8510313/', 'compId': 8510313, 'compStage': '美股上市', 'compLogo': '5a1f927370323b4a84a66ab305a.jpg', 'compName': '云米全屋互联网家电', 'compScale': '1000-2000人'}, 'job': {'labels': ['AI人工智能产品', '硬件产品', '人工智能', 'IT互联网', '硬件系统集成', '智能硬件', '产品设计', '产品规划', '用户研究', '团队管理'], 'link': 'https://www.liepin.com/job/1933511317.shtml', 'title': 'AI产品经理', 'salary': '20-30k', 'refreshTime': '20201117050230', 'dq': '广州', 'jobId': '33511317', 'topJob': False, 'jobKind': '2', 'requireEduLevel': '本科', 'advViewFlag': False, 'requireWorkYears': '5-10年', 'pcOuterLink': '', 'h5OuterLink': '', 'dataPromId': 'd_sfrom=search_prime&d_ckId=null&d_curPage=1&d_pageSize=40&d_headId=null&d_posi=4&skId=h2c8pxojavrmo1w785z7ueih2ybfpux8&fkId=h2c8pxojavrmo1w785z7ueih2ybfpux8&ckId=h2c8pxojavrmo1w785z7ueih2ybfpux8&sfrom=search_job_pc&curPage=1&pageSize=40&index=4'}, 'recruiter': {'imId': '7139f803b14f342dd6a9d1214a39013b', 'imUserType': '2', 'recruiterName': '梁女士', 'recruiterTitle': '高级总监', 'chatted': False, 'recruiterId': 'ae9d2bd71f72b07d27bbf43c3caebf68', 'recruiterPhoto': '5a1f7a7e703287905956079b05a.jpg'}, 'dataInfo': '%7B%22pageSize%22%3A%2240%22%2C%22curPage%22%3A%221%22%2C%22ckId%22%3A%22h2c8pxojavrmo1w785z7ueih2ybfpux8%22%2C%22scene%22%3A%22input%22%2C%22skId%22%3A%22h2c8pxojavrmo1w785z7ueih2ybfpux8%22%2C%22fkId%22%3A%22h2c8pxojavrmo1w785z7ueih2ybfpux8%22%2C%22jobId%22%3A%2233511317%22%2C%22sfrom%22%3A%22search_job_pc%22%2C%22jobKind%22%3A%222%22%2C%22d_curPage%22%3A%221%22%2C%22d_pageSize%22%3A%2240%22%2C%22as_from%22%3A%22search_prime%22%7D', 'dataParams': '{\"imId\":\"7139f803b14f342dd6a9d1214a39013b\",\"imUserType\":\"2\",\"jobId\":\"33511317\",\"recruiterName\":\"梁女士\",\"jobKind\":\"2\",\"userId\":\"ae9d2bd71f72b07d27bbf43c3caebf68\",\"recruiterPhoto\":\"5a1f7a7e703287905956079b05a.jpg\"}'}, {'comp': {'compIndustry': '食品/饮料/酒水', 'link': '', 'compStage': '其他', 'compLogo': '60e2fe0bf3df194a3c48adb502u.png', 'compName': '某广州大型食品/饮料/酒水公司', 'compScale': '5000-10000人'}, 'job': {'labels': ['产品开发', '休闲食品', '保健食品'], 'link': 'https://www.liepin.com/a/50302045.shtml', 'title': '产品经理（高级经理）', 'salary': '21-29k·14薪', 'refreshTime': '20231024165840', 'dq': '广州-天河区', 'jobId': '50302045', 'topJob': False, 'jobKind': '1', 'requireEduLevel': '统招本科', 'advViewFlag': False, 'requireWorkYears': '5-10年', 'dataPromId': 'd_sfrom=search_prime&d_ckId=null&d_curPage=1&d_pageSize=40&d_headId=null&d_posi=5&skId=h2c8pxojavrmo1w785z7ueih2ybfpux8&fkId=h2c8pxojavrmo1w785z7ueih2ybfpux8&ckId=h2c8pxojavrmo1w785z7ueih2ybfpux8&sfrom=search_job_pc&curPage=1&pageSize=40&index=5'}, 'recruiter': {'imId': '5e52bdf9561e05a5c840dbff03641b29', 'imUserType': '2', 'recruiterName': '方女士', 'recruiterTitle': '猎头顾问', 'chatted': False, 'recruiterId': 'd1be52756183a077c88bdbc49a772a70', 'recruiterPhoto': '62a85a0d387847296927f3a502u.jpg'}, 'dataInfo': '%7B%22pageSize%22%3A%2240%22%2C%22curPage%22%3A%221%22%2C%22ckId%22%3A%22h2c8pxojavrmo1w785z7ueih2ybfpux8%22%2C%22scene%22%3A%22input%22%2C%22skId%22%3A%22h2c8pxojavrmo1w785z7ueih2ybfpux8%22%2C%22fkId%22%3A%22h2c8pxojavrmo1w785z7ueih2ybfpux8%22%2C%22jobId%22%3A%2250302045%22%2C%22sfrom%22%3A%22search_job_pc%22%2C%22jobKind%22%3A%221%22%2C%22d_curPage%22%3A%221%22%2C%22d_pageSize%22%3A%2240%22%2C%22as_from%22%3A%22search_prime%22%7D', 'dataParams': '{\"imId\":\"5e52bdf9561e05a5c840dbff03641b29\",\"imUserType\":\"2\",\"jobId\":\"50302045\",\"recruiterName\":\"方女士\",\"jobKind\":\"1\",\"userId\":\"d1be52756183a077c88bdbc49a772a70\",\"recruiterPhoto\":\"62a85a0d387847296927f3a502u.jpg\"}'}, {'comp': {'compIndustry': '互联网', 'link': 'https://www.liepin.com/company/8706847/', 'compId': 8706847, 'compLogo': '5c64c511261c45f22d50d39303u.png', 'compName': 'SHEIN', 'compScale': '5000-10000人'}, 'job': {'labels': ['人工智能', 'IT互联网', '产品优化', '产品规划', '数据分析', 'Axure', '需求管理', '流程设计', 'Xmind', '团队管理'], 'link': 'https://www.liepin.com/job/1963298191.shtml', 'title': '产品经理（智能客服系统） (MJ009938)', 'salary': '20-40k·13薪', 'refreshTime': '20231213190539', 'dq': '广州-番禺区', 'jobId': '63298191', 'topJob': False, 'jobKind': '2', 'requireEduLevel': '本科', 'advViewFlag': False, 'requireWorkYears': '3-5年', 'pcOuterLink': '', 'h5OuterLink': '', 'dataPromId': 'd_sfrom=search_prime&d_ckId=null&d_curPage=1&d_pageSize=40&d_headId=null&d_posi=6&skId=h2c8pxojavrmo1w785z7ueih2ybfpux8&fkId=h2c8pxojavrmo1w785z7ueih2ybfpux8&ckId=h2c8pxojavrmo1w785z7ueih2ybfpux8&sfrom=search_job_pc&curPage=1&pageSize=40&index=6'}, 'recruiter': {'imId': 'd15649841fa9f78136a9a97efe6aa3ae', 'imUserType': '2', 'recruiterName': '詹女士', 'recruiterTitle': '招聘专员', 'chatted': False, 'recruiterId': '9039c627030cd374987ff40156a883f7', 'recruiterPhoto': '5f8f9865ea60860b75384fa508u.jpg'}, 'dataInfo': '%7B%22pageSize%22%3A%2240%22%2C%22curPage%22%3A%221%22%2C%22ckId%22%3A%22h2c8pxojavrmo1w785z7ueih2ybfpux8%22%2C%22scene%22%3A%22input%22%2C%22skId%22%3A%22h2c8pxojavrmo1w785z7ueih2ybfpux8%22%2C%22fkId%22%3A%22h2c8pxojavrmo1w785z7ueih2ybfpux8%22%2C%22jobId%22%3A%2263298191%22%2C%22sfrom%22%3A%22search_job_pc%22%2C%22jobKind%22%3A%222%22%2C%22d_curPage%22%3A%221%22%2C%22d_pageSize%22%3A%2240%22%2C%22as_from%22%3A%22search_prime%22%7D', 'dataParams': '{\"imId\":\"d15649841fa9f78136a9a97efe6aa3ae\",\"imUserType\":\"2\",\"jobId\":\"63298191\",\"recruiterName\":\"詹女士\",\"jobKind\":\"2\",\"userId\":\"9039c627030cd374987ff40156a883f7\",\"recruiterPhoto\":\"5f8f9865ea60860b75384fa508u.jpg\"}'}, {'comp': {'compIndustry': '制药', 'link': '', 'compStage': '已上市', 'compLogo': '60e2fe0bf3df194a3c48adb502u.png', 'compName': '某广州制药上市公司', 'compScale': '2000-5000人'}, 'job': {'labels': [], 'link': 'https://www.liepin.com/a/50177967.shtml', 'title': '助理产品经理（产品主管）', 'salary': '15-20k', 'refreshTime': '20231019143506', 'dq': '广州', 'jobId': '50177967', 'topJob': False, 'jobKind': '1', 'requireEduLevel': '统招本科', 'advViewFlag': False, 'requireWorkYears': '5-10年', 'dataPromId': 'd_sfrom=search_prime&d_ckId=null&d_curPage=1&d_pageSize=40&d_headId=null&d_posi=7&skId=h2c8pxojavrmo1w785z7ueih2ybfpux8&fkId=h2c8pxojavrmo1w785z7ueih2ybfpux8&ckId=h2c8pxojavrmo1w785z7ueih2ybfpux8&sfrom=search_job_pc&curPage=1&pageSize=40&index=7'}, 'recruiter': {'imId': 'f40a1e903d06b2af2980490a0cdf2257', 'imUserType': '2', 'recruiterName': '刘女士', 'recruiterTitle': '猎头顾问', 'chatted': False, 'recruiterId': '514640d68b08785d2e3e960be8804f17', 'recruiterPhoto': '611b5240cc7f5f4cfef3946808u.png'}, 'dataInfo': '%7B%22pageSize%22%3A%2240%22%2C%22curPage%22%3A%221%22%2C%22ckId%22%3A%22h2c8pxojavrmo1w785z7ueih2ybfpux8%22%2C%22scene%22%3A%22input%22%2C%22skId%22%3A%22h2c8pxojavrmo1w785z7ueih2ybfpux8%22%2C%22fkId%22%3A%22h2c8pxojavrmo1w785z7ueih2ybfpux8%22%2C%22jobId%22%3A%2250177967%22%2C%22sfrom%22%3A%22search_job_pc%22%2C%22jobKind%22%3A%221%22%2C%22d_curPage%22%3A%221%22%2C%22d_pageSize%22%3A%2240%22%2C%22as_from%22%3A%22search_prime%22%7D', 'dataParams': '{\"imId\":\"f40a1e903d06b2af2980490a0cdf2257\",\"imUserType\":\"2\",\"jobId\":\"50177967\",\"recruiterName\":\"刘女士\",\"jobKind\":\"1\",\"userId\":\"514640d68b08785d2e3e960be8804f17\",\"recruiterPhoto\":\"611b5240cc7f5f4cfef3946808u.png\"}'}, {'comp': {'compIndustry': '制药', 'link': '', 'compStage': '已上市', 'compLogo': '60e2fe0bf3df194a3c48adb502u.png', 'compName': '某广州制药上市公司', 'compScale': '2000-5000人'}, 'job': {'labels': ['医药行业'], 'link': 'https://www.liepin.com/a/50114085.shtml', 'title': '助理产品经理', 'salary': '16-18k', 'refreshTime': '20231017163730', 'dq': '广州', 'jobId': '50114085', 'topJob': False, 'jobKind': '1', 'requireEduLevel': '统招本科', 'advViewFlag': False, 'requireWorkYears': '1-3年', 'dataPromId': 'd_sfrom=search_prime&d_ckId=null&d_curPage=1&d_pageSize=40&d_headId=null&d_posi=8&skId=h2c8pxojavrmo1w785z7ueih2ybfpux8&fkId=h2c8pxojavrmo1w785z7ueih2ybfpux8&ckId=h2c8pxojavrmo1w785z7ueih2ybfpux8&sfrom=search_job_pc&curPage=1&pageSize=40&index=8'}, 'recruiter': {'imId': '123d0447b185705a9941166e65ebdb6f', 'imUserType': '2', 'recruiterName': '苏女士', 'recruiterTitle': '猎头顾问', 'chatted': False, 'recruiterId': '043848a898f3f1eda799fdbc55c7b4b1', 'recruiterPhoto': '655d9b0db31f5c6e109f00ec01u.jpg'}, 'dataInfo': '%7B%22pageSize%22%3A%2240%22%2C%22curPage%22%3A%221%22%2C%22ckId%22%3A%22h2c8pxojavrmo1w785z7ueih2ybfpux8%22%2C%22scene%22%3A%22input%22%2C%22skId%22%3A%22h2c8pxojavrmo1w785z7ueih2ybfpux8%22%2C%22fkId%22%3A%22h2c8pxojavrmo1w785z7ueih2ybfpux8%22%2C%22jobId%22%3A%2250114085%22%2C%22sfrom%22%3A%22search_job_pc%22%2C%22jobKind%22%3A%221%22%2C%22d_curPage%22%3A%221%22%2C%22d_pageSize%22%3A%2240%22%2C%22as_from%22%3A%22search_prime%22%7D', 'dataParams': '{\"imId\":\"123d0447b185705a9941166e65ebdb6f\",\"imUserType\":\"2\",\"jobId\":\"50114085\",\"recruiterName\":\"苏女士\",\"jobKind\":\"1\",\"userId\":\"043848a898f3f1eda799fdbc55c7b4b1\",\"recruiterPhoto\":\"655d9b0db31f5c6e109f00ec01u.jpg\"}'}, {'comp': {'compIndustry': '制药', 'link': '', 'compStage': '已上市', 'compLogo': '60e2fe0bf3df194a3c48adb502u.png', 'compName': '某广州制药上市公司', 'compScale': '2000-5000人'}, 'job': {'labels': [], 'link': 'https://www.liepin.com/a/50490697.shtml', 'title': '助理产品经理', 'salary': '12-20k', 'refreshTime': '20231101095443', 'dq': '广州', 'jobId': '50490697', 'topJob': False, 'jobKind': '1', 'requireEduLevel': '本科', 'advViewFlag': False, 'requireWorkYears': '经验不限', 'dataPromId': 'd_sfrom=search_prime&d_ckId=null&d_curPage=1&d_pageSize=40&d_headId=null&d_posi=9&skId=h2c8pxojavrmo1w785z7ueih2ybfpux8&fkId=h2c8pxojavrmo1w785z7ueih2ybfpux8&ckId=h2c8pxojavrmo1w785z7ueih2ybfpux8&sfrom=search_job_pc&curPage=1&pageSize=40&index=9'}, 'recruiter': {'imId': '65db728e10b9eef3a5be1174c03e48f0', 'imUserType': '2', 'recruiterName': '张女士', 'recruiterTitle': '猎头顾问', 'chatted': False, 'recruiterId': 'b29eef76e3b80c3e347a96aa7077354b', 'recruiterPhoto': '5f8fa3bdea60860b75385c7e08u.png'}, 'dataInfo': '%7B%22pageSize%22%3A%2240%22%2C%22curPage%22%3A%221%22%2C%22ckId%22%3A%22h2c8pxojavrmo1w785z7ueih2ybfpux8%22%2C%22scene%22%3A%22input%22%2C%22skId%22%3A%22h2c8pxojavrmo1w785z7ueih2ybfpux8%22%2C%22fkId%22%3A%22h2c8pxojavrmo1w785z7ueih2ybfpux8%22%2C%22jobId%22%3A%2250490697%22%2C%22sfrom%22%3A%22search_job_pc%22%2C%22jobKind%22%3A%221%22%2C%22d_curPage%22%3A%221%22%2C%22d_pageSize%22%3A%2240%22%2C%22as_from%22%3A%22search_prime%22%7D', 'dataParams': '{\"imId\":\"65db728e10b9eef3a5be1174c03e48f0\",\"imUserType\":\"2\",\"jobId\":\"50490697\",\"recruiterName\":\"张女士\",\"jobKind\":\"1\",\"userId\":\"b29eef76e3b80c3e347a96aa7077354b\",\"recruiterPhoto\":\"5f8fa3bdea60860b75385c7e08u.png\"}'}, {'comp': {'compIndustry': '基金/证券/期货', 'link': 'https://www.liepin.com/company/8762102/', 'compId': 8762102, 'compLogo': '5da6e58dcd52473b94a1b81408u.jpg', 'compName': '深圳前海新心数字科技有限公司', 'compScale': '100-499人'}, 'job': {'labels': ['数据产品', 'AI人工智能产品', '产品规划', '需求调研', '产品设计'], 'link': 'https://www.liepin.com/job/1962588299.shtml', 'title': 'AI产品经理', 'salary': '20-30k·13薪', 'refreshTime': '20231206144118', 'dq': '广州-天河区', 'jobId': '62588299', 'topJob': False, 'jobKind': '2', 'requireEduLevel': '本科', 'advViewFlag': False, 'requireWorkYears': '5-10年', 'pcOuterLink': '', 'h5OuterLink': '', 'dataPromId': 'd_sfrom=search_prime&d_ckId=null&d_curPage=1&d_pageSize=40&d_headId=null&d_posi=10&skId=h2c8pxojavrmo1w785z7ueih2ybfpux8&fkId=h2c8pxojavrmo1w785z7ueih2ybfpux8&ckId=h2c8pxojavrmo1w785z7ueih2ybfpux8&sfrom=search_job_pc&curPage=1&pageSize=40&index=10'}, 'recruiter': {'imId': 'aafcf6ad260a673d67766a03c68ce883', 'imUserType': '2', 'recruiterName': '袁先生', 'recruiterTitle': 'BP总监', 'chatted': False, 'recruiterId': '054d7c637eaf5c72a9c3e79710d0fc73', 'recruiterPhoto': '5f8f986c79c7cc70efbf36c808u.jpg'}, 'dataInfo': '%7B%22pageSize%22%3A%2240%22%2C%22curPage%22%3A%221%22%2C%22ckId%22%3A%22h2c8pxojavrmo1w785z7ueih2ybfpux8%22%2C%22scene%22%3A%22input%22%2C%22skId%22%3A%22h2c8pxojavrmo1w785z7ueih2ybfpux8%22%2C%22fkId%22%3A%22h2c8pxojavrmo1w785z7ueih2ybfpux8%22%2C%22jobId%22%3A%2262588299%22%2C%22sfrom%22%3A%22search_job_pc%22%2C%22jobKind%22%3A%222%22%2C%22d_curPage%22%3A%221%22%2C%22d_pageSize%22%3A%2240%22%2C%22as_from%22%3A%22search_prime%22%7D', 'dataParams': '{\"imId\":\"aafcf6ad260a673d67766a03c68ce883\",\"imUserType\":\"2\",\"jobId\":\"62588299\",\"recruiterName\":\"袁先生\",\"jobKind\":\"2\",\"userId\":\"054d7c637eaf5c72a9c3e79710d0fc73\",\"recruiterPhoto\":\"5f8f986c79c7cc70efbf36c808u.jpg\"}'}, {'comp': {'compIndustry': '制药', 'link': '', 'compStage': '已上市', 'compLogo': '60e2fe0bf3df194a3c48adb502u.png', 'compName': '某广州制药上市公司', 'compScale': '2000-5000人'}, 'job': {'labels': [], 'link': 'https://www.liepin.com/a/50328087.shtml', 'title': '助理产品经理', 'salary': '15-20k', 'refreshTime': '20231122140606', 'dq': '广州-黄埔区', 'jobId': '50328087', 'topJob': False, 'jobKind': '1', 'requireEduLevel': '统招本科', 'advViewFlag': False, 'requireWorkYears': '5-10年', 'dataPromId': 'd_sfrom=search_prime&d_ckId=null&d_curPage=1&d_pageSize=40&d_headId=null&d_posi=11&skId=h2c8pxojavrmo1w785z7ueih2ybfpux8&fkId=h2c8pxojavrmo1w785z7ueih2ybfpux8&ckId=h2c8pxojavrmo1w785z7ueih2ybfpux8&sfrom=search_job_pc&curPage=1&pageSize=40&index=11'}, 'recruiter': {'imId': 'e524572e295e2539bddcd3b09c02d41c', 'imUserType': '2', 'recruiterName': '龚先生', 'recruiterTitle': '猎头顾问', 'chatted': False, 'recruiterId': '3e546f15ffd222b07a19dfb63a320069', 'recruiterPhoto': '61c156923934fa3d93eca59505u.png'}, 'dataInfo': '%7B%22pageSize%22%3A%2240%22%2C%22curPage%22%3A%221%22%2C%22ckId%22%3A%22h2c8pxojavrmo1w785z7ueih2ybfpux8%22%2C%22scene%22%3A%22input%22%2C%22skId%22%3A%22h2c8pxojavrmo1w785z7ueih2ybfpux8%22%2C%22fkId%22%3A%22h2c8pxojavrmo1w785z7ueih2ybfpux8%22%2C%22jobId%22%3A%2250328087%22%2C%22sfrom%22%3A%22search_job_pc%22%2C%22jobKind%22%3A%221%22%2C%22d_curPage%22%3A%221%22%2C%22d_pageSize%22%3A%2240%22%2C%22as_from%22%3A%22search_prime%22%7D', 'dataParams': '{\"imId\":\"e524572e295e2539bddcd3b09c02d41c\",\"imUserType\":\"2\",\"jobId\":\"50328087\",\"recruiterName\":\"龚先生\",\"jobKind\":\"1\",\"userId\":\"3e546f15ffd222b07a19dfb63a320069\",\"recruiterPhoto\":\"61c156923934fa3d93eca59505u.png\"}'}, {'comp': {'compIndustry': '制药', 'link': '', 'compStage': '已上市', 'compLogo': '60e2fe0bf3df194a3c48adb502u.png', 'compName': '某广州制药上市公司', 'compScale': '2000-5000人'}, 'job': {'labels': ['活动策划', '市场推广', '效果评估', '市场调研分析'], 'link': 'https://www.liepin.com/a/51309803.shtml', 'title': '肾线产品经理', 'salary': '15-25k', 'refreshTime': '20231216102140', 'dq': '广州-黄埔区', 'jobId': '51309803', 'topJob': False, 'jobKind': '1', 'requireEduLevel': '统招本科', 'advViewFlag': False, 'requireWorkYears': '3-5年', 'dataPromId': 'd_sfrom=search_prime&d_ckId=null&d_curPage=1&d_pageSize=40&d_headId=null&d_posi=12&skId=h2c8pxojavrmo1w785z7ueih2ybfpux8&fkId=h2c8pxojavrmo1w785z7ueih2ybfpux8&ckId=h2c8pxojavrmo1w785z7ueih2ybfpux8&sfrom=search_job_pc&curPage=1&pageSize=40&index=12'}, 'recruiter': {'imId': '7a1fde647911bf284a7a04e7d95591ea', 'imUserType': '2', 'recruiterName': '王先生', 'recruiterTitle': '猎头顾问', 'chatted': False, 'recruiterId': 'a47c96eb83b310ca674c79a2cb7ee032', 'recruiterPhoto': '60128560bf9f491dbac8ea3703u.jpg'}, 'dataInfo': '%7B%22pageSize%22%3A%2240%22%2C%22curPage%22%3A%221%22%2C%22ckId%22%3A%22h2c8pxojavrmo1w785z7ueih2ybfpux8%22%2C%22scene%22%3A%22input%22%2C%22skId%22%3A%22h2c8pxojavrmo1w785z7ueih2ybfpux8%22%2C%22fkId%22%3A%22h2c8pxojavrmo1w785z7ueih2ybfpux8%22%2C%22jobId%22%3A%2251309803%22%2C%22sfrom%22%3A%22search_job_pc%22%2C%22jobKind%22%3A%221%22%2C%22d_curPage%22%3A%221%22%2C%22d_pageSize%22%3A%2240%22%2C%22as_from%22%3A%22search_prime%22%7D', 'dataParams': '{\"imId\":\"7a1fde647911bf284a7a04e7d95591ea\",\"imUserType\":\"2\",\"jobId\":\"51309803\",\"recruiterName\":\"王先生\",\"jobKind\":\"1\",\"userId\":\"a47c96eb83b310ca674c79a2cb7ee032\",\"recruiterPhoto\":\"60128560bf9f491dbac8ea3703u.jpg\"}'}, {'comp': {'compIndustry': '制药/生物工程', 'link': '', 'compStage': '已上市', 'compLogo': '60e2fe0bf3df194a3c48adb502u.png', 'compName': '某大型上市医药集团', 'compScale': '2000-5000人'}, 'job': {'labels': ['消化线', '产品经理'], 'link': 'https://www.liepin.com/a/51067375.shtml', 'title': '助理产品经理', 'salary': '15-18k', 'refreshTime': '20231214171021', 'dq': '广州', 'jobId': '51067375', 'topJob': False, 'jobKind': '1', 'requireEduLevel': '统招本科', 'advViewFlag': False, 'requireWorkYears': '3-5年', 'dataPromId': 'd_sfrom=search_prime&d_ckId=null&d_curPage=1&d_pageSize=40&d_headId=null&d_posi=13&skId=h2c8pxojavrmo1w785z7ueih2ybfpux8&fkId=h2c8pxojavrmo1w785z7ueih2ybfpux8&ckId=h2c8pxojavrmo1w785z7ueih2ybfpux8&sfrom=search_job_pc&curPage=1&pageSize=40&index=13'}, 'recruiter': {'imId': 'ac8ebc7478beebd6062c1b1ee9c7454d', 'imUserType': '2', 'recruiterName': '秦先生', 'recruiterTitle': '猎头顾问', 'chatted': False, 'recruiterId': '6e69357cd7c17cc946c2094a19512f2c', 'recruiterPhoto': '6323de0f90193b4e99237cf002u.png'}, 'dataInfo': '%7B%22pageSize%22%3A%2240%22%2C%22curPage%22%3A%221%22%2C%22ckId%22%3A%22h2c8pxojavrmo1w785z7ueih2ybfpux8%22%2C%22scene%22%3A%22input%22%2C%22skId%22%3A%22h2c8pxojavrmo1w785z7ueih2ybfpux8%22%2C%22fkId%22%3A%22h2c8pxojavrmo1w785z7ueih2ybfpux8%22%2C%22jobId%22%3A%2251067375%22%2C%22sfrom%22%3A%22search_job_pc%22%2C%22jobKind%22%3A%221%22%2C%22d_curPage%22%3A%221%22%2C%22d_pageSize%22%3A%2240%22%2C%22as_from%22%3A%22search_prime%22%7D', 'dataParams': '{\"imId\":\"ac8ebc7478beebd6062c1b1ee9c7454d\",\"imUserType\":\"2\",\"jobId\":\"51067375\",\"recruiterName\":\"秦先生\",\"jobKind\":\"1\",\"userId\":\"6e69357cd7c17cc946c2094a19512f2c\",\"recruiterPhoto\":\"6323de0f90193b4e99237cf002u.png\"}'}, {'comp': {'compIndustry': '计算机软件', 'link': 'https://www.liepin.com/company/10122365/', 'compId': 10122365, 'compStage': '融资未公开', 'compLogo': '5d2eede1dde7f0565c180dd001u.jpg', 'compName': '宏脉信息技术(广州)股份有限公司', 'compScale': '100-499人'}, 'job': {'labels': ['Xmind', 'Axure', 'CRM产品', 'SaaS产品'], 'link': 'https://www.liepin.com/job/1962015717.shtml', 'title': '高级产品经理', 'salary': '12-20k', 'refreshTime': '20231007162525', 'dq': '广州-番禺区', 'jobId': '62015717', 'topJob': False, 'jobKind': '2', 'requireEduLevel': '大专', 'advViewFlag': False, 'requireWorkYears': '3-5年', 'pcOuterLink': '', 'h5OuterLink': '', 'dataPromId': 'd_sfrom=search_prime&d_ckId=null&d_curPage=1&d_pageSize=40&d_headId=null&d_posi=14&skId=h2c8pxojavrmo1w785z7ueih2ybfpux8&fkId=h2c8pxojavrmo1w785z7ueih2ybfpux8&ckId=h2c8pxojavrmo1w785z7ueih2ybfpux8&sfrom=search_job_pc&curPage=1&pageSize=40&index=14'}, 'recruiter': {'imId': 'c68955fbde5033b4fb8879f236822d2d', 'imUserType': '2', 'recruiterName': '俞先生', 'recruiterTitle': '招聘主管', 'chatted': False, 'recruiterId': 'b5edf0bc0dfccbb57c9dd4ad4be806fb', 'recruiterPhoto': '64d9ce8452c39669b99b993205u.jpeg'}, 'dataInfo': '%7B%22pageSize%22%3A%2240%22%2C%22curPage%22%3A%221%22%2C%22ckId%22%3A%22h2c8pxojavrmo1w785z7ueih2ybfpux8%22%2C%22scene%22%3A%22input%22%2C%22skId%22%3A%22h2c8pxojavrmo1w785z7ueih2ybfpux8%22%2C%22fkId%22%3A%22h2c8pxojavrmo1w785z7ueih2ybfpux8%22%2C%22jobId%22%3A%2262015717%22%2C%22sfrom%22%3A%22search_job_pc%22%2C%22jobKind%22%3A%222%22%2C%22d_curPage%22%3A%221%22%2C%22d_pageSize%22%3A%2240%22%2C%22as_from%22%3A%22search_prime%22%7D', 'dataParams': '{\"imId\":\"c68955fbde5033b4fb8879f236822d2d\",\"imUserType\":\"2\",\"jobId\":\"62015717\",\"recruiterName\":\"俞先生\",\"jobKind\":\"2\",\"userId\":\"b5edf0bc0dfccbb57c9dd4ad4be806fb\",\"recruiterPhoto\":\"64d9ce8452c39669b99b993205u.jpeg\"}'}, {'comp': {'compIndustry': 'IT服务', 'link': 'https://www.liepin.com/company/8638211/', 'compId': 8638211, 'compStage': '创业板上市', 'compLogo': '5bfe98c474719df0ac99801b03a.png', 'compName': '思特奇信息技术', 'compScale': '5000-10000人'}, 'job': {'labels': ['原型设计', '需求调研', '产品规划', '需求管理'], 'link': 'https://www.liepin.com/job/1953920663.shtml', 'title': '产品经理', 'salary': '15-25k', 'refreshTime': '20221128165741', 'dq': '广州-天河区', 'jobId': '53920663', 'topJob': False, 'jobKind': '2', 'requireEduLevel': '统招本科', 'advViewFlag': False, 'requireWorkYears': '5-10年', 'pcOuterLink': '', 'h5OuterLink': '', 'dataPromId': 'd_sfrom=search_prime&d_ckId=null&d_curPage=1&d_pageSize=40&d_headId=null&d_posi=15&skId=h2c8pxojavrmo1w785z7ueih2ybfpux8&fkId=h2c8pxojavrmo1w785z7ueih2ybfpux8&ckId=h2c8pxojavrmo1w785z7ueih2ybfpux8&sfrom=search_job_pc&curPage=1&pageSize=40&index=15'}, 'recruiter': {'imId': '1d06e180b0228fe8cc809655362a8e54', 'imUserType': '2', 'recruiterName': '钟女士', 'recruiterTitle': 'HR', 'chatted': False, 'recruiterId': 'e904f45c3a8aed6407db9f3e7431f6a8', 'recruiterPhoto': '5f8f9866dfb13a7dee342f1808u.jpg'}, 'dataInfo': '%7B%22pageSize%22%3A%2240%22%2C%22curPage%22%3A%221%22%2C%22ckId%22%3A%22h2c8pxojavrmo1w785z7ueih2ybfpux8%22%2C%22scene%22%3A%22input%22%2C%22skId%22%3A%22h2c8pxojavrmo1w785z7ueih2ybfpux8%22%2C%22fkId%22%3A%22h2c8pxojavrmo1w785z7ueih2ybfpux8%22%2C%22jobId%22%3A%2253920663%22%2C%22sfrom%22%3A%22search_job_pc%22%2C%22jobKind%22%3A%222%22%2C%22d_curPage%22%3A%221%22%2C%22d_pageSize%22%3A%2240%22%2C%22as_from%22%3A%22search_prime%22%7D', 'dataParams': '{\"imId\":\"1d06e180b0228fe8cc809655362a8e54\",\"imUserType\":\"2\",\"jobId\":\"53920663\",\"recruiterName\":\"钟女士\",\"jobKind\":\"2\",\"userId\":\"e904f45c3a8aed6407db9f3e7431f6a8\",\"recruiterPhoto\":\"5f8f9866dfb13a7dee342f1808u.jpg\"}'}, {'comp': {'compIndustry': '广告/公关/会展', 'link': 'https://www.liepin.com/company/12454465/', 'compId': 12454465, 'compStage': '其他', 'compLogo': '5faa454b1fcf636a62fa72b406u.png', 'compName': '上海丰凡文化传媒有限公司', 'compScale': '100-499人'}, 'job': {'labels': ['海外', '手游', '电商'], 'link': 'https://www.liepin.com/job/1953827269.shtml', 'title': '资深产品经理', 'salary': '20-40k', 'refreshTime': '20221111104746', 'dq': '广州-天河区', 'jobId': '53827269', 'topJob': False, 'jobKind': '2', 'requireEduLevel': '学历不限', 'advViewFlag': False, 'requireWorkYears': '5-10年', 'pcOuterLink': '', 'h5OuterLink': '', 'dataPromId': 'd_sfrom=search_prime&d_ckId=null&d_curPage=1&d_pageSize=40&d_headId=null&d_posi=16&skId=h2c8pxojavrmo1w785z7ueih2ybfpux8&fkId=h2c8pxojavrmo1w785z7ueih2ybfpux8&ckId=h2c8pxojavrmo1w785z7ueih2ybfpux8&sfrom=search_job_pc&curPage=1&pageSize=40&index=16'}, 'recruiter': {'imId': '38c3a95e68cbd430dd13b2a70973f04a', 'imUserType': '2', 'recruiterName': '范先生', 'recruiterTitle': 'hrbp', 'chatted': False, 'recruiterId': '3f165a98fe2bd8bb65cbf99d17e3ab3e', 'recruiterPhoto': '5f8f986bdfb13a7dee342f2108u.jpg'}, 'dataInfo': '%7B%22pageSize%22%3A%2240%22%2C%22curPage%22%3A%221%22%2C%22ckId%22%3A%22h2c8pxojavrmo1w785z7ueih2ybfpux8%22%2C%22scene%22%3A%22input%22%2C%22skId%22%3A%22h2c8pxojavrmo1w785z7ueih2ybfpux8%22%2C%22fkId%22%3A%22h2c8pxojavrmo1w785z7ueih2ybfpux8%22%2C%22jobId%22%3A%2253827269%22%2C%22sfrom%22%3A%22search_job_pc%22%2C%22jobKind%22%3A%222%22%2C%22d_curPage%22%3A%221%22%2C%22d_pageSize%22%3A%2240%22%2C%22as_from%22%3A%22search_prime%22%7D', 'dataParams': '{\"imId\":\"38c3a95e68cbd430dd13b2a70973f04a\",\"imUserType\":\"2\",\"jobId\":\"53827269\",\"recruiterName\":\"范先生\",\"jobKind\":\"2\",\"userId\":\"3f165a98fe2bd8bb65cbf99d17e3ab3e\",\"recruiterPhoto\":\"5f8f986bdfb13a7dee342f2108u.jpg\"}'}, {'comp': {'compIndustry': '制药', 'link': 'https://www.liepin.com/company/2896007/', 'compId': 2896007, 'compLogo': '5bfe92b574719d9f609a792b03a.png', 'compName': '康臣药业集团', 'compScale': '2000-5000人'}, 'job': {'labels': ['excel', 'word'], 'link': 'https://www.liepin.com/job/1941448413.shtml', 'title': '助理产品经理', 'salary': '10-18k', 'refreshTime': '20231201105457', 'dq': '广州-黄埔区', 'jobId': '41448413', 'topJob': False, 'jobKind': '2', 'requireEduLevel': '本科', 'advViewFlag': False, 'requireWorkYears': '1-3年', 'pcOuterLink': '', 'h5OuterLink': '', 'dataPromId': 'd_sfrom=search_prime&d_ckId=null&d_curPage=1&d_pageSize=40&d_headId=null&d_posi=17&skId=h2c8pxojavrmo1w785z7ueih2ybfpux8&fkId=h2c8pxojavrmo1w785z7ueih2ybfpux8&ckId=h2c8pxojavrmo1w785z7ueih2ybfpux8&sfrom=search_job_pc&curPage=1&pageSize=40&index=17'}, 'recruiter': {'imId': 'eafa351d68e009ae02f523e94e784db2', 'imUserType': '2', 'recruiterName': '顾女士', 'recruiterTitle': 'HRBP', 'chatted': False, 'recruiterId': '21c9e14418535fd7424f107b1fb18382', 'recruiterPhoto': '57995adc45ce9c78fdc273c105a.jpg'}, 'dataInfo': '%7B%22pageSize%22%3A%2240%22%2C%22curPage%22%3A%221%22%2C%22ckId%22%3A%22h2c8pxojavrmo1w785z7ueih2ybfpux8%22%2C%22scene%22%3A%22input%22%2C%22skId%22%3A%22h2c8pxojavrmo1w785z7ueih2ybfpux8%22%2C%22fkId%22%3A%22h2c8pxojavrmo1w785z7ueih2ybfpux8%22%2C%22jobId%22%3A%2241448413%22%2C%22sfrom%22%3A%22search_job_pc%22%2C%22jobKind%22%3A%222%22%2C%22d_curPage%22%3A%221%22%2C%22d_pageSize%22%3A%2240%22%2C%22as_from%22%3A%22search_prime%22%7D', 'dataParams': '{\"imId\":\"eafa351d68e009ae02f523e94e784db2\",\"imUserType\":\"2\",\"jobId\":\"41448413\",\"recruiterName\":\"顾女士\",\"jobKind\":\"2\",\"userId\":\"21c9e14418535fd7424f107b1fb18382\",\"recruiterPhoto\":\"57995adc45ce9c78fdc273c105a.jpg\"}'}, {'comp': {'compIndustry': '制药', 'link': '', 'compStage': '已上市', 'compLogo': '60e2fe0bf3df194a3c48adb502u.png', 'compName': '某广州制药上市公司', 'compScale': '500-999人'}, 'job': {'labels': [], 'link': 'https://www.liepin.com/a/51624939.shtml', 'title': '助理产品经理', 'salary': '15-20k', 'refreshTime': '20231215090226', 'dq': '广州', 'jobId': '51624939', 'topJob': False, 'jobKind': '1', 'requireEduLevel': '统招本科', 'advViewFlag': False, 'requireWorkYears': '1-3年', 'dataPromId': 'd_sfrom=search_prime&d_ckId=null&d_curPage=1&d_pageSize=40&d_headId=null&d_posi=18&skId=h2c8pxojavrmo1w785z7ueih2ybfpux8&fkId=h2c8pxojavrmo1w785z7ueih2ybfpux8&ckId=h2c8pxojavrmo1w785z7ueih2ybfpux8&sfrom=search_job_pc&curPage=1&pageSize=40&index=18'}, 'recruiter': {'imId': '917656b1afc6fba673ea3114a5fc2d96', 'imUserType': '2', 'recruiterName': '张女士', 'recruiterTitle': '猎头顾问', 'chatted': False, 'recruiterId': '73051c35373412963b1cb81e1a56e259', 'recruiterPhoto': '5f446558f6d1ab58473daa8103u.png'}, 'dataInfo': '%7B%22pageSize%22%3A%2240%22%2C%22curPage%22%3A%221%22%2C%22ckId%22%3A%22h2c8pxojavrmo1w785z7ueih2ybfpux8%22%2C%22scene%22%3A%22input%22%2C%22skId%22%3A%22h2c8pxojavrmo1w785z7ueih2ybfpux8%22%2C%22fkId%22%3A%22h2c8pxojavrmo1w785z7ueih2ybfpux8%22%2C%22jobId%22%3A%2251624939%22%2C%22sfrom%22%3A%22search_job_pc%22%2C%22jobKind%22%3A%221%22%2C%22d_curPage%22%3A%221%22%2C%22d_pageSize%22%3A%2240%22%2C%22as_from%22%3A%22search_prime%22%7D', 'dataParams': '{\"imId\":\"917656b1afc6fba673ea3114a5fc2d96\",\"imUserType\":\"2\",\"jobId\":\"51624939\",\"recruiterName\":\"张女士\",\"jobKind\":\"1\",\"userId\":\"73051c35373412963b1cb81e1a56e259\",\"recruiterPhoto\":\"5f446558f6d1ab58473daa8103u.png\"}'}, {'comp': {'compIndustry': '制药', 'link': '', 'compStage': '已上市', 'compLogo': '60e2fe0bf3df194a3c48adb502u.png', 'compName': '某广州制药上市公司', 'compScale': '2000-5000人'}, 'job': {'labels': [], 'link': 'https://www.liepin.com/a/51391139.shtml', 'title': '助理产品经理', 'salary': '12-13k', 'refreshTime': '20231206094620', 'dq': '广州', 'jobId': '51391139', 'topJob': False, 'jobKind': '1', 'requireEduLevel': '本科', 'advViewFlag': False, 'requireWorkYears': '经验不限', 'dataPromId': 'd_sfrom=search_prime&d_ckId=null&d_curPage=1&d_pageSize=40&d_headId=null&d_posi=19&skId=h2c8pxojavrmo1w785z7ueih2ybfpux8&fkId=h2c8pxojavrmo1w785z7ueih2ybfpux8&ckId=h2c8pxojavrmo1w785z7ueih2ybfpux8&sfrom=search_job_pc&curPage=1&pageSize=40&index=19'}, 'recruiter': {'imId': 'bc4ce78b70012c05bed9c63c695716f7', 'imUserType': '2', 'recruiterName': '杨女士', 'recruiterTitle': '猎头顾问', 'chatted': False, 'recruiterId': '89f1646cb9b7099bf7c54c20e6f0ee08', 'recruiterPhoto': '5f8fa3bddfb13a7dee343d7608u.png'}, 'dataInfo': '%7B%22pageSize%22%3A%2240%22%2C%22curPage%22%3A%221%22%2C%22ckId%22%3A%22h2c8pxojavrmo1w785z7ueih2ybfpux8%22%2C%22scene%22%3A%22input%22%2C%22skId%22%3A%22h2c8pxojavrmo1w785z7ueih2ybfpux8%22%2C%22fkId%22%3A%22h2c8pxojavrmo1w785z7ueih2ybfpux8%22%2C%22jobId%22%3A%2251391139%22%2C%22sfrom%22%3A%22search_job_pc%22%2C%22jobKind%22%3A%221%22%2C%22d_curPage%22%3A%221%22%2C%22d_pageSize%22%3A%2240%22%2C%22as_from%22%3A%22search_prime%22%7D', 'dataParams': '{\"imId\":\"bc4ce78b70012c05bed9c63c695716f7\",\"imUserType\":\"2\",\"jobId\":\"51391139\",\"recruiterName\":\"杨女士\",\"jobKind\":\"1\",\"userId\":\"89f1646cb9b7099bf7c54c20e6f0ee08\",\"recruiterPhoto\":\"5f8fa3bddfb13a7dee343d7608u.png\"}'}, {'comp': {'compIndustry': '电子商务', 'link': '', 'compLogo': '60e2fe0bf3df194a3c48adb502u.png', 'compName': '某广州电子商务公司', 'compScale': '50-99人'}, 'job': {'labels': ['电子产品及配件', '智能硬件', '产品规划', '用户研究', '产品优化', '团队管理', '产品设计', '数据分析'], 'link': 'https://www.liepin.com/a/49494535.shtml', 'title': '产品经理', 'salary': '15-25k', 'refreshTime': '20231211095530', 'dq': '广州-白云区', 'jobId': '49494535', 'topJob': False, 'jobKind': '1', 'requireEduLevel': '本科', 'advViewFlag': False, 'requireWorkYears': '5-10年', 'dataPromId': 'd_sfrom=search_prime&d_ckId=null&d_curPage=1&d_pageSize=40&d_headId=null&d_posi=20&skId=h2c8pxojavrmo1w785z7ueih2ybfpux8&fkId=h2c8pxojavrmo1w785z7ueih2ybfpux8&ckId=h2c8pxojavrmo1w785z7ueih2ybfpux8&sfrom=search_job_pc&curPage=1&pageSize=40&index=20'}, 'recruiter': {'imId': '9dcf127c3aae34481837546e45eb3a29', 'imUserType': '2', 'recruiterName': '李先生', 'recruiterTitle': '猎头顾问', 'chatted': False, 'recruiterId': '340c1e0233e15ce3c9fda35ccfe3d4a6', 'recruiterPhoto': '646c558de654411ceb5f41ca04u.jpg'}, 'dataInfo': '%7B%22pageSize%22%3A%2240%22%2C%22curPage%22%3A%221%22%2C%22ckId%22%3A%22h2c8pxojavrmo1w785z7ueih2ybfpux8%22%2C%22scene%22%3A%22input%22%2C%22skId%22%3A%22h2c8pxojavrmo1w785z7ueih2ybfpux8%22%2C%22fkId%22%3A%22h2c8pxojavrmo1w785z7ueih2ybfpux8%22%2C%22jobId%22%3A%2249494535%22%2C%22sfrom%22%3A%22search_job_pc%22%2C%22jobKind%22%3A%221%22%2C%22d_curPage%22%3A%221%22%2C%22d_pageSize%22%3A%2240%22%2C%22as_from%22%3A%22search_prime%22%7D', 'dataParams': '{\"imId\":\"9dcf127c3aae34481837546e45eb3a29\",\"imUserType\":\"2\",\"jobId\":\"49494535\",\"recruiterName\":\"李先生\",\"jobKind\":\"1\",\"userId\":\"340c1e0233e15ce3c9fda35ccfe3d4a6\",\"recruiterPhoto\":\"646c558de654411ceb5f41ca04u.jpg\"}'}, {'comp': {'compIndustry': '智能硬件', 'link': 'https://www.liepin.com/company/13240899/', 'compId': 13240899, 'compLogo': '62ac4ef1787944181c34c1e006u.png', 'compName': '广东花至美容科技有限公司', 'compScale': '100-499人'}, 'job': {'labels': ['画像产品', '策略产品', '数据产品', '定价/竞价产品', '化妆品', '家电行业', '产品优化', '产品规划', '市场调研', '用户研究'], 'link': 'https://www.liepin.com/job/1963498483.shtml', 'title': '高级产品经理/产品经理(J10275)', 'salary': '30-45k·13薪', 'refreshTime': '20231208174156', 'dq': '广州-海珠区', 'jobId': '63498483', 'topJob': False, 'jobKind': '2', 'requireEduLevel': '本科', 'advViewFlag': False, 'requireWorkYears': '3-5年', 'pcOuterLink': '', 'h5OuterLink': '', 'dataPromId': 'd_sfrom=search_prime&d_ckId=null&d_curPage=1&d_pageSize=40&d_headId=null&d_posi=21&skId=h2c8pxojavrmo1w785z7ueih2ybfpux8&fkId=h2c8pxojavrmo1w785z7ueih2ybfpux8&ckId=h2c8pxojavrmo1w785z7ueih2ybfpux8&sfrom=search_job_pc&curPage=1&pageSize=40&index=21'}, 'recruiter': {'imId': '6041fdd1fdae1d7036a9a97efe6aa3ae', 'imUserType': '2', 'recruiterName': '陈女士', 'recruiterTitle': '招聘主管', 'chatted': False, 'recruiterId': 'c435c31ca3a41c5b31ebbf346953ec4d', 'recruiterPhoto': '62d7d4e16cf023528ae5588e06u.png'}, 'dataInfo': '%7B%22pageSize%22%3A%2240%22%2C%22curPage%22%3A%221%22%2C%22ckId%22%3A%22h2c8pxojavrmo1w785z7ueih2ybfpux8%22%2C%22scene%22%3A%22input%22%2C%22skId%22%3A%22h2c8pxojavrmo1w785z7ueih2ybfpux8%22%2C%22fkId%22%3A%22h2c8pxojavrmo1w785z7ueih2ybfpux8%22%2C%22jobId%22%3A%2263498483%22%2C%22sfrom%22%3A%22search_job_pc%22%2C%22jobKind%22%3A%222%22%2C%22d_curPage%22%3A%221%22%2C%22d_pageSize%22%3A%2240%22%2C%22as_from%22%3A%22search_prime%22%7D', 'dataParams': '{\"imId\":\"6041fdd1fdae1d7036a9a97efe6aa3ae\",\"imUserType\":\"2\",\"jobId\":\"63498483\",\"recruiterName\":\"陈女士\",\"jobKind\":\"2\",\"userId\":\"c435c31ca3a41c5b31ebbf346953ec4d\",\"recruiterPhoto\":\"62d7d4e16cf023528ae5588e06u.png\"}'}, {'comp': {'compIndustry': '日化', 'link': 'https://www.liepin.com/company/1998001/', 'compId': 1998001, 'compLogo': '5c6a4ab5509919c4f5f533a302u.png', 'compName': '立白集团', 'compScale': '10000人以上'}, 'job': {'labels': ['后台产品', '客户端产品', 'to B', '需求分析', '产品设计', '产品规划', '团队管理', 'Axure', '墨刀'], 'link': 'https://www.liepin.com/job/1959770613.shtml', 'title': 'IT产品经理(J11291)', 'salary': '薪资面议', 'refreshTime': '20230815145102', 'dq': '广州-荔湾区', 'jobId': '59770613', 'topJob': False, 'jobKind': '2', 'requireEduLevel': '本科', 'advViewFlag': False, 'requireWorkYears': '3-5年', 'pcOuterLink': '', 'h5OuterLink': '', 'dataPromId': 'd_sfrom=search_prime&d_ckId=null&d_curPage=1&d_pageSize=40&d_headId=null&d_posi=22&skId=h2c8pxojavrmo1w785z7ueih2ybfpux8&fkId=h2c8pxojavrmo1w785z7ueih2ybfpux8&ckId=h2c8pxojavrmo1w785z7ueih2ybfpux8&sfrom=search_job_pc&curPage=1&pageSize=40&index=22'}, 'recruiter': {'imId': '6d85da238a4732fbf73b70b4b92bfcab', 'imUserType': '2', 'recruiterName': '吴女士', 'recruiterTitle': 'HR', 'chatted': False, 'recruiterId': '8f66d80ee4c65230b55c2e7e23c02631', 'recruiterPhoto': '5f8f9865ea60860b75384fa508u.jpg'}, 'dataInfo': '%7B%22pageSize%22%3A%2240%22%2C%22curPage%22%3A%221%22%2C%22ckId%22%3A%22h2c8pxojavrmo1w785z7ueih2ybfpux8%22%2C%22scene%22%3A%22input%22%2C%22skId%22%3A%22h2c8pxojavrmo1w785z7ueih2ybfpux8%22%2C%22fkId%22%3A%22h2c8pxojavrmo1w785z7ueih2ybfpux8%22%2C%22jobId%22%3A%2259770613%22%2C%22sfrom%22%3A%22search_job_pc%22%2C%22jobKind%22%3A%222%22%2C%22d_curPage%22%3A%221%22%2C%22d_pageSize%22%3A%2240%22%2C%22as_from%22%3A%22search_prime%22%7D', 'dataParams': '{\"imId\":\"6d85da238a4732fbf73b70b4b92bfcab\",\"imUserType\":\"2\",\"jobId\":\"59770613\",\"recruiterName\":\"吴女士\",\"jobKind\":\"2\",\"userId\":\"8f66d80ee4c65230b55c2e7e23c02631\",\"recruiterPhoto\":\"5f8f9865ea60860b75384fa508u.jpg\"}'}, {'comp': {'compIndustry': '服装/纺织/皮革', 'link': '', 'compStage': '融资未公开', 'compLogo': '60e2fe0bf3df194a3c48adb502u.png', 'compName': '某厦门服装/纺织/皮革公司', 'compScale': '100-499人'}, 'job': {'labels': ['电商产品', '供应链产品', '跨境电商', '电子商务', '产品优化', '产品规划', '团队管理'], 'link': 'https://www.liepin.com/a/51409401.shtml', 'title': '商品产品经理', 'salary': '20-35k', 'refreshTime': '20231215160442', 'dq': '广州-海珠区', 'jobId': '51409401', 'topJob': False, 'jobKind': '1', 'requireEduLevel': '大专', 'advViewFlag': False, 'requireWorkYears': '3-5年', 'dataPromId': 'd_sfrom=search_prime&d_ckId=null&d_curPage=1&d_pageSize=40&d_headId=null&d_posi=23&skId=h2c8pxojavrmo1w785z7ueih2ybfpux8&fkId=h2c8pxojavrmo1w785z7ueih2ybfpux8&ckId=h2c8pxojavrmo1w785z7ueih2ybfpux8&sfrom=search_job_pc&curPage=1&pageSize=40&index=23'}, 'recruiter': {'imId': '94e2c180a724a6699941166e65ebdb6f', 'imUserType': '2', 'recruiterName': '李女士', 'recruiterTitle': '猎头顾问', 'chatted': False, 'recruiterId': '15e644c1e29b87649cceddeb5a9135e0', 'recruiterPhoto': '5fbb50807e737f290e8217b501u.jpg'}, 'dataInfo': '%7B%22pageSize%22%3A%2240%22%2C%22curPage%22%3A%221%22%2C%22ckId%22%3A%22h2c8pxojavrmo1w785z7ueih2ybfpux8%22%2C%22scene%22%3A%22input%22%2C%22skId%22%3A%22h2c8pxojavrmo1w785z7ueih2ybfpux8%22%2C%22fkId%22%3A%22h2c8pxojavrmo1w785z7ueih2ybfpux8%22%2C%22jobId%22%3A%2251409401%22%2C%22sfrom%22%3A%22search_job_pc%22%2C%22jobKind%22%3A%221%22%2C%22d_curPage%22%3A%221%22%2C%22d_pageSize%22%3A%2240%22%2C%22as_from%22%3A%22search_prime%22%7D', 'dataParams': '{\"imId\":\"94e2c180a724a6699941166e65ebdb6f\",\"imUserType\":\"2\",\"jobId\":\"51409401\",\"recruiterName\":\"李女士\",\"jobKind\":\"1\",\"userId\":\"15e644c1e29b87649cceddeb5a9135e0\",\"recruiterPhoto\":\"5fbb50807e737f290e8217b501u.jpg\"}'}, {'comp': {'compIndustry': '计算机软件', 'link': 'https://www.liepin.com/company/13073073/', 'compId': 13073073, 'compLogo': '621326142d9e311f5012350303u.png', 'compName': '行致互联', 'compScale': '100-499人'}, 'job': {'labels': ['数据产品', '平台产品', '交通/运输', '信息安全', '数据分析', '产品规划', 'Axure', 'Visio', 'MindManager'], 'link': 'https://www.liepin.com/job/1959204609.shtml', 'title': '低空产品经理', 'salary': '15-30k·16薪', 'refreshTime': '20231214135122', 'dq': '广州-番禺区', 'jobId': '59204609', 'topJob': False, 'jobKind': '2', 'requireEduLevel': '本科', 'advViewFlag': False, 'requireWorkYears': '5-10年', 'pcOuterLink': '', 'h5OuterLink': '', 'dataPromId': 'd_sfrom=search_prime&d_ckId=null&d_curPage=1&d_pageSize=40&d_headId=null&d_posi=24&skId=h2c8pxojavrmo1w785z7ueih2ybfpux8&fkId=h2c8pxojavrmo1w785z7ueih2ybfpux8&ckId=h2c8pxojavrmo1w785z7ueih2ybfpux8&sfrom=search_job_pc&curPage=1&pageSize=40&index=24'}, 'recruiter': {'imId': 'b4045c7c2ca7be37c35571b1f0926f49', 'imUserType': '2', 'recruiterName': '曹先生', 'recruiterTitle': '高级招聘专员', 'chatted': False, 'recruiterId': '7002e5f04a27f9a51d53e46ac12a6ed7', 'recruiterPhoto': '5f8f986c79c7cc70efbf36c808u.jpg'}, 'dataInfo': '%7B%22pageSize%22%3A%2240%22%2C%22curPage%22%3A%221%22%2C%22ckId%22%3A%22h2c8pxojavrmo1w785z7ueih2ybfpux8%22%2C%22scene%22%3A%22input%22%2C%22skId%22%3A%22h2c8pxojavrmo1w785z7ueih2ybfpux8%22%2C%22fkId%22%3A%22h2c8pxojavrmo1w785z7ueih2ybfpux8%22%2C%22jobId%22%3A%2259204609%22%2C%22sfrom%22%3A%22search_job_pc%22%2C%22jobKind%22%3A%222%22%2C%22d_curPage%22%3A%221%22%2C%22d_pageSize%22%3A%2240%22%2C%22as_from%22%3A%22search_prime%22%7D', 'dataParams': '{\"imId\":\"b4045c7c2ca7be37c35571b1f0926f49\",\"imUserType\":\"2\",\"jobId\":\"59204609\",\"recruiterName\":\"曹先生\",\"jobKind\":\"2\",\"userId\":\"7002e5f04a27f9a51d53e46ac12a6ed7\",\"recruiterPhoto\":\"5f8f986c79c7cc70efbf36c808u.jpg\"}'}, {'comp': {'compIndustry': '食品/饮料/酒水', 'link': '', 'compStage': '融资未公开', 'compLogo': '60e2fe0bf3df194a3c48adb502u.png', 'compName': '某国内大型食品/饮料/酒水公司', 'compScale': '2000-5000人'}, 'job': {'labels': ['社交产品', '社交网络', '电子商务', '小程序产品', '移动端产品', '产品规划'], 'link': 'https://www.liepin.com/a/50776431.shtml', 'title': 'B端数字化产品经理', 'salary': '15-20k·14薪', 'refreshTime': '20231211203909', 'dq': '广州', 'jobId': '50776431', 'topJob': False, 'jobKind': '1', 'requireEduLevel': '统招本科', 'advViewFlag': False, 'requireWorkYears': '5-10年', 'dataPromId': 'd_sfrom=search_prime&d_ckId=null&d_curPage=1&d_pageSize=40&d_headId=null&d_posi=25&skId=h2c8pxojavrmo1w785z7ueih2ybfpux8&fkId=h2c8pxojavrmo1w785z7ueih2ybfpux8&ckId=h2c8pxojavrmo1w785z7ueih2ybfpux8&sfrom=search_job_pc&curPage=1&pageSize=40&index=25'}, 'recruiter': {'imId': 'acdf2cfbef5f898c02f523e94e784db2', 'imUserType': '2', 'recruiterName': '梁女士', 'recruiterTitle': '猎头顾问', 'chatted': False, 'recruiterId': '6058b2297130ae75dc21770415873fd3', 'recruiterPhoto': '65517ecc5b16675010967c5101u.jpg'}, 'dataInfo': '%7B%22pageSize%22%3A%2240%22%2C%22curPage%22%3A%221%22%2C%22ckId%22%3A%22h2c8pxojavrmo1w785z7ueih2ybfpux8%22%2C%22scene%22%3A%22input%22%2C%22skId%22%3A%22h2c8pxojavrmo1w785z7ueih2ybfpux8%22%2C%22fkId%22%3A%22h2c8pxojavrmo1w785z7ueih2ybfpux8%22%2C%22jobId%22%3A%2250776431%22%2C%22sfrom%22%3A%22search_job_pc%22%2C%22jobKind%22%3A%221%22%2C%22d_curPage%22%3A%221%22%2C%22d_pageSize%22%3A%2240%22%2C%22as_from%22%3A%22search_prime%22%7D', 'dataParams': '{\"imId\":\"acdf2cfbef5f898c02f523e94e784db2\",\"imUserType\":\"2\",\"jobId\":\"50776431\",\"recruiterName\":\"梁女士\",\"jobKind\":\"1\",\"userId\":\"6058b2297130ae75dc21770415873fd3\",\"recruiterPhoto\":\"65517ecc5b16675010967c5101u.jpg\"}'}, {'comp': {'compIndustry': '互联网', 'link': 'https://www.liepin.com/company/8706847/', 'compId': 8706847, 'compLogo': '5c64c511261c45f22d50d39303u.png', 'compName': 'SHEIN', 'compScale': '5000-10000人'}, 'job': {'labels': ['电商产品', '数据产品', '商业产品', '策略产品', '物流快递', '交通/运输/物流', 'IT互联网', '电子商务', '产品设计', '产品规划'], 'link': 'https://www.liepin.com/job/1946144827.shtml', 'title': '高级产品经理(TMS方向) (MJ004414)', 'salary': '20-40k·14薪', 'refreshTime': '20231204150622', 'dq': '广州-番禺区', 'jobId': '46144827', 'topJob': False, 'jobKind': '2', 'requireEduLevel': '统招本科', 'advViewFlag': False, 'requireWorkYears': '5-10年', 'pcOuterLink': '', 'h5OuterLink': '', 'dataPromId': 'd_sfrom=search_prime&d_ckId=null&d_curPage=1&d_pageSize=40&d_headId=null&d_posi=26&skId=h2c8pxojavrmo1w785z7ueih2ybfpux8&fkId=h2c8pxojavrmo1w785z7ueih2ybfpux8&ckId=h2c8pxojavrmo1w785z7ueih2ybfpux8&sfrom=search_job_pc&curPage=1&pageSize=40&index=26'}, 'recruiter': {'imId': '40875028331634a054f897cc91b0c405', 'imUserType': '2', 'recruiterName': '叶女士', 'recruiterTitle': 'ITBP', 'chatted': False, 'recruiterId': 'd4384f080bd2b1305b79df179efbb4db', 'recruiterPhoto': '5f8f986779c7cc70efbf36c008u.jpg'}, 'dataInfo': '%7B%22pageSize%22%3A%2240%22%2C%22curPage%22%3A%221%22%2C%22ckId%22%3A%22h2c8pxojavrmo1w785z7ueih2ybfpux8%22%2C%22scene%22%3A%22input%22%2C%22skId%22%3A%22h2c8pxojavrmo1w785z7ueih2ybfpux8%22%2C%22fkId%22%3A%22h2c8pxojavrmo1w785z7ueih2ybfpux8%22%2C%22jobId%22%3A%2246144827%22%2C%22sfrom%22%3A%22search_job_pc%22%2C%22jobKind%22%3A%222%22%2C%22d_curPage%22%3A%221%22%2C%22d_pageSize%22%3A%2240%22%2C%22as_from%22%3A%22search_prime%22%7D', 'dataParams': '{\"imId\":\"40875028331634a054f897cc91b0c405\",\"imUserType\":\"2\",\"jobId\":\"46144827\",\"recruiterName\":\"叶女士\",\"jobKind\":\"2\",\"userId\":\"d4384f080bd2b1305b79df179efbb4db\",\"recruiterPhoto\":\"5f8f986779c7cc70efbf36c008u.jpg\"}'}, {'comp': {'compIndustry': '电气机械/器材', 'link': 'https://www.liepin.com/company/8946089/', 'compId': 8946089, 'compLogo': '5bfe8f8a74719d35745a755603a.png', 'compName': '三晶电气', 'compScale': '1000-2000人'}, 'job': {'labels': [], 'link': 'https://www.liepin.com/job/1960260253.shtml', 'title': '高级产品经理', 'salary': '30-40k·16薪', 'refreshTime': '20230725110926', 'dq': '广州-黄埔区', 'jobId': '60260253', 'topJob': False, 'jobKind': '2', 'requireEduLevel': '统招本科', 'advViewFlag': False, 'requireWorkYears': '3-5年', 'pcOuterLink': '', 'h5OuterLink': '', 'dataPromId': 'd_sfrom=search_prime&d_ckId=null&d_curPage=1&d_pageSize=40&d_headId=null&d_posi=27&skId=h2c8pxojavrmo1w785z7ueih2ybfpux8&fkId=h2c8pxojavrmo1w785z7ueih2ybfpux8&ckId=h2c8pxojavrmo1w785z7ueih2ybfpux8&sfrom=search_job_pc&curPage=1&pageSize=40&index=27'}, 'recruiter': {'imId': '82195388aca3fb89fa4a138a720b5859', 'imUserType': '2', 'recruiterName': '胡先生', 'recruiterTitle': '三晶电气HRVP', 'chatted': False, 'recruiterId': '9efe807fa4231c842b20edc462b8502d', 'recruiterPhoto': '5f8f986c79c7cc70efbf36c808u.jpg'}, 'dataInfo': '%7B%22pageSize%22%3A%2240%22%2C%22curPage%22%3A%221%22%2C%22ckId%22%3A%22h2c8pxojavrmo1w785z7ueih2ybfpux8%22%2C%22scene%22%3A%22input%22%2C%22skId%22%3A%22h2c8pxojavrmo1w785z7ueih2ybfpux8%22%2C%22fkId%22%3A%22h2c8pxojavrmo1w785z7ueih2ybfpux8%22%2C%22jobId%22%3A%2260260253%22%2C%22sfrom%22%3A%22search_job_pc%22%2C%22jobKind%22%3A%222%22%2C%22d_curPage%22%3A%221%22%2C%22d_pageSize%22%3A%2240%22%2C%22as_from%22%3A%22search_prime%22%7D', 'dataParams': '{\"imId\":\"82195388aca3fb89fa4a138a720b5859\",\"imUserType\":\"2\",\"jobId\":\"60260253\",\"recruiterName\":\"胡先生\",\"jobKind\":\"2\",\"userId\":\"9efe807fa4231c842b20edc462b8502d\",\"recruiterPhoto\":\"5f8f986c79c7cc70efbf36c808u.jpg\"}'}, {'comp': {'compIndustry': '通信设备', 'link': '', 'compStage': '融资未公开', 'compLogo': '60e2fe0bf3df194a3c48adb502u.png', 'compName': '某广州通信设备公司', 'compScale': '100-499人'}, 'job': {'labels': [], 'link': 'https://www.liepin.com/a/49627293.shtml', 'title': '产品经理', 'salary': '20-40k·13薪', 'refreshTime': '20231127172905', 'dq': '广州-天河区', 'jobId': '49627293', 'topJob': False, 'jobKind': '1', 'requireEduLevel': '统招本科', 'advViewFlag': False, 'requireWorkYears': '10年以上', 'dataPromId': 'd_sfrom=search_prime&d_ckId=null&d_curPage=1&d_pageSize=40&d_headId=null&d_posi=28&skId=h2c8pxojavrmo1w785z7ueih2ybfpux8&fkId=h2c8pxojavrmo1w785z7ueih2ybfpux8&ckId=h2c8pxojavrmo1w785z7ueih2ybfpux8&sfrom=search_job_pc&curPage=1&pageSize=40&index=28'}, 'recruiter': {'imId': '26c61809ff683a0d99f9cacb8148e1ff', 'imUserType': '2', 'recruiterName': '郑先生', 'recruiterTitle': '猎头顾问', 'chatted': False, 'recruiterId': '0d911b4971c11978010b5c7f185b0339', 'recruiterPhoto': '5eb3a7764ff090104e431e9907u.jpg'}, 'dataInfo': '%7B%22pageSize%22%3A%2240%22%2C%22curPage%22%3A%221%22%2C%22ckId%22%3A%22h2c8pxojavrmo1w785z7ueih2ybfpux8%22%2C%22scene%22%3A%22input%22%2C%22skId%22%3A%22h2c8pxojavrmo1w785z7ueih2ybfpux8%22%2C%22fkId%22%3A%22h2c8pxojavrmo1w785z7ueih2ybfpux8%22%2C%22jobId%22%3A%2249627293%22%2C%22sfrom%22%3A%22search_job_pc%22%2C%22jobKind%22%3A%221%22%2C%22d_curPage%22%3A%221%22%2C%22d_pageSize%22%3A%2240%22%2C%22as_from%22%3A%22search_prime%22%7D', 'dataParams': '{\"imId\":\"26c61809ff683a0d99f9cacb8148e1ff\",\"imUserType\":\"2\",\"jobId\":\"49627293\",\"recruiterName\":\"郑先生\",\"jobKind\":\"1\",\"userId\":\"0d911b4971c11978010b5c7f185b0339\",\"recruiterPhoto\":\"5eb3a7764ff090104e431e9907u.jpg\"}'}, {'comp': {'compIndustry': '家具/家居', 'link': 'https://www.liepin.com/company/8244054/', 'compId': 8244054, 'compLogo': '5e72de2a37483e328d5dac9407u.jpg', 'compName': '美的集团企业数字平台', 'compScale': '10000人以上'}, 'job': {'labels': ['售后服务'], 'link': 'https://www.liepin.com/job/1959184085.shtml', 'title': '产品经理（海外服务/海外售后服务团队）', 'salary': '25-40k·18薪', 'refreshTime': '20231122160313', 'dq': '广州-番禺区', 'jobId': '59184085', 'topJob': False, 'jobKind': '2', 'requireEduLevel': '本科', 'advViewFlag': False, 'requireWorkYears': '3-5年', 'pcOuterLink': '', 'h5OuterLink': '', 'dataPromId': 'd_sfrom=search_prime&d_ckId=null&d_curPage=1&d_pageSize=40&d_headId=null&d_posi=29&skId=h2c8pxojavrmo1w785z7ueih2ybfpux8&fkId=h2c8pxojavrmo1w785z7ueih2ybfpux8&ckId=h2c8pxojavrmo1w785z7ueih2ybfpux8&sfrom=search_job_pc&curPage=1&pageSize=40&index=29'}, 'recruiter': {'imId': 'd3b5a4baa14108f53eaad1f295204b5b', 'imUserType': '2', 'recruiterName': '黄女士', 'recruiterTitle': '人力资源专员hr', 'chatted': False, 'recruiterId': '3936531b0aaffaa01698fc9aa35683d5', 'recruiterPhoto': '5f8f9863f6d1ab58476f246a08u.jpg'}, 'dataInfo': '%7B%22pageSize%22%3A%2240%22%2C%22curPage%22%3A%221%22%2C%22ckId%22%3A%22h2c8pxojavrmo1w785z7ueih2ybfpux8%22%2C%22scene%22%3A%22input%22%2C%22skId%22%3A%22h2c8pxojavrmo1w785z7ueih2ybfpux8%22%2C%22fkId%22%3A%22h2c8pxojavrmo1w785z7ueih2ybfpux8%22%2C%22jobId%22%3A%2259184085%22%2C%22sfrom%22%3A%22search_job_pc%22%2C%22jobKind%22%3A%222%22%2C%22d_curPage%22%3A%221%22%2C%22d_pageSize%22%3A%2240%22%2C%22as_from%22%3A%22search_prime%22%7D', 'dataParams': '{\"imId\":\"d3b5a4baa14108f53eaad1f295204b5b\",\"imUserType\":\"2\",\"jobId\":\"59184085\",\"recruiterName\":\"黄女士\",\"jobKind\":\"2\",\"userId\":\"3936531b0aaffaa01698fc9aa35683d5\",\"recruiterPhoto\":\"5f8f9863f6d1ab58476f246a08u.jpg\"}'}, {'comp': {'compIndustry': '电子商务', 'link': 'https://www.liepin.com/company/13297665/', 'compId': 13297665, 'compLogo': '634f899ab0584d35822417cb06u.png', 'compName': '文峰荟(广州)企业管理有限公司', 'compScale': '500-999人'}, 'job': {'labels': ['跨境电商', 'ERP系统', '数据分析', '需求分析', 'ERP产品', '供应链产品', 'to B', '数字化转型'], 'link': 'https://www.liepin.com/job/1960169123.shtml', 'title': '供应链产品经理（偏业务）', 'salary': '25-40k', 'refreshTime': '20231216101214', 'dq': '广州-越秀区', 'jobId': '60169123', 'topJob': False, 'jobKind': '2', 'requireEduLevel': '统招本科', 'advViewFlag': False, 'requireWorkYears': '5-10年', 'pcOuterLink': '', 'h5OuterLink': '', 'dataPromId': 'd_sfrom=search_prime&d_ckId=null&d_curPage=1&d_pageSize=40&d_headId=null&d_posi=30&skId=h2c8pxojavrmo1w785z7ueih2ybfpux8&fkId=h2c8pxojavrmo1w785z7ueih2ybfpux8&ckId=h2c8pxojavrmo1w785z7ueih2ybfpux8&sfrom=search_job_pc&curPage=1&pageSize=40&index=30'}, 'recruiter': {'imId': 'ae28de7e05e365ec4905a3841e4dc3ea', 'imUserType': '2', 'recruiterName': '王女士', 'recruiterTitle': '人事专员', 'chatted': False, 'recruiterId': 'e36552938188a1aad74c93eafadb8eb7', 'recruiterPhoto': '5f8f9865ea60860b75384fa508u.jpg'}, 'dataInfo': '%7B%22pageSize%22%3A%2240%22%2C%22curPage%22%3A%221%22%2C%22ckId%22%3A%22h2c8pxojavrmo1w785z7ueih2ybfpux8%22%2C%22scene%22%3A%22input%22%2C%22skId%22%3A%22h2c8pxojavrmo1w785z7ueih2ybfpux8%22%2C%22fkId%22%3A%22h2c8pxojavrmo1w785z7ueih2ybfpux8%22%2C%22jobId%22%3A%2260169123%22%2C%22sfrom%22%3A%22search_job_pc%22%2C%22jobKind%22%3A%222%22%2C%22d_curPage%22%3A%221%22%2C%22d_pageSize%22%3A%2240%22%2C%22as_from%22%3A%22search_prime%22%7D', 'dataParams': '{\"imId\":\"ae28de7e05e365ec4905a3841e4dc3ea\",\"imUserType\":\"2\",\"jobId\":\"60169123\",\"recruiterName\":\"王女士\",\"jobKind\":\"2\",\"userId\":\"e36552938188a1aad74c93eafadb8eb7\",\"recruiterPhoto\":\"5f8f9865ea60860b75384fa508u.jpg\"}'}, {'comp': {'compIndustry': '医疗器械', 'link': 'https://www.liepin.com/company/9876495/', 'compId': 9876495, 'compStage': '科创板上市', 'compLogo': '5e0d63d829d83a675436d93a02u.png', 'compName': '上海睿昂基因科技股份有限公司', 'compScale': '500-999人'}, 'job': {'labels': [], 'link': 'https://www.liepin.com/job/1963377659.shtml', 'title': '区域产品经理（RPM）广州', 'salary': '12-15k', 'refreshTime': '20231204171832', 'dq': '广州-黄埔区', 'jobId': '63377659', 'topJob': False, 'jobKind': '2', 'requireEduLevel': '本科', 'advViewFlag': False, 'requireWorkYears': '3-5年', 'pcOuterLink': '', 'h5OuterLink': '', 'dataPromId': 'd_sfrom=search_prime&d_ckId=null&d_curPage=1&d_pageSize=40&d_headId=null&d_posi=31&skId=h2c8pxojavrmo1w785z7ueih2ybfpux8&fkId=h2c8pxojavrmo1w785z7ueih2ybfpux8&ckId=h2c8pxojavrmo1w785z7ueih2ybfpux8&sfrom=search_job_pc&curPage=1&pageSize=40&index=31'}, 'recruiter': {'imId': '26344a21877813a0bd1f3cfaeaaa47e3', 'imUserType': '2', 'recruiterName': '李女士', 'recruiterTitle': 'HR', 'chatted': False, 'recruiterId': 'e6a28d59522527865087935de770d167', 'recruiterPhoto': '5f8f9865ea60860b75384fa508u.jpg'}, 'dataInfo': '%7B%22pageSize%22%3A%2240%22%2C%22curPage%22%3A%221%22%2C%22ckId%22%3A%22h2c8pxojavrmo1w785z7ueih2ybfpux8%22%2C%22scene%22%3A%22input%22%2C%22skId%22%3A%22h2c8pxojavrmo1w785z7ueih2ybfpux8%22%2C%22fkId%22%3A%22h2c8pxojavrmo1w785z7ueih2ybfpux8%22%2C%22jobId%22%3A%2263377659%22%2C%22sfrom%22%3A%22search_job_pc%22%2C%22jobKind%22%3A%222%22%2C%22d_curPage%22%3A%221%22%2C%22d_pageSize%22%3A%2240%22%2C%22as_from%22%3A%22search_prime%22%7D', 'dataParams': '{\"imId\":\"26344a21877813a0bd1f3cfaeaaa47e3\",\"imUserType\":\"2\",\"jobId\":\"63377659\",\"recruiterName\":\"李女士\",\"jobKind\":\"2\",\"userId\":\"e6a28d59522527865087935de770d167\",\"recruiterPhoto\":\"5f8f9865ea60860b75384fa508u.jpg\"}'}, {'comp': {'compIndustry': '服装/纺织/皮革', 'link': 'https://www.liepin.com/company/9475878/', 'compId': 9475878, 'compLogo': '5bfe979f74719df0ac99445203a.png', 'compName': '欣维发集团', 'compScale': '100-499人'}, 'job': {'labels': ['跨境电商'], 'link': 'https://www.liepin.com/job/1962967155.shtml', 'title': '高级产品经理(A186961)', 'salary': '15-25k', 'refreshTime': '20231116110804', 'dq': '广州-海珠区', 'jobId': '62967155', 'topJob': False, 'jobKind': '2', 'requireEduLevel': '本科', 'advViewFlag': False, 'requireWorkYears': '3-5年', 'pcOuterLink': '', 'h5OuterLink': '', 'dataPromId': 'd_sfrom=search_prime&d_ckId=null&d_curPage=1&d_pageSize=40&d_headId=null&d_posi=32&skId=h2c8pxojavrmo1w785z7ueih2ybfpux8&fkId=h2c8pxojavrmo1w785z7ueih2ybfpux8&ckId=h2c8pxojavrmo1w785z7ueih2ybfpux8&sfrom=search_job_pc&curPage=1&pageSize=40&index=32'}, 'recruiter': {'imId': '7ae9d80651a0764b9f360dab62b59e34', 'imUserType': '2', 'recruiterName': '吴女士', 'recruiterTitle': '招聘专员', 'chatted': False, 'recruiterId': 'ee0cbf613e14e70c473b36fa5e91fd2c', 'recruiterPhoto': '644a8cef7373e3489dbaea6903u.png'}, 'dataInfo': '%7B%22pageSize%22%3A%2240%22%2C%22curPage%22%3A%221%22%2C%22ckId%22%3A%22h2c8pxojavrmo1w785z7ueih2ybfpux8%22%2C%22scene%22%3A%22input%22%2C%22skId%22%3A%22h2c8pxojavrmo1w785z7ueih2ybfpux8%22%2C%22fkId%22%3A%22h2c8pxojavrmo1w785z7ueih2ybfpux8%22%2C%22jobId%22%3A%2262967155%22%2C%22sfrom%22%3A%22search_job_pc%22%2C%22jobKind%22%3A%222%22%2C%22d_curPage%22%3A%221%22%2C%22d_pageSize%22%3A%2240%22%2C%22as_from%22%3A%22search_prime%22%7D', 'dataParams': '{\"imId\":\"7ae9d80651a0764b9f360dab62b59e34\",\"imUserType\":\"2\",\"jobId\":\"62967155\",\"recruiterName\":\"吴女士\",\"jobKind\":\"2\",\"userId\":\"ee0cbf613e14e70c473b36fa5e91fd2c\",\"recruiterPhoto\":\"644a8cef7373e3489dbaea6903u.png\"}'}, {'comp': {'compIndustry': '互联网', 'link': 'https://www.liepin.com/company/8881741/', 'compId': 8881741, 'compStage': '其他', 'compLogo': '5e82c8675a1a60079d5d11ec01u.jpg', 'compName': '广州瀚翼扬电子商务有限公司', 'compScale': '100-499人'}, 'job': {'labels': ['电子商务', '团队管理', '需求分析', '市场调研', '供应链产品', 'to C', '用户研究', '竞品分析', '产品规划', '电商产品'], 'link': 'https://www.liepin.com/job/1962865419.shtml', 'title': '跨境电商产品经理', 'salary': '15-35k', 'refreshTime': '20231215095857', 'dq': '广州-海珠区', 'jobId': '62865419', 'topJob': False, 'jobKind': '2', 'requireEduLevel': '统招本科', 'advViewFlag': False, 'requireWorkYears': '3-5年', 'pcOuterLink': '', 'h5OuterLink': '', 'dataPromId': 'd_sfrom=search_prime&d_ckId=null&d_curPage=1&d_pageSize=40&d_headId=null&d_posi=33&skId=h2c8pxojavrmo1w785z7ueih2ybfpux8&fkId=h2c8pxojavrmo1w785z7ueih2ybfpux8&ckId=h2c8pxojavrmo1w785z7ueih2ybfpux8&sfrom=search_job_pc&curPage=1&pageSize=40&index=33'}, 'recruiter': {'imId': 'dfb1077764efd2dd3417a188cf69ded9', 'imUserType': '2', 'recruiterName': '王女士', 'recruiterTitle': 'HR', 'chatted': False, 'recruiterId': '8de30b22f35b4d72118e1fdce27e610a', 'recruiterPhoto': '5f8f9863f6d1ab58476f246a08u.jpg'}, 'dataInfo': '%7B%22pageSize%22%3A%2240%22%2C%22curPage%22%3A%221%22%2C%22ckId%22%3A%22h2c8pxojavrmo1w785z7ueih2ybfpux8%22%2C%22scene%22%3A%22input%22%2C%22skId%22%3A%22h2c8pxojavrmo1w785z7ueih2ybfpux8%22%2C%22fkId%22%3A%22h2c8pxojavrmo1w785z7ueih2ybfpux8%22%2C%22jobId%22%3A%2262865419%22%2C%22sfrom%22%3A%22search_job_pc%22%2C%22jobKind%22%3A%222%22%2C%22d_curPage%22%3A%221%22%2C%22d_pageSize%22%3A%2240%22%2C%22as_from%22%3A%22search_prime%22%7D', 'dataParams': '{\"imId\":\"dfb1077764efd2dd3417a188cf69ded9\",\"imUserType\":\"2\",\"jobId\":\"62865419\",\"recruiterName\":\"王女士\",\"jobKind\":\"2\",\"userId\":\"8de30b22f35b4d72118e1fdce27e610a\",\"recruiterPhoto\":\"5f8f9863f6d1ab58476f246a08u.jpg\"}'}, {'comp': {'compIndustry': '电子商务', 'link': 'https://www.liepin.com/company/10239197/', 'compId': 10239197, 'compStage': 'B轮', 'compLogo': '60646aae992c4240ea9983b905u.png', 'compName': '爆米科技', 'compScale': '500-999人'}, 'job': {'labels': ['IT互联网', '用户研究'], 'link': 'https://www.liepin.com/job/1962978451.shtml', 'title': '跨境电商产品经理', 'salary': '25-50k', 'refreshTime': '20231116151951', 'dq': '广州-海珠区', 'jobId': '62978451', 'topJob': False, 'jobKind': '2', 'requireEduLevel': '统招本科', 'advViewFlag': False, 'requireWorkYears': '经验不限', 'pcOuterLink': '', 'h5OuterLink': '', 'dataPromId': 'd_sfrom=search_prime&d_ckId=null&d_curPage=1&d_pageSize=40&d_headId=null&d_posi=34&skId=h2c8pxojavrmo1w785z7ueih2ybfpux8&fkId=h2c8pxojavrmo1w785z7ueih2ybfpux8&ckId=h2c8pxojavrmo1w785z7ueih2ybfpux8&sfrom=search_job_pc&curPage=1&pageSize=40&index=34'}, 'recruiter': {'imId': '0e561e9dbb8689bec6c184466926ea15', 'imUserType': '2', 'recruiterName': '刘先生', 'recruiterTitle': '招聘专家', 'chatted': False, 'recruiterId': '04ce121fe8eb9784bc15b7b6a0f92c81', 'recruiterPhoto': '5f8f986c79c7cc70efbf36c808u.jpg'}, 'dataInfo': '%7B%22pageSize%22%3A%2240%22%2C%22curPage%22%3A%221%22%2C%22ckId%22%3A%22h2c8pxojavrmo1w785z7ueih2ybfpux8%22%2C%22scene%22%3A%22input%22%2C%22skId%22%3A%22h2c8pxojavrmo1w785z7ueih2ybfpux8%22%2C%22fkId%22%3A%22h2c8pxojavrmo1w785z7ueih2ybfpux8%22%2C%22jobId%22%3A%2262978451%22%2C%22sfrom%22%3A%22search_job_pc%22%2C%22jobKind%22%3A%222%22%2C%22d_curPage%22%3A%221%22%2C%22d_pageSize%22%3A%2240%22%2C%22as_from%22%3A%22search_prime%22%7D', 'dataParams': '{\"imId\":\"0e561e9dbb8689bec6c184466926ea15\",\"imUserType\":\"2\",\"jobId\":\"62978451\",\"recruiterName\":\"刘先生\",\"jobKind\":\"2\",\"userId\":\"04ce121fe8eb9784bc15b7b6a0f92c81\",\"recruiterPhoto\":\"5f8f986c79c7cc70efbf36c808u.jpg\"}'}, {'comp': {'compIndustry': '通信设备', 'link': 'https://www.liepin.com/company/2248490/', 'compId': 2248490, 'compStage': '创业板上市', 'compLogo': '5bfe986874719df0ac996d6803a.png', 'compName': '广州广哈通信股份有限公司', 'compScale': '100-499人'}, 'job': {'labels': ['售前产品经理', '无线通信方向'], 'link': 'https://www.liepin.com/job/1959250145.shtml', 'title': '产品经理', 'salary': '13-23k·13薪', 'refreshTime': '20230612111159', 'dq': '广州-黄埔区', 'jobId': '59250145', 'topJob': False, 'jobKind': '2', 'requireEduLevel': '本科', 'advViewFlag': False, 'requireWorkYears': '经验不限', 'pcOuterLink': '', 'h5OuterLink': '', 'dataPromId': 'd_sfrom=search_prime&d_ckId=null&d_curPage=1&d_pageSize=40&d_headId=null&d_posi=35&skId=h2c8pxojavrmo1w785z7ueih2ybfpux8&fkId=h2c8pxojavrmo1w785z7ueih2ybfpux8&ckId=h2c8pxojavrmo1w785z7ueih2ybfpux8&sfrom=search_job_pc&curPage=1&pageSize=40&index=35'}, 'recruiter': {'imId': 'afd9d5dff5f4afe3e77954e2c72cabb6', 'imUserType': '2', 'recruiterName': '曾先生', 'recruiterTitle': '人力专员', 'chatted': False, 'recruiterId': 'c78c57c38286688ae7cea863aa156598', 'recruiterPhoto': '5f8f986bdfb13a7dee342f2108u.jpg'}, 'dataInfo': '%7B%22pageSize%22%3A%2240%22%2C%22curPage%22%3A%221%22%2C%22ckId%22%3A%22h2c8pxojavrmo1w785z7ueih2ybfpux8%22%2C%22scene%22%3A%22input%22%2C%22skId%22%3A%22h2c8pxojavrmo1w785z7ueih2ybfpux8%22%2C%22fkId%22%3A%22h2c8pxojavrmo1w785z7ueih2ybfpux8%22%2C%22jobId%22%3A%2259250145%22%2C%22sfrom%22%3A%22search_job_pc%22%2C%22jobKind%22%3A%222%22%2C%22d_curPage%22%3A%221%22%2C%22d_pageSize%22%3A%2240%22%2C%22as_from%22%3A%22search_prime%22%7D', 'dataParams': '{\"imId\":\"afd9d5dff5f4afe3e77954e2c72cabb6\",\"imUserType\":\"2\",\"jobId\":\"59250145\",\"recruiterName\":\"曾先生\",\"jobKind\":\"2\",\"userId\":\"c78c57c38286688ae7cea863aa156598\",\"recruiterPhoto\":\"5f8f986bdfb13a7dee342f2108u.jpg\"}'}, {'comp': {'compIndustry': '互联网', 'link': 'https://www.liepin.com/company/13304319/', 'compId': 13304319, 'compLogo': '630ddf4f857bcf241aa958d806u.png', 'compName': '氢氧元素', 'compScale': '50-99人'}, 'job': {'labels': ['社交产品', '海外产品', '移动端产品', '产品规划', '竞品分析', '需求分析', '用户研究', '市场调研', '产品设计', '原型设计'], 'link': 'https://www.liepin.com/job/1952258307.shtml', 'title': '海外社交产品经理（APP）', 'salary': '20-35k', 'refreshTime': '20231129180749', 'dq': '广州-天河区', 'jobId': '52258307', 'topJob': False, 'jobKind': '2', 'requireEduLevel': '本科', 'advViewFlag': False, 'requireWorkYears': '3-5年', 'pcOuterLink': '', 'h5OuterLink': '', 'dataPromId': 'd_sfrom=search_prime&d_ckId=null&d_curPage=1&d_pageSize=40&d_headId=null&d_posi=36&skId=h2c8pxojavrmo1w785z7ueih2ybfpux8&fkId=h2c8pxojavrmo1w785z7ueih2ybfpux8&ckId=h2c8pxojavrmo1w785z7ueih2ybfpux8&sfrom=search_job_pc&curPage=1&pageSize=40&index=36'}, 'recruiter': {'imId': '6e983622f86339ff6172c091f854d35c', 'imUserType': '2', 'recruiterName': '刘女士', 'recruiterTitle': '', 'chatted': False, 'recruiterId': 'a643bf1613e7231cd177ad61f55781ab', 'recruiterPhoto': '5f8f9863f6d1ab58476f246a08u.jpg'}, 'dataInfo': '%7B%22pageSize%22%3A%2240%22%2C%22curPage%22%3A%221%22%2C%22ckId%22%3A%22h2c8pxojavrmo1w785z7ueih2ybfpux8%22%2C%22scene%22%3A%22input%22%2C%22skId%22%3A%22h2c8pxojavrmo1w785z7ueih2ybfpux8%22%2C%22fkId%22%3A%22h2c8pxojavrmo1w785z7ueih2ybfpux8%22%2C%22jobId%22%3A%2252258307%22%2C%22sfrom%22%3A%22search_job_pc%22%2C%22jobKind%22%3A%222%22%2C%22d_curPage%22%3A%221%22%2C%22d_pageSize%22%3A%2240%22%2C%22as_from%22%3A%22search_prime%22%7D', 'dataParams': '{\"imId\":\"6e983622f86339ff6172c091f854d35c\",\"imUserType\":\"2\",\"jobId\":\"52258307\",\"recruiterName\":\"刘女士\",\"jobKind\":\"2\",\"userId\":\"a643bf1613e7231cd177ad61f55781ab\",\"recruiterPhoto\":\"5f8f9863f6d1ab58476f246a08u.jpg\"}'}, {'comp': {'compIndustry': '工程施工', 'link': '', 'compStage': '不需要融资', 'compLogo': '60e2fe0bf3df194a3c48adb502u.png', 'compName': '某知名公司', 'compScale': '100-499人'}, 'job': {'labels': [], 'link': 'https://www.liepin.com/a/49462935.shtml', 'title': '金融产品经理', 'salary': '15-30k', 'refreshTime': '20231101102031', 'dq': '广州', 'jobId': '49462935', 'topJob': False, 'jobKind': '1', 'requireEduLevel': '大专', 'advViewFlag': False, 'requireWorkYears': '经验不限', 'dataPromId': 'd_sfrom=search_prime&d_ckId=null&d_curPage=1&d_pageSize=40&d_headId=null&d_posi=37&skId=h2c8pxojavrmo1w785z7ueih2ybfpux8&fkId=h2c8pxojavrmo1w785z7ueih2ybfpux8&ckId=h2c8pxojavrmo1w785z7ueih2ybfpux8&sfrom=search_job_pc&curPage=1&pageSize=40&index=37'}, 'recruiter': {'imId': '40d2b5b20894d05e535fdf4c3133a040', 'imUserType': '2', 'recruiterName': '罗先生', 'recruiterTitle': '猎头顾问', 'chatted': False, 'recruiterId': '28dff4c20b3716cbdea7fee30ea487dc', 'recruiterPhoto': '5f8fa3a9dfb13a7dee343d4808u.png'}, 'dataInfo': '%7B%22pageSize%22%3A%2240%22%2C%22curPage%22%3A%221%22%2C%22ckId%22%3A%22h2c8pxojavrmo1w785z7ueih2ybfpux8%22%2C%22scene%22%3A%22input%22%2C%22skId%22%3A%22h2c8pxojavrmo1w785z7ueih2ybfpux8%22%2C%22fkId%22%3A%22h2c8pxojavrmo1w785z7ueih2ybfpux8%22%2C%22jobId%22%3A%2249462935%22%2C%22sfrom%22%3A%22search_job_pc%22%2C%22jobKind%22%3A%221%22%2C%22d_curPage%22%3A%221%22%2C%22d_pageSize%22%3A%2240%22%2C%22as_from%22%3A%22search_prime%22%7D', 'dataParams': '{\"imId\":\"40d2b5b20894d05e535fdf4c3133a040\",\"imUserType\":\"2\",\"jobId\":\"49462935\",\"recruiterName\":\"罗先生\",\"jobKind\":\"1\",\"userId\":\"28dff4c20b3716cbdea7fee30ea487dc\",\"recruiterPhoto\":\"5f8fa3a9dfb13a7dee343d4808u.png\"}'}, {'comp': {'compIndustry': '专业技术服务', 'link': 'https://www.liepin.com/company/13114971/', 'compId': 13114971, 'compStage': 'A轮', 'compLogo': '61b07937d0458d53c627567e02u.jpg', 'compName': '广州标智未来科学技术有限公司', 'compScale': '50-99人'}, 'job': {'labels': ['化学', '数据库构建', '信息技术', '数据科学'], 'link': 'https://www.liepin.com/job/1960603823.shtml', 'title': '产品经理', 'salary': '25-40k', 'refreshTime': '20231123100009', 'dq': '广州-黄埔区', 'jobId': '60603823', 'topJob': False, 'jobKind': '2', 'requireEduLevel': '本科', 'advViewFlag': False, 'requireWorkYears': '3-5年', 'pcOuterLink': '', 'h5OuterLink': '', 'dataPromId': 'd_sfrom=search_prime&d_ckId=null&d_curPage=1&d_pageSize=40&d_headId=null&d_posi=38&skId=h2c8pxojavrmo1w785z7ueih2ybfpux8&fkId=h2c8pxojavrmo1w785z7ueih2ybfpux8&ckId=h2c8pxojavrmo1w785z7ueih2ybfpux8&sfrom=search_job_pc&curPage=1&pageSize=40&index=38'}, 'recruiter': {'imId': '313911bdd962ced225f5fb4be962b746', 'imUserType': '2', 'recruiterName': '李女士', 'recruiterTitle': '招聘专员', 'chatted': False, 'recruiterId': 'a6ade6ce11bc228792212a6d81b20d3c', 'recruiterPhoto': '5f8f98648dbe6273dcf8515508u.jpg'}, 'dataInfo': '%7B%22pageSize%22%3A%2240%22%2C%22curPage%22%3A%221%22%2C%22ckId%22%3A%22h2c8pxojavrmo1w785z7ueih2ybfpux8%22%2C%22scene%22%3A%22input%22%2C%22skId%22%3A%22h2c8pxojavrmo1w785z7ueih2ybfpux8%22%2C%22fkId%22%3A%22h2c8pxojavrmo1w785z7ueih2ybfpux8%22%2C%22jobId%22%3A%2260603823%22%2C%22sfrom%22%3A%22search_job_pc%22%2C%22jobKind%22%3A%222%22%2C%22d_curPage%22%3A%221%22%2C%22d_pageSize%22%3A%2240%22%2C%22as_from%22%3A%22search_prime%22%7D', 'dataParams': '{\"imId\":\"313911bdd962ced225f5fb4be962b746\",\"imUserType\":\"2\",\"jobId\":\"60603823\",\"recruiterName\":\"李女士\",\"jobKind\":\"2\",\"userId\":\"a6ade6ce11bc228792212a6d81b20d3c\",\"recruiterPhoto\":\"5f8f98648dbe6273dcf8515508u.jpg\"}'}, {'comp': {'compIndustry': '智能硬件', 'link': 'https://www.liepin.com/company/7940545/', 'compId': 7940545, 'compStage': '新三板上市', 'compLogo': '5bfe949774719dc6ed73f3b003a.png', 'compName': '博冠BOSMA', 'compScale': '100-499人'}, 'job': {'labels': ['产品经理 相机 ', '摄像机'], 'link': 'https://www.liepin.com/job/1959622393.shtml', 'title': '产品经理', 'salary': '20-30k', 'refreshTime': '20231215132853', 'dq': '广州-黄埔区', 'jobId': '59622393', 'topJob': False, 'jobKind': '2', 'requireEduLevel': '本科', 'advViewFlag': False, 'requireWorkYears': '5-10年', 'pcOuterLink': '', 'h5OuterLink': '', 'dataPromId': 'd_sfrom=search_prime&d_ckId=null&d_curPage=1&d_pageSize=40&d_headId=null&d_posi=39&skId=h2c8pxojavrmo1w785z7ueih2ybfpux8&fkId=h2c8pxojavrmo1w785z7ueih2ybfpux8&ckId=h2c8pxojavrmo1w785z7ueih2ybfpux8&sfrom=search_job_pc&curPage=1&pageSize=40&index=39'}, 'recruiter': {'imId': '334c973fdaf745fa351ff05530f680dd', 'imUserType': '2', 'recruiterName': '刘女士', 'recruiterTitle': 'HR', 'chatted': False, 'recruiterId': '3b9b056b2ca90b0977476caed2a637e4', 'recruiterPhoto': '5f8f9866dfb13a7dee342f1808u.jpg'}, 'dataInfo': '%7B%22pageSize%22%3A%2240%22%2C%22curPage%22%3A%221%22%2C%22ckId%22%3A%22h2c8pxojavrmo1w785z7ueih2ybfpux8%22%2C%22scene%22%3A%22input%22%2C%22skId%22%3A%22h2c8pxojavrmo1w785z7ueih2ybfpux8%22%2C%22fkId%22%3A%22h2c8pxojavrmo1w785z7ueih2ybfpux8%22%2C%22jobId%22%3A%2259622393%22%2C%22sfrom%22%3A%22search_job_pc%22%2C%22jobKind%22%3A%222%22%2C%22d_curPage%22%3A%221%22%2C%22d_pageSize%22%3A%2240%22%2C%22as_from%22%3A%22search_prime%22%7D', 'dataParams': '{\"imId\":\"334c973fdaf745fa351ff05530f680dd\",\"imUserType\":\"2\",\"jobId\":\"59622393\",\"recruiterName\":\"刘女士\",\"jobKind\":\"2\",\"userId\":\"3b9b056b2ca90b0977476caed2a637e4\",\"recruiterPhoto\":\"5f8f9866dfb13a7dee342f1808u.jpg\"}'}], 'jobSubscribeInfo': {'keyword': '产品经理', 'dqName': '广州', 'dqCode': '050020', 'qrUrl': 'https://mp.weixin.qq.com/cgi-bin/showqrcode?ticket=gQG_7zwAAAAAAAAAAS5odHRwOi8vd2VpeGluLnFxLmNvbS9xLzAyYnZEVDBORm9jdWoxR0Q2MWhCY0MAAgQnTHhlAwSAOgkA', 'id': '5aa9ec60fa1f0e55c8ca3053b1f7e0bd'}, 'compList': []}, 'passThroughData': {'ckId': 'h2c8pxojavrmo1w785z7ueih2ybfpux8', 'scene': 'input', 'skId': 'h2c8pxojavrmo1w785z7ueih2ybfpux8', 'fkId': 'h2c8pxojavrmo1w785z7ueih2ybfpux8', 'sfrom': 'search_job_pc'}, 'pagination': {'totalPage': 10, 'pageSize': 40, 'currentPage': 1, 'totalCounts': 801, 'hasNext': False}}}\n"
     ]
    }
   ],
   "source": [
    "import pandas as pd\n",
    "import requests\n",
    "response_df = []\n",
    "for i in range(2): # 需要判断页面的数据有多少页\n",
    "    payload['data']['mainSearchPcConditionForm']['currentPage']=i\n",
    "    # send a POST request with headers\n",
    "    r = requests.post(url, data=json.dumps(payload), headers=headers)\n",
    "\n",
    "    # extract the JSON data from the response\n",
    "    response_data = r.json()\n",
    "    print(response_data)\n",
    "    df = pd.json_normalize(response_data['data']['data']['jobCardList'])\n",
    "    response_df.append(df)"
   ]
  },
  {
   "cell_type": "markdown",
   "id": "abf39634",
   "metadata": {},
   "source": [
    "## 数据整理成为表格\n",
    "> 1. pandas 中的concat方法"
   ]
  },
  {
   "cell_type": "code",
   "execution_count": 7,
   "id": "481b39e9",
   "metadata": {
    "scrolled": true
   },
   "outputs": [
    {
     "data": {
      "text/plain": "                                             dataInfo  \\\n0   %7B%22jobKind%22%3A%222%22%2C%22sfrom%22%3A%22...   \n1   %7B%22jobKind%22%3A%222%22%2C%22sfrom%22%3A%22...   \n2   %7B%22jobKind%22%3A%222%22%2C%22sfrom%22%3A%22...   \n3   %7B%22jobKind%22%3A%221%22%2C%22sfrom%22%3A%22...   \n4   %7B%22jobKind%22%3A%221%22%2C%22sfrom%22%3A%22...   \n..                                                ...   \n35  %7B%22pageSize%22%3A%2240%22%2C%22curPage%22%3...   \n36  %7B%22pageSize%22%3A%2240%22%2C%22curPage%22%3...   \n37  %7B%22pageSize%22%3A%2240%22%2C%22curPage%22%3...   \n38  %7B%22pageSize%22%3A%2240%22%2C%22curPage%22%3...   \n39  %7B%22pageSize%22%3A%2240%22%2C%22curPage%22%3...   \n\n                                           dataParams  \\\n0   {\"jobKind\":\"2\",\"userId\":\"cc88b0c4e1a42225fac8d...   \n1   {\"jobKind\":\"2\",\"userId\":\"14799e1bef289c70aa9b5...   \n2   {\"jobKind\":\"2\",\"userId\":\"14799e1bef289c70aa9b5...   \n3   {\"jobKind\":\"1\",\"userId\":\"8c8180877842a91f8f5f6...   \n4   {\"jobKind\":\"1\",\"userId\":\"7ebfdfd05c30c3a937ba5...   \n..                                                ...   \n35  {\"imId\":\"afd9d5dff5f4afe3e77954e2c72cabb6\",\"im...   \n36  {\"imId\":\"6e983622f86339ff6172c091f854d35c\",\"im...   \n37  {\"imId\":\"40d2b5b20894d05e535fdf4c3133a040\",\"im...   \n38  {\"imId\":\"313911bdd962ced225f5fb4be962b746\",\"im...   \n39  {\"imId\":\"334c973fdaf745fa351ff05530f680dd\",\"im...   \n\n                                   comp.link  comp.compId comp.compScale  \\\n0   https://www.liepin.com/company/10122365/   10122365.0       100-499人   \n1    https://www.liepin.com/company/8112968/    8112968.0         50-99人   \n2    https://www.liepin.com/company/8112968/    8112968.0         50-99人   \n3                                                     NaN         50-99人   \n4                                                     NaN       100-499人   \n..                                       ...          ...            ...   \n35   https://www.liepin.com/company/2248490/    2248490.0       100-499人   \n36  https://www.liepin.com/company/13304319/   13304319.0         50-99人   \n37                                                    NaN       100-499人   \n38  https://www.liepin.com/company/13114971/   13114971.0         50-99人   \n39   https://www.liepin.com/company/7940545/    7940545.0       100-499人   \n\n   comp.compStage                    comp.compLogo     comp.compName  \\\n0           融资未公开  5d2eede1dde7f0565c180dd001u.jpg  宏脉信息技术(广州)股份有限公司   \n1             NaN  6274ee6d04a5ff469b10880402u.png              仙婷集团   \n2             NaN  6274ee6d04a5ff469b10880402u.png              仙婷集团   \n3           融资未公开  60e2fe0bf3df194a3c48adb502u.png        某广州贸易进出口公司   \n4           融资未公开  60e2fe0bf3df194a3c48adb502u.png         某广州IT服务公司   \n..            ...                              ...               ...   \n35          创业板上市  5bfe986874719df0ac996d6803a.png      广州广哈通信股份有限公司   \n36            NaN  630ddf4f857bcf241aa958d806u.png              氢氧元素   \n37          不需要融资  60e2fe0bf3df194a3c48adb502u.png             某知名公司   \n38             A轮  61b07937d0458d53c627567e02u.jpg    广州标智未来科学技术有限公司   \n39          新三板上市  5bfe949774719dc6ed73f3b003a.png           博冠BOSMA   \n\n   comp.compIndustry                                         job.labels  ...  \\\n0              计算机软件  [数据产品, 工具产品, CRM系统, to B, 产品规划, 产品优化, 产品设计, 用户...  ...   \n1             贸易/进出口  [英语, 市场推广, 市场拓展, 渠道策划, 市场策划, 市场调研分析, 乙方公司背景, t...  ...   \n2             贸易/进出口  [口腔健康, 口腔护理, 产品推广, 方案设计, 产品策划, 研讨会, 技术支持, 英语可作...  ...   \n3             贸易/进出口                                                 []  ...   \n4               IT服务                     [金融产品, 保险行业, 产品规划, 团队管理, 数据分析]  ...   \n..               ...                                                ...  ...   \n35              通信设备                                   [售前产品经理, 无线通信方向]  ...   \n36               互联网  [社交产品, 海外产品, 移动端产品, 产品规划, 竞品分析, 需求分析, 用户研究, 市场...  ...   \n37              工程施工                                                 []  ...   \n38            专业技术服务                            [化学, 数据库构建, 信息技术, 数据科学]  ...   \n39              智能硬件                                    [产品经理 相机 , 摄像机]  ...   \n\n   job.advViewFlag                                     job.dataPromId  \\\n0             True  d_sfrom=search_prime&d_ckId=null&d_curPage=0&d...   \n1            False  d_sfrom=search_prime&d_ckId=null&d_curPage=0&d...   \n2            False  d_sfrom=search_prime&d_ckId=null&d_curPage=0&d...   \n3            False  d_sfrom=search_prime&d_ckId=null&d_curPage=0&d...   \n4            False  d_sfrom=search_prime&d_ckId=null&d_curPage=0&d...   \n..             ...                                                ...   \n35           False  d_sfrom=search_prime&d_ckId=null&d_curPage=1&d...   \n36           False  d_sfrom=search_prime&d_ckId=null&d_curPage=1&d...   \n37           False  d_sfrom=search_prime&d_ckId=null&d_curPage=1&d...   \n38           False  d_sfrom=search_prime&d_ckId=null&d_curPage=1&d...   \n39           False  d_sfrom=search_prime&d_ckId=null&d_curPage=1&d...   \n\n   job.requireEduLevel             recruiter.recruiterId  \\\n0                   大专  cc88b0c4e1a42225fac8dea42743dc5a   \n1                   硕士  14799e1bef289c70aa9b550257de7ea8   \n2                 统招本科  14799e1bef289c70aa9b550257de7ea8   \n3                   本科  8c8180877842a91f8f5f6e759dc9c471   \n4                 统招本科  7ebfdfd05c30c3a937ba5fedca246f3d   \n..                 ...                               ...   \n35                  本科  c78c57c38286688ae7cea863aa156598   \n36                  本科  a643bf1613e7231cd177ad61f55781ab   \n37                  大专  28dff4c20b3716cbdea7fee30ea487dc   \n38                  本科  a6ade6ce11bc228792212a6d81b20d3c   \n39                  本科  3b9b056b2ca90b0977476caed2a637e4   \n\n    recruiter.recruiterName recruiter.recruiterTitle  \\\n0                       蔡女士                     招聘专员   \n1                       吴女士               HR Officer   \n2                       吴女士               HR Officer   \n3                       朱先生                     猎头顾问   \n4                       江女士                     猎头顾问   \n..                      ...                      ...   \n35                      曾先生                     人力专员   \n36                      刘女士                            \n37                      罗先生                     猎头顾问   \n38                      李女士                     招聘专员   \n39                      刘女士                       HR   \n\n                      recruiter.imId recruiter.imUserType recruiter.chatted  \\\n0   d1b6352aea971560f1cfaf888dfec3b6                    2             False   \n1   0ce6f53a162e27cc9427b88c78d2ff1f                    2             False   \n2   0ce6f53a162e27cc9427b88c78d2ff1f                    2             False   \n3   ca233b3cc0d7ec89c62c94f01ec83e9b                    2             False   \n4   6d1de177e686e34ce37b0b202b2adc1c                    2             False   \n..                               ...                  ...               ...   \n35  afd9d5dff5f4afe3e77954e2c72cabb6                    2             False   \n36  6e983622f86339ff6172c091f854d35c                    2             False   \n37  40d2b5b20894d05e535fdf4c3133a040                    2             False   \n38  313911bdd962ced225f5fb4be962b746                    2             False   \n39  334c973fdaf745fa351ff05530f680dd                    2             False   \n\n           recruiter.recruiterPhoto  \n0   5f8f986779c7cc70efbf36c008u.jpg  \n1   5f8f98648dbe6273dcf8515508u.jpg  \n2   5f8f98648dbe6273dcf8515508u.jpg  \n3   5df9da4ecd52473b940aa61d06u.jpg  \n4   5b7ccdab8e5016e5665bac4d04a.jpg  \n..                              ...  \n35  5f8f986bdfb13a7dee342f2108u.jpg  \n36  5f8f9863f6d1ab58476f246a08u.jpg  \n37  5f8fa3a9dfb13a7dee343d4808u.png  \n38  5f8f98648dbe6273dcf8515508u.jpg  \n39  5f8f9866dfb13a7dee342f1808u.jpg  \n\n[80 rows x 31 columns]",
      "text/html": "<div>\n<style scoped>\n    .dataframe tbody tr th:only-of-type {\n        vertical-align: middle;\n    }\n\n    .dataframe tbody tr th {\n        vertical-align: top;\n    }\n\n    .dataframe thead th {\n        text-align: right;\n    }\n</style>\n<table border=\"1\" class=\"dataframe\">\n  <thead>\n    <tr style=\"text-align: right;\">\n      <th></th>\n      <th>dataInfo</th>\n      <th>dataParams</th>\n      <th>comp.link</th>\n      <th>comp.compId</th>\n      <th>comp.compScale</th>\n      <th>comp.compStage</th>\n      <th>comp.compLogo</th>\n      <th>comp.compName</th>\n      <th>comp.compIndustry</th>\n      <th>job.labels</th>\n      <th>...</th>\n      <th>job.advViewFlag</th>\n      <th>job.dataPromId</th>\n      <th>job.requireEduLevel</th>\n      <th>recruiter.recruiterId</th>\n      <th>recruiter.recruiterName</th>\n      <th>recruiter.recruiterTitle</th>\n      <th>recruiter.imId</th>\n      <th>recruiter.imUserType</th>\n      <th>recruiter.chatted</th>\n      <th>recruiter.recruiterPhoto</th>\n    </tr>\n  </thead>\n  <tbody>\n    <tr>\n      <th>0</th>\n      <td>%7B%22jobKind%22%3A%222%22%2C%22sfrom%22%3A%22...</td>\n      <td>{\"jobKind\":\"2\",\"userId\":\"cc88b0c4e1a42225fac8d...</td>\n      <td>https://www.liepin.com/company/10122365/</td>\n      <td>10122365.0</td>\n      <td>100-499人</td>\n      <td>融资未公开</td>\n      <td>5d2eede1dde7f0565c180dd001u.jpg</td>\n      <td>宏脉信息技术(广州)股份有限公司</td>\n      <td>计算机软件</td>\n      <td>[数据产品, 工具产品, CRM系统, to B, 产品规划, 产品优化, 产品设计, 用户...</td>\n      <td>...</td>\n      <td>True</td>\n      <td>d_sfrom=search_prime&amp;d_ckId=null&amp;d_curPage=0&amp;d...</td>\n      <td>大专</td>\n      <td>cc88b0c4e1a42225fac8dea42743dc5a</td>\n      <td>蔡女士</td>\n      <td>招聘专员</td>\n      <td>d1b6352aea971560f1cfaf888dfec3b6</td>\n      <td>2</td>\n      <td>False</td>\n      <td>5f8f986779c7cc70efbf36c008u.jpg</td>\n    </tr>\n    <tr>\n      <th>1</th>\n      <td>%7B%22jobKind%22%3A%222%22%2C%22sfrom%22%3A%22...</td>\n      <td>{\"jobKind\":\"2\",\"userId\":\"14799e1bef289c70aa9b5...</td>\n      <td>https://www.liepin.com/company/8112968/</td>\n      <td>8112968.0</td>\n      <td>50-99人</td>\n      <td>NaN</td>\n      <td>6274ee6d04a5ff469b10880402u.png</td>\n      <td>仙婷集团</td>\n      <td>贸易/进出口</td>\n      <td>[英语, 市场推广, 市场拓展, 渠道策划, 市场策划, 市场调研分析, 乙方公司背景, t...</td>\n      <td>...</td>\n      <td>False</td>\n      <td>d_sfrom=search_prime&amp;d_ckId=null&amp;d_curPage=0&amp;d...</td>\n      <td>硕士</td>\n      <td>14799e1bef289c70aa9b550257de7ea8</td>\n      <td>吴女士</td>\n      <td>HR Officer</td>\n      <td>0ce6f53a162e27cc9427b88c78d2ff1f</td>\n      <td>2</td>\n      <td>False</td>\n      <td>5f8f98648dbe6273dcf8515508u.jpg</td>\n    </tr>\n    <tr>\n      <th>2</th>\n      <td>%7B%22jobKind%22%3A%222%22%2C%22sfrom%22%3A%22...</td>\n      <td>{\"jobKind\":\"2\",\"userId\":\"14799e1bef289c70aa9b5...</td>\n      <td>https://www.liepin.com/company/8112968/</td>\n      <td>8112968.0</td>\n      <td>50-99人</td>\n      <td>NaN</td>\n      <td>6274ee6d04a5ff469b10880402u.png</td>\n      <td>仙婷集团</td>\n      <td>贸易/进出口</td>\n      <td>[口腔健康, 口腔护理, 产品推广, 方案设计, 产品策划, 研讨会, 技术支持, 英语可作...</td>\n      <td>...</td>\n      <td>False</td>\n      <td>d_sfrom=search_prime&amp;d_ckId=null&amp;d_curPage=0&amp;d...</td>\n      <td>统招本科</td>\n      <td>14799e1bef289c70aa9b550257de7ea8</td>\n      <td>吴女士</td>\n      <td>HR Officer</td>\n      <td>0ce6f53a162e27cc9427b88c78d2ff1f</td>\n      <td>2</td>\n      <td>False</td>\n      <td>5f8f98648dbe6273dcf8515508u.jpg</td>\n    </tr>\n    <tr>\n      <th>3</th>\n      <td>%7B%22jobKind%22%3A%221%22%2C%22sfrom%22%3A%22...</td>\n      <td>{\"jobKind\":\"1\",\"userId\":\"8c8180877842a91f8f5f6...</td>\n      <td></td>\n      <td>NaN</td>\n      <td>50-99人</td>\n      <td>融资未公开</td>\n      <td>60e2fe0bf3df194a3c48adb502u.png</td>\n      <td>某广州贸易进出口公司</td>\n      <td>贸易/进出口</td>\n      <td>[]</td>\n      <td>...</td>\n      <td>False</td>\n      <td>d_sfrom=search_prime&amp;d_ckId=null&amp;d_curPage=0&amp;d...</td>\n      <td>本科</td>\n      <td>8c8180877842a91f8f5f6e759dc9c471</td>\n      <td>朱先生</td>\n      <td>猎头顾问</td>\n      <td>ca233b3cc0d7ec89c62c94f01ec83e9b</td>\n      <td>2</td>\n      <td>False</td>\n      <td>5df9da4ecd52473b940aa61d06u.jpg</td>\n    </tr>\n    <tr>\n      <th>4</th>\n      <td>%7B%22jobKind%22%3A%221%22%2C%22sfrom%22%3A%22...</td>\n      <td>{\"jobKind\":\"1\",\"userId\":\"7ebfdfd05c30c3a937ba5...</td>\n      <td></td>\n      <td>NaN</td>\n      <td>100-499人</td>\n      <td>融资未公开</td>\n      <td>60e2fe0bf3df194a3c48adb502u.png</td>\n      <td>某广州IT服务公司</td>\n      <td>IT服务</td>\n      <td>[金融产品, 保险行业, 产品规划, 团队管理, 数据分析]</td>\n      <td>...</td>\n      <td>False</td>\n      <td>d_sfrom=search_prime&amp;d_ckId=null&amp;d_curPage=0&amp;d...</td>\n      <td>统招本科</td>\n      <td>7ebfdfd05c30c3a937ba5fedca246f3d</td>\n      <td>江女士</td>\n      <td>猎头顾问</td>\n      <td>6d1de177e686e34ce37b0b202b2adc1c</td>\n      <td>2</td>\n      <td>False</td>\n      <td>5b7ccdab8e5016e5665bac4d04a.jpg</td>\n    </tr>\n    <tr>\n      <th>...</th>\n      <td>...</td>\n      <td>...</td>\n      <td>...</td>\n      <td>...</td>\n      <td>...</td>\n      <td>...</td>\n      <td>...</td>\n      <td>...</td>\n      <td>...</td>\n      <td>...</td>\n      <td>...</td>\n      <td>...</td>\n      <td>...</td>\n      <td>...</td>\n      <td>...</td>\n      <td>...</td>\n      <td>...</td>\n      <td>...</td>\n      <td>...</td>\n      <td>...</td>\n      <td>...</td>\n    </tr>\n    <tr>\n      <th>35</th>\n      <td>%7B%22pageSize%22%3A%2240%22%2C%22curPage%22%3...</td>\n      <td>{\"imId\":\"afd9d5dff5f4afe3e77954e2c72cabb6\",\"im...</td>\n      <td>https://www.liepin.com/company/2248490/</td>\n      <td>2248490.0</td>\n      <td>100-499人</td>\n      <td>创业板上市</td>\n      <td>5bfe986874719df0ac996d6803a.png</td>\n      <td>广州广哈通信股份有限公司</td>\n      <td>通信设备</td>\n      <td>[售前产品经理, 无线通信方向]</td>\n      <td>...</td>\n      <td>False</td>\n      <td>d_sfrom=search_prime&amp;d_ckId=null&amp;d_curPage=1&amp;d...</td>\n      <td>本科</td>\n      <td>c78c57c38286688ae7cea863aa156598</td>\n      <td>曾先生</td>\n      <td>人力专员</td>\n      <td>afd9d5dff5f4afe3e77954e2c72cabb6</td>\n      <td>2</td>\n      <td>False</td>\n      <td>5f8f986bdfb13a7dee342f2108u.jpg</td>\n    </tr>\n    <tr>\n      <th>36</th>\n      <td>%7B%22pageSize%22%3A%2240%22%2C%22curPage%22%3...</td>\n      <td>{\"imId\":\"6e983622f86339ff6172c091f854d35c\",\"im...</td>\n      <td>https://www.liepin.com/company/13304319/</td>\n      <td>13304319.0</td>\n      <td>50-99人</td>\n      <td>NaN</td>\n      <td>630ddf4f857bcf241aa958d806u.png</td>\n      <td>氢氧元素</td>\n      <td>互联网</td>\n      <td>[社交产品, 海外产品, 移动端产品, 产品规划, 竞品分析, 需求分析, 用户研究, 市场...</td>\n      <td>...</td>\n      <td>False</td>\n      <td>d_sfrom=search_prime&amp;d_ckId=null&amp;d_curPage=1&amp;d...</td>\n      <td>本科</td>\n      <td>a643bf1613e7231cd177ad61f55781ab</td>\n      <td>刘女士</td>\n      <td></td>\n      <td>6e983622f86339ff6172c091f854d35c</td>\n      <td>2</td>\n      <td>False</td>\n      <td>5f8f9863f6d1ab58476f246a08u.jpg</td>\n    </tr>\n    <tr>\n      <th>37</th>\n      <td>%7B%22pageSize%22%3A%2240%22%2C%22curPage%22%3...</td>\n      <td>{\"imId\":\"40d2b5b20894d05e535fdf4c3133a040\",\"im...</td>\n      <td></td>\n      <td>NaN</td>\n      <td>100-499人</td>\n      <td>不需要融资</td>\n      <td>60e2fe0bf3df194a3c48adb502u.png</td>\n      <td>某知名公司</td>\n      <td>工程施工</td>\n      <td>[]</td>\n      <td>...</td>\n      <td>False</td>\n      <td>d_sfrom=search_prime&amp;d_ckId=null&amp;d_curPage=1&amp;d...</td>\n      <td>大专</td>\n      <td>28dff4c20b3716cbdea7fee30ea487dc</td>\n      <td>罗先生</td>\n      <td>猎头顾问</td>\n      <td>40d2b5b20894d05e535fdf4c3133a040</td>\n      <td>2</td>\n      <td>False</td>\n      <td>5f8fa3a9dfb13a7dee343d4808u.png</td>\n    </tr>\n    <tr>\n      <th>38</th>\n      <td>%7B%22pageSize%22%3A%2240%22%2C%22curPage%22%3...</td>\n      <td>{\"imId\":\"313911bdd962ced225f5fb4be962b746\",\"im...</td>\n      <td>https://www.liepin.com/company/13114971/</td>\n      <td>13114971.0</td>\n      <td>50-99人</td>\n      <td>A轮</td>\n      <td>61b07937d0458d53c627567e02u.jpg</td>\n      <td>广州标智未来科学技术有限公司</td>\n      <td>专业技术服务</td>\n      <td>[化学, 数据库构建, 信息技术, 数据科学]</td>\n      <td>...</td>\n      <td>False</td>\n      <td>d_sfrom=search_prime&amp;d_ckId=null&amp;d_curPage=1&amp;d...</td>\n      <td>本科</td>\n      <td>a6ade6ce11bc228792212a6d81b20d3c</td>\n      <td>李女士</td>\n      <td>招聘专员</td>\n      <td>313911bdd962ced225f5fb4be962b746</td>\n      <td>2</td>\n      <td>False</td>\n      <td>5f8f98648dbe6273dcf8515508u.jpg</td>\n    </tr>\n    <tr>\n      <th>39</th>\n      <td>%7B%22pageSize%22%3A%2240%22%2C%22curPage%22%3...</td>\n      <td>{\"imId\":\"334c973fdaf745fa351ff05530f680dd\",\"im...</td>\n      <td>https://www.liepin.com/company/7940545/</td>\n      <td>7940545.0</td>\n      <td>100-499人</td>\n      <td>新三板上市</td>\n      <td>5bfe949774719dc6ed73f3b003a.png</td>\n      <td>博冠BOSMA</td>\n      <td>智能硬件</td>\n      <td>[产品经理 相机 , 摄像机]</td>\n      <td>...</td>\n      <td>False</td>\n      <td>d_sfrom=search_prime&amp;d_ckId=null&amp;d_curPage=1&amp;d...</td>\n      <td>本科</td>\n      <td>3b9b056b2ca90b0977476caed2a637e4</td>\n      <td>刘女士</td>\n      <td>HR</td>\n      <td>334c973fdaf745fa351ff05530f680dd</td>\n      <td>2</td>\n      <td>False</td>\n      <td>5f8f9866dfb13a7dee342f1808u.jpg</td>\n    </tr>\n  </tbody>\n</table>\n<p>80 rows × 31 columns</p>\n</div>"
     },
     "execution_count": 7,
     "metadata": {},
     "output_type": "execute_result"
    }
   ],
   "source": [
    "df = pd.concat(response_df)\n",
    "df"
   ]
  },
  {
   "cell_type": "code",
   "execution_count": 8,
   "id": "c2ac6009",
   "metadata": {},
   "outputs": [
    {
     "data": {
      "text/plain": "'产品经理'"
     },
     "execution_count": 8,
     "metadata": {},
     "output_type": "execute_result"
    }
   ],
   "source": [
    "key = payload['data']['mainSearchPcConditionForm']['key']\n",
    "key"
   ]
  },
  {
   "cell_type": "markdown",
   "id": "70fc6de3",
   "metadata": {},
   "source": [
    "## 数据存储"
   ]
  },
  {
   "cell_type": "code",
   "execution_count": 9,
   "id": "2e032016",
   "metadata": {},
   "outputs": [],
   "source": [
    "import time"
   ]
  },
  {
   "cell_type": "code",
   "execution_count": 10,
   "id": "0affdb43",
   "metadata": {},
   "outputs": [
    {
     "data": {
      "text/plain": "time.struct_time(tm_year=2023, tm_mon=12, tm_mday=17, tm_hour=20, tm_min=26, tm_sec=8, tm_wday=6, tm_yday=351, tm_isdst=0)"
     },
     "execution_count": 10,
     "metadata": {},
     "output_type": "execute_result"
    }
   ],
   "source": [
    "time.localtime()"
   ]
  },
  {
   "cell_type": "code",
   "execution_count": 11,
   "id": "9badfd3c",
   "metadata": {},
   "outputs": [
    {
     "data": {
      "text/plain": "'2023-12-17_20-26'"
     },
     "execution_count": 11,
     "metadata": {},
     "output_type": "execute_result"
    }
   ],
   "source": [
    "output_time = str(time.localtime().tm_year)+'-'\\\n",
    "              +str(time.localtime().tm_mon)+'-'\\\n",
    "             +str(time.localtime().tm_mday)+'_'\\\n",
    "             +str(time.localtime().tm_hour)+'-' \\\n",
    "             +str(time.localtime().tm_min)\n",
    "output_time "
   ]
  },
  {
   "cell_type": "code",
   "execution_count": 12,
   "id": "1d2de632",
   "metadata": {},
   "outputs": [],
   "source": [
    "# 按照职位名称和时间导出文件\n",
    "df.to_excel( key +'_liepin_'+output_time+'.xlsx')"
   ]
  },
  {
   "cell_type": "markdown",
   "id": "f6511a95",
   "metadata": {},
   "source": [
    "# 数据分析\n",
    "\n",
    "> 1. Pandas/Numpy\n",
    "> 2. Pyecharts(bokeh、matplotlab、seaborn、echarts、Tebleau)/更考虑用户的体验"
   ]
  },
  {
   "cell_type": "code",
   "execution_count": 13,
   "id": "ae96f73c",
   "metadata": {},
   "outputs": [],
   "source": [
    "import pandas as pd"
   ]
  },
  {
   "cell_type": "code",
   "execution_count": 14,
   "id": "af2682c2",
   "metadata": {
    "scrolled": true
   },
   "outputs": [
    {
     "data": {
      "text/plain": "    Unnamed: 0                                           dataInfo  \\\n0            0  %7B%22jobKind%22%3A%222%22%2C%22sfrom%22%3A%22...   \n1            1  %7B%22jobKind%22%3A%222%22%2C%22sfrom%22%3A%22...   \n2            2  %7B%22jobKind%22%3A%222%22%2C%22sfrom%22%3A%22...   \n3            3  %7B%22jobKind%22%3A%221%22%2C%22sfrom%22%3A%22...   \n4            4  %7B%22jobKind%22%3A%221%22%2C%22sfrom%22%3A%22...   \n..         ...                                                ...   \n75          35  %7B%22pageSize%22%3A%2240%22%2C%22curPage%22%3...   \n76          36  %7B%22pageSize%22%3A%2240%22%2C%22curPage%22%3...   \n77          37  %7B%22pageSize%22%3A%2240%22%2C%22curPage%22%3...   \n78          38  %7B%22pageSize%22%3A%2240%22%2C%22curPage%22%3...   \n79          39  %7B%22pageSize%22%3A%2240%22%2C%22curPage%22%3...   \n\n                                           dataParams  \\\n0   {\"jobKind\":\"2\",\"userId\":\"cc88b0c4e1a42225fac8d...   \n1   {\"jobKind\":\"2\",\"userId\":\"14799e1bef289c70aa9b5...   \n2   {\"jobKind\":\"2\",\"userId\":\"14799e1bef289c70aa9b5...   \n3   {\"jobKind\":\"1\",\"userId\":\"8c8180877842a91f8f5f6...   \n4   {\"jobKind\":\"1\",\"userId\":\"7ebfdfd05c30c3a937ba5...   \n..                                                ...   \n75  {\"imId\":\"afd9d5dff5f4afe3e77954e2c72cabb6\",\"im...   \n76  {\"imId\":\"6e983622f86339ff6172c091f854d35c\",\"im...   \n77  {\"imId\":\"40d2b5b20894d05e535fdf4c3133a040\",\"im...   \n78  {\"imId\":\"313911bdd962ced225f5fb4be962b746\",\"im...   \n79  {\"imId\":\"334c973fdaf745fa351ff05530f680dd\",\"im...   \n\n                                   comp.link  comp.compId comp.compScale  \\\n0   https://www.liepin.com/company/10122365/   10122365.0       100-499人   \n1    https://www.liepin.com/company/8112968/    8112968.0         50-99人   \n2    https://www.liepin.com/company/8112968/    8112968.0         50-99人   \n3                                        NaN          NaN         50-99人   \n4                                        NaN          NaN       100-499人   \n..                                       ...          ...            ...   \n75   https://www.liepin.com/company/2248490/    2248490.0       100-499人   \n76  https://www.liepin.com/company/13304319/   13304319.0         50-99人   \n77                                       NaN          NaN       100-499人   \n78  https://www.liepin.com/company/13114971/   13114971.0         50-99人   \n79   https://www.liepin.com/company/7940545/    7940545.0       100-499人   \n\n   comp.compStage                    comp.compLogo     comp.compName  \\\n0           融资未公开  5d2eede1dde7f0565c180dd001u.jpg  宏脉信息技术(广州)股份有限公司   \n1             NaN  6274ee6d04a5ff469b10880402u.png              仙婷集团   \n2             NaN  6274ee6d04a5ff469b10880402u.png              仙婷集团   \n3           融资未公开  60e2fe0bf3df194a3c48adb502u.png        某广州贸易进出口公司   \n4           融资未公开  60e2fe0bf3df194a3c48adb502u.png         某广州IT服务公司   \n..            ...                              ...               ...   \n75          创业板上市  5bfe986874719df0ac996d6803a.png      广州广哈通信股份有限公司   \n76            NaN  630ddf4f857bcf241aa958d806u.png              氢氧元素   \n77          不需要融资  60e2fe0bf3df194a3c48adb502u.png             某知名公司   \n78             A轮  61b07937d0458d53c627567e02u.jpg    广州标智未来科学技术有限公司   \n79          新三板上市  5bfe949774719dc6ed73f3b003a.png           博冠BOSMA   \n\n   comp.compIndustry  ... job.advViewFlag  \\\n0              计算机软件  ...            True   \n1             贸易/进出口  ...           False   \n2             贸易/进出口  ...           False   \n3             贸易/进出口  ...           False   \n4               IT服务  ...           False   \n..               ...  ...             ...   \n75              通信设备  ...           False   \n76               互联网  ...           False   \n77              工程施工  ...           False   \n78            专业技术服务  ...           False   \n79              智能硬件  ...           False   \n\n                                       job.dataPromId  job.requireEduLevel  \\\n0   d_sfrom=search_prime&d_ckId=null&d_curPage=0&d...                   大专   \n1   d_sfrom=search_prime&d_ckId=null&d_curPage=0&d...                   硕士   \n2   d_sfrom=search_prime&d_ckId=null&d_curPage=0&d...                 统招本科   \n3   d_sfrom=search_prime&d_ckId=null&d_curPage=0&d...                   本科   \n4   d_sfrom=search_prime&d_ckId=null&d_curPage=0&d...                 统招本科   \n..                                                ...                  ...   \n75  d_sfrom=search_prime&d_ckId=null&d_curPage=1&d...                   本科   \n76  d_sfrom=search_prime&d_ckId=null&d_curPage=1&d...                   本科   \n77  d_sfrom=search_prime&d_ckId=null&d_curPage=1&d...                   大专   \n78  d_sfrom=search_prime&d_ckId=null&d_curPage=1&d...                   本科   \n79  d_sfrom=search_prime&d_ckId=null&d_curPage=1&d...                   本科   \n\n               recruiter.recruiterId recruiter.recruiterName  \\\n0   cc88b0c4e1a42225fac8dea42743dc5a                     蔡女士   \n1   14799e1bef289c70aa9b550257de7ea8                     吴女士   \n2   14799e1bef289c70aa9b550257de7ea8                     吴女士   \n3   8c8180877842a91f8f5f6e759dc9c471                     朱先生   \n4   7ebfdfd05c30c3a937ba5fedca246f3d                     江女士   \n..                               ...                     ...   \n75  c78c57c38286688ae7cea863aa156598                     曾先生   \n76  a643bf1613e7231cd177ad61f55781ab                     刘女士   \n77  28dff4c20b3716cbdea7fee30ea487dc                     罗先生   \n78  a6ade6ce11bc228792212a6d81b20d3c                     李女士   \n79  3b9b056b2ca90b0977476caed2a637e4                     刘女士   \n\n    recruiter.recruiterTitle                    recruiter.imId  \\\n0                       招聘专员  d1b6352aea971560f1cfaf888dfec3b6   \n1                 HR Officer  0ce6f53a162e27cc9427b88c78d2ff1f   \n2                 HR Officer  0ce6f53a162e27cc9427b88c78d2ff1f   \n3                       猎头顾问  ca233b3cc0d7ec89c62c94f01ec83e9b   \n4                       猎头顾问  6d1de177e686e34ce37b0b202b2adc1c   \n..                       ...                               ...   \n75                      人力专员  afd9d5dff5f4afe3e77954e2c72cabb6   \n76                       NaN  6e983622f86339ff6172c091f854d35c   \n77                      猎头顾问  40d2b5b20894d05e535fdf4c3133a040   \n78                      招聘专员  313911bdd962ced225f5fb4be962b746   \n79                        HR  334c973fdaf745fa351ff05530f680dd   \n\n   recruiter.imUserType  recruiter.chatted         recruiter.recruiterPhoto  \n0                     2              False  5f8f986779c7cc70efbf36c008u.jpg  \n1                     2              False  5f8f98648dbe6273dcf8515508u.jpg  \n2                     2              False  5f8f98648dbe6273dcf8515508u.jpg  \n3                     2              False  5df9da4ecd52473b940aa61d06u.jpg  \n4                     2              False  5b7ccdab8e5016e5665bac4d04a.jpg  \n..                  ...                ...                              ...  \n75                    2              False  5f8f986bdfb13a7dee342f2108u.jpg  \n76                    2              False  5f8f9863f6d1ab58476f246a08u.jpg  \n77                    2              False  5f8fa3a9dfb13a7dee343d4808u.png  \n78                    2              False  5f8f98648dbe6273dcf8515508u.jpg  \n79                    2              False  5f8f9866dfb13a7dee342f1808u.jpg  \n\n[80 rows x 32 columns]",
      "text/html": "<div>\n<style scoped>\n    .dataframe tbody tr th:only-of-type {\n        vertical-align: middle;\n    }\n\n    .dataframe tbody tr th {\n        vertical-align: top;\n    }\n\n    .dataframe thead th {\n        text-align: right;\n    }\n</style>\n<table border=\"1\" class=\"dataframe\">\n  <thead>\n    <tr style=\"text-align: right;\">\n      <th></th>\n      <th>Unnamed: 0</th>\n      <th>dataInfo</th>\n      <th>dataParams</th>\n      <th>comp.link</th>\n      <th>comp.compId</th>\n      <th>comp.compScale</th>\n      <th>comp.compStage</th>\n      <th>comp.compLogo</th>\n      <th>comp.compName</th>\n      <th>comp.compIndustry</th>\n      <th>...</th>\n      <th>job.advViewFlag</th>\n      <th>job.dataPromId</th>\n      <th>job.requireEduLevel</th>\n      <th>recruiter.recruiterId</th>\n      <th>recruiter.recruiterName</th>\n      <th>recruiter.recruiterTitle</th>\n      <th>recruiter.imId</th>\n      <th>recruiter.imUserType</th>\n      <th>recruiter.chatted</th>\n      <th>recruiter.recruiterPhoto</th>\n    </tr>\n  </thead>\n  <tbody>\n    <tr>\n      <th>0</th>\n      <td>0</td>\n      <td>%7B%22jobKind%22%3A%222%22%2C%22sfrom%22%3A%22...</td>\n      <td>{\"jobKind\":\"2\",\"userId\":\"cc88b0c4e1a42225fac8d...</td>\n      <td>https://www.liepin.com/company/10122365/</td>\n      <td>10122365.0</td>\n      <td>100-499人</td>\n      <td>融资未公开</td>\n      <td>5d2eede1dde7f0565c180dd001u.jpg</td>\n      <td>宏脉信息技术(广州)股份有限公司</td>\n      <td>计算机软件</td>\n      <td>...</td>\n      <td>True</td>\n      <td>d_sfrom=search_prime&amp;d_ckId=null&amp;d_curPage=0&amp;d...</td>\n      <td>大专</td>\n      <td>cc88b0c4e1a42225fac8dea42743dc5a</td>\n      <td>蔡女士</td>\n      <td>招聘专员</td>\n      <td>d1b6352aea971560f1cfaf888dfec3b6</td>\n      <td>2</td>\n      <td>False</td>\n      <td>5f8f986779c7cc70efbf36c008u.jpg</td>\n    </tr>\n    <tr>\n      <th>1</th>\n      <td>1</td>\n      <td>%7B%22jobKind%22%3A%222%22%2C%22sfrom%22%3A%22...</td>\n      <td>{\"jobKind\":\"2\",\"userId\":\"14799e1bef289c70aa9b5...</td>\n      <td>https://www.liepin.com/company/8112968/</td>\n      <td>8112968.0</td>\n      <td>50-99人</td>\n      <td>NaN</td>\n      <td>6274ee6d04a5ff469b10880402u.png</td>\n      <td>仙婷集团</td>\n      <td>贸易/进出口</td>\n      <td>...</td>\n      <td>False</td>\n      <td>d_sfrom=search_prime&amp;d_ckId=null&amp;d_curPage=0&amp;d...</td>\n      <td>硕士</td>\n      <td>14799e1bef289c70aa9b550257de7ea8</td>\n      <td>吴女士</td>\n      <td>HR Officer</td>\n      <td>0ce6f53a162e27cc9427b88c78d2ff1f</td>\n      <td>2</td>\n      <td>False</td>\n      <td>5f8f98648dbe6273dcf8515508u.jpg</td>\n    </tr>\n    <tr>\n      <th>2</th>\n      <td>2</td>\n      <td>%7B%22jobKind%22%3A%222%22%2C%22sfrom%22%3A%22...</td>\n      <td>{\"jobKind\":\"2\",\"userId\":\"14799e1bef289c70aa9b5...</td>\n      <td>https://www.liepin.com/company/8112968/</td>\n      <td>8112968.0</td>\n      <td>50-99人</td>\n      <td>NaN</td>\n      <td>6274ee6d04a5ff469b10880402u.png</td>\n      <td>仙婷集团</td>\n      <td>贸易/进出口</td>\n      <td>...</td>\n      <td>False</td>\n      <td>d_sfrom=search_prime&amp;d_ckId=null&amp;d_curPage=0&amp;d...</td>\n      <td>统招本科</td>\n      <td>14799e1bef289c70aa9b550257de7ea8</td>\n      <td>吴女士</td>\n      <td>HR Officer</td>\n      <td>0ce6f53a162e27cc9427b88c78d2ff1f</td>\n      <td>2</td>\n      <td>False</td>\n      <td>5f8f98648dbe6273dcf8515508u.jpg</td>\n    </tr>\n    <tr>\n      <th>3</th>\n      <td>3</td>\n      <td>%7B%22jobKind%22%3A%221%22%2C%22sfrom%22%3A%22...</td>\n      <td>{\"jobKind\":\"1\",\"userId\":\"8c8180877842a91f8f5f6...</td>\n      <td>NaN</td>\n      <td>NaN</td>\n      <td>50-99人</td>\n      <td>融资未公开</td>\n      <td>60e2fe0bf3df194a3c48adb502u.png</td>\n      <td>某广州贸易进出口公司</td>\n      <td>贸易/进出口</td>\n      <td>...</td>\n      <td>False</td>\n      <td>d_sfrom=search_prime&amp;d_ckId=null&amp;d_curPage=0&amp;d...</td>\n      <td>本科</td>\n      <td>8c8180877842a91f8f5f6e759dc9c471</td>\n      <td>朱先生</td>\n      <td>猎头顾问</td>\n      <td>ca233b3cc0d7ec89c62c94f01ec83e9b</td>\n      <td>2</td>\n      <td>False</td>\n      <td>5df9da4ecd52473b940aa61d06u.jpg</td>\n    </tr>\n    <tr>\n      <th>4</th>\n      <td>4</td>\n      <td>%7B%22jobKind%22%3A%221%22%2C%22sfrom%22%3A%22...</td>\n      <td>{\"jobKind\":\"1\",\"userId\":\"7ebfdfd05c30c3a937ba5...</td>\n      <td>NaN</td>\n      <td>NaN</td>\n      <td>100-499人</td>\n      <td>融资未公开</td>\n      <td>60e2fe0bf3df194a3c48adb502u.png</td>\n      <td>某广州IT服务公司</td>\n      <td>IT服务</td>\n      <td>...</td>\n      <td>False</td>\n      <td>d_sfrom=search_prime&amp;d_ckId=null&amp;d_curPage=0&amp;d...</td>\n      <td>统招本科</td>\n      <td>7ebfdfd05c30c3a937ba5fedca246f3d</td>\n      <td>江女士</td>\n      <td>猎头顾问</td>\n      <td>6d1de177e686e34ce37b0b202b2adc1c</td>\n      <td>2</td>\n      <td>False</td>\n      <td>5b7ccdab8e5016e5665bac4d04a.jpg</td>\n    </tr>\n    <tr>\n      <th>...</th>\n      <td>...</td>\n      <td>...</td>\n      <td>...</td>\n      <td>...</td>\n      <td>...</td>\n      <td>...</td>\n      <td>...</td>\n      <td>...</td>\n      <td>...</td>\n      <td>...</td>\n      <td>...</td>\n      <td>...</td>\n      <td>...</td>\n      <td>...</td>\n      <td>...</td>\n      <td>...</td>\n      <td>...</td>\n      <td>...</td>\n      <td>...</td>\n      <td>...</td>\n      <td>...</td>\n    </tr>\n    <tr>\n      <th>75</th>\n      <td>35</td>\n      <td>%7B%22pageSize%22%3A%2240%22%2C%22curPage%22%3...</td>\n      <td>{\"imId\":\"afd9d5dff5f4afe3e77954e2c72cabb6\",\"im...</td>\n      <td>https://www.liepin.com/company/2248490/</td>\n      <td>2248490.0</td>\n      <td>100-499人</td>\n      <td>创业板上市</td>\n      <td>5bfe986874719df0ac996d6803a.png</td>\n      <td>广州广哈通信股份有限公司</td>\n      <td>通信设备</td>\n      <td>...</td>\n      <td>False</td>\n      <td>d_sfrom=search_prime&amp;d_ckId=null&amp;d_curPage=1&amp;d...</td>\n      <td>本科</td>\n      <td>c78c57c38286688ae7cea863aa156598</td>\n      <td>曾先生</td>\n      <td>人力专员</td>\n      <td>afd9d5dff5f4afe3e77954e2c72cabb6</td>\n      <td>2</td>\n      <td>False</td>\n      <td>5f8f986bdfb13a7dee342f2108u.jpg</td>\n    </tr>\n    <tr>\n      <th>76</th>\n      <td>36</td>\n      <td>%7B%22pageSize%22%3A%2240%22%2C%22curPage%22%3...</td>\n      <td>{\"imId\":\"6e983622f86339ff6172c091f854d35c\",\"im...</td>\n      <td>https://www.liepin.com/company/13304319/</td>\n      <td>13304319.0</td>\n      <td>50-99人</td>\n      <td>NaN</td>\n      <td>630ddf4f857bcf241aa958d806u.png</td>\n      <td>氢氧元素</td>\n      <td>互联网</td>\n      <td>...</td>\n      <td>False</td>\n      <td>d_sfrom=search_prime&amp;d_ckId=null&amp;d_curPage=1&amp;d...</td>\n      <td>本科</td>\n      <td>a643bf1613e7231cd177ad61f55781ab</td>\n      <td>刘女士</td>\n      <td>NaN</td>\n      <td>6e983622f86339ff6172c091f854d35c</td>\n      <td>2</td>\n      <td>False</td>\n      <td>5f8f9863f6d1ab58476f246a08u.jpg</td>\n    </tr>\n    <tr>\n      <th>77</th>\n      <td>37</td>\n      <td>%7B%22pageSize%22%3A%2240%22%2C%22curPage%22%3...</td>\n      <td>{\"imId\":\"40d2b5b20894d05e535fdf4c3133a040\",\"im...</td>\n      <td>NaN</td>\n      <td>NaN</td>\n      <td>100-499人</td>\n      <td>不需要融资</td>\n      <td>60e2fe0bf3df194a3c48adb502u.png</td>\n      <td>某知名公司</td>\n      <td>工程施工</td>\n      <td>...</td>\n      <td>False</td>\n      <td>d_sfrom=search_prime&amp;d_ckId=null&amp;d_curPage=1&amp;d...</td>\n      <td>大专</td>\n      <td>28dff4c20b3716cbdea7fee30ea487dc</td>\n      <td>罗先生</td>\n      <td>猎头顾问</td>\n      <td>40d2b5b20894d05e535fdf4c3133a040</td>\n      <td>2</td>\n      <td>False</td>\n      <td>5f8fa3a9dfb13a7dee343d4808u.png</td>\n    </tr>\n    <tr>\n      <th>78</th>\n      <td>38</td>\n      <td>%7B%22pageSize%22%3A%2240%22%2C%22curPage%22%3...</td>\n      <td>{\"imId\":\"313911bdd962ced225f5fb4be962b746\",\"im...</td>\n      <td>https://www.liepin.com/company/13114971/</td>\n      <td>13114971.0</td>\n      <td>50-99人</td>\n      <td>A轮</td>\n      <td>61b07937d0458d53c627567e02u.jpg</td>\n      <td>广州标智未来科学技术有限公司</td>\n      <td>专业技术服务</td>\n      <td>...</td>\n      <td>False</td>\n      <td>d_sfrom=search_prime&amp;d_ckId=null&amp;d_curPage=1&amp;d...</td>\n      <td>本科</td>\n      <td>a6ade6ce11bc228792212a6d81b20d3c</td>\n      <td>李女士</td>\n      <td>招聘专员</td>\n      <td>313911bdd962ced225f5fb4be962b746</td>\n      <td>2</td>\n      <td>False</td>\n      <td>5f8f98648dbe6273dcf8515508u.jpg</td>\n    </tr>\n    <tr>\n      <th>79</th>\n      <td>39</td>\n      <td>%7B%22pageSize%22%3A%2240%22%2C%22curPage%22%3...</td>\n      <td>{\"imId\":\"334c973fdaf745fa351ff05530f680dd\",\"im...</td>\n      <td>https://www.liepin.com/company/7940545/</td>\n      <td>7940545.0</td>\n      <td>100-499人</td>\n      <td>新三板上市</td>\n      <td>5bfe949774719dc6ed73f3b003a.png</td>\n      <td>博冠BOSMA</td>\n      <td>智能硬件</td>\n      <td>...</td>\n      <td>False</td>\n      <td>d_sfrom=search_prime&amp;d_ckId=null&amp;d_curPage=1&amp;d...</td>\n      <td>本科</td>\n      <td>3b9b056b2ca90b0977476caed2a637e4</td>\n      <td>刘女士</td>\n      <td>HR</td>\n      <td>334c973fdaf745fa351ff05530f680dd</td>\n      <td>2</td>\n      <td>False</td>\n      <td>5f8f9866dfb13a7dee342f1808u.jpg</td>\n    </tr>\n  </tbody>\n</table>\n<p>80 rows × 32 columns</p>\n</div>"
     },
     "execution_count": 14,
     "metadata": {},
     "output_type": "execute_result"
    }
   ],
   "source": [
    "df = pd.read_excel(key+'_liepin_'+output_time+'.xlsx')\n",
    "df"
   ]
  },
  {
   "cell_type": "code",
   "execution_count": 15,
   "id": "e14c166d",
   "metadata": {
    "scrolled": false
   },
   "outputs": [
    {
     "name": "stdout",
     "output_type": "stream",
     "text": [
      "<class 'pandas.core.frame.DataFrame'>\n",
      "RangeIndex: 80 entries, 0 to 79\n",
      "Data columns (total 32 columns):\n",
      " #   Column                    Non-Null Count  Dtype  \n",
      "---  ------                    --------------  -----  \n",
      " 0   Unnamed: 0                80 non-null     int64  \n",
      " 1   dataInfo                  80 non-null     object \n",
      " 2   dataParams                80 non-null     object \n",
      " 3   comp.link                 48 non-null     object \n",
      " 4   comp.compId               48 non-null     float64\n",
      " 5   comp.compScale            80 non-null     object \n",
      " 6   comp.compStage            48 non-null     object \n",
      " 7   comp.compLogo             80 non-null     object \n",
      " 8   comp.compName             80 non-null     object \n",
      " 9   comp.compIndustry         80 non-null     object \n",
      " 10  job.labels                80 non-null     object \n",
      " 11  job.link                  80 non-null     object \n",
      " 12  job.jobKind               80 non-null     int64  \n",
      " 13  job.salary                80 non-null     object \n",
      " 14  job.title                 80 non-null     object \n",
      " 15  job.topJob                80 non-null     bool   \n",
      " 16  job.refreshTime           80 non-null     int64  \n",
      " 17  job.dq                    80 non-null     object \n",
      " 18  job.jobId                 80 non-null     int64  \n",
      " 19  job.pcOuterLink           0 non-null      float64\n",
      " 20  job.h5OuterLink           0 non-null      float64\n",
      " 21  job.requireWorkYears      80 non-null     object \n",
      " 22  job.advViewFlag           80 non-null     bool   \n",
      " 23  job.dataPromId            80 non-null     object \n",
      " 24  job.requireEduLevel       80 non-null     object \n",
      " 25  recruiter.recruiterId     80 non-null     object \n",
      " 26  recruiter.recruiterName   80 non-null     object \n",
      " 27  recruiter.recruiterTitle  76 non-null     object \n",
      " 28  recruiter.imId            80 non-null     object \n",
      " 29  recruiter.imUserType      80 non-null     int64  \n",
      " 30  recruiter.chatted         80 non-null     bool   \n",
      " 31  recruiter.recruiterPhoto  80 non-null     object \n",
      "dtypes: bool(3), float64(3), int64(5), object(21)\n",
      "memory usage: 18.5+ KB\n"
     ]
    }
   ],
   "source": [
    "df.info()"
   ]
  },
  {
   "cell_type": "markdown",
   "id": "9bf806de",
   "metadata": {},
   "source": [
    "## 筛选存在数据分析价值的列"
   ]
  },
  {
   "cell_type": "code",
   "execution_count": 16,
   "id": "048c64d5",
   "metadata": {
    "scrolled": true
   },
   "outputs": [
    {
     "data": {
      "text/plain": "                                           job.labels  job.refreshTime  \\\n0   ['数据产品', '工具产品', 'CRM系统', 'to B', '产品规划', '产品优...   20230925170533   \n1   ['英语', '市场推广', '市场拓展', '渠道策划', '市场策划', '市场调研分析...   20231215105929   \n2   ['口腔健康', '口腔护理', '产品推广', '方案设计', '产品策划', '研讨会'...   20231215105929   \n3                                                  []   20231215162631   \n4            ['金融产品', '保险行业', '产品规划', '团队管理', '数据分析']   20231213103804   \n..                                                ...              ...   \n75                               ['售前产品经理', '无线通信方向']   20230612111159   \n76  ['社交产品', '海外产品', '移动端产品', '产品规划', '竞品分析', '需求分...   20231129180749   \n77                                                 []   20231101102031   \n78                    ['化学', '数据库构建', '信息技术', '数据科学']   20231123100009   \n79                                ['产品经理 相机 ', '摄像机']   20231215132853   \n\n                        job.title  job.salary  job.dq  job.topJob  \\\n0                            产品经理      15-18k  广州-番禺区        True   \n1     产品经理（化妆品原料）/Product Manager        薪资面议  广州-天河区       False   \n2   口腔护理产品经理/Oral Product Manager        薪资面议  广州-天河区       False   \n3   口腔护理产品经理/Oral Product Manager  18-28k·14薪      广州       False   \n4             Product Manager产品经理      15-25k  广州-天河区       False   \n..                            ...         ...     ...         ...   \n75                           产品经理  13-23k·13薪  广州-黄埔区       False   \n76                  海外社交产品经理（APP）      20-35k  广州-天河区       False   \n77                         金融产品经理      15-30k      广州       False   \n78                           产品经理      25-40k  广州-黄埔区       False   \n79                           产品经理      20-30k  广州-黄埔区       False   \n\n   job.requireWorkYears job.requireEduLevel comp.compStage     comp.compName  \\\n0                  3-5年                  大专          融资未公开  宏脉信息技术(广州)股份有限公司   \n1                  3-5年                  硕士            NaN              仙婷集团   \n2                 5-10年                统招本科            NaN              仙婷集团   \n3                  经验不限                  本科          融资未公开        某广州贸易进出口公司   \n4                 5-10年                统招本科          融资未公开         某广州IT服务公司   \n..                  ...                 ...            ...               ...   \n75                 经验不限                  本科          创业板上市      广州广哈通信股份有限公司   \n76                 3-5年                  本科            NaN              氢氧元素   \n77                 经验不限                  大专          不需要融资             某知名公司   \n78                 3-5年                  本科             A轮    广州标智未来科学技术有限公司   \n79                5-10年                  本科          新三板上市           博冠BOSMA   \n\n   comp.compIndustry comp.compScale  \n0              计算机软件       100-499人  \n1             贸易/进出口         50-99人  \n2             贸易/进出口         50-99人  \n3             贸易/进出口         50-99人  \n4               IT服务       100-499人  \n..               ...            ...  \n75              通信设备       100-499人  \n76               互联网         50-99人  \n77              工程施工       100-499人  \n78            专业技术服务         50-99人  \n79              智能硬件       100-499人  \n\n[80 rows x 12 columns]",
      "text/html": "<div>\n<style scoped>\n    .dataframe tbody tr th:only-of-type {\n        vertical-align: middle;\n    }\n\n    .dataframe tbody tr th {\n        vertical-align: top;\n    }\n\n    .dataframe thead th {\n        text-align: right;\n    }\n</style>\n<table border=\"1\" class=\"dataframe\">\n  <thead>\n    <tr style=\"text-align: right;\">\n      <th></th>\n      <th>job.labels</th>\n      <th>job.refreshTime</th>\n      <th>job.title</th>\n      <th>job.salary</th>\n      <th>job.dq</th>\n      <th>job.topJob</th>\n      <th>job.requireWorkYears</th>\n      <th>job.requireEduLevel</th>\n      <th>comp.compStage</th>\n      <th>comp.compName</th>\n      <th>comp.compIndustry</th>\n      <th>comp.compScale</th>\n    </tr>\n  </thead>\n  <tbody>\n    <tr>\n      <th>0</th>\n      <td>['数据产品', '工具产品', 'CRM系统', 'to B', '产品规划', '产品优...</td>\n      <td>20230925170533</td>\n      <td>产品经理</td>\n      <td>15-18k</td>\n      <td>广州-番禺区</td>\n      <td>True</td>\n      <td>3-5年</td>\n      <td>大专</td>\n      <td>融资未公开</td>\n      <td>宏脉信息技术(广州)股份有限公司</td>\n      <td>计算机软件</td>\n      <td>100-499人</td>\n    </tr>\n    <tr>\n      <th>1</th>\n      <td>['英语', '市场推广', '市场拓展', '渠道策划', '市场策划', '市场调研分析...</td>\n      <td>20231215105929</td>\n      <td>产品经理（化妆品原料）/Product Manager</td>\n      <td>薪资面议</td>\n      <td>广州-天河区</td>\n      <td>False</td>\n      <td>3-5年</td>\n      <td>硕士</td>\n      <td>NaN</td>\n      <td>仙婷集团</td>\n      <td>贸易/进出口</td>\n      <td>50-99人</td>\n    </tr>\n    <tr>\n      <th>2</th>\n      <td>['口腔健康', '口腔护理', '产品推广', '方案设计', '产品策划', '研讨会'...</td>\n      <td>20231215105929</td>\n      <td>口腔护理产品经理/Oral Product Manager</td>\n      <td>薪资面议</td>\n      <td>广州-天河区</td>\n      <td>False</td>\n      <td>5-10年</td>\n      <td>统招本科</td>\n      <td>NaN</td>\n      <td>仙婷集团</td>\n      <td>贸易/进出口</td>\n      <td>50-99人</td>\n    </tr>\n    <tr>\n      <th>3</th>\n      <td>[]</td>\n      <td>20231215162631</td>\n      <td>口腔护理产品经理/Oral Product Manager</td>\n      <td>18-28k·14薪</td>\n      <td>广州</td>\n      <td>False</td>\n      <td>经验不限</td>\n      <td>本科</td>\n      <td>融资未公开</td>\n      <td>某广州贸易进出口公司</td>\n      <td>贸易/进出口</td>\n      <td>50-99人</td>\n    </tr>\n    <tr>\n      <th>4</th>\n      <td>['金融产品', '保险行业', '产品规划', '团队管理', '数据分析']</td>\n      <td>20231213103804</td>\n      <td>Product Manager产品经理</td>\n      <td>15-25k</td>\n      <td>广州-天河区</td>\n      <td>False</td>\n      <td>5-10年</td>\n      <td>统招本科</td>\n      <td>融资未公开</td>\n      <td>某广州IT服务公司</td>\n      <td>IT服务</td>\n      <td>100-499人</td>\n    </tr>\n    <tr>\n      <th>...</th>\n      <td>...</td>\n      <td>...</td>\n      <td>...</td>\n      <td>...</td>\n      <td>...</td>\n      <td>...</td>\n      <td>...</td>\n      <td>...</td>\n      <td>...</td>\n      <td>...</td>\n      <td>...</td>\n      <td>...</td>\n    </tr>\n    <tr>\n      <th>75</th>\n      <td>['售前产品经理', '无线通信方向']</td>\n      <td>20230612111159</td>\n      <td>产品经理</td>\n      <td>13-23k·13薪</td>\n      <td>广州-黄埔区</td>\n      <td>False</td>\n      <td>经验不限</td>\n      <td>本科</td>\n      <td>创业板上市</td>\n      <td>广州广哈通信股份有限公司</td>\n      <td>通信设备</td>\n      <td>100-499人</td>\n    </tr>\n    <tr>\n      <th>76</th>\n      <td>['社交产品', '海外产品', '移动端产品', '产品规划', '竞品分析', '需求分...</td>\n      <td>20231129180749</td>\n      <td>海外社交产品经理（APP）</td>\n      <td>20-35k</td>\n      <td>广州-天河区</td>\n      <td>False</td>\n      <td>3-5年</td>\n      <td>本科</td>\n      <td>NaN</td>\n      <td>氢氧元素</td>\n      <td>互联网</td>\n      <td>50-99人</td>\n    </tr>\n    <tr>\n      <th>77</th>\n      <td>[]</td>\n      <td>20231101102031</td>\n      <td>金融产品经理</td>\n      <td>15-30k</td>\n      <td>广州</td>\n      <td>False</td>\n      <td>经验不限</td>\n      <td>大专</td>\n      <td>不需要融资</td>\n      <td>某知名公司</td>\n      <td>工程施工</td>\n      <td>100-499人</td>\n    </tr>\n    <tr>\n      <th>78</th>\n      <td>['化学', '数据库构建', '信息技术', '数据科学']</td>\n      <td>20231123100009</td>\n      <td>产品经理</td>\n      <td>25-40k</td>\n      <td>广州-黄埔区</td>\n      <td>False</td>\n      <td>3-5年</td>\n      <td>本科</td>\n      <td>A轮</td>\n      <td>广州标智未来科学技术有限公司</td>\n      <td>专业技术服务</td>\n      <td>50-99人</td>\n    </tr>\n    <tr>\n      <th>79</th>\n      <td>['产品经理 相机 ', '摄像机']</td>\n      <td>20231215132853</td>\n      <td>产品经理</td>\n      <td>20-30k</td>\n      <td>广州-黄埔区</td>\n      <td>False</td>\n      <td>5-10年</td>\n      <td>本科</td>\n      <td>新三板上市</td>\n      <td>博冠BOSMA</td>\n      <td>智能硬件</td>\n      <td>100-499人</td>\n    </tr>\n  </tbody>\n</table>\n<p>80 rows × 12 columns</p>\n</div>"
     },
     "execution_count": 16,
     "metadata": {},
     "output_type": "execute_result"
    }
   ],
   "source": [
    "df_PM_gz =  df[['job.labels','job.refreshTime','job.title','job.salary','job.dq','job.topJob','job.requireWorkYears','job.requireEduLevel','comp.compStage','comp.compName','comp.compIndustry','comp.compScale']]\n",
    "df_PM_gz"
   ]
  },
  {
   "cell_type": "markdown",
   "id": "66931fa5",
   "metadata": {},
   "source": [
    "## 地区分布"
   ]
  },
  {
   "cell_type": "code",
   "execution_count": 17,
   "id": "40af9bd5",
   "metadata": {
    "scrolled": true
   },
   "outputs": [
    {
     "data": {
      "text/plain": "广州        24\n广州-天河区    21\n广州-黄埔区     9\n广州-番禺区     8\n广州-海珠区     7\n广州-越秀区     5\n广州-白云区     5\n广州-荔湾区     1\nName: job.dq, dtype: int64"
     },
     "execution_count": 17,
     "metadata": {},
     "output_type": "execute_result"
    }
   ],
   "source": [
    "df_PM_gz['job.dq'].value_counts()"
   ]
  },
  {
   "cell_type": "code",
   "execution_count": 18,
   "outputs": [
    {
     "data": {
      "text/plain": "本科      37\n统招本科    29\n大专       6\n硕士       6\n学历不限     2\nName: job.requireEduLevel, dtype: int64"
     },
     "execution_count": 18,
     "metadata": {},
     "output_type": "execute_result"
    }
   ],
   "source": [
    "df_PM_gz['job.requireEduLevel'].value_counts()"
   ],
   "metadata": {
    "collapsed": false
   }
  },
  {
   "cell_type": "code",
   "execution_count": 19,
   "outputs": [
    {
     "data": {
      "text/plain": "['本科', '统招本科', '大专', '硕士', '学历不限']"
     },
     "execution_count": 19,
     "metadata": {},
     "output_type": "execute_result"
    }
   ],
   "source": [
    "e = df_PM_gz['job.requireEduLevel'].value_counts().index.tolist()\n",
    "e"
   ],
   "metadata": {
    "collapsed": false
   }
  },
  {
   "cell_type": "code",
   "execution_count": 43,
   "outputs": [
    {
     "data": {
      "text/plain": "[208, 117, 40, 19, 13, 3]"
     },
     "execution_count": 43,
     "metadata": {},
     "output_type": "execute_result"
    }
   ],
   "source": [
    "e_v = df_PM_gz['job.requireEduLevel'].value_counts().tolist()\n",
    "e_v"
   ],
   "metadata": {
    "collapsed": false
   }
  },
  {
   "cell_type": "code",
   "execution_count": 49,
   "outputs": [
    {
     "data": {
      "text/plain": "1"
     },
     "execution_count": 49,
     "metadata": {},
     "output_type": "execute_result"
    }
   ],
   "source": [
    "b = e.index('统招本科')\n",
    "b"
   ],
   "metadata": {
    "collapsed": false
   }
  },
  {
   "cell_type": "code",
   "execution_count": null,
   "outputs": [],
   "source": [
    "new_list = []\n",
    "for i in range(e):\n",
    "    if e[i] == '学历不限':\n",
    "        e_index = e.index('学历不限')\n",
    "    if e[i] == '统招本科':\n",
    "        b_index = e.index('统招本科')\n"
   ],
   "metadata": {
    "collapsed": false
   }
  },
  {
   "cell_type": "code",
   "execution_count": 47,
   "outputs": [
    {
     "data": {
      "text/plain": "[{208, '本科'}, {117, '统招本科'}, {40, '大专'}, {19, '硕士'}, {13, '学历不限'}, {3, '博士'}]"
     },
     "execution_count": 47,
     "metadata": {},
     "output_type": "execute_result"
    }
   ],
   "source": [
    "edu_value = [{e[i],e_v[i]} for i in range(len(e))]\n",
    "edu_value"
   ],
   "metadata": {
    "collapsed": false
   }
  },
  {
   "cell_type": "code",
   "execution_count": 18,
   "id": "6e2e2626",
   "metadata": {},
   "outputs": [
    {
     "data": {
      "text/plain": "['天河区', '番禺区', '黄埔区', '海珠区', '越秀区', '白云区', '荔湾区', '南沙区', '花都区', '增城区']"
     },
     "execution_count": 18,
     "metadata": {},
     "output_type": "execute_result"
    }
   ],
   "source": [
    "地区 = [ df_PM_gz['job.dq'].value_counts().index.tolist()[i].split('-')[1]\\\n",
    "         for i,v in enumerate(df_PM_gz['job.dq'].value_counts().index.tolist()) if '-' in v]\n",
    "地区"
   ]
  },
  {
   "cell_type": "code",
   "execution_count": 19,
   "id": "6c2a3f0f",
   "metadata": {},
   "outputs": [
    {
     "data": {
      "text/plain": "[81, 57, 44, 31, 23, 22, 10, 6, 2, 1]"
     },
     "execution_count": 19,
     "metadata": {},
     "output_type": "execute_result"
    }
   ],
   "source": [
    "岗位个数 = [ df_PM_gz['job.dq'].value_counts().values.tolist()[i] for i,v in enumerate(df_PM_gz['job.dq'].value_counts().index.tolist()) if \"-\" in v]\n",
    "岗位个数"
   ]
  },
  {
   "cell_type": "code",
   "execution_count": 21,
   "id": "7bdd1791",
   "metadata": {},
   "outputs": [
    {
     "data": {
      "text/plain": "1                产品经理\n5              产品经理PM\n17    Product Manager\n20               产品经理\n21          产品经理-产品企划\n26        微生物检测产品销售经理\n35        高级软件/硬件产品经理\n38            前中台产品经理\n41             大厂产品经理\n42               产品经理\n45               产品经理\n46               产品经理\n47             助理产品经理\n69               产品经理\n70            供应链产品经理\n71             区域产品经理\n76           海外社交产品经理\nName: job.title, dtype: object"
     },
     "execution_count": 21,
     "metadata": {},
     "output_type": "execute_result"
    }
   ],
   "source": [
    "# 还要合并回去原来的行\n",
    "df_PM_gz['job.title'][df_PM_gz['job.title'].str.contains('（')   ].str.split('（').apply(lambda x:x[0])"
   ]
  },
  {
   "cell_type": "code",
   "execution_count": 22,
   "id": "67ce6925",
   "metadata": {
    "scrolled": false
   },
   "outputs": [
    {
     "data": {
      "text/plain": "产品经理                                18\n助理产品经理                               9\n高级产品经理                               6\nProduct Manager                      2\n口腔护理产品经理                             2\nOral Product Manager                 2\nAI产品经理                               2\n产品策划经理                               2\n跨境电商产品经理                             2\n高级软件                                 2\n低空产品经理                               1\n商品产品经理                               1\nIT产品经理                               1\n初级产品经理                               1\n资深产品经理                               1\n肾线产品经理                               1\nB端数字化产品经理                            1\n解决方案产品经理                             1\n供应链产品经理                              1\n大厂产品经理                               1\n区域产品经理                               1\n前中台产品经理                              1\n海外社交产品经理                             1\n央企子公司-产品经理                           1\n临床试验项目经理PM                           1\nGlobal Product Manager Trainee       1\nProduct Manager产品经理                  1\n产品经理PM                               1\n神外产品销售经理 Product Sales Manager       1\n产品经理-广州                              1\nCT 产品销售经理 广州                         1\n神经介入产品经理                             1\n产品经理-汽车车身电子域控                        1\nAIGC营销产品经理                           1\nPM LEAD                              1\nAutomation Product Manager           1\n数码产品经理                               1\n产品经理-产品企划                            1\n医药产品经理                               1\n微生物检测产品销售经理                          1\nCRM实施顾问&项目经理PM                       1\nAi product manager                   1\n金融产品经理                               1\nName: job.title, dtype: int64"
     },
     "execution_count": 22,
     "metadata": {},
     "output_type": "execute_result"
    }
   ],
   "source": [
    "# 处理过一些，清洗后的数据\n",
    "df_job_title = df_PM_gz['job.title'].apply(lambda x:x.split('（')[0].split('/')[0].split('(')[0]).value_counts()\n",
    "df_job_title"
   ]
  },
  {
   "cell_type": "code",
   "execution_count": 22,
   "id": "002d568f",
   "metadata": {
    "scrolled": true
   },
   "outputs": [
    {
     "data": {
      "text/plain": "['产品经理',\n '高级产品经理',\n '软件产品经理',\n '产品经理岗',\n '区域产品经理',\n 'AI应用产品经理',\n 'AI产品经理',\n 'B端产品经理',\n '社交产品经理',\n '助理产品经理',\n '硬件产品经理',\n '高级产品PM',\n 'IT产品经理',\n 'B端供应链产品经理',\n 'OTC产品经理',\n '物联网产品经理',\n '高级TMS产品经理 ',\n '初级产品经理',\n '高级产品经理-商品开发线',\n 'IMO-社交产品经理',\n '智能硬件产品经理',\n '工具规划产品经理',\n '资深产品经理',\n '高级硬件产品经理',\n '金融科技产品经理',\n '',\n '跨境电商产品经理',\n '项目管理PM',\n '数码产品经理',\n 'Assistant Product Manager ',\n '中后台产品经理',\n '产品经理 ',\n 'AIGC产品经理',\n '电商硬件产品经理',\n '高级',\n '医药产品经理',\n '产品经理-产品企划',\n '海外产品经理',\n 'eWMS Product Manager',\n '产品策划经理',\n '文创产品经理',\n 'B03- 社交产品经理',\n '代客代理中心产品经理岗',\n '产品经理-总监',\n 'AI产品经理岗',\n '上市龙头企业—高级软件产品经理',\n '日化产品经理',\n '产品经理-肿瘤',\n '照明产品经理',\n '零售产品经理',\n '物流产品经理',\n '支付产品经理',\n '电商物流产品经理',\n '铁路产品经理',\n '服务器产品经理',\n '工业软件产品经理',\n 'C端产品经理 ',\n '数据安全产品经理',\n 'Saas产品经理',\n '高级产品经理-面料',\n '芯片产品经理',\n '外贸产品经理',\n 'C端高级产品经理',\n '商家产品经理',\n '大数据产品经理',\n '电商产品经理',\n '医疗器械产品经理',\n '垂直电商产品经理',\n '广花融资担保公司',\n '新能源产品经理 ',\n '产品经理零售',\n '数据产品经理',\n 'IOT产品经理',\n 'UQ产品经理',\n '医疗产品经理',\n '数据平台产品经理',\n '数据治理产品经理',\n '海外软件产品经理',\n '产品经理 - eWMS',\n '硬件高级产品经理',\n '卡券工具平台产品经理',\n '研发产品经理',\n 'APP高级产品经理',\n 'crm高级产品经理',\n '平板',\n '食品产品经理',\n '算法产品经理',\n '供应链产品经理 ',\n '消费电子多领域龙头-软件产品经理-实验实训',\n '高级数据产品经理',\n '高级OS产品经理',\n 'LIMS产品经理',\n '市场部产品经理',\n '某知名金融机构 产品经理',\n 'BI产品经理',\n '供需调度产品经理',\n '移动产品经理',\n 'PTBU-产品经理',\n '产品经理-安全方向',\n 'GTM经理',\n '云网产品经理',\n 'AI健康产品经理',\n 'ZNXT-产品经理',\n 'eWMS',\n '中台产品经理',\n 'C端产品经理',\n 'CRM产品经理',\n '游戏PM',\n '临床试验项目经理PM',\n '助理产品经理—食品类',\n '烘焙产品经理+白云广园+销售经验+喜美食',\n '解决方案产品经理 ',\n '医药高级产品经理',\n '低空产品经理',\n '数字营销PM',\n '研究所数字化产品经理',\n '香薰香氛产品经理',\n '高级医药产品经理',\n 'IT产品经理岗',\n '高级项目管理PM',\n '售前产品经理',\n '活动PM',\n '项目发行PM',\n 'SDK产品经理',\n 'Automation Product Manager',\n 'Product Marketing Manager',\n '产品经理Product Manager',\n '产品经理PM',\n '神外产品销售经理 Product Sales Manager',\n '自动驾驶',\n 'AI营销产品经理',\n 'AIGC营销产品经理',\n '微生物检测产品经理',\n '市场经理',\n 'Senior Product Manager',\n '百度云工业AI质检业务运营产品经理',\n '游戏高级美术PM',\n ' Product Manager ',\n 'CRM实施顾问&项目经理PM',\n '固收条线金融科技产品经理',\n 'CoAI产品经理',\n '供应链产品经理',\n '运营商BU-产品经理-广州',\n '支付结算产品经理',\n '管道产品经理',\n '数字化产品经理',\n 'B端供应链产品经理 ',\n 'B端产品经理G00941',\n 'IT平台产品经理主管工程师',\n '衍生品产品经理',\n '金融科技产品经理岗',\n '教育高级产品经理',\n 'b端产品经理',\n '网络金融部产品经理',\n '产品经理-罕见病',\n '数据智能产品经理',\n '社区产品经理',\n '安全类产品经理',\n '商业化产品经理-出海工具产品',\n '后台产品经理',\n '家具产品经理',\n '互联网医疗产品经理',\n 'app产品经理',\n '市场产品经理',\n '储备产品经理',\n 'APP产品经理',\n '人脸产品经理',\n '海外社交产品经理',\n 'ERP产品经理',\n '高级美术pm',\n '投资交易业务系统产品经理',\n '数字化项目产品经理',\n '中级产品经理',\n 'B段产品经理',\n '彩妆产品经理']"
     },
     "execution_count": 22,
     "metadata": {},
     "output_type": "execute_result"
    }
   ],
   "source": [
    "df_job_title.index.tolist()"
   ]
  },
  {
   "cell_type": "code",
   "execution_count": 23,
   "id": "02180275",
   "metadata": {},
   "outputs": [
    {
     "data": {
      "text/plain": "175"
     },
     "execution_count": 23,
     "metadata": {},
     "output_type": "execute_result"
    }
   ],
   "source": [
    "len(df_job_title.index.tolist())"
   ]
  },
  {
   "cell_type": "code",
   "execution_count": 24,
   "id": "e8c8f438",
   "metadata": {
    "scrolled": true
   },
   "outputs": [
    {
     "data": {
      "text/plain": "[117,\n 40,\n 6,\n 6,\n 5,\n 5,\n 5,\n 5,\n 5,\n 4,\n 3,\n 3,\n 3,\n 3,\n 3,\n 3,\n 2,\n 2,\n 2,\n 2,\n 2,\n 2,\n 2,\n 2,\n 2,\n 2,\n 2,\n 2,\n 2,\n 2,\n 2,\n 2,\n 2,\n 2,\n 2,\n 2,\n 2,\n 2,\n 2,\n 2,\n 2,\n 1,\n 1,\n 1,\n 1,\n 1,\n 1,\n 1,\n 1,\n 1,\n 1,\n 1,\n 1,\n 1,\n 1,\n 1,\n 1,\n 1,\n 1,\n 1,\n 1,\n 1,\n 1,\n 1,\n 1,\n 1,\n 1,\n 1,\n 1,\n 1,\n 1,\n 1,\n 1,\n 1,\n 1,\n 1,\n 1,\n 1,\n 1,\n 1,\n 1,\n 1,\n 1,\n 1,\n 1,\n 1,\n 1,\n 1,\n 1,\n 1,\n 1,\n 1,\n 1,\n 1,\n 1,\n 1,\n 1,\n 1,\n 1,\n 1,\n 1,\n 1,\n 1,\n 1,\n 1,\n 1,\n 1,\n 1,\n 1,\n 1,\n 1,\n 1,\n 1,\n 1,\n 1,\n 1,\n 1,\n 1,\n 1,\n 1,\n 1,\n 1,\n 1,\n 1,\n 1,\n 1,\n 1,\n 1,\n 1,\n 1,\n 1,\n 1,\n 1,\n 1,\n 1,\n 1,\n 1,\n 1,\n 1,\n 1,\n 1,\n 1,\n 1,\n 1,\n 1,\n 1,\n 1,\n 1,\n 1,\n 1,\n 1,\n 1,\n 1,\n 1,\n 1,\n 1,\n 1,\n 1,\n 1,\n 1,\n 1,\n 1,\n 1,\n 1,\n 1,\n 1,\n 1,\n 1,\n 1,\n 1,\n 1,\n 1,\n 1,\n 1,\n 1]"
     },
     "execution_count": 24,
     "metadata": {},
     "output_type": "execute_result"
    }
   ],
   "source": [
    "df_job_title.values.tolist()"
   ]
  },
  {
   "cell_type": "code",
   "execution_count": 25,
   "id": "24635f28",
   "metadata": {},
   "outputs": [
    {
     "data": {
      "text/plain": "产品经理                            36\n高级产品经理                          20\n产品经理岗                            5\n社交产品经理                           5\nAI产品经理                           4\n                                ..\nB端产品经理(供应商管理协同方向) (MJ008484)     1\n区域产品经理(J11100)                   1\nB端供应链产品经理（商家系统） (MJ005418)       1\n支付结算产品经理（供应链）                    1\n彩妆产品经理                           1\nName: job.title, Length: 303, dtype: int64"
     },
     "execution_count": 25,
     "metadata": {},
     "output_type": "execute_result"
    }
   ],
   "source": [
    "# 未处理字符串的数据（不太整洁和干净的数据）\n",
    "df_PM_gz['job.title'].value_counts()"
   ]
  },
  {
   "cell_type": "code",
   "execution_count": 26,
   "id": "0a02f2bc",
   "metadata": {},
   "outputs": [
    {
     "data": {
      "text/plain": "[('高级产品经理', 40),\n ('软件产品经理', 6),\n ('产品经理岗', 6),\n ('区域产品经理', 5),\n ('AI应用产品经理', 5),\n ('AI产品经理', 5),\n ('B端产品经理', 5),\n ('社交产品经理', 5),\n ('助理产品经理', 4),\n ('硬件产品经理', 3),\n ('高级产品PM', 3),\n ('IT产品经理', 3),\n ('B端供应链产品经理', 3),\n ('OTC产品经理', 3),\n ('物联网产品经理', 3),\n ('高级TMS产品经理 ', 2),\n ('初级产品经理', 2),\n ('高级产品经理-商品开发线', 2),\n ('IMO-社交产品经理', 2),\n ('智能硬件产品经理', 2),\n ('工具规划产品经理', 2),\n ('资深产品经理', 2),\n ('高级硬件产品经理', 2),\n ('金融科技产品经理', 2),\n ('', 2),\n ('跨境电商产品经理', 2),\n ('项目管理PM', 2),\n ('数码产品经理', 2),\n ('Assistant Product Manager ', 2),\n ('中后台产品经理', 2),\n ('产品经理 ', 2),\n ('AIGC产品经理', 2),\n ('电商硬件产品经理', 2),\n ('高级', 2),\n ('医药产品经理', 2),\n ('产品经理-产品企划', 2),\n ('海外产品经理', 2),\n ('eWMS Product Manager', 2),\n ('产品策划经理', 2),\n ('文创产品经理', 2),\n ('B03- 社交产品经理', 1),\n ('代客代理中心产品经理岗', 1),\n ('产品经理-总监', 1),\n ('AI产品经理岗', 1),\n ('上市龙头企业—高级软件产品经理', 1),\n ('日化产品经理', 1),\n ('产品经理-肿瘤', 1),\n ('照明产品经理', 1),\n ('零售产品经理', 1),\n ('物流产品经理', 1),\n ('支付产品经理', 1),\n ('电商物流产品经理', 1),\n ('铁路产品经理', 1),\n ('服务器产品经理', 1),\n ('工业软件产品经理', 1),\n ('C端产品经理 ', 1),\n ('数据安全产品经理', 1),\n ('Saas产品经理', 1),\n ('高级产品经理-面料', 1),\n ('芯片产品经理', 1),\n ('外贸产品经理', 1),\n ('C端高级产品经理', 1),\n ('商家产品经理', 1),\n ('大数据产品经理', 1),\n ('电商产品经理', 1),\n ('医疗器械产品经理', 1),\n ('垂直电商产品经理', 1),\n ('广花融资担保公司', 1),\n ('新能源产品经理 ', 1),\n ('产品经理零售', 1),\n ('数据产品经理', 1),\n ('IOT产品经理', 1),\n ('UQ产品经理', 1),\n ('医疗产品经理', 1),\n ('数据平台产品经理', 1),\n ('数据治理产品经理', 1),\n ('海外软件产品经理', 1),\n ('产品经理 - eWMS', 1),\n ('硬件高级产品经理', 1),\n ('卡券工具平台产品经理', 1),\n ('研发产品经理', 1),\n ('APP高级产品经理', 1),\n ('crm高级产品经理', 1),\n ('平板', 1),\n ('食品产品经理', 1),\n ('算法产品经理', 1),\n ('供应链产品经理 ', 1),\n ('消费电子多领域龙头-软件产品经理-实验实训', 1),\n ('高级数据产品经理', 1),\n ('高级OS产品经理', 1),\n ('LIMS产品经理', 1),\n ('市场部产品经理', 1),\n ('某知名金融机构 产品经理', 1),\n ('BI产品经理', 1),\n ('供需调度产品经理', 1),\n ('移动产品经理', 1),\n ('PTBU-产品经理', 1),\n ('产品经理-安全方向', 1),\n ('GTM经理', 1),\n ('云网产品经理', 1),\n ('AI健康产品经理', 1),\n ('ZNXT-产品经理', 1),\n ('eWMS', 1),\n ('中台产品经理', 1),\n ('C端产品经理', 1),\n ('CRM产品经理', 1),\n ('游戏PM', 1),\n ('临床试验项目经理PM', 1),\n ('助理产品经理—食品类', 1),\n ('烘焙产品经理+白云广园+销售经验+喜美食', 1),\n ('解决方案产品经理 ', 1),\n ('医药高级产品经理', 1),\n ('低空产品经理', 1),\n ('数字营销PM', 1),\n ('研究所数字化产品经理', 1),\n ('香薰香氛产品经理', 1),\n ('高级医药产品经理', 1),\n ('IT产品经理岗', 1),\n ('高级项目管理PM', 1),\n ('售前产品经理', 1),\n ('活动PM', 1),\n ('项目发行PM', 1),\n ('SDK产品经理', 1),\n ('Automation Product Manager', 1),\n ('Product Marketing Manager', 1),\n ('产品经理Product Manager', 1),\n ('产品经理PM', 1),\n ('神外产品销售经理 Product Sales Manager', 1),\n ('自动驾驶', 1),\n ('AI营销产品经理', 1),\n ('AIGC营销产品经理', 1),\n ('微生物检测产品经理', 1),\n ('市场经理', 1),\n ('Senior Product Manager', 1),\n ('百度云工业AI质检业务运营产品经理', 1),\n ('游戏高级美术PM', 1),\n (' Product Manager ', 1),\n ('CRM实施顾问&项目经理PM', 1),\n ('固收条线金融科技产品经理', 1),\n ('CoAI产品经理', 1),\n ('供应链产品经理', 1),\n ('运营商BU-产品经理-广州', 1),\n ('支付结算产品经理', 1),\n ('管道产品经理', 1),\n ('数字化产品经理', 1),\n ('B端供应链产品经理 ', 1),\n ('B端产品经理G00941', 1),\n ('IT平台产品经理主管工程师', 1),\n ('衍生品产品经理', 1),\n ('金融科技产品经理岗', 1),\n ('教育高级产品经理', 1),\n ('b端产品经理', 1),\n ('网络金融部产品经理', 1),\n ('产品经理-罕见病', 1),\n ('数据智能产品经理', 1),\n ('社区产品经理', 1),\n ('安全类产品经理', 1),\n ('商业化产品经理-出海工具产品', 1),\n ('后台产品经理', 1),\n ('家具产品经理', 1),\n ('互联网医疗产品经理', 1),\n ('app产品经理', 1),\n ('市场产品经理', 1),\n ('储备产品经理', 1),\n ('APP产品经理', 1),\n ('人脸产品经理', 1),\n ('海外社交产品经理', 1),\n ('ERP产品经理', 1),\n ('高级美术pm', 1),\n ('投资交易业务系统产品经理', 1),\n ('数字化项目产品经理', 1),\n ('中级产品经理', 1),\n ('B段产品经理', 1),\n ('彩妆产品经理', 1)]"
     },
     "execution_count": 26,
     "metadata": {},
     "output_type": "execute_result"
    }
   ],
   "source": [
    "# 列表推导式\n",
    "PM_title_words = [(  df_job_title.index.tolist()[i]   ,   df_job_title.values.tolist()[i]  )    for i in range(1,len(df_job_title.index.tolist())) ]\n",
    "PM_title_words"
   ]
  },
  {
   "cell_type": "code",
   "execution_count": 27,
   "id": "601ce6a9",
   "metadata": {},
   "outputs": [],
   "source": [
    "from pyecharts import options as opts\n",
    "from pyecharts.charts import WordCloud\n",
    "from pyecharts.globals import SymbolType\n",
    "\n",
    "c = (\n",
    "    WordCloud()\n",
    "    .add(\"\", PM_title_words, word_size_range=[20, 100], shape=SymbolType.DIAMOND)\n",
    "    .set_global_opts(title_opts=opts.TitleOpts(title=\"WordCloud-shape-diamond\"))\n",
    "    .render( key +\"_wordcloud_map_岗位名称_\"+ output_time+\".html\")\n",
    ")\n"
   ]
  },
  {
   "cell_type": "markdown",
   "id": "6dd926d7",
   "metadata": {},
   "source": [
    "## job.labels\n",
    "\n",
    "* 目标：统计labels的数量并做词云图"
   ]
  },
  {
   "cell_type": "code",
   "execution_count": 46,
   "outputs": [
    {
     "data": {
      "text/plain": "[['数据产品',\n  '工具产品',\n  'CRM系统',\n  'to B',\n  '产品规划',\n  '产品优化',\n  '产品设计',\n  '用户研究',\n  '数据分析',\n  'Axure'],\n ['英语',\n  '市场推广',\n  '市场拓展',\n  '渠道策划',\n  '市场策划',\n  '市场调研分析',\n  '乙方公司背景',\n  'to B',\n  '大客户',\n  '无销售性质'],\n ['口腔健康',\n  '口腔护理',\n  '产品推广',\n  '方案设计',\n  '产品策划',\n  '研讨会',\n  '技术支持',\n  '英语可作工作语言',\n  'PPT',\n  '数据分析'],\n [],\n ['金融产品', '保险行业', '产品规划', '团队管理', '数据分析'],\n ['中央市场产品经理经验'],\n ['神外', '医生'],\n [],\n [],\n ['渠道销售', '销售管理', '客户管理'],\n [],\n ['招商产品经理'],\n ['产品经理', '车身电子模块'],\n ['O2O'],\n ['产品策略', '爆品', '母婴', '美妆', '产品策划', '电商'],\n ['AIGC', 'AI产品'],\n [],\n [],\n ['b端产品', '用户增长', '策略产品', '数据分析', '内容产品', 'C端产品', '增长黑客', '私域增长', '新零售'],\n [],\n [],\n ['商品管理', '产品企划', '商品运营'],\n ['内容产品',\n  '策略产品',\n  'IT互联网',\n  '消费品',\n  '产品优化',\n  '产品规划',\n  '小程序产品',\n  '产品设计',\n  '数据分析',\n  '竞品分析'],\n ['口腔健康',\n  '口腔护理',\n  '产品推广',\n  '方案设计',\n  '产品策划',\n  '研讨会',\n  '技术支持',\n  '英语可作工作语言',\n  'PPT',\n  '数据分析'],\n ['泌尿外科'],\n [],\n ['拓展培训', '市场洞察', '销售管理', '团队管理', '出差'],\n ['to B', '产品规划', '产品设计'],\n ['CRM软件',\n  '信息化项目',\n  '软件行业',\n  '售前支持',\n  '批发/零售',\n  '咨询项目',\n  '化工行业',\n  '服务业',\n  'IT/互联网/软件',\n  'CRM系统'],\n [],\n ['品牌策划'],\n ['数据产品',\n  '供应链产品',\n  '电商产品',\n  '后台产品',\n  '交易产品',\n  '批发/零售',\n  '物流快递',\n  'IT互联网',\n  '交通/运输/物流',\n  '产品设计'],\n [],\n ['临床试验', '临床项目管理', 'GCP认证', 'CE认证'],\n ['axure', 'visio', 'powerpoint', 'word', 'Excel'],\n ['AI人工智能产品',\n  '安全产品',\n  '金融产品',\n  '硬件产品',\n  'IT互联网',\n  '智慧城市',\n  '金融理财/贷款',\n  '教育行业',\n  'to G',\n  'to B'],\n ['硬件产品',\n  'AI人工智能产品',\n  '数据产品',\n  '硬件系统集成',\n  '计算机软件',\n  '人工智能',\n  '金融行业',\n  '产品规划',\n  '团队管理',\n  '产品优化'],\n ['安防行业'],\n ['电商产品', '策略产品', '跨境电商', 'Axure', '产品规划'],\n ['产品规划',\n  '电子商务',\n  '电子/半导体/集成电路',\n  'to C',\n  '市场调研',\n  '需求分析',\n  '用户研究',\n  '流程设计',\n  '产品优化',\n  '团队管理'],\n ['数据分析'],\n ['工具产品', '社区产品'],\n ['平台产品', '消费品', '产品规划', '产品设计', '需求分析', '流程设计', '用户研究', '产品优化'],\n ['计算机软件', 'to B', '原型设计', '需求分析', '产品设计', '建筑软件', '建筑信息化', '建筑行业', 'web端产品'],\n ['AI人工智能产品',\n  '硬件产品',\n  '人工智能',\n  'IT互联网',\n  '硬件系统集成',\n  '智能硬件',\n  '产品设计',\n  '产品规划',\n  '用户研究',\n  '团队管理'],\n ['产品开发', '休闲食品', '保健食品'],\n ['人工智能',\n  'IT互联网',\n  '产品优化',\n  '产品规划',\n  '数据分析',\n  'Axure',\n  '需求管理',\n  '流程设计',\n  'Xmind',\n  '团队管理'],\n [],\n ['医药行业'],\n [],\n ['数据产品', 'AI人工智能产品', '产品规划', '需求调研', '产品设计'],\n [],\n ['活动策划', '市场推广', '效果评估', '市场调研分析'],\n ['消化线', '产品经理'],\n ['Xmind', 'Axure', 'CRM产品', 'SaaS产品'],\n ['原型设计', '需求调研', '产品规划', '需求管理'],\n ['海外', '手游', '电商'],\n ['excel', 'word'],\n [],\n [],\n ['电子产品及配件', '智能硬件', '产品规划', '用户研究', '产品优化', '团队管理', '产品设计', '数据分析'],\n ['画像产品',\n  '策略产品',\n  '数据产品',\n  '定价/竞价产品',\n  '化妆品',\n  '家电行业',\n  '产品优化',\n  '产品规划',\n  '市场调研',\n  '用户研究'],\n ['后台产品', '客户端产品', 'to B', '需求分析', '产品设计', '产品规划', '团队管理', 'Axure', '墨刀'],\n ['电商产品', '供应链产品', '跨境电商', '电子商务', '产品优化', '产品规划', '团队管理'],\n ['数据产品',\n  '平台产品',\n  '交通/运输',\n  '信息安全',\n  '数据分析',\n  '产品规划',\n  'Axure',\n  'Visio',\n  'MindManager'],\n ['社交产品', '社交网络', '电子商务', '小程序产品', '移动端产品', '产品规划'],\n ['电商产品',\n  '数据产品',\n  '商业产品',\n  '策略产品',\n  '物流快递',\n  '交通/运输/物流',\n  'IT互联网',\n  '电子商务',\n  '产品设计',\n  '产品规划'],\n [],\n [],\n ['售后服务'],\n ['跨境电商', 'ERP系统', '数据分析', '需求分析', 'ERP产品', '供应链产品', 'to B', '数字化转型'],\n [],\n ['跨境电商'],\n ['电子商务',\n  '团队管理',\n  '需求分析',\n  '市场调研',\n  '供应链产品',\n  'to C',\n  '用户研究',\n  '竞品分析',\n  '产品规划',\n  '电商产品'],\n ['IT互联网', '用户研究'],\n ['售前产品经理', '无线通信方向'],\n ['社交产品',\n  '海外产品',\n  '移动端产品',\n  '产品规划',\n  '竞品分析',\n  '需求分析',\n  '用户研究',\n  '市场调研',\n  '产品设计',\n  '原型设计'],\n [],\n ['化学', '数据库构建', '信息技术', '数据科学'],\n ['产品经理 相机 ', '摄像机']]"
     },
     "execution_count": 46,
     "metadata": {},
     "output_type": "execute_result"
    }
   ],
   "source": [
    "z = df_PM_gz['job.labels'].apply(lambda x:eval(x)).tolist()\n",
    "z"
   ],
   "metadata": {
    "collapsed": false
   }
  },
  {
   "cell_type": "code",
   "execution_count": 49,
   "outputs": [
    {
     "data": {
      "text/plain": "10"
     },
     "execution_count": 49,
     "metadata": {},
     "output_type": "execute_result"
    }
   ],
   "source": [
    "len(z[0])"
   ],
   "metadata": {
    "collapsed": false
   }
  },
  {
   "cell_type": "code",
   "execution_count": 50,
   "outputs": [
    {
     "data": {
      "text/plain": "'数据产品'"
     },
     "execution_count": 50,
     "metadata": {},
     "output_type": "execute_result"
    }
   ],
   "source": [
    "z[0][0]"
   ],
   "metadata": {
    "collapsed": false
   }
  },
  {
   "cell_type": "code",
   "execution_count": 55,
   "outputs": [
    {
     "data": {
      "text/plain": "[['1', '2'], ['1'], ['1', '2', '3']]"
     },
     "execution_count": 55,
     "metadata": {},
     "output_type": "execute_result"
    }
   ],
   "source": [
    "hha = [['1','2'],['1'],['1','2','3']]\n",
    "hha\n"
   ],
   "metadata": {
    "collapsed": false
   }
  },
  {
   "cell_type": "code",
   "execution_count": 56,
   "outputs": [],
   "source": [
    "tt_list = []\n",
    "for i in range(len(hha)):\n",
    "    if len(hha[i]) >=2:\n",
    "        tt_list.append(hha[i])"
   ],
   "metadata": {
    "collapsed": false
   }
  },
  {
   "cell_type": "code",
   "execution_count": 57,
   "outputs": [
    {
     "data": {
      "text/plain": "[['1', '2'], ['1', '2', '3']]"
     },
     "execution_count": 57,
     "metadata": {},
     "output_type": "execute_result"
    }
   ],
   "source": [
    "tt_list"
   ],
   "metadata": {
    "collapsed": false
   }
  },
  {
   "cell_type": "code",
   "execution_count": 58,
   "outputs": [
    {
     "name": "stdout",
     "output_type": "stream",
     "text": [
      "0\n",
      "1\n",
      "2\n",
      "3\n"
     ]
    }
   ],
   "source": [
    "for j in range(4):\n",
    "    print(j)"
   ],
   "metadata": {
    "collapsed": false
   }
  },
  {
   "cell_type": "code",
   "execution_count": 65,
   "outputs": [],
   "source": [
    "sss_list = [['测试，测试']]\n",
    "for j in range(len(tt_list)):\n",
    "    for s in range(len(tt_list[j])):\n",
    "        ttt_list = [tt_list[j][0],tt_list[j][s]]\n",
    "        sss_list.append(ttt_list)"
   ],
   "metadata": {
    "collapsed": false
   }
  },
  {
   "cell_type": "code",
   "execution_count": 66,
   "outputs": [
    {
     "data": {
      "text/plain": "[['测试，测试'], ['1', '1'], ['1', '2'], ['1', '1'], ['1', '2'], ['1', '3']]"
     },
     "execution_count": 66,
     "metadata": {},
     "output_type": "execute_result"
    }
   ],
   "source": [
    "sss_list"
   ],
   "metadata": {
    "collapsed": false
   }
  },
  {
   "cell_type": "code",
   "execution_count": 71,
   "outputs": [
    {
     "data": {
      "text/plain": "10"
     },
     "execution_count": 71,
     "metadata": {},
     "output_type": "execute_result"
    }
   ],
   "source": [
    "len(df_PM_gz['job.labels'].apply(lambda x:eval(x)).tolist()[0])"
   ],
   "metadata": {
    "collapsed": false
   }
  },
  {
   "cell_type": "code",
   "execution_count": null,
   "outputs": [],
   "source": [
    "ss_list = []"
   ],
   "metadata": {
    "collapsed": false
   }
  },
  {
   "cell_type": "code",
   "execution_count": 86,
   "id": "d607c892",
   "metadata": {},
   "outputs": [],
   "source": [
    "s_list = [['数据开发','数据清洗']]\n",
    "for i in range(len(df_PM_gz['job.labels'])):\n",
    "    if len(df_PM_gz['job.labels'].apply(lambda x:eval(x)).tolist()) >= 2:\n",
    "        s_list.append(df_PM_gz['job.labels'].apply(lambda x:eval(x)).tolist()[i])"
   ]
  },
  {
   "cell_type": "code",
   "execution_count": 87,
   "outputs": [],
   "source": [
    "new_s_list = []\n",
    "for item in s_list:\n",
    "    if item != []:\n",
    "        new_s_list.append(item)"
   ],
   "metadata": {
    "collapsed": false
   }
  },
  {
   "cell_type": "code",
   "execution_count": 88,
   "outputs": [
    {
     "data": {
      "text/plain": "[['数据开发', '数据清洗'],\n ['数据产品',\n  '工具产品',\n  'CRM系统',\n  'to B',\n  '产品规划',\n  '产品优化',\n  '产品设计',\n  '用户研究',\n  '数据分析',\n  'Axure'],\n ['英语',\n  '市场推广',\n  '市场拓展',\n  '渠道策划',\n  '市场策划',\n  '市场调研分析',\n  '乙方公司背景',\n  'to B',\n  '大客户',\n  '无销售性质'],\n ['口腔健康',\n  '口腔护理',\n  '产品推广',\n  '方案设计',\n  '产品策划',\n  '研讨会',\n  '技术支持',\n  '英语可作工作语言',\n  'PPT',\n  '数据分析'],\n ['金融产品', '保险行业', '产品规划', '团队管理', '数据分析'],\n ['中央市场产品经理经验'],\n ['神外', '医生'],\n ['渠道销售', '销售管理', '客户管理'],\n ['招商产品经理'],\n ['产品经理', '车身电子模块'],\n ['O2O'],\n ['产品策略', '爆品', '母婴', '美妆', '产品策划', '电商'],\n ['AIGC', 'AI产品'],\n ['b端产品', '用户增长', '策略产品', '数据分析', '内容产品', 'C端产品', '增长黑客', '私域增长', '新零售'],\n ['商品管理', '产品企划', '商品运营'],\n ['内容产品',\n  '策略产品',\n  'IT互联网',\n  '消费品',\n  '产品优化',\n  '产品规划',\n  '小程序产品',\n  '产品设计',\n  '数据分析',\n  '竞品分析'],\n ['口腔健康',\n  '口腔护理',\n  '产品推广',\n  '方案设计',\n  '产品策划',\n  '研讨会',\n  '技术支持',\n  '英语可作工作语言',\n  'PPT',\n  '数据分析'],\n ['泌尿外科'],\n ['拓展培训', '市场洞察', '销售管理', '团队管理', '出差'],\n ['to B', '产品规划', '产品设计'],\n ['CRM软件',\n  '信息化项目',\n  '软件行业',\n  '售前支持',\n  '批发/零售',\n  '咨询项目',\n  '化工行业',\n  '服务业',\n  'IT/互联网/软件',\n  'CRM系统'],\n ['品牌策划'],\n ['数据产品',\n  '供应链产品',\n  '电商产品',\n  '后台产品',\n  '交易产品',\n  '批发/零售',\n  '物流快递',\n  'IT互联网',\n  '交通/运输/物流',\n  '产品设计'],\n ['临床试验', '临床项目管理', 'GCP认证', 'CE认证'],\n ['axure', 'visio', 'powerpoint', 'word', 'Excel'],\n ['AI人工智能产品',\n  '安全产品',\n  '金融产品',\n  '硬件产品',\n  'IT互联网',\n  '智慧城市',\n  '金融理财/贷款',\n  '教育行业',\n  'to G',\n  'to B'],\n ['硬件产品',\n  'AI人工智能产品',\n  '数据产品',\n  '硬件系统集成',\n  '计算机软件',\n  '人工智能',\n  '金融行业',\n  '产品规划',\n  '团队管理',\n  '产品优化'],\n ['安防行业'],\n ['电商产品', '策略产品', '跨境电商', 'Axure', '产品规划'],\n ['产品规划',\n  '电子商务',\n  '电子/半导体/集成电路',\n  'to C',\n  '市场调研',\n  '需求分析',\n  '用户研究',\n  '流程设计',\n  '产品优化',\n  '团队管理'],\n ['数据分析'],\n ['工具产品', '社区产品'],\n ['平台产品', '消费品', '产品规划', '产品设计', '需求分析', '流程设计', '用户研究', '产品优化'],\n ['计算机软件', 'to B', '原型设计', '需求分析', '产品设计', '建筑软件', '建筑信息化', '建筑行业', 'web端产品'],\n ['AI人工智能产品',\n  '硬件产品',\n  '人工智能',\n  'IT互联网',\n  '硬件系统集成',\n  '智能硬件',\n  '产品设计',\n  '产品规划',\n  '用户研究',\n  '团队管理'],\n ['产品开发', '休闲食品', '保健食品'],\n ['人工智能',\n  'IT互联网',\n  '产品优化',\n  '产品规划',\n  '数据分析',\n  'Axure',\n  '需求管理',\n  '流程设计',\n  'Xmind',\n  '团队管理'],\n ['医药行业'],\n ['数据产品', 'AI人工智能产品', '产品规划', '需求调研', '产品设计'],\n ['活动策划', '市场推广', '效果评估', '市场调研分析'],\n ['消化线', '产品经理'],\n ['Xmind', 'Axure', 'CRM产品', 'SaaS产品'],\n ['原型设计', '需求调研', '产品规划', '需求管理'],\n ['海外', '手游', '电商'],\n ['excel', 'word'],\n ['电子产品及配件', '智能硬件', '产品规划', '用户研究', '产品优化', '团队管理', '产品设计', '数据分析'],\n ['画像产品',\n  '策略产品',\n  '数据产品',\n  '定价/竞价产品',\n  '化妆品',\n  '家电行业',\n  '产品优化',\n  '产品规划',\n  '市场调研',\n  '用户研究'],\n ['后台产品', '客户端产品', 'to B', '需求分析', '产品设计', '产品规划', '团队管理', 'Axure', '墨刀'],\n ['电商产品', '供应链产品', '跨境电商', '电子商务', '产品优化', '产品规划', '团队管理'],\n ['数据产品',\n  '平台产品',\n  '交通/运输',\n  '信息安全',\n  '数据分析',\n  '产品规划',\n  'Axure',\n  'Visio',\n  'MindManager'],\n ['社交产品', '社交网络', '电子商务', '小程序产品', '移动端产品', '产品规划'],\n ['电商产品',\n  '数据产品',\n  '商业产品',\n  '策略产品',\n  '物流快递',\n  '交通/运输/物流',\n  'IT互联网',\n  '电子商务',\n  '产品设计',\n  '产品规划'],\n ['售后服务'],\n ['跨境电商', 'ERP系统', '数据分析', '需求分析', 'ERP产品', '供应链产品', 'to B', '数字化转型'],\n ['跨境电商'],\n ['电子商务',\n  '团队管理',\n  '需求分析',\n  '市场调研',\n  '供应链产品',\n  'to C',\n  '用户研究',\n  '竞品分析',\n  '产品规划',\n  '电商产品'],\n ['IT互联网', '用户研究'],\n ['售前产品经理', '无线通信方向'],\n ['社交产品',\n  '海外产品',\n  '移动端产品',\n  '产品规划',\n  '竞品分析',\n  '需求分析',\n  '用户研究',\n  '市场调研',\n  '产品设计',\n  '原型设计'],\n ['化学', '数据库构建', '信息技术', '数据科学'],\n ['产品经理 相机 ', '摄像机']]"
     },
     "execution_count": 88,
     "metadata": {},
     "output_type": "execute_result"
    }
   ],
   "source": [
    "new_s_list"
   ],
   "metadata": {
    "collapsed": false
   }
  },
  {
   "cell_type": "code",
   "execution_count": 95,
   "outputs": [
    {
     "name": "stdout",
     "output_type": "stream",
     "text": [
      "j0s0\n",
      "j0s1\n",
      "j1s0\n",
      "j1s1\n",
      "j1s2\n",
      "j1s3\n",
      "j1s4\n",
      "j1s5\n",
      "j1s6\n",
      "j1s7\n",
      "j1s8\n",
      "j1s9\n",
      "j2s0\n",
      "j2s1\n",
      "j2s2\n",
      "j2s3\n",
      "j2s4\n",
      "j2s5\n",
      "j2s6\n",
      "j2s7\n",
      "j2s8\n",
      "j2s9\n",
      "j3s0\n",
      "j3s1\n",
      "j3s2\n",
      "j3s3\n",
      "j3s4\n",
      "j3s5\n",
      "j3s6\n",
      "j3s7\n",
      "j3s8\n",
      "j3s9\n",
      "j4s0\n",
      "j4s1\n",
      "j4s2\n",
      "j4s3\n",
      "j4s4\n",
      "j5s0\n",
      "j6s0\n",
      "j6s1\n",
      "j7s0\n",
      "j7s1\n",
      "j7s2\n",
      "j8s0\n",
      "j9s0\n",
      "j9s1\n",
      "j10s0\n",
      "j11s0\n",
      "j11s1\n",
      "j11s2\n",
      "j11s3\n",
      "j11s4\n",
      "j11s5\n",
      "j12s0\n",
      "j12s1\n",
      "j13s0\n",
      "j13s1\n",
      "j13s2\n",
      "j13s3\n",
      "j13s4\n",
      "j13s5\n",
      "j13s6\n",
      "j13s7\n",
      "j13s8\n",
      "j14s0\n",
      "j14s1\n",
      "j14s2\n",
      "j15s0\n",
      "j15s1\n",
      "j15s2\n",
      "j15s3\n",
      "j15s4\n",
      "j15s5\n",
      "j15s6\n",
      "j15s7\n",
      "j15s8\n",
      "j15s9\n",
      "j16s0\n",
      "j16s1\n",
      "j16s2\n",
      "j16s3\n",
      "j16s4\n",
      "j16s5\n",
      "j16s6\n",
      "j16s7\n",
      "j16s8\n",
      "j16s9\n",
      "j17s0\n",
      "j18s0\n",
      "j18s1\n",
      "j18s2\n",
      "j18s3\n",
      "j18s4\n",
      "j19s0\n",
      "j19s1\n",
      "j19s2\n",
      "j20s0\n",
      "j20s1\n",
      "j20s2\n",
      "j20s3\n",
      "j20s4\n",
      "j20s5\n",
      "j20s6\n",
      "j20s7\n",
      "j20s8\n",
      "j20s9\n",
      "j21s0\n",
      "j22s0\n",
      "j22s1\n",
      "j22s2\n",
      "j22s3\n",
      "j22s4\n",
      "j22s5\n",
      "j22s6\n",
      "j22s7\n",
      "j22s8\n",
      "j22s9\n",
      "j23s0\n",
      "j23s1\n",
      "j23s2\n",
      "j23s3\n",
      "j24s0\n",
      "j24s1\n",
      "j24s2\n",
      "j24s3\n",
      "j24s4\n",
      "j25s0\n",
      "j25s1\n",
      "j25s2\n",
      "j25s3\n",
      "j25s4\n",
      "j25s5\n",
      "j25s6\n",
      "j25s7\n",
      "j25s8\n",
      "j25s9\n",
      "j26s0\n",
      "j26s1\n",
      "j26s2\n",
      "j26s3\n",
      "j26s4\n",
      "j26s5\n",
      "j26s6\n",
      "j26s7\n",
      "j26s8\n",
      "j26s9\n",
      "j27s0\n",
      "j28s0\n",
      "j28s1\n",
      "j28s2\n",
      "j28s3\n",
      "j28s4\n",
      "j29s0\n",
      "j29s1\n",
      "j29s2\n",
      "j29s3\n",
      "j29s4\n",
      "j29s5\n",
      "j29s6\n",
      "j29s7\n",
      "j29s8\n",
      "j29s9\n",
      "j30s0\n",
      "j31s0\n",
      "j31s1\n",
      "j32s0\n",
      "j32s1\n",
      "j32s2\n",
      "j32s3\n",
      "j32s4\n",
      "j32s5\n",
      "j32s6\n",
      "j32s7\n",
      "j33s0\n",
      "j33s1\n",
      "j33s2\n",
      "j33s3\n",
      "j33s4\n",
      "j33s5\n",
      "j33s6\n",
      "j33s7\n",
      "j33s8\n",
      "j34s0\n",
      "j34s1\n",
      "j34s2\n",
      "j34s3\n",
      "j34s4\n",
      "j34s5\n",
      "j34s6\n",
      "j34s7\n",
      "j34s8\n",
      "j34s9\n",
      "j35s0\n",
      "j35s1\n",
      "j35s2\n",
      "j36s0\n",
      "j36s1\n",
      "j36s2\n",
      "j36s3\n",
      "j36s4\n",
      "j36s5\n",
      "j36s6\n",
      "j36s7\n",
      "j36s8\n",
      "j36s9\n",
      "j37s0\n",
      "j38s0\n",
      "j38s1\n",
      "j38s2\n",
      "j38s3\n",
      "j38s4\n",
      "j39s0\n",
      "j39s1\n",
      "j39s2\n",
      "j39s3\n",
      "j40s0\n",
      "j40s1\n",
      "j41s0\n",
      "j41s1\n",
      "j41s2\n",
      "j41s3\n",
      "j42s0\n",
      "j42s1\n",
      "j42s2\n",
      "j42s3\n",
      "j43s0\n",
      "j43s1\n",
      "j43s2\n",
      "j44s0\n",
      "j44s1\n",
      "j45s0\n",
      "j45s1\n",
      "j45s2\n",
      "j45s3\n",
      "j45s4\n",
      "j45s5\n",
      "j45s6\n",
      "j45s7\n",
      "j46s0\n",
      "j46s1\n",
      "j46s2\n",
      "j46s3\n",
      "j46s4\n",
      "j46s5\n",
      "j46s6\n",
      "j46s7\n",
      "j46s8\n",
      "j46s9\n",
      "j47s0\n",
      "j47s1\n",
      "j47s2\n",
      "j47s3\n",
      "j47s4\n",
      "j47s5\n",
      "j47s6\n",
      "j47s7\n",
      "j47s8\n",
      "j48s0\n",
      "j48s1\n",
      "j48s2\n",
      "j48s3\n",
      "j48s4\n",
      "j48s5\n",
      "j48s6\n",
      "j49s0\n",
      "j49s1\n",
      "j49s2\n",
      "j49s3\n",
      "j49s4\n",
      "j49s5\n",
      "j49s6\n",
      "j49s7\n",
      "j49s8\n",
      "j50s0\n",
      "j50s1\n",
      "j50s2\n",
      "j50s3\n",
      "j50s4\n",
      "j50s5\n",
      "j51s0\n",
      "j51s1\n",
      "j51s2\n",
      "j51s3\n",
      "j51s4\n",
      "j51s5\n",
      "j51s6\n",
      "j51s7\n",
      "j51s8\n",
      "j51s9\n",
      "j52s0\n",
      "j53s0\n",
      "j53s1\n",
      "j53s2\n",
      "j53s3\n",
      "j53s4\n",
      "j53s5\n",
      "j53s6\n",
      "j53s7\n",
      "j54s0\n",
      "j55s0\n",
      "j55s1\n",
      "j55s2\n",
      "j55s3\n",
      "j55s4\n",
      "j55s5\n",
      "j55s6\n",
      "j55s7\n",
      "j55s8\n",
      "j55s9\n",
      "j56s0\n",
      "j56s1\n",
      "j57s0\n",
      "j57s1\n",
      "j58s0\n",
      "j58s1\n",
      "j58s2\n",
      "j58s3\n",
      "j58s4\n",
      "j58s5\n",
      "j58s6\n",
      "j58s7\n",
      "j58s8\n",
      "j58s9\n",
      "j59s0\n",
      "j59s1\n",
      "j59s2\n",
      "j59s3\n",
      "j60s0\n",
      "j60s1\n"
     ]
    }
   ],
   "source": [
    "sss_list = [['测试，测试']]\n",
    "for j in range(len(new_s_list)):\n",
    "    for s in range(len(new_s_list[j])):\n",
    "        print('j'+str(j)+'s'+str(s))\n",
    "        # ttt_list = [tt_list[j][0],tt_list[j][s-1]]\n",
    "        # sss_list.append(ttt_list)"
   ],
   "metadata": {
    "collapsed": false
   }
  },
  {
   "cell_type": "code",
   "execution_count": 31,
   "id": "cdd091f5",
   "metadata": {},
   "outputs": [
    {
     "data": {
      "text/plain": "['客户端产品',\n '工具产品',\n '供应链产品',\n '基金产品',\n 'IT互联网',\n '金融理财/贷款',\n 'to C',\n 'to B',\n '产品设计',\n '移动端产品',\n '英语',\n '市场推广',\n '市场拓展',\n '渠道策划',\n '市场策划',\n '市场调研分析',\n '乙方公司背景',\n 'to B',\n '大客户',\n '无销售性质',\n '数据产品',\n '工具产品',\n '平台产品',\n '科研/技术服务',\n '数据分析',\n 'SQL',\n '竞品分析',\n '中央市场产品经理经验',\n '区域推广经验',\n '神外',\n '医生',\n '化妆品原料',\n '市场推广',\n '产品策划',\n '产品运营',\n '产品规划',\n 'PS',\n 'PPT',\n '研讨会',\n '活性物',\n '护肤品',\n '硬件产品',\n '硬件系统集成',\n '汽车行业',\n '用户研究',\n '产品设计',\n '需求分析',\n '交互设计',\n '市场调研',\n '产品规划',\n '游戏行业',\n '产品设计',\n 'AI人工智能产品',\n 'AI人工智能产品',\n '内容产品',\n '商业产品',\n '人工智能',\n 'to C',\n 'IT互联网',\n 'to G',\n '产品规划',\n '产品设计',\n '需求分析',\n 'b端产品',\n '用户增长',\n '策略产品',\n '数据分析',\n '内容产品',\n 'C端产品',\n '增长黑客',\n '私域增长',\n '新零售',\n '化妆品',\n '消费品',\n '产品开发',\n '产品策略',\n '爆品',\n '母婴',\n '美妆',\n '产品策划',\n '电商',\n '策略产品',\n '平台产品',\n '数据产品',\n '计算机软件',\n '产品优化',\n '团队管理',\n '用户研究',\n '产品设计',\n '数据挖掘',\n '数据分析',\n 'to C',\n '商品管理',\n '产品企划',\n '商品运营',\n '医院器械',\n '泌尿外科',\n 'to C',\n '游戏产品',\n 'MMO游戏',\n '市场营销',\n '产品管理',\n '产品开发',\n 'CRM软件',\n '信息化项目',\n '软件行业',\n '咨询项目',\n '售前支持',\n '服务业',\n '批发/零售',\n 'IT/互联网/软件',\n '化工行业',\n 'CRM系统',\n '市场洞察',\n '拓展培训',\n '团队管理',\n '销售管理',\n '出差',\n '品牌策划',\n '产品优化',\n '二次元在研',\n '项目管理',\n '增长产品',\n '数据分析',\n '临床试验',\n '临床项目管理',\n 'GCP认证',\n 'CE认证',\n 'axure',\n 'visio',\n 'powerpoint',\n 'word',\n 'Excel',\n '包食宿',\n '五险一金',\n '晋升空间大',\n '零食下午茶',\n 'PMP',\n '流程管理',\n '智能硬件',\n '电子产品及配件',\n '产品规划',\n '产品优化',\n '用户研究',\n '团队管理',\n '产品设计',\n '数据分析',\n '数据分析',\n '供应链产品',\n '数据产品',\n '平台产品',\n '中台产品',\n '产品设计',\n '产品规划',\n '团队管理',\n '数据分析',\n '数据建模',\n '需求管理',\n '数据产品',\n '工具产品',\n '电商产品',\n 'to C',\n 'to B',\n '跨境电商',\n '产品设计',\n '用户研究',\n '交互设计',\n 'Axure',\n '流程管理',\n 'PMP',\n '数据产品',\n '食品饮料',\n '消费品',\n '竞品分析',\n '需求调研',\n '市场调研',\n '用户研究',\n '产品规划',\n '团队管理',\n '市场调研/信息整',\n '产品差异化研发/',\n '新品企划/商品管',\n '项目管理',\n '烘焙产品经理',\n '计算机软件',\n 'to B',\n '原型设计',\n '需求分析',\n '产品设计',\n '建筑软件',\n '建筑信息化',\n '建筑行业',\n 'web端产品',\n 'AI人工智能产品',\n '硬件产品',\n '人工智能',\n 'IT互联网',\n '硬件系统集成',\n '智能硬件',\n '产品设计',\n '产品规划',\n '用户研究',\n '团队管理',\n 'CRM',\n '新零售',\n '电子商务',\n 'CRM',\n '新零售',\n '电子商务',\n 'excel',\n 'word',\n '原型设计',\n '需求调研',\n '产品规划',\n '需求管理',\n '海外',\n '手游',\n '电商',\n '金融产品',\n 'to B',\n 'to C',\n '工具产品',\n '墨刀',\n 'Visio',\n 'Axure',\n '金融行业',\n 'to B',\n '用户研究',\n '需求分析',\n 'Xmind',\n '金融产品',\n '金融行业',\n '证券业',\n '期货证券',\n '需求管理',\n '团队管理',\n '数据产品',\n '平台产品',\n '信息安全',\n '交通/运输',\n '数据分析',\n 'Axure',\n '产品规划',\n 'MindManager',\n 'Visio',\n '证券业',\n '金融行业',\n '数据产品',\n '中台产品',\n 'to B',\n '产品规划',\n '需求分析',\n '用户研究',\n '金融产品',\n '内容产品',\n '供应链产品',\n '用户研究',\n '产品设计',\n '原型设计',\n '流程设计',\n '市场调研',\n '产品规划',\n '团队管理',\n '电商产品',\n '画像产品',\n 'IT互联网',\n '电子商务',\n '产品设计',\n '移动端产品',\n '用户研究',\n '产品优化',\n '需求管理',\n '交互设计',\n '金融行业',\n '产品设计',\n '需求分析',\n 'to B',\n '金融产品',\n '固收',\n '估值',\n '交易产品',\n '风控产品',\n '售后服务',\n '策略产品',\n '化妆品',\n '团队管理',\n '产品优化',\n '产品规划',\n '产品设计',\n '医药企业',\n '连锁',\n '敏捷管理',\n '流程管理',\n '项目管理师',\n 'PMP',\n 'PMP项目管理认证',\n '金融产品',\n '交易产品',\n '工具产品',\n '金融行业',\n '需求分析',\n '产品规划',\n '产品设计',\n '数据分析',\n '团队管理',\n '生物医药',\n '分析生物学',\n '体外诊断产品',\n '游戏',\n '5G行业',\n '应急行业',\n '能源行业',\n '电力',\n '广电行业',\n '通讯/网络设备',\n '需求分析',\n '用户研究',\n '固定收益',\n '固收系统',\n '产品规划',\n '产品优化',\n '产品设计',\n '数据分析',\n '课程产品',\n '供应链产品',\n '交通/运输/物流',\n '供应链仓储',\n '售前产品经理',\n '无线通信方向',\n 'axure',\n 'xmind',\n 'b端产品',\n '需求分析',\n '采购',\n '订单管理',\n '订单履约',\n '硬件产品',\n '硬件系统集成',\n '智能硬件',\n '用户研究',\n '产品设计',\n '产品规划',\n '竞品分析',\n '电商产品',\n '后台产品',\n '中台产品',\n '交易产品',\n 'AI人工智能产品',\n 'CRM系统',\n '人工智能',\n '电子商务',\n '产品优化',\n '产品设计',\n '商业产品',\n '产品规划',\n '产品设计',\n '数据分析',\n '新零售',\n '生活服务',\n 'to B',\n '硬件产品',\n '硬件系统集成',\n '产品规划',\n '电商产品',\n '后台产品',\n '交易产品',\n '中台产品',\n 'AI人工智能产品',\n 'CRM系统',\n '电子商务',\n '人工智能',\n '产品优化',\n '产品设计',\n '宠物电子',\n '个人护理',\n '美容仪',\n '桌面办公',\n '平板',\n '消费电子',\n '交易产品',\n '投资产品',\n '金融行业',\n '产品规划',\n '产品设计',\n '需求管理',\n '竞品分析',\n 'to B',\n '需求分析',\n '需求调研',\n '数据分析',\n 'PMP',\n 'AI人工智能产品',\n '商业产品',\n '人工智能',\n '产品规划',\n '需求管理',\n '产品设计',\n '产品优化',\n '数据分析',\n '团队管理',\n '旅游产品',\n 'to C',\n 'OTA',\n '英文',\n '供应链产品',\n '电子商务',\n 'to B',\n 'Visio',\n 'Axure',\n '产品设计',\n '工具产品',\n '需求挖掘',\n '原型设计',\n '产品规划',\n '摄像机',\n '相机',\n '安防机',\n '影像设备',\n '电商产品经理 ',\n 'ERP产品经理',\n '跨境电商行业',\n '社交产品',\n '海外产品',\n '移动端产品',\n '产品规划',\n '竞品分析',\n '需求分析',\n '用户研究',\n '市场调研',\n '产品设计',\n '原型设计',\n '电商产品',\n '跨境电商',\n '电子商务',\n '团队管理',\n '产品设计',\n 'to B',\n '数据产品',\n '硬件产品',\n 'to B',\n '产品设计',\n 'axure',\n 'visio',\n 'ppt',\n '需求分析',\n 'ppt',\n '架构设计',\n 'axure',\n 'visio',\n 'xmind',\n '数据分析',\n '商业产品',\n '计算机软件',\n '产品规划',\n '用户研究',\n '产品设计',\n '产品设计',\n '需求分析',\n '产品规划',\n '云平台',\n '软硬件集成',\n '从0到1的规划产品',\n 'ppt',\n 'axure',\n 'visio',\n '硬件产品',\n '数据分析',\n 'axure',\n 'visio',\n 'xmind',\n '产品分析',\n '产品设计',\n '产品开发',\n '产品推广',\n '产品优化',\n '原型设计',\n '需求调研',\n '产品规划',\n '产品设计',\n '硬件产品',\n '智慧城市',\n '医疗行业',\n '房地产行业',\n '通讯/网络设备',\n '计算机软件',\n '用户研究',\n 'Axure',\n '产品设计',\n '产品规划',\n '汽车行业',\n '智能座舱',\n '车联网',\n 'IT互联网',\n 'SaaS系统',\n '通讯/网络设备',\n '产品规划',\n '产品设计',\n '移动端产品',\n 'Axure',\n '用户研究',\n '需求调研',\n '市场调研',\n '风控产品',\n '策略产品',\n '金融产品',\n '投资产品',\n '金融行业',\n '金融理财/贷款',\n '需求分析',\n '产品设计',\n '产品优化',\n '团队管理',\n 'IT互联网',\n '智能硬件',\n '汽车行业',\n '房地产行业',\n '用户研究',\n '产品规划',\n '产品设计',\n '医疗',\n '大健康',\n '慢病',\n '治未病',\n '专科医生',\n '执业医师证',\n '医学产品',\n '工具产品',\n '商业产品',\n '策略产品',\n 'to C',\n '团队管理',\n '产品优化',\n '交互设计',\n '产品规划',\n '产品设计',\n '工具产品',\n 'OA产品',\n '财务产品',\n '供应链产品',\n 'IT互联网',\n '产品设计',\n '用户研究',\n '交互设计',\n '产品规划',\n '需求分析',\n '后台产品',\n '制造业',\n '需求分析',\n '产品规划',\n '产品设计',\n '需求管理',\n 'CRM产品',\n 'to B',\n '原型设计',\n '流程设计',\n 'IT互联网',\n '产品规划',\n '产品设计',\n 'Axure',\n '需求调研',\n '需求分析',\n '市场调研',\n '竞品分析',\n '用户研究',\n '工具产品',\n '财务产品',\n '资讯产品',\n '供应链产品',\n '医疗行业',\n '医院',\n 'IT互联网',\n '产品设计',\n '用户研究',\n '产品规划',\n '电子商务',\n '家具设计',\n '产品规划',\n '欧美风格',\n '轻奢风格',\n '实木家具',\n '板木家具',\n '软体家具',\n 'SaaS系统',\n '通讯/网络设备',\n 'IT互联网',\n '产品规划',\n '产品设计',\n '需求分析',\n '竞品分析',\n '需求调研',\n '移动端产品',\n 'Axure',\n '信号测量',\n '雷达配套',\n '无线通信',\n '仪器设备',\n '传感器',\n '模拟芯片',\n '数字芯片',\n '计算机软件',\n '团队管理',\n '后台产品',\n '客户端产品',\n '平台产品',\n '策略产品',\n '数据产品',\n '团队管理',\n '数据分析',\n '工具产品',\n '移动端产品',\n '数据产品经理',\n '数据可视化',\n '大数据平台',\n 'OA产品',\n 'OA系统',\n '产品规划',\n 'MindManager',\n '市场调研',\n 'Visio',\n '需求调研',\n 'Axure',\n '产品优化',\n '产品设计',\n '客户端产品',\n '数据产品',\n 'IT互联网',\n '产品优化',\n '用户研究',\n '团队管理',\n '数据分析',\n '产品设计',\n '产品规划',\n '需求管理',\n '工具产品',\n '商业化产品',\n '数据产品',\n 'b端产品',\n '内容产品',\n '产品设计',\n '供应商管理',\n 'to B',\n '采购',\n '产品设计',\n '支付产品',\n '工具产品',\n '供应链产品',\n '产品规划',\n '产品设计',\n '需求分析',\n '数据分析',\n '财务产品',\n 'to B',\n '策略产品',\n '团队管理',\n '用户研究',\n '产品设计',\n '数据产品',\n '用户研究',\n '产品设计',\n '原型设计',\n '市场调研',\n '数据分析',\n 'IT产品经理',\n '电商产品经理',\n '信息化系统建设',\n '流程设计',\n '业务需求分析',\n '产品设计',\n '需求分析',\n '跨境电商',\n 'ERP系统',\n 'to C',\n '供应链产品',\n '产品经理',\n 'B端产品经理',\n '工业互联网',\n '产品规划',\n '产品设计',\n '通讯/网络设备',\n '计算机软件',\n 'to C',\n 'IT互联网',\n 'to B',\n '消费品',\n '产品设计',\n '用户研究',\n '产品规划',\n '需求挖掘',\n '平台产品',\n '消费品',\n '团队管理',\n '用户研究',\n '需求管理',\n '产品优化',\n '产品设计',\n '市场调研',\n '数据分析',\n '平台产品',\n '客户端产品',\n '数据产品',\n 'IT互联网',\n '团队管理',\n '产品设计',\n '用户研究',\n '产品优化',\n '产品规划',\n '市场调研',\n '智能载荷',\n '视觉感知系统',\n '无人驾驶',\n '电子商务',\n '竞品分析',\n '产品优化',\n 'SaaS产品',\n 'SaaS系统',\n '产品设计',\n '产品规划',\n '用户研究',\n '流程设计',\n '原型设计',\n '产品优化',\n '供应链产品',\n '定价/竞价产品',\n '数据产品',\n 'IT互联网',\n '产品设计',\n '产品规划',\n '原型设计',\n '用户研究',\n '交互设计',\n '竞品分析',\n 'AI人工智能产品',\n '数据产品',\n '中台产品',\n '人工智能',\n 'IT互联网',\n '团队管理',\n '用户研究',\n '产品设计',\n '产品优化',\n '需求分析',\n '策略产品',\n '商业产品',\n 'IT互联网',\n '通讯/网络设备',\n '产品设计',\n '产品规划',\n '市场调研',\n '团队管理',\n '产品优化',\n '用户研究',\n 'ERP系统',\n 'SaaS产品',\n '供应链产品',\n 'ERP产品',\n 'CRM产品',\n 'to B',\n 'web端产品',\n 'IT互联网',\n '电子商务',\n '中台产品',\n '金融行业',\n '投资产品',\n '金融产品',\n '交易产品',\n 'to B',\n 'web端产品',\n '需求分析',\n '数据分析',\n 'Axure',\n 'Xmind',\n '产品经理',\n '国际业务',\n '教育行业',\n '产品优化',\n '产品设计',\n 'AI人工智能产品',\n 'SaaS产品',\n '制造业',\n '产品优化',\n '需求分析',\n 'IT互联网',\n '智能硬件',\n 'to B',\n '平台产品',\n 'IT互联网',\n '产品规划',\n '产品设计',\n '市场调研',\n '需求调研',\n '数据分析',\n '团队管理',\n '投资产品',\n '基金产品',\n '金融理财/贷款',\n '设计服务',\n '基金业务',\n '无人机',\n '无人机载荷',\n '激光雷达',\n '光学相机',\n '产品规划',\n '需求分析',\n '需求调研',\n '医疗行业',\n '产品规划',\n '产品设计',\n 'to B',\n '流程设计',\n '原型设计',\n '需求分析',\n 'SaaS产品',\n '中台产品',\n 'IT互联网',\n '电子商务',\n '交易产品',\n '供应链产品',\n '数据产品',\n '电商产品',\n 'to B',\n 'CRM系统',\n '采购',\n '信息安全',\n '计算机软件',\n 'SaaS系统',\n '金融产品',\n '金融行业',\n '电子产品及配件',\n '产品优化',\n '用户研究',\n '产品规划',\n '平台产品',\n '数据产品',\n '计算机软件',\n '产品设计',\n '产品优化',\n '用户研究',\n '需求挖掘',\n '需求分析',\n '竞品分析',\n '产品规划',\n '财务产品',\n 'AI人工智能产品',\n '用户研究',\n '团队管理',\n '产品优化',\n '产品设计',\n '数据分析',\n '工具产品',\n 'to B',\n '产品规划',\n '产品优化',\n '产品设计',\n '用户研究',\n 'Axure',\n '原型设计',\n '团队管理',\n '数据产品',\n '投资产品',\n '工具产品',\n '金融理财/贷款',\n '设计服务',\n 'to C',\n '产品设计',\n '用户研究',\n '产品规划',\n '数据分析',\n 'OA产品',\n 'IT互联网',\n 'to B',\n '客户端产品',\n '工具产品',\n '计算机软件',\n '产品设计',\n '交互设计',\n '用户研究',\n '原型设计',\n '产品规划',\n 'Axure',\n '市场调研',\n '策略产品',\n 'EHR系统',\n '招聘行业',\n '用户研究',\n '产品规划',\n '市场调研',\n '团队管理',\n '产品优化',\n '产品设计',\n '竞品分析',\n '社交产品',\n '增长产品',\n '数据产品',\n '用户研究',\n '数据分析',\n '数据产品',\n '平台产品',\n '工具产品',\n '人工智能',\n '产品设计',\n '原型设计',\n '社交产品',\n '工具产品',\n '商业产品',\n 'IT互联网',\n '游戏行业',\n '产品设计',\n '社区产品',\n '游戏电竞',\n '海外产品',\n 'to C',\n '游戏行业',\n 'IT互联网',\n '工具产品',\n 'IT互联网',\n '游戏行业',\n '数据分析',\n '用户研究',\n '中台产品',\n '产品规划',\n '产品设计',\n 'to C',\n '用户中心',\n '供应链产品',\n '后台产品',\n '电商产品',\n '工具产品',\n '电子商务',\n '批发/零售',\n '用户研究',\n '产品设计',\n '产品优化',\n 'Axure',\n 'ppt',\n '架构设计',\n 'axure',\n 'visio',\n 'xmind',\n '数据分析',\n '工具产品',\n 'O2O',\n '产品设计',\n 'to C',\n '产品规划',\n '需求分析',\n '交互设计',\n '原型设计',\n '中台产品',\n '增长产品',\n '用户研究',\n 'Axure',\n '交互设计',\n '硬件产品',\n '通讯/网络设备',\n 'to B',\n '产品规划',\n '需求分析',\n '用户研究',\n '产品设计',\n '产品规划',\n '需求管理',\n '需求挖掘',\n '团队管理',\n '交互设计',\n '中药',\n '中成药',\n '零售',\n '连锁',\n '产品推广',\n '产品设计',\n '供应链产品',\n '电商产品',\n 'IT互联网',\n 'O2O',\n '批发/零售',\n '生活服务',\n 'to C',\n '产品规划',\n 'AI人工智能产品',\n '数据产品',\n '中台产品',\n '人工智能',\n 'IT互联网',\n '团队管理',\n '用户研究',\n '产品设计',\n '产品规划',\n '产品优化',\n '产品设计',\n 'TMS',\n '卡运',\n '物流方向',\n '供应链产品',\n '平台产品',\n '工具产品',\n '贸易/进出口',\n 'IT互联网',\n '产品规划',\n '产品设计',\n '用户研究',\n ...]"
     },
     "execution_count": 31,
     "metadata": {},
     "output_type": "execute_result"
    }
   ],
   "source": [
    "# 列表的推导式\n",
    "PM_labels_list = [j     for i in df_PM_gz['job.labels'].apply(lambda x:eval(x)).tolist()       for j in i    ]\n",
    "PM_labels_list"
   ]
  },
  {
   "cell_type": "code",
   "execution_count": 32,
   "id": "41a5b2f5",
   "metadata": {},
   "outputs": [
    {
     "data": {
      "text/plain": "[('设计服务', 3),\n ('家具行业', 1),\n ('铁路', 1),\n ('商家工具产品经理', 1),\n ('销售管理', 1),\n ('深度学习', 1),\n ('CE认证', 1),\n ('美容仪', 1),\n ('医疗器械推广', 1),\n ('教育产品', 1),\n ('推荐产品', 4),\n ('商品中心', 1),\n ('证券业', 2),\n ('商业化产品', 1),\n ('算法模型', 1),\n ('企业服务', 2),\n ('PAAS', 1),\n ('互联网公司背景', 1),\n ('HRIS', 1),\n ('算法/AI编程', 1),\n ('智能座舱', 1),\n ('人力资源服务', 1),\n ('3C数码', 1),\n ('连锁', 2),\n ('Axure', 25),\n ('建筑信息化', 1),\n ('流程管理', 3),\n ('激光雷达', 1),\n ('品牌策划', 1),\n ('IT互联网', 42),\n ('ERP产品', 3),\n ('电商产品', 12),\n ('客户关系管理系统', 1),\n ('AI产品全周期管理', 1),\n ('平台产品', 17),\n ('交互设计', 25),\n ('Xmind', 5),\n ('游戏行业', 6),\n ('仪器设备', 1),\n ('excel', 1),\n ('手游', 1),\n ('无人机载荷', 1),\n ('CRM系统', 7),\n ('软体家具', 1),\n ('人力资源数字化', 1),\n ('画像产品', 1),\n ('风控', 1),\n ('OTA', 1),\n ('物流快递', 4),\n ('市场拓展', 1),\n ('投资产品', 6),\n ('中药领域', 1),\n ('板木家具', 1),\n ('OA系统', 1),\n ('汽车中控', 1),\n ('硬件系统集成', 11),\n ('回归算法', 1),\n ('powerpoint', 1),\n ('云平台', 1),\n ('皮革/纺织/服装', 1),\n ('信息安全', 2),\n ('新品企划/商品管', 1),\n ('ERP系统', 2),\n ('鲲鹏', 1),\n ('咨询项目', 1),\n ('二次元在研', 1),\n ('战略规划咨询', 1),\n ('SQL', 1),\n ('售后服务', 1),\n ('五险一金', 1),\n ('招聘行业', 1),\n ('O2O', 3),\n ('户用储能', 1),\n ('订单履约', 1),\n ('游戏电竞', 1),\n ('5G行业', 1),\n ('专科医生', 1),\n ('供应商管理', 1),\n ('PMP', 4),\n ('私域增长', 1),\n ('SaaS系统', 5),\n ('供应链仓储', 1),\n ('Visio', 10),\n ('库存管理', 1),\n ('AI', 2),\n ('人工智能', 15),\n ('电商产品经理', 1),\n ('数据建模', 2),\n ('需求挖掘', 6),\n ('乙方公司背景', 1),\n ('护肤品', 1),\n ('垂直电商', 1),\n ('学术推广', 1),\n ('机器学习', 2),\n ('软件产品', 1),\n ('无销售性质', 1),\n ('商品运营', 1),\n ('市场调研', 33),\n ('金融产品', 11),\n ('中央市场产品经理经验', 1),\n ('安全产品', 2),\n ('信号测量', 1),\n ('市场洞察', 1),\n ('相机', 1),\n ('风控产品', 2),\n ('用户增长', 1),\n ('开发套件', 1),\n ('神外', 1),\n ('产品分析', 1),\n ('项目统筹', 1),\n ('卡券产品经理', 1),\n ('k12教育', 1),\n ('采购', 7),\n ('支付行业', 2),\n ('B端产品经理', 1),\n ('to B', 42),\n ('轻奢风格', 1),\n ('社区产品', 1),\n ('业务需求分析', 1),\n ('ERP产品经理', 1),\n ('出差', 1),\n ('母婴类', 1),\n ('项目管理', 3),\n ('产品策划', 3),\n ('课程产品', 1),\n ('物业服务', 1),\n ('visio', 7),\n ('VR/AR', 1),\n ('消费品', 10),\n ('中药产品经理', 1),\n ('数字芯片', 1),\n ('数据治理', 1),\n ('软件行业', 1),\n ('aPAAS', 1),\n ('项目管理师', 1),\n ('教学管理', 1),\n ('市场策划', 1),\n ('英语', 1),\n ('智慧城市', 1),\n ('移动端产品', 12),\n ('SaaS产品', 6),\n ('计算机软件', 20),\n ('交通/运输', 1),\n ('保健品', 1),\n ('需求管理', 18),\n ('实操算法', 1),\n ('xmind', 5),\n ('康复医疗器械', 1),\n ('国产化', 1),\n ('新零售', 6),\n ('实木家具', 1),\n ('建筑行业', 1),\n ('售前产品经理', 1),\n ('电力', 2),\n ('直播/视频产品', 4),\n ('办公会议', 1),\n ('烘焙产品经理', 1),\n ('产品企划', 1),\n ('OA产品', 5),\n ('产品规划', 128),\n ('临床项目管理', 1),\n ('建筑软件', 1),\n ('资讯产品', 1),\n ('ppt', 4),\n ('中成药', 1),\n ('固收', 1),\n ('制造业', 4),\n ('期货证券', 1),\n ('电子商务', 20),\n ('OTC产品经理', 1),\n ('数据挖掘', 2),\n ('后台产品', 9),\n ('欧美风格', 1),\n ('产品市场', 1),\n ('固收系统', 1),\n ('TMS', 1),\n ('零售产品经理', 3),\n ('化妆品原料', 1),\n ('交通/运输/物流', 3),\n ('产品差异化研发/', 1),\n ('IOT', 1),\n ('音视频产品', 1),\n ('医疗产品经理', 1),\n ('拓展培训', 1),\n ('生物医药', 1),\n ('PCR 临床产品推广', 1),\n ('财务/审计/税务', 1),\n ('服务器产品', 1),\n ('PPT', 1),\n ('彩妆产品', 1),\n ('人工智能模型', 1),\n ('能源行业', 1),\n ('碳排放', 1),\n ('推荐算法', 2),\n ('宠物电子', 1),\n ('基金产品', 3),\n ('数据分析', 54),\n ('集控物联网', 1),\n ('电视', 1),\n ('应急行业', 1),\n ('交通/物流/贸易', 1),\n ('服装服饰', 1),\n ('产品培训', 2),\n ('汽车零部件', 1),\n ('零售', 1),\n ('美妆', 1),\n ('商品管理', 1),\n ('PS', 1),\n ('产品经理', 6),\n ('音乐行业', 2),\n ('需求确认', 1),\n ('零食下午茶', 1),\n ('增长黑客', 1),\n ('电商产品经理 ', 1),\n ('经销渠道管理', 1),\n ('医疗行业', 4),\n ('估值', 1),\n ('支付产品', 3),\n ('医院器械', 1),\n ('GCP认证', 1),\n ('国际快递', 1),\n ('硬件产品', 15),\n ('光学相机', 1),\n ('美居生活', 1),\n ('电子产品及配件', 2),\n ('雷达配套', 1),\n ('绿色能源', 1),\n ('泌尿外科', 1),\n ('金融理财/贷款', 5),\n ('区域推广经验', 1),\n ('EHR系统', 1),\n ('安防机', 1),\n ('软件产品经理', 1),\n ('笔记本', 1),\n ('市场数据分析', 1),\n ('软硬件集成', 1),\n ('ODM/OEM管理', 1),\n ('药品产品经理', 2),\n ('医药企业', 1),\n ('数据可视化', 1),\n ('影像设备', 1),\n ('增长产品', 9),\n ('国际业务', 1),\n ('服装/纺织/皮革', 1),\n ('HRM系统', 1),\n ('产品管理', 1),\n ('英文', 1),\n ('中期开发迭代', 1),\n ('IT/互联网/软件', 1),\n ('EHS系统', 1),\n ('保险行业', 1),\n ('墨刀', 1),\n ('慢病', 1),\n ('金融行业B端产品经', 1),\n ('智慧课堂', 1),\n ('无人机', 1),\n ('大数据领域', 1),\n ('临床试验', 1),\n ('AIOT', 1),\n ('化妆品', 2),\n ('财务产品', 4),\n ('医药行业销售', 1),\n ('市场营销', 1),\n ('医疗', 1),\n ('CRM产品', 5),\n ('e2e ', 1),\n ('工艺品/收藏品', 1),\n ('无线通信方向', 1),\n ('传感器', 1),\n ('广电行业', 1),\n ('生活服务', 2),\n ('需求分析', 59),\n ('数据中台', 1),\n ('工业互联网', 2),\n ('整机产品', 1),\n ('金融行业', 11),\n ('交易产品', 8),\n ('治未病', 1),\n ('管理经验', 1),\n ('产品推广', 5),\n ('产品开发', 4),\n ('B端', 1),\n ('信息化系统建设', 1),\n ('医疗器械', 1),\n ('大数据平台', 2),\n ('word', 2),\n ('IT产品经理', 1),\n ('科研/技术服务', 1),\n ('计算产品', 1),\n ('商家平台产品经理', 1),\n ('MMO游戏', 1),\n ('应用场景设计', 1),\n ('市场调研分析', 2),\n ('SCRM', 1),\n ('智能硬件', 10),\n ('高职教育', 1),\n ('大健康', 1),\n ('实业实训', 1),\n ('研讨会', 1),\n ('化工行业', 1),\n ('to G', 2),\n ('产品设计', 126),\n ('视觉感知系统', 1),\n ('跨境电商', 6),\n ('直播', 2),\n ('卡运', 1),\n ('服务业', 1),\n ('贸易/进出口', 2),\n ('imo社交方向', 1),\n ('儿童品类', 1),\n ('批发/零售', 5),\n ('海外', 1),\n ('内容产品', 5),\n ('小程序产品', 1),\n ('物流方向', 1),\n ('渠道策划', 1),\n ('售前支持', 1),\n ('拉新', 1),\n ('MindManager', 3),\n ('电商', 2),\n ('中成药产品经理', 1),\n ('存储产品', 1),\n ('用户研究', 83),\n ('母婴', 1),\n ('汽车行业', 4),\n ('游戏产品', 1),\n ('执业医师证', 1),\n ('教育行业', 5),\n ('固收投研', 1),\n ('物流产品规划', 1),\n ('通讯/网络设备', 7),\n ('axure', 8),\n ('竞品分析', 25),\n ('市场推广', 2),\n ('预测产品', 1),\n ('云计算', 1),\n ('EAM系统', 1),\n ('无线通信', 1),\n ('B端产品', 2),\n ('产品调研', 1),\n ('语音产品', 3),\n ('数据产品', 51),\n ('用户中心', 1),\n ('规划', 1),\n ('调度策略产品', 3),\n ('市场调研/信息整', 1),\n ('中药', 3),\n ('车联网', 1),\n ('电网', 1),\n ('AI人工智能产品', 19),\n ('会议平板', 1),\n ('物联网', 1),\n ('中台产品', 15),\n ('低代码', 2),\n ('晋升空间大', 1),\n ('聚合支付', 1),\n ('医学产品', 1),\n ('自动化行业', 1),\n ('游戏', 1),\n ('市场研究', 1),\n ('工具产品', 36),\n ('互联网医疗平台', 1),\n ('人工智能领域', 1),\n ('to C', 28),\n ('架构设计', 3),\n ('光伏逆变器', 1),\n ('跨境电商行业', 1),\n ('从0到1的规划产品', 1),\n ('商业产品', 21),\n ('产品运营', 1),\n ('C端产品', 1),\n ('医院', 2),\n ('活性物', 1),\n ('社区/社交产品', 6),\n ('大客户', 1),\n ('需求说明', 1),\n ('海外产品', 7),\n ('教育白板', 1),\n ('客户端产品', 10),\n ('定价/竞价产品', 6),\n ('分析生物学', 1),\n ('开发工具', 1),\n ('AI产品', 2),\n ('需求调研', 13),\n ('CRM', 2),\n ('智能载荷', 1),\n ('SPSS', 1),\n ('PMP项目管理认证', 1),\n ('模拟芯片', 1),\n ('个人护理', 1),\n ('b端产品', 4),\n ('原型设计', 22),\n ('固定收益', 1),\n ('医药产品经理', 1),\n ('消费者研究', 1),\n ('消费电子', 2),\n ('能源管理', 1),\n ('AI产品方案', 1),\n ('团队管理', 63),\n ('产品优化', 56),\n ('基金业务', 2),\n ('旅游产品', 1),\n ('体外诊断产品', 1),\n ('食品饮料', 1),\n ('搜索产品', 1),\n ('CRM软件', 1),\n ('社交产品', 11),\n ('流程设计', 12),\n ('短视频', 1),\n ('策略产品', 30),\n ('家具设计', 1),\n ('爆品', 1),\n ('无人驾驶', 1),\n ('平板', 2),\n ('房地产行业', 3),\n ('信息化项目', 1),\n ('敏捷管理', 1),\n ('信创', 1),\n ('包食宿', 1),\n ('图文打印/复印', 1),\n ('桌面办公', 1),\n ('订单管理', 1),\n ('产品策略', 1),\n ('数据产品经理', 1),\n ('供应链产品', 28),\n ('摄像机', 1),\n ('Excel', 1),\n ('医生', 1),\n ('智慧园区', 1),\n ('web端产品', 7)]"
     },
     "execution_count": 32,
     "metadata": {},
     "output_type": "execute_result"
    }
   ],
   "source": [
    "# 创建words\n",
    "\n",
    "PM_labels_words = [ (i,PM_labels_list.count(i)) for i in set(PM_labels_list)]\n",
    "PM_labels_words"
   ]
  },
  {
   "cell_type": "code",
   "execution_count": 33,
   "id": "251470c9",
   "metadata": {},
   "outputs": [],
   "source": [
    "# 可视化词云图\n",
    "from pyecharts import options as opts\n",
    "from pyecharts.charts import WordCloud\n",
    "from pyecharts.globals import SymbolType\n",
    "\n",
    "c = (\n",
    "    WordCloud()\n",
    "    .add(\"\", PM_labels_words, word_size_range=[20, 100], shape=SymbolType.DIAMOND)\n",
    "    .set_global_opts(title_opts=opts.TitleOpts(title=\"WordCloud-shape-diamond\"))\n",
    "    .render( key +\"_wordcloud_map_职位标签_\"+ output_time+\".html\")\n",
    ")\n"
   ]
  },
  {
   "cell_type": "markdown",
   "id": "f4a2acfd",
   "metadata": {},
   "source": [
    "## 薪资-（平均薪资）"
   ]
  },
  {
   "cell_type": "code",
   "execution_count": 34,
   "id": "16561a4f",
   "metadata": {
    "scrolled": true
   },
   "outputs": [
    {
     "data": {
      "text/plain": "                                                  职位标签          职位更新时间  \\\n0    ['客户端产品', '工具产品', '供应链产品', '基金产品', 'IT互联网', '金...  20230621091013   \n1                                                   []  20230620093052   \n2                                                   []  20230616103702   \n3    ['英语', '市场推广', '市场拓展', '渠道策划', '市场策划', '市场调研分析...  20230621113158   \n4    ['数据产品', '工具产品', '平台产品', '科研/技术服务', '数据分析', 'S...  20230410215438   \n..                                                 ...             ...   \n395                                                 []  20230621101847   \n396  ['数据产品', '商业产品', '工具产品', '策略产品', '内容产品', 'to C...  20230301163217   \n397                                                 []  20230316172434   \n398                                                 []  20230421144911   \n399                                           ['彩妆产品']  20230621145658   \n\n                              职位          薪资      地区  是否top职位   工作年限     学历  \\\n0               C端高级产品经理(J10043)  15-30k·15薪      广州     True   3-5年     本科   \n1                     项目管理PM(广州)  10-20k·14薪  广州-南沙区     True   3-5年     大专   \n2      Product Marketing Manager  18-25k·14薪  广州-天河区     True  5-10年     硕士   \n3    产品经理（化妆品原料）/Product Manager        薪资面议  广州-天河区    False   3-5年     硕士   \n4            产品经理Product Manager      20-25k  广州-番禺区    False   3-5年     本科   \n..                           ...         ...     ...      ...    ...    ...   \n395                      OTC产品经理      15-18k  广州-白云区    False   3-5年     本科   \n396                    APP高级产品经理  22-35k·14薪  广州-番禺区    False   3-5年     本科   \n397                   产品经理（金融产品）  15-20k·13薪  广州-海珠区    False   3-5年     本科   \n398     电商硬件产品经理（宠物家电/桌面办公-上市集团）  20-30k·13薪  广州-黄埔区    False   3-5年  本科及以上   \n399                       彩妆产品经理      35-50k      广州    False  5-10年   学历不限   \n\n    公司融资情况            公司名称           行业           规模  \n0       B轮            盈米基金     基金/证券/期货     100-499人  \n1      NaN            得意电子  电子/半导体/集成电路     10000人以上  \n2    融资未公开  卡尔蔡司光学(广州)有限公司        批发/零售     500-999人  \n3      NaN            仙婷集团       贸易/进出口       50-99人  \n4      NaN  广州市新目标电子商务有限公司         IT服务     100-499人  \n..     ...             ...          ...          ...  \n395  新三板上市   云南生物谷药业股份有限公司           制药     500-999人  \n396     B轮            探迹科技          互联网   2000-5000人  \n397    NaN          广州乐牛游戏           游戏     500-999人  \n398    已上市       某广州知名上市公司        计算机软件  5000-10000人  \n399  融资未公开        某广州互联网公司          互联网       50-99人  \n\n[400 rows x 12 columns]",
      "text/html": "<div>\n<style scoped>\n    .dataframe tbody tr th:only-of-type {\n        vertical-align: middle;\n    }\n\n    .dataframe tbody tr th {\n        vertical-align: top;\n    }\n\n    .dataframe thead th {\n        text-align: right;\n    }\n</style>\n<table border=\"1\" class=\"dataframe\">\n  <thead>\n    <tr style=\"text-align: right;\">\n      <th></th>\n      <th>职位标签</th>\n      <th>职位更新时间</th>\n      <th>职位</th>\n      <th>薪资</th>\n      <th>地区</th>\n      <th>是否top职位</th>\n      <th>工作年限</th>\n      <th>学历</th>\n      <th>公司融资情况</th>\n      <th>公司名称</th>\n      <th>行业</th>\n      <th>规模</th>\n    </tr>\n  </thead>\n  <tbody>\n    <tr>\n      <th>0</th>\n      <td>['客户端产品', '工具产品', '供应链产品', '基金产品', 'IT互联网', '金...</td>\n      <td>20230621091013</td>\n      <td>C端高级产品经理(J10043)</td>\n      <td>15-30k·15薪</td>\n      <td>广州</td>\n      <td>True</td>\n      <td>3-5年</td>\n      <td>本科</td>\n      <td>B轮</td>\n      <td>盈米基金</td>\n      <td>基金/证券/期货</td>\n      <td>100-499人</td>\n    </tr>\n    <tr>\n      <th>1</th>\n      <td>[]</td>\n      <td>20230620093052</td>\n      <td>项目管理PM(广州)</td>\n      <td>10-20k·14薪</td>\n      <td>广州-南沙区</td>\n      <td>True</td>\n      <td>3-5年</td>\n      <td>大专</td>\n      <td>NaN</td>\n      <td>得意电子</td>\n      <td>电子/半导体/集成电路</td>\n      <td>10000人以上</td>\n    </tr>\n    <tr>\n      <th>2</th>\n      <td>[]</td>\n      <td>20230616103702</td>\n      <td>Product Marketing Manager</td>\n      <td>18-25k·14薪</td>\n      <td>广州-天河区</td>\n      <td>True</td>\n      <td>5-10年</td>\n      <td>硕士</td>\n      <td>融资未公开</td>\n      <td>卡尔蔡司光学(广州)有限公司</td>\n      <td>批发/零售</td>\n      <td>500-999人</td>\n    </tr>\n    <tr>\n      <th>3</th>\n      <td>['英语', '市场推广', '市场拓展', '渠道策划', '市场策划', '市场调研分析...</td>\n      <td>20230621113158</td>\n      <td>产品经理（化妆品原料）/Product Manager</td>\n      <td>薪资面议</td>\n      <td>广州-天河区</td>\n      <td>False</td>\n      <td>3-5年</td>\n      <td>硕士</td>\n      <td>NaN</td>\n      <td>仙婷集团</td>\n      <td>贸易/进出口</td>\n      <td>50-99人</td>\n    </tr>\n    <tr>\n      <th>4</th>\n      <td>['数据产品', '工具产品', '平台产品', '科研/技术服务', '数据分析', 'S...</td>\n      <td>20230410215438</td>\n      <td>产品经理Product Manager</td>\n      <td>20-25k</td>\n      <td>广州-番禺区</td>\n      <td>False</td>\n      <td>3-5年</td>\n      <td>本科</td>\n      <td>NaN</td>\n      <td>广州市新目标电子商务有限公司</td>\n      <td>IT服务</td>\n      <td>100-499人</td>\n    </tr>\n    <tr>\n      <th>...</th>\n      <td>...</td>\n      <td>...</td>\n      <td>...</td>\n      <td>...</td>\n      <td>...</td>\n      <td>...</td>\n      <td>...</td>\n      <td>...</td>\n      <td>...</td>\n      <td>...</td>\n      <td>...</td>\n      <td>...</td>\n    </tr>\n    <tr>\n      <th>395</th>\n      <td>[]</td>\n      <td>20230621101847</td>\n      <td>OTC产品经理</td>\n      <td>15-18k</td>\n      <td>广州-白云区</td>\n      <td>False</td>\n      <td>3-5年</td>\n      <td>本科</td>\n      <td>新三板上市</td>\n      <td>云南生物谷药业股份有限公司</td>\n      <td>制药</td>\n      <td>500-999人</td>\n    </tr>\n    <tr>\n      <th>396</th>\n      <td>['数据产品', '商业产品', '工具产品', '策略产品', '内容产品', 'to C...</td>\n      <td>20230301163217</td>\n      <td>APP高级产品经理</td>\n      <td>22-35k·14薪</td>\n      <td>广州-番禺区</td>\n      <td>False</td>\n      <td>3-5年</td>\n      <td>本科</td>\n      <td>B轮</td>\n      <td>探迹科技</td>\n      <td>互联网</td>\n      <td>2000-5000人</td>\n    </tr>\n    <tr>\n      <th>397</th>\n      <td>[]</td>\n      <td>20230316172434</td>\n      <td>产品经理（金融产品）</td>\n      <td>15-20k·13薪</td>\n      <td>广州-海珠区</td>\n      <td>False</td>\n      <td>3-5年</td>\n      <td>本科</td>\n      <td>NaN</td>\n      <td>广州乐牛游戏</td>\n      <td>游戏</td>\n      <td>500-999人</td>\n    </tr>\n    <tr>\n      <th>398</th>\n      <td>[]</td>\n      <td>20230421144911</td>\n      <td>电商硬件产品经理（宠物家电/桌面办公-上市集团）</td>\n      <td>20-30k·13薪</td>\n      <td>广州-黄埔区</td>\n      <td>False</td>\n      <td>3-5年</td>\n      <td>本科及以上</td>\n      <td>已上市</td>\n      <td>某广州知名上市公司</td>\n      <td>计算机软件</td>\n      <td>5000-10000人</td>\n    </tr>\n    <tr>\n      <th>399</th>\n      <td>['彩妆产品']</td>\n      <td>20230621145658</td>\n      <td>彩妆产品经理</td>\n      <td>35-50k</td>\n      <td>广州</td>\n      <td>False</td>\n      <td>5-10年</td>\n      <td>学历不限</td>\n      <td>融资未公开</td>\n      <td>某广州互联网公司</td>\n      <td>互联网</td>\n      <td>50-99人</td>\n    </tr>\n  </tbody>\n</table>\n<p>400 rows × 12 columns</p>\n</div>"
     },
     "execution_count": 34,
     "metadata": {},
     "output_type": "execute_result"
    }
   ],
   "source": [
    "# columns 重命名\n",
    "df_PM_gz = df_PM_gz.rename(columns={\n",
    "    'job.labels':'职位标签',\n",
    "    'job.refreshTime':'职位更新时间',\n",
    "    'job.title':'职位',\n",
    "    'job.salary':'薪资',\n",
    "    'job.dq':'地区',\n",
    "    'job.topJob':'是否top职位',\n",
    "    'job.requireWorkYears':'工作年限',\n",
    "    'job.requireEduLevel':'学历',\n",
    "    'comp.compStage':'公司融资情况',\n",
    "    'comp.compName':'公司名称',\n",
    "    'comp.compIndustry':'行业',\n",
    "    'comp.compScale':'规模'\n",
    "})\n",
    "df_PM_gz"
   ]
  },
  {
   "cell_type": "code",
   "execution_count": 35,
   "id": "00bdb902",
   "metadata": {
    "scrolled": true
   },
   "outputs": [
    {
     "data": {
      "text/plain": "                                                  职位标签          职位更新时间  \\\n0    ['客户端产品', '工具产品', '供应链产品', '基金产品', 'IT互联网', '金...  20230621091013   \n1                                                   []  20230620093052   \n2                                                   []  20230616103702   \n4    ['数据产品', '工具产品', '平台产品', '科研/技术服务', '数据分析', 'S...  20230410215438   \n5                             ['中央市场产品经理经验', '区域推广经验']  20230624101138   \n..                                                 ...             ...   \n395                                                 []  20230621101847   \n396  ['数据产品', '商业产品', '工具产品', '策略产品', '内容产品', 'to C...  20230301163217   \n397                                                 []  20230316172434   \n398                                                 []  20230421144911   \n399                                           ['彩妆产品']  20230621145658   \n\n                            职位          薪资      地区  是否top职位   工作年限     学历  \\\n0             C端高级产品经理(J10043)  15-30k·15薪      广州     True   3-5年     本科   \n1                   项目管理PM(广州)  10-20k·14薪  广州-南沙区     True   3-5年     大专   \n2    Product Marketing Manager  18-25k·14薪  广州-天河区     True  5-10年     硕士   \n4          产品经理Product Manager      20-25k  广州-番禺区    False   3-5年     本科   \n5                 产品经理PM（化药针剂）  25-30k·14薪      广州    False   经验不限   统招本科   \n..                         ...         ...     ...      ...    ...    ...   \n395                    OTC产品经理      15-18k  广州-白云区    False   3-5年     本科   \n396                  APP高级产品经理  22-35k·14薪  广州-番禺区    False   3-5年     本科   \n397                 产品经理（金融产品）  15-20k·13薪  广州-海珠区    False   3-5年     本科   \n398   电商硬件产品经理（宠物家电/桌面办公-上市集团）  20-30k·13薪  广州-黄埔区    False   3-5年  本科及以上   \n399                     彩妆产品经理      35-50k      广州    False  5-10年   学历不限   \n\n    公司融资情况            公司名称           行业           规模  \n0       B轮            盈米基金     基金/证券/期货     100-499人  \n1      NaN            得意电子  电子/半导体/集成电路     10000人以上  \n2    融资未公开  卡尔蔡司光学(广州)有限公司        批发/零售     500-999人  \n4      NaN  广州市新目标电子商务有限公司         IT服务     100-499人  \n5      已上市        大型制药集团公司      制药/生物工程     10000人以上  \n..     ...             ...          ...          ...  \n395  新三板上市   云南生物谷药业股份有限公司           制药     500-999人  \n396     B轮            探迹科技          互联网   2000-5000人  \n397    NaN          广州乐牛游戏           游戏     500-999人  \n398    已上市       某广州知名上市公司        计算机软件  5000-10000人  \n399  融资未公开        某广州互联网公司          互联网       50-99人  \n\n[387 rows x 12 columns]",
      "text/html": "<div>\n<style scoped>\n    .dataframe tbody tr th:only-of-type {\n        vertical-align: middle;\n    }\n\n    .dataframe tbody tr th {\n        vertical-align: top;\n    }\n\n    .dataframe thead th {\n        text-align: right;\n    }\n</style>\n<table border=\"1\" class=\"dataframe\">\n  <thead>\n    <tr style=\"text-align: right;\">\n      <th></th>\n      <th>职位标签</th>\n      <th>职位更新时间</th>\n      <th>职位</th>\n      <th>薪资</th>\n      <th>地区</th>\n      <th>是否top职位</th>\n      <th>工作年限</th>\n      <th>学历</th>\n      <th>公司融资情况</th>\n      <th>公司名称</th>\n      <th>行业</th>\n      <th>规模</th>\n    </tr>\n  </thead>\n  <tbody>\n    <tr>\n      <th>0</th>\n      <td>['客户端产品', '工具产品', '供应链产品', '基金产品', 'IT互联网', '金...</td>\n      <td>20230621091013</td>\n      <td>C端高级产品经理(J10043)</td>\n      <td>15-30k·15薪</td>\n      <td>广州</td>\n      <td>True</td>\n      <td>3-5年</td>\n      <td>本科</td>\n      <td>B轮</td>\n      <td>盈米基金</td>\n      <td>基金/证券/期货</td>\n      <td>100-499人</td>\n    </tr>\n    <tr>\n      <th>1</th>\n      <td>[]</td>\n      <td>20230620093052</td>\n      <td>项目管理PM(广州)</td>\n      <td>10-20k·14薪</td>\n      <td>广州-南沙区</td>\n      <td>True</td>\n      <td>3-5年</td>\n      <td>大专</td>\n      <td>NaN</td>\n      <td>得意电子</td>\n      <td>电子/半导体/集成电路</td>\n      <td>10000人以上</td>\n    </tr>\n    <tr>\n      <th>2</th>\n      <td>[]</td>\n      <td>20230616103702</td>\n      <td>Product Marketing Manager</td>\n      <td>18-25k·14薪</td>\n      <td>广州-天河区</td>\n      <td>True</td>\n      <td>5-10年</td>\n      <td>硕士</td>\n      <td>融资未公开</td>\n      <td>卡尔蔡司光学(广州)有限公司</td>\n      <td>批发/零售</td>\n      <td>500-999人</td>\n    </tr>\n    <tr>\n      <th>4</th>\n      <td>['数据产品', '工具产品', '平台产品', '科研/技术服务', '数据分析', 'S...</td>\n      <td>20230410215438</td>\n      <td>产品经理Product Manager</td>\n      <td>20-25k</td>\n      <td>广州-番禺区</td>\n      <td>False</td>\n      <td>3-5年</td>\n      <td>本科</td>\n      <td>NaN</td>\n      <td>广州市新目标电子商务有限公司</td>\n      <td>IT服务</td>\n      <td>100-499人</td>\n    </tr>\n    <tr>\n      <th>5</th>\n      <td>['中央市场产品经理经验', '区域推广经验']</td>\n      <td>20230624101138</td>\n      <td>产品经理PM（化药针剂）</td>\n      <td>25-30k·14薪</td>\n      <td>广州</td>\n      <td>False</td>\n      <td>经验不限</td>\n      <td>统招本科</td>\n      <td>已上市</td>\n      <td>大型制药集团公司</td>\n      <td>制药/生物工程</td>\n      <td>10000人以上</td>\n    </tr>\n    <tr>\n      <th>...</th>\n      <td>...</td>\n      <td>...</td>\n      <td>...</td>\n      <td>...</td>\n      <td>...</td>\n      <td>...</td>\n      <td>...</td>\n      <td>...</td>\n      <td>...</td>\n      <td>...</td>\n      <td>...</td>\n      <td>...</td>\n    </tr>\n    <tr>\n      <th>395</th>\n      <td>[]</td>\n      <td>20230621101847</td>\n      <td>OTC产品经理</td>\n      <td>15-18k</td>\n      <td>广州-白云区</td>\n      <td>False</td>\n      <td>3-5年</td>\n      <td>本科</td>\n      <td>新三板上市</td>\n      <td>云南生物谷药业股份有限公司</td>\n      <td>制药</td>\n      <td>500-999人</td>\n    </tr>\n    <tr>\n      <th>396</th>\n      <td>['数据产品', '商业产品', '工具产品', '策略产品', '内容产品', 'to C...</td>\n      <td>20230301163217</td>\n      <td>APP高级产品经理</td>\n      <td>22-35k·14薪</td>\n      <td>广州-番禺区</td>\n      <td>False</td>\n      <td>3-5年</td>\n      <td>本科</td>\n      <td>B轮</td>\n      <td>探迹科技</td>\n      <td>互联网</td>\n      <td>2000-5000人</td>\n    </tr>\n    <tr>\n      <th>397</th>\n      <td>[]</td>\n      <td>20230316172434</td>\n      <td>产品经理（金融产品）</td>\n      <td>15-20k·13薪</td>\n      <td>广州-海珠区</td>\n      <td>False</td>\n      <td>3-5年</td>\n      <td>本科</td>\n      <td>NaN</td>\n      <td>广州乐牛游戏</td>\n      <td>游戏</td>\n      <td>500-999人</td>\n    </tr>\n    <tr>\n      <th>398</th>\n      <td>[]</td>\n      <td>20230421144911</td>\n      <td>电商硬件产品经理（宠物家电/桌面办公-上市集团）</td>\n      <td>20-30k·13薪</td>\n      <td>广州-黄埔区</td>\n      <td>False</td>\n      <td>3-5年</td>\n      <td>本科及以上</td>\n      <td>已上市</td>\n      <td>某广州知名上市公司</td>\n      <td>计算机软件</td>\n      <td>5000-10000人</td>\n    </tr>\n    <tr>\n      <th>399</th>\n      <td>['彩妆产品']</td>\n      <td>20230621145658</td>\n      <td>彩妆产品经理</td>\n      <td>35-50k</td>\n      <td>广州</td>\n      <td>False</td>\n      <td>5-10年</td>\n      <td>学历不限</td>\n      <td>融资未公开</td>\n      <td>某广州互联网公司</td>\n      <td>互联网</td>\n      <td>50-99人</td>\n    </tr>\n  </tbody>\n</table>\n<p>387 rows × 12 columns</p>\n</div>"
     },
     "execution_count": 35,
     "metadata": {},
     "output_type": "execute_result"
    }
   ],
   "source": [
    "非薪资面议 = df_PM_gz [ ~df_PM_gz['薪资'].str.contains(\"面议|元/天\")]\n",
    "非薪资面议"
   ]
  },
  {
   "cell_type": "code",
   "execution_count": 36,
   "id": "18d53ef0",
   "metadata": {},
   "outputs": [
    {
     "data": {
      "text/plain": "[['15-30k', '15'],\n ['10-20k', '14'],\n ['18-25k', '14'],\n ['20-25k'],\n ['25-30k', '14'],\n ['12-15k', '15'],\n ['25-40k', '15'],\n ['20-35k', '14'],\n ['12-24k'],\n ['20-40k', '13'],\n ['15-25k', '13'],\n ['12-30k'],\n ['20-35k'],\n ['18-40k', '14'],\n ['18-30k', '13'],\n ['18-30k'],\n ['6-10k'],\n ['20-40k', '15'],\n ['14-28k', '16'],\n ['15-25k'],\n ['30-40k', '15'],\n ['25-30k', '14'],\n ['20-30k', '13'],\n ['20-40k', '16'],\n ['30-50k', '14'],\n ['20-25k', '16'],\n ['20-35k', '16'],\n ['25-30k'],\n ['11-22k'],\n ['15-20k', '16'],\n ['30-50k', '14'],\n ['15-25k'],\n ['20-28k', '13'],\n ['15-30k', '13'],\n ['25-45k'],\n ['5-10k'],\n ['10-18k'],\n ['7-13k'],\n ['20-35k'],\n ['25-40k'],\n ['16-20k'],\n ['40-50k', '14'],\n ['15-30k'],\n ['20-35k'],\n ['15-30k'],\n ['10-20k'],\n ['18-25k', '14'],\n ['20-30k'],\n ['28-35k'],\n ['20-25k', '13'],\n ['20-25k', '13'],\n ['10-18k'],\n ['15-25k'],\n ['20-40k'],\n ['20-35k'],\n ['12-25k', '13'],\n ['20-30k'],\n ['20-40k', '16'],\n ['25-35k'],\n ['20-25k', '15'],\n ['20-30k'],\n ['15-30k', '24'],\n ['18-30k', '15'],\n ['70-80k'],\n ['12-20k'],\n ['20-30k', '13'],\n ['20-40k', '15'],\n ['10-15k', '13'],\n ['15-24k'],\n ['20-35k', '16'],\n ['20-30k', '14'],\n ['30-50k', '20'],\n ['15-30k'],\n ['18-25k', '13'],\n ['25-35k', '14'],\n ['20-40k', '24'],\n ['13-23k', '13'],\n ['15-30k'],\n ['20-35k', '13'],\n ['15-20k', '13'],\n ['30-45k'],\n ['10-20k', '13'],\n ['15-30k'],\n ['15-30k'],\n ['12-20k'],\n ['12-20k'],\n ['20-30k', '14'],\n ['15-25k', '13'],\n ['15-30k'],\n ['40-50k', '16'],\n ['25-35k'],\n ['20-30k', '14'],\n ['20-35k'],\n ['15-30k'],\n ['12-20k', '13'],\n ['12-20k', '13'],\n ['20-40k', '14'],\n ['17-25k', '13'],\n ['25-45k'],\n ['12-25k', '14'],\n ['20-35k'],\n ['8-15k'],\n ['20-33k', '14'],\n ['10-14k'],\n ['15-30k', '13'],\n ['20-25k'],\n ['15-30k'],\n ['20-40k', '14'],\n ['14-17k'],\n ['30-40k', '18'],\n ['15-20k'],\n ['10-20k', '14'],\n ['12-15k', '13'],\n ['15-20k'],\n ['20-40k'],\n ['18-25k'],\n ['7-15k'],\n ['15-25k', '15'],\n ['15-30k'],\n ['15-20k'],\n ['18-25k'],\n ['15-30k', '15'],\n ['10-20k'],\n ['25-40k', '13'],\n ['15-25k', '13'],\n ['15-22k'],\n ['10-18k'],\n ['13-15k'],\n ['16-30k'],\n ['15-30k', '13'],\n ['15-20k'],\n ['20-40k', '13'],\n ['20-40k', '13'],\n ['15-20k'],\n ['8-15k', '13'],\n ['20-25k'],\n ['15-25k'],\n ['15-30k', '13'],\n ['8-10k'],\n ['20-40k', '14'],\n ['25-40k', '14'],\n ['35-45k', '18'],\n ['11-22k', '18'],\n ['25-55k'],\n ['20-40k', '14'],\n ['20-45k'],\n ['15-25k'],\n ['20-40k', '14'],\n ['20-40k', '16'],\n ['15-20k', '19'],\n ['20-30k'],\n ['13-18k'],\n ['25-40k'],\n ['20-40k', '14'],\n ['15-25k'],\n ['30-60k'],\n ['25-45k'],\n ['25-40k', '14'],\n ['20-40k', '13'],\n ['12-15k', '13'],\n ['30-40k'],\n ['20-35k'],\n ['25-30k', '17'],\n ['13-18k', '14'],\n ['20-30k', '14'],\n ['20-40k', '20'],\n ['20-30k'],\n ['27-40k', '14'],\n ['22-35k', '15'],\n ['16-25k', '14'],\n ['15-25k', '16'],\n ['20-35k', '15'],\n ['20-40k', '13'],\n ['20-40k', '15'],\n ['15-35k'],\n ['18-26k'],\n ['15-25k', '14'],\n ['15-30k'],\n ['20-26k'],\n ['10-15k'],\n ['20-30k'],\n ['15-21k'],\n ['22-30k', '18'],\n ['10-15k'],\n ['15-25k'],\n ['25-40k', '14'],\n ['16-30k', '15'],\n ['20-30k', '16'],\n ['20-40k', '16'],\n ['15-30k', '13'],\n ['30-60k', '16'],\n ['15-20k', '14'],\n ['30-50k', '14'],\n ['15-30k', '13'],\n ['20-40k', '14'],\n ['15-30k', '14'],\n ['10-18k'],\n ['15-25k'],\n ['25-40k', '13'],\n ['20-25k'],\n ['25-45k', '14'],\n ['26-50k'],\n ['20-40k', '14'],\n ['22-30k', '14'],\n ['20-30k', '16'],\n ['20-35k', '14'],\n ['18-25k'],\n ['20-35k'],\n ['40-50k', '14'],\n ['20-40k'],\n ['20-35k'],\n ['25-30k', '13'],\n ['25-50k', '14'],\n ['15-25k'],\n ['25-35k'],\n ['15-30k'],\n ['25-40k', '16'],\n ['15-30k', '15'],\n ['10-15k'],\n ['20-35k'],\n ['25-40k', '14'],\n ['18-35k'],\n ['18-30k', '13'],\n ['25-50k', '15'],\n ['30-35k', '15'],\n ['50-55k'],\n ['20-40k'],\n ['30-50k'],\n ['20-25k', '15'],\n ['21-35k', '14'],\n ['15-30k', '13'],\n ['20-25k'],\n ['20-35k'],\n ['20-30k', '14'],\n ['20-40k'],\n ['13-20k'],\n ['20-35k', '13'],\n ['15-22k', '15'],\n ['15-20k', '14'],\n ['20-25k', '13'],\n ['25-40k', '16'],\n ['25-40k', '13'],\n ['25-45k', '16'],\n ['20-40k', '14'],\n ['25-40k', '14'],\n ['20-40k', '15'],\n ['15-25k'],\n ['15-20k'],\n ['20-30k', '15'],\n ['25-40k', '15'],\n ['20-40k', '15'],\n ['25-30k', '17'],\n ['15-30k', '13'],\n ['25-45k', '14'],\n ['15-30k'],\n ['20-35k'],\n ['15-25k', '14'],\n ['9-20k'],\n ['15-30k'],\n ['21-30k'],\n ['18-23k', '15'],\n ['35-65k', '17'],\n ['20-30k'],\n ['12-20k'],\n ['9-20k'],\n ['8-15k'],\n ['15-30k'],\n ['17-22k', '13'],\n ['35-65k', '13'],\n ['30-50k'],\n ['13-20k'],\n ['20-25k'],\n ['30-60k', '16'],\n ['25-40k', '16'],\n ['20-40k', '14'],\n ['25-35k'],\n ['20-40k', '15'],\n ['25-35k', '14'],\n ['20-40k', '14'],\n ['20-25k', '15'],\n ['25-35k'],\n ['15-20k'],\n ['20-40k'],\n ['20-35k', '14'],\n ['20-25k'],\n ['15-20k'],\n ['15-22k', '15'],\n ['13-20k', '15'],\n ['20-30k', '13'],\n ['16-26k', '14'],\n ['18-30k'],\n ['13-23k'],\n ['25-35k'],\n ['20-30k'],\n ['20-28k', '13'],\n ['20-30k'],\n ['15-23k', '13'],\n ['15-25k'],\n ['15-30k'],\n ['25-40k'],\n ['15-25k'],\n ['11-23k', '13'],\n ['15-25k'],\n ['20-25k'],\n ['10-30k'],\n ['18-30k'],\n ['20-25k'],\n ['20-30k'],\n ['20-25k', '15'],\n ['13-26k', '24'],\n ['30-40k', '16'],\n ['30-40k', '13'],\n ['8-15k'],\n ['15-30k'],\n ['15-25k'],\n ['10-20k'],\n ['20-30k', '13'],\n ['15-25k', '13'],\n ['20-40k'],\n ['16-22k', '15'],\n ['15-25k'],\n ['15-30k', '13'],\n ['25-40k'],\n ['30-45k', '13'],\n ['16-22k', '15'],\n ['30-45k', '16'],\n ['13-16k'],\n ['20-35k', '14'],\n ['15-30k'],\n ['8-12k'],\n ['8-13k'],\n ['10-20k', '14'],\n ['11-20k'],\n ['25-35k', '14'],\n ['22-35k', '14'],\n ['20-30k'],\n ['15-30k', '13'],\n ['12-18k'],\n ['15-25k'],\n ['10-20k'],\n ['15-25k', '14'],\n ['24-27k', '15'],\n ['30-50k', '16'],\n ['40-60k'],\n ['20-25k'],\n ['15-25k', '13'],\n ['15-20k'],\n ['30-40k', '13'],\n ['20-35k', '16'],\n ['18-25k', '13'],\n ['12-23k', '14'],\n ['15-30k', '13'],\n ['13-22k'],\n ['15-30k'],\n ['20-40k'],\n ['25-30k', '24'],\n ['18-25k'],\n ['25-35k'],\n ['15-30k', '14'],\n ['15-30k'],\n ['10-20k'],\n ['15-25k', '17'],\n ['17-22k', '13'],\n ['15-30k'],\n ['25-40k', '17'],\n ['8-16k', '13'],\n ['12-18k'],\n ['25-35k', '15'],\n ['25-40k', '17'],\n ['10-15k'],\n ['30-45k', '14'],\n ['25-50k', '17'],\n ['25-35k'],\n ['20-40k', '14'],\n ['15-25k'],\n ['10-30k'],\n ['12-20k'],\n ['12-20k'],\n ['15-30k', '13'],\n ['10-15k'],\n ['20-25k'],\n ['8-13k'],\n ['15-18k'],\n ['22-35k', '14'],\n ['15-20k', '13'],\n ['20-30k', '13'],\n ['35-50k']]"
     },
     "execution_count": 36,
     "metadata": {},
     "output_type": "execute_result"
    }
   ],
   "source": [
    "非薪资面议_detail = 非薪资面议['薪资'].apply(lambda x:x.split('薪')[0].split('·')).tolist()\n",
    "非薪资面议_detail"
   ]
  },
  {
   "cell_type": "code",
   "execution_count": 37,
   "id": "e6004d3a",
   "metadata": {},
   "outputs": [
    {
     "data": {
      "text/plain": "13.541666666666666"
     },
     "execution_count": 37,
     "metadata": {},
     "output_type": "execute_result"
    }
   ],
   "source": [
    "(10+15)/2*13/12"
   ]
  },
  {
   "cell_type": "code",
   "execution_count": 38,
   "id": "6296b488",
   "metadata": {},
   "outputs": [
    {
     "data": {
      "text/plain": "[28.1,\n 17.5,\n 25.1,\n 22.5,\n 32.1,\n 16.9,\n 40.6,\n 32.1,\n 18.0,\n 32.5,\n 21.7,\n 21.0,\n 27.5,\n 33.8,\n 26.0,\n 24.0,\n 8.0,\n 37.5,\n 28.0,\n 20.0,\n 43.8,\n 32.1,\n 27.1,\n 40.0,\n 46.7,\n 30.0,\n 36.7,\n 27.5,\n 16.5,\n 23.3,\n 46.7,\n 20.0,\n 26.0,\n 24.4,\n 35.0,\n 7.5,\n 14.0,\n 10.0,\n 27.5,\n 32.5,\n 18.0,\n 52.5,\n 22.5,\n 27.5,\n 22.5,\n 15.0,\n 25.1,\n 25.0,\n 31.5,\n 24.4,\n 24.4,\n 14.0,\n 20.0,\n 30.0,\n 27.5,\n 20.0,\n 25.0,\n 40.0,\n 30.0,\n 28.1,\n 25.0,\n 45.0,\n 30.0,\n 75.0,\n 16.0,\n 27.1,\n 37.5,\n 13.5,\n 19.5,\n 36.7,\n 29.2,\n 66.7,\n 22.5,\n 23.3,\n 35.0,\n 60.0,\n 19.5,\n 22.5,\n 29.8,\n 19.0,\n 37.5,\n 16.2,\n 22.5,\n 22.5,\n 16.0,\n 16.0,\n 29.2,\n 21.7,\n 22.5,\n 60.0,\n 30.0,\n 29.2,\n 27.5,\n 22.5,\n 17.3,\n 17.3,\n 35.0,\n 22.8,\n 35.0,\n 21.6,\n 27.5,\n 11.5,\n 30.9,\n 12.0,\n 24.4,\n 22.5,\n 22.5,\n 35.0,\n 15.5,\n 52.5,\n 17.5,\n 17.5,\n 14.6,\n 17.5,\n 30.0,\n 21.5,\n 11.0,\n 25.0,\n 22.5,\n 17.5,\n 21.5,\n 28.1,\n 15.0,\n 35.2,\n 21.7,\n 18.5,\n 14.0,\n 14.0,\n 23.0,\n 24.4,\n 17.5,\n 32.5,\n 32.5,\n 17.5,\n 12.5,\n 22.5,\n 20.0,\n 24.4,\n 9.0,\n 35.0,\n 37.9,\n 60.0,\n 24.8,\n 40.0,\n 35.0,\n 32.5,\n 20.0,\n 35.0,\n 40.0,\n 27.7,\n 25.0,\n 15.5,\n 32.5,\n 35.0,\n 20.0,\n 45.0,\n 35.0,\n 37.9,\n 32.5,\n 14.6,\n 35.0,\n 27.5,\n 39.0,\n 18.1,\n 29.2,\n 50.0,\n 25.0,\n 39.1,\n 35.6,\n 23.9,\n 26.7,\n 34.4,\n 32.5,\n 37.5,\n 25.0,\n 22.0,\n 23.3,\n 22.5,\n 23.0,\n 12.5,\n 25.0,\n 18.0,\n 39.0,\n 12.5,\n 20.0,\n 37.9,\n 28.8,\n 33.3,\n 40.0,\n 24.4,\n 60.0,\n 20.4,\n 46.7,\n 24.4,\n 35.0,\n 26.2,\n 14.0,\n 20.0,\n 35.2,\n 22.5,\n 40.8,\n 38.0,\n 35.0,\n 30.3,\n 33.3,\n 32.1,\n 21.5,\n 27.5,\n 52.5,\n 30.0,\n 27.5,\n 29.8,\n 43.8,\n 20.0,\n 30.0,\n 22.5,\n 43.3,\n 28.1,\n 12.5,\n 27.5,\n 37.9,\n 26.5,\n 26.0,\n 46.9,\n 40.6,\n 52.5,\n 30.0,\n 40.0,\n 28.1,\n 32.7,\n 24.4,\n 22.5,\n 27.5,\n 29.2,\n 30.0,\n 16.5,\n 29.8,\n 23.1,\n 20.4,\n 24.4,\n 43.3,\n 35.2,\n 46.7,\n 35.0,\n 37.9,\n 37.5,\n 20.0,\n 17.5,\n 31.2,\n 40.6,\n 37.5,\n 39.0,\n 24.4,\n 40.8,\n 22.5,\n 27.5,\n 23.3,\n 14.5,\n 22.5,\n 25.5,\n 25.6,\n 70.8,\n 25.0,\n 16.0,\n 14.5,\n 11.5,\n 22.5,\n 21.1,\n 54.2,\n 40.0,\n 16.5,\n 22.5,\n 60.0,\n 43.3,\n 35.0,\n 30.0,\n 37.5,\n 35.0,\n 35.0,\n 28.1,\n 30.0,\n 17.5,\n 30.0,\n 32.1,\n 22.5,\n 17.5,\n 23.1,\n 20.6,\n 27.1,\n 24.5,\n 24.0,\n 18.0,\n 30.0,\n 25.0,\n 26.0,\n 25.0,\n 20.6,\n 20.0,\n 22.5,\n 32.5,\n 20.0,\n 18.4,\n 20.0,\n 22.5,\n 20.0,\n 24.0,\n 22.5,\n 25.0,\n 28.1,\n 39.0,\n 46.7,\n 37.9,\n 11.5,\n 22.5,\n 20.0,\n 15.0,\n 27.1,\n 21.7,\n 30.0,\n 23.8,\n 20.0,\n 24.4,\n 32.5,\n 40.6,\n 23.8,\n 50.0,\n 14.5,\n 32.1,\n 22.5,\n 10.0,\n 10.5,\n 17.5,\n 15.5,\n 35.0,\n 33.2,\n 25.0,\n 24.4,\n 15.0,\n 20.0,\n 15.0,\n 23.3,\n 31.9,\n 53.3,\n 50.0,\n 22.5,\n 21.7,\n 17.5,\n 37.9,\n 36.7,\n 23.3,\n 20.4,\n 24.4,\n 17.5,\n 22.5,\n 30.0,\n 55.0,\n 21.5,\n 30.0,\n 26.2,\n 22.5,\n 15.0,\n 28.3,\n 21.1,\n 22.5,\n 46.0,\n 13.0,\n 15.0,\n 37.5,\n 46.0,\n 12.5,\n 43.8,\n 53.1,\n 30.0,\n 35.0,\n 20.0,\n 20.0,\n 16.0,\n 16.0,\n 24.4,\n 12.5,\n 22.5,\n 10.5,\n 16.5,\n 33.2,\n 19.0,\n 27.1,\n 42.5]"
     },
     "execution_count": 38,
     "metadata": {},
     "output_type": "execute_result"
    }
   ],
   "source": [
    "平均薪资 = [ (int(i[0].split('-')[0]) +int(i[0].split('-')[1].split('k')[0]))/2    \\\n",
    " if len(i)==1 else round((int(i[0].split('-')[0]) +int(i[0].split('-')[1].split('k')[0]))/2*int(i[1])/12,1)     \\\n",
    " for i in 非薪资面议_detail        ] \n",
    "平均薪资"
   ]
  },
  {
   "cell_type": "code",
   "execution_count": 39,
   "id": "b7ee36c9",
   "metadata": {},
   "outputs": [
    {
     "data": {
      "text/plain": "387"
     },
     "execution_count": 39,
     "metadata": {},
     "output_type": "execute_result"
    }
   ],
   "source": [
    "len(平均薪资)"
   ]
  },
  {
   "cell_type": "code",
   "execution_count": 40,
   "id": "0bf7c61d",
   "metadata": {
    "scrolled": true
   },
   "outputs": [
    {
     "name": "stderr",
     "output_type": "stream",
     "text": [
      "C:\\Users\\17728\\AppData\\Local\\Temp\\ipykernel_25416\\3896161248.py:1: SettingWithCopyWarning: \n",
      "A value is trying to be set on a copy of a slice from a DataFrame.\n",
      "Try using .loc[row_indexer,col_indexer] = value instead\n",
      "\n",
      "See the caveats in the documentation: https://pandas.pydata.org/pandas-docs/stable/user_guide/indexing.html#returning-a-view-versus-a-copy\n",
      "  非薪资面议['平均薪资']=平均薪资\n"
     ]
    }
   ],
   "source": [
    "非薪资面议['平均薪资']=平均薪资"
   ]
  },
  {
   "cell_type": "code",
   "execution_count": 41,
   "id": "7de0c864",
   "metadata": {
    "scrolled": true
   },
   "outputs": [
    {
     "data": {
      "text/plain": "                                                  职位标签          职位更新时间  \\\n0    ['客户端产品', '工具产品', '供应链产品', '基金产品', 'IT互联网', '金...  20230621091013   \n1                                                   []  20230620093052   \n2                                                   []  20230616103702   \n4    ['数据产品', '工具产品', '平台产品', '科研/技术服务', '数据分析', 'S...  20230410215438   \n5                             ['中央市场产品经理经验', '区域推广经验']  20230624101138   \n..                                                 ...             ...   \n395                                                 []  20230621101847   \n396  ['数据产品', '商业产品', '工具产品', '策略产品', '内容产品', 'to C...  20230301163217   \n397                                                 []  20230316172434   \n398                                                 []  20230421144911   \n399                                           ['彩妆产品']  20230621145658   \n\n                            职位          薪资      地区  是否top职位   工作年限     学历  \\\n0             C端高级产品经理(J10043)  15-30k·15薪      广州     True   3-5年     本科   \n1                   项目管理PM(广州)  10-20k·14薪  广州-南沙区     True   3-5年     大专   \n2    Product Marketing Manager  18-25k·14薪  广州-天河区     True  5-10年     硕士   \n4          产品经理Product Manager      20-25k  广州-番禺区    False   3-5年     本科   \n5                 产品经理PM（化药针剂）  25-30k·14薪      广州    False   经验不限   统招本科   \n..                         ...         ...     ...      ...    ...    ...   \n395                    OTC产品经理      15-18k  广州-白云区    False   3-5年     本科   \n396                  APP高级产品经理  22-35k·14薪  广州-番禺区    False   3-5年     本科   \n397                 产品经理（金融产品）  15-20k·13薪  广州-海珠区    False   3-5年     本科   \n398   电商硬件产品经理（宠物家电/桌面办公-上市集团）  20-30k·13薪  广州-黄埔区    False   3-5年  本科及以上   \n399                     彩妆产品经理      35-50k      广州    False  5-10年   学历不限   \n\n    公司融资情况            公司名称           行业           规模  平均薪资  \n0       B轮            盈米基金     基金/证券/期货     100-499人  28.1  \n1      NaN            得意电子  电子/半导体/集成电路     10000人以上  17.5  \n2    融资未公开  卡尔蔡司光学(广州)有限公司        批发/零售     500-999人  25.1  \n4      NaN  广州市新目标电子商务有限公司         IT服务     100-499人  22.5  \n5      已上市        大型制药集团公司      制药/生物工程     10000人以上  32.1  \n..     ...             ...          ...          ...   ...  \n395  新三板上市   云南生物谷药业股份有限公司           制药     500-999人  16.5  \n396     B轮            探迹科技          互联网   2000-5000人  33.2  \n397    NaN          广州乐牛游戏           游戏     500-999人  19.0  \n398    已上市       某广州知名上市公司        计算机软件  5000-10000人  27.1  \n399  融资未公开        某广州互联网公司          互联网       50-99人  42.5  \n\n[387 rows x 13 columns]",
      "text/html": "<div>\n<style scoped>\n    .dataframe tbody tr th:only-of-type {\n        vertical-align: middle;\n    }\n\n    .dataframe tbody tr th {\n        vertical-align: top;\n    }\n\n    .dataframe thead th {\n        text-align: right;\n    }\n</style>\n<table border=\"1\" class=\"dataframe\">\n  <thead>\n    <tr style=\"text-align: right;\">\n      <th></th>\n      <th>职位标签</th>\n      <th>职位更新时间</th>\n      <th>职位</th>\n      <th>薪资</th>\n      <th>地区</th>\n      <th>是否top职位</th>\n      <th>工作年限</th>\n      <th>学历</th>\n      <th>公司融资情况</th>\n      <th>公司名称</th>\n      <th>行业</th>\n      <th>规模</th>\n      <th>平均薪资</th>\n    </tr>\n  </thead>\n  <tbody>\n    <tr>\n      <th>0</th>\n      <td>['客户端产品', '工具产品', '供应链产品', '基金产品', 'IT互联网', '金...</td>\n      <td>20230621091013</td>\n      <td>C端高级产品经理(J10043)</td>\n      <td>15-30k·15薪</td>\n      <td>广州</td>\n      <td>True</td>\n      <td>3-5年</td>\n      <td>本科</td>\n      <td>B轮</td>\n      <td>盈米基金</td>\n      <td>基金/证券/期货</td>\n      <td>100-499人</td>\n      <td>28.1</td>\n    </tr>\n    <tr>\n      <th>1</th>\n      <td>[]</td>\n      <td>20230620093052</td>\n      <td>项目管理PM(广州)</td>\n      <td>10-20k·14薪</td>\n      <td>广州-南沙区</td>\n      <td>True</td>\n      <td>3-5年</td>\n      <td>大专</td>\n      <td>NaN</td>\n      <td>得意电子</td>\n      <td>电子/半导体/集成电路</td>\n      <td>10000人以上</td>\n      <td>17.5</td>\n    </tr>\n    <tr>\n      <th>2</th>\n      <td>[]</td>\n      <td>20230616103702</td>\n      <td>Product Marketing Manager</td>\n      <td>18-25k·14薪</td>\n      <td>广州-天河区</td>\n      <td>True</td>\n      <td>5-10年</td>\n      <td>硕士</td>\n      <td>融资未公开</td>\n      <td>卡尔蔡司光学(广州)有限公司</td>\n      <td>批发/零售</td>\n      <td>500-999人</td>\n      <td>25.1</td>\n    </tr>\n    <tr>\n      <th>4</th>\n      <td>['数据产品', '工具产品', '平台产品', '科研/技术服务', '数据分析', 'S...</td>\n      <td>20230410215438</td>\n      <td>产品经理Product Manager</td>\n      <td>20-25k</td>\n      <td>广州-番禺区</td>\n      <td>False</td>\n      <td>3-5年</td>\n      <td>本科</td>\n      <td>NaN</td>\n      <td>广州市新目标电子商务有限公司</td>\n      <td>IT服务</td>\n      <td>100-499人</td>\n      <td>22.5</td>\n    </tr>\n    <tr>\n      <th>5</th>\n      <td>['中央市场产品经理经验', '区域推广经验']</td>\n      <td>20230624101138</td>\n      <td>产品经理PM（化药针剂）</td>\n      <td>25-30k·14薪</td>\n      <td>广州</td>\n      <td>False</td>\n      <td>经验不限</td>\n      <td>统招本科</td>\n      <td>已上市</td>\n      <td>大型制药集团公司</td>\n      <td>制药/生物工程</td>\n      <td>10000人以上</td>\n      <td>32.1</td>\n    </tr>\n    <tr>\n      <th>...</th>\n      <td>...</td>\n      <td>...</td>\n      <td>...</td>\n      <td>...</td>\n      <td>...</td>\n      <td>...</td>\n      <td>...</td>\n      <td>...</td>\n      <td>...</td>\n      <td>...</td>\n      <td>...</td>\n      <td>...</td>\n      <td>...</td>\n    </tr>\n    <tr>\n      <th>395</th>\n      <td>[]</td>\n      <td>20230621101847</td>\n      <td>OTC产品经理</td>\n      <td>15-18k</td>\n      <td>广州-白云区</td>\n      <td>False</td>\n      <td>3-5年</td>\n      <td>本科</td>\n      <td>新三板上市</td>\n      <td>云南生物谷药业股份有限公司</td>\n      <td>制药</td>\n      <td>500-999人</td>\n      <td>16.5</td>\n    </tr>\n    <tr>\n      <th>396</th>\n      <td>['数据产品', '商业产品', '工具产品', '策略产品', '内容产品', 'to C...</td>\n      <td>20230301163217</td>\n      <td>APP高级产品经理</td>\n      <td>22-35k·14薪</td>\n      <td>广州-番禺区</td>\n      <td>False</td>\n      <td>3-5年</td>\n      <td>本科</td>\n      <td>B轮</td>\n      <td>探迹科技</td>\n      <td>互联网</td>\n      <td>2000-5000人</td>\n      <td>33.2</td>\n    </tr>\n    <tr>\n      <th>397</th>\n      <td>[]</td>\n      <td>20230316172434</td>\n      <td>产品经理（金融产品）</td>\n      <td>15-20k·13薪</td>\n      <td>广州-海珠区</td>\n      <td>False</td>\n      <td>3-5年</td>\n      <td>本科</td>\n      <td>NaN</td>\n      <td>广州乐牛游戏</td>\n      <td>游戏</td>\n      <td>500-999人</td>\n      <td>19.0</td>\n    </tr>\n    <tr>\n      <th>398</th>\n      <td>[]</td>\n      <td>20230421144911</td>\n      <td>电商硬件产品经理（宠物家电/桌面办公-上市集团）</td>\n      <td>20-30k·13薪</td>\n      <td>广州-黄埔区</td>\n      <td>False</td>\n      <td>3-5年</td>\n      <td>本科及以上</td>\n      <td>已上市</td>\n      <td>某广州知名上市公司</td>\n      <td>计算机软件</td>\n      <td>5000-10000人</td>\n      <td>27.1</td>\n    </tr>\n    <tr>\n      <th>399</th>\n      <td>['彩妆产品']</td>\n      <td>20230621145658</td>\n      <td>彩妆产品经理</td>\n      <td>35-50k</td>\n      <td>广州</td>\n      <td>False</td>\n      <td>5-10年</td>\n      <td>学历不限</td>\n      <td>融资未公开</td>\n      <td>某广州互联网公司</td>\n      <td>互联网</td>\n      <td>50-99人</td>\n      <td>42.5</td>\n    </tr>\n  </tbody>\n</table>\n<p>387 rows × 13 columns</p>\n</div>"
     },
     "execution_count": 41,
     "metadata": {},
     "output_type": "execute_result"
    }
   ],
   "source": [
    "非薪资面议"
   ]
  },
  {
   "cell_type": "code",
   "execution_count": 42,
   "id": "5a723ae3",
   "metadata": {
    "scrolled": true
   },
   "outputs": [
    {
     "data": {
      "text/plain": "         平均薪资\n地区           \n广州      26.65\n广州-南沙区  16.25\n广州-增城区  14.00\n广州-天河区  24.70\n广州-海珠区  25.00\n广州-番禺区  33.30\n广州-白云区  23.80\n广州-花都区  18.75\n广州-荔湾区  25.25\n广州-越秀区  22.50\n广州-黄埔区  25.00",
      "text/html": "<div>\n<style scoped>\n    .dataframe tbody tr th:only-of-type {\n        vertical-align: middle;\n    }\n\n    .dataframe tbody tr th {\n        vertical-align: top;\n    }\n\n    .dataframe thead th {\n        text-align: right;\n    }\n</style>\n<table border=\"1\" class=\"dataframe\">\n  <thead>\n    <tr style=\"text-align: right;\">\n      <th></th>\n      <th>平均薪资</th>\n    </tr>\n    <tr>\n      <th>地区</th>\n      <th></th>\n    </tr>\n  </thead>\n  <tbody>\n    <tr>\n      <th>广州</th>\n      <td>26.65</td>\n    </tr>\n    <tr>\n      <th>广州-南沙区</th>\n      <td>16.25</td>\n    </tr>\n    <tr>\n      <th>广州-增城区</th>\n      <td>14.00</td>\n    </tr>\n    <tr>\n      <th>广州-天河区</th>\n      <td>24.70</td>\n    </tr>\n    <tr>\n      <th>广州-海珠区</th>\n      <td>25.00</td>\n    </tr>\n    <tr>\n      <th>广州-番禺区</th>\n      <td>33.30</td>\n    </tr>\n    <tr>\n      <th>广州-白云区</th>\n      <td>23.80</td>\n    </tr>\n    <tr>\n      <th>广州-花都区</th>\n      <td>18.75</td>\n    </tr>\n    <tr>\n      <th>广州-荔湾区</th>\n      <td>25.25</td>\n    </tr>\n    <tr>\n      <th>广州-越秀区</th>\n      <td>22.50</td>\n    </tr>\n    <tr>\n      <th>广州-黄埔区</th>\n      <td>25.00</td>\n    </tr>\n  </tbody>\n</table>\n</div>"
     },
     "execution_count": 42,
     "metadata": {},
     "output_type": "execute_result"
    }
   ],
   "source": [
    "# 分地区平均薪资\n",
    "分地区_平均薪资 = 非薪资面议.groupby('地区').agg({'平均薪资':'median'})\n",
    "分地区_平均薪资"
   ]
  },
  {
   "cell_type": "code",
   "execution_count": 43,
   "id": "f260e86e",
   "metadata": {},
   "outputs": [
    {
     "data": {
      "text/plain": "[26.6, 16.2, 14.0, 24.7, 25.0, 33.3, 23.8, 18.8, 25.2, 22.5, 25.0]"
     },
     "execution_count": 43,
     "metadata": {},
     "output_type": "execute_result"
    }
   ],
   "source": [
    "分地区_平均薪资_values =  [round(i[0],1) for i in 分地区_平均薪资.values.tolist()]\n",
    "分地区_平均薪资_values"
   ]
  },
  {
   "cell_type": "code",
   "execution_count": 44,
   "id": "23b5bf70",
   "metadata": {},
   "outputs": [
    {
     "data": {
      "text/plain": "['广州',\n '广州-南沙区',\n '广州-增城区',\n '广州-天河区',\n '广州-海珠区',\n '广州-番禺区',\n '广州-白云区',\n '广州-花都区',\n '广州-荔湾区',\n '广州-越秀区',\n '广州-黄埔区']"
     },
     "execution_count": 44,
     "metadata": {},
     "output_type": "execute_result"
    }
   ],
   "source": [
    "分地区_平均薪资_index = 分地区_平均薪资.index.tolist()\n",
    "分地区_平均薪资_index"
   ]
  },
  {
   "cell_type": "code",
   "execution_count": 45,
   "id": "7144cf60",
   "metadata": {},
   "outputs": [],
   "source": [
    "from pyecharts import options as opts\n",
    "from pyecharts.charts import Bar\n",
    "from pyecharts.faker import Faker\n",
    "\n",
    "\n",
    "c = (\n",
    "    Bar()\n",
    "    .add_xaxis([i.split('-')[1] for i in 分地区_平均薪资_index[1:]])\n",
    "    .add_yaxis(\"地区\",分地区_平均薪资_values[1:])\n",
    "    .set_global_opts(\n",
    "        title_opts=opts.TitleOpts(title=\"PM-分地区-中位数薪资\"),\n",
    "        brush_opts=opts.BrushOpts(),\n",
    "    )\n",
    "    .render( key + 用户输入城市+\"平均薪资\"+output_time+'.html')\n",
    ")\n",
    "# c.render_notebook()"
   ]
  },
  {
   "cell_type": "code",
   "execution_count": 46,
   "id": "eea5da69",
   "metadata": {},
   "outputs": [
    {
     "data": {
      "text/plain": "            平均薪资\n工作年限            \n1-3年   22.261364\n10年以上  39.960000\n3-5年   25.087273\n5-10年  32.034459\n一年以下   20.000000\n经验不限   27.456522",
      "text/html": "<div>\n<style scoped>\n    .dataframe tbody tr th:only-of-type {\n        vertical-align: middle;\n    }\n\n    .dataframe tbody tr th {\n        vertical-align: top;\n    }\n\n    .dataframe thead th {\n        text-align: right;\n    }\n</style>\n<table border=\"1\" class=\"dataframe\">\n  <thead>\n    <tr style=\"text-align: right;\">\n      <th></th>\n      <th>平均薪资</th>\n    </tr>\n    <tr>\n      <th>工作年限</th>\n      <th></th>\n    </tr>\n  </thead>\n  <tbody>\n    <tr>\n      <th>1-3年</th>\n      <td>22.261364</td>\n    </tr>\n    <tr>\n      <th>10年以上</th>\n      <td>39.960000</td>\n    </tr>\n    <tr>\n      <th>3-5年</th>\n      <td>25.087273</td>\n    </tr>\n    <tr>\n      <th>5-10年</th>\n      <td>32.034459</td>\n    </tr>\n    <tr>\n      <th>一年以下</th>\n      <td>20.000000</td>\n    </tr>\n    <tr>\n      <th>经验不限</th>\n      <td>27.456522</td>\n    </tr>\n  </tbody>\n</table>\n</div>"
     },
     "execution_count": 46,
     "metadata": {},
     "output_type": "execute_result"
    }
   ],
   "source": [
    "df_year_salary = 非薪资面议.groupby('工作年限').agg({'平均薪资':'mean'})\n",
    "df_year_salary"
   ]
  },
  {
   "cell_type": "code",
   "execution_count": 47,
   "id": "2163b27f",
   "metadata": {
    "scrolled": true
   },
   "outputs": [
    {
     "data": {
      "text/plain": "                  平均薪资\n工作年限  学历              \n1-3年  大专     10.500000\n      学历不限   28.750000\n      本科     16.576471\n      本科及以上  25.233333\n      硕士     17.400000\n      硕士及以上  66.700000\n      统招本科   26.106250\n10年以上 本科     30.000000\n      本科及以上  50.000000\n      统招本科   39.933333\n3-5年  大专     21.614286\n      大专及以上  40.600000\n      学历不限   26.550000\n      本科     21.425333\n      本科及以上  27.673684\n      硕士     28.530769\n      硕士及以上  60.000000\n      统招本科   28.393333\n5-10年 大专     24.500000\n      大专及以上  26.666667\n      学历不限   41.371429\n      本科     29.500000\n      本科及以上  31.033333\n      硕士     25.766667\n      硕士及以上  45.066667\n      统招本科   34.018644\n一年以下  本科     20.000000\n经验不限  大专     15.000000\n      大专及以上  60.000000\n      学历不限   31.625000\n      本科     23.080000\n      本科及以上  26.050000\n      硕士     17.500000\n      硕士及以上  55.000000\n      统招本科   29.300000",
      "text/html": "<div>\n<style scoped>\n    .dataframe tbody tr th:only-of-type {\n        vertical-align: middle;\n    }\n\n    .dataframe tbody tr th {\n        vertical-align: top;\n    }\n\n    .dataframe thead th {\n        text-align: right;\n    }\n</style>\n<table border=\"1\" class=\"dataframe\">\n  <thead>\n    <tr style=\"text-align: right;\">\n      <th></th>\n      <th></th>\n      <th>平均薪资</th>\n    </tr>\n    <tr>\n      <th>工作年限</th>\n      <th>学历</th>\n      <th></th>\n    </tr>\n  </thead>\n  <tbody>\n    <tr>\n      <th rowspan=\"7\" valign=\"top\">1-3年</th>\n      <th>大专</th>\n      <td>10.500000</td>\n    </tr>\n    <tr>\n      <th>学历不限</th>\n      <td>28.750000</td>\n    </tr>\n    <tr>\n      <th>本科</th>\n      <td>16.576471</td>\n    </tr>\n    <tr>\n      <th>本科及以上</th>\n      <td>25.233333</td>\n    </tr>\n    <tr>\n      <th>硕士</th>\n      <td>17.400000</td>\n    </tr>\n    <tr>\n      <th>硕士及以上</th>\n      <td>66.700000</td>\n    </tr>\n    <tr>\n      <th>统招本科</th>\n      <td>26.106250</td>\n    </tr>\n    <tr>\n      <th rowspan=\"3\" valign=\"top\">10年以上</th>\n      <th>本科</th>\n      <td>30.000000</td>\n    </tr>\n    <tr>\n      <th>本科及以上</th>\n      <td>50.000000</td>\n    </tr>\n    <tr>\n      <th>统招本科</th>\n      <td>39.933333</td>\n    </tr>\n    <tr>\n      <th rowspan=\"8\" valign=\"top\">3-5年</th>\n      <th>大专</th>\n      <td>21.614286</td>\n    </tr>\n    <tr>\n      <th>大专及以上</th>\n      <td>40.600000</td>\n    </tr>\n    <tr>\n      <th>学历不限</th>\n      <td>26.550000</td>\n    </tr>\n    <tr>\n      <th>本科</th>\n      <td>21.425333</td>\n    </tr>\n    <tr>\n      <th>本科及以上</th>\n      <td>27.673684</td>\n    </tr>\n    <tr>\n      <th>硕士</th>\n      <td>28.530769</td>\n    </tr>\n    <tr>\n      <th>硕士及以上</th>\n      <td>60.000000</td>\n    </tr>\n    <tr>\n      <th>统招本科</th>\n      <td>28.393333</td>\n    </tr>\n    <tr>\n      <th rowspan=\"8\" valign=\"top\">5-10年</th>\n      <th>大专</th>\n      <td>24.500000</td>\n    </tr>\n    <tr>\n      <th>大专及以上</th>\n      <td>26.666667</td>\n    </tr>\n    <tr>\n      <th>学历不限</th>\n      <td>41.371429</td>\n    </tr>\n    <tr>\n      <th>本科</th>\n      <td>29.500000</td>\n    </tr>\n    <tr>\n      <th>本科及以上</th>\n      <td>31.033333</td>\n    </tr>\n    <tr>\n      <th>硕士</th>\n      <td>25.766667</td>\n    </tr>\n    <tr>\n      <th>硕士及以上</th>\n      <td>45.066667</td>\n    </tr>\n    <tr>\n      <th>统招本科</th>\n      <td>34.018644</td>\n    </tr>\n    <tr>\n      <th>一年以下</th>\n      <th>本科</th>\n      <td>20.000000</td>\n    </tr>\n    <tr>\n      <th rowspan=\"8\" valign=\"top\">经验不限</th>\n      <th>大专</th>\n      <td>15.000000</td>\n    </tr>\n    <tr>\n      <th>大专及以上</th>\n      <td>60.000000</td>\n    </tr>\n    <tr>\n      <th>学历不限</th>\n      <td>31.625000</td>\n    </tr>\n    <tr>\n      <th>本科</th>\n      <td>23.080000</td>\n    </tr>\n    <tr>\n      <th>本科及以上</th>\n      <td>26.050000</td>\n    </tr>\n    <tr>\n      <th>硕士</th>\n      <td>17.500000</td>\n    </tr>\n    <tr>\n      <th>硕士及以上</th>\n      <td>55.000000</td>\n    </tr>\n    <tr>\n      <th>统招本科</th>\n      <td>29.300000</td>\n    </tr>\n  </tbody>\n</table>\n</div>"
     },
     "execution_count": 47,
     "metadata": {},
     "output_type": "execute_result"
    }
   ],
   "source": [
    "# 分工作时间和学历平均薪资\n",
    "df_year_edulevel =  非薪资面议.groupby(['工作年限','学历']).agg({'平均薪资':'mean'})\n",
    "df_year_edulevel"
   ]
  },
  {
   "cell_type": "code",
   "execution_count": 48,
   "id": "9e3d7c57",
   "metadata": {},
   "outputs": [
    {
     "data": {
      "text/plain": "                  平均薪资\n行业                    \nIT服务         21.170000\n专业技术服务       34.536364\n云计算/大数据      23.300000\n互联网          28.743836\n互联网/电商       43.675000\n互联网金融        16.500000\n人力资源服务       25.150000\n人工智能         29.030769\n其他商务服务业      14.800000\n内容(音视频/阅读)   28.100000\n农/林/牧/渔      18.050000\n制药           21.100000\n制药/生物工程      23.420000\n化工           43.800000\n区块链          24.400000\n医疗器械         24.057143\n医疗机构         16.142857\n医药流通         31.550000\n咨询服务         30.000000\n在线教育         23.300000\n在线社交/媒体      41.980000\n培训服务         15.000000\n基金           35.950000\n基金/证券/期货     37.689474\n室内娱乐         60.000000\n家具/家居        26.828571\n家具/家电        22.500000\n工程施工         24.400000\n工艺品          22.750000\n广告/公关/会展     25.166667\n建材           27.700000\n房地产开发经营      23.400000\n房地产租赁/中介     22.500000\n批发/零售        22.600000\n整车制造         31.666667\n文化艺术业        10.000000\n新材料          25.000000\n新零售          27.100000\n日化           29.800000\n智能硬件         28.640000\n服装/纺织/皮革     28.250000\n机械/设备        30.300000\n消费品          37.500000\n游戏           25.070000\n物联网          25.000000\n生活服务O2O      27.520000\n生物技术         17.950000\n电子/半导体/集成电路  26.154545\n电子商务         24.635714\n电气机械/器材      39.960000\n科技金融         34.100000\n计算机硬件        30.000000\n计算机软件        29.802273\n贸易/进出口       37.900000\n通信设备         19.300000\n金属制品         16.500000\n银行           26.625000\n食品/饮料/日化     36.975000\n食品/饮料/酒水     24.700000",
      "text/html": "<div>\n<style scoped>\n    .dataframe tbody tr th:only-of-type {\n        vertical-align: middle;\n    }\n\n    .dataframe tbody tr th {\n        vertical-align: top;\n    }\n\n    .dataframe thead th {\n        text-align: right;\n    }\n</style>\n<table border=\"1\" class=\"dataframe\">\n  <thead>\n    <tr style=\"text-align: right;\">\n      <th></th>\n      <th>平均薪资</th>\n    </tr>\n    <tr>\n      <th>行业</th>\n      <th></th>\n    </tr>\n  </thead>\n  <tbody>\n    <tr>\n      <th>IT服务</th>\n      <td>21.170000</td>\n    </tr>\n    <tr>\n      <th>专业技术服务</th>\n      <td>34.536364</td>\n    </tr>\n    <tr>\n      <th>云计算/大数据</th>\n      <td>23.300000</td>\n    </tr>\n    <tr>\n      <th>互联网</th>\n      <td>28.743836</td>\n    </tr>\n    <tr>\n      <th>互联网/电商</th>\n      <td>43.675000</td>\n    </tr>\n    <tr>\n      <th>互联网金融</th>\n      <td>16.500000</td>\n    </tr>\n    <tr>\n      <th>人力资源服务</th>\n      <td>25.150000</td>\n    </tr>\n    <tr>\n      <th>人工智能</th>\n      <td>29.030769</td>\n    </tr>\n    <tr>\n      <th>其他商务服务业</th>\n      <td>14.800000</td>\n    </tr>\n    <tr>\n      <th>内容(音视频/阅读)</th>\n      <td>28.100000</td>\n    </tr>\n    <tr>\n      <th>农/林/牧/渔</th>\n      <td>18.050000</td>\n    </tr>\n    <tr>\n      <th>制药</th>\n      <td>21.100000</td>\n    </tr>\n    <tr>\n      <th>制药/生物工程</th>\n      <td>23.420000</td>\n    </tr>\n    <tr>\n      <th>化工</th>\n      <td>43.800000</td>\n    </tr>\n    <tr>\n      <th>区块链</th>\n      <td>24.400000</td>\n    </tr>\n    <tr>\n      <th>医疗器械</th>\n      <td>24.057143</td>\n    </tr>\n    <tr>\n      <th>医疗机构</th>\n      <td>16.142857</td>\n    </tr>\n    <tr>\n      <th>医药流通</th>\n      <td>31.550000</td>\n    </tr>\n    <tr>\n      <th>咨询服务</th>\n      <td>30.000000</td>\n    </tr>\n    <tr>\n      <th>在线教育</th>\n      <td>23.300000</td>\n    </tr>\n    <tr>\n      <th>在线社交/媒体</th>\n      <td>41.980000</td>\n    </tr>\n    <tr>\n      <th>培训服务</th>\n      <td>15.000000</td>\n    </tr>\n    <tr>\n      <th>基金</th>\n      <td>35.950000</td>\n    </tr>\n    <tr>\n      <th>基金/证券/期货</th>\n      <td>37.689474</td>\n    </tr>\n    <tr>\n      <th>室内娱乐</th>\n      <td>60.000000</td>\n    </tr>\n    <tr>\n      <th>家具/家居</th>\n      <td>26.828571</td>\n    </tr>\n    <tr>\n      <th>家具/家电</th>\n      <td>22.500000</td>\n    </tr>\n    <tr>\n      <th>工程施工</th>\n      <td>24.400000</td>\n    </tr>\n    <tr>\n      <th>工艺品</th>\n      <td>22.750000</td>\n    </tr>\n    <tr>\n      <th>广告/公关/会展</th>\n      <td>25.166667</td>\n    </tr>\n    <tr>\n      <th>建材</th>\n      <td>27.700000</td>\n    </tr>\n    <tr>\n      <th>房地产开发经营</th>\n      <td>23.400000</td>\n    </tr>\n    <tr>\n      <th>房地产租赁/中介</th>\n      <td>22.500000</td>\n    </tr>\n    <tr>\n      <th>批发/零售</th>\n      <td>22.600000</td>\n    </tr>\n    <tr>\n      <th>整车制造</th>\n      <td>31.666667</td>\n    </tr>\n    <tr>\n      <th>文化艺术业</th>\n      <td>10.000000</td>\n    </tr>\n    <tr>\n      <th>新材料</th>\n      <td>25.000000</td>\n    </tr>\n    <tr>\n      <th>新零售</th>\n      <td>27.100000</td>\n    </tr>\n    <tr>\n      <th>日化</th>\n      <td>29.800000</td>\n    </tr>\n    <tr>\n      <th>智能硬件</th>\n      <td>28.640000</td>\n    </tr>\n    <tr>\n      <th>服装/纺织/皮革</th>\n      <td>28.250000</td>\n    </tr>\n    <tr>\n      <th>机械/设备</th>\n      <td>30.300000</td>\n    </tr>\n    <tr>\n      <th>消费品</th>\n      <td>37.500000</td>\n    </tr>\n    <tr>\n      <th>游戏</th>\n      <td>25.070000</td>\n    </tr>\n    <tr>\n      <th>物联网</th>\n      <td>25.000000</td>\n    </tr>\n    <tr>\n      <th>生活服务O2O</th>\n      <td>27.520000</td>\n    </tr>\n    <tr>\n      <th>生物技术</th>\n      <td>17.950000</td>\n    </tr>\n    <tr>\n      <th>电子/半导体/集成电路</th>\n      <td>26.154545</td>\n    </tr>\n    <tr>\n      <th>电子商务</th>\n      <td>24.635714</td>\n    </tr>\n    <tr>\n      <th>电气机械/器材</th>\n      <td>39.960000</td>\n    </tr>\n    <tr>\n      <th>科技金融</th>\n      <td>34.100000</td>\n    </tr>\n    <tr>\n      <th>计算机硬件</th>\n      <td>30.000000</td>\n    </tr>\n    <tr>\n      <th>计算机软件</th>\n      <td>29.802273</td>\n    </tr>\n    <tr>\n      <th>贸易/进出口</th>\n      <td>37.900000</td>\n    </tr>\n    <tr>\n      <th>通信设备</th>\n      <td>19.300000</td>\n    </tr>\n    <tr>\n      <th>金属制品</th>\n      <td>16.500000</td>\n    </tr>\n    <tr>\n      <th>银行</th>\n      <td>26.625000</td>\n    </tr>\n    <tr>\n      <th>食品/饮料/日化</th>\n      <td>36.975000</td>\n    </tr>\n    <tr>\n      <th>食品/饮料/酒水</th>\n      <td>24.700000</td>\n    </tr>\n  </tbody>\n</table>\n</div>"
     },
     "execution_count": 48,
     "metadata": {},
     "output_type": "execute_result"
    }
   ],
   "source": [
    "# 分行业\n",
    "df_industry = 非薪资面议.groupby('行业').agg({'平均薪资':'mean'})\n",
    "df_industry"
   ]
  },
  {
   "cell_type": "code",
   "execution_count": 49,
   "id": "b22612f0",
   "metadata": {},
   "outputs": [],
   "source": [
    "with pd.ExcelWriter(key+'_'+output_time+'_.xlsx') as writer:  \n",
    "    df_year_salary.to_excel(writer, sheet_name='分工作年限平均薪资')\n",
    "    df_year_edulevel.to_excel(writer, sheet_name='分学历平均薪资')\n",
    "    df_industry.to_excel(writer, sheet_name='分行业平均薪资')"
   ]
  },
  {
   "cell_type": "code",
   "execution_count": 49,
   "id": "9326b535",
   "metadata": {},
   "outputs": [],
   "source": []
  },
  {
   "cell_type": "code",
   "execution_count": 49,
   "id": "2b4f207e",
   "metadata": {},
   "outputs": [],
   "source": []
  },
  {
   "cell_type": "code",
   "execution_count": 49,
   "id": "70f92c9d",
   "metadata": {},
   "outputs": [],
   "source": []
  },
  {
   "cell_type": "code",
   "execution_count": 49,
   "id": "981e1308",
   "metadata": {},
   "outputs": [],
   "source": []
  }
 ],
 "metadata": {
  "kernelspec": {
   "display_name": "Python 3",
   "language": "python",
   "name": "python3"
  },
  "language_info": {
   "codemirror_mode": {
    "name": "ipython",
    "version": 3
   },
   "file_extension": ".py",
   "mimetype": "text/x-python",
   "name": "python",
   "nbconvert_exporter": "python",
   "pygments_lexer": "ipython3",
   "version": "3.8.8"
  },
  "toc": {
   "base_numbering": 1,
   "nav_menu": {},
   "number_sections": true,
   "sideBar": true,
   "skip_h1_title": false,
   "title_cell": "Table of Contents",
   "title_sidebar": "Contents",
   "toc_cell": false,
   "toc_position": {
    "height": "618px",
    "left": "29px",
    "top": "111.125px",
    "width": "327.188px"
   },
   "toc_section_display": true,
   "toc_window_display": true
  }
 },
 "nbformat": 4,
 "nbformat_minor": 5
}
