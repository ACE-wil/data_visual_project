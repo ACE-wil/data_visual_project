{
 "cells": [
  {
   "cell_type": "code",
   "execution_count": 31,
   "outputs": [
    {
     "name": "stdout",
     "output_type": "stream",
     "text": [
      "链接: http://gongyi.ifeng.com/, 文本: 公益\n",
      "链接: http://culture.ifeng.com/, 文本: 文化\n",
      "链接: http://fo.ifeng.com/, 文本: 佛教\n",
      "链接: http://media.ifeng.com/, 文本: 传媒\n",
      "链接: http://mag.book.ifeng.com/, 文本: 杂志\n",
      "链接: http://play.ifeng.com/, 文本: 爱玩\n",
      "链接: http://zhongyi.ifeng.com/, 文本: 中医\n",
      "链接: http://www.ifeng.com/, 文本: \n",
      "链接: http://finance.ifeng.com/, 文本: \n",
      "链接: http://3g.ifeng.com/3g/finance.html, 文本: 手机凤凰网\n",
      "链接: http://app.finance.ifeng.com/shortcut.php?site=finance.ifeng.com/, 文本: 加入桌面\n",
      "链接: None, 文本: 站内\n",
      "链接: None, 文本: 站外\n",
      "链接: None, 文本: 证券\n",
      "链接: None, 文本: 汽车\n",
      "链接: None, 文本: 视频\n",
      "链接: http://www.ifeng.com/, 文本: 首页\n",
      "链接: http://news.ifeng.com/, 文本: 资讯\n",
      "链接: http://news.ifeng.com/taiwan/, 文本: 台湾\n",
      "链接: http://opinion.ifeng.com/, 文本: 评论\n",
      "链接: http://finance.ifeng.com/, 文本: 财经\n",
      "链接: http://auto.ifeng.com/, 文本: 汽车\n",
      "链接: http://tech.ifeng.com/, 文本: 科技\n",
      "链接: http://house.ifeng.com/, 文本: 房产\n",
      "链接: http://ent.ifeng.com/, 文本: 娱乐\n",
      "链接: http://astro.ifeng.com/, 文本: 星座\n",
      "链接: http://fashion.ifeng.com/, 文本: 时尚\n",
      "链接: http://news.ifeng.com/sports/, 文本: 体育\n",
      "链接: http://news.ifeng.com/mil/, 文本: 军事\n",
      "链接: http://news.ifeng.com/history/, 文本: 历史\n",
      "链接: http://book.ifeng.com/, 文本: 读书\n",
      "链接: http://edu.ifeng.com/, 文本: 教育\n",
      "链接: http://health.ifeng.com/, 文本: 健康\n",
      "链接: http://baby.ifeng.com/, 文本: 亲子\n",
      "链接: http://games.ifeng.com/, 文本: 游戏\n",
      "链接: http://city.ifeng.com/, 文本: 城市\n",
      "链接: http://bbs.ifeng.com/, 文本: 论坛\n",
      "链接: http://blog.ifeng.com/, 文本: 博报\n",
      "链接: http://t.ifeng.com/, 文本: 微博\n",
      "链接: http://v.ifeng.com/, 文本: 视频\n",
      "链接: http://v.ifeng.com/documentary/index.shtml, 文本: 纪实\n",
      "链接: http://v.ifeng.com/live/, 文本: 直播\n",
      "链接: http://phtv.ifeng.com/, 文本: 凤凰卫视\n",
      "链接: http://finance.ifeng.com/news, 文本: 新闻\n",
      "链接: http://finance.ifeng.com/opinion, 文本: 评论\n",
      "链接: http://finance.ifeng.com/column, 文本: 专栏\n",
      "链接: http://finance.ifeng.com/news/industry, 文本: 产经\n",
      "链接: http://finance.ifeng.com/news/bgt, 文本: 消费\n",
      "链接: http://finance.ifeng.com/video, 文本: 视频\n",
      "链接: http://finance.ifeng.com/zhuanti, 文本: 专题\n",
      "链接: http://finance.ifeng.com/fund/, 文本: 基金\n",
      "链接: http://finance.ifeng.com/money, 文本: 理财\n",
      "链接: http://finance.ifeng.com/bank, 文本: 银行\n",
      "链接: http://finance.ifeng.com/money/insurance/hydt, 文本: 保险\n",
      "链接: http://finance.ifeng.com/forex, 文本: 外汇\n",
      "链接: http://finance.ifeng.com/future/qhzx, 文本: 期货\n",
      "链接: http://finance.ifeng.com/gold, 文本: 贵金属\n",
      "链接: http://finance.ifeng.com/collection, 文本: 收藏\n",
      "链接: http://job.finance.ifeng.com, 文本: 职场\n",
      "链接: http://leadership.finance.ifeng.com, 文本: 管理\n",
      "链接: http://3g.finance.ifeng.com, 文本: 3G\n",
      "链接: http://finance.ifeng.com/company, 文本: 企业\n",
      "链接: http://finance.ifeng.com/people, 文本: 人物\n",
      "链接: http://app.finance.ifeng.com/calendar, 文本: 日历\n",
      "链接: http://finance.ifeng.com/stock, 文本: 股票\n",
      "链接: http://finance.ifeng.com/app/hq, 文本: 行情\n",
      "链接: http://app.finance.ifeng.com/data/, 文本: 数据\n",
      "链接: http://finance.ifeng.com/report/, 文本: 研报\n",
      "链接: http://finance.ifeng.com/stock/jshq, 文本: 大盘\n",
      "链接: http://finance.ifeng.com/stock/ssgs, 文本: 公司\n",
      "链接: http://finance.ifeng.com/jigou, 文本: 机构\n",
      "链接: http://finance.ifeng.com/stock/ggpj, 文本: 评级\n",
      "链接: http://finance.ifeng.com/stock/zjlx, 文本: 主力\n",
      "链接: http://finance.ifeng.com/stock/gszs, 文本: 荐股\n",
      "链接: http://tjzj.finance.ifeng.com/, 文本: 图解\n",
      "链接: http://finance.ifeng.com/ipo, 文本: 新股\n",
      "链接: http://finance.ifeng.com/hk, 文本: 港股\n",
      "链接: http://finance.ifeng.com/usstock, 文本: 美股\n",
      "链接: http://finance.ifeng.com/gem, 文本: 创业板\n",
      "链接: http://finance.ifeng.com/toprank, 文本: 排行\n",
      "链接: http://finance.ifeng.com/rt_channel, 文本: 滚动\n",
      "链接: http://baike.finance.ifeng.com, 文本: 百科\n",
      "链接: http://finance.ifeng.com/stock/special/lhbdp/, 文本: 黑马\n",
      "链接: http://guba.finance.ifeng.com/, 文本: 股吧\n",
      "链接: http://blog.finance.ifeng.com, 文本: 博客\n",
      "链接: http://www.ifeng.com/corp/feedback/, 文本: 提点意见\n",
      "链接: http://finance.ifeng.com/rss/, 文本: \n",
      "链接: ?s=22&f=chg_pct&o=asc, 文本: 涨跌幅↓\n",
      "链接: ?s=22&f=limitupnum&o=asc, 文本: 涨停数\n",
      "链接: ?s=22&f=limitdownnum&o=asc, 文本: 跌停数\n",
      "链接: http://app.finance.ifeng.com/list/stock_cate.php?c=R86&s=22&level=2&cname=广播、电视、电影和影视录音制作业, 文本: 广播、电视、电影和影视录音制作业\n",
      "链接: http://finance.ifeng.com/app/hq/stock/sh603721/index.shtml, 文本: 中广天择\n",
      "链接: http://finance.ifeng.com/app/hq/stock/sh600715/index.shtml, 文本: 文投控股\n",
      "链接: http://app.finance.ifeng.com/list/stock_cate.php?c=L71&s=22&level=2&cname=租赁业, 文本: 租赁业\n",
      "链接: http://finance.ifeng.com/app/hq/stock/sh600830/index.shtml, 文本: 香溢融通\n",
      "链接: http://finance.ifeng.com/app/hq/stock/sh603300/index.shtml, 文本: 华铁应急\n",
      "链接: http://app.finance.ifeng.com/list/stock_cate.php?c=C21&s=22&level=2&cname=家具制造业, 文本: 家具制造业\n",
      "链接: http://finance.ifeng.com/app/hq/stock/sz301061/index.shtml, 文本: 匠心家居\n",
      "链接: http://finance.ifeng.com/app/hq/stock/sz300729/index.shtml, 文本: 乐歌股份\n",
      "链接: http://app.finance.ifeng.com/list/stock_cate.php?c=R88&s=22&level=2&cname=体育, 文本: 体育\n",
      "链接: http://finance.ifeng.com/app/hq/stock/sz002858/index.shtml, 文本: 力盛体育\n",
      "链接: http://finance.ifeng.com/app/hq/stock/sh600158/index.shtml, 文本: 中体产业\n",
      "链接: http://app.finance.ifeng.com/list/stock_cate.php?c=L&s=22&level=1&cname=租赁和商务服务业, 文本: 租赁和商务服务业\n",
      "链接: http://finance.ifeng.com/app/hq/stock/sz300781/index.shtml, 文本: 因赛集团\n",
      "链接: http://finance.ifeng.com/app/hq/stock/sh603836/index.shtml, 文本: 海程邦达\n",
      "链接: http://app.finance.ifeng.com/list/stock_cate.php?c=L72&s=22&level=2&cname=商务服务业, 文本: 商务服务业\n",
      "链接: http://finance.ifeng.com/app/hq/stock/sz300781/index.shtml, 文本: 因赛集团\n",
      "链接: http://finance.ifeng.com/app/hq/stock/sh603836/index.shtml, 文本: 海程邦达\n",
      "链接: http://app.finance.ifeng.com/list/stock_cate.php?c=R&s=22&level=1&cname=文化、体育和娱乐业, 文本: 文化、体育和娱乐业\n",
      "链接: http://finance.ifeng.com/app/hq/stock/sh603230/index.shtml, 文本: 内蒙新华\n",
      "链接: http://finance.ifeng.com/app/hq/stock/sh605577/index.shtml, 文本: 龙版传媒\n",
      "链接: http://app.finance.ifeng.com/list/stock_cate.php?c=C24&s=22&level=2&cname=文教、工美、体育和娱乐用品制造业, 文本: 文教、工美、体育和娱乐用品制造业\n",
      "链接: http://finance.ifeng.com/app/hq/stock/sz002292/index.shtml, 文本: 奥飞娱乐\n",
      "链接: http://finance.ifeng.com/app/hq/stock/sh603398/index.shtml, 文本: 沐邦高科\n",
      "链接: http://app.finance.ifeng.com/list/stock_cate.php?c=R85&s=22&level=2&cname=新闻和出版业, 文本: 新闻和出版业\n",
      "链接: http://finance.ifeng.com/app/hq/stock/sh603230/index.shtml, 文本: 内蒙新华\n",
      "链接: http://finance.ifeng.com/app/hq/stock/sh605577/index.shtml, 文本: 龙版传媒\n",
      "链接: http://app.finance.ifeng.com/list/stock_cate.php?c=E47&s=22&level=2&cname=房屋建筑业, 文本: 房屋建筑业\n",
      "链接: http://finance.ifeng.com/app/hq/stock/sz000628/index.shtml, 文本: 高新发展\n",
      "链接: http://finance.ifeng.com/app/hq/stock/sh600939/index.shtml, 文本: 重庆建工\n",
      "链接: http://app.finance.ifeng.com/list/stock_cate.php?c=K&s=22&level=1&cname=房地产业, 文本: 房地产业\n",
      "链接: http://finance.ifeng.com/app/hq/stock/sh600748/index.shtml, 文本: 上实发展\n",
      "链接: http://finance.ifeng.com/app/hq/stock/sh600807/index.shtml, 文本: 济南高新\n",
      "链接: http://app.finance.ifeng.com/list/stock_cate.php?c=K70&s=22&level=2&cname=房地产业, 文本: 房地产业\n",
      "链接: http://finance.ifeng.com/app/hq/stock/sh600748/index.shtml, 文本: 上实发展\n",
      "链接: http://finance.ifeng.com/app/hq/stock/sh600807/index.shtml, 文本: 济南高新\n",
      "链接: http://app.finance.ifeng.com/list/stock_cate.php?c=I64&s=22&level=2&cname=互联网和相关服务, 文本: 互联网和相关服务\n",
      "链接: http://finance.ifeng.com/app/hq/stock/sh600358/index.shtml, 文本: 国旅联合\n",
      "链接: http://finance.ifeng.com/app/hq/stock/sh600228/index.shtml, 文本: 返利科技\n",
      "链接: http://app.finance.ifeng.com/list/stock_cate.php?c=G59&s=22&level=2&cname=仓储业, 文本: 仓储业\n",
      "链接: http://finance.ifeng.com/app/hq/stock/sh603066/index.shtml, 文本: 音飞储存\n",
      "链接: http://finance.ifeng.com/app/hq/stock/sz002930/index.shtml, 文本: 宏川智慧\n",
      "链接: http://app.finance.ifeng.com/list/stock_cate.php?c=C20&s=22&level=2&cname=木材加工和木、竹、藤、棕、草制品业, 文本: 木材加工和木、竹、藤、棕、草制品业\n",
      "链接: http://finance.ifeng.com/app/hq/stock/sz001211/index.shtml, 文本: 双枪科技\n",
      "链接: http://finance.ifeng.com/app/hq/stock/sh600321/index.shtml, 文本: 正源股份\n",
      "链接: http://app.finance.ifeng.com/list/stock_cate.php?c=C17&s=22&level=2&cname=纺织业, 文本: 纺织业\n",
      "链接: http://finance.ifeng.com/app/hq/stock/sh600630/index.shtml, 文本: 龙头股份\n",
      "链接: http://finance.ifeng.com/app/hq/stock/sh600689/index.shtml, 文本: 上海三毛\n",
      "链接: http://app.finance.ifeng.com/list/stock_cate.php?c=C19&s=22&level=2&cname=皮革、毛皮、羽毛及其制品和制鞋业, 文本: 皮革、毛皮、羽毛及其制品和制鞋业\n",
      "链接: http://finance.ifeng.com/app/hq/stock/sh603608/index.shtml, 文本: 天创时尚\n",
      "链接: http://finance.ifeng.com/app/hq/stock/sh603557/index.shtml, 文本: ST起步\n",
      "链接: http://app.finance.ifeng.com/list/stock_cate.php?c=C13&s=22&level=2&cname=农副食品加工业, 文本: 农副食品加工业\n",
      "链接: http://finance.ifeng.com/app/hq/stock/sh603231/index.shtml, 文本: N索宝\n",
      "链接: http://finance.ifeng.com/app/hq/stock/sz002385/index.shtml, 文本: 大北农\n",
      "链接: http://app.finance.ifeng.com/list/stock_cate.php?c=R87&s=22&level=2&cname=文化艺术业, 文本: 文化艺术业\n",
      "链接: http://finance.ifeng.com/app/hq/stock/sh603466/index.shtml, 文本: 风语筑\n",
      "链接: http://finance.ifeng.com/app/hq/stock/sz002699/index.shtml, 文本: *ST美盛\n",
      "链接: http://app.finance.ifeng.com/list/stock_cate.php?c=I63&s=22&level=2&cname=电信、广播电视和卫星传输服务, 文本: 电信、广播电视和卫星传输服务\n",
      "链接: http://finance.ifeng.com/app/hq/stock/sz301262/index.shtml, 文本: 海看股份\n",
      "链接: http://finance.ifeng.com/app/hq/stock/sh603559/index.shtml, 文本: ST通脉\n",
      "链接: http://app.finance.ifeng.com/list/stock_cate.php?c=A02&s=22&level=2&cname=林业, 文本: 林业\n",
      "链接: http://finance.ifeng.com/app/hq/stock/sz002200/index.shtml, 文本: ST交投\n",
      "链接: http://finance.ifeng.com/app/hq/stock/sh600265/index.shtml, 文本: ST景谷\n",
      "链接: http://app.finance.ifeng.com/list/stock_cate.php?c=B08&s=22&level=2&cname=黑色金属矿采选业, 文本: 黑色金属矿采选业\n",
      "链接: http://finance.ifeng.com/app/hq/stock/sz000762/index.shtml, 文本: 西藏矿业\n",
      "链接: http://finance.ifeng.com/app/hq/stock/sz001203/index.shtml, 文本: 大中矿业\n",
      "链接: http://app.finance.ifeng.com/list/stock_cate.php?c=F52&s=22&level=2&cname=零售业, 文本: 零售业\n",
      "链接: http://finance.ifeng.com/app/hq/stock/sh600697/index.shtml, 文本: 欧亚集团\n",
      "链接: http://finance.ifeng.com/app/hq/stock/sh600327/index.shtml, 文本: 大东方\n",
      "链接: http://app.finance.ifeng.com/list/stock_cate.php?c=A01&s=22&level=2&cname=农业, 文本: 农业\n",
      "链接: http://finance.ifeng.com/app/hq/stock/sh600540/index.shtml, 文本: 新赛股份\n",
      "链接: http://finance.ifeng.com/app/hq/stock/sh600313/index.shtml, 文本: 农发种业\n",
      "链接: http://app.finance.ifeng.com/list/stock_cate.php?c=A05&s=22&level=2&cname=农、林、牧、渔服务业, 文本: 农、林、牧、渔服务业\n",
      "链接: http://finance.ifeng.com/app/hq/stock/sz000713/index.shtml, 文本: 丰乐种业\n",
      "链接: http://finance.ifeng.com/app/hq/stock/sz000713/index.shtml, 文本: 丰乐种业\n",
      "链接: http://app.finance.ifeng.com/list/stock_cate.php?c=S&s=22&level=1&cname=综合, 文本: 综合\n",
      "链接: http://finance.ifeng.com/app/hq/stock/sz000833/index.shtml, 文本: 粤桂股份\n",
      "链接: http://finance.ifeng.com/app/hq/stock/sh600212/index.shtml, 文本: 绿能慧充\n",
      "链接: http://app.finance.ifeng.com/list/stock_cate.php?c=S90&s=22&level=2&cname=综合, 文本: 综合\n",
      "链接: http://finance.ifeng.com/app/hq/stock/sz000833/index.shtml, 文本: 粤桂股份\n",
      "链接: http://finance.ifeng.com/app/hq/stock/sh600212/index.shtml, 文本: 绿能慧充\n",
      "链接: http://app.finance.ifeng.com/list/stock_cate.php?c=A03&s=22&level=2&cname=畜牧业, 文本: 畜牧业\n",
      "链接: http://finance.ifeng.com/app/hq/stock/sz002157/index.shtml, 文本: *ST 正邦\n",
      "链接: http://finance.ifeng.com/app/hq/stock/sz300313/index.shtml, 文本: *ST天山\n",
      "链接: http://app.finance.ifeng.com/list/stock_cate.php?c=J67&s=22&level=2&cname=资本市场服务, 文本: 资本市场服务\n",
      "链接: http://finance.ifeng.com/app/hq/stock/sh600621/index.shtml, 文本: 华鑫股份\n",
      "链接: http://finance.ifeng.com/app/hq/stock/sh601878/index.shtml, 文本: 浙商证券\n",
      "链接: http://app.finance.ifeng.com/list/stock_cate.php?c=A&s=22&level=1&cname=农、林、牧、渔业, 文本: 农、林、牧、渔业\n",
      "链接: http://finance.ifeng.com/app/hq/stock/sz002157/index.shtml, 文本: *ST 正邦\n",
      "链接: http://finance.ifeng.com/app/hq/stock/sz300313/index.shtml, 文本: *ST天山\n",
      "链接: http://app.finance.ifeng.com/list/stock_cate.php?c=C32&s=22&level=2&cname=有色金属冶炼和压延加工业, 文本: 有色金属冶炼和压延加工业\n",
      "链接: http://finance.ifeng.com/app/hq/stock/sh600255/index.shtml, 文本: 鑫科材料\n",
      "链接: http://finance.ifeng.com/app/hq/stock/sz300697/index.shtml, 文本: 电工合金\n",
      "链接: http://app.finance.ifeng.com/list/stock_cate.php?c=N78&s=22&level=2&cname=公共设施管理业, 文本: 公共设施管理业\n",
      "链接: http://finance.ifeng.com/app/hq/stock/sh600706/index.shtml, 文本: 曲江文旅\n",
      "链接: http://finance.ifeng.com/app/hq/stock/sz000978/index.shtml, 文本: 桂林旅游\n",
      "链接: http://app.finance.ifeng.com/list/stock_cate.php?c=C30&s=22&level=2&cname=非金属矿物制品业, 文本: 非金属矿物制品业\n",
      "链接: http://finance.ifeng.com/app/hq/stock/sz300093/index.shtml, 文本: 金刚光伏\n",
      "链接: http://finance.ifeng.com/app/hq/stock/sh900918/index.shtml, 文本: 耀皮Ｂ股\n",
      "链接: http://app.finance.ifeng.com/list/stock_cate.php?c=C18&s=22&level=2&cname=纺织服装、服饰业, 文本: 纺织服装、服饰业\n",
      "链接: http://finance.ifeng.com/app/hq/stock/sz002875/index.shtml, 文本: 安奈儿\n",
      "链接: http://finance.ifeng.com/app/hq/stock/sz002291/index.shtml, 文本: 遥望科技\n",
      "链接: http://app.finance.ifeng.com/list/stock_cate.php?c=H61&s=22&level=2&cname=住宿业, 文本: 住宿业\n",
      "链接: http://finance.ifeng.com/app/hq/stock/sh900934/index.shtml, 文本: 锦江Ｂ股\n",
      "链接: http://finance.ifeng.com/app/hq/stock/sz000428/index.shtml, 文本: 华天酒店\n",
      "链接: http://app.finance.ifeng.com/list/stock_cate.php?c=B11&s=22&level=2&cname=开采辅助活动, 文本: 开采辅助活动\n",
      "链接: http://finance.ifeng.com/app/hq/stock/sh603979/index.shtml, 文本: 金诚信\n",
      "链接: http://finance.ifeng.com/app/hq/stock/sh600871/index.shtml, 文本: 石化油服\n",
      "链接: http://app.finance.ifeng.com/list/stock_cate.php?c=H&s=22&level=1&cname=住宿和餐饮业, 文本: 住宿和餐饮业\n",
      "链接: http://finance.ifeng.com/app/hq/stock/sh605108/index.shtml, 文本: 同庆楼\n",
      "链接: http://finance.ifeng.com/app/hq/stock/sz000721/index.shtml, 文本: 西安饮食\n",
      "链接: http://app.finance.ifeng.com/list/stock_cate.php?c=E49&s=22&level=2&cname=建筑安装业, 文本: 建筑安装业\n",
      "链接: http://finance.ifeng.com/app/hq/stock/sz000032/index.shtml, 文本: 深桑达Ａ\n",
      "链接: http://finance.ifeng.com/app/hq/stock/sh601133/index.shtml, 文本: 柏诚股份\n",
      "链接: http://app.finance.ifeng.com/list/stock_cate.php?c=H62&s=22&level=2&cname=餐饮业, 文本: 餐饮业\n",
      "链接: http://finance.ifeng.com/app/hq/stock/sh605108/index.shtml, 文本: 同庆楼\n",
      "链接: http://finance.ifeng.com/app/hq/stock/sz000721/index.shtml, 文本: 西安饮食\n",
      "链接: http://app.finance.ifeng.com/list/stock_cate.php?c=C15&s=22&level=2&cname=酒、饮料和精制茶制造业, 文本: 酒、饮料和精制茶制造业\n",
      "链接: http://finance.ifeng.com/app/hq/stock/sh600238/index.shtml, 文本: 海南椰岛\n",
      "链接: http://finance.ifeng.com/app/hq/stock/sh600696/index.shtml, 文本: 岩石股份\n",
      "链接: http://app.finance.ifeng.com/list/stock_cate.php?c=C41&s=22&level=2&cname=其他制造业, 文本: 其他制造业\n",
      "链接: http://finance.ifeng.com/app/hq/stock/sz301357/index.shtml, 文本: 北方长龙\n",
      "链接: http://finance.ifeng.com/app/hq/stock/sh688543/index.shtml, 文本: 国科军工\n",
      "链接: http://app.finance.ifeng.com/list/stock_cate.php?c=C25&s=22&level=2&cname=石油加工、炼焦和核燃料加工业, 文本: 石油加工、炼焦和核燃料加工业\n",
      "链接: http://finance.ifeng.com/app/hq/stock/sh600725/index.shtml, 文本: 云维股份\n",
      "链接: http://finance.ifeng.com/app/hq/stock/sh600792/index.shtml, 文本: 云煤能源\n",
      "链接: http://app.finance.ifeng.com/list/stock_cate.php?c=C22&s=22&level=2&cname=造纸和纸制品业, 文本: 造纸和纸制品业\n",
      "链接: http://finance.ifeng.com/app/hq/stock/sh603607/index.shtml, 文本: 京华激光\n",
      "链接: http://finance.ifeng.com/app/hq/stock/sz000815/index.shtml, 文本: 美利云\n",
      "链接: http://app.finance.ifeng.com/list/stock_cate.php?c=E48&s=22&level=2&cname=土木工程建筑业, 文本: 土木工程建筑业\n",
      "链接: http://finance.ifeng.com/app/hq/stock/sz000065/index.shtml, 文本: 北方国际\n",
      "链接: http://finance.ifeng.com/app/hq/stock/sh600133/index.shtml, 文本: 东湖高新\n",
      "链接: http://app.finance.ifeng.com/list/stock_cate.php?c=E&s=22&level=1&cname=建筑业, 文本: 建筑业\n",
      "链接: http://finance.ifeng.com/app/hq/stock/sz000065/index.shtml, 文本: 北方国际\n",
      "链接: http://finance.ifeng.com/app/hq/stock/sz002989/index.shtml, 文本: 中天精装\n",
      "链接: http://app.finance.ifeng.com/list/stock_cate.php?c=J&s=22&level=1&cname=金融业, 文本: 金融业\n",
      "链接: http://finance.ifeng.com/app/hq/stock/sh600621/index.shtml, 文本: 华鑫股份\n",
      "链接: http://finance.ifeng.com/app/hq/stock/sz000046/index.shtml, 文本: *ST泛海\n",
      "链接: http://app.finance.ifeng.com/list/stock_cate.php?c=C29&s=22&level=2&cname=橡胶和塑料制品业, 文本: 橡胶和塑料制品业\n",
      "链接: http://finance.ifeng.com/app/hq/stock/sh605488/index.shtml, 文本: 福莱新材\n",
      "链接: http://finance.ifeng.com/app/hq/stock/sz301459/index.shtml, 文本: C丰茂\n",
      "链接: http://app.finance.ifeng.com/list/stock_cate.php?c=C42&s=22&level=2&cname=废弃资源综合利用业, 文本: 废弃资源综合利用业\n",
      "链接: http://finance.ifeng.com/app/hq/stock/sz001269/index.shtml, 文本: 欧晶科技\n",
      "链接: http://finance.ifeng.com/app/hq/stock/sz300779/index.shtml, 文本: 惠城环保\n",
      "链接: http://app.finance.ifeng.com/list/stock_cate.php?c=B09&s=22&level=2&cname=有色金属矿采选业, 文本: 有色金属矿采选业\n",
      "链接: http://finance.ifeng.com/app/hq/stock/sz002192/index.shtml, 文本: 融捷股份\n",
      "链接: http://finance.ifeng.com/app/hq/stock/sz000426/index.shtml, 文本: 兴业银锡\n",
      "链接: http://app.finance.ifeng.com/list/stock_cate.php?c=C26&s=22&level=2&cname=化学原料和化学制品制造业, 文本: 化学原料和化学制品制造业\n",
      "链接: http://finance.ifeng.com/app/hq/stock/sz002591/index.shtml, 文本: 恒大高新\n",
      "链接: http://finance.ifeng.com/app/hq/stock/sh600589/index.shtml, 文本: *ST榕泰\n",
      "链接: http://app.finance.ifeng.com/list/stock_cate.php?c=N&s=22&level=1&cname=水利、环境和公共设施管理业, 文本: 水利、环境和公共设施管理业\n",
      "链接: http://finance.ifeng.com/app/hq/stock/sz300961/index.shtml, 文本: 深水海纳\n",
      "链接: http://finance.ifeng.com/app/hq/stock/sz300495/index.shtml, 文本: *ST美尚\n",
      "链接: http://app.finance.ifeng.com/list/stock_cate.php?c=O&s=22&level=1&cname=居民服务、修理和其他服务业, 文本: 居民服务、修理和其他服务业\n",
      "链接: http://finance.ifeng.com/app/hq/stock/sz300736/index.shtml, 文本: 百邦科技\n",
      "链接: http://finance.ifeng.com/app/hq/stock/sz300736/index.shtml, 文本: 百邦科技\n",
      "链接: http://app.finance.ifeng.com/list/stock_cate.php?c=O80&s=22&level=2&cname=机动车、电子产品和日用产品修理业, 文本: 机动车、电子产品和日用产品修理业\n",
      "链接: http://finance.ifeng.com/app/hq/stock/sz300736/index.shtml, 文本: 百邦科技\n",
      "链接: http://finance.ifeng.com/app/hq/stock/sz300736/index.shtml, 文本: 百邦科技\n",
      "链接: http://app.finance.ifeng.com/list/stock_cate.php?c=J68&s=22&level=2&cname=保险业, 文本: 保险业\n",
      "链接: http://finance.ifeng.com/app/hq/stock/sh601318/index.shtml, 文本: 中国平安\n",
      "链接: http://finance.ifeng.com/app/hq/stock/sh601319/index.shtml, 文本: 中国人保\n",
      "链接: http://app.finance.ifeng.com/list/stock_cate.php?c=E50&s=22&level=2&cname=建筑装饰和其他建筑业, 文本: 建筑装饰和其他建筑业\n",
      "链接: http://finance.ifeng.com/app/hq/stock/sh605289/index.shtml, 文本: 罗曼股份\n",
      "链接: http://finance.ifeng.com/app/hq/stock/sz002989/index.shtml, 文本: 中天精装\n",
      "链接: http://app.finance.ifeng.com/list/stock_cate.php?c=A04&s=22&level=2&cname=渔业, 文本: 渔业\n",
      "链接: http://finance.ifeng.com/app/hq/stock/sz002086/index.shtml, 文本: *ST东洋\n",
      "链接: http://finance.ifeng.com/app/hq/stock/sh600257/index.shtml, 文本: 大湖股份\n",
      "链接: http://app.finance.ifeng.com/list/stock_cate.php?c=C23&s=22&level=2&cname=印刷和记录媒介复制业, 文本: 印刷和记录媒介复制业\n",
      "链接: http://finance.ifeng.com/app/hq/stock/sz002951/index.shtml, 文本: ST金时\n",
      "链接: http://finance.ifeng.com/app/hq/stock/sh600836/index.shtml, 文本: 上海易连\n",
      "链接: http://app.finance.ifeng.com/list/stock_cate.php?c=N77&s=22&level=2&cname=生态保护和环境治理业, 文本: 生态保护和环境治理业\n",
      "链接: http://finance.ifeng.com/app/hq/stock/sz300961/index.shtml, 文本: 深水海纳\n",
      "链接: http://finance.ifeng.com/app/hq/stock/sz300495/index.shtml, 文本: *ST美尚\n",
      "链接: http://app.finance.ifeng.com/list/stock_cate.php?c=M74&s=22&level=2&cname=专业技术服务业, 文本: 专业技术服务业\n",
      "链接: http://finance.ifeng.com/app/hq/stock/sz301508/index.shtml, 文本: 中机认检\n",
      "链接: http://finance.ifeng.com/app/hq/stock/sz300416/index.shtml, 文本: 苏试试验\n",
      "链接: http://app.finance.ifeng.com/list/stock_cate.php?c=F&s=22&level=1&cname=批发和零售业, 文本: 批发和零售业\n",
      "链接: http://finance.ifeng.com/app/hq/stock/sh600697/index.shtml, 文本: 欧亚集团\n",
      "链接: http://finance.ifeng.com/app/hq/stock/sh600083/index.shtml, 文本: 博信股份\n",
      "链接: http://app.finance.ifeng.com/list/stock_cate.php?c=B07&s=22&level=2&cname=石油和天然气开采业, 文本: 石油和天然气开采业\n",
      "链接: http://finance.ifeng.com/app/hq/stock/sh600759/index.shtml, 文本: *ST洲际\n",
      "链接: http://finance.ifeng.com/app/hq/stock/sz000968/index.shtml, 文本: 蓝焰控股\n",
      "链接: http://app.finance.ifeng.com/list/stock_cate.php?c=D44&s=22&level=2&cname=电力、热力生产和供应业, 文本: 电力、热力生产和供应业\n",
      "链接: http://finance.ifeng.com/app/hq/stock/sh605011/index.shtml, 文本: 杭州热电\n",
      "链接: http://finance.ifeng.com/app/hq/stock/sz001210/index.shtml, 文本: 金房能源\n",
      "链接: http://app.finance.ifeng.com/list/stock_cate.php?c=C38&s=22&level=2&cname=电气机械和器材制造业, 文本: 电气机械和器材制造业\n",
      "链接: http://finance.ifeng.com/app/hq/stock/sz002176/index.shtml, 文本: 江特电机\n",
      "链接: http://finance.ifeng.com/app/hq/stock/sh603489/index.shtml, 文本: 八方股份\n",
      "链接: http://app.finance.ifeng.com/list/stock_cate.php?c=B&s=22&level=1&cname=采矿业, 文本: 采矿业\n",
      "链接: http://finance.ifeng.com/app/hq/stock/sh603979/index.shtml, 文本: 金诚信\n",
      "链接: http://finance.ifeng.com/app/hq/stock/sh600121/index.shtml, 文本: 郑州煤电\n",
      "链接: http://app.finance.ifeng.com/list/stock_cate.php?c=J69&s=22&level=2&cname=其他金融业, 文本: 其他金融业\n",
      "链接: http://finance.ifeng.com/app/hq/stock/sh600318/index.shtml, 文本: 新力金融\n",
      "链接: http://finance.ifeng.com/app/hq/stock/sz000046/index.shtml, 文本: *ST泛海\n",
      "链接: http://app.finance.ifeng.com/list/stock_cate.php?c=C33&s=22&level=2&cname=金属制品业, 文本: 金属制品业\n",
      "链接: http://finance.ifeng.com/app/hq/stock/sz002150/index.shtml, 文本: 通润装备\n",
      "链接: http://finance.ifeng.com/app/hq/stock/sz001239/index.shtml, 文本: C永达\n",
      "链接: http://app.finance.ifeng.com/list/stock_cate.php?c=C37&s=22&level=2&cname=铁路、船舶、航空航天和其他运输设备制造业, 文本: 铁路、船舶、航空航天和其他运输设备制造业\n",
      "链接: http://finance.ifeng.com/app/hq/stock/sh600099/index.shtml, 文本: 林海股份\n",
      "链接: http://finance.ifeng.com/app/hq/stock/sh900916/index.shtml, 文本: 凤凰B股\n",
      "链接: http://app.finance.ifeng.com/list/stock_cate.php?c=C14&s=22&level=2&cname=食品制造业, 文本: 食品制造业\n",
      "链接: http://finance.ifeng.com/app/hq/stock/sz002495/index.shtml, 文本: 佳隆股份\n",
      "链接: http://finance.ifeng.com/app/hq/stock/sz300765/index.shtml, 文本: 新诺威\n",
      "链接: http://app.finance.ifeng.com/list/stock_cate.php?c=C28&s=22&level=2&cname=化学纤维制造业, 文本: 化学纤维制造业\n",
      "链接: http://finance.ifeng.com/app/hq/stock/sz000782/index.shtml, 文本: 美达股份\n",
      "链接: http://finance.ifeng.com/app/hq/stock/sz000936/index.shtml, 文本: 华西股份\n",
      "链接: http://app.finance.ifeng.com/list/stock_cate.php?c=J66&s=22&level=2&cname=货币金融服务, 文本: 货币金融服务\n",
      "链接: http://finance.ifeng.com/app/hq/stock/sh600036/index.shtml, 文本: 招商银行\n",
      "链接: http://finance.ifeng.com/app/hq/stock/sh601988/index.shtml, 文本: 中国银行\n",
      "链接: http://app.finance.ifeng.com/list/stock_cate.php?c=C31&s=22&level=2&cname=黑色金属冶炼和压延加工业, 文本: 黑色金属冶炼和压延加工业\n",
      "链接: http://finance.ifeng.com/app/hq/stock/sz002756/index.shtml, 文本: 永兴材料\n",
      "链接: http://finance.ifeng.com/app/hq/stock/sh600408/index.shtml, 文本: 安泰集团\n",
      "链接: http://app.finance.ifeng.com/list/stock_cate.php?c=G54&s=22&level=2&cname=道路运输业, 文本: 道路运输业\n",
      "链接: http://finance.ifeng.com/app/hq/stock/sh601188/index.shtml, 文本: 龙江交通\n",
      "链接: http://finance.ifeng.com/app/hq/stock/sz000429/index.shtml, 文本: 粤高速Ａ\n",
      "链接: http://app.finance.ifeng.com/list/stock_cate.php?c=C35&s=22&level=2&cname=专用设备制造业, 文本: 专用设备制造业\n",
      "链接: http://finance.ifeng.com/app/hq/stock/sh600579/index.shtml, 文本: 克劳斯\n",
      "链接: http://finance.ifeng.com/app/hq/stock/sh600560/index.shtml, 文本: 金自天正\n",
      "链接: http://app.finance.ifeng.com/list/stock_cate.php?c=C&s=22&level=1&cname=制造业, 文本: 制造业\n",
      "链接: http://finance.ifeng.com/app/hq/stock/sh603231/index.shtml, 文本: N索宝\n",
      "链接: http://finance.ifeng.com/app/hq/stock/sz001239/index.shtml, 文本: C永达\n",
      "链接: http://app.finance.ifeng.com/list/stock_cate.php?c=M&s=22&level=1&cname=科学研究和技术服务业, 文本: 科学研究和技术服务业\n",
      "链接: http://finance.ifeng.com/app/hq/stock/sz301508/index.shtml, 文本: 中机认检\n",
      "链接: http://finance.ifeng.com/app/hq/stock/sz300416/index.shtml, 文本: 苏试试验\n",
      "链接: http://app.finance.ifeng.com/list/stock_cate.php?c=D&s=22&level=1&cname=电力、热力、燃气及水生产和供应业, 文本: 电力、热力、燃气及水生产和供应业\n",
      "链接: http://finance.ifeng.com/app/hq/stock/sh605011/index.shtml, 文本: 杭州热电\n",
      "链接: http://finance.ifeng.com/app/hq/stock/sz001210/index.shtml, 文本: 金房能源\n",
      "链接: http://app.finance.ifeng.com/list/stock_cate.php?c=G56&s=22&level=2&cname=航空运输业, 文本: 航空运输业\n",
      "链接: http://finance.ifeng.com/app/hq/stock/sz002928/index.shtml, 文本: 华夏航空\n",
      "链接: http://finance.ifeng.com/app/hq/stock/sh900945/index.shtml, 文本: 海控B股\n",
      "链接: http://app.finance.ifeng.com/list/stock_cate.php?c=C34&s=22&level=2&cname=通用设备制造业, 文本: 通用设备制造业\n",
      "链接: http://finance.ifeng.com/app/hq/stock/sz002598/index.shtml, 文本: 山东章鼓\n",
      "链接: http://finance.ifeng.com/app/hq/stock/sz301368/index.shtml, 文本: 丰立智能\n",
      "链接: http://app.finance.ifeng.com/list/stock_cate.php?c=G&s=22&level=1&cname=交通运输、仓储和邮政业, 文本: 交通运输、仓储和邮政业\n",
      "链接: http://finance.ifeng.com/app/hq/stock/sh603066/index.shtml, 文本: 音飞储存\n",
      "链接: http://finance.ifeng.com/app/hq/stock/sh900952/index.shtml, 文本: 锦港Ｂ股\n",
      "链接: http://app.finance.ifeng.com/list/stock_cate.php?c=G53&s=22&level=2&cname=铁路运输业, 文本: 铁路运输业\n",
      "链接: http://finance.ifeng.com/app/hq/stock/sz000557/index.shtml, 文本: 西部创业\n",
      "链接: http://finance.ifeng.com/app/hq/stock/sh601816/index.shtml, 文本: 京沪高铁\n",
      "链接: http://app.finance.ifeng.com/list/stock_cate.php?c=I&s=22&level=1&cname=信息传输、软件和信息技术服务业, 文本: 信息传输、软件和信息技术服务业\n",
      "链接: http://finance.ifeng.com/app/hq/stock/sh600358/index.shtml, 文本: 国旅联合\n",
      "链接: http://finance.ifeng.com/app/hq/stock/sz300799/index.shtml, 文本: *ST左江\n",
      "链接: http://app.finance.ifeng.com/list/stock_cate.php?c=C39&s=22&level=2&cname=计算机、通信和其他电子设备制造业, 文本: 计算机、通信和其他电子设备制造业\n",
      "链接: http://finance.ifeng.com/app/hq/stock/sz301383/index.shtml, 文本: 天键股份\n",
      "链接: http://finance.ifeng.com/app/hq/stock/sh688007/index.shtml, 文本: 光峰科技\n",
      "链接: http://app.finance.ifeng.com/list/stock_cate.php?c=G60&s=22&level=2&cname=邮政业, 文本: 邮政业\n",
      "链接: http://finance.ifeng.com/app/hq/stock/sz002352/index.shtml, 文本: 顺丰控股\n",
      "链接: http://finance.ifeng.com/app/hq/stock/sz002468/index.shtml, 文本: 申通快递\n",
      "链接: http://app.finance.ifeng.com/list/stock_cate.php?c=G58&s=22&level=2&cname=装卸搬运和运输代理业, 文本: 装卸搬运和运输代理业\n",
      "链接: http://finance.ifeng.com/app/hq/stock/sz001202/index.shtml, 文本: 炬申股份\n",
      "链接: http://finance.ifeng.com/app/hq/stock/sh603128/index.shtml, 文本: 华贸物流\n",
      "链接: http://app.finance.ifeng.com/list/stock_cate.php?c=Q&s=22&level=1&cname=卫生和社会工作, 文本: 卫生和社会工作\n",
      "链接: http://finance.ifeng.com/app/hq/stock/sz300015/index.shtml, 文本: 爱尔眼科\n",
      "链接: http://finance.ifeng.com/app/hq/stock/sz301293/index.shtml, 文本: 三博脑科\n",
      "链接: http://app.finance.ifeng.com/list/stock_cate.php?c=Q83&s=22&level=2&cname=卫生, 文本: 卫生\n",
      "链接: http://finance.ifeng.com/app/hq/stock/sz300015/index.shtml, 文本: 爱尔眼科\n",
      "链接: http://finance.ifeng.com/app/hq/stock/sz301293/index.shtml, 文本: 三博脑科\n",
      "链接: http://app.finance.ifeng.com/list/stock_cate.php?c=C36&s=22&level=2&cname=汽车制造业, 文本: 汽车制造业\n",
      "链接: http://finance.ifeng.com/app/hq/stock/sh603178/index.shtml, 文本: 圣龙股份\n",
      "链接: http://finance.ifeng.com/app/hq/stock/sh603949/index.shtml, 文本: 雪龙集团\n",
      "链接: http://app.finance.ifeng.com/list/stock_cate.php?c=B06&s=22&level=2&cname=煤炭开采和洗选业, 文本: 煤炭开采和洗选业\n",
      "链接: http://finance.ifeng.com/app/hq/stock/sh900948/index.shtml, 文本: 伊泰Ｂ股\n",
      "链接: http://finance.ifeng.com/app/hq/stock/sh600121/index.shtml, 文本: 郑州煤电\n",
      "链接: http://app.finance.ifeng.com/list/stock_cate.php?c=D46&s=22&level=2&cname=水的生产和供应业, 文本: 水的生产和供应业\n",
      "链接: http://finance.ifeng.com/app/hq/stock/sh603759/index.shtml, 文本: 海天股份\n",
      "链接: http://finance.ifeng.com/app/hq/stock/sh600769/index.shtml, 文本: 祥龙电业\n",
      "链接: http://app.finance.ifeng.com/list/stock_cate.php?c=F51&s=22&level=2&cname=批发业, 文本: 批发业\n",
      "链接: http://finance.ifeng.com/app/hq/stock/sh600647/index.shtml, 文本: *ST同达\n",
      "链接: http://finance.ifeng.com/app/hq/stock/sh600083/index.shtml, 文本: 博信股份\n",
      "链接: http://app.finance.ifeng.com/list/stock_cate.php?c=M73&s=22&level=2&cname=研究和试验发展, 文本: 研究和试验发展\n",
      "链接: http://finance.ifeng.com/app/hq/stock/sh688137/index.shtml, 文本: 近岸蛋白\n",
      "链接: http://finance.ifeng.com/app/hq/stock/sz301230/index.shtml, 文本: 泓博医药\n",
      "链接: http://app.finance.ifeng.com/list/stock_cate.php?c=C40&s=22&level=2&cname=仪器仪表制造业, 文本: 仪器仪表制造业\n",
      "链接: http://finance.ifeng.com/app/hq/stock/sz300165/index.shtml, 文本: 天瑞仪器\n",
      "链接: http://finance.ifeng.com/app/hq/stock/sh688160/index.shtml, 文本: 步科股份\n",
      "链接: http://app.finance.ifeng.com/list/stock_cate.php?c=G55&s=22&level=2&cname=水上运输业, 文本: 水上运输业\n",
      "链接: http://finance.ifeng.com/app/hq/stock/sh600428/index.shtml, 文本: 中远海特\n",
      "链接: http://finance.ifeng.com/app/hq/stock/sh900952/index.shtml, 文本: 锦港Ｂ股\n",
      "链接: http://app.finance.ifeng.com/list/stock_cate.php?c=D45&s=22&level=2&cname=燃气生产和供应业, 文本: 燃气生产和供应业\n",
      "链接: http://finance.ifeng.com/app/hq/stock/sz000421/index.shtml, 文本: 南京公用\n",
      "链接: http://finance.ifeng.com/app/hq/stock/sz000669/index.shtml, 文本: ST金鸿\n",
      "链接: http://app.finance.ifeng.com/list/stock_cate.php?c=I65&s=22&level=2&cname=软件和信息技术服务业, 文本: 软件和信息技术服务业\n",
      "链接: http://finance.ifeng.com/app/hq/stock/sz300556/index.shtml, 文本: 丝路视觉\n",
      "链接: http://finance.ifeng.com/app/hq/stock/sz300799/index.shtml, 文本: *ST左江\n",
      "链接: http://app.finance.ifeng.com/list/stock_cate.php?c=M75&s=22&level=2&cname=科技推广和应用服务业, 文本: 科技推广和应用服务业\n",
      "链接: http://finance.ifeng.com/app/hq/stock/sh688287/index.shtml, 文本: 观典防务\n",
      "链接: http://finance.ifeng.com/app/hq/stock/sz000504/index.shtml, 文本: 南华生物\n",
      "链接: http://app.finance.ifeng.com/list/stock_cate.php?c=P&s=22&level=1&cname=教育, 文本: 教育\n",
      "链接: http://finance.ifeng.com/app/hq/stock/sz000526/index.shtml, 文本: 学大教育\n",
      "链接: http://finance.ifeng.com/app/hq/stock/sh600661/index.shtml, 文本: 昂立教育\n",
      "链接: http://app.finance.ifeng.com/list/stock_cate.php?c=P82&s=22&level=2&cname=教育, 文本: 教育\n",
      "链接: http://finance.ifeng.com/app/hq/stock/sz000526/index.shtml, 文本: 学大教育\n",
      "链接: http://finance.ifeng.com/app/hq/stock/sh600661/index.shtml, 文本: 昂立教育\n",
      "链接: http://app.finance.ifeng.com/list/stock_cate.php?c=C27&s=22&level=2&cname=医药制造业, 文本: 医药制造业\n",
      "链接: http://finance.ifeng.com/app/hq/stock/sz002022/index.shtml, 文本: 科华生物\n",
      "链接: http://finance.ifeng.com/app/hq/stock/sz000766/index.shtml, 文本: 通化金马\n",
      "链接: http://app.finance.ifeng.com/list/stock_cate.php?c=B10&s=22&level=2&cname=非金属矿采选业, 文本: 非金属矿采选业\n",
      "链接: http://finance.ifeng.com/app/hq/stock/sh603505/index.shtml, 文本: 金石资源\n",
      "链接: http://finance.ifeng.com/app/hq/stock/sh605086/index.shtml, 文本: 龙高股份\n",
      "链接: http://www.ifeng.com/corp/about/intro/, 文本: 凤凰新媒体介绍\n",
      "链接: http://ir.ifeng.com/, 文本: 投资者关系 Investor Relations\n",
      "链接: http://biz.ifeng.com/, 文本: 广告服务\n",
      "链接: http://career.ifeng.com/, 文本: 诚征英才\n",
      "链接: http://www.ifeng.com/corp/privacy/, 文本: 保护隐私权\n",
      "链接: http://www.ifeng.com/corp/exemption/, 文本: 免责条款\n",
      "链接: http://help.ifeng.com/, 文本: 意见反馈\n",
      "链接: http://phtv.ifeng.com/intro/, 文本: 凤凰卫视介绍\n",
      "链接: http://v.ifeng.com/, 文本: 视频\n",
      "链接: http://v.ifeng.com/documentary/index.shtml, 文本: 纪实\n",
      "链接: http://v.ifeng.com/live/, 文本: 直播\n",
      "链接: http://phtv.ifeng.com/, 文本: 凤凰卫视\n"
     ]
    }
   ],
   "source": [
    "import requests\n",
    "from bs4 import BeautifulSoup\n",
    "\n",
    "# 指定要爬取的网页 URL\n",
    "url = 'https://app.finance.ifeng.com/list/all_stock_cate.php?s=1'\n",
    "\n",
    "# 发送 HTTP 请求获取网页内容\n",
    "response = requests.get(url)\n",
    "response.raise_for_status()  # 如果请求失败，此行将引发 HTTPError 异常\n",
    "html_content = response.text  # 获取网页的 HTML 内容\n",
    "\n",
    "# 使用 BeautifulSoup 解析 HTML 内容\n",
    "soup = BeautifulSoup(html_content, 'html.parser')\n",
    "\n",
    "# 找到所有的 <td> 标签下的 <a> 标签\n",
    "a_tags_in_td = soup.find_all('a')  # 这里指定了 <a> 标签必须在 <td> 标签下\n",
    "\n",
    "# 遍历并打印每个找到的 <a> 标签的 href 属性和文本内容\n",
    "for tag in a_tags_in_td:\n",
    "    href = tag.get('href')\n",
    "    text = tag.get_text()\n",
    "    print(f'链接: {href}, 文本: {text}')"
   ],
   "metadata": {
    "collapsed": false
   }
  },
  {
   "cell_type": "code",
   "execution_count": 66,
   "outputs": [],
   "source": [
    "import requests\n",
    "from bs4 import BeautifulSoup\n",
    "\n",
    "# 指定要爬取的网页 URL\n",
    "url = 'https://app.finance.ifeng.com/list/all_stock_cate.php?s=1'\n",
    "\n",
    "# 发送 HTTP 请求获取网页内容\n",
    "response = requests.get(url)\n",
    "response.raise_for_status()  # 如果请求失败，此行将引发 HTTPError 异常\n",
    "html_content = response.text  # 获取网页的 HTML 内容\n",
    "\n",
    "# 使用 BeautifulSoup 解析 HTML 内容\n",
    "soup = BeautifulSoup(html_content, 'html.parser')\n",
    "\n",
    "# 找到所有的 <td> 标签下的 <a> 标签\n",
    "td_tags = soup.find_all('td')\n",
    "a_tags_in_td = []\n",
    "for td in td_tags:\n",
    "    a_tag = td.find('a')\n",
    "    if a_tag:\n",
    "        a_tags_in_td.append(a_tag)\n"
   ],
   "metadata": {
    "collapsed": false
   }
  },
  {
   "cell_type": "code",
   "execution_count": 70,
   "outputs": [
    {
     "data": {
      "text/plain": "300"
     },
     "execution_count": 70,
     "metadata": {},
     "output_type": "execute_result"
    }
   ],
   "source": [
    "len(a_tags_in_td)"
   ],
   "metadata": {
    "collapsed": false
   }
  },
  {
   "cell_type": "code",
   "execution_count": 81,
   "outputs": [],
   "source": [
    "行业_name = []\n",
    "领涨股公司_name = []\n",
    "领跌股公司_name = []\n",
    "# 遍历并打印每个找到的 <a> 标签的文本内容\n",
    "for i,tag in enumerate(a_tags_in_td):\n",
    "    text = tag.get_text()\n",
    "    if ((i%3==0)&(i!=1)&(i!=2)):\n",
    "        行业_name.append(text)\n",
    "    if(((i-1)%3==0)&(i>=1)):\n",
    "        领涨股公司_name.append(text)\n",
    "    if(((i-2)%3==0)&(i>=2)):\n",
    "        领跌股公司_name.append(text)"
   ],
   "metadata": {
    "collapsed": false
   }
  },
  {
   "cell_type": "code",
   "execution_count": 82,
   "outputs": [
    {
     "data": {
      "text/plain": "100"
     },
     "execution_count": 82,
     "metadata": {},
     "output_type": "execute_result"
    }
   ],
   "source": [
    "len(行业_name)"
   ],
   "metadata": {
    "collapsed": false
   }
  },
  {
   "cell_type": "code",
   "execution_count": 83,
   "outputs": [
    {
     "data": {
      "text/plain": "100"
     },
     "execution_count": 83,
     "metadata": {},
     "output_type": "execute_result"
    }
   ],
   "source": [
    "len(领涨股公司_name)"
   ],
   "metadata": {
    "collapsed": false
   }
  },
  {
   "cell_type": "code",
   "execution_count": 84,
   "outputs": [
    {
     "data": {
      "text/plain": "100"
     },
     "execution_count": 84,
     "metadata": {},
     "output_type": "execute_result"
    }
   ],
   "source": [
    "len(领跌股公司_name)"
   ],
   "metadata": {
    "collapsed": false
   }
  },
  {
   "cell_type": "markdown",
   "source": [
    "# 行业名称索引0是行业名称，1是领涨股公司的名称，2是领跌股的名称"
   ],
   "metadata": {
    "collapsed": false
   }
  },
  {
   "cell_type": "code",
   "execution_count": 85,
   "outputs": [],
   "source": [
    "span_tags_in_td = []\n",
    "行业_涨幅 = []\n",
    "领涨股公司_涨幅 = []\n",
    "领跌股公司_涨幅 = []\n",
    "for x in td_tags:\n",
    "    span_tag = x.find('span')\n",
    "    if span_tag:\n",
    "        span_tags_in_td.append(span_tag)\n",
    "for i,y in enumerate(span_tags_in_td):\n",
    "    span_text = y.get_text()\n",
    "    if ((i%3==0)&(i!=1)&(i!=2)):\n",
    "        行业_涨幅.append(span_text)\n",
    "    if(((i-1)%3==0)&(i>=1)):\n",
    "        领涨股公司_涨幅.append(span_text)\n",
    "    if(((i-2)%3==0)&(i>=2)):\n",
    "        领跌股公司_涨幅.append(span_text)"
   ],
   "metadata": {
    "collapsed": false
   }
  },
  {
   "cell_type": "code",
   "execution_count": 86,
   "outputs": [
    {
     "data": {
      "text/plain": "100"
     },
     "execution_count": 86,
     "metadata": {},
     "output_type": "execute_result"
    }
   ],
   "source": [
    "len(行业_涨幅)"
   ],
   "metadata": {
    "collapsed": false
   }
  },
  {
   "cell_type": "code",
   "execution_count": 87,
   "outputs": [
    {
     "data": {
      "text/plain": "100"
     },
     "execution_count": 87,
     "metadata": {},
     "output_type": "execute_result"
    }
   ],
   "source": [
    "len(领涨股公司_涨幅)\n"
   ],
   "metadata": {
    "collapsed": false
   }
  },
  {
   "cell_type": "code",
   "execution_count": 88,
   "outputs": [
    {
     "data": {
      "text/plain": "100"
     },
     "execution_count": 88,
     "metadata": {},
     "output_type": "execute_result"
    }
   ],
   "source": [
    "len(领跌股公司_涨幅)"
   ],
   "metadata": {
    "collapsed": false
   }
  },
  {
   "cell_type": "markdown",
   "source": [
    "# 涨跌幅索引0是行业涨跌幅，1是领涨股公司的涨跌幅，2是领跌股的涨跌幅"
   ],
   "metadata": {
    "collapsed": false
   }
  },
  {
   "cell_type": "code",
   "execution_count": 89,
   "outputs": [],
   "source": [
    "import pandas as pd"
   ],
   "metadata": {
    "collapsed": false
   }
  },
  {
   "cell_type": "code",
   "execution_count": 92,
   "outputs": [],
   "source": [
    "df = pd.DataFrame({\n",
    "    '板块行业名称':行业_name,\n",
    "    '行业涨跌幅':行业_涨幅,\n",
    "    '领涨股公司名称':领涨股公司_name,\n",
    "    '领涨股公司涨跌幅':领涨股公司_涨幅,\n",
    "    '领跌股公司名称':领跌股公司_name,\n",
    "    '领跌股公司涨跌幅':领跌股公司_涨幅,\n",
    "})"
   ],
   "metadata": {
    "collapsed": false
   }
  },
  {
   "cell_type": "code",
   "execution_count": 93,
   "outputs": [
    {
     "data": {
      "text/plain": "              板块行业名称   行业涨跌幅 领涨股公司名称 领涨股公司涨跌幅 领跌股公司名称 领跌股公司涨跌幅\n0   广播、电视、电影和影视录音制作业   1.85%    中广天择   10.00%    文投控股   -2.45%\n1                租赁业   1.81%    香溢融通    6.33%    华铁应急   -1.33%\n2              家具制造业   1.55%    匠心家居    5.42%    乐歌股份   -3.11%\n3                 体育   1.55%    力盛体育    3.92%    中体产业   -0.81%\n4           租赁和商务服务业   1.42%    因赛集团   19.99%    海程邦达   -3.93%\n..               ...     ...     ...      ...     ...      ...\n95        科技推广和应用服务业  -1.31%    观典防务   -0.70%    南华生物   -2.50%\n96                教育  -1.71%    学大教育    1.20%    昂立教育   -7.41%\n97                教育  -1.71%    学大教育    1.20%    昂立教育   -7.41%\n98             医药制造业  -1.78%    科华生物   10.02%    通化金马   -9.96%\n99           非金属矿采选业  -2.29%    金石资源   -1.00%    龙高股份   -3.58%\n\n[100 rows x 6 columns]",
      "text/html": "<div>\n<style scoped>\n    .dataframe tbody tr th:only-of-type {\n        vertical-align: middle;\n    }\n\n    .dataframe tbody tr th {\n        vertical-align: top;\n    }\n\n    .dataframe thead th {\n        text-align: right;\n    }\n</style>\n<table border=\"1\" class=\"dataframe\">\n  <thead>\n    <tr style=\"text-align: right;\">\n      <th></th>\n      <th>板块行业名称</th>\n      <th>行业涨跌幅</th>\n      <th>领涨股公司名称</th>\n      <th>领涨股公司涨跌幅</th>\n      <th>领跌股公司名称</th>\n      <th>领跌股公司涨跌幅</th>\n    </tr>\n  </thead>\n  <tbody>\n    <tr>\n      <th>0</th>\n      <td>广播、电视、电影和影视录音制作业</td>\n      <td>1.85%</td>\n      <td>中广天择</td>\n      <td>10.00%</td>\n      <td>文投控股</td>\n      <td>-2.45%</td>\n    </tr>\n    <tr>\n      <th>1</th>\n      <td>租赁业</td>\n      <td>1.81%</td>\n      <td>香溢融通</td>\n      <td>6.33%</td>\n      <td>华铁应急</td>\n      <td>-1.33%</td>\n    </tr>\n    <tr>\n      <th>2</th>\n      <td>家具制造业</td>\n      <td>1.55%</td>\n      <td>匠心家居</td>\n      <td>5.42%</td>\n      <td>乐歌股份</td>\n      <td>-3.11%</td>\n    </tr>\n    <tr>\n      <th>3</th>\n      <td>体育</td>\n      <td>1.55%</td>\n      <td>力盛体育</td>\n      <td>3.92%</td>\n      <td>中体产业</td>\n      <td>-0.81%</td>\n    </tr>\n    <tr>\n      <th>4</th>\n      <td>租赁和商务服务业</td>\n      <td>1.42%</td>\n      <td>因赛集团</td>\n      <td>19.99%</td>\n      <td>海程邦达</td>\n      <td>-3.93%</td>\n    </tr>\n    <tr>\n      <th>...</th>\n      <td>...</td>\n      <td>...</td>\n      <td>...</td>\n      <td>...</td>\n      <td>...</td>\n      <td>...</td>\n    </tr>\n    <tr>\n      <th>95</th>\n      <td>科技推广和应用服务业</td>\n      <td>-1.31%</td>\n      <td>观典防务</td>\n      <td>-0.70%</td>\n      <td>南华生物</td>\n      <td>-2.50%</td>\n    </tr>\n    <tr>\n      <th>96</th>\n      <td>教育</td>\n      <td>-1.71%</td>\n      <td>学大教育</td>\n      <td>1.20%</td>\n      <td>昂立教育</td>\n      <td>-7.41%</td>\n    </tr>\n    <tr>\n      <th>97</th>\n      <td>教育</td>\n      <td>-1.71%</td>\n      <td>学大教育</td>\n      <td>1.20%</td>\n      <td>昂立教育</td>\n      <td>-7.41%</td>\n    </tr>\n    <tr>\n      <th>98</th>\n      <td>医药制造业</td>\n      <td>-1.78%</td>\n      <td>科华生物</td>\n      <td>10.02%</td>\n      <td>通化金马</td>\n      <td>-9.96%</td>\n    </tr>\n    <tr>\n      <th>99</th>\n      <td>非金属矿采选业</td>\n      <td>-2.29%</td>\n      <td>金石资源</td>\n      <td>-1.00%</td>\n      <td>龙高股份</td>\n      <td>-3.58%</td>\n    </tr>\n  </tbody>\n</table>\n<p>100 rows × 6 columns</p>\n</div>"
     },
     "execution_count": 93,
     "metadata": {},
     "output_type": "execute_result"
    }
   ],
   "source": [
    "df"
   ],
   "metadata": {
    "collapsed": false
   }
  },
  {
   "cell_type": "code",
   "execution_count": 131,
   "outputs": [],
   "source": [
    "df.to_excel(f'fenghcj/凤凰财经网数据爬取.xlsx')"
   ],
   "metadata": {
    "collapsed": false
   }
  },
  {
   "cell_type": "markdown",
   "source": [
    "# 凤凰网科创板数据爬取"
   ],
   "metadata": {
    "collapsed": false
   }
  },
  {
   "cell_type": "code",
   "execution_count": 110,
   "outputs": [],
   "source": [
    "import requests\n",
    "from bs4 import BeautifulSoup\n",
    "\n",
    "# 指定要爬取的网页 URL\n",
    "url = 'https://app.finance.ifeng.com/list/stock.php?t=kcb&f=chg_pct&o=desc&p=1'\n",
    "\n",
    "# 发送 HTTP 请求获取网页内容\n",
    "response = requests.get(url)\n",
    "response.raise_for_status()  # 如果请求失败，此行将引发 HTTPError 异常\n",
    "html_content = response.text  # 获取网页的 HTML 内容\n",
    "\n",
    "# 使用 BeautifulSoup 解析 HTML 内容\n",
    "soup = BeautifulSoup(html_content, 'html.parser')\n",
    "\n",
    "# 找到所有的 <td> 标签下的 <a> 标签\n",
    "tr_tags = soup.find_all('tr')\n",
    "td_tags_in_tr = []\n",
    "for tr in tr_tags:\n",
    "    td_tag = tr.find_all('td')\n",
    "    for i in range(len(td_tag)):\n",
    "        td_tags_in_tr.append(td_tag[i])"
   ],
   "metadata": {
    "collapsed": false
   }
  },
  {
   "cell_type": "code",
   "execution_count": 113,
   "outputs": [],
   "source": [
    "td_text = [x.get_text() for x in td_tags_in_tr]\n",
    "td_text = td_text[0:-1]"
   ],
   "metadata": {
    "collapsed": false
   }
  },
  {
   "cell_type": "code",
   "execution_count": 114,
   "outputs": [
    {
     "data": {
      "text/plain": "['688137',\n '近岸蛋白',\n '55.14',\n '5.23%',\n '2.74',\n '15431手',\n '8617万',\n '53.00',\n '52.40',\n '53.00',\n '56.94',\n '688328',\n '深科达',\n '39.30',\n '3.97%',\n '1.50',\n '54837手',\n '21481万',\n '37.96',\n '37.80',\n '37.00',\n '40.20',\n '688166',\n '博瑞医药',\n '36.51',\n '3.52%',\n '1.24',\n '192431手',\n '67459万',\n '35.08',\n '35.27',\n '33.25',\n '36.90',\n '688799',\n '华纳药厂',\n '50.03',\n '3.48%',\n '1.68',\n '31294手',\n '15333万',\n '48.05',\n '48.35',\n '47.30',\n '50.76',\n '688085',\n '三友医疗',\n '18.91',\n '3.45%',\n '0.63',\n '51002手',\n '9741万',\n '18.44',\n '18.28',\n '18.44',\n '19.46',\n '688507',\n '索辰科技',\n '134.83',\n '3.40%',\n '4.43',\n '5302手',\n '7095万',\n '132.36',\n '130.40',\n '127.16',\n '135.99',\n '688523',\n '航天环宇',\n '26.75',\n '2.73%',\n '0.71',\n '31333手',\n '8376万',\n '26.18',\n '26.04',\n '25.94',\n '27.33',\n '688025',\n '杰普特',\n '88.50',\n '2.12%',\n '1.84',\n '16282手',\n '14452万',\n '87.29',\n '86.66',\n '85.82',\n '90.61',\n '688119',\n '中钢洛耐',\n '5.17',\n '1.97%',\n '0.10',\n '77556手',\n '3986万',\n '5.11',\n '5.07',\n '5.06',\n '5.19',\n '688609',\n '九联科技',\n '12.24',\n '1.92%',\n '0.23',\n '353833手',\n '43737万',\n '12.20',\n '12.01',\n '12.01',\n '12.68',\n '688408',\n '中信博',\n '63.29',\n '1.90%',\n '1.18',\n '15621手',\n '9987万',\n '62.71',\n '62.11',\n '62.68',\n '64.94',\n '688185',\n '康希诺',\n '81.66',\n '1.88%',\n '1.51',\n '36584手',\n '30304万',\n '80.50',\n '80.15',\n '79.58',\n '85.58',\n '688167',\n '炬光科技',\n '117.99',\n '1.84%',\n '2.13',\n '22223手',\n '26128万',\n '115.55',\n '115.86',\n '115.22',\n '119.39',\n '688577',\n '浙海德曼',\n '85.50',\n '1.67%',\n '1.40',\n '5581手',\n '4644万',\n '84.58',\n '84.10',\n '81.00',\n '85.50',\n '688067',\n '爱威科技',\n '24.19',\n '1.64%',\n '0.39',\n '11822手',\n '2829万',\n '23.85',\n '23.80',\n '23.39',\n '24.28',\n '688112',\n '鼎阳科技',\n '38.25',\n '1.54%',\n '0.58',\n '7239手',\n '2764万',\n '37.73',\n '37.67',\n '37.67',\n '38.48',\n '688560',\n '明冠新材',\n '16.50',\n '1.48%',\n '0.24',\n '51209手',\n '8531万',\n '16.28',\n '16.26',\n '16.28',\n '17.05',\n '688550',\n '瑞联新材',\n '37.89',\n '1.47%',\n '0.55',\n '27224手',\n '10418万',\n '37.48',\n '37.34',\n '37.32',\n '38.88',\n '688036',\n '传音控股',\n '125.09',\n '1.44%',\n '1.78',\n '30280手',\n '37890万',\n '123.09',\n '123.31',\n '123.09',\n '126.00',\n '688348',\n '昱能科技',\n '105.50',\n '1.44%',\n '1.50',\n '12523手',\n '13326万',\n '104.90',\n '104.00',\n '104.81',\n '108.60',\n '688800',\n '瑞可达',\n '39.66',\n '1.43%',\n '0.56',\n '10955手',\n '4342万',\n '39.05',\n '39.10',\n '39.05',\n '40.13',\n '688169',\n '石头科技',\n '267.99',\n '1.42%',\n '3.75',\n '10636手',\n '28746万',\n '264.21',\n '264.24',\n '264.21',\n '273.88',\n '688571',\n '杭华股份',\n '7.27',\n '1.40%',\n '0.10',\n '25043手',\n '1811万',\n '7.22',\n '7.17',\n '7.14',\n '7.27',\n '688390',\n '固德威',\n '102.19',\n '1.38%',\n '1.39',\n '25745手',\n '26592万',\n '102.20',\n '100.80',\n '101.99',\n '104.84',\n '688032',\n '禾迈股份',\n '210.86',\n '1.32%',\n '2.74',\n '4301手',\n '9127万',\n '209.70',\n '208.12',\n '209.34',\n '214.00',\n '688639',\n '华恒生物',\n '119.40',\n '1.30%',\n '1.53',\n '6872手',\n '8196万',\n '116.58',\n '117.87',\n '116.47',\n '121.60',\n '688596',\n '正帆科技',\n '39.90',\n '1.27%',\n '0.50',\n '19052手',\n '7533万',\n '39.30',\n '39.40',\n '38.81',\n '40.20',\n '688472',\n '阿特斯',\n '11.38',\n '1.25%',\n '0.14',\n '224439手',\n '25696万',\n '11.34',\n '11.24',\n '11.30',\n '11.63',\n '688220',\n '翱捷科技',\n '68.90',\n '1.23%',\n '0.84',\n '15566手',\n '10678万',\n '68.06',\n '68.06',\n '67.79',\n '69.35',\n '688378',\n '奥来德',\n '46.64',\n '1.15%',\n '0.53',\n '14192手',\n '6570万',\n '46.06',\n '46.11',\n '45.58',\n '47.08',\n '688681',\n '科汇股份',\n '15.08',\n '1.14%',\n '0.17',\n '12822手',\n '1922万',\n '15.04',\n '14.91',\n '14.76',\n '15.15',\n '688226',\n '威腾电气',\n '16.98',\n '1.13%',\n '0.19',\n '17976手',\n '3063万',\n '16.79',\n '16.79',\n '16.79',\n '17.20',\n '688458',\n '美芯晟',\n '73.88',\n '1.12%',\n '0.82',\n '4579手',\n '3389万',\n '73.00',\n '73.06',\n '72.37',\n '75.04',\n '688188',\n '柏楚电子',\n '249.60',\n '1.11%',\n '2.75',\n '5899手',\n '14677万',\n '245.98',\n '246.85',\n '243.90',\n '251.00',\n '688147',\n '微导纳米',\n '38.48',\n '1.05%',\n '0.40',\n '7596手',\n '2915万',\n '38.15',\n '38.08',\n '38.08',\n '38.68',\n '688359',\n '三孚新科',\n '67.30',\n '0.98%',\n '0.65',\n '3426手',\n '2272万',\n '66.04',\n '66.65',\n '65.50',\n '67.30',\n '688981',\n '中芯国际',\n '53.60',\n '0.94%',\n '0.50',\n '121309手',\n '65117万',\n '53.29',\n '53.10',\n '53.03',\n '54.14',\n '688157',\n '松井股份',\n '48.81',\n '0.93%',\n '0.45',\n '3922手',\n '1918万',\n '48.61',\n '48.36',\n '48.03',\n '49.41',\n '688496',\n '清越科技',\n '18.49',\n '0.93%',\n '0.17',\n '61186手',\n '11383万',\n '18.19',\n '18.32',\n '18.05',\n '19.08',\n '688279',\n '峰岹科技',\n '127.86',\n '0.92%',\n '1.16',\n '6258手',\n '7893万',\n '126.97',\n '126.70',\n '123.31',\n '129.23',\n '688038',\n '中科通达',\n '14.89',\n '0.88%',\n '0.13',\n '23855手',\n '3541万',\n '14.80',\n '14.76',\n '14.61',\n '15.02',\n '688377',\n '迪威尔',\n '26.39',\n '0.88%',\n '0.23',\n '9051手',\n '2384万',\n '26.26',\n '26.16',\n '25.88',\n '26.64',\n '688669',\n '聚石化学',\n '18.56',\n '0.87%',\n '0.16',\n '9806手',\n '1820万',\n '18.40',\n '18.40',\n '18.40',\n '18.69',\n '688129',\n '东来技术',\n '16.57',\n '0.85%',\n '0.14',\n '13866手',\n '2303万',\n '16.57',\n '16.43',\n '16.46',\n '16.78',\n '688618',\n '三旺通信',\n '57.08',\n '0.85%',\n '0.48',\n '4620手',\n '2658万',\n '56.54',\n '56.60',\n '56.45',\n '58.48',\n '688152',\n '麒麟信安',\n '77.48',\n '0.85%',\n '0.65',\n '14376手',\n '11175万',\n '76.51',\n '76.83',\n '75.28',\n '79.67',\n '688659',\n '元琛科技',\n '11.96',\n '0.84%',\n '0.10',\n '15056手',\n '1797万',\n '11.91',\n '11.86',\n '11.83',\n '12.05',\n '688016',\n '心脉医疗',\n '187.78',\n '0.82%',\n '1.52',\n '7822手',\n '14798万',\n '187.19',\n '186.26',\n '187.00',\n '192.77',\n '688515',\n '裕太微',\n '107.62',\n '0.81%',\n '0.86',\n '5245手',\n '5686万',\n '106.13',\n '106.76',\n '106.13',\n '111.20',\n '688228',\n '开普云',\n '70.25',\n '0.80%',\n '0.56',\n '33057手',\n '23037万',\n '69.69',\n '69.69',\n '67.69',\n '71.88']"
     },
     "execution_count": 114,
     "metadata": {},
     "output_type": "execute_result"
    }
   ],
   "source": [
    "td_text"
   ],
   "metadata": {
    "collapsed": false
   }
  },
  {
   "cell_type": "code",
   "execution_count": null,
   "outputs": [],
   "source": [],
   "metadata": {
    "collapsed": false
   }
  },
  {
   "cell_type": "markdown",
   "source": [
    "# index 0是代码 1是名称 2是最新价 3是涨跌幅 4是涨跌额 5是成交量 6是成交额 7是开盘价 8是昨天收盘价 9是最低价 10是最高价"
   ],
   "metadata": {
    "collapsed": false
   }
  },
  {
   "cell_type": "code",
   "execution_count": 115,
   "outputs": [
    {
     "data": {
      "text/plain": "550"
     },
     "execution_count": 115,
     "metadata": {},
     "output_type": "execute_result"
    }
   ],
   "source": [
    "len(td_text)"
   ],
   "metadata": {
    "collapsed": false
   }
  },
  {
   "cell_type": "code",
   "execution_count": 118,
   "outputs": [],
   "source": [
    "a_0 = 0; a_1 = 1; a_2 = 2; a_3 = 3; a_4 = 4; a_5 = 5; a_6 = 6; a_7 = 7; a_8 = 8; a_9 = 9; a_10 = 10;"
   ],
   "metadata": {
    "collapsed": false
   }
  },
  {
   "cell_type": "code",
   "execution_count": 119,
   "outputs": [],
   "source": [
    "代码_new = []\n",
    "名称_new = []\n",
    "最新价_new = []\n",
    "涨跌幅_new = []\n",
    "涨跌额_new = []\n",
    "成交量_new = []\n",
    "成交额_new = []\n",
    "开盘价_new = []\n",
    "昨收盘价_new = []\n",
    "最低价_new = []\n",
    "最高价_new = []"
   ],
   "metadata": {
    "collapsed": false
   }
  },
  {
   "cell_type": "code",
   "execution_count": 120,
   "outputs": [],
   "source": [
    "\n",
    "for i,z in enumerate(td_text):\n",
    "    if i==a_0:\n",
    "        代码_new.append(z)\n",
    "        a_0 += 11\n",
    "    if i==a_1:\n",
    "        名称_new.append(z)\n",
    "        a_1 += 11\n",
    "    if i==a_2:\n",
    "        最新价_new.append(z)\n",
    "        a_2 += 11\n",
    "    if i==a_3:\n",
    "        涨跌幅_new.append(z)\n",
    "        a_3 += 11\n",
    "    if i==a_4:\n",
    "        涨跌额_new.append(z)\n",
    "        a_4 += 11\n",
    "    if i==a_5:\n",
    "        成交量_new.append(z)\n",
    "        a_5 += 11\n",
    "    if i==a_6:\n",
    "        成交额_new.append(z)\n",
    "        a_6 += 11\n",
    "    if i==a_7:\n",
    "        开盘价_new.append(z)\n",
    "        a_7 += 11\n",
    "    if i==a_8:\n",
    "        昨收盘价_new.append(z)\n",
    "        a_8 += 11\n",
    "    if i==a_9:\n",
    "        最低价_new.append(z)\n",
    "        a_9 += 11\n",
    "    if i==a_10:\n",
    "        最高价_new.append(z)\n",
    "        a_10 += 11"
   ],
   "metadata": {
    "collapsed": false
   }
  },
  {
   "cell_type": "code",
   "execution_count": 123,
   "outputs": [
    {
     "data": {
      "text/plain": "50"
     },
     "execution_count": 123,
     "metadata": {},
     "output_type": "execute_result"
    }
   ],
   "source": [
    "len(最高价_new)"
   ],
   "metadata": {
    "collapsed": false
   }
  },
  {
   "cell_type": "code",
   "execution_count": 126,
   "outputs": [
    {
     "data": {
      "text/plain": "['2023-12-17',\n '2023-12-17',\n '2023-12-17',\n '2023-12-17',\n '2023-12-17',\n '2023-12-17',\n '2023-12-17',\n '2023-12-17',\n '2023-12-17',\n '2023-12-17',\n '2023-12-17',\n '2023-12-17',\n '2023-12-17',\n '2023-12-17',\n '2023-12-17',\n '2023-12-17',\n '2023-12-17',\n '2023-12-17',\n '2023-12-17',\n '2023-12-17',\n '2023-12-17',\n '2023-12-17',\n '2023-12-17',\n '2023-12-17',\n '2023-12-17',\n '2023-12-17',\n '2023-12-17',\n '2023-12-17',\n '2023-12-17',\n '2023-12-17',\n '2023-12-17',\n '2023-12-17',\n '2023-12-17',\n '2023-12-17',\n '2023-12-17',\n '2023-12-17',\n '2023-12-17',\n '2023-12-17',\n '2023-12-17',\n '2023-12-17',\n '2023-12-17',\n '2023-12-17',\n '2023-12-17',\n '2023-12-17',\n '2023-12-17',\n '2023-12-17',\n '2023-12-17',\n '2023-12-17',\n '2023-12-17',\n '2023-12-17']"
     },
     "execution_count": 126,
     "metadata": {},
     "output_type": "execute_result"
    }
   ],
   "source": [
    "import time\n",
    "time.localtime()\n",
    "output_time = str(time.localtime().tm_year) + '-' \\\n",
    "              + str(time.localtime().tm_mon) + '-' \\\n",
    "              + str(time.localtime().tm_mday)\n",
    "output_time\n",
    "更新日期 = [output_time for i in range(len(最高价_new))]\n",
    "更新日期"
   ],
   "metadata": {
    "collapsed": false
   }
  },
  {
   "cell_type": "markdown",
   "source": [
    "# index 0是代码 1是名称 2是最新价 3是涨跌幅 4是涨跌额 5是成交量 6是成交额 7是开盘价 8是昨天收盘价 9是最低价 10是最高价"
   ],
   "metadata": {
    "collapsed": false
   }
  },
  {
   "cell_type": "code",
   "execution_count": 127,
   "outputs": [],
   "source": [
    "df_科创板 = pd.DataFrame({\n",
    "    '代码':代码_new,\n",
    "    '名称':名称_new,\n",
    "    '最新价':最新价_new,\n",
    "    '涨跌幅':涨跌幅_new,\n",
    "    '涨跌额':涨跌额_new,\n",
    "    '成交量':成交量_new,\n",
    "    '成交额':成交额_new,\n",
    "    '开盘价':开盘价_new,\n",
    "    '昨收盘价':昨收盘价_new,\n",
    "    '最低价':最低价_new,\n",
    "    '最高价':最高价_new,\n",
    "    '更新日期':更新日期\n",
    "})"
   ],
   "metadata": {
    "collapsed": false
   }
  },
  {
   "cell_type": "code",
   "execution_count": 128,
   "outputs": [
    {
     "data": {
      "text/plain": "        代码    名称     最新价    涨跌幅   涨跌额      成交量     成交额     开盘价    昨收盘价  \\\n0   688137  近岸蛋白   55.14  5.23%  2.74   15431手   8617万   53.00   52.40   \n1   688328   深科达   39.30  3.97%  1.50   54837手  21481万   37.96   37.80   \n2   688166  博瑞医药   36.51  3.52%  1.24  192431手  67459万   35.08   35.27   \n3   688799  华纳药厂   50.03  3.48%  1.68   31294手  15333万   48.05   48.35   \n4   688085  三友医疗   18.91  3.45%  0.63   51002手   9741万   18.44   18.28   \n5   688507  索辰科技  134.83  3.40%  4.43    5302手   7095万  132.36  130.40   \n6   688523  航天环宇   26.75  2.73%  0.71   31333手   8376万   26.18   26.04   \n7   688025   杰普特   88.50  2.12%  1.84   16282手  14452万   87.29   86.66   \n8   688119  中钢洛耐    5.17  1.97%  0.10   77556手   3986万    5.11    5.07   \n9   688609  九联科技   12.24  1.92%  0.23  353833手  43737万   12.20   12.01   \n10  688408   中信博   63.29  1.90%  1.18   15621手   9987万   62.71   62.11   \n11  688185   康希诺   81.66  1.88%  1.51   36584手  30304万   80.50   80.15   \n12  688167  炬光科技  117.99  1.84%  2.13   22223手  26128万  115.55  115.86   \n13  688577  浙海德曼   85.50  1.67%  1.40    5581手   4644万   84.58   84.10   \n14  688067  爱威科技   24.19  1.64%  0.39   11822手   2829万   23.85   23.80   \n15  688112  鼎阳科技   38.25  1.54%  0.58    7239手   2764万   37.73   37.67   \n16  688560  明冠新材   16.50  1.48%  0.24   51209手   8531万   16.28   16.26   \n17  688550  瑞联新材   37.89  1.47%  0.55   27224手  10418万   37.48   37.34   \n18  688036  传音控股  125.09  1.44%  1.78   30280手  37890万  123.09  123.31   \n19  688348  昱能科技  105.50  1.44%  1.50   12523手  13326万  104.90  104.00   \n20  688800   瑞可达   39.66  1.43%  0.56   10955手   4342万   39.05   39.10   \n21  688169  石头科技  267.99  1.42%  3.75   10636手  28746万  264.21  264.24   \n22  688571  杭华股份    7.27  1.40%  0.10   25043手   1811万    7.22    7.17   \n23  688390   固德威  102.19  1.38%  1.39   25745手  26592万  102.20  100.80   \n24  688032  禾迈股份  210.86  1.32%  2.74    4301手   9127万  209.70  208.12   \n25  688639  华恒生物  119.40  1.30%  1.53    6872手   8196万  116.58  117.87   \n26  688596  正帆科技   39.90  1.27%  0.50   19052手   7533万   39.30   39.40   \n27  688472   阿特斯   11.38  1.25%  0.14  224439手  25696万   11.34   11.24   \n28  688220  翱捷科技   68.90  1.23%  0.84   15566手  10678万   68.06   68.06   \n29  688378   奥来德   46.64  1.15%  0.53   14192手   6570万   46.06   46.11   \n30  688681  科汇股份   15.08  1.14%  0.17   12822手   1922万   15.04   14.91   \n31  688226  威腾电气   16.98  1.13%  0.19   17976手   3063万   16.79   16.79   \n32  688458   美芯晟   73.88  1.12%  0.82    4579手   3389万   73.00   73.06   \n33  688188  柏楚电子  249.60  1.11%  2.75    5899手  14677万  245.98  246.85   \n34  688147  微导纳米   38.48  1.05%  0.40    7596手   2915万   38.15   38.08   \n35  688359  三孚新科   67.30  0.98%  0.65    3426手   2272万   66.04   66.65   \n36  688981  中芯国际   53.60  0.94%  0.50  121309手  65117万   53.29   53.10   \n37  688157  松井股份   48.81  0.93%  0.45    3922手   1918万   48.61   48.36   \n38  688496  清越科技   18.49  0.93%  0.17   61186手  11383万   18.19   18.32   \n39  688279  峰岹科技  127.86  0.92%  1.16    6258手   7893万  126.97  126.70   \n40  688038  中科通达   14.89  0.88%  0.13   23855手   3541万   14.80   14.76   \n41  688377   迪威尔   26.39  0.88%  0.23    9051手   2384万   26.26   26.16   \n42  688669  聚石化学   18.56  0.87%  0.16    9806手   1820万   18.40   18.40   \n43  688129  东来技术   16.57  0.85%  0.14   13866手   2303万   16.57   16.43   \n44  688618  三旺通信   57.08  0.85%  0.48    4620手   2658万   56.54   56.60   \n45  688152  麒麟信安   77.48  0.85%  0.65   14376手  11175万   76.51   76.83   \n46  688659  元琛科技   11.96  0.84%  0.10   15056手   1797万   11.91   11.86   \n47  688016  心脉医疗  187.78  0.82%  1.52    7822手  14798万  187.19  186.26   \n48  688515   裕太微  107.62  0.81%  0.86    5245手   5686万  106.13  106.76   \n49  688228   开普云   70.25  0.80%  0.56   33057手  23037万   69.69   69.69   \n\n       最低价     最高价        更新日期  \n0    53.00   56.94  2023-12-17  \n1    37.00   40.20  2023-12-17  \n2    33.25   36.90  2023-12-17  \n3    47.30   50.76  2023-12-17  \n4    18.44   19.46  2023-12-17  \n5   127.16  135.99  2023-12-17  \n6    25.94   27.33  2023-12-17  \n7    85.82   90.61  2023-12-17  \n8     5.06    5.19  2023-12-17  \n9    12.01   12.68  2023-12-17  \n10   62.68   64.94  2023-12-17  \n11   79.58   85.58  2023-12-17  \n12  115.22  119.39  2023-12-17  \n13   81.00   85.50  2023-12-17  \n14   23.39   24.28  2023-12-17  \n15   37.67   38.48  2023-12-17  \n16   16.28   17.05  2023-12-17  \n17   37.32   38.88  2023-12-17  \n18  123.09  126.00  2023-12-17  \n19  104.81  108.60  2023-12-17  \n20   39.05   40.13  2023-12-17  \n21  264.21  273.88  2023-12-17  \n22    7.14    7.27  2023-12-17  \n23  101.99  104.84  2023-12-17  \n24  209.34  214.00  2023-12-17  \n25  116.47  121.60  2023-12-17  \n26   38.81   40.20  2023-12-17  \n27   11.30   11.63  2023-12-17  \n28   67.79   69.35  2023-12-17  \n29   45.58   47.08  2023-12-17  \n30   14.76   15.15  2023-12-17  \n31   16.79   17.20  2023-12-17  \n32   72.37   75.04  2023-12-17  \n33  243.90  251.00  2023-12-17  \n34   38.08   38.68  2023-12-17  \n35   65.50   67.30  2023-12-17  \n36   53.03   54.14  2023-12-17  \n37   48.03   49.41  2023-12-17  \n38   18.05   19.08  2023-12-17  \n39  123.31  129.23  2023-12-17  \n40   14.61   15.02  2023-12-17  \n41   25.88   26.64  2023-12-17  \n42   18.40   18.69  2023-12-17  \n43   16.46   16.78  2023-12-17  \n44   56.45   58.48  2023-12-17  \n45   75.28   79.67  2023-12-17  \n46   11.83   12.05  2023-12-17  \n47  187.00  192.77  2023-12-17  \n48  106.13  111.20  2023-12-17  \n49   67.69   71.88  2023-12-17  ",
      "text/html": "<div>\n<style scoped>\n    .dataframe tbody tr th:only-of-type {\n        vertical-align: middle;\n    }\n\n    .dataframe tbody tr th {\n        vertical-align: top;\n    }\n\n    .dataframe thead th {\n        text-align: right;\n    }\n</style>\n<table border=\"1\" class=\"dataframe\">\n  <thead>\n    <tr style=\"text-align: right;\">\n      <th></th>\n      <th>代码</th>\n      <th>名称</th>\n      <th>最新价</th>\n      <th>涨跌幅</th>\n      <th>涨跌额</th>\n      <th>成交量</th>\n      <th>成交额</th>\n      <th>开盘价</th>\n      <th>昨收盘价</th>\n      <th>最低价</th>\n      <th>最高价</th>\n      <th>更新日期</th>\n    </tr>\n  </thead>\n  <tbody>\n    <tr>\n      <th>0</th>\n      <td>688137</td>\n      <td>近岸蛋白</td>\n      <td>55.14</td>\n      <td>5.23%</td>\n      <td>2.74</td>\n      <td>15431手</td>\n      <td>8617万</td>\n      <td>53.00</td>\n      <td>52.40</td>\n      <td>53.00</td>\n      <td>56.94</td>\n      <td>2023-12-17</td>\n    </tr>\n    <tr>\n      <th>1</th>\n      <td>688328</td>\n      <td>深科达</td>\n      <td>39.30</td>\n      <td>3.97%</td>\n      <td>1.50</td>\n      <td>54837手</td>\n      <td>21481万</td>\n      <td>37.96</td>\n      <td>37.80</td>\n      <td>37.00</td>\n      <td>40.20</td>\n      <td>2023-12-17</td>\n    </tr>\n    <tr>\n      <th>2</th>\n      <td>688166</td>\n      <td>博瑞医药</td>\n      <td>36.51</td>\n      <td>3.52%</td>\n      <td>1.24</td>\n      <td>192431手</td>\n      <td>67459万</td>\n      <td>35.08</td>\n      <td>35.27</td>\n      <td>33.25</td>\n      <td>36.90</td>\n      <td>2023-12-17</td>\n    </tr>\n    <tr>\n      <th>3</th>\n      <td>688799</td>\n      <td>华纳药厂</td>\n      <td>50.03</td>\n      <td>3.48%</td>\n      <td>1.68</td>\n      <td>31294手</td>\n      <td>15333万</td>\n      <td>48.05</td>\n      <td>48.35</td>\n      <td>47.30</td>\n      <td>50.76</td>\n      <td>2023-12-17</td>\n    </tr>\n    <tr>\n      <th>4</th>\n      <td>688085</td>\n      <td>三友医疗</td>\n      <td>18.91</td>\n      <td>3.45%</td>\n      <td>0.63</td>\n      <td>51002手</td>\n      <td>9741万</td>\n      <td>18.44</td>\n      <td>18.28</td>\n      <td>18.44</td>\n      <td>19.46</td>\n      <td>2023-12-17</td>\n    </tr>\n    <tr>\n      <th>5</th>\n      <td>688507</td>\n      <td>索辰科技</td>\n      <td>134.83</td>\n      <td>3.40%</td>\n      <td>4.43</td>\n      <td>5302手</td>\n      <td>7095万</td>\n      <td>132.36</td>\n      <td>130.40</td>\n      <td>127.16</td>\n      <td>135.99</td>\n      <td>2023-12-17</td>\n    </tr>\n    <tr>\n      <th>6</th>\n      <td>688523</td>\n      <td>航天环宇</td>\n      <td>26.75</td>\n      <td>2.73%</td>\n      <td>0.71</td>\n      <td>31333手</td>\n      <td>8376万</td>\n      <td>26.18</td>\n      <td>26.04</td>\n      <td>25.94</td>\n      <td>27.33</td>\n      <td>2023-12-17</td>\n    </tr>\n    <tr>\n      <th>7</th>\n      <td>688025</td>\n      <td>杰普特</td>\n      <td>88.50</td>\n      <td>2.12%</td>\n      <td>1.84</td>\n      <td>16282手</td>\n      <td>14452万</td>\n      <td>87.29</td>\n      <td>86.66</td>\n      <td>85.82</td>\n      <td>90.61</td>\n      <td>2023-12-17</td>\n    </tr>\n    <tr>\n      <th>8</th>\n      <td>688119</td>\n      <td>中钢洛耐</td>\n      <td>5.17</td>\n      <td>1.97%</td>\n      <td>0.10</td>\n      <td>77556手</td>\n      <td>3986万</td>\n      <td>5.11</td>\n      <td>5.07</td>\n      <td>5.06</td>\n      <td>5.19</td>\n      <td>2023-12-17</td>\n    </tr>\n    <tr>\n      <th>9</th>\n      <td>688609</td>\n      <td>九联科技</td>\n      <td>12.24</td>\n      <td>1.92%</td>\n      <td>0.23</td>\n      <td>353833手</td>\n      <td>43737万</td>\n      <td>12.20</td>\n      <td>12.01</td>\n      <td>12.01</td>\n      <td>12.68</td>\n      <td>2023-12-17</td>\n    </tr>\n    <tr>\n      <th>10</th>\n      <td>688408</td>\n      <td>中信博</td>\n      <td>63.29</td>\n      <td>1.90%</td>\n      <td>1.18</td>\n      <td>15621手</td>\n      <td>9987万</td>\n      <td>62.71</td>\n      <td>62.11</td>\n      <td>62.68</td>\n      <td>64.94</td>\n      <td>2023-12-17</td>\n    </tr>\n    <tr>\n      <th>11</th>\n      <td>688185</td>\n      <td>康希诺</td>\n      <td>81.66</td>\n      <td>1.88%</td>\n      <td>1.51</td>\n      <td>36584手</td>\n      <td>30304万</td>\n      <td>80.50</td>\n      <td>80.15</td>\n      <td>79.58</td>\n      <td>85.58</td>\n      <td>2023-12-17</td>\n    </tr>\n    <tr>\n      <th>12</th>\n      <td>688167</td>\n      <td>炬光科技</td>\n      <td>117.99</td>\n      <td>1.84%</td>\n      <td>2.13</td>\n      <td>22223手</td>\n      <td>26128万</td>\n      <td>115.55</td>\n      <td>115.86</td>\n      <td>115.22</td>\n      <td>119.39</td>\n      <td>2023-12-17</td>\n    </tr>\n    <tr>\n      <th>13</th>\n      <td>688577</td>\n      <td>浙海德曼</td>\n      <td>85.50</td>\n      <td>1.67%</td>\n      <td>1.40</td>\n      <td>5581手</td>\n      <td>4644万</td>\n      <td>84.58</td>\n      <td>84.10</td>\n      <td>81.00</td>\n      <td>85.50</td>\n      <td>2023-12-17</td>\n    </tr>\n    <tr>\n      <th>14</th>\n      <td>688067</td>\n      <td>爱威科技</td>\n      <td>24.19</td>\n      <td>1.64%</td>\n      <td>0.39</td>\n      <td>11822手</td>\n      <td>2829万</td>\n      <td>23.85</td>\n      <td>23.80</td>\n      <td>23.39</td>\n      <td>24.28</td>\n      <td>2023-12-17</td>\n    </tr>\n    <tr>\n      <th>15</th>\n      <td>688112</td>\n      <td>鼎阳科技</td>\n      <td>38.25</td>\n      <td>1.54%</td>\n      <td>0.58</td>\n      <td>7239手</td>\n      <td>2764万</td>\n      <td>37.73</td>\n      <td>37.67</td>\n      <td>37.67</td>\n      <td>38.48</td>\n      <td>2023-12-17</td>\n    </tr>\n    <tr>\n      <th>16</th>\n      <td>688560</td>\n      <td>明冠新材</td>\n      <td>16.50</td>\n      <td>1.48%</td>\n      <td>0.24</td>\n      <td>51209手</td>\n      <td>8531万</td>\n      <td>16.28</td>\n      <td>16.26</td>\n      <td>16.28</td>\n      <td>17.05</td>\n      <td>2023-12-17</td>\n    </tr>\n    <tr>\n      <th>17</th>\n      <td>688550</td>\n      <td>瑞联新材</td>\n      <td>37.89</td>\n      <td>1.47%</td>\n      <td>0.55</td>\n      <td>27224手</td>\n      <td>10418万</td>\n      <td>37.48</td>\n      <td>37.34</td>\n      <td>37.32</td>\n      <td>38.88</td>\n      <td>2023-12-17</td>\n    </tr>\n    <tr>\n      <th>18</th>\n      <td>688036</td>\n      <td>传音控股</td>\n      <td>125.09</td>\n      <td>1.44%</td>\n      <td>1.78</td>\n      <td>30280手</td>\n      <td>37890万</td>\n      <td>123.09</td>\n      <td>123.31</td>\n      <td>123.09</td>\n      <td>126.00</td>\n      <td>2023-12-17</td>\n    </tr>\n    <tr>\n      <th>19</th>\n      <td>688348</td>\n      <td>昱能科技</td>\n      <td>105.50</td>\n      <td>1.44%</td>\n      <td>1.50</td>\n      <td>12523手</td>\n      <td>13326万</td>\n      <td>104.90</td>\n      <td>104.00</td>\n      <td>104.81</td>\n      <td>108.60</td>\n      <td>2023-12-17</td>\n    </tr>\n    <tr>\n      <th>20</th>\n      <td>688800</td>\n      <td>瑞可达</td>\n      <td>39.66</td>\n      <td>1.43%</td>\n      <td>0.56</td>\n      <td>10955手</td>\n      <td>4342万</td>\n      <td>39.05</td>\n      <td>39.10</td>\n      <td>39.05</td>\n      <td>40.13</td>\n      <td>2023-12-17</td>\n    </tr>\n    <tr>\n      <th>21</th>\n      <td>688169</td>\n      <td>石头科技</td>\n      <td>267.99</td>\n      <td>1.42%</td>\n      <td>3.75</td>\n      <td>10636手</td>\n      <td>28746万</td>\n      <td>264.21</td>\n      <td>264.24</td>\n      <td>264.21</td>\n      <td>273.88</td>\n      <td>2023-12-17</td>\n    </tr>\n    <tr>\n      <th>22</th>\n      <td>688571</td>\n      <td>杭华股份</td>\n      <td>7.27</td>\n      <td>1.40%</td>\n      <td>0.10</td>\n      <td>25043手</td>\n      <td>1811万</td>\n      <td>7.22</td>\n      <td>7.17</td>\n      <td>7.14</td>\n      <td>7.27</td>\n      <td>2023-12-17</td>\n    </tr>\n    <tr>\n      <th>23</th>\n      <td>688390</td>\n      <td>固德威</td>\n      <td>102.19</td>\n      <td>1.38%</td>\n      <td>1.39</td>\n      <td>25745手</td>\n      <td>26592万</td>\n      <td>102.20</td>\n      <td>100.80</td>\n      <td>101.99</td>\n      <td>104.84</td>\n      <td>2023-12-17</td>\n    </tr>\n    <tr>\n      <th>24</th>\n      <td>688032</td>\n      <td>禾迈股份</td>\n      <td>210.86</td>\n      <td>1.32%</td>\n      <td>2.74</td>\n      <td>4301手</td>\n      <td>9127万</td>\n      <td>209.70</td>\n      <td>208.12</td>\n      <td>209.34</td>\n      <td>214.00</td>\n      <td>2023-12-17</td>\n    </tr>\n    <tr>\n      <th>25</th>\n      <td>688639</td>\n      <td>华恒生物</td>\n      <td>119.40</td>\n      <td>1.30%</td>\n      <td>1.53</td>\n      <td>6872手</td>\n      <td>8196万</td>\n      <td>116.58</td>\n      <td>117.87</td>\n      <td>116.47</td>\n      <td>121.60</td>\n      <td>2023-12-17</td>\n    </tr>\n    <tr>\n      <th>26</th>\n      <td>688596</td>\n      <td>正帆科技</td>\n      <td>39.90</td>\n      <td>1.27%</td>\n      <td>0.50</td>\n      <td>19052手</td>\n      <td>7533万</td>\n      <td>39.30</td>\n      <td>39.40</td>\n      <td>38.81</td>\n      <td>40.20</td>\n      <td>2023-12-17</td>\n    </tr>\n    <tr>\n      <th>27</th>\n      <td>688472</td>\n      <td>阿特斯</td>\n      <td>11.38</td>\n      <td>1.25%</td>\n      <td>0.14</td>\n      <td>224439手</td>\n      <td>25696万</td>\n      <td>11.34</td>\n      <td>11.24</td>\n      <td>11.30</td>\n      <td>11.63</td>\n      <td>2023-12-17</td>\n    </tr>\n    <tr>\n      <th>28</th>\n      <td>688220</td>\n      <td>翱捷科技</td>\n      <td>68.90</td>\n      <td>1.23%</td>\n      <td>0.84</td>\n      <td>15566手</td>\n      <td>10678万</td>\n      <td>68.06</td>\n      <td>68.06</td>\n      <td>67.79</td>\n      <td>69.35</td>\n      <td>2023-12-17</td>\n    </tr>\n    <tr>\n      <th>29</th>\n      <td>688378</td>\n      <td>奥来德</td>\n      <td>46.64</td>\n      <td>1.15%</td>\n      <td>0.53</td>\n      <td>14192手</td>\n      <td>6570万</td>\n      <td>46.06</td>\n      <td>46.11</td>\n      <td>45.58</td>\n      <td>47.08</td>\n      <td>2023-12-17</td>\n    </tr>\n    <tr>\n      <th>30</th>\n      <td>688681</td>\n      <td>科汇股份</td>\n      <td>15.08</td>\n      <td>1.14%</td>\n      <td>0.17</td>\n      <td>12822手</td>\n      <td>1922万</td>\n      <td>15.04</td>\n      <td>14.91</td>\n      <td>14.76</td>\n      <td>15.15</td>\n      <td>2023-12-17</td>\n    </tr>\n    <tr>\n      <th>31</th>\n      <td>688226</td>\n      <td>威腾电气</td>\n      <td>16.98</td>\n      <td>1.13%</td>\n      <td>0.19</td>\n      <td>17976手</td>\n      <td>3063万</td>\n      <td>16.79</td>\n      <td>16.79</td>\n      <td>16.79</td>\n      <td>17.20</td>\n      <td>2023-12-17</td>\n    </tr>\n    <tr>\n      <th>32</th>\n      <td>688458</td>\n      <td>美芯晟</td>\n      <td>73.88</td>\n      <td>1.12%</td>\n      <td>0.82</td>\n      <td>4579手</td>\n      <td>3389万</td>\n      <td>73.00</td>\n      <td>73.06</td>\n      <td>72.37</td>\n      <td>75.04</td>\n      <td>2023-12-17</td>\n    </tr>\n    <tr>\n      <th>33</th>\n      <td>688188</td>\n      <td>柏楚电子</td>\n      <td>249.60</td>\n      <td>1.11%</td>\n      <td>2.75</td>\n      <td>5899手</td>\n      <td>14677万</td>\n      <td>245.98</td>\n      <td>246.85</td>\n      <td>243.90</td>\n      <td>251.00</td>\n      <td>2023-12-17</td>\n    </tr>\n    <tr>\n      <th>34</th>\n      <td>688147</td>\n      <td>微导纳米</td>\n      <td>38.48</td>\n      <td>1.05%</td>\n      <td>0.40</td>\n      <td>7596手</td>\n      <td>2915万</td>\n      <td>38.15</td>\n      <td>38.08</td>\n      <td>38.08</td>\n      <td>38.68</td>\n      <td>2023-12-17</td>\n    </tr>\n    <tr>\n      <th>35</th>\n      <td>688359</td>\n      <td>三孚新科</td>\n      <td>67.30</td>\n      <td>0.98%</td>\n      <td>0.65</td>\n      <td>3426手</td>\n      <td>2272万</td>\n      <td>66.04</td>\n      <td>66.65</td>\n      <td>65.50</td>\n      <td>67.30</td>\n      <td>2023-12-17</td>\n    </tr>\n    <tr>\n      <th>36</th>\n      <td>688981</td>\n      <td>中芯国际</td>\n      <td>53.60</td>\n      <td>0.94%</td>\n      <td>0.50</td>\n      <td>121309手</td>\n      <td>65117万</td>\n      <td>53.29</td>\n      <td>53.10</td>\n      <td>53.03</td>\n      <td>54.14</td>\n      <td>2023-12-17</td>\n    </tr>\n    <tr>\n      <th>37</th>\n      <td>688157</td>\n      <td>松井股份</td>\n      <td>48.81</td>\n      <td>0.93%</td>\n      <td>0.45</td>\n      <td>3922手</td>\n      <td>1918万</td>\n      <td>48.61</td>\n      <td>48.36</td>\n      <td>48.03</td>\n      <td>49.41</td>\n      <td>2023-12-17</td>\n    </tr>\n    <tr>\n      <th>38</th>\n      <td>688496</td>\n      <td>清越科技</td>\n      <td>18.49</td>\n      <td>0.93%</td>\n      <td>0.17</td>\n      <td>61186手</td>\n      <td>11383万</td>\n      <td>18.19</td>\n      <td>18.32</td>\n      <td>18.05</td>\n      <td>19.08</td>\n      <td>2023-12-17</td>\n    </tr>\n    <tr>\n      <th>39</th>\n      <td>688279</td>\n      <td>峰岹科技</td>\n      <td>127.86</td>\n      <td>0.92%</td>\n      <td>1.16</td>\n      <td>6258手</td>\n      <td>7893万</td>\n      <td>126.97</td>\n      <td>126.70</td>\n      <td>123.31</td>\n      <td>129.23</td>\n      <td>2023-12-17</td>\n    </tr>\n    <tr>\n      <th>40</th>\n      <td>688038</td>\n      <td>中科通达</td>\n      <td>14.89</td>\n      <td>0.88%</td>\n      <td>0.13</td>\n      <td>23855手</td>\n      <td>3541万</td>\n      <td>14.80</td>\n      <td>14.76</td>\n      <td>14.61</td>\n      <td>15.02</td>\n      <td>2023-12-17</td>\n    </tr>\n    <tr>\n      <th>41</th>\n      <td>688377</td>\n      <td>迪威尔</td>\n      <td>26.39</td>\n      <td>0.88%</td>\n      <td>0.23</td>\n      <td>9051手</td>\n      <td>2384万</td>\n      <td>26.26</td>\n      <td>26.16</td>\n      <td>25.88</td>\n      <td>26.64</td>\n      <td>2023-12-17</td>\n    </tr>\n    <tr>\n      <th>42</th>\n      <td>688669</td>\n      <td>聚石化学</td>\n      <td>18.56</td>\n      <td>0.87%</td>\n      <td>0.16</td>\n      <td>9806手</td>\n      <td>1820万</td>\n      <td>18.40</td>\n      <td>18.40</td>\n      <td>18.40</td>\n      <td>18.69</td>\n      <td>2023-12-17</td>\n    </tr>\n    <tr>\n      <th>43</th>\n      <td>688129</td>\n      <td>东来技术</td>\n      <td>16.57</td>\n      <td>0.85%</td>\n      <td>0.14</td>\n      <td>13866手</td>\n      <td>2303万</td>\n      <td>16.57</td>\n      <td>16.43</td>\n      <td>16.46</td>\n      <td>16.78</td>\n      <td>2023-12-17</td>\n    </tr>\n    <tr>\n      <th>44</th>\n      <td>688618</td>\n      <td>三旺通信</td>\n      <td>57.08</td>\n      <td>0.85%</td>\n      <td>0.48</td>\n      <td>4620手</td>\n      <td>2658万</td>\n      <td>56.54</td>\n      <td>56.60</td>\n      <td>56.45</td>\n      <td>58.48</td>\n      <td>2023-12-17</td>\n    </tr>\n    <tr>\n      <th>45</th>\n      <td>688152</td>\n      <td>麒麟信安</td>\n      <td>77.48</td>\n      <td>0.85%</td>\n      <td>0.65</td>\n      <td>14376手</td>\n      <td>11175万</td>\n      <td>76.51</td>\n      <td>76.83</td>\n      <td>75.28</td>\n      <td>79.67</td>\n      <td>2023-12-17</td>\n    </tr>\n    <tr>\n      <th>46</th>\n      <td>688659</td>\n      <td>元琛科技</td>\n      <td>11.96</td>\n      <td>0.84%</td>\n      <td>0.10</td>\n      <td>15056手</td>\n      <td>1797万</td>\n      <td>11.91</td>\n      <td>11.86</td>\n      <td>11.83</td>\n      <td>12.05</td>\n      <td>2023-12-17</td>\n    </tr>\n    <tr>\n      <th>47</th>\n      <td>688016</td>\n      <td>心脉医疗</td>\n      <td>187.78</td>\n      <td>0.82%</td>\n      <td>1.52</td>\n      <td>7822手</td>\n      <td>14798万</td>\n      <td>187.19</td>\n      <td>186.26</td>\n      <td>187.00</td>\n      <td>192.77</td>\n      <td>2023-12-17</td>\n    </tr>\n    <tr>\n      <th>48</th>\n      <td>688515</td>\n      <td>裕太微</td>\n      <td>107.62</td>\n      <td>0.81%</td>\n      <td>0.86</td>\n      <td>5245手</td>\n      <td>5686万</td>\n      <td>106.13</td>\n      <td>106.76</td>\n      <td>106.13</td>\n      <td>111.20</td>\n      <td>2023-12-17</td>\n    </tr>\n    <tr>\n      <th>49</th>\n      <td>688228</td>\n      <td>开普云</td>\n      <td>70.25</td>\n      <td>0.80%</td>\n      <td>0.56</td>\n      <td>33057手</td>\n      <td>23037万</td>\n      <td>69.69</td>\n      <td>69.69</td>\n      <td>67.69</td>\n      <td>71.88</td>\n      <td>2023-12-17</td>\n    </tr>\n  </tbody>\n</table>\n</div>"
     },
     "execution_count": 128,
     "metadata": {},
     "output_type": "execute_result"
    }
   ],
   "source": [
    "df_科创板"
   ],
   "metadata": {
    "collapsed": false
   }
  },
  {
   "cell_type": "code",
   "execution_count": 130,
   "outputs": [],
   "source": [
    "df_科创板.to_excel(f'fenghcj/凤凰财经-科创板-{output_time}.xlsx')"
   ],
   "metadata": {
    "collapsed": false
   }
  },
  {
   "cell_type": "code",
   "execution_count": null,
   "outputs": [],
   "source": [],
   "metadata": {
    "collapsed": false
   }
  }
 ],
 "metadata": {
  "kernelspec": {
   "display_name": "Python 3",
   "language": "python",
   "name": "python3"
  },
  "language_info": {
   "codemirror_mode": {
    "name": "ipython",
    "version": 2
   },
   "file_extension": ".py",
   "mimetype": "text/x-python",
   "name": "python",
   "nbconvert_exporter": "python",
   "pygments_lexer": "ipython2",
   "version": "2.7.6"
  }
 },
 "nbformat": 4,
 "nbformat_minor": 0
}
