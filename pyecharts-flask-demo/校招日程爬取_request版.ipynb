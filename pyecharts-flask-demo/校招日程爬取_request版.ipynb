{
 "cells": [
  {
   "cell_type": "markdown",
   "source": [
    "# 注入依赖，进入网页"
   ],
   "metadata": {
    "collapsed": false
   }
  },
  {
   "cell_type": "code",
   "execution_count": 1,
   "outputs": [],
   "source": [
    "import requests\n",
    "from requests_html import HTMLSession"
   ],
   "metadata": {
    "collapsed": false
   }
  },
  {
   "cell_type": "markdown",
   "source": [
    "# 设定爬取的url  -- 带时间戳"
   ],
   "metadata": {
    "collapsed": false
   }
  },
  {
   "cell_type": "code",
   "execution_count": 2,
   "outputs": [
    {
     "name": "stdout",
     "output_type": "stream",
     "text": [
      "https://www.nowcoder.com/np-api/u/school-schedule/list-card?_=1701154680296\n"
     ]
    }
   ],
   "source": [
    "import time\n",
    "\n",
    "base_url = \"https://www.nowcoder.com/np-api/u/school-schedule/list-card?_=\"\n",
    "timestamp = int(time.time() * 1000)  # 获取当前时间戳，以毫秒为单位\n",
    "\n",
    "url = base_url + str(timestamp)\n",
    "print(url)"
   ],
   "metadata": {
    "collapsed": false
   }
  },
  {
   "cell_type": "markdown",
   "source": [
    "# 设置请求参数"
   ],
   "metadata": {
    "collapsed": false
   }
  },
  {
   "cell_type": "code",
   "execution_count": 3,
   "outputs": [],
   "source": [
    "payload = {\n",
    "        'citys':'',\n",
    "        'query':'上海',\n",
    "        'tab':'1',\n",
    "        \"propertyId\":'',\n",
    "        'page':'',\n",
    "        'pageSize':'20'\n",
    "    }"
   ],
   "metadata": {
    "collapsed": false
   }
  },
  {
   "cell_type": "markdown",
   "source": [
    "# 设置请求头"
   ],
   "metadata": {
    "collapsed": false
   }
  },
  {
   "cell_type": "code",
   "execution_count": 4,
   "outputs": [],
   "source": [
    "import json\n",
    "session = HTMLSession()\n",
    "headers = {your headers}\n"
   ],
   "metadata": {
    "collapsed": false
   }
  },
  {
   "cell_type": "markdown",
   "source": [
    "# 开始请求"
   ],
   "metadata": {
    "collapsed": false
   }
  },
  {
   "cell_type": "code",
   "execution_count": 5,
   "outputs": [],
   "source": [
    "\n",
    "# r = session.post(url, data=payload, headers=headers)"
   ],
   "metadata": {
    "collapsed": false
   }
  },
  {
   "cell_type": "markdown",
   "source": [
    "# 返回数据以json格式显示"
   ],
   "metadata": {
    "collapsed": false
   }
  },
  {
   "cell_type": "code",
   "execution_count": 6,
   "outputs": [],
   "source": [
    "# response_data = r.json()"
   ],
   "metadata": {
    "collapsed": false
   }
  },
  {
   "cell_type": "code",
   "execution_count": 7,
   "outputs": [],
   "source": [
    "# response_data"
   ],
   "metadata": {
    "collapsed": false
   }
  },
  {
   "cell_type": "markdown",
   "source": [
    "# 找到想要的数据并进行规范化"
   ],
   "metadata": {
    "collapsed": false
   }
  },
  {
   "cell_type": "code",
   "execution_count": 5,
   "outputs": [],
   "source": [
    "import pandas as pd\n",
    "# df_niuke = pd.json_normalize(response_data['data']['datas'])\n",
    "# df_niuke"
   ],
   "metadata": {
    "collapsed": false
   }
  },
  {
   "cell_type": "markdown",
   "source": [
    "# 翻页，加上了time睡眠参数"
   ],
   "metadata": {
    "collapsed": false
   }
  },
  {
   "cell_type": "code",
   "execution_count": 6,
   "outputs": [],
   "source": [
    "import random\n",
    "niuke_responce_df = []\n",
    "for i in range(4):\n",
    "    payload['page']=str(i+1)\n",
    "    payload['query'] = '上海'\n",
    "    import time\n",
    "    base_url = \"https://www.nowcoder.com/np-api/u/school-schedule/list-card?_=\"\n",
    "    timestamp = int(time.time() * 1000)  # 获取当前时间戳，以毫秒为单位\n",
    "    url = base_url + str(timestamp)\n",
    "    r = session.post(url, data=payload, headers=headers)\n",
    "    response_data = r.json()\n",
    "    niukes = pd.json_normalize(response_data['data']['datas'])\n",
    "    niuke_responce_df.append(niukes)\n",
    "    wait_time = random.randint(3,10)\n",
    "    time.sleep(wait_time)"
   ],
   "metadata": {
    "collapsed": false
   }
  },
  {
   "cell_type": "markdown",
   "source": [
    "# 组合数据（网申时间少数有，大多数没有，可用网申Begin+end转码代替）"
   ],
   "metadata": {
    "collapsed": false
   }
  },
  {
   "cell_type": "code",
   "execution_count": 7,
   "outputs": [
    {
     "data": {
      "text/plain": "               name  companyId adInfo              cityList  \\\n0            上海和元生物     158562   None              [上海, 上海]   \n1      上海德龙钢铁集团有限公司     148986   None  [厦门, 成都, 北京, 上海, 天津]   \n2            上海仁度生物     157764   None                  [上海]   \n3            上海盟识科技      23321   None                  [上海]   \n4        上海宝冶集团有限公司       4400   None              [上海, 上海]   \n..              ...        ...    ...                   ...   \n15     上海思勰投资管理有限公司       1862   None              [北京, 上海]   \n16  上海安能聚创供应链管理有限公司      21516   None                  [上海]   \n17     上海基甸信息科技有限公司      20074   None                  None   \n18     上海水羊国际贸易有限公司      13570   None                  [长沙]   \n19     上海宝尊电子商务有限公司       2307   None                  [上海]   \n\n    wangshenBeginDate  wangshenEndDate supplementBeginDate supplementEndDate  \\\n0        1.697126e+12     1.703952e+12                None              None   \n1        1.695139e+12     1.701360e+12                None              None   \n2        1.696867e+12     1.701360e+12                None              None   \n3        1.696608e+12     1.703952e+12                None              None   \n4        1.695226e+12     1.701360e+12                None              None   \n..                ...              ...                 ...               ...   \n15       1.692115e+12     1.698768e+12                None              None   \n16       1.660061e+12     1.665418e+12                None              None   \n17       1.675699e+12     1.685549e+12                None              None   \n18                NaN              NaN                None              None   \n19       1.676736e+12     1.685549e+12                None              None   \n\n                   companyEvaluation  \\\n0                                      \n1                                      \n2                                      \n3                                      \n4                                      \n..                               ...   \n15  专营投资管理，采取扁平化管理，有带薪年假和年度旅游，福利待遇齐全   \n16      安能旗下物流公司，公司待遇齐全，有年底双薪，员工认同感强   \n17                                     \n18                                     \n19                                     \n\n                                             homeLogo  followed  \\\n0   https://uploadfiles.nowcoder.com/files/2022111...     False   \n1   https://uploadfiles.nowcoder.com/files/2022093...     False   \n2   https://uploadfiles.nowcoder.com/files/2022110...     False   \n3   https://static.nowcoder.com/fe/file/oss/167159...     False   \n4   https://uploadfiles.nowcoder.com/files/2023030...     False   \n..                                                ...       ...   \n15  https://uploadfiles.nowcoder.com/files/2018110...     False   \n16  https://uploadfiles.nowcoder.com/files/2022030...     False   \n17  https://uploadfiles.nowcoder.com/files/2022020...     False   \n18  https://uploadfiles.nowcoder.com/files/2021121...     False   \n19  https://uploadfiles.nowcoder.com/files/2023101...     False   \n\n    supplementHire                                       unactiveLogo  end  \\\n0            False                                                       0   \n1            False                                                       0   \n2            False                                                       0   \n3            False                                                       0   \n4            False  https://uploadfiles.nowcoder.com/files/2020022...    0   \n..             ...                                                ...  ...   \n15           False                                                       1   \n16           False                                                       1   \n17           False                                                       1   \n18            True  https://uploadfiles.nowcoder.com/files/2021121...    1   \n19           False                                                       1   \n\n     wangshenTime  cardListTop  companyJobCount  batch  \n0            None        False                7     53  \n1            None        False                0     53  \n2            None        False                0     53  \n3            None        False                0     53  \n4            None        False                0     53  \n..            ...          ...              ...    ...  \n15           None        False                4     53  \n16         8月10日起        False                0      0  \n17  02月07日-06月01日        False                0      0  \n18         2月26日起        False                0      0  \n19  02月19日-06月01日        False                7      0  \n\n[80 rows x 18 columns]",
      "text/html": "<div>\n<style scoped>\n    .dataframe tbody tr th:only-of-type {\n        vertical-align: middle;\n    }\n\n    .dataframe tbody tr th {\n        vertical-align: top;\n    }\n\n    .dataframe thead th {\n        text-align: right;\n    }\n</style>\n<table border=\"1\" class=\"dataframe\">\n  <thead>\n    <tr style=\"text-align: right;\">\n      <th></th>\n      <th>name</th>\n      <th>companyId</th>\n      <th>adInfo</th>\n      <th>cityList</th>\n      <th>wangshenBeginDate</th>\n      <th>wangshenEndDate</th>\n      <th>supplementBeginDate</th>\n      <th>supplementEndDate</th>\n      <th>companyEvaluation</th>\n      <th>homeLogo</th>\n      <th>followed</th>\n      <th>supplementHire</th>\n      <th>unactiveLogo</th>\n      <th>end</th>\n      <th>wangshenTime</th>\n      <th>cardListTop</th>\n      <th>companyJobCount</th>\n      <th>batch</th>\n    </tr>\n  </thead>\n  <tbody>\n    <tr>\n      <th>0</th>\n      <td>上海和元生物</td>\n      <td>158562</td>\n      <td>None</td>\n      <td>[上海, 上海]</td>\n      <td>1.697126e+12</td>\n      <td>1.703952e+12</td>\n      <td>None</td>\n      <td>None</td>\n      <td></td>\n      <td>https://uploadfiles.nowcoder.com/files/2022111...</td>\n      <td>False</td>\n      <td>False</td>\n      <td></td>\n      <td>0</td>\n      <td>None</td>\n      <td>False</td>\n      <td>7</td>\n      <td>53</td>\n    </tr>\n    <tr>\n      <th>1</th>\n      <td>上海德龙钢铁集团有限公司</td>\n      <td>148986</td>\n      <td>None</td>\n      <td>[厦门, 成都, 北京, 上海, 天津]</td>\n      <td>1.695139e+12</td>\n      <td>1.701360e+12</td>\n      <td>None</td>\n      <td>None</td>\n      <td></td>\n      <td>https://uploadfiles.nowcoder.com/files/2022093...</td>\n      <td>False</td>\n      <td>False</td>\n      <td></td>\n      <td>0</td>\n      <td>None</td>\n      <td>False</td>\n      <td>0</td>\n      <td>53</td>\n    </tr>\n    <tr>\n      <th>2</th>\n      <td>上海仁度生物</td>\n      <td>157764</td>\n      <td>None</td>\n      <td>[上海]</td>\n      <td>1.696867e+12</td>\n      <td>1.701360e+12</td>\n      <td>None</td>\n      <td>None</td>\n      <td></td>\n      <td>https://uploadfiles.nowcoder.com/files/2022110...</td>\n      <td>False</td>\n      <td>False</td>\n      <td></td>\n      <td>0</td>\n      <td>None</td>\n      <td>False</td>\n      <td>0</td>\n      <td>53</td>\n    </tr>\n    <tr>\n      <th>3</th>\n      <td>上海盟识科技</td>\n      <td>23321</td>\n      <td>None</td>\n      <td>[上海]</td>\n      <td>1.696608e+12</td>\n      <td>1.703952e+12</td>\n      <td>None</td>\n      <td>None</td>\n      <td></td>\n      <td>https://static.nowcoder.com/fe/file/oss/167159...</td>\n      <td>False</td>\n      <td>False</td>\n      <td></td>\n      <td>0</td>\n      <td>None</td>\n      <td>False</td>\n      <td>0</td>\n      <td>53</td>\n    </tr>\n    <tr>\n      <th>4</th>\n      <td>上海宝冶集团有限公司</td>\n      <td>4400</td>\n      <td>None</td>\n      <td>[上海, 上海]</td>\n      <td>1.695226e+12</td>\n      <td>1.701360e+12</td>\n      <td>None</td>\n      <td>None</td>\n      <td></td>\n      <td>https://uploadfiles.nowcoder.com/files/2023030...</td>\n      <td>False</td>\n      <td>False</td>\n      <td>https://uploadfiles.nowcoder.com/files/2020022...</td>\n      <td>0</td>\n      <td>None</td>\n      <td>False</td>\n      <td>0</td>\n      <td>53</td>\n    </tr>\n    <tr>\n      <th>...</th>\n      <td>...</td>\n      <td>...</td>\n      <td>...</td>\n      <td>...</td>\n      <td>...</td>\n      <td>...</td>\n      <td>...</td>\n      <td>...</td>\n      <td>...</td>\n      <td>...</td>\n      <td>...</td>\n      <td>...</td>\n      <td>...</td>\n      <td>...</td>\n      <td>...</td>\n      <td>...</td>\n      <td>...</td>\n      <td>...</td>\n    </tr>\n    <tr>\n      <th>15</th>\n      <td>上海思勰投资管理有限公司</td>\n      <td>1862</td>\n      <td>None</td>\n      <td>[北京, 上海]</td>\n      <td>1.692115e+12</td>\n      <td>1.698768e+12</td>\n      <td>None</td>\n      <td>None</td>\n      <td>专营投资管理，采取扁平化管理，有带薪年假和年度旅游，福利待遇齐全</td>\n      <td>https://uploadfiles.nowcoder.com/files/2018110...</td>\n      <td>False</td>\n      <td>False</td>\n      <td></td>\n      <td>1</td>\n      <td>None</td>\n      <td>False</td>\n      <td>4</td>\n      <td>53</td>\n    </tr>\n    <tr>\n      <th>16</th>\n      <td>上海安能聚创供应链管理有限公司</td>\n      <td>21516</td>\n      <td>None</td>\n      <td>[上海]</td>\n      <td>1.660061e+12</td>\n      <td>1.665418e+12</td>\n      <td>None</td>\n      <td>None</td>\n      <td>安能旗下物流公司，公司待遇齐全，有年底双薪，员工认同感强</td>\n      <td>https://uploadfiles.nowcoder.com/files/2022030...</td>\n      <td>False</td>\n      <td>False</td>\n      <td></td>\n      <td>1</td>\n      <td>8月10日起</td>\n      <td>False</td>\n      <td>0</td>\n      <td>0</td>\n    </tr>\n    <tr>\n      <th>17</th>\n      <td>上海基甸信息科技有限公司</td>\n      <td>20074</td>\n      <td>None</td>\n      <td>None</td>\n      <td>1.675699e+12</td>\n      <td>1.685549e+12</td>\n      <td>None</td>\n      <td>None</td>\n      <td></td>\n      <td>https://uploadfiles.nowcoder.com/files/2022020...</td>\n      <td>False</td>\n      <td>False</td>\n      <td></td>\n      <td>1</td>\n      <td>02月07日-06月01日</td>\n      <td>False</td>\n      <td>0</td>\n      <td>0</td>\n    </tr>\n    <tr>\n      <th>18</th>\n      <td>上海水羊国际贸易有限公司</td>\n      <td>13570</td>\n      <td>None</td>\n      <td>[长沙]</td>\n      <td>NaN</td>\n      <td>NaN</td>\n      <td>None</td>\n      <td>None</td>\n      <td></td>\n      <td>https://uploadfiles.nowcoder.com/files/2021121...</td>\n      <td>False</td>\n      <td>True</td>\n      <td>https://uploadfiles.nowcoder.com/files/2021121...</td>\n      <td>1</td>\n      <td>2月26日起</td>\n      <td>False</td>\n      <td>0</td>\n      <td>0</td>\n    </tr>\n    <tr>\n      <th>19</th>\n      <td>上海宝尊电子商务有限公司</td>\n      <td>2307</td>\n      <td>None</td>\n      <td>[上海]</td>\n      <td>1.676736e+12</td>\n      <td>1.685549e+12</td>\n      <td>None</td>\n      <td>None</td>\n      <td></td>\n      <td>https://uploadfiles.nowcoder.com/files/2023101...</td>\n      <td>False</td>\n      <td>False</td>\n      <td></td>\n      <td>1</td>\n      <td>02月19日-06月01日</td>\n      <td>False</td>\n      <td>7</td>\n      <td>0</td>\n    </tr>\n  </tbody>\n</table>\n<p>80 rows × 18 columns</p>\n</div>"
     },
     "execution_count": 7,
     "metadata": {},
     "output_type": "execute_result"
    }
   ],
   "source": [
    "niuke_all_in = pd.concat(niuke_responce_df)\n",
    "niuke_all_in"
   ],
   "metadata": {
    "collapsed": false
   }
  },
  {
   "cell_type": "markdown",
   "source": [
    "# 转为excel表并读取"
   ],
   "metadata": {
    "collapsed": false
   }
  },
  {
   "cell_type": "code",
   "execution_count": 8,
   "outputs": [
    {
     "data": {
      "text/plain": "    Unnamed: 0             name  companyId  adInfo  \\\n0            0           上海和元生物     158562     NaN   \n1            1     上海德龙钢铁集团有限公司     148986     NaN   \n2            2           上海仁度生物     157764     NaN   \n3            3           上海盟识科技      23321     NaN   \n4            4       上海宝冶集团有限公司       4400     NaN   \n..         ...              ...        ...     ...   \n75          15     上海思勰投资管理有限公司       1862     NaN   \n76          16  上海安能聚创供应链管理有限公司      21516     NaN   \n77          17     上海基甸信息科技有限公司      20074     NaN   \n78          18     上海水羊国际贸易有限公司      13570     NaN   \n79          19     上海宝尊电子商务有限公司       2307     NaN   \n\n                          cityList  wangshenBeginDate  wangshenEndDate  \\\n0                     ['上海', '上海']       1.697126e+12     1.703952e+12   \n1   ['厦门', '成都', '北京', '上海', '天津']       1.695139e+12     1.701360e+12   \n2                           ['上海']       1.696867e+12     1.701360e+12   \n3                           ['上海']       1.696608e+12     1.703952e+12   \n4                     ['上海', '上海']       1.695226e+12     1.701360e+12   \n..                             ...                ...              ...   \n75                    ['北京', '上海']       1.692115e+12     1.698768e+12   \n76                          ['上海']       1.660061e+12     1.665418e+12   \n77                             NaN       1.675699e+12     1.685549e+12   \n78                          ['长沙']                NaN              NaN   \n79                          ['上海']       1.676736e+12     1.685549e+12   \n\n    supplementBeginDate  supplementEndDate                 companyEvaluation  \\\n0                   NaN                NaN                               NaN   \n1                   NaN                NaN                               NaN   \n2                   NaN                NaN                               NaN   \n3                   NaN                NaN                               NaN   \n4                   NaN                NaN                               NaN   \n..                  ...                ...                               ...   \n75                  NaN                NaN  专营投资管理，采取扁平化管理，有带薪年假和年度旅游，福利待遇齐全   \n76                  NaN                NaN      安能旗下物流公司，公司待遇齐全，有年底双薪，员工认同感强   \n77                  NaN                NaN                               NaN   \n78                  NaN                NaN                               NaN   \n79                  NaN                NaN                               NaN   \n\n                                             homeLogo  followed  \\\n0   https://uploadfiles.nowcoder.com/files/2022111...     False   \n1   https://uploadfiles.nowcoder.com/files/2022093...     False   \n2   https://uploadfiles.nowcoder.com/files/2022110...     False   \n3   https://static.nowcoder.com/fe/file/oss/167159...     False   \n4   https://uploadfiles.nowcoder.com/files/2023030...     False   \n..                                                ...       ...   \n75  https://uploadfiles.nowcoder.com/files/2018110...     False   \n76  https://uploadfiles.nowcoder.com/files/2022030...     False   \n77  https://uploadfiles.nowcoder.com/files/2022020...     False   \n78  https://uploadfiles.nowcoder.com/files/2021121...     False   \n79  https://uploadfiles.nowcoder.com/files/2023101...     False   \n\n    supplementHire                                       unactiveLogo  end  \\\n0            False                                                NaN    0   \n1            False                                                NaN    0   \n2            False                                                NaN    0   \n3            False                                                NaN    0   \n4            False  https://uploadfiles.nowcoder.com/files/2020022...    0   \n..             ...                                                ...  ...   \n75           False                                                NaN    1   \n76           False                                                NaN    1   \n77           False                                                NaN    1   \n78            True  https://uploadfiles.nowcoder.com/files/2021121...    1   \n79           False                                                NaN    1   \n\n     wangshenTime  cardListTop  companyJobCount  batch  \n0             NaN        False                7     53  \n1             NaN        False                0     53  \n2             NaN        False                0     53  \n3             NaN        False                0     53  \n4             NaN        False                0     53  \n..            ...          ...              ...    ...  \n75            NaN        False                4     53  \n76         8月10日起        False                0      0  \n77  02月07日-06月01日        False                0      0  \n78         2月26日起        False                0      0  \n79  02月19日-06月01日        False                7      0  \n\n[80 rows x 19 columns]",
      "text/html": "<div>\n<style scoped>\n    .dataframe tbody tr th:only-of-type {\n        vertical-align: middle;\n    }\n\n    .dataframe tbody tr th {\n        vertical-align: top;\n    }\n\n    .dataframe thead th {\n        text-align: right;\n    }\n</style>\n<table border=\"1\" class=\"dataframe\">\n  <thead>\n    <tr style=\"text-align: right;\">\n      <th></th>\n      <th>Unnamed: 0</th>\n      <th>name</th>\n      <th>companyId</th>\n      <th>adInfo</th>\n      <th>cityList</th>\n      <th>wangshenBeginDate</th>\n      <th>wangshenEndDate</th>\n      <th>supplementBeginDate</th>\n      <th>supplementEndDate</th>\n      <th>companyEvaluation</th>\n      <th>homeLogo</th>\n      <th>followed</th>\n      <th>supplementHire</th>\n      <th>unactiveLogo</th>\n      <th>end</th>\n      <th>wangshenTime</th>\n      <th>cardListTop</th>\n      <th>companyJobCount</th>\n      <th>batch</th>\n    </tr>\n  </thead>\n  <tbody>\n    <tr>\n      <th>0</th>\n      <td>0</td>\n      <td>上海和元生物</td>\n      <td>158562</td>\n      <td>NaN</td>\n      <td>['上海', '上海']</td>\n      <td>1.697126e+12</td>\n      <td>1.703952e+12</td>\n      <td>NaN</td>\n      <td>NaN</td>\n      <td>NaN</td>\n      <td>https://uploadfiles.nowcoder.com/files/2022111...</td>\n      <td>False</td>\n      <td>False</td>\n      <td>NaN</td>\n      <td>0</td>\n      <td>NaN</td>\n      <td>False</td>\n      <td>7</td>\n      <td>53</td>\n    </tr>\n    <tr>\n      <th>1</th>\n      <td>1</td>\n      <td>上海德龙钢铁集团有限公司</td>\n      <td>148986</td>\n      <td>NaN</td>\n      <td>['厦门', '成都', '北京', '上海', '天津']</td>\n      <td>1.695139e+12</td>\n      <td>1.701360e+12</td>\n      <td>NaN</td>\n      <td>NaN</td>\n      <td>NaN</td>\n      <td>https://uploadfiles.nowcoder.com/files/2022093...</td>\n      <td>False</td>\n      <td>False</td>\n      <td>NaN</td>\n      <td>0</td>\n      <td>NaN</td>\n      <td>False</td>\n      <td>0</td>\n      <td>53</td>\n    </tr>\n    <tr>\n      <th>2</th>\n      <td>2</td>\n      <td>上海仁度生物</td>\n      <td>157764</td>\n      <td>NaN</td>\n      <td>['上海']</td>\n      <td>1.696867e+12</td>\n      <td>1.701360e+12</td>\n      <td>NaN</td>\n      <td>NaN</td>\n      <td>NaN</td>\n      <td>https://uploadfiles.nowcoder.com/files/2022110...</td>\n      <td>False</td>\n      <td>False</td>\n      <td>NaN</td>\n      <td>0</td>\n      <td>NaN</td>\n      <td>False</td>\n      <td>0</td>\n      <td>53</td>\n    </tr>\n    <tr>\n      <th>3</th>\n      <td>3</td>\n      <td>上海盟识科技</td>\n      <td>23321</td>\n      <td>NaN</td>\n      <td>['上海']</td>\n      <td>1.696608e+12</td>\n      <td>1.703952e+12</td>\n      <td>NaN</td>\n      <td>NaN</td>\n      <td>NaN</td>\n      <td>https://static.nowcoder.com/fe/file/oss/167159...</td>\n      <td>False</td>\n      <td>False</td>\n      <td>NaN</td>\n      <td>0</td>\n      <td>NaN</td>\n      <td>False</td>\n      <td>0</td>\n      <td>53</td>\n    </tr>\n    <tr>\n      <th>4</th>\n      <td>4</td>\n      <td>上海宝冶集团有限公司</td>\n      <td>4400</td>\n      <td>NaN</td>\n      <td>['上海', '上海']</td>\n      <td>1.695226e+12</td>\n      <td>1.701360e+12</td>\n      <td>NaN</td>\n      <td>NaN</td>\n      <td>NaN</td>\n      <td>https://uploadfiles.nowcoder.com/files/2023030...</td>\n      <td>False</td>\n      <td>False</td>\n      <td>https://uploadfiles.nowcoder.com/files/2020022...</td>\n      <td>0</td>\n      <td>NaN</td>\n      <td>False</td>\n      <td>0</td>\n      <td>53</td>\n    </tr>\n    <tr>\n      <th>...</th>\n      <td>...</td>\n      <td>...</td>\n      <td>...</td>\n      <td>...</td>\n      <td>...</td>\n      <td>...</td>\n      <td>...</td>\n      <td>...</td>\n      <td>...</td>\n      <td>...</td>\n      <td>...</td>\n      <td>...</td>\n      <td>...</td>\n      <td>...</td>\n      <td>...</td>\n      <td>...</td>\n      <td>...</td>\n      <td>...</td>\n      <td>...</td>\n    </tr>\n    <tr>\n      <th>75</th>\n      <td>15</td>\n      <td>上海思勰投资管理有限公司</td>\n      <td>1862</td>\n      <td>NaN</td>\n      <td>['北京', '上海']</td>\n      <td>1.692115e+12</td>\n      <td>1.698768e+12</td>\n      <td>NaN</td>\n      <td>NaN</td>\n      <td>专营投资管理，采取扁平化管理，有带薪年假和年度旅游，福利待遇齐全</td>\n      <td>https://uploadfiles.nowcoder.com/files/2018110...</td>\n      <td>False</td>\n      <td>False</td>\n      <td>NaN</td>\n      <td>1</td>\n      <td>NaN</td>\n      <td>False</td>\n      <td>4</td>\n      <td>53</td>\n    </tr>\n    <tr>\n      <th>76</th>\n      <td>16</td>\n      <td>上海安能聚创供应链管理有限公司</td>\n      <td>21516</td>\n      <td>NaN</td>\n      <td>['上海']</td>\n      <td>1.660061e+12</td>\n      <td>1.665418e+12</td>\n      <td>NaN</td>\n      <td>NaN</td>\n      <td>安能旗下物流公司，公司待遇齐全，有年底双薪，员工认同感强</td>\n      <td>https://uploadfiles.nowcoder.com/files/2022030...</td>\n      <td>False</td>\n      <td>False</td>\n      <td>NaN</td>\n      <td>1</td>\n      <td>8月10日起</td>\n      <td>False</td>\n      <td>0</td>\n      <td>0</td>\n    </tr>\n    <tr>\n      <th>77</th>\n      <td>17</td>\n      <td>上海基甸信息科技有限公司</td>\n      <td>20074</td>\n      <td>NaN</td>\n      <td>NaN</td>\n      <td>1.675699e+12</td>\n      <td>1.685549e+12</td>\n      <td>NaN</td>\n      <td>NaN</td>\n      <td>NaN</td>\n      <td>https://uploadfiles.nowcoder.com/files/2022020...</td>\n      <td>False</td>\n      <td>False</td>\n      <td>NaN</td>\n      <td>1</td>\n      <td>02月07日-06月01日</td>\n      <td>False</td>\n      <td>0</td>\n      <td>0</td>\n    </tr>\n    <tr>\n      <th>78</th>\n      <td>18</td>\n      <td>上海水羊国际贸易有限公司</td>\n      <td>13570</td>\n      <td>NaN</td>\n      <td>['长沙']</td>\n      <td>NaN</td>\n      <td>NaN</td>\n      <td>NaN</td>\n      <td>NaN</td>\n      <td>NaN</td>\n      <td>https://uploadfiles.nowcoder.com/files/2021121...</td>\n      <td>False</td>\n      <td>True</td>\n      <td>https://uploadfiles.nowcoder.com/files/2021121...</td>\n      <td>1</td>\n      <td>2月26日起</td>\n      <td>False</td>\n      <td>0</td>\n      <td>0</td>\n    </tr>\n    <tr>\n      <th>79</th>\n      <td>19</td>\n      <td>上海宝尊电子商务有限公司</td>\n      <td>2307</td>\n      <td>NaN</td>\n      <td>['上海']</td>\n      <td>1.676736e+12</td>\n      <td>1.685549e+12</td>\n      <td>NaN</td>\n      <td>NaN</td>\n      <td>NaN</td>\n      <td>https://uploadfiles.nowcoder.com/files/2023101...</td>\n      <td>False</td>\n      <td>False</td>\n      <td>NaN</td>\n      <td>1</td>\n      <td>02月19日-06月01日</td>\n      <td>False</td>\n      <td>7</td>\n      <td>0</td>\n    </tr>\n  </tbody>\n</table>\n<p>80 rows × 19 columns</p>\n</div>"
     },
     "execution_count": 8,
     "metadata": {},
     "output_type": "execute_result"
    }
   ],
   "source": [
    "niuke_all_in.to_excel('niuke_responce_df.xlsx')\n",
    "niuke_excel = pd.read_excel('niuke_responce_df.xlsx')\n",
    "niuke_excel"
   ],
   "metadata": {
    "collapsed": false
   }
  },
  {
   "cell_type": "markdown",
   "source": [
    "# 取出用上的数据"
   ],
   "metadata": {
    "collapsed": false
   }
  },
  {
   "cell_type": "code",
   "execution_count": 9,
   "outputs": [
    {
     "data": {
      "text/plain": "               name                        cityList   wangshenTime  \\\n0            上海和元生物                    ['上海', '上海']            NaN   \n1      上海德龙钢铁集团有限公司  ['厦门', '成都', '北京', '上海', '天津']            NaN   \n2            上海仁度生物                          ['上海']            NaN   \n3            上海盟识科技                          ['上海']            NaN   \n4        上海宝冶集团有限公司                    ['上海', '上海']            NaN   \n..              ...                             ...            ...   \n75     上海思勰投资管理有限公司                    ['北京', '上海']            NaN   \n76  上海安能聚创供应链管理有限公司                          ['上海']         8月10日起   \n77     上海基甸信息科技有限公司                             NaN  02月07日-06月01日   \n78     上海水羊国际贸易有限公司                          ['长沙']         2月26日起   \n79     上海宝尊电子商务有限公司                          ['上海']  02月19日-06月01日   \n\n                   companyEvaluation  companyJobCount  \\\n0                                NaN                7   \n1                                NaN                0   \n2                                NaN                0   \n3                                NaN                0   \n4                                NaN                0   \n..                               ...              ...   \n75  专营投资管理，采取扁平化管理，有带薪年假和年度旅游，福利待遇齐全                4   \n76      安能旗下物流公司，公司待遇齐全，有年底双薪，员工认同感强                0   \n77                               NaN                0   \n78                               NaN                0   \n79                               NaN                7   \n\n                                             homeLogo  wangshenBeginDate  \\\n0   https://uploadfiles.nowcoder.com/files/2022111...       1.697126e+12   \n1   https://uploadfiles.nowcoder.com/files/2022093...       1.695139e+12   \n2   https://uploadfiles.nowcoder.com/files/2022110...       1.696867e+12   \n3   https://static.nowcoder.com/fe/file/oss/167159...       1.696608e+12   \n4   https://uploadfiles.nowcoder.com/files/2023030...       1.695226e+12   \n..                                                ...                ...   \n75  https://uploadfiles.nowcoder.com/files/2018110...       1.692115e+12   \n76  https://uploadfiles.nowcoder.com/files/2022030...       1.660061e+12   \n77  https://uploadfiles.nowcoder.com/files/2022020...       1.675699e+12   \n78  https://uploadfiles.nowcoder.com/files/2021121...                NaN   \n79  https://uploadfiles.nowcoder.com/files/2023101...       1.676736e+12   \n\n    wangshenEndDate  \n0      1.703952e+12  \n1      1.701360e+12  \n2      1.701360e+12  \n3      1.703952e+12  \n4      1.701360e+12  \n..              ...  \n75     1.698768e+12  \n76     1.665418e+12  \n77     1.685549e+12  \n78              NaN  \n79     1.685549e+12  \n\n[80 rows x 8 columns]",
      "text/html": "<div>\n<style scoped>\n    .dataframe tbody tr th:only-of-type {\n        vertical-align: middle;\n    }\n\n    .dataframe tbody tr th {\n        vertical-align: top;\n    }\n\n    .dataframe thead th {\n        text-align: right;\n    }\n</style>\n<table border=\"1\" class=\"dataframe\">\n  <thead>\n    <tr style=\"text-align: right;\">\n      <th></th>\n      <th>name</th>\n      <th>cityList</th>\n      <th>wangshenTime</th>\n      <th>companyEvaluation</th>\n      <th>companyJobCount</th>\n      <th>homeLogo</th>\n      <th>wangshenBeginDate</th>\n      <th>wangshenEndDate</th>\n    </tr>\n  </thead>\n  <tbody>\n    <tr>\n      <th>0</th>\n      <td>上海和元生物</td>\n      <td>['上海', '上海']</td>\n      <td>NaN</td>\n      <td>NaN</td>\n      <td>7</td>\n      <td>https://uploadfiles.nowcoder.com/files/2022111...</td>\n      <td>1.697126e+12</td>\n      <td>1.703952e+12</td>\n    </tr>\n    <tr>\n      <th>1</th>\n      <td>上海德龙钢铁集团有限公司</td>\n      <td>['厦门', '成都', '北京', '上海', '天津']</td>\n      <td>NaN</td>\n      <td>NaN</td>\n      <td>0</td>\n      <td>https://uploadfiles.nowcoder.com/files/2022093...</td>\n      <td>1.695139e+12</td>\n      <td>1.701360e+12</td>\n    </tr>\n    <tr>\n      <th>2</th>\n      <td>上海仁度生物</td>\n      <td>['上海']</td>\n      <td>NaN</td>\n      <td>NaN</td>\n      <td>0</td>\n      <td>https://uploadfiles.nowcoder.com/files/2022110...</td>\n      <td>1.696867e+12</td>\n      <td>1.701360e+12</td>\n    </tr>\n    <tr>\n      <th>3</th>\n      <td>上海盟识科技</td>\n      <td>['上海']</td>\n      <td>NaN</td>\n      <td>NaN</td>\n      <td>0</td>\n      <td>https://static.nowcoder.com/fe/file/oss/167159...</td>\n      <td>1.696608e+12</td>\n      <td>1.703952e+12</td>\n    </tr>\n    <tr>\n      <th>4</th>\n      <td>上海宝冶集团有限公司</td>\n      <td>['上海', '上海']</td>\n      <td>NaN</td>\n      <td>NaN</td>\n      <td>0</td>\n      <td>https://uploadfiles.nowcoder.com/files/2023030...</td>\n      <td>1.695226e+12</td>\n      <td>1.701360e+12</td>\n    </tr>\n    <tr>\n      <th>...</th>\n      <td>...</td>\n      <td>...</td>\n      <td>...</td>\n      <td>...</td>\n      <td>...</td>\n      <td>...</td>\n      <td>...</td>\n      <td>...</td>\n    </tr>\n    <tr>\n      <th>75</th>\n      <td>上海思勰投资管理有限公司</td>\n      <td>['北京', '上海']</td>\n      <td>NaN</td>\n      <td>专营投资管理，采取扁平化管理，有带薪年假和年度旅游，福利待遇齐全</td>\n      <td>4</td>\n      <td>https://uploadfiles.nowcoder.com/files/2018110...</td>\n      <td>1.692115e+12</td>\n      <td>1.698768e+12</td>\n    </tr>\n    <tr>\n      <th>76</th>\n      <td>上海安能聚创供应链管理有限公司</td>\n      <td>['上海']</td>\n      <td>8月10日起</td>\n      <td>安能旗下物流公司，公司待遇齐全，有年底双薪，员工认同感强</td>\n      <td>0</td>\n      <td>https://uploadfiles.nowcoder.com/files/2022030...</td>\n      <td>1.660061e+12</td>\n      <td>1.665418e+12</td>\n    </tr>\n    <tr>\n      <th>77</th>\n      <td>上海基甸信息科技有限公司</td>\n      <td>NaN</td>\n      <td>02月07日-06月01日</td>\n      <td>NaN</td>\n      <td>0</td>\n      <td>https://uploadfiles.nowcoder.com/files/2022020...</td>\n      <td>1.675699e+12</td>\n      <td>1.685549e+12</td>\n    </tr>\n    <tr>\n      <th>78</th>\n      <td>上海水羊国际贸易有限公司</td>\n      <td>['长沙']</td>\n      <td>2月26日起</td>\n      <td>NaN</td>\n      <td>0</td>\n      <td>https://uploadfiles.nowcoder.com/files/2021121...</td>\n      <td>NaN</td>\n      <td>NaN</td>\n    </tr>\n    <tr>\n      <th>79</th>\n      <td>上海宝尊电子商务有限公司</td>\n      <td>['上海']</td>\n      <td>02月19日-06月01日</td>\n      <td>NaN</td>\n      <td>7</td>\n      <td>https://uploadfiles.nowcoder.com/files/2023101...</td>\n      <td>1.676736e+12</td>\n      <td>1.685549e+12</td>\n    </tr>\n  </tbody>\n</table>\n<p>80 rows × 8 columns</p>\n</div>"
     },
     "execution_count": 9,
     "metadata": {},
     "output_type": "execute_result"
    }
   ],
   "source": [
    "niuke_df = niuke_excel[\n",
    "    ['name','cityList','wangshenTime','companyEvaluation','companyJobCount','homeLogo','wangshenBeginDate','wangshenEndDate'\n",
    "    ]]\n",
    "niuke_df"
   ],
   "metadata": {
    "collapsed": false
   }
  },
  {
   "cell_type": "markdown",
   "source": [
    "# 名称汉化"
   ],
   "metadata": {
    "collapsed": false
   }
  },
  {
   "cell_type": "code",
   "execution_count": 10,
   "outputs": [
    {
     "data": {
      "text/plain": "               公司名称                            招聘城市           网申日期  \\\n0            上海和元生物                    ['上海', '上海']            NaN   \n1      上海德龙钢铁集团有限公司  ['厦门', '成都', '北京', '上海', '天津']            NaN   \n2            上海仁度生物                          ['上海']            NaN   \n3            上海盟识科技                          ['上海']            NaN   \n4        上海宝冶集团有限公司                    ['上海', '上海']            NaN   \n..              ...                             ...            ...   \n75     上海思勰投资管理有限公司                    ['北京', '上海']            NaN   \n76  上海安能聚创供应链管理有限公司                          ['上海']         8月10日起   \n77     上海基甸信息科技有限公司                             NaN  02月07日-06月01日   \n78     上海水羊国际贸易有限公司                          ['长沙']         2月26日起   \n79     上海宝尊电子商务有限公司                          ['上海']  02月19日-06月01日   \n\n                                公司详情  岗位个数  \\\n0                                NaN     7   \n1                                NaN     0   \n2                                NaN     0   \n3                                NaN     0   \n4                                NaN     0   \n..                               ...   ...   \n75  专营投资管理，采取扁平化管理，有带薪年假和年度旅游，福利待遇齐全     4   \n76      安能旗下物流公司，公司待遇齐全，有年底双薪，员工认同感强     0   \n77                               NaN     0   \n78                               NaN     0   \n79                               NaN     7   \n\n                                               公司LOGO        网申开始时间  \\\n0   https://uploadfiles.nowcoder.com/files/2022111...  1.697126e+12   \n1   https://uploadfiles.nowcoder.com/files/2022093...  1.695139e+12   \n2   https://uploadfiles.nowcoder.com/files/2022110...  1.696867e+12   \n3   https://static.nowcoder.com/fe/file/oss/167159...  1.696608e+12   \n4   https://uploadfiles.nowcoder.com/files/2023030...  1.695226e+12   \n..                                                ...           ...   \n75  https://uploadfiles.nowcoder.com/files/2018110...  1.692115e+12   \n76  https://uploadfiles.nowcoder.com/files/2022030...  1.660061e+12   \n77  https://uploadfiles.nowcoder.com/files/2022020...  1.675699e+12   \n78  https://uploadfiles.nowcoder.com/files/2021121...           NaN   \n79  https://uploadfiles.nowcoder.com/files/2023101...  1.676736e+12   \n\n          网申结束时间  \n0   1.703952e+12  \n1   1.701360e+12  \n2   1.701360e+12  \n3   1.703952e+12  \n4   1.701360e+12  \n..           ...  \n75  1.698768e+12  \n76  1.665418e+12  \n77  1.685549e+12  \n78           NaN  \n79  1.685549e+12  \n\n[80 rows x 8 columns]",
      "text/html": "<div>\n<style scoped>\n    .dataframe tbody tr th:only-of-type {\n        vertical-align: middle;\n    }\n\n    .dataframe tbody tr th {\n        vertical-align: top;\n    }\n\n    .dataframe thead th {\n        text-align: right;\n    }\n</style>\n<table border=\"1\" class=\"dataframe\">\n  <thead>\n    <tr style=\"text-align: right;\">\n      <th></th>\n      <th>公司名称</th>\n      <th>招聘城市</th>\n      <th>网申日期</th>\n      <th>公司详情</th>\n      <th>岗位个数</th>\n      <th>公司LOGO</th>\n      <th>网申开始时间</th>\n      <th>网申结束时间</th>\n    </tr>\n  </thead>\n  <tbody>\n    <tr>\n      <th>0</th>\n      <td>上海和元生物</td>\n      <td>['上海', '上海']</td>\n      <td>NaN</td>\n      <td>NaN</td>\n      <td>7</td>\n      <td>https://uploadfiles.nowcoder.com/files/2022111...</td>\n      <td>1.697126e+12</td>\n      <td>1.703952e+12</td>\n    </tr>\n    <tr>\n      <th>1</th>\n      <td>上海德龙钢铁集团有限公司</td>\n      <td>['厦门', '成都', '北京', '上海', '天津']</td>\n      <td>NaN</td>\n      <td>NaN</td>\n      <td>0</td>\n      <td>https://uploadfiles.nowcoder.com/files/2022093...</td>\n      <td>1.695139e+12</td>\n      <td>1.701360e+12</td>\n    </tr>\n    <tr>\n      <th>2</th>\n      <td>上海仁度生物</td>\n      <td>['上海']</td>\n      <td>NaN</td>\n      <td>NaN</td>\n      <td>0</td>\n      <td>https://uploadfiles.nowcoder.com/files/2022110...</td>\n      <td>1.696867e+12</td>\n      <td>1.701360e+12</td>\n    </tr>\n    <tr>\n      <th>3</th>\n      <td>上海盟识科技</td>\n      <td>['上海']</td>\n      <td>NaN</td>\n      <td>NaN</td>\n      <td>0</td>\n      <td>https://static.nowcoder.com/fe/file/oss/167159...</td>\n      <td>1.696608e+12</td>\n      <td>1.703952e+12</td>\n    </tr>\n    <tr>\n      <th>4</th>\n      <td>上海宝冶集团有限公司</td>\n      <td>['上海', '上海']</td>\n      <td>NaN</td>\n      <td>NaN</td>\n      <td>0</td>\n      <td>https://uploadfiles.nowcoder.com/files/2023030...</td>\n      <td>1.695226e+12</td>\n      <td>1.701360e+12</td>\n    </tr>\n    <tr>\n      <th>...</th>\n      <td>...</td>\n      <td>...</td>\n      <td>...</td>\n      <td>...</td>\n      <td>...</td>\n      <td>...</td>\n      <td>...</td>\n      <td>...</td>\n    </tr>\n    <tr>\n      <th>75</th>\n      <td>上海思勰投资管理有限公司</td>\n      <td>['北京', '上海']</td>\n      <td>NaN</td>\n      <td>专营投资管理，采取扁平化管理，有带薪年假和年度旅游，福利待遇齐全</td>\n      <td>4</td>\n      <td>https://uploadfiles.nowcoder.com/files/2018110...</td>\n      <td>1.692115e+12</td>\n      <td>1.698768e+12</td>\n    </tr>\n    <tr>\n      <th>76</th>\n      <td>上海安能聚创供应链管理有限公司</td>\n      <td>['上海']</td>\n      <td>8月10日起</td>\n      <td>安能旗下物流公司，公司待遇齐全，有年底双薪，员工认同感强</td>\n      <td>0</td>\n      <td>https://uploadfiles.nowcoder.com/files/2022030...</td>\n      <td>1.660061e+12</td>\n      <td>1.665418e+12</td>\n    </tr>\n    <tr>\n      <th>77</th>\n      <td>上海基甸信息科技有限公司</td>\n      <td>NaN</td>\n      <td>02月07日-06月01日</td>\n      <td>NaN</td>\n      <td>0</td>\n      <td>https://uploadfiles.nowcoder.com/files/2022020...</td>\n      <td>1.675699e+12</td>\n      <td>1.685549e+12</td>\n    </tr>\n    <tr>\n      <th>78</th>\n      <td>上海水羊国际贸易有限公司</td>\n      <td>['长沙']</td>\n      <td>2月26日起</td>\n      <td>NaN</td>\n      <td>0</td>\n      <td>https://uploadfiles.nowcoder.com/files/2021121...</td>\n      <td>NaN</td>\n      <td>NaN</td>\n    </tr>\n    <tr>\n      <th>79</th>\n      <td>上海宝尊电子商务有限公司</td>\n      <td>['上海']</td>\n      <td>02月19日-06月01日</td>\n      <td>NaN</td>\n      <td>7</td>\n      <td>https://uploadfiles.nowcoder.com/files/2023101...</td>\n      <td>1.676736e+12</td>\n      <td>1.685549e+12</td>\n    </tr>\n  </tbody>\n</table>\n<p>80 rows × 8 columns</p>\n</div>"
     },
     "execution_count": 10,
     "metadata": {},
     "output_type": "execute_result"
    }
   ],
   "source": [
    "niuke_CN = niuke_df.rename(columns={\n",
    "    'name':'公司名称',\n",
    "    'cityList':'招聘城市',\n",
    "    'wangshenTime':'网申日期',\n",
    "    'companyEvaluation':'公司详情',\n",
    "    'companyJobCount':'岗位个数',\n",
    "    'homeLogo':'公司LOGO',\n",
    "    'wangshenBeginDate':'网申开始时间',\n",
    "    'wangshenEndDate':'网申结束时间'\n",
    "})\n",
    "niuke_CN"
   ],
   "metadata": {
    "collapsed": false
   }
  },
  {
   "cell_type": "markdown",
   "source": [
    "# 把数据单独列成列表"
   ],
   "metadata": {
    "collapsed": false
   }
  },
  {
   "cell_type": "code",
   "execution_count": 11,
   "outputs": [
    {
     "data": {
      "text/plain": "[1697126400000.0,\n 1695139200000.0,\n 1696867200000.0,\n 1696608000000.0,\n 1695225600000.0,\n 1696867200000.0,\n 1695139200000.0,\n 1693929600000.0,\n 1690819200000.0,\n 1695916800000.0,\n 1696953600000.0,\n 1694966400000.0,\n 1694620800000.0,\n 1697212800000.0,\n 1693497600000.0,\n 1697385600000.0,\n 1699977600000.0,\n 1693411200000.0,\n 1696694400000.0,\n 1694448000000.0,\n 1695830400000.0,\n 1697644800000.0,\n 1694620800000.0,\n 1694361600000.0,\n 1693843200000.0,\n 1699372800000.0,\n 1696780800000.0,\n 1696608000000.0,\n 1695657600000.0,\n 1697040000000.0,\n 1695052800000.0,\n 1697126400000.0,\n 1696521600000.0,\n 1695225600000.0,\n 1697558400000.0,\n 1694448000000.0,\n 1696867200000.0,\n 1698076800000.0,\n 1694016000000.0,\n 1698595200000.0,\n 1697385600000.0,\n 1696608000000.0,\n 1693152000000.0,\n 1696953600000.0,\n 1697040000000.0,\n 1697126400000.0,\n 1697040000000.0,\n 1698595200000.0,\n 1697385600000.0,\n 1697472000000.0,\n 1699459200000.0,\n 1698768000000.0,\n 1699200000000.0,\n 1699372800000.0,\n 1695830400000.0,\n 1699804800000.0,\n 1699545600000.0,\n 1698076800000.0,\n 1694102400000.0,\n 1694620800000.0,\n 1698854400000.0,\n 1692720000000.0,\n 1693497600000.0,\n 1693497600000.0,\n 1694620800000.0,\n 1694620800000.0,\n 1694707200000.0,\n 1694707200000.0,\n 1695744000000.0,\n nan,\n nan,\n nan,\n nan,\n 1692028800000.0,\n 1691078400000.0,\n 1692115200000.0,\n 1660060800000.0,\n 1675699200000.0,\n nan,\n 1676736000000.0]"
     },
     "execution_count": 11,
     "metadata": {},
     "output_type": "execute_result"
    }
   ],
   "source": [
    "网申开始时间 = niuke_CN['网申开始时间'].tolist()\n",
    "网申开始时间"
   ],
   "metadata": {
    "collapsed": false
   }
  },
  {
   "cell_type": "code",
   "execution_count": 12,
   "outputs": [
    {
     "data": {
      "text/plain": "[1703952000000.0,\n 1701360000000.0,\n 1701360000000.0,\n 1703952000000.0,\n 1701360000000.0,\n 1703952000000.0,\n 1701360000000.0,\n 1701360000000.0,\n 1712246400000.0,\n 1701360000000.0,\n 1703952000000.0,\n 1701360000000.0,\n 1701360000000.0,\n 1703952000000.0,\n 1701360000000.0,\n 1703952000000.0,\n 1703952000000.0,\n 1703952000000.0,\n 1703952000000.0,\n 1701360000000.0,\n 1701360000000.0,\n 1703952000000.0,\n 1702483200000.0,\n 1703952000000.0,\n 1701360000000.0,\n 1703952000000.0,\n 1703952000000.0,\n 1703952000000.0,\n 1701360000000.0,\n 1703952000000.0,\n 1701360000000.0,\n 1703952000000.0,\n 1703952000000.0,\n 1701360000000.0,\n 1703952000000.0,\n 1703952000000.0,\n 1703952000000.0,\n 1703952000000.0,\n 1701360000000.0,\n 1703952000000.0,\n 1703952000000.0,\n 1703952000000.0,\n 1701273600000.0,\n 1703952000000.0,\n 1703952000000.0,\n 1701360000000.0,\n 1703952000000.0,\n 1703952000000.0,\n 1703952000000.0,\n 1703952000000.0,\n 1706716800000.0,\n 1703952000000.0,\n 1706716800000.0,\n 1701964800000.0,\n 1701360000000.0,\n 1703952000000.0,\n 1703952000000.0,\n 1703952000000.0,\n 1701964800000.0,\n 1702483200000.0,\n 1706716800000.0,\n 1701273600000.0,\n 1701360000000.0,\n 1701360000000.0,\n 1701360000000.0,\n 1701360000000.0,\n 1701360000000.0,\n 1701360000000.0,\n 1701360000000.0,\n nan,\n nan,\n nan,\n nan,\n 1698768000000.0,\n 1696089599000.0,\n 1698768000000.0,\n 1665417599000.0,\n 1685548800000.0,\n nan,\n 1685548800000.0]"
     },
     "execution_count": 12,
     "metadata": {},
     "output_type": "execute_result"
    }
   ],
   "source": [
    "网申结束时间 = niuke_CN['网申结束时间'].tolist()\n",
    "网申结束时间"
   ],
   "metadata": {
    "collapsed": false
   }
  },
  {
   "cell_type": "code",
   "execution_count": 13,
   "outputs": [
    {
     "data": {
      "text/plain": "['上海和元生物',\n '上海德龙钢铁集团有限公司',\n '上海仁度生物',\n '上海盟识科技',\n '上海宝冶集团有限公司',\n '上海联通',\n '上海格林福德国际货物运输代理有限公司',\n '上海集成电路研发中心',\n '上海人保财险',\n '上海凯士比泵有限公司',\n '开利空调冷冻研发管理（上海）有限公司',\n '阿特拉斯科普柯工业技术（上海）有限公司',\n '上海正泰电源系统有限公司',\n '上海芯钛信息科技',\n '上海概伦电子',\n '上海霍普建筑设计事务所股份有限公司',\n '上海东方广播有限公司',\n '上海电力设计院',\n '上海格科半导体',\n '荣湃半导体（上海）有限公司',\n '韬睿惠悦咨询（上海）有限公司',\n '上海怡星机电设备有限公司',\n '西门子医疗（上海）',\n '上海建工',\n '上海电气',\n '上海微电子',\n '上海锦湖日丽塑料有限公司',\n '盛美半导体设备（上海）股份有限公司',\n '上海华谊集团',\n '上海环境集团',\n '上海杏泽投资',\n '上海热风时尚',\n '上海市园林设计研究总院有限公司',\n '中石化上海工程有限公司',\n '上海外服',\n '精工钢结构（上海）有限公司',\n '上海电控研究所',\n '美卓奥图泰新材料技术（上海）有限公司',\n '六洲酒店管理（上海）有限公司',\n '蒂芙尼（上海）商业有限公司',\n '美邸养老服务（上海）有限公司',\n '上海航空测控技术研究所',\n '携程旅游网络技术（上海）有限公司',\n '上海永铭电子',\n '东风汽车集团股份有限公司上海零壹汽车设计分公司',\n '上海市桃浦中学',\n '上海市政第十设计院',\n '上海数据集团',\n '上海锐开电气',\n '上海物联网创业投资基金合伙企业（有限合伙）',\n '上海电气集团股份有限公司',\n '上海沪工',\n '汤丽柏琦（上海）',\n '中国铁路上海局集团',\n '上海魔飞企业管理咨询有限公司',\n '上海文化广播影视集团',\n '上海蔡同德药业',\n '上海虹桥正瀚律师事务所',\n '上海建工四建集团',\n '上海建工七建集团',\n '骏玖电子科技（上海）有限公司',\n '上海链接者集团有限公司',\n '上海合见工软',\n '上海光通信',\n '上海聪链信息科技有限公司',\n '上海积塔半导体',\n '上海电气风电集团',\n '上海铮信',\n '中信期货上海分公司',\n '谷斗科技（上海）有限公司',\n '上海农商银行',\n '招商银行上海分行',\n '中国邮政储蓄银行上海分行',\n '上海启林投资管理有限公司',\n '上海人工智能实验室',\n '上海思勰投资管理有限公司',\n '上海安能聚创供应链管理有限公司',\n '上海基甸信息科技有限公司',\n '上海水羊国际贸易有限公司',\n '上海宝尊电子商务有限公司']"
     },
     "execution_count": 13,
     "metadata": {},
     "output_type": "execute_result"
    }
   ],
   "source": [
    "公司名称 = niuke_CN['公司名称'].tolist()\n",
    "公司名称"
   ],
   "metadata": {
    "collapsed": false
   }
  },
  {
   "cell_type": "code",
   "execution_count": 14,
   "outputs": [],
   "source": [
    "公司LOGO = niuke_CN['公司LOGO'].tolist()\n",
    "公司LOGO\n",
    "replace_img = 'assets/require_offer.png'\n",
    "公司LOGO = [replace_img if pd.isnull(item) else item for item in 公司LOGO]"
   ],
   "metadata": {
    "collapsed": false
   }
  },
  {
   "cell_type": "code",
   "execution_count": 15,
   "outputs": [],
   "source": [
    "招聘城市 = niuke_CN['招聘城市'].tolist()\n",
    "招聘城市\n",
    "replacement = '无'\n",
    "招聘城市 = [replacement if pd.isnull(item) else item  for item in 招聘城市]"
   ],
   "metadata": {
    "collapsed": false
   }
  },
  {
   "cell_type": "code",
   "execution_count": 16,
   "outputs": [],
   "source": [
    "去油招聘城市 = []\n",
    "for x in 招聘城市:\n",
    "    去油招聘城市.append(str(x[1:-2]))"
   ],
   "metadata": {
    "collapsed": false
   }
  },
  {
   "cell_type": "code",
   "execution_count": 17,
   "outputs": [
    {
     "data": {
      "text/plain": "[\"'上海', '上海\",\n \"'厦门', '成都', '北京', '上海', '天津\",\n \"'上海\",\n \"'上海\",\n \"'上海', '上海\",\n \"'上海', '上海\",\n \"'合肥', '长沙', '北京', '上海', '天津\",\n \"'上海\",\n \"'上海\",\n \"'常州', '上海\",\n \"'上海\",\n \"'南京', '无锡', '苏州', '合肥', '芜湖', '深圳\",\n \"'杭州', '深圳', '上海\",\n \"'长沙', '上海\",\n \"'福州', '济南', '广州', '北京', '上海\",\n \"'深圳', '上海\",\n \"'上海\",\n \"'保定', '南京', '合肥', '兰州', '上海\",\n \"'上海\",\n \"'深圳', '上海\",\n \"'北京', '上海\",\n \"'上海\",\n \"'无锡', '福州', '广州', '深圳', '兰州', '北京', '上海\",\n \"'上海\",\n \"'上海', '上海\",\n \"'上海\",\n \"'佛山', '上海\",\n \"'上海', '上海\",\n \"'上海\",\n \"'上海\",\n \"'上海\",\n \"'上海\",\n \"'苏州', '上海\",\n \"'上海\",\n \"'上海\",\n \"'郑州', '上海\",\n \"'上海\",\n \"'长沙', '韶关\",\n \"'上海\",\n \"'上海\",\n \"'苏州', '广州', '成都', '上海\",\n \"'上海\",\n \"'成都', '北京', '上海\",\n \"'上海\",\n \"'武汉', '上海\",\n \"'上海\",\n \"'兰州\",\n \"'上海\",\n \"'上海\",\n \"'上海\",\n \"'上海\",\n \"'苏州', '上海\",\n \"'太原', '沈阳', '哈尔滨', '南京', '苏州', '杭州', '合肥', '青岛', '郑州', '武汉', '长沙', '昆明', '西安', '北京', '上海', '天津\",\n \"'南京', '徐州', '杭州', '宁波', '上海\",\n \"'常州', '嘉兴', '广州', '南宁\",\n \"'上海\",\n \"'上海\",\n \"'广州', '上海\",\n \"'南京', '广州', '海口', '上海\",\n \"'雄安新区', '北京', '上海', '天津\",\n \"'杭州', '宁波', '合肥', '上海', '上海\",\n '',\n \"'上海\",\n \"'上海\",\n \"'上海\",\n \"'上海\",\n \"'杭州', '西安', '北京', '上海\",\n \"'上海\",\n \"'无锡', '苏州', '上海\",\n '',\n \"'上海\",\n \"'上海\",\n '',\n \"'上海', '上海\",\n \"'上海\",\n \"'北京', '上海\",\n \"'上海\",\n '',\n \"'长沙\",\n \"'上海\"]"
     },
     "execution_count": 17,
     "metadata": {},
     "output_type": "execute_result"
    }
   ],
   "source": [
    "去油招聘城市"
   ],
   "metadata": {
    "collapsed": false
   }
  },
  {
   "cell_type": "code",
   "execution_count": 18,
   "outputs": [
    {
     "data": {
      "text/plain": "['上海, 上海',\n '厦门, 成都, 北京, 上海, 天津',\n '上海',\n '上海',\n '上海, 上海',\n '上海, 上海',\n '合肥, 长沙, 北京, 上海, 天津',\n '上海',\n '上海',\n '常州, 上海',\n '上海',\n '南京, 无锡, 苏州, 合肥, 芜湖, 深圳',\n '杭州, 深圳, 上海',\n '长沙, 上海',\n '福州, 济南, 广州, 北京, 上海',\n '深圳, 上海',\n '上海',\n '保定, 南京, 合肥, 兰州, 上海',\n '上海',\n '深圳, 上海',\n '北京, 上海',\n '上海',\n '无锡, 福州, 广州, 深圳, 兰州, 北京, 上海',\n '上海',\n '上海, 上海',\n '上海',\n '佛山, 上海',\n '上海, 上海',\n '上海',\n '上海',\n '上海',\n '上海',\n '苏州, 上海',\n '上海',\n '上海',\n '郑州, 上海',\n '上海',\n '长沙, 韶关',\n '上海',\n '上海',\n '苏州, 广州, 成都, 上海',\n '上海',\n '成都, 北京, 上海',\n '上海',\n '武汉, 上海',\n '上海',\n '兰州',\n '上海',\n '上海',\n '上海',\n '上海',\n '苏州, 上海',\n '太原, 沈阳, 哈尔滨, 南京, 苏州, 杭州, 合肥, 青岛, 郑州, 武汉, 长沙, 昆明, 西安, 北京, 上海, 天津',\n '南京, 徐州, 杭州, 宁波, 上海',\n '常州, 嘉兴, 广州, 南宁',\n '上海',\n '上海',\n '广州, 上海',\n '南京, 广州, 海口, 上海',\n '雄安新区, 北京, 上海, 天津',\n '杭州, 宁波, 合肥, 上海, 上海',\n '',\n '上海',\n '上海',\n '上海',\n '上海',\n '杭州, 西安, 北京, 上海',\n '上海',\n '无锡, 苏州, 上海',\n '',\n '上海',\n '上海',\n '',\n '上海, 上海',\n '上海',\n '北京, 上海',\n '上海',\n '',\n '长沙',\n '上海']"
     },
     "execution_count": 18,
     "metadata": {},
     "output_type": "execute_result"
    }
   ],
   "source": [
    "去引号招聘城市 = [s.replace(\"'\",'') for s in 去油招聘城市]\n",
    "去引号招聘城市"
   ],
   "metadata": {
    "collapsed": false
   }
  },
  {
   "cell_type": "code",
   "execution_count": 19,
   "outputs": [
    {
     "data": {
      "text/plain": "['',\n '厦门, 成都, 北京, 上海, 天津',\n '上海',\n '上海',\n '',\n '',\n '合肥, 长沙, 北京, 上海, 天津',\n '上海',\n '上海',\n '常州, 上海',\n '上海',\n '南京, 无锡, 苏州, 合肥, 芜湖, 深圳',\n '杭州, 深圳, 上海',\n '长沙, 上海',\n '福州, 济南, 广州, 北京, 上海',\n '深圳, 上海',\n '上海',\n '保定, 南京, 合肥, 兰州, 上海',\n '上海',\n '深圳, 上海',\n '北京, 上海',\n '上海',\n '无锡, 福州, 广州, 深圳, 兰州, 北京, 上海',\n '上海',\n '',\n '上海',\n '佛山, 上海',\n '',\n '上海',\n '上海',\n '上海',\n '上海',\n '苏州, 上海',\n '上海',\n '上海',\n '郑州, 上海',\n '上海',\n '长沙, 韶关',\n '上海',\n '上海',\n '苏州, 广州, 成都, 上海',\n '上海',\n '成都, 北京, 上海',\n '上海',\n '武汉, 上海',\n '上海',\n '兰州',\n '上海',\n '上海',\n '上海',\n '上海',\n '苏州, 上海',\n '太原, 沈阳, 哈尔滨, 南京, 苏州, 杭州, 合肥, 青岛, 郑州, 武汉, 长沙, 昆明, 西安, 北京, 上海, 天津',\n '南京, 徐州, 杭州, 宁波, 上海',\n '常州, 嘉兴, 广州, 南宁',\n '上海',\n '上海',\n '广州, 上海',\n '南京, 广州, 海口, 上海',\n '雄安新区, 北京, 上海, 天津',\n '杭州, 宁波, 合肥, ',\n '',\n '上海',\n '上海',\n '上海',\n '上海',\n '杭州, 西安, 北京, 上海',\n '上海',\n '无锡, 苏州, 上海',\n '',\n '上海',\n '上海',\n '',\n '',\n '上海',\n '北京, 上海',\n '上海',\n '',\n '长沙',\n '上海']"
     },
     "execution_count": 19,
     "metadata": {},
     "output_type": "execute_result"
    }
   ],
   "source": [
    "for i in range(len(去引号招聘城市)):\n",
    "    if 去引号招聘城市[i].__contains__('上海'):\n",
    "        if 去引号招聘城市[i].count('上海')>=2:\n",
    "            去引号招聘城市[i]=去引号招聘城市[i].split('上海')[0]\n",
    "去引号招聘城市\n"
   ],
   "metadata": {
    "collapsed": false
   }
  },
  {
   "cell_type": "code",
   "execution_count": 20,
   "outputs": [],
   "source": [
    "for i in range(len(去引号招聘城市)):\n",
    "    if 去引号招聘城市[i] == '' or 去引号招聘城市[i] == \"['[]']\" or 去引号招聘城市[i] == '[]':\n",
    "        去引号招聘城市[i] = '上海'"
   ],
   "metadata": {
    "collapsed": false
   }
  },
  {
   "cell_type": "code",
   "execution_count": 21,
   "outputs": [
    {
     "data": {
      "text/plain": "['上海',\n '厦门, 成都, 北京, 上海, 天津',\n '上海',\n '上海',\n '上海',\n '上海',\n '合肥, 长沙, 北京, 上海, 天津',\n '上海',\n '上海',\n '常州, 上海',\n '上海',\n '南京, 无锡, 苏州, 合肥, 芜湖, 深圳',\n '杭州, 深圳, 上海',\n '长沙, 上海',\n '福州, 济南, 广州, 北京, 上海',\n '深圳, 上海',\n '上海',\n '保定, 南京, 合肥, 兰州, 上海',\n '上海',\n '深圳, 上海',\n '北京, 上海',\n '上海',\n '无锡, 福州, 广州, 深圳, 兰州, 北京, 上海',\n '上海',\n '上海',\n '上海',\n '佛山, 上海',\n '上海',\n '上海',\n '上海',\n '上海',\n '上海',\n '苏州, 上海',\n '上海',\n '上海',\n '郑州, 上海',\n '上海',\n '长沙, 韶关',\n '上海',\n '上海',\n '苏州, 广州, 成都, 上海',\n '上海',\n '成都, 北京, 上海',\n '上海',\n '武汉, 上海',\n '上海',\n '兰州',\n '上海',\n '上海',\n '上海',\n '上海',\n '苏州, 上海',\n '太原, 沈阳, 哈尔滨, 南京, 苏州, 杭州, 合肥, 青岛, 郑州, 武汉, 长沙, 昆明, 西安, 北京, 上海, 天津',\n '南京, 徐州, 杭州, 宁波, 上海',\n '常州, 嘉兴, 广州, 南宁',\n '上海',\n '上海',\n '广州, 上海',\n '南京, 广州, 海口, 上海',\n '雄安新区, 北京, 上海, 天津',\n '杭州, 宁波, 合肥, ',\n '上海',\n '上海',\n '上海',\n '上海',\n '上海',\n '杭州, 西安, 北京, 上海',\n '上海',\n '无锡, 苏州, 上海',\n '上海',\n '上海',\n '上海',\n '上海',\n '上海',\n '上海',\n '北京, 上海',\n '上海',\n '上海',\n '长沙',\n '上海']"
     },
     "execution_count": 21,
     "metadata": {},
     "output_type": "execute_result"
    }
   ],
   "source": [
    "去引号招聘城市"
   ],
   "metadata": {
    "collapsed": false
   }
  },
  {
   "cell_type": "code",
   "execution_count": 22,
   "outputs": [
    {
     "data": {
      "text/plain": "['厦门, 成都, 北京, 上海, 天津', '上海', '上海']"
     },
     "execution_count": 22,
     "metadata": {},
     "output_type": "execute_result"
    }
   ],
   "source": [
    "测试数据 = ['厦门, 成都, 北京, 上海, 天津',\n",
    " '上海, 上海',\n",
    " '上海, 上海']\n",
    "\n",
    "for i in range(len(测试数据)):\n",
    "    if 测试数据[i].count(测试数据[i].split(', ')[0]) == 2:\n",
    "        测试数据[i] = 测试数据[i].split(', ')[0]\n",
    "测试数据"
   ],
   "metadata": {
    "collapsed": false
   }
  },
  {
   "cell_type": "code",
   "execution_count": 23,
   "outputs": [
    {
     "data": {
      "text/plain": "['10月13日至12月31日',\n '09月20日至12月01日',\n '10月10日至12月01日',\n '10月07日至12月31日',\n '09月21日至12月01日',\n '10月10日至12月31日',\n '09月20日至12月01日',\n '09月06日至12月01日',\n '08月01日至04月05日',\n '09月29日至12月01日',\n '10月11日至12月31日',\n '09月18日至12月01日',\n '09月14日至12月01日',\n '10月14日至12月31日',\n '09月01日至12月01日',\n '10月16日至12月31日',\n '11月15日至12月31日',\n '08月31日至12月31日',\n '10月08日至12月31日',\n '09月12日至12月01日',\n '09月28日至12月01日',\n '10月19日至12月31日',\n '09月14日至12月14日',\n '09月11日至12月31日',\n '09月05日至12月01日',\n '11月08日至12月31日',\n '10月09日至12月31日',\n '10月07日至12月31日',\n '09月26日至12月01日',\n '10月12日至12月31日',\n '09月19日至12月01日',\n '10月13日至12月31日',\n '10月06日至12月31日',\n '09月21日至12月01日',\n '10月18日至12月31日',\n '09月12日至12月31日',\n '10月10日至12月31日',\n '10月24日至12月31日',\n '09月07日至12月01日',\n '10月30日至12月31日',\n '10月16日至12月31日',\n '10月07日至12月31日',\n '08月28日至11月30日',\n '10月11日至12月31日',\n '10月12日至12月31日',\n '10月13日至12月01日',\n '10月12日至12月31日',\n '10月30日至12月31日',\n '10月16日至12月31日',\n '10月17日至12月31日',\n '11月09日至02月01日',\n '11月01日至12月31日',\n '11月06日至02月01日',\n '11月08日至12月08日',\n '09月28日至12月01日',\n '11月13日至12月31日',\n '11月10日至12月31日',\n '10月24日至12月31日',\n '09月08日至12月08日',\n '09月14日至12月14日',\n '11月02日至02月01日',\n '08月23日至11月30日',\n '09月01日至12月01日',\n '09月01日至12月01日',\n '09月14日至12月01日',\n '09月14日至12月01日',\n '09月15日至12月01日',\n '09月15日至12月01日',\n '09月27日至12月01日',\n '即日起',\n '6月26日-7月底',\n '8月-10月',\n '3月上旬-5月下旬',\n '08月15日至11月01日',\n '08月04日至09月30日',\n '08月16日至11月01日',\n '8月10日起',\n '02月07日-06月01日',\n '2月26日起',\n '02月19日-06月01日']"
     },
     "execution_count": 23,
     "metadata": {},
     "output_type": "execute_result"
    }
   ],
   "source": [
    "import datetime\n",
    "import numpy as np\n",
    "网申日期 = niuke_CN['网申日期'].tolist()\n",
    "replacement = '无'\n",
    "网申日期 = [replacement if pd.isnull(item) else item for item in 网申日期]\n",
    "网申日期\n",
    "for i in range(len(网申日期)):\n",
    "    if 网申日期[i] == '无':\n",
    "        if pd.isnull(网申开始时间[i]) == False and pd.isnull(网申结束时间[i]) == False:\n",
    "            start_time = str(datetime.datetime.fromtimestamp(网申开始时间[i] / 1000.0))\n",
    "            star_tim_date = start_time.split('-')[1] + '月' + start_time.split(' ')[0][-2:] + '日'\n",
    "            end_time = str(datetime.datetime.fromtimestamp(网申结束时间[i] / 1000.0))\n",
    "            end_tim_date = end_time.split('-')[1] + '月' + end_time.split(' ')[0][-2:] + '日'\n",
    "            wangshen_time = star_tim_date + '至' + end_tim_date\n",
    "            网申日期[i] = wangshen_time\n",
    "        else:\n",
    "            网申日期[i] = '已结束'\n",
    "网申日期\n",
    "\n"
   ],
   "metadata": {
    "collapsed": false
   }
  },
  {
   "cell_type": "code",
   "execution_count": 24,
   "outputs": [
    {
     "data": {
      "text/plain": "[nan,\n nan,\n nan,\n nan,\n nan,\n '中国联合网络通信有限公司在上海的重要分支机构，拥有众多战略合作伙伴，对新人友好',\n nan,\n nan,\n nan,\n nan,\n nan,\n nan,\n nan,\n nan,\n nan,\n nan,\n nan,\n nan,\n nan,\n nan,\n nan,\n nan,\n nan,\n nan,\n '中国知名装备制造集团，薪酬低于平均水平，环境不错，领导nice，加班少，压力不大',\n '中高端光刻机政府支持企业，绩效奖金，带薪年假，交通补助，午餐补助，定期体检',\n nan,\n nan,\n nan,\n nan,\n nan,\n nan,\n nan,\n nan,\n nan,\n nan,\n nan,\n nan,\n nan,\n nan,\n nan,\n nan,\n nan,\n nan,\n nan,\n nan,\n nan,\n nan,\n nan,\n nan,\n nan,\n nan,\n nan,\n nan,\n nan,\n nan,\n nan,\n nan,\n nan,\n nan,\n nan,\n nan,\n nan,\n nan,\n nan,\n nan,\n nan,\n nan,\n nan,\n nan,\n nan,\n nan,\n nan,\n nan,\n nan,\n '专营投资管理，采取扁平化管理，有带薪年假和年度旅游，福利待遇齐全',\n '安能旗下物流公司，公司待遇齐全，有年底双薪，员工认同感强',\n nan,\n nan,\n nan]"
     },
     "execution_count": 24,
     "metadata": {},
     "output_type": "execute_result"
    }
   ],
   "source": [
    "公司详情 = niuke_CN['公司详情'].tolist()\n",
    "公司详情"
   ],
   "metadata": {
    "collapsed": false
   }
  },
  {
   "cell_type": "code",
   "execution_count": 25,
   "outputs": [
    {
     "data": {
      "text/plain": "['无',\n '无',\n '无',\n '无',\n '无',\n '中国联合网络通信有限公司在上海的重要分支机构，拥有众多战略合作伙伴，对新人友好',\n '无',\n '无',\n '无',\n '无',\n '无',\n '无',\n '无',\n '无',\n '无',\n '无',\n '无',\n '无',\n '无',\n '无',\n '无',\n '无',\n '无',\n '无',\n '中国知名装备制造集团，薪酬低于平均水平，环境不错，领导nice，加班少，压力不大',\n '中高端光刻机政府支持企业，绩效奖金，带薪年假，交通补助，午餐补助，定期体检',\n '无',\n '无',\n '无',\n '无',\n '无',\n '无',\n '无',\n '无',\n '无',\n '无',\n '无',\n '无',\n '无',\n '无',\n '无',\n '无',\n '无',\n '无',\n '无',\n '无',\n '无',\n '无',\n '无',\n '无',\n '无',\n '无',\n '无',\n '无',\n '无',\n '无',\n '无',\n '无',\n '无',\n '无',\n '无',\n '无',\n '无',\n '无',\n '无',\n '无',\n '无',\n '无',\n '无',\n '无',\n '无',\n '无',\n '无',\n '无',\n '无',\n '专营投资管理，采取扁平化管理，有带薪年假和年度旅游，福利待遇齐全',\n '安能旗下物流公司，公司待遇齐全，有年底双薪，员工认同感强',\n '无',\n '无',\n '无']"
     },
     "execution_count": 25,
     "metadata": {},
     "output_type": "execute_result"
    }
   ],
   "source": [
    "replacement = '无'\n",
    "公司详情 = [replacement if pd.isnull(item) else item for item in 公司详情]\n",
    "公司详情"
   ],
   "metadata": {
    "collapsed": false
   }
  },
  {
   "cell_type": "code",
   "execution_count": 26,
   "outputs": [
    {
     "data": {
      "text/plain": "[7,\n 0,\n 0,\n 0,\n 0,\n 0,\n 0,\n 0,\n 0,\n 0,\n 0,\n 0,\n 0,\n 0,\n 0,\n 0,\n 0,\n 0,\n 0,\n 0,\n 0,\n 0,\n 0,\n 0,\n 0,\n 0,\n 0,\n 0,\n 0,\n 0,\n 0,\n 0,\n 0,\n 0,\n 0,\n 0,\n 0,\n 0,\n 0,\n 0,\n 0,\n 0,\n 0,\n 0,\n 0,\n 0,\n 0,\n 0,\n 0,\n 0,\n 0,\n 0,\n 0,\n 0,\n 0,\n 0,\n 0,\n 0,\n 0,\n 0,\n 0,\n 0,\n 0,\n 0,\n 0,\n 0,\n 0,\n 0,\n 0,\n 5,\n 0,\n 0,\n 0,\n 11,\n 4,\n 4,\n 0,\n 0,\n 0,\n 7]"
     },
     "execution_count": 26,
     "metadata": {},
     "output_type": "execute_result"
    }
   ],
   "source": [
    "岗位个数 = niuke_CN['岗位个数'].tolist()\n",
    "岗位个数"
   ],
   "metadata": {
    "collapsed": false
   }
  },
  {
   "cell_type": "markdown",
   "source": [
    "# logo图片数据爬取"
   ],
   "metadata": {
    "collapsed": false
   }
  },
  {
   "cell_type": "code",
   "execution_count": 28,
   "outputs": [
    {
     "data": {
      "text/plain": "['data:image/png;base64,iVBORw0KGgoAAAANSUhEUgAAAAoAAAAKAQMAAAC3/F3+AAAAA1BMVEUAAACnej3aAAAAAXRSTlMAQObYZgAAAApJREFUCNdjwAsAAB4AAdpxxYoAAAAASUVORK5CYII=',\n 'data:image/png;base64,iVBORw0KGgoAAAANSUhEUgAAAAoAAAAKAQMAAAC3/F3+AAAAA1BMVEUAAACnej3aAAAAAXRSTlMAQObYZgAAAApJREFUCNdjwAsAAB4AAdpxxYoAAAAASUVORK5CYII=',\n 'data:image/png;base64,iVBORw0KGgoAAAANSUhEUgAAAAoAAAAKAQMAAAC3/F3+AAAAA1BMVEUAAACnej3aAAAAAXRSTlMAQObYZgAAAApJREFUCNdjwAsAAB4AAdpxxYoAAAAASUVORK5CYII=',\n 'data:image/png;base64,iVBORw0KGgoAAAANSUhEUgAAAAoAAAAKAQMAAAC3/F3+AAAAA1BMVEUAAACnej3aAAAAAXRSTlMAQObYZgAAAApJREFUCNdjwAsAAB4AAdpxxYoAAAAASUVORK5CYII=',\n 'data:image/png;base64,iVBORw0KGgoAAAANSUhEUgAAAAoAAAAKAQMAAAC3/F3+AAAAA1BMVEUAAACnej3aAAAAAXRSTlMAQObYZgAAAApJREFUCNdjwAsAAB4AAdpxxYoAAAAASUVORK5CYII=',\n 'data:image/png;base64,iVBORw0KGgoAAAANSUhEUgAAAAoAAAAKAQMAAAC3/F3+AAAAA1BMVEUAAACnej3aAAAAAXRSTlMAQObYZgAAAApJREFUCNdjwAsAAB4AAdpxxYoAAAAASUVORK5CYII=',\n 'data:image/png;base64,iVBORw0KGgoAAAANSUhEUgAAAAoAAAAKAQMAAAC3/F3+AAAAA1BMVEUAAACnej3aAAAAAXRSTlMAQObYZgAAAApJREFUCNdjwAsAAB4AAdpxxYoAAAAASUVORK5CYII=',\n 'data:image/png;base64,iVBORw0KGgoAAAANSUhEUgAAAAoAAAAKAQMAAAC3/F3+AAAAA1BMVEUAAACnej3aAAAAAXRSTlMAQObYZgAAAApJREFUCNdjwAsAAB4AAdpxxYoAAAAASUVORK5CYII=',\n 'data:image/png;base64,iVBORw0KGgoAAAANSUhEUgAAAAoAAAAKAQMAAAC3/F3+AAAAA1BMVEUAAACnej3aAAAAAXRSTlMAQObYZgAAAApJREFUCNdjwAsAAB4AAdpxxYoAAAAASUVORK5CYII=',\n 'data:image/png;base64,iVBORw0KGgoAAAANSUhEUgAAAAoAAAAKAQMAAAC3/F3+AAAAA1BMVEUAAACnej3aAAAAAXRSTlMAQObYZgAAAApJREFUCNdjwAsAAB4AAdpxxYoAAAAASUVORK5CYII=',\n 'data:image/png;base64,iVBORw0KGgoAAAANSUhEUgAAAAoAAAAKAQMAAAC3/F3+AAAAA1BMVEUAAACnej3aAAAAAXRSTlMAQObYZgAAAApJREFUCNdjwAsAAB4AAdpxxYoAAAAASUVORK5CYII=',\n 'data:image/png;base64,iVBORw0KGgoAAAANSUhEUgAAAAoAAAAKAQMAAAC3/F3+AAAAA1BMVEUAAACnej3aAAAAAXRSTlMAQObYZgAAAApJREFUCNdjwAsAAB4AAdpxxYoAAAAASUVORK5CYII=',\n 'data:image/png;base64,iVBORw0KGgoAAAANSUhEUgAAAAoAAAAKAQMAAAC3/F3+AAAAA1BMVEUAAACnej3aAAAAAXRSTlMAQObYZgAAAApJREFUCNdjwAsAAB4AAdpxxYoAAAAASUVORK5CYII=',\n 'data:image/png;base64,iVBORw0KGgoAAAANSUhEUgAAAAoAAAAKAQMAAAC3/F3+AAAAA1BMVEUAAACnej3aAAAAAXRSTlMAQObYZgAAAApJREFUCNdjwAsAAB4AAdpxxYoAAAAASUVORK5CYII=',\n 'data:image/png;base64,iVBORw0KGgoAAAANSUhEUgAAAAoAAAAKAQMAAAC3/F3+AAAAA1BMVEUAAACnej3aAAAAAXRSTlMAQObYZgAAAApJREFUCNdjwAsAAB4AAdpxxYoAAAAASUVORK5CYII=',\n 'data:image/png;base64,iVBORw0KGgoAAAANSUhEUgAAAAoAAAAKAQMAAAC3/F3+AAAAA1BMVEUAAACnej3aAAAAAXRSTlMAQObYZgAAAApJREFUCNdjwAsAAB4AAdpxxYoAAAAASUVORK5CYII=',\n 'data:image/png;base64,iVBORw0KGgoAAAANSUhEUgAAAAoAAAAKAQMAAAC3/F3+AAAAA1BMVEUAAACnej3aAAAAAXRSTlMAQObYZgAAAApJREFUCNdjwAsAAB4AAdpxxYoAAAAASUVORK5CYII=',\n 'data:image/png;base64,iVBORw0KGgoAAAANSUhEUgAAAAoAAAAKAQMAAAC3/F3+AAAAA1BMVEUAAACnej3aAAAAAXRSTlMAQObYZgAAAApJREFUCNdjwAsAAB4AAdpxxYoAAAAASUVORK5CYII=',\n 'data:image/png;base64,iVBORw0KGgoAAAANSUhEUgAAAAoAAAAKAQMAAAC3/F3+AAAAA1BMVEUAAACnej3aAAAAAXRSTlMAQObYZgAAAApJREFUCNdjwAsAAB4AAdpxxYoAAAAASUVORK5CYII=',\n 'data:image/png;base64,iVBORw0KGgoAAAANSUhEUgAAAAoAAAAKAQMAAAC3/F3+AAAAA1BMVEUAAACnej3aAAAAAXRSTlMAQObYZgAAAApJREFUCNdjwAsAAB4AAdpxxYoAAAAASUVORK5CYII=']"
     },
     "execution_count": 28,
     "metadata": {},
     "output_type": "execute_result"
    }
   ],
   "source": [
    "import requests\n",
    "from requests_html import HTMLSession\n",
    "session = HTMLSession()\n",
    "p = session.get('https://www.nowcoder.com/jobs/school/schedule')\n",
    "pic_data = []\n",
    "get_pic = p.html.find('div.company > img.logo')\n",
    "get_pic\n",
    "for y in get_pic:\n",
    "    img_url = y.attrs['src']\n",
    "    pic_data.append(img_url)\n",
    "\n",
    "pic_data"
   ],
   "metadata": {
    "collapsed": false
   }
  },
  {
   "cell_type": "code",
   "execution_count": 77,
   "outputs": [
    {
     "data": {
      "text/plain": "['广州虹科电子科技有限公司',\n '广州敏视数码科技有限公司',\n '广州地铁',\n '广州百济神州生物制药有限公司',\n '广州希音国际进出口有限公司',\n '现代汽车氢燃料电池系统（广州）有限公司',\n '广州融捷能源',\n '广州市道路研究院有限公司',\n '溪木源（广州）',\n '广州市西克传感器有限公司',\n '广州医药',\n '百奥（广州百田）',\n '广州速游',\n '广州久邦世纪科技有限公司',\n '广州安方生物',\n '中国民生银行广州分行',\n '广州日报',\n '广州市水务规划勘测设计研究院有限公司',\n '广州市如德文化传播有限公司',\n '广州无线电集团']"
     },
     "execution_count": 77,
     "metadata": {},
     "output_type": "execute_result"
    }
   ],
   "source": [
    "公司名称[0:len(pic_data)]"
   ],
   "metadata": {
    "collapsed": false
   }
  },
  {
   "cell_type": "markdown",
   "source": [
    "# 结构化数据"
   ],
   "metadata": {
    "collapsed": false
   }
  },
  {
   "cell_type": "code",
   "execution_count": 78,
   "outputs": [
    {
     "data": {
      "text/plain": "[{'公司名称': '广州虹科电子科技有限公司',\n  '招聘城市': '广州, 上海',\n  '网申日期': '09月13日至12月01日',\n  '公司详情': '无',\n  '岗位个数': 17,\n  '图片文件': 'data:image/png;base64,iVBORw0KGgoAAAANSUhEUgAAAAoAAAAKAQMAAAC3/F3+AAAAA1BMVEUAAACnej3aAAAAAXRSTlMAQObYZgAAAApJREFUCNdjwAsAAB4AAdpxxYoAAAAASUVORK5CYII='},\n {'公司名称': '广州敏视数码科技有限公司',\n  '招聘城市': '广州',\n  '网申日期': '09月06日至12月01日',\n  '公司详情': '无',\n  '岗位个数': 0,\n  '图片文件': 'data:image/png;base64,iVBORw0KGgoAAAANSUhEUgAAAAoAAAAKAQMAAAC3/F3+AAAAA1BMVEUAAACnej3aAAAAAXRSTlMAQObYZgAAAApJREFUCNdjwAsAAB4AAdpxxYoAAAAASUVORK5CYII='},\n {'公司名称': '广州地铁',\n  '招聘城市': '哈尔滨, 广州, 成都, 北京, 上海, 重庆',\n  '网申日期': '09月14日至12月01日',\n  '公司详情': '无',\n  '岗位个数': 3,\n  '图片文件': 'data:image/png;base64,iVBORw0KGgoAAAANSUhEUgAAAAoAAAAKAQMAAAC3/F3+AAAAA1BMVEUAAACnej3aAAAAAXRSTlMAQObYZgAAAApJREFUCNdjwAsAAB4AAdpxxYoAAAAASUVORK5CYII='},\n {'公司名称': '广州百济神州生物制药有限公司',\n  '招聘城市': '苏州, 北京, 上海',\n  '网申日期': '09月19日至12月01日',\n  '公司详情': '无',\n  '岗位个数': 0,\n  '图片文件': 'data:image/png;base64,iVBORw0KGgoAAAANSUhEUgAAAAoAAAAKAQMAAAC3/F3+AAAAA1BMVEUAAACnej3aAAAAAXRSTlMAQObYZgAAAApJREFUCNdjwAsAAB4AAdpxxYoAAAAASUVORK5CYII='},\n {'公司名称': '广州希音国际进出口有限公司',\n  '招聘城市': '广州',\n  '网申日期': '08月28日至11月15日',\n  '公司详情': '无',\n  '岗位个数': 0,\n  '图片文件': 'data:image/png;base64,iVBORw0KGgoAAAANSUhEUgAAAAoAAAAKAQMAAAC3/F3+AAAAA1BMVEUAAACnej3aAAAAAXRSTlMAQObYZgAAAApJREFUCNdjwAsAAB4AAdpxxYoAAAAASUVORK5CYII='},\n {'公司名称': '现代汽车氢燃料电池系统（广州）有限公司',\n  '招聘城市': '广州',\n  '网申日期': '10月10日至12月31日',\n  '公司详情': '无',\n  '岗位个数': 0,\n  '图片文件': 'data:image/png;base64,iVBORw0KGgoAAAANSUhEUgAAAAoAAAAKAQMAAAC3/F3+AAAAA1BMVEUAAACnej3aAAAAAXRSTlMAQObYZgAAAApJREFUCNdjwAsAAB4AAdpxxYoAAAAASUVORK5CYII='},\n {'公司名称': '广州融捷能源',\n  '招聘城市': '广州',\n  '网申日期': '09月13日至12月01日',\n  '公司详情': '无',\n  '岗位个数': 0,\n  '图片文件': 'data:image/png;base64,iVBORw0KGgoAAAANSUhEUgAAAAoAAAAKAQMAAAC3/F3+AAAAA1BMVEUAAACnej3aAAAAAXRSTlMAQObYZgAAAApJREFUCNdjwAsAAB4AAdpxxYoAAAAASUVORK5CYII='},\n {'公司名称': '广州市道路研究院有限公司',\n  '招聘城市': '广州',\n  '网申日期': '09月25日至12月31日',\n  '公司详情': '无',\n  '岗位个数': 0,\n  '图片文件': 'data:image/png;base64,iVBORw0KGgoAAAANSUhEUgAAAAoAAAAKAQMAAAC3/F3+AAAAA1BMVEUAAACnej3aAAAAAXRSTlMAQObYZgAAAApJREFUCNdjwAsAAB4AAdpxxYoAAAAASUVORK5CYII='},\n {'公司名称': '溪木源（广州）',\n  '招聘城市': '武汉, 广州, 西安',\n  '网申日期': '10月26日至12月31日',\n  '公司详情': '无',\n  '岗位个数': 0,\n  '图片文件': 'data:image/png;base64,iVBORw0KGgoAAAANSUhEUgAAAAoAAAAKAQMAAAC3/F3+AAAAA1BMVEUAAACnej3aAAAAAXRSTlMAQObYZgAAAApJREFUCNdjwAsAAB4AAdpxxYoAAAAASUVORK5CYII='},\n {'公司名称': '广州市西克传感器有限公司',\n  '招聘城市': '广州',\n  '网申日期': '10月19日至12月31日',\n  '公司详情': '无',\n  '岗位个数': 0,\n  '图片文件': 'data:image/png;base64,iVBORw0KGgoAAAANSUhEUgAAAAoAAAAKAQMAAAC3/F3+AAAAA1BMVEUAAACnej3aAAAAAXRSTlMAQObYZgAAAApJREFUCNdjwAsAAB4AAdpxxYoAAAAASUVORK5CYII='},\n {'公司名称': '广州医药',\n  '招聘城市': '广州, 佛山, 清远, 海口, 成都',\n  '网申日期': '09月28日至12月01日',\n  '公司详情': '无',\n  '岗位个数': 0,\n  '图片文件': 'data:image/png;base64,iVBORw0KGgoAAAANSUhEUgAAAAoAAAAKAQMAAAC3/F3+AAAAA1BMVEUAAACnej3aAAAAAXRSTlMAQObYZgAAAApJREFUCNdjwAsAAB4AAdpxxYoAAAAASUVORK5CYII='},\n {'公司名称': '百奥（广州百田）',\n  '招聘城市': '广州',\n  '网申日期': '2月20日开启',\n  '公司详情': '广州上市游戏企业，宠物养成、女性向、二次元手游赛道，周末双休',\n  '岗位个数': 0,\n  '图片文件': 'data:image/png;base64,iVBORw0KGgoAAAANSUhEUgAAAAoAAAAKAQMAAAC3/F3+AAAAA1BMVEUAAACnej3aAAAAAXRSTlMAQObYZgAAAApJREFUCNdjwAsAAB4AAdpxxYoAAAAASUVORK5CYII='},\n {'公司名称': '广州速游',\n  '招聘城市': '广州',\n  '网申日期': '8月开启，招满即止 ',\n  '公司详情': '无',\n  '岗位个数': 0,\n  '图片文件': 'data:image/png;base64,iVBORw0KGgoAAAANSUhEUgAAAAoAAAAKAQMAAAC3/F3+AAAAA1BMVEUAAACnej3aAAAAAXRSTlMAQObYZgAAAApJREFUCNdjwAsAAB4AAdpxxYoAAAAASUVORK5CYII='},\n {'公司名称': '广州久邦世纪科技有限公司',\n  '招聘城市': '',\n  '网申日期': '09月04日至10月06日',\n  '公司详情': '无',\n  '岗位个数': 2,\n  '图片文件': 'data:image/png;base64,iVBORw0KGgoAAAANSUhEUgAAAAoAAAAKAQMAAAC3/F3+AAAAA1BMVEUAAACnej3aAAAAAXRSTlMAQObYZgAAAApJREFUCNdjwAsAAB4AAdpxxYoAAAAASUVORK5CYII='},\n {'公司名称': '广州安方生物',\n  '招聘城市': '广州',\n  '网申日期': '05月05日-06月01日',\n  '公司详情': '无',\n  '岗位个数': 6,\n  '图片文件': 'data:image/png;base64,iVBORw0KGgoAAAANSUhEUgAAAAoAAAAKAQMAAAC3/F3+AAAAA1BMVEUAAACnej3aAAAAAXRSTlMAQObYZgAAAApJREFUCNdjwAsAAB4AAdpxxYoAAAAASUVORK5CYII='},\n {'公司名称': '中国民生银行广州分行',\n  '招聘城市': '广州',\n  '网申日期': '08月28日至10月06日',\n  '公司详情': '无',\n  '岗位个数': 0,\n  '图片文件': 'data:image/png;base64,iVBORw0KGgoAAAANSUhEUgAAAAoAAAAKAQMAAAC3/F3+AAAAA1BMVEUAAACnej3aAAAAAXRSTlMAQObYZgAAAApJREFUCNdjwAsAAB4AAdpxxYoAAAAASUVORK5CYII='},\n {'公司名称': '广州日报',\n  '招聘城市': '广州',\n  '网申日期': '即日起',\n  '公司详情': '无',\n  '岗位个数': 0,\n  '图片文件': 'data:image/png;base64,iVBORw0KGgoAAAANSUhEUgAAAAoAAAAKAQMAAAC3/F3+AAAAA1BMVEUAAACnej3aAAAAAXRSTlMAQObYZgAAAApJREFUCNdjwAsAAB4AAdpxxYoAAAAASUVORK5CYII='},\n {'公司名称': '广州市水务规划勘测设计研究院有限公司',\n  '招聘城市': '',\n  '网申日期': '02月28日-06月01日',\n  '公司详情': '无',\n  '岗位个数': 0,\n  '图片文件': 'data:image/png;base64,iVBORw0KGgoAAAANSUhEUgAAAAoAAAAKAQMAAAC3/F3+AAAAA1BMVEUAAACnej3aAAAAAXRSTlMAQObYZgAAAApJREFUCNdjwAsAAB4AAdpxxYoAAAAASUVORK5CYII='},\n {'公司名称': '广州市如德文化传播有限公司',\n  '招聘城市': '',\n  '网申日期': '02月01日-06月01日',\n  '公司详情': '无',\n  '岗位个数': 0,\n  '图片文件': 'data:image/png;base64,iVBORw0KGgoAAAANSUhEUgAAAAoAAAAKAQMAAAC3/F3+AAAAA1BMVEUAAACnej3aAAAAAXRSTlMAQObYZgAAAApJREFUCNdjwAsAAB4AAdpxxYoAAAAASUVORK5CYII='},\n {'公司名称': '广州无线电集团',\n  '招聘城市': '沈阳, 长春, 哈尔滨, 南京, 无锡, 杭州, 青岛, 武汉, 长沙, 广州, 东莞, 成都, 昆明, 北京, 上海, 重庆, 天津',\n  '网申日期': '07月16日至09月01日',\n  '公司详情': '无',\n  '岗位个数': 0,\n  '图片文件': 'data:image/png;base64,iVBORw0KGgoAAAANSUhEUgAAAAoAAAAKAQMAAAC3/F3+AAAAA1BMVEUAAACnej3aAAAAAXRSTlMAQObYZgAAAApJREFUCNdjwAsAAB4AAdpxxYoAAAAASUVORK5CYII='}]"
     },
     "execution_count": 78,
     "metadata": {},
     "output_type": "execute_result"
    }
   ],
   "source": [
    "scheduleData = [{\"公司名称\":公司名称[i],\"招聘城市\":去引号招聘城市[i],\"网申日期\":网申日期[i],\"公司详情\":公司详情[i],\"岗位个数\":岗位个数[i],'图片文件':pic_data[i]} for i in range(len(pic_data))]\n",
    "scheduleData"
   ],
   "metadata": {
    "collapsed": false
   }
  },
  {
   "cell_type": "code",
   "execution_count": 79,
   "outputs": [],
   "source": [
    "schdata_all = json.dumps(scheduleData,ensure_ascii=False)"
   ],
   "metadata": {
    "collapsed": false
   }
  },
  {
   "cell_type": "code",
   "execution_count": 80,
   "outputs": [
    {
     "data": {
      "text/plain": "[{'公司名称': '广州虹科电子科技有限公司',\n  '招聘城市': '广州, 上海',\n  '网申日期': '09月13日至12月01日',\n  '公司详情': '无',\n  '岗位个数': 17,\n  '图片文件': 'data:image/png;base64,iVBORw0KGgoAAAANSUhEUgAAAAoAAAAKAQMAAAC3/F3+AAAAA1BMVEUAAACnej3aAAAAAXRSTlMAQObYZgAAAApJREFUCNdjwAsAAB4AAdpxxYoAAAAASUVORK5CYII='},\n {'公司名称': '广州敏视数码科技有限公司',\n  '招聘城市': '广州',\n  '网申日期': '09月06日至12月01日',\n  '公司详情': '无',\n  '岗位个数': 0,\n  '图片文件': 'data:image/png;base64,iVBORw0KGgoAAAANSUhEUgAAAAoAAAAKAQMAAAC3/F3+AAAAA1BMVEUAAACnej3aAAAAAXRSTlMAQObYZgAAAApJREFUCNdjwAsAAB4AAdpxxYoAAAAASUVORK5CYII='},\n {'公司名称': '广州地铁',\n  '招聘城市': '哈尔滨, 广州, 成都, 北京, 上海, 重庆',\n  '网申日期': '09月14日至12月01日',\n  '公司详情': '无',\n  '岗位个数': 3,\n  '图片文件': 'data:image/png;base64,iVBORw0KGgoAAAANSUhEUgAAAAoAAAAKAQMAAAC3/F3+AAAAA1BMVEUAAACnej3aAAAAAXRSTlMAQObYZgAAAApJREFUCNdjwAsAAB4AAdpxxYoAAAAASUVORK5CYII='},\n {'公司名称': '广州百济神州生物制药有限公司',\n  '招聘城市': '苏州, 北京, 上海',\n  '网申日期': '09月19日至12月01日',\n  '公司详情': '无',\n  '岗位个数': 0,\n  '图片文件': 'data:image/png;base64,iVBORw0KGgoAAAANSUhEUgAAAAoAAAAKAQMAAAC3/F3+AAAAA1BMVEUAAACnej3aAAAAAXRSTlMAQObYZgAAAApJREFUCNdjwAsAAB4AAdpxxYoAAAAASUVORK5CYII='},\n {'公司名称': '广州希音国际进出口有限公司',\n  '招聘城市': '广州',\n  '网申日期': '08月28日至11月15日',\n  '公司详情': '无',\n  '岗位个数': 0,\n  '图片文件': 'data:image/png;base64,iVBORw0KGgoAAAANSUhEUgAAAAoAAAAKAQMAAAC3/F3+AAAAA1BMVEUAAACnej3aAAAAAXRSTlMAQObYZgAAAApJREFUCNdjwAsAAB4AAdpxxYoAAAAASUVORK5CYII='},\n {'公司名称': '现代汽车氢燃料电池系统（广州）有限公司',\n  '招聘城市': '广州',\n  '网申日期': '10月10日至12月31日',\n  '公司详情': '无',\n  '岗位个数': 0,\n  '图片文件': 'data:image/png;base64,iVBORw0KGgoAAAANSUhEUgAAAAoAAAAKAQMAAAC3/F3+AAAAA1BMVEUAAACnej3aAAAAAXRSTlMAQObYZgAAAApJREFUCNdjwAsAAB4AAdpxxYoAAAAASUVORK5CYII='},\n {'公司名称': '广州融捷能源',\n  '招聘城市': '广州',\n  '网申日期': '09月13日至12月01日',\n  '公司详情': '无',\n  '岗位个数': 0,\n  '图片文件': 'data:image/png;base64,iVBORw0KGgoAAAANSUhEUgAAAAoAAAAKAQMAAAC3/F3+AAAAA1BMVEUAAACnej3aAAAAAXRSTlMAQObYZgAAAApJREFUCNdjwAsAAB4AAdpxxYoAAAAASUVORK5CYII='},\n {'公司名称': '广州市道路研究院有限公司',\n  '招聘城市': '广州',\n  '网申日期': '09月25日至12月31日',\n  '公司详情': '无',\n  '岗位个数': 0,\n  '图片文件': 'data:image/png;base64,iVBORw0KGgoAAAANSUhEUgAAAAoAAAAKAQMAAAC3/F3+AAAAA1BMVEUAAACnej3aAAAAAXRSTlMAQObYZgAAAApJREFUCNdjwAsAAB4AAdpxxYoAAAAASUVORK5CYII='},\n {'公司名称': '溪木源（广州）',\n  '招聘城市': '武汉, 广州, 西安',\n  '网申日期': '10月26日至12月31日',\n  '公司详情': '无',\n  '岗位个数': 0,\n  '图片文件': 'data:image/png;base64,iVBORw0KGgoAAAANSUhEUgAAAAoAAAAKAQMAAAC3/F3+AAAAA1BMVEUAAACnej3aAAAAAXRSTlMAQObYZgAAAApJREFUCNdjwAsAAB4AAdpxxYoAAAAASUVORK5CYII='},\n {'公司名称': '广州市西克传感器有限公司',\n  '招聘城市': '广州',\n  '网申日期': '10月19日至12月31日',\n  '公司详情': '无',\n  '岗位个数': 0,\n  '图片文件': 'data:image/png;base64,iVBORw0KGgoAAAANSUhEUgAAAAoAAAAKAQMAAAC3/F3+AAAAA1BMVEUAAACnej3aAAAAAXRSTlMAQObYZgAAAApJREFUCNdjwAsAAB4AAdpxxYoAAAAASUVORK5CYII='},\n {'公司名称': '广州医药',\n  '招聘城市': '广州, 佛山, 清远, 海口, 成都',\n  '网申日期': '09月28日至12月01日',\n  '公司详情': '无',\n  '岗位个数': 0,\n  '图片文件': 'data:image/png;base64,iVBORw0KGgoAAAANSUhEUgAAAAoAAAAKAQMAAAC3/F3+AAAAA1BMVEUAAACnej3aAAAAAXRSTlMAQObYZgAAAApJREFUCNdjwAsAAB4AAdpxxYoAAAAASUVORK5CYII='},\n {'公司名称': '百奥（广州百田）',\n  '招聘城市': '广州',\n  '网申日期': '2月20日开启',\n  '公司详情': '广州上市游戏企业，宠物养成、女性向、二次元手游赛道，周末双休',\n  '岗位个数': 0,\n  '图片文件': 'data:image/png;base64,iVBORw0KGgoAAAANSUhEUgAAAAoAAAAKAQMAAAC3/F3+AAAAA1BMVEUAAACnej3aAAAAAXRSTlMAQObYZgAAAApJREFUCNdjwAsAAB4AAdpxxYoAAAAASUVORK5CYII='},\n {'公司名称': '广州速游',\n  '招聘城市': '广州',\n  '网申日期': '8月开启，招满即止 ',\n  '公司详情': '无',\n  '岗位个数': 0,\n  '图片文件': 'data:image/png;base64,iVBORw0KGgoAAAANSUhEUgAAAAoAAAAKAQMAAAC3/F3+AAAAA1BMVEUAAACnej3aAAAAAXRSTlMAQObYZgAAAApJREFUCNdjwAsAAB4AAdpxxYoAAAAASUVORK5CYII='},\n {'公司名称': '广州久邦世纪科技有限公司',\n  '招聘城市': '',\n  '网申日期': '09月04日至10月06日',\n  '公司详情': '无',\n  '岗位个数': 2,\n  '图片文件': 'data:image/png;base64,iVBORw0KGgoAAAANSUhEUgAAAAoAAAAKAQMAAAC3/F3+AAAAA1BMVEUAAACnej3aAAAAAXRSTlMAQObYZgAAAApJREFUCNdjwAsAAB4AAdpxxYoAAAAASUVORK5CYII='},\n {'公司名称': '广州安方生物',\n  '招聘城市': '广州',\n  '网申日期': '05月05日-06月01日',\n  '公司详情': '无',\n  '岗位个数': 6,\n  '图片文件': 'data:image/png;base64,iVBORw0KGgoAAAANSUhEUgAAAAoAAAAKAQMAAAC3/F3+AAAAA1BMVEUAAACnej3aAAAAAXRSTlMAQObYZgAAAApJREFUCNdjwAsAAB4AAdpxxYoAAAAASUVORK5CYII='},\n {'公司名称': '中国民生银行广州分行',\n  '招聘城市': '广州',\n  '网申日期': '08月28日至10月06日',\n  '公司详情': '无',\n  '岗位个数': 0,\n  '图片文件': 'data:image/png;base64,iVBORw0KGgoAAAANSUhEUgAAAAoAAAAKAQMAAAC3/F3+AAAAA1BMVEUAAACnej3aAAAAAXRSTlMAQObYZgAAAApJREFUCNdjwAsAAB4AAdpxxYoAAAAASUVORK5CYII='},\n {'公司名称': '广州日报',\n  '招聘城市': '广州',\n  '网申日期': '即日起',\n  '公司详情': '无',\n  '岗位个数': 0,\n  '图片文件': 'data:image/png;base64,iVBORw0KGgoAAAANSUhEUgAAAAoAAAAKAQMAAAC3/F3+AAAAA1BMVEUAAACnej3aAAAAAXRSTlMAQObYZgAAAApJREFUCNdjwAsAAB4AAdpxxYoAAAAASUVORK5CYII='},\n {'公司名称': '广州市水务规划勘测设计研究院有限公司',\n  '招聘城市': '',\n  '网申日期': '02月28日-06月01日',\n  '公司详情': '无',\n  '岗位个数': 0,\n  '图片文件': 'data:image/png;base64,iVBORw0KGgoAAAANSUhEUgAAAAoAAAAKAQMAAAC3/F3+AAAAA1BMVEUAAACnej3aAAAAAXRSTlMAQObYZgAAAApJREFUCNdjwAsAAB4AAdpxxYoAAAAASUVORK5CYII='},\n {'公司名称': '广州市如德文化传播有限公司',\n  '招聘城市': '',\n  '网申日期': '02月01日-06月01日',\n  '公司详情': '无',\n  '岗位个数': 0,\n  '图片文件': 'data:image/png;base64,iVBORw0KGgoAAAANSUhEUgAAAAoAAAAKAQMAAAC3/F3+AAAAA1BMVEUAAACnej3aAAAAAXRSTlMAQObYZgAAAApJREFUCNdjwAsAAB4AAdpxxYoAAAAASUVORK5CYII='},\n {'公司名称': '广州无线电集团',\n  '招聘城市': '沈阳, 长春, 哈尔滨, 南京, 无锡, 杭州, 青岛, 武汉, 长沙, 广州, 东莞, 成都, 昆明, 北京, 上海, 重庆, 天津',\n  '网申日期': '07月16日至09月01日',\n  '公司详情': '无',\n  '岗位个数': 0,\n  '图片文件': 'data:image/png;base64,iVBORw0KGgoAAAANSUhEUgAAAAoAAAAKAQMAAAC3/F3+AAAAA1BMVEUAAACnej3aAAAAAXRSTlMAQObYZgAAAApJREFUCNdjwAsAAB4AAdpxxYoAAAAASUVORK5CYII='}]"
     },
     "execution_count": 80,
     "metadata": {},
     "output_type": "execute_result"
    }
   ],
   "source": [
    "sch_adata = json.loads(schdata_all)\n",
    "sch_adata"
   ],
   "metadata": {
    "collapsed": false
   }
  },
  {
   "cell_type": "code",
   "execution_count": 81,
   "outputs": [
    {
     "data": {
      "text/plain": "'广州虹科电子科技有限公司'"
     },
     "execution_count": 81,
     "metadata": {},
     "output_type": "execute_result"
    }
   ],
   "source": [
    "sch_adata[0]['公司名称']"
   ],
   "metadata": {
    "collapsed": false
   }
  },
  {
   "cell_type": "code",
   "execution_count": 31,
   "outputs": [],
   "source": [],
   "metadata": {
    "collapsed": false
   }
  }
 ],
 "metadata": {
  "kernelspec": {
   "display_name": "Python 3",
   "language": "python",
   "name": "python3"
  },
  "language_info": {
   "codemirror_mode": {
    "name": "ipython",
    "version": 2
   },
   "file_extension": ".py",
   "mimetype": "text/x-python",
   "name": "python",
   "nbconvert_exporter": "python",
   "pygments_lexer": "ipython2",
   "version": "2.7.6"
  }
 },
 "nbformat": 4,
 "nbformat_minor": 0
}
