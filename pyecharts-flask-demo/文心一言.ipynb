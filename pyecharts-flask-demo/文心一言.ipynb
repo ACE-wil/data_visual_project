{
 "cells": [
  {
   "cell_type": "code",
   "execution_count": 21,
   "outputs": [
    {
     "name": "stdout",
     "output_type": "stream",
     "text": [
      "{\"id\":\"as-jr2usprmg4\",\"object\":\"chat.completion\",\"created\":1701146753,\"result\":\"你好，很高兴和你交流。有什么我可以帮助你的吗？\",\"is_truncated\":false,\"need_clear_history\":false,\"finish_reason\":\"normal\",\"usage\":{\"prompt_tokens\":1,\"completion_tokens\":12,\"total_tokens\":13}}\n"
     ]
    }
   ],
   "source": [
    "# import requests\n",
    "# import json\n",
    "#\n",
    "# API_KEY = \"rhHUCLwKoSXIfoNc1wiqhLDP\"\n",
    "# SECRET_KEY = \"PtCvndmSKQPRhq0iYVDyX0nDrmTyjAAd\"\n",
    "#\n",
    "# def main():\n",
    "#\n",
    "#     url = \"https://aip.baidubce.com/rpc/2.0/ai_custom/v1/wenxinworkshop/chat/completions?access_token=\" + get_access_token()\n",
    "#\n",
    "#     payload = json.dumps({\n",
    "#         \"messages\": [\n",
    "#             {\n",
    "#                 \"role\": \"user\",\n",
    "#                 \"content\": \"你好\"\n",
    "#             },\n",
    "#         ]\n",
    "#     })\n",
    "#     headers = {\n",
    "#         'Content-Type': 'application/json'\n",
    "#     }\n",
    "#\n",
    "#     response = requests.request(\"POST\", url, headers=headers, data=payload)\n",
    "#\n",
    "#     print(response.text)\n",
    "#\n",
    "#\n",
    "# def get_access_token():\n",
    "#     \"\"\"\n",
    "#     使用 AK，SK 生成鉴权签名（Access Token）\n",
    "#     :return: access_token，或是None(如果错误)\n",
    "#     \"\"\"\n",
    "#     url = \"https://aip.baidubce.com/oauth/2.0/token\"\n",
    "#     params = {\"grant_type\": \"client_credentials\", \"client_id\": API_KEY, \"client_secret\": SECRET_KEY}\n",
    "#     return str(requests.post(url, params=params).json().get(\"access_token\"))\n",
    "#\n",
    "# if __name__ == '__main__':\n",
    "#     main()\n"
   ],
   "metadata": {
    "collapsed": false
   }
  },
  {
   "cell_type": "markdown",
   "source": [
    "# 提问题"
   ],
   "metadata": {
    "collapsed": false
   }
  },
  {
   "cell_type": "code",
   "execution_count": 1,
   "outputs": [],
   "source": [
    "def get_question():\n",
    "    question = input()\n",
    "    return str(question)"
   ],
   "metadata": {
    "collapsed": false
   }
  },
  {
   "cell_type": "code",
   "execution_count": 13,
   "outputs": [
    {
     "data": {
      "text/plain": "'你说的对'"
     },
     "execution_count": 13,
     "metadata": {},
     "output_type": "execute_result"
    }
   ],
   "source": [
    "the_question = get_question()\n",
    "the_question"
   ],
   "metadata": {
    "collapsed": false
   }
  },
  {
   "cell_type": "markdown",
   "source": [
    "# 加入预设"
   ],
   "metadata": {
    "collapsed": false
   }
  },
  {
   "cell_type": "code",
   "execution_count": 3,
   "outputs": [],
   "source": [
    "import requests\n",
    "import json\n",
    "# 预设\n",
    "pre_design = {\n",
    "        \"messages\": [\n",
    "            {\n",
    "                    \"role\": \"user\",\n",
    "                    \"content\": \"你现在是一个专业的职业规划师，要给出多角度多维度的就业意见\"\n",
    "                },\n",
    "                {\n",
    "                    \"role\": \"assistant\",\n",
    "                    \"content\": \"作为一个专业的职业规划师，我会给出以下多角度多维度的就业意见：\\n\\n1. 兴趣与职业匹配：\\n在选择职业时，首先要考虑自己的兴趣和特长。如果能够找到与自己兴趣和特长相符合的职业，那么在工作中会更有热情和动力，也更容易取得成功。例如，如果喜欢与人打交道，可以选择销售、市场营销或人力资源等职业；如果喜欢研究和创新，可以选择研发、设计或技术等职业。\\n\\n2. 市场需求与发展前景：\\n在选择职业时，也要考虑市场的需求和发展前景。一些职业可能现在很热门，但未来的发展前景并不一定很好；而一些看似冷门但有发展潜力的职业，可能会成为未来的热门职业。因此，要了解市场的需求和发展趋势，选择有发展前景的职业。\\n\\n3. 自身能力与竞争力：\\n在选择职业时，还要考虑自身的能力和竞争力。不同的职业需要不同的技能和能力，如果自己的技能和能力与职业要求不匹配，那么在竞争中可能会处于劣势。因此，要了解职业的要求和所需技能，并通过学习和实践提升自己的能力和竞争力。\\n\\n4. 工作与生活平衡：\\n在选择职业时，也要考虑工作与生活之间的平衡。如果职业需要投入过多的时间和精力，而影响到自己的生活质量和健康状况，那么这个职业可能不是理想的选择。因此，要选择能够保持工作与生活平衡的职业。\\n\\n5. 个人兴趣与行业了解：\\n在选择职业时，也要考虑个人兴趣与行业了解。了解自己对该行业的兴趣和热情，以及该行业的发展趋势和前景，有助于更好地适应工作环境并取得更好的发展。\\n\\n综上所述，选择职业需要考虑多方面的因素，包括兴趣与职业匹配、市场需求与发展前景、自身能力与竞争力、工作与生活平衡以及个人兴趣与行业了解等。通过全面考虑并做出明智的决策，选择适合自己的职业并努力发展自己的事业。\"\n",
    "                },\n",
    "        ]\n",
    "    }\n",
    "\n"
   ],
   "metadata": {
    "collapsed": false
   }
  },
  {
   "cell_type": "markdown",
   "source": [
    "# 把问题添加到预设中"
   ],
   "metadata": {
    "collapsed": false
   }
  },
  {
   "cell_type": "code",
   "execution_count": 14,
   "outputs": [],
   "source": [
    "new_quest = {\n",
    "    \"role\": \"user\",\n",
    "            \"content\": str(the_question)\n",
    "        }\n",
    "pre_design['messages'].append(new_quest)"
   ],
   "metadata": {
    "collapsed": false
   }
  },
  {
   "cell_type": "markdown",
   "source": [
    "# 定义函数"
   ],
   "metadata": {
    "collapsed": false
   }
  },
  {
   "cell_type": "code",
   "execution_count": 5,
   "outputs": [],
   "source": [
    "def get_access_token():\n",
    "    \"\"\"\n",
    "    使用 AK，SK 生成鉴权签名（Access Token）\n",
    "    :return: access_token，或是None(如果错误)\n",
    "    \"\"\"\n",
    "    API_KEY = \"rhHUCLwKoSXIfoNc1wiqhLDP\"\n",
    "    SECRET_KEY = \"PtCvndmSKQPRhq0iYVDyX0nDrmTyjAAd\"\n",
    "    url = \"https://aip.baidubce.com/oauth/2.0/token\"\n",
    "    params = {\"grant_type\": \"client_credentials\", \"client_id\": API_KEY, \"client_secret\": SECRET_KEY}\n",
    "    return str(requests.post(url, params=params).json().get(\"access_token\"))"
   ],
   "metadata": {
    "collapsed": false
   }
  },
  {
   "cell_type": "code",
   "execution_count": 6,
   "outputs": [],
   "source": [
    "def ask_question(the_question):\n",
    "\n",
    "    url = \"https://aip.baidubce.com/rpc/2.0/ai_custom/v1/wenxinworkshop/chat/completions?access_token=\"+get_access_token()\n",
    "\n",
    "    payload = json.dumps(\n",
    "        pre_design\n",
    "    )\n",
    "    headers = {\n",
    "        'Content-Type': 'application/json'\n",
    "    }\n",
    "\n",
    "    response = requests.request(\"POST\", url, headers=headers, data=payload)\n",
    "\n",
    "    r = response.json()\n",
    "    return r['result'],url,headers"
   ],
   "metadata": {
    "collapsed": false
   }
  },
  {
   "cell_type": "markdown",
   "source": [
    "# 拿到请求数据"
   ],
   "metadata": {
    "collapsed": false
   }
  },
  {
   "cell_type": "code",
   "execution_count": 15,
   "outputs": [],
   "source": [
    "result,url,headers = ask_question(the_question)"
   ],
   "metadata": {
    "collapsed": false
   }
  },
  {
   "cell_type": "code",
   "execution_count": 16,
   "outputs": [
    {
     "data": {
      "text/plain": "'谢谢你的肯定！如果你还有其他问题或需要帮助，请随时告诉我。我会尽力提供准确和有用的信息。'"
     },
     "execution_count": 16,
     "metadata": {},
     "output_type": "execute_result"
    }
   ],
   "source": [
    "result"
   ],
   "metadata": {
    "collapsed": false
   }
  },
  {
   "cell_type": "markdown",
   "source": [
    "# 执行将操作将回答添加到预设中"
   ],
   "metadata": {
    "collapsed": false
   }
  },
  {
   "cell_type": "code",
   "execution_count": 9,
   "outputs": [],
   "source": [
    "def update_json():\n",
    "    new_answer = {\n",
    "            \"role\": \"assistant\",\n",
    "            \"content\": result\n",
    "        }\n",
    "    pre_design['messages'].append(new_answer)\n",
    "    return None"
   ],
   "metadata": {
    "collapsed": false
   }
  },
  {
   "cell_type": "code",
   "execution_count": 17,
   "outputs": [],
   "source": [
    "update_json()"
   ],
   "metadata": {
    "collapsed": false
   }
  },
  {
   "cell_type": "code",
   "execution_count": 18,
   "outputs": [
    {
     "data": {
      "text/plain": "{'messages': [{'role': 'user', 'content': '你现在是一个专业的职业规划师，要给出多角度多维度的就业意见'},\n  {'role': 'assistant',\n   'content': '作为一个专业的职业规划师，我会给出以下多角度多维度的就业意见：\\n\\n1. 兴趣与职业匹配：\\n在选择职业时，首先要考虑自己的兴趣和特长。如果能够找到与自己兴趣和特长相符合的职业，那么在工作中会更有热情和动力，也更容易取得成功。例如，如果喜欢与人打交道，可以选择销售、市场营销或人力资源等职业；如果喜欢研究和创新，可以选择研发、设计或技术等职业。\\n\\n2. 市场需求与发展前景：\\n在选择职业时，也要考虑市场的需求和发展前景。一些职业可能现在很热门，但未来的发展前景并不一定很好；而一些看似冷门但有发展潜力的职业，可能会成为未来的热门职业。因此，要了解市场的需求和发展趋势，选择有发展前景的职业。\\n\\n3. 自身能力与竞争力：\\n在选择职业时，还要考虑自身的能力和竞争力。不同的职业需要不同的技能和能力，如果自己的技能和能力与职业要求不匹配，那么在竞争中可能会处于劣势。因此，要了解职业的要求和所需技能，并通过学习和实践提升自己的能力和竞争力。\\n\\n4. 工作与生活平衡：\\n在选择职业时，也要考虑工作与生活之间的平衡。如果职业需要投入过多的时间和精力，而影响到自己的生活质量和健康状况，那么这个职业可能不是理想的选择。因此，要选择能够保持工作与生活平衡的职业。\\n\\n5. 个人兴趣与行业了解：\\n在选择职业时，也要考虑个人兴趣与行业了解。了解自己对该行业的兴趣和热情，以及该行业的发展趋势和前景，有助于更好地适应工作环境并取得更好的发展。\\n\\n综上所述，选择职业需要考虑多方面的因素，包括兴趣与职业匹配、市场需求与发展前景、自身能力与竞争力、工作与生活平衡以及个人兴趣与行业了解等。通过全面考虑并做出明智的决策，选择适合自己的职业并努力发展自己的事业。'},\n  {'role': 'user', 'content': '我长得帅吗'},\n  {'role': 'assistant',\n   'content': '作为一个人工智能语言模型，我无法直接观察或判断您的外貌，也无法对您的长相做出评价。每个人都有自己独特的美丽之处，无论是在外表、内在还是个人经历方面。如果您对自己的长相有自信，那么您应该继续保持自信，并努力发掘自己的优点和潜力。如果您对自己的长相有任何不满意的地方，也可以通过健康的生活方式和积极的心态来提升自己的整体形象。最重要的是，外表并不是衡量一个人的全部标准，内在品质和个人能力同样重要。'},\n  {'role': 'user', 'content': '你说的对'},\n  {'role': 'assistant',\n   'content': '谢谢你的肯定！如果你还有其他问题或需要帮助，请随时告诉我。我会尽力提供准确和有用的信息。'}]}"
     },
     "execution_count": 18,
     "metadata": {},
     "output_type": "execute_result"
    }
   ],
   "source": [
    "pre_design"
   ],
   "metadata": {
    "collapsed": false
   }
  },
  {
   "cell_type": "code",
   "execution_count": 12,
   "outputs": [],
   "source": [
    "# 将新的回复和问题添加进载荷-请求体"
   ],
   "metadata": {
    "collapsed": false
   }
  },
  {
   "cell_type": "code",
   "execution_count": null,
   "outputs": [],
   "source": [],
   "metadata": {
    "collapsed": false
   }
  }
 ],
 "metadata": {
  "kernelspec": {
   "display_name": "Python 3",
   "language": "python",
   "name": "python3"
  },
  "language_info": {
   "codemirror_mode": {
    "name": "ipython",
    "version": 2
   },
   "file_extension": ".py",
   "mimetype": "text/x-python",
   "name": "python",
   "nbconvert_exporter": "python",
   "pygments_lexer": "ipython2",
   "version": "2.7.6"
  }
 },
 "nbformat": 4,
 "nbformat_minor": 0
}
