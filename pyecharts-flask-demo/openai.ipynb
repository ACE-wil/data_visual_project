{
 "cells": [
  {
   "cell_type": "code",
   "execution_count": 1,
   "metadata": {
    "collapsed": true
   },
   "outputs": [
    {
     "name": "stdout",
     "output_type": "stream",
     "text": [
      "Requirement already satisfied: openai in e:\\anaconda3\\lib\\site-packages (0.27.2)\n",
      "Requirement already satisfied: aiohttp in e:\\anaconda3\\lib\\site-packages (from openai) (3.8.4)\n",
      "Requirement already satisfied: requests>=2.20 in e:\\anaconda3\\lib\\site-packages (from openai) (2.28.1)\n",
      "Requirement already satisfied: tqdm in e:\\anaconda3\\lib\\site-packages (from openai) (4.64.1)\n",
      "Requirement already satisfied: urllib3<1.27,>=1.21.1 in e:\\anaconda3\\lib\\site-packages (from requests>=2.20->openai) (1.26.11)\n",
      "Requirement already satisfied: certifi>=2017.4.17 in e:\\anaconda3\\lib\\site-packages (from requests>=2.20->openai) (2022.9.14)\n",
      "Requirement already satisfied: idna<4,>=2.5 in e:\\anaconda3\\lib\\site-packages (from requests>=2.20->openai) (2.10)\n",
      "Requirement already satisfied: charset-normalizer<3,>=2 in e:\\anaconda3\\lib\\site-packages (from requests>=2.20->openai) (2.0.4)\n",
      "Requirement already satisfied: attrs>=17.3.0 in e:\\anaconda3\\lib\\site-packages (from aiohttp->openai) (23.1.0)\n",
      "Requirement already satisfied: multidict<7.0,>=4.5 in e:\\anaconda3\\lib\\site-packages (from aiohttp->openai) (6.0.4)\n",
      "Requirement already satisfied: aiosignal>=1.1.2 in e:\\anaconda3\\lib\\site-packages (from aiohttp->openai) (1.3.1)\n",
      "Requirement already satisfied: async-timeout<5.0,>=4.0.0a3 in e:\\anaconda3\\lib\\site-packages (from aiohttp->openai) (4.0.2)\n",
      "Requirement already satisfied: frozenlist>=1.1.1 in e:\\anaconda3\\lib\\site-packages (from aiohttp->openai) (1.3.3)\n",
      "Requirement already satisfied: yarl<2.0,>=1.0 in e:\\anaconda3\\lib\\site-packages (from aiohttp->openai) (1.8.2)\n",
      "Requirement already satisfied: colorama in c:\\users\\17728\\appdata\\roaming\\python\\python39\\site-packages (from tqdm->openai) (0.4.6)\n"
     ]
    }
   ],
   "source": [
    "!pip install openai"
   ]
  },
  {
   "cell_type": "code",
   "execution_count": 2,
   "outputs": [
    {
     "name": "stdout",
     "output_type": "stream",
     "text": [
      "Collecting Werkzeug==3.0.0\n",
      "  Downloading werkzeug-3.0.0-py3-none-any.whl (226 kB)\n",
      "     ------------------------------------ 226.6/226.6 kB 407.4 kB/s eta 0:00:00\n",
      "Requirement already satisfied: MarkupSafe>=2.1.1 in e:\\anaconda3\\lib\\site-packages (from Werkzeug==3.0.0) (2.1.3)\n",
      "Installing collected packages: Werkzeug\n",
      "  Attempting uninstall: Werkzeug\n",
      "    Found existing installation: Werkzeug 2.2.3\n",
      "    Uninstalling Werkzeug-2.2.3:\n",
      "      Successfully uninstalled Werkzeug-2.2.3\n",
      "Successfully installed Werkzeug-3.0.0\n"
     ]
    }
   ],
   "source": [
    "!pip install Werkzeug==3.0.0"
   ],
   "metadata": {
    "collapsed": false
   }
  },
  {
   "cell_type": "code",
   "execution_count": 8,
   "outputs": [
    {
     "name": "stdout",
     "output_type": "stream",
     "text": [
      "{'error': {'message': 'You exceeded your current quota, please check your plan and billing details.', 'type': 'insufficient_quota', 'param': None, 'code': 'insufficient_quota'}}\n"
     ]
    }
   ],
   "source": [
    "import requests\n",
    "\n",
    "# 你的OpenAI API密钥\n",
    "api_key = ''\n",
    "\n",
    "# OpenAI对话API的端点\n",
    "api_endpoint = 'https://api.openai.com/v1/chat/completions'\n",
    "\n",
    "# 你的对话模型ID\n",
    "model_id = 'gpt-3.5-turbo'\n",
    "\n",
    "# 你的对话历史\n",
    "messages = [\n",
    "    {\"role\": \"system\", \"content\": \"You are a helpful assistant.\"},\n",
    "    {\"role\": \"user\", \"content\": \"你好\"},\n",
    "    {\"role\": \"assistant\", \"content\": \"你好！有什么我可以帮助你的吗？\"}\n",
    "]\n",
    "\n",
    "import requests\n",
    "\n",
    "# 设置代理信息\n",
    "proxy_host = '127.0.0.1'\n",
    "proxy_port = '51081'\n",
    "proxy_url = 'http://{}:{}'.format(proxy_host, proxy_port)\n",
    "\n",
    "# 请求头部\n",
    "headers = {\n",
    "    'Content-Type': 'application/json',\n",
    "    'Authorization': f'Bearer {api_key}',\n",
    "}\n",
    "\n",
    "# 请求体\n",
    "data = {\n",
    "    'model': model_id,\n",
    "    'messages': messages,\n",
    "}\n",
    "\n",
    "# 发送请求\n",
    "response = requests.post(api_endpoint, json=data, headers=headers, proxies={'http': proxy_url, 'https': proxy_url})\n",
    "\n",
    "# 打印响应\n",
    "print(response.json())\n"
   ],
   "metadata": {
    "collapsed": false
   }
  }
 ],
 "metadata": {
  "kernelspec": {
   "display_name": "Python 3",
   "language": "python",
   "name": "python3"
  },
  "language_info": {
   "codemirror_mode": {
    "name": "ipython",
    "version": 2
   },
   "file_extension": ".py",
   "mimetype": "text/x-python",
   "name": "python",
   "nbconvert_exporter": "python",
   "pygments_lexer": "ipython2",
   "version": "2.7.6"
  }
 },
 "nbformat": 4,
 "nbformat_minor": 0
}
