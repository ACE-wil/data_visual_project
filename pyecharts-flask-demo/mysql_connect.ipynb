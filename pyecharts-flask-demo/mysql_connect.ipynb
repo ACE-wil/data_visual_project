{
 "cells": [
  {
   "cell_type": "code",
   "execution_count": 3,
   "metadata": {
    "collapsed": true
   },
   "outputs": [
    {
     "name": "stdout",
     "output_type": "stream",
     "text": [
      "('shen', '123456')\n",
      "('lianjie', '123456')\n",
      "('lianjie', '12345')\n"
     ]
    }
   ],
   "source": [
    "import pymysql\n",
    "\n",
    "# 连接MySQL数据库\n",
    "conn = pymysql.connect(host='localhost', user='root', password='shen', db='user_data')\n",
    "\n",
    "# 创建一个游标对象\n",
    "cursor = conn.cursor()\n",
    "\n",
    "# 执行SQL查询语句\n",
    "cursor.execute(\"SELECT * FROM user_data\")\n",
    "\n",
    "# 获取查询结果\n",
    "rows = cursor.fetchall()\n",
    "\n",
    "# 打印查询结果\n",
    "for row in rows:\n",
    "    print(row)\n",
    "\n",
    "# 关闭游标和连接对象\n",
    "cursor.close()\n",
    "conn.close()"
   ]
  },
  {
   "cell_type": "code",
   "execution_count": 2,
   "outputs": [],
   "source": [
    "import pymysql\n",
    "\n",
    "# 数据库连接参数\n",
    "db_params = {\n",
    "    'host': 'localhost',\n",
    "    'user': 'root',\n",
    "    'password': 'shen',\n",
    "    'database': 'user_data',  # 修改这里为你的数据库名\n",
    "    'charset': 'utf8mb4'  # 添加字符集设置\n",
    "}\n",
    "\n",
    "# 建立与数据库的连接\n",
    "conn = pymysql.connect(**db_params)\n",
    "\n",
    "# 创建游标对象\n",
    "cursor = conn.cursor()\n",
    "\n",
    "# 定义要插入的数据，例如用户名和密码\n",
    "username = input(\"用户名\")\n",
    "password = input(\"密码\")\n",
    "\n",
    "# 注意: 在实际应用中，为了安全起见，密码应该被适当地加密，而不是明文存储。\n",
    "# 执行INSERT语句\n",
    "insert_sql = \"INSERT INTO user_data (user_name, user_password) VALUES (%s, %s)\"  # 修改这里为你的表名\n",
    "cursor.execute(insert_sql, (username, password))\n",
    "\n",
    "# 提交更改\n",
    "conn.commit()\n",
    "\n",
    "# 关闭游标和连接\n",
    "cursor.close()\n",
    "conn.close()"
   ],
   "metadata": {
    "collapsed": false
   }
  },
  {
   "cell_type": "code",
   "execution_count": null,
   "outputs": [],
   "source": [],
   "metadata": {
    "collapsed": false
   }
  }
 ],
 "metadata": {
  "kernelspec": {
   "display_name": "Python 3",
   "language": "python",
   "name": "python3"
  },
  "language_info": {
   "codemirror_mode": {
    "name": "ipython",
    "version": 2
   },
   "file_extension": ".py",
   "mimetype": "text/x-python",
   "name": "python",
   "nbconvert_exporter": "python",
   "pygments_lexer": "ipython2",
   "version": "2.7.6"
  }
 },
 "nbformat": 4,
 "nbformat_minor": 0
}
