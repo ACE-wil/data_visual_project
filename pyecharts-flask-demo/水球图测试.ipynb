{
 "cells": [
  {
   "cell_type": "code",
   "execution_count": null,
   "metadata": {
    "collapsed": true
   },
   "outputs": [],
   "source": []
  },
  {
   "cell_type": "code",
   "execution_count": 11,
   "outputs": [
    {
     "data": {
      "text/plain": "'D:\\\\大三第一学期\\\\data_ana\\\\data_project\\\\pyecharts-flask-demo\\\\multiple_liquid.html'"
     },
     "execution_count": 11,
     "metadata": {},
     "output_type": "execute_result"
    }
   ],
   "source": [
    "from pyecharts import options as opts\n",
    "from pyecharts.charts import Grid, Liquid\n",
    "from pyecharts.commons.utils import JsCode\n",
    "\n",
    "l1 = (\n",
    "    Liquid()\n",
    "    .add(\"lq\", [0.9,'本科占比'], center=[\"50%\", \"50%\"])\n",
    "    .set_global_opts(title_opts=opts.TitleOpts(title=\"学历要求占比-水球图\"))\n",
    ")\n",
    "\n",
    "l2 = Liquid().add(\n",
    "    \"lq\",\n",
    "    [0.3254],\n",
    "    center=[\"20%\", \"50%\"],\n",
    "    label_opts=opts.LabelOpts(\n",
    "        font_size=50,\n",
    "        formatter=JsCode(\n",
    "            \"\"\"function (param) {\n",
    "                    return (Math.floor(param.value * 10000) / 100) + '%';\n",
    "                }\"\"\"\n",
    "        ),\n",
    "        position=\"inside\",\n",
    "    ),\n",
    "\n",
    ")\n",
    "l3 = (\n",
    "    Liquid()\n",
    "    .add(\"lq\", [0.1], center=[\"80%\", \"50%\"])\n",
    ")\n",
    "\n",
    "\n",
    "grid = Grid().add(l1, grid_opts=opts.GridOpts()).add(l2, grid_opts=opts.GridOpts()).add(l3, grid_opts=opts.GridOpts())\n",
    "grid.render(\"multiple_liquid.html\")\n"
   ],
   "metadata": {
    "collapsed": false
   }
  },
  {
   "cell_type": "code",
   "execution_count": null,
   "outputs": [],
   "source": [],
   "metadata": {
    "collapsed": false
   }
  }
 ],
 "metadata": {
  "kernelspec": {
   "display_name": "Python 3",
   "language": "python",
   "name": "python3"
  },
  "language_info": {
   "codemirror_mode": {
    "name": "ipython",
    "version": 2
   },
   "file_extension": ".py",
   "mimetype": "text/x-python",
   "name": "python",
   "nbconvert_exporter": "python",
   "pygments_lexer": "ipython2",
   "version": "2.7.6"
  }
 },
 "nbformat": 4,
 "nbformat_minor": 0
}
