{
 "cells": [
  {
   "cell_type": "code",
   "execution_count": 1,
   "outputs": [],
   "source": [
    "# 导入初始数据"
   ],
   "metadata": {
    "collapsed": false
   }
  },
  {
   "cell_type": "code",
   "execution_count": 2,
   "outputs": [],
   "source": [
    "city = [{'code': '410', 'name': '全国'},\n",
    " {'code': '010', 'name': '北京'},\n",
    " {'code': '020', 'name': '上海'},\n",
    " {'code': '030', 'name': '天津'},\n",
    " {'code': '040', 'name': '重庆'},\n",
    " {'code': '050020', 'name': '广州'},\n",
    " {'code': '050090', 'name': '深圳'},\n",
    " {'code': '060080', 'name': '苏州'},\n",
    " {'code': '060020', 'name': '南京'},\n",
    " {'code': '070020', 'name': '杭州'},\n",
    " {'code': '210040', 'name': '大连'},\n",
    " {'code': '280020', 'name': '成都'},\n",
    " {'code': '170020', 'name': '武汉'},\n",
    " {'code': '270020', 'name': '西安'}]\n",
    "\n",
    "comScale = [{\"code\": \"010\",\"name\": \"1-49人\"},\n",
    "  {\"code\": \"020\",\"name\": \"50-99人\"},\n",
    "  {\"code\": \"030\",\"name\": \"100-499人\"},\n",
    "  {\"code\": \"040\",\"name\": \"500-999人\"},\n",
    "  {\"code\": \"050\",\"name\": \"1000-2000人\"},\n",
    "  {\"code\": \"060\",\"name\": \"2000-5000人\"},\n",
    "  {\"code\": \"070\",\"name\": \"5000-10000人\"},\n",
    "  {\"code\": \"080\",\"name\": \"10000人以上\"}]\n",
    "\n",
    "workExperiences = [{'code': '1', 'name': '应届生'},\n",
    " {'code': '2', 'name': '实习生'},\n",
    " {'code': '0$1', 'name': '1年以内'},\n",
    " {'code': '1$3', 'name': '1-3年'},\n",
    " {'code': '3$5', 'name': '3-5年'},\n",
    " {'code': '5$10', 'name': '5-10年'},\n",
    " {'code': '10$999', 'name': '10年以上'}]\n",
    "\n",
    "def choose_WE(工作经验):\n",
    "    for i in workExperiences:\n",
    "        if i['name'] == 工作经验:\n",
    "            return i['code']\n",
    "\n",
    "def choose_city(city_name):\n",
    "    for i in city:\n",
    "        if i['name'] == city_name:\n",
    "            return i['code']\n",
    "\n",
    "def com_scale(公司规模):\n",
    "    for i in comScale:\n",
    "        if i['name'] == 公司规模:\n",
    "            return i['code']\n",
    "\n",
    "def headers():\n",
    "    liepin_headers = {your headers}\n",
    "\n",
    "    return liepin_headers"
   ],
   "metadata": {
    "collapsed": false
   }
  },
  {
   "cell_type": "code",
   "execution_count": 3,
   "id": "c6f6861b",
   "metadata": {},
   "outputs": [],
   "source": [
    "import pandas\n",
    "from requests_html import HTMLSession\n",
    "import json\n",
    "import pandas as pd\n",
    "\n",
    "url = \"https://apic.liepin.com/api/com.liepin.searchfront4c.pc-search-job\"\n",
    "\n",
    "def payloadd(城市,关键词,工作经验):\n",
    "    payload = {\n",
    "    \"data\": {\n",
    "        \"mainSearchPcConditionForm\": {\n",
    "            \"city\": choose_city(城市),\n",
    "            \"dq\": choose_city(城市),\n",
    "            \"pubTime\": \"\",\n",
    "            \"currentPage\": 0,\n",
    "            \"pageSize\": 40,\n",
    "            \"key\": 关键词,\n",
    "            \"suggestTag\": \"\",\n",
    "            \"workYearCode\": choose_WE(工作经验),\n",
    "            \"compId\": \"\",\n",
    "            \"compName\": \"\",\n",
    "            \"compTag\": \"\",\n",
    "            \"industry\": \"\",\n",
    "            \"salary\": \"\",\n",
    "            \"jobKind\": \"\",\n",
    "            \"compScale\": \"\",\n",
    "            \"compKind\": \"\",\n",
    "            \"compStage\": \"\",\n",
    "            \"eduLevel\": \"\"\n",
    "        },\n",
    "        \"passThroughForm\": {\n",
    "            \"scene\": \"input\",\n",
    "            \"skId\": \"\",\n",
    "            \"fkId\": \"\",\n",
    "            \"ckId\": \"h2c8pxojavrmo1w785z7ueih2ybfpux8\",\n",
    "            \"suggest\": None\n",
    "        }\n",
    "    }\n",
    "}\n",
    "    return payload"
   ]
  },
  {
   "cell_type": "code",
   "execution_count": 4,
   "outputs": [],
   "source": [
    "城市 = input('输入城市')"
   ],
   "metadata": {
    "collapsed": false
   }
  },
  {
   "cell_type": "code",
   "execution_count": 5,
   "outputs": [],
   "source": [
    "关键词 = input('关键词')"
   ],
   "metadata": {
    "collapsed": false
   }
  },
  {
   "cell_type": "code",
   "execution_count": 6,
   "outputs": [],
   "source": [
    "工作经验 = input('应届生,实习生,1年以内,1-3年,3-5年任选一个')"
   ],
   "metadata": {
    "collapsed": false
   }
  },
  {
   "cell_type": "code",
   "execution_count": 6,
   "outputs": [],
   "source": [],
   "metadata": {
    "collapsed": false
   }
  },
  {
   "cell_type": "code",
   "execution_count": 7,
   "outputs": [
    {
     "data": {
      "text/plain": "{'flag': 1,\n 'data': {'data': {'jobCardList': [{'job': {'labels': ['策略产品',\n       '商业产品',\n       '供应链产品',\n       '消费品',\n       '产品规划',\n       '团队管理'],\n      'title': 'GTM经理/产品经理/产品上市项目管理',\n      'jobKind': '2',\n      'refreshTime': '20230804141131',\n      'jobId': '60552001',\n      'dq': '广州-荔湾区',\n      'requireWorkYears': '一年以下',\n      'requireEduLevel': '本科',\n      'topJob': False,\n      'link': 'https://www.liepin.com/job/1960552001.shtml',\n      'salary': '10-30k',\n      'pcOuterLink': '',\n      'h5OuterLink': '',\n      'advViewFlag': False,\n      'dataPromId': 'd_sfrom=search_prime&d_ckId=null&d_curPage=0&d_pageSize=40&d_headId=null&d_posi=0&skId=h2c8pxojavrmo1w785z7ueih2ybfpux8&fkId=h2c8pxojavrmo1w785z7ueih2ybfpux8&ckId=h2c8pxojavrmo1w785z7ueih2ybfpux8&sfrom=search_job_pc&curPage=0&pageSize=40&index=0'},\n     'recruiter': {'chatted': False,\n      'recruiterId': '17ef54758d358b720d978b47d95cf116',\n      'imId': '5844ad1b9b7bc17b4f20da7109aae001',\n      'imUserType': '2',\n      'recruiterName': '薛先生',\n      'recruiterTitle': '运营总监',\n      'recruiterPhoto': '5f8f986bdfb13a7dee342f2108u.jpg'},\n     'comp': {'compId': 13443587,\n      'compName': '佛山市开仪家具有限公司',\n      'compScale': '1-49人',\n      'compLogo': '61b07937d0458d53c627567e02u.jpg',\n      'link': 'https://www.liepin.com/company/13443587/',\n      'compIndustry': '家具/家居'},\n     'dataParams': '{\"jobKind\":\"2\",\"userId\":\"17ef54758d358b720d978b47d95cf116\",\"jobId\":\"60552001\",\"imId\":\"5844ad1b9b7bc17b4f20da7109aae001\",\"imUserType\":\"2\",\"recruiterName\":\"薛先生\",\"recruiterPhoto\":\"5f8f986bdfb13a7dee342f2108u.jpg\"}',\n     'dataInfo': '%7B%22sfrom%22%3A%22search_job_pc%22%2C%22jobKind%22%3A%222%22%2C%22pageSize%22%3A%2240%22%2C%22curPage%22%3A%220%22%2C%22ckId%22%3A%22h2c8pxojavrmo1w785z7ueih2ybfpux8%22%2C%22scene%22%3A%22input%22%2C%22skId%22%3A%22h2c8pxojavrmo1w785z7ueih2ybfpux8%22%2C%22fkId%22%3A%22h2c8pxojavrmo1w785z7ueih2ybfpux8%22%2C%22jobId%22%3A%2260552001%22%2C%22d_curPage%22%3A%220%22%2C%22d_pageSize%22%3A%2240%22%2C%22as_from%22%3A%22search_prime%22%7D'},\n    {'job': {'labels': ['数据产品',\n       '工艺品/收藏品',\n       '消费品',\n       '产品优化',\n       '产品规划',\n       '数据分析',\n       '产品设计',\n       '用户研究',\n       '需求分析',\n       '团队管理'],\n      'title': '高级产品经理',\n      'jobKind': '2',\n      'refreshTime': '20230607134704',\n      'jobId': '59150941',\n      'dq': '广州-荔湾区',\n      'requireWorkYears': '一年以下',\n      'requireEduLevel': '本科',\n      'topJob': False,\n      'link': 'https://www.liepin.com/job/1959150941.shtml',\n      'salary': '10-30k',\n      'pcOuterLink': '',\n      'h5OuterLink': '',\n      'advViewFlag': False,\n      'dataPromId': 'd_sfrom=search_prime&d_ckId=null&d_curPage=0&d_pageSize=40&d_headId=null&d_posi=1&skId=h2c8pxojavrmo1w785z7ueih2ybfpux8&fkId=h2c8pxojavrmo1w785z7ueih2ybfpux8&ckId=h2c8pxojavrmo1w785z7ueih2ybfpux8&sfrom=search_job_pc&curPage=0&pageSize=40&index=1'},\n     'recruiter': {'chatted': False,\n      'recruiterId': '17ef54758d358b720d978b47d95cf116',\n      'imId': '5844ad1b9b7bc17b4f20da7109aae001',\n      'imUserType': '2',\n      'recruiterName': '薛先生',\n      'recruiterTitle': '运营总监',\n      'recruiterPhoto': '5f8f986bdfb13a7dee342f2108u.jpg'},\n     'comp': {'compId': 13443587,\n      'compName': '佛山市开仪家具有限公司',\n      'compScale': '1-49人',\n      'compLogo': '61b07937d0458d53c627567e02u.jpg',\n      'link': 'https://www.liepin.com/company/13443587/',\n      'compIndustry': '家具/家居'},\n     'dataParams': '{\"jobKind\":\"2\",\"userId\":\"17ef54758d358b720d978b47d95cf116\",\"jobId\":\"59150941\",\"imId\":\"5844ad1b9b7bc17b4f20da7109aae001\",\"imUserType\":\"2\",\"recruiterName\":\"薛先生\",\"recruiterPhoto\":\"5f8f986bdfb13a7dee342f2108u.jpg\"}',\n     'dataInfo': '%7B%22sfrom%22%3A%22search_job_pc%22%2C%22jobKind%22%3A%222%22%2C%22pageSize%22%3A%2240%22%2C%22curPage%22%3A%220%22%2C%22ckId%22%3A%22h2c8pxojavrmo1w785z7ueih2ybfpux8%22%2C%22scene%22%3A%22input%22%2C%22skId%22%3A%22h2c8pxojavrmo1w785z7ueih2ybfpux8%22%2C%22fkId%22%3A%22h2c8pxojavrmo1w785z7ueih2ybfpux8%22%2C%22jobId%22%3A%2259150941%22%2C%22d_curPage%22%3A%220%22%2C%22d_pageSize%22%3A%2240%22%2C%22as_from%22%3A%22search_prime%22%7D'},\n    {'job': {'labels': ['数据分析'],\n      'title': '潮玩盲盒产品经理',\n      'jobKind': '2',\n      'refreshTime': '20230307150921',\n      'jobId': '44235539',\n      'dq': '广州-海珠区',\n      'requireWorkYears': '一年以下',\n      'requireEduLevel': '大专',\n      'topJob': False,\n      'link': 'https://www.liepin.com/job/1944235539.shtml',\n      'salary': '10-15k',\n      'pcOuterLink': '',\n      'h5OuterLink': '',\n      'advViewFlag': False,\n      'dataPromId': 'd_sfrom=search_prime&d_ckId=null&d_curPage=0&d_pageSize=40&d_headId=null&d_posi=2&skId=h2c8pxojavrmo1w785z7ueih2ybfpux8&fkId=h2c8pxojavrmo1w785z7ueih2ybfpux8&ckId=h2c8pxojavrmo1w785z7ueih2ybfpux8&sfrom=search_job_pc&curPage=0&pageSize=40&index=2'},\n     'recruiter': {'chatted': False,\n      'recruiterId': 'cf01d8d7485481826ff0cb47906cd0c3',\n      'imId': 'e92823ee8be379166e8893c9219f7e03',\n      'imUserType': '2',\n      'recruiterName': '朱女士',\n      'recruiterTitle': '人资经理',\n      'recruiterPhoto': '5f8f9863f6d1ab58476f246a08u.jpg'},\n     'comp': {'compId': 12846035,\n      'compName': '北京妙趣盒生文化传播有限公司',\n      'compScale': '100-499人',\n      'compLogo': '61b07937d0458d53c627567e02u.jpg',\n      'link': 'https://www.liepin.com/company/12846035/',\n      'compIndustry': '批发/零售'},\n     'dataParams': '{\"jobKind\":\"2\",\"userId\":\"cf01d8d7485481826ff0cb47906cd0c3\",\"jobId\":\"44235539\",\"imId\":\"e92823ee8be379166e8893c9219f7e03\",\"imUserType\":\"2\",\"recruiterName\":\"朱女士\",\"recruiterPhoto\":\"5f8f9863f6d1ab58476f246a08u.jpg\"}',\n     'dataInfo': '%7B%22sfrom%22%3A%22search_job_pc%22%2C%22jobKind%22%3A%222%22%2C%22pageSize%22%3A%2240%22%2C%22curPage%22%3A%220%22%2C%22ckId%22%3A%22h2c8pxojavrmo1w785z7ueih2ybfpux8%22%2C%22scene%22%3A%22input%22%2C%22skId%22%3A%22h2c8pxojavrmo1w785z7ueih2ybfpux8%22%2C%22fkId%22%3A%22h2c8pxojavrmo1w785z7ueih2ybfpux8%22%2C%22jobId%22%3A%2244235539%22%2C%22d_curPage%22%3A%220%22%2C%22d_pageSize%22%3A%2240%22%2C%22as_from%22%3A%22search_prime%22%7D'},\n    {'job': {'labels': ['BD，业务，采购，', '酒店/旅行社合作'],\n      'title': '酒店签约产品经理',\n      'jobKind': '2',\n      'refreshTime': '20210224104701',\n      'jobId': '36091987',\n      'dq': '广州',\n      'requireWorkYears': '一年以下',\n      'requireEduLevel': '中专/中技',\n      'topJob': False,\n      'link': 'https://www.liepin.com/job/1936091987.shtml',\n      'salary': '6-11k',\n      'pcOuterLink': '',\n      'h5OuterLink': '',\n      'advViewFlag': False,\n      'dataPromId': 'd_sfrom=search_prime&d_ckId=null&d_curPage=0&d_pageSize=40&d_headId=null&d_posi=3&skId=h2c8pxojavrmo1w785z7ueih2ybfpux8&fkId=h2c8pxojavrmo1w785z7ueih2ybfpux8&ckId=h2c8pxojavrmo1w785z7ueih2ybfpux8&sfrom=search_job_pc&curPage=0&pageSize=40&index=3'},\n     'recruiter': {'chatted': False,\n      'recruiterId': 'b4e202c249d928a12ab21b867543c76b',\n      'imId': '84d19e79d4adc2a504612e645251413c',\n      'imUserType': '2',\n      'recruiterName': '李先生',\n      'recruiterTitle': '运营总监',\n      'recruiterPhoto': '603486248f5866739fffda8207u.png'},\n     'comp': {'compId': 12569735,\n      'compName': '广州视界行旅行社有限公司',\n      'compScale': '1-49人',\n      'compStage': '融资未公开',\n      'compLogo': '603470aab9834220c1e1405904u.jpg',\n      'link': 'https://www.liepin.com/company/12569735/',\n      'compIndustry': '酒店/民宿'},\n     'dataParams': '{\"jobKind\":\"2\",\"userId\":\"b4e202c249d928a12ab21b867543c76b\",\"jobId\":\"36091987\",\"imId\":\"84d19e79d4adc2a504612e645251413c\",\"imUserType\":\"2\",\"recruiterName\":\"李先生\",\"recruiterPhoto\":\"603486248f5866739fffda8207u.png\"}',\n     'dataInfo': '%7B%22sfrom%22%3A%22search_job_pc%22%2C%22jobKind%22%3A%222%22%2C%22pageSize%22%3A%2240%22%2C%22curPage%22%3A%220%22%2C%22ckId%22%3A%22h2c8pxojavrmo1w785z7ueih2ybfpux8%22%2C%22scene%22%3A%22input%22%2C%22skId%22%3A%22h2c8pxojavrmo1w785z7ueih2ybfpux8%22%2C%22fkId%22%3A%22h2c8pxojavrmo1w785z7ueih2ybfpux8%22%2C%22jobId%22%3A%2236091987%22%2C%22d_curPage%22%3A%220%22%2C%22d_pageSize%22%3A%2240%22%2C%22as_from%22%3A%22search_prime%22%7D'},\n    {'job': {'labels': ['工具产品', 'OTA', 'to B', '产品优化', '用户研究'],\n      'title': '产品经理',\n      'jobKind': '2',\n      'refreshTime': '20231027161849',\n      'jobId': '62406775',\n      'dq': '广州-海珠区',\n      'requireWorkYears': '一年以下',\n      'requireEduLevel': '本科',\n      'topJob': False,\n      'link': 'https://www.liepin.com/job/1962406775.shtml',\n      'salary': '10-15k',\n      'pcOuterLink': '',\n      'h5OuterLink': '',\n      'advViewFlag': False,\n      'dataPromId': 'd_sfrom=search_prime&d_ckId=null&d_curPage=0&d_pageSize=40&d_headId=null&d_posi=4&skId=h2c8pxojavrmo1w785z7ueih2ybfpux8&fkId=h2c8pxojavrmo1w785z7ueih2ybfpux8&ckId=h2c8pxojavrmo1w785z7ueih2ybfpux8&sfrom=search_job_pc&curPage=0&pageSize=40&index=4'},\n     'recruiter': {'chatted': False,\n      'recruiterId': '3fcd2f12b166bad5fdacd2bbba7fbaf4',\n      'imId': '771cd76556a28fdf9ccf3dc45f6d7696',\n      'imUserType': '2',\n      'recruiterName': '梁女士',\n      'recruiterTitle': '人力资源主管',\n      'recruiterPhoto': '5f8f9863f6d1ab58476f246a08u.jpg'},\n     'comp': {'compId': 8082331,\n      'compName': '租租车',\n      'compScale': '1000-2000人',\n      'compStage': 'D轮',\n      'compLogo': '59b6035970324a7f8c9d651306a.jpg',\n      'link': 'https://www.liepin.com/company/8082331/',\n      'compIndustry': '互联网'},\n     'dataParams': '{\"jobKind\":\"2\",\"userId\":\"3fcd2f12b166bad5fdacd2bbba7fbaf4\",\"jobId\":\"62406775\",\"imId\":\"771cd76556a28fdf9ccf3dc45f6d7696\",\"imUserType\":\"2\",\"recruiterName\":\"梁女士\",\"recruiterPhoto\":\"5f8f9863f6d1ab58476f246a08u.jpg\"}',\n     'dataInfo': '%7B%22sfrom%22%3A%22search_job_pc%22%2C%22jobKind%22%3A%222%22%2C%22pageSize%22%3A%2240%22%2C%22curPage%22%3A%220%22%2C%22ckId%22%3A%22h2c8pxojavrmo1w785z7ueih2ybfpux8%22%2C%22scene%22%3A%22input%22%2C%22skId%22%3A%22h2c8pxojavrmo1w785z7ueih2ybfpux8%22%2C%22fkId%22%3A%22h2c8pxojavrmo1w785z7ueih2ybfpux8%22%2C%22jobId%22%3A%2262406775%22%2C%22d_curPage%22%3A%220%22%2C%22d_pageSize%22%3A%2240%22%2C%22as_from%22%3A%22search_prime%22%7D'},\n    {'job': {'labels': ['数据库', '项目管理'],\n      'title': '项目工程师（PM方向）',\n      'jobKind': '2',\n      'refreshTime': '20231011102930',\n      'jobId': '39343585',\n      'dq': '广州',\n      'requireWorkYears': '一年以下',\n      'requireEduLevel': '统招本科',\n      'topJob': False,\n      'link': 'https://www.liepin.com/job/1939343585.shtml',\n      'salary': '12-20k',\n      'pcOuterLink': '',\n      'h5OuterLink': '',\n      'advViewFlag': False,\n      'dataPromId': 'd_sfrom=search_prime&d_ckId=null&d_curPage=0&d_pageSize=40&d_headId=null&d_posi=5&skId=h2c8pxojavrmo1w785z7ueih2ybfpux8&fkId=h2c8pxojavrmo1w785z7ueih2ybfpux8&ckId=h2c8pxojavrmo1w785z7ueih2ybfpux8&sfrom=search_job_pc&curPage=0&pageSize=40&index=5'},\n     'recruiter': {'chatted': False,\n      'recruiterId': 'e8fca988d46261fd66863fc0ab92d344',\n      'imId': '3ec58d52dd55a1b5160b5b344d4ef7b6',\n      'imUserType': '2',\n      'recruiterName': '薛先生',\n      'recruiterTitle': 'HRM',\n      'recruiterPhoto': '5f8f986aea60860b75384fab08u.jpg'},\n     'comp': {'compId': 639354,\n      'compName': '帆软软件',\n      'compScale': '1000-2000人',\n      'compLogo': '5f1e82fe13bca4465f1b66aa04u.jpg',\n      'link': 'https://www.liepin.com/company/639354/',\n      'compIndustry': '计算机软件'},\n     'dataParams': '{\"jobKind\":\"2\",\"userId\":\"e8fca988d46261fd66863fc0ab92d344\",\"jobId\":\"39343585\",\"imId\":\"3ec58d52dd55a1b5160b5b344d4ef7b6\",\"imUserType\":\"2\",\"recruiterName\":\"薛先生\",\"recruiterPhoto\":\"5f8f986aea60860b75384fab08u.jpg\"}',\n     'dataInfo': '%7B%22sfrom%22%3A%22search_job_pc%22%2C%22jobKind%22%3A%222%22%2C%22pageSize%22%3A%2240%22%2C%22curPage%22%3A%220%22%2C%22ckId%22%3A%22h2c8pxojavrmo1w785z7ueih2ybfpux8%22%2C%22scene%22%3A%22input%22%2C%22skId%22%3A%22h2c8pxojavrmo1w785z7ueih2ybfpux8%22%2C%22fkId%22%3A%22h2c8pxojavrmo1w785z7ueih2ybfpux8%22%2C%22jobId%22%3A%2239343585%22%2C%22d_curPage%22%3A%220%22%2C%22d_pageSize%22%3A%2240%22%2C%22as_from%22%3A%22search_prime%22%7D'},\n    {'job': {'labels': ['市场策划', '市场推广', '活动策划'],\n      'title': '产品经理',\n      'jobKind': '2',\n      'refreshTime': '20231020094104',\n      'jobId': '49672957',\n      'dq': '广州-越秀区',\n      'requireWorkYears': '一年以下',\n      'requireEduLevel': '统招本科',\n      'topJob': False,\n      'link': 'https://www.liepin.com/job/1949672957.shtml',\n      'salary': '8-15k',\n      'pcOuterLink': '',\n      'h5OuterLink': '',\n      'advViewFlag': False,\n      'dataPromId': 'd_sfrom=search_prime&d_ckId=null&d_curPage=0&d_pageSize=40&d_headId=null&d_posi=6&skId=h2c8pxojavrmo1w785z7ueih2ybfpux8&fkId=h2c8pxojavrmo1w785z7ueih2ybfpux8&ckId=h2c8pxojavrmo1w785z7ueih2ybfpux8&sfrom=search_job_pc&curPage=0&pageSize=40&index=6'},\n     'recruiter': {'chatted': False,\n      'recruiterId': 'a2c0cead8ce973be7175822d71c97e09',\n      'imId': '541dfdd825d29fc067766a03c68ce883',\n      'imUserType': '2',\n      'recruiterName': '郎女士',\n      'recruiterTitle': 'HR',\n      'recruiterPhoto': '5f8f986779c7cc70efbf36c008u.jpg'},\n     'comp': {'compId': 12196661,\n      'compName': '赛基生物',\n      'compScale': '100-499人',\n      'compStage': '战略投资',\n      'compLogo': '5fd03c23b379773c7f5cadf203u.png',\n      'link': 'https://www.liepin.com/company/12196661/',\n      'compIndustry': '医疗器械'},\n     'dataParams': '{\"jobKind\":\"2\",\"userId\":\"a2c0cead8ce973be7175822d71c97e09\",\"jobId\":\"49672957\",\"imId\":\"541dfdd825d29fc067766a03c68ce883\",\"imUserType\":\"2\",\"recruiterName\":\"郎女士\",\"recruiterPhoto\":\"5f8f986779c7cc70efbf36c008u.jpg\"}',\n     'dataInfo': '%7B%22sfrom%22%3A%22search_job_pc%22%2C%22jobKind%22%3A%222%22%2C%22pageSize%22%3A%2240%22%2C%22curPage%22%3A%220%22%2C%22ckId%22%3A%22h2c8pxojavrmo1w785z7ueih2ybfpux8%22%2C%22scene%22%3A%22input%22%2C%22skId%22%3A%22h2c8pxojavrmo1w785z7ueih2ybfpux8%22%2C%22fkId%22%3A%22h2c8pxojavrmo1w785z7ueih2ybfpux8%22%2C%22jobId%22%3A%2249672957%22%2C%22d_curPage%22%3A%220%22%2C%22d_pageSize%22%3A%2240%22%2C%22as_from%22%3A%22search_prime%22%7D'},\n    {'job': {'labels': ['直播/视频产品', '直播', '数据分析', '用户研究'],\n      'title': '产品经理实习生（直播玩法） (MJ004122)',\n      'jobKind': '2',\n      'refreshTime': '20220512145314',\n      'jobId': '47555995',\n      'dq': '广州-番禺区',\n      'requireWorkYears': '一年以下',\n      'requireEduLevel': '本科',\n      'topJob': False,\n      'link': 'https://www.liepin.com/job/1947555995.shtml',\n      'salary': '2-3k',\n      'pcOuterLink': '',\n      'h5OuterLink': '',\n      'advViewFlag': False,\n      'dataPromId': 'd_sfrom=search_prime&d_ckId=null&d_curPage=0&d_pageSize=40&d_headId=null&d_posi=7&skId=h2c8pxojavrmo1w785z7ueih2ybfpux8&fkId=h2c8pxojavrmo1w785z7ueih2ybfpux8&ckId=h2c8pxojavrmo1w785z7ueih2ybfpux8&sfrom=search_job_pc&curPage=0&pageSize=40&index=7'},\n     'recruiter': {'chatted': False,\n      'recruiterId': '84231bcf8b19ef51f9e2b1d319945a39',\n      'imId': '684ac798da2e4cbf9f90a7bcfdb96d0e',\n      'imUserType': '2',\n      'recruiterName': '陈女士',\n      'recruiterTitle': '',\n      'recruiterPhoto': '5f8f98648dbe6273dcf8515508u.jpg'},\n     'comp': {'compId': 9873489,\n      'compName': 'YY',\n      'compScale': '1000-2000人',\n      'compStage': '美股上市',\n      'compLogo': '603de53b0f02191a7981a0e508u.png',\n      'link': 'https://www.liepin.com/company/9873489/',\n      'compIndustry': '互联网'},\n     'dataParams': '{\"jobKind\":\"2\",\"userId\":\"84231bcf8b19ef51f9e2b1d319945a39\",\"jobId\":\"47555995\",\"imId\":\"684ac798da2e4cbf9f90a7bcfdb96d0e\",\"imUserType\":\"2\",\"recruiterName\":\"陈女士\",\"recruiterPhoto\":\"5f8f98648dbe6273dcf8515508u.jpg\"}',\n     'dataInfo': '%7B%22sfrom%22%3A%22search_job_pc%22%2C%22jobKind%22%3A%222%22%2C%22pageSize%22%3A%2240%22%2C%22curPage%22%3A%220%22%2C%22ckId%22%3A%22h2c8pxojavrmo1w785z7ueih2ybfpux8%22%2C%22scene%22%3A%22input%22%2C%22skId%22%3A%22h2c8pxojavrmo1w785z7ueih2ybfpux8%22%2C%22fkId%22%3A%22h2c8pxojavrmo1w785z7ueih2ybfpux8%22%2C%22jobId%22%3A%2247555995%22%2C%22d_curPage%22%3A%220%22%2C%22d_pageSize%22%3A%2240%22%2C%22as_from%22%3A%22search_prime%22%7D'},\n    {'job': {'labels': ['医学应届毕业生', '医疗耗材', '医生'],\n      'title': '学术产品经理',\n      'jobKind': '2',\n      'refreshTime': '20211229211745',\n      'jobId': '44828641',\n      'dq': '广州',\n      'requireWorkYears': '一年以下',\n      'requireEduLevel': '本科',\n      'topJob': False,\n      'link': 'https://www.liepin.com/job/1944828641.shtml',\n      'salary': '11-20k',\n      'pcOuterLink': '',\n      'h5OuterLink': '',\n      'advViewFlag': False,\n      'dataPromId': 'd_sfrom=search_prime&d_ckId=null&d_curPage=0&d_pageSize=40&d_headId=null&d_posi=8&skId=h2c8pxojavrmo1w785z7ueih2ybfpux8&fkId=h2c8pxojavrmo1w785z7ueih2ybfpux8&ckId=h2c8pxojavrmo1w785z7ueih2ybfpux8&sfrom=search_job_pc&curPage=0&pageSize=40&index=8'},\n     'recruiter': {'chatted': False,\n      'recruiterId': 'ff92d1ab96ba49dd571c0ab6598cb507',\n      'imId': '2aa95d7ff9717c4b835da8f121f93219',\n      'imUserType': '2',\n      'recruiterName': '李女士',\n      'recruiterTitle': '运营总监',\n      'recruiterPhoto': '61a47ad8e8c656539de018ca08u.png'},\n     'comp': {'compId': 8092706,\n      'compName': '广州亿创医药科技有限公司',\n      'compScale': '1-49人',\n      'compStage': '融资未公开',\n      'compLogo': '61b07937d0458d53c627567e02u.jpg',\n      'link': 'https://www.liepin.com/company/8092706/',\n      'compIndustry': '培训服务'},\n     'dataParams': '{\"jobKind\":\"2\",\"userId\":\"ff92d1ab96ba49dd571c0ab6598cb507\",\"jobId\":\"44828641\",\"imId\":\"2aa95d7ff9717c4b835da8f121f93219\",\"imUserType\":\"2\",\"recruiterName\":\"李女士\",\"recruiterPhoto\":\"61a47ad8e8c656539de018ca08u.png\"}',\n     'dataInfo': '%7B%22sfrom%22%3A%22search_job_pc%22%2C%22jobKind%22%3A%222%22%2C%22pageSize%22%3A%2240%22%2C%22curPage%22%3A%220%22%2C%22ckId%22%3A%22h2c8pxojavrmo1w785z7ueih2ybfpux8%22%2C%22scene%22%3A%22input%22%2C%22skId%22%3A%22h2c8pxojavrmo1w785z7ueih2ybfpux8%22%2C%22fkId%22%3A%22h2c8pxojavrmo1w785z7ueih2ybfpux8%22%2C%22jobId%22%3A%2244828641%22%2C%22d_curPage%22%3A%220%22%2C%22d_pageSize%22%3A%2240%22%2C%22as_from%22%3A%22search_prime%22%7D'},\n    {'job': {'labels': ['文字编辑',\n       '医美编辑',\n       '医药编辑',\n       '文案编辑',\n       '医学文献编辑',\n       '医学文献检索',\n       '药学文献检索',\n       '中英文文献',\n       '专利文献检索',\n       '文献检索'],\n      'title': '产品经理',\n      'jobKind': '2',\n      'refreshTime': '20221027140218',\n      'jobId': '52074067',\n      'dq': '广州-白云区',\n      'requireWorkYears': '一年以下',\n      'requireEduLevel': '大专',\n      'topJob': False,\n      'link': 'https://www.liepin.com/job/1952074067.shtml',\n      'salary': '12-18k',\n      'pcOuterLink': '',\n      'h5OuterLink': '',\n      'advViewFlag': False,\n      'dataPromId': 'd_sfrom=search_prime&d_ckId=null&d_curPage=0&d_pageSize=40&d_headId=null&d_posi=9&skId=h2c8pxojavrmo1w785z7ueih2ybfpux8&fkId=h2c8pxojavrmo1w785z7ueih2ybfpux8&ckId=h2c8pxojavrmo1w785z7ueih2ybfpux8&sfrom=search_job_pc&curPage=0&pageSize=40&index=9'},\n     'recruiter': {'chatted': False,\n      'recruiterId': 'f92d451d202af926114a102d1b3750ed',\n      'imId': '3f41fbff39d1a239966d2c65245014c5',\n      'imUserType': '2',\n      'recruiterName': '林女士',\n      'recruiterTitle': '首席执行官CEO/总裁/总经理',\n      'recruiterPhoto': '623182379119f1177ae9019f03u.png'},\n     'comp': {'compId': 12638043,\n      'compName': '广州际洲贸易有限公司',\n      'compScale': '100-499人',\n      'compStage': '融资未公开',\n      'compLogo': '61b07937d0458d53c627567e02u.jpg',\n      'link': 'https://www.liepin.com/company/12638043/',\n      'compIndustry': '贸易/进出口'},\n     'dataParams': '{\"jobKind\":\"2\",\"userId\":\"f92d451d202af926114a102d1b3750ed\",\"jobId\":\"52074067\",\"imId\":\"3f41fbff39d1a239966d2c65245014c5\",\"imUserType\":\"2\",\"recruiterName\":\"林女士\",\"recruiterPhoto\":\"623182379119f1177ae9019f03u.png\"}',\n     'dataInfo': '%7B%22sfrom%22%3A%22search_job_pc%22%2C%22jobKind%22%3A%222%22%2C%22pageSize%22%3A%2240%22%2C%22curPage%22%3A%220%22%2C%22ckId%22%3A%22h2c8pxojavrmo1w785z7ueih2ybfpux8%22%2C%22scene%22%3A%22input%22%2C%22skId%22%3A%22h2c8pxojavrmo1w785z7ueih2ybfpux8%22%2C%22fkId%22%3A%22h2c8pxojavrmo1w785z7ueih2ybfpux8%22%2C%22jobId%22%3A%2252074067%22%2C%22d_curPage%22%3A%220%22%2C%22d_pageSize%22%3A%2240%22%2C%22as_from%22%3A%22search_prime%22%7D'},\n    {'job': {'labels': ['策略产品', '贸易/进出口', '用户研究', '产品设计', '产品规划', '产品优化'],\n      'title': '产品经理',\n      'jobKind': '2',\n      'refreshTime': '20220303122041',\n      'jobId': '47677791',\n      'dq': '广州-天河区',\n      'requireWorkYears': '一年以下',\n      'requireEduLevel': '大专',\n      'topJob': False,\n      'link': 'https://www.liepin.com/job/1947677791.shtml',\n      'salary': '8-12k',\n      'pcOuterLink': '',\n      'h5OuterLink': '',\n      'advViewFlag': False,\n      'dataPromId': 'd_sfrom=search_prime&d_ckId=null&d_curPage=0&d_pageSize=40&d_headId=null&d_posi=10&skId=h2c8pxojavrmo1w785z7ueih2ybfpux8&fkId=h2c8pxojavrmo1w785z7ueih2ybfpux8&ckId=h2c8pxojavrmo1w785z7ueih2ybfpux8&sfrom=search_job_pc&curPage=0&pageSize=40&index=10'},\n     'recruiter': {'chatted': False,\n      'recruiterId': 'dfa6281ce1901b92ac3a8bd66bbaff1b',\n      'imId': '59ffab98252e4f8e7df213eecf88c70c',\n      'imUserType': '2',\n      'recruiterName': '邹女士',\n      'recruiterTitle': '人事经理',\n      'recruiterPhoto': '5f8f986779c7cc70efbf36c008u.jpg'},\n     'comp': {'compId': 13141087,\n      'compName': '流氓兔互娱(厦门)科技有限公司',\n      'compScale': '50-99人',\n      'compLogo': '61b07937d0458d53c627567e02u.jpg',\n      'link': 'https://www.liepin.com/company/13141087/',\n      'compIndustry': '专业技术服务'},\n     'dataParams': '{\"jobKind\":\"2\",\"userId\":\"dfa6281ce1901b92ac3a8bd66bbaff1b\",\"jobId\":\"47677791\",\"imId\":\"59ffab98252e4f8e7df213eecf88c70c\",\"imUserType\":\"2\",\"recruiterName\":\"邹女士\",\"recruiterPhoto\":\"5f8f986779c7cc70efbf36c008u.jpg\"}',\n     'dataInfo': '%7B%22sfrom%22%3A%22search_job_pc%22%2C%22jobKind%22%3A%222%22%2C%22pageSize%22%3A%2240%22%2C%22curPage%22%3A%220%22%2C%22ckId%22%3A%22h2c8pxojavrmo1w785z7ueih2ybfpux8%22%2C%22scene%22%3A%22input%22%2C%22skId%22%3A%22h2c8pxojavrmo1w785z7ueih2ybfpux8%22%2C%22fkId%22%3A%22h2c8pxojavrmo1w785z7ueih2ybfpux8%22%2C%22jobId%22%3A%2247677791%22%2C%22d_curPage%22%3A%220%22%2C%22d_pageSize%22%3A%2240%22%2C%22as_from%22%3A%22search_prime%22%7D'},\n    {'job': {'labels': [],\n      'title': '产品经理',\n      'jobKind': '2',\n      'refreshTime': '20231018114755',\n      'jobId': '62294325',\n      'dq': '广州-越秀区',\n      'requireWorkYears': '一年以下',\n      'requireEduLevel': '本科',\n      'topJob': False,\n      'link': 'https://www.liepin.com/job/1962294325.shtml',\n      'salary': '2-3k',\n      'pcOuterLink': '',\n      'h5OuterLink': '',\n      'advViewFlag': False,\n      'dataPromId': 'd_sfrom=search_prime&d_ckId=null&d_curPage=0&d_pageSize=40&d_headId=null&d_posi=11&skId=h2c8pxojavrmo1w785z7ueih2ybfpux8&fkId=h2c8pxojavrmo1w785z7ueih2ybfpux8&ckId=h2c8pxojavrmo1w785z7ueih2ybfpux8&sfrom=search_job_pc&curPage=0&pageSize=40&index=11'},\n     'recruiter': {'chatted': False,\n      'recruiterId': '37c1c1684357f7ff69151732f8d7ab30',\n      'imId': 'e3d6f2a039288fc5d73654b30374fc3f',\n      'imUserType': '2',\n      'recruiterName': '乔女士',\n      'recruiterTitle': 'HR',\n      'recruiterPhoto': '5f8f98648dbe6273dcf8515508u.jpg'},\n     'comp': {'compId': 1616589,\n      'compName': '物腾联创',\n      'compScale': '1000-2000人',\n      'compLogo': '6257ccbdd6a15d1470cf371b05u.jpg',\n      'link': 'https://www.liepin.com/company/1616589/',\n      'compIndustry': '人力资源服务'},\n     'dataParams': '{\"jobKind\":\"2\",\"userId\":\"37c1c1684357f7ff69151732f8d7ab30\",\"jobId\":\"62294325\",\"imId\":\"e3d6f2a039288fc5d73654b30374fc3f\",\"imUserType\":\"2\",\"recruiterName\":\"乔女士\",\"recruiterPhoto\":\"5f8f98648dbe6273dcf8515508u.jpg\"}',\n     'dataInfo': '%7B%22sfrom%22%3A%22search_job_pc%22%2C%22jobKind%22%3A%222%22%2C%22pageSize%22%3A%2240%22%2C%22curPage%22%3A%220%22%2C%22ckId%22%3A%22h2c8pxojavrmo1w785z7ueih2ybfpux8%22%2C%22scene%22%3A%22input%22%2C%22skId%22%3A%22h2c8pxojavrmo1w785z7ueih2ybfpux8%22%2C%22fkId%22%3A%22h2c8pxojavrmo1w785z7ueih2ybfpux8%22%2C%22jobId%22%3A%2262294325%22%2C%22d_curPage%22%3A%220%22%2C%22d_pageSize%22%3A%2240%22%2C%22as_from%22%3A%22search_prime%22%7D'},\n    {'job': {'labels': ['市场推广', '市场策划', '活动策划'],\n      'title': '产品部经理',\n      'jobKind': '2',\n      'refreshTime': '20231020094104',\n      'jobId': '49672979',\n      'dq': '广州-越秀区',\n      'requireWorkYears': '一年以下',\n      'requireEduLevel': '统招本科',\n      'topJob': False,\n      'link': 'https://www.liepin.com/job/1949672979.shtml',\n      'salary': '薪资面议',\n      'pcOuterLink': '',\n      'h5OuterLink': '',\n      'advViewFlag': False,\n      'dataPromId': 'd_sfrom=search_prime&d_ckId=null&d_curPage=0&d_pageSize=40&d_headId=null&d_posi=12&skId=h2c8pxojavrmo1w785z7ueih2ybfpux8&fkId=h2c8pxojavrmo1w785z7ueih2ybfpux8&ckId=h2c8pxojavrmo1w785z7ueih2ybfpux8&sfrom=search_job_pc&curPage=0&pageSize=40&index=12'},\n     'recruiter': {'chatted': False,\n      'recruiterId': 'a2c0cead8ce973be7175822d71c97e09',\n      'imId': '541dfdd825d29fc067766a03c68ce883',\n      'imUserType': '2',\n      'recruiterName': '郎女士',\n      'recruiterTitle': 'HR',\n      'recruiterPhoto': '5f8f986779c7cc70efbf36c008u.jpg'},\n     'comp': {'compId': 12196661,\n      'compName': '赛基生物',\n      'compScale': '100-499人',\n      'compStage': '战略投资',\n      'compLogo': '5fd03c23b379773c7f5cadf203u.png',\n      'link': 'https://www.liepin.com/company/12196661/',\n      'compIndustry': '医疗器械'},\n     'dataParams': '{\"jobKind\":\"2\",\"userId\":\"a2c0cead8ce973be7175822d71c97e09\",\"jobId\":\"49672979\",\"imId\":\"541dfdd825d29fc067766a03c68ce883\",\"imUserType\":\"2\",\"recruiterName\":\"郎女士\",\"recruiterPhoto\":\"5f8f986779c7cc70efbf36c008u.jpg\"}',\n     'dataInfo': '%7B%22sfrom%22%3A%22search_job_pc%22%2C%22jobKind%22%3A%222%22%2C%22pageSize%22%3A%2240%22%2C%22curPage%22%3A%220%22%2C%22ckId%22%3A%22h2c8pxojavrmo1w785z7ueih2ybfpux8%22%2C%22scene%22%3A%22input%22%2C%22skId%22%3A%22h2c8pxojavrmo1w785z7ueih2ybfpux8%22%2C%22fkId%22%3A%22h2c8pxojavrmo1w785z7ueih2ybfpux8%22%2C%22jobId%22%3A%2249672979%22%2C%22d_curPage%22%3A%220%22%2C%22d_pageSize%22%3A%2240%22%2C%22as_from%22%3A%22search_prime%22%7D'},\n    {'job': {'labels': ['网络运维', '网络建设', '技术支持', 'IT/信息化领域'],\n      'title': '产品项目经理',\n      'jobKind': '2',\n      'refreshTime': '20220622090151',\n      'jobId': '50547857',\n      'dq': '广州',\n      'requireWorkYears': '一年以下',\n      'requireEduLevel': '大专',\n      'topJob': False,\n      'link': 'https://www.liepin.com/job/1950547857.shtml',\n      'salary': '5-8k',\n      'pcOuterLink': '',\n      'h5OuterLink': '',\n      'advViewFlag': False,\n      'dataPromId': 'd_sfrom=search_prime&d_ckId=null&d_curPage=0&d_pageSize=40&d_headId=null&d_posi=13&skId=h2c8pxojavrmo1w785z7ueih2ybfpux8&fkId=h2c8pxojavrmo1w785z7ueih2ybfpux8&ckId=h2c8pxojavrmo1w785z7ueih2ybfpux8&sfrom=search_job_pc&curPage=0&pageSize=40&index=13'},\n     'recruiter': {'chatted': False,\n      'recruiterId': '1c2f39cc43ee842b7cc33b42c16eda1f',\n      'imId': '7785bafdf628737ea44073f4eac7a607',\n      'imUserType': '2',\n      'recruiterName': '刘女士',\n      'recruiterTitle': '人事行政兼设计',\n      'recruiterPhoto': '5f8f9863f6d1ab58476f246a08u.jpg'},\n     'comp': {'compId': 9918077,\n      'compName': '远丰电子科技',\n      'compScale': '1-49人',\n      'compStage': '其他',\n      'compLogo': '60ec01c5f0ed4a6d8083f27903u.jpg',\n      'link': 'https://www.liepin.com/company/9918077/',\n      'compIndustry': '互联网'},\n     'dataParams': '{\"jobKind\":\"2\",\"userId\":\"1c2f39cc43ee842b7cc33b42c16eda1f\",\"jobId\":\"50547857\",\"imId\":\"7785bafdf628737ea44073f4eac7a607\",\"imUserType\":\"2\",\"recruiterName\":\"刘女士\",\"recruiterPhoto\":\"5f8f9863f6d1ab58476f246a08u.jpg\"}',\n     'dataInfo': '%7B%22sfrom%22%3A%22search_job_pc%22%2C%22jobKind%22%3A%222%22%2C%22pageSize%22%3A%2240%22%2C%22curPage%22%3A%220%22%2C%22ckId%22%3A%22h2c8pxojavrmo1w785z7ueih2ybfpux8%22%2C%22scene%22%3A%22input%22%2C%22skId%22%3A%22h2c8pxojavrmo1w785z7ueih2ybfpux8%22%2C%22fkId%22%3A%22h2c8pxojavrmo1w785z7ueih2ybfpux8%22%2C%22jobId%22%3A%2250547857%22%2C%22d_curPage%22%3A%220%22%2C%22d_pageSize%22%3A%2240%22%2C%22as_from%22%3A%22search_prime%22%7D'},\n    {'job': {'labels': [],\n      'title': '市场管培生',\n      'jobKind': '2',\n      'refreshTime': '20231027100020',\n      'jobId': '60310437',\n      'dq': '广州-南沙区',\n      'requireWorkYears': '一年以下',\n      'requireEduLevel': '硕士',\n      'topJob': False,\n      'link': 'https://www.liepin.com/job/1960310437.shtml',\n      'salary': '8-9k',\n      'pcOuterLink': '',\n      'h5OuterLink': '',\n      'advViewFlag': False,\n      'dataPromId': 'd_sfrom=search_prime&d_ckId=null&d_curPage=0&d_pageSize=40&d_headId=null&d_posi=14&skId=h2c8pxojavrmo1w785z7ueih2ybfpux8&fkId=h2c8pxojavrmo1w785z7ueih2ybfpux8&ckId=h2c8pxojavrmo1w785z7ueih2ybfpux8&sfrom=search_job_pc&curPage=0&pageSize=40&index=14'},\n     'recruiter': {'chatted': False,\n      'recruiterId': '66fc3f186883648b38dc55bf1989dfda',\n      'imId': '03a1045172c60232d0c9942d1c305c1a',\n      'imUserType': '2',\n      'recruiterName': '熊女士',\n      'recruiterTitle': '',\n      'recruiterPhoto': '5f8f9866dfb13a7dee342f1808u.jpg'},\n     'comp': {'compId': 9564431,\n      'compName': '广州市中创集团股份有限公司',\n      'compScale': '100-499人',\n      'compLogo': '5bfea4d274719d2aa34ccba203a.png',\n      'link': 'https://www.liepin.com/company/9564431/',\n      'compIndustry': '房地产开发经营'},\n     'dataParams': '{\"jobKind\":\"2\",\"userId\":\"66fc3f186883648b38dc55bf1989dfda\",\"jobId\":\"60310437\",\"imId\":\"03a1045172c60232d0c9942d1c305c1a\",\"imUserType\":\"2\",\"recruiterName\":\"熊女士\",\"recruiterPhoto\":\"5f8f9866dfb13a7dee342f1808u.jpg\"}',\n     'dataInfo': '%7B%22sfrom%22%3A%22search_job_pc%22%2C%22jobKind%22%3A%222%22%2C%22pageSize%22%3A%2240%22%2C%22curPage%22%3A%220%22%2C%22ckId%22%3A%22h2c8pxojavrmo1w785z7ueih2ybfpux8%22%2C%22scene%22%3A%22input%22%2C%22skId%22%3A%22h2c8pxojavrmo1w785z7ueih2ybfpux8%22%2C%22fkId%22%3A%22h2c8pxojavrmo1w785z7ueih2ybfpux8%22%2C%22jobId%22%3A%2260310437%22%2C%22d_curPage%22%3A%220%22%2C%22d_pageSize%22%3A%2240%22%2C%22as_from%22%3A%22search_prime%22%7D'},\n    {'job': {'labels': ['跨境电商', '产品规划', 'to C', '教育行业', '宠物用品'],\n      'title': '【可考虑应届生】亚马逊产品专员(J10118)',\n      'jobKind': '2',\n      'refreshTime': '20230830165450',\n      'jobId': '61248369',\n      'dq': '广州-海珠区',\n      'requireWorkYears': '一年以下',\n      'requireEduLevel': '本科',\n      'topJob': False,\n      'link': 'https://www.liepin.com/job/1961248369.shtml',\n      'salary': '6-9k',\n      'pcOuterLink': '',\n      'h5OuterLink': '',\n      'advViewFlag': False,\n      'dataPromId': 'd_sfrom=search_prime&d_ckId=null&d_curPage=0&d_pageSize=40&d_headId=null&d_posi=15&skId=h2c8pxojavrmo1w785z7ueih2ybfpux8&fkId=h2c8pxojavrmo1w785z7ueih2ybfpux8&ckId=h2c8pxojavrmo1w785z7ueih2ybfpux8&sfrom=search_job_pc&curPage=0&pageSize=40&index=15'},\n     'recruiter': {'chatted': False,\n      'recruiterId': '287a2a4c2680afcb55551cf4ec9eeba6',\n      'imId': 'fb5471a799630ca73c86c318be2f0240',\n      'imUserType': '2',\n      'recruiterName': '冯女士',\n      'recruiterTitle': 'HR',\n      'recruiterPhoto': '5f8f9865ea60860b75384fa508u.jpg'},\n     'comp': {'compId': 9189185,\n      'compName': '广州海葳特科技有限公司',\n      'compScale': '100-499人',\n      'compLogo': '5bfea30f74719d2aa34c779e03a.png',\n      'link': 'https://www.liepin.com/company/9189185/',\n      'compIndustry': '电子商务'},\n     'dataParams': '{\"jobKind\":\"2\",\"userId\":\"287a2a4c2680afcb55551cf4ec9eeba6\",\"jobId\":\"61248369\",\"imId\":\"fb5471a799630ca73c86c318be2f0240\",\"imUserType\":\"2\",\"recruiterName\":\"冯女士\",\"recruiterPhoto\":\"5f8f9865ea60860b75384fa508u.jpg\"}',\n     'dataInfo': '%7B%22sfrom%22%3A%22search_job_pc%22%2C%22jobKind%22%3A%222%22%2C%22pageSize%22%3A%2240%22%2C%22curPage%22%3A%220%22%2C%22ckId%22%3A%22h2c8pxojavrmo1w785z7ueih2ybfpux8%22%2C%22scene%22%3A%22input%22%2C%22skId%22%3A%22h2c8pxojavrmo1w785z7ueih2ybfpux8%22%2C%22fkId%22%3A%22h2c8pxojavrmo1w785z7ueih2ybfpux8%22%2C%22jobId%22%3A%2261248369%22%2C%22d_curPage%22%3A%220%22%2C%22d_pageSize%22%3A%2240%22%2C%22as_from%22%3A%22search_prime%22%7D'},\n    {'job': {'labels': ['java',\n       'mysql',\n       '数据库',\n       'oracle',\n       'sql',\n       'jquery',\n       'javascript',\n       'css',\n       'html',\n       'vue'],\n      'title': 'Java开发工程师',\n      'jobKind': '2',\n      'refreshTime': '20210918101154',\n      'jobId': '43372059',\n      'dq': '广州',\n      'requireWorkYears': '一年以下',\n      'requireEduLevel': '本科',\n      'topJob': False,\n      'link': 'https://www.liepin.com/job/1943372059.shtml',\n      'salary': '9-13k',\n      'pcOuterLink': '',\n      'h5OuterLink': '',\n      'advViewFlag': False,\n      'dataPromId': 'd_sfrom=search_prime&d_ckId=null&d_curPage=0&d_pageSize=40&d_headId=null&d_posi=16&skId=h2c8pxojavrmo1w785z7ueih2ybfpux8&fkId=h2c8pxojavrmo1w785z7ueih2ybfpux8&ckId=h2c8pxojavrmo1w785z7ueih2ybfpux8&sfrom=search_job_pc&curPage=0&pageSize=40&index=16'},\n     'recruiter': {'chatted': False,\n      'recruiterId': '608775f376415e5c6081fd0bbae6dda2',\n      'imId': '48e96e9d704db9a4cefc0e440455247a',\n      'imUserType': '2',\n      'recruiterName': '林女士',\n      'recruiterTitle': 'HR',\n      'recruiterPhoto': '5f8f986779c7cc70efbf36c008u.jpg'},\n     'comp': {'compId': 7896551,\n      'compName': '万达宝(广州)软件有限公司',\n      'compScale': '100-499人',\n      'compLogo': '61b07937d0458d53c627567e02u.jpg',\n      'link': 'https://www.liepin.com/company/7896551/',\n      'compIndustry': '计算机软件'},\n     'dataParams': '{\"jobKind\":\"2\",\"userId\":\"608775f376415e5c6081fd0bbae6dda2\",\"jobId\":\"43372059\",\"imId\":\"48e96e9d704db9a4cefc0e440455247a\",\"imUserType\":\"2\",\"recruiterName\":\"林女士\",\"recruiterPhoto\":\"5f8f986779c7cc70efbf36c008u.jpg\"}',\n     'dataInfo': '%7B%22sfrom%22%3A%22search_job_pc%22%2C%22jobKind%22%3A%222%22%2C%22pageSize%22%3A%2240%22%2C%22curPage%22%3A%220%22%2C%22ckId%22%3A%22h2c8pxojavrmo1w785z7ueih2ybfpux8%22%2C%22scene%22%3A%22input%22%2C%22skId%22%3A%22h2c8pxojavrmo1w785z7ueih2ybfpux8%22%2C%22fkId%22%3A%22h2c8pxojavrmo1w785z7ueih2ybfpux8%22%2C%22jobId%22%3A%2243372059%22%2C%22d_curPage%22%3A%220%22%2C%22d_pageSize%22%3A%2240%22%2C%22as_from%22%3A%22search_prime%22%7D'},\n    {'job': {'labels': ['货运代理', '物流跟单', '报关报检', '物流管理'],\n      'title': '空运跟单/空运操作 Operation',\n      'jobKind': '2',\n      'refreshTime': '20220511104217',\n      'jobId': '49548723',\n      'dq': '广州-越秀区',\n      'requireWorkYears': '一年以下',\n      'requireEduLevel': '大专',\n      'topJob': False,\n      'link': 'https://www.liepin.com/job/1949548723.shtml',\n      'salary': '5-7k',\n      'pcOuterLink': '',\n      'h5OuterLink': '',\n      'advViewFlag': False,\n      'dataPromId': 'd_sfrom=search_prime&d_ckId=null&d_curPage=0&d_pageSize=40&d_headId=null&d_posi=17&skId=h2c8pxojavrmo1w785z7ueih2ybfpux8&fkId=h2c8pxojavrmo1w785z7ueih2ybfpux8&ckId=h2c8pxojavrmo1w785z7ueih2ybfpux8&sfrom=search_job_pc&curPage=0&pageSize=40&index=17'},\n     'recruiter': {'chatted': False,\n      'recruiterId': '2e8b14e73b832948d2d955615bad5fb2',\n      'imId': '4f757f38dcdd7cfb41091ec5058ff2a4',\n      'imUserType': '2',\n      'recruiterName': '阮女士',\n      'recruiterTitle': '人事专员',\n      'recruiterPhoto': '5f8f9865ea60860b75384fa508u.jpg'},\n     'comp': {'compId': 12282719,\n      'compName': '广州市速为国际货运代理有限公司',\n      'compScale': '1-49人',\n      'compStage': '融资未公开',\n      'compLogo': '61b07937d0458d53c627567e02u.jpg',\n      'link': 'https://www.liepin.com/company/12282719/',\n      'compIndustry': '货运/物流/仓储'},\n     'dataParams': '{\"jobKind\":\"2\",\"userId\":\"2e8b14e73b832948d2d955615bad5fb2\",\"jobId\":\"49548723\",\"imId\":\"4f757f38dcdd7cfb41091ec5058ff2a4\",\"imUserType\":\"2\",\"recruiterName\":\"阮女士\",\"recruiterPhoto\":\"5f8f9865ea60860b75384fa508u.jpg\"}',\n     'dataInfo': '%7B%22sfrom%22%3A%22search_job_pc%22%2C%22jobKind%22%3A%222%22%2C%22pageSize%22%3A%2240%22%2C%22curPage%22%3A%220%22%2C%22ckId%22%3A%22h2c8pxojavrmo1w785z7ueih2ybfpux8%22%2C%22scene%22%3A%22input%22%2C%22skId%22%3A%22h2c8pxojavrmo1w785z7ueih2ybfpux8%22%2C%22fkId%22%3A%22h2c8pxojavrmo1w785z7ueih2ybfpux8%22%2C%22jobId%22%3A%2249548723%22%2C%22d_curPage%22%3A%220%22%2C%22d_pageSize%22%3A%2240%22%2C%22as_from%22%3A%22search_prime%22%7D'},\n    {'job': {'labels': ['网络营销'],\n      'title': '网络推广专员',\n      'jobKind': '2',\n      'refreshTime': '20200616160400',\n      'jobId': '29224463',\n      'dq': '广州-番禺区',\n      'requireWorkYears': '一年以下',\n      'requireEduLevel': '大专',\n      'topJob': False,\n      'link': 'https://www.liepin.com/job/1929224463.shtml',\n      'salary': '5-10k',\n      'pcOuterLink': '',\n      'h5OuterLink': '',\n      'advViewFlag': False,\n      'dataPromId': 'd_sfrom=search_prime&d_ckId=null&d_curPage=0&d_pageSize=40&d_headId=null&d_posi=18&skId=h2c8pxojavrmo1w785z7ueih2ybfpux8&fkId=h2c8pxojavrmo1w785z7ueih2ybfpux8&ckId=h2c8pxojavrmo1w785z7ueih2ybfpux8&sfrom=search_job_pc&curPage=0&pageSize=40&index=18'},\n     'recruiter': {'chatted': False,\n      'recruiterId': 'fdc1eb08f778239abdedd4738ebe67c9',\n      'imId': 'b30f020da43d02d61b4fb320fc878e26',\n      'imUserType': '2',\n      'recruiterName': '孔先生',\n      'recruiterTitle': '客户发展部经理',\n      'recruiterPhoto': '5f8f986bdfb13a7dee342f2108u.jpg'},\n     'comp': {'compId': 8860565,\n      'compName': '百度国际科技(深圳)有限公司',\n      'compScale': '1000-2000人',\n      'compStage': '融资未公开',\n      'compLogo': '5eb78f0cf254020457420a3b06u.jpg',\n      'link': 'https://www.liepin.com/company/8860565/',\n      'compIndustry': '互联网'},\n     'dataParams': '{\"jobKind\":\"2\",\"userId\":\"fdc1eb08f778239abdedd4738ebe67c9\",\"jobId\":\"29224463\",\"imId\":\"b30f020da43d02d61b4fb320fc878e26\",\"imUserType\":\"2\",\"recruiterName\":\"孔先生\",\"recruiterPhoto\":\"5f8f986bdfb13a7dee342f2108u.jpg\"}',\n     'dataInfo': '%7B%22sfrom%22%3A%22search_job_pc%22%2C%22jobKind%22%3A%222%22%2C%22pageSize%22%3A%2240%22%2C%22curPage%22%3A%220%22%2C%22ckId%22%3A%22h2c8pxojavrmo1w785z7ueih2ybfpux8%22%2C%22scene%22%3A%22input%22%2C%22skId%22%3A%22h2c8pxojavrmo1w785z7ueih2ybfpux8%22%2C%22fkId%22%3A%22h2c8pxojavrmo1w785z7ueih2ybfpux8%22%2C%22jobId%22%3A%2229224463%22%2C%22d_curPage%22%3A%220%22%2C%22d_pageSize%22%3A%2240%22%2C%22as_from%22%3A%22search_prime%22%7D'},\n    {'job': {'labels': ['网络营销'],\n      'title': '网络推广专员',\n      'jobKind': '2',\n      'refreshTime': '20210112204404',\n      'jobId': '35035533',\n      'dq': '广州',\n      'requireWorkYears': '一年以下',\n      'requireEduLevel': '大专',\n      'topJob': False,\n      'link': 'https://www.liepin.com/job/1935035533.shtml',\n      'salary': '5-10k',\n      'pcOuterLink': '',\n      'h5OuterLink': '',\n      'advViewFlag': False,\n      'dataPromId': 'd_sfrom=search_prime&d_ckId=null&d_curPage=0&d_pageSize=40&d_headId=null&d_posi=19&skId=h2c8pxojavrmo1w785z7ueih2ybfpux8&fkId=h2c8pxojavrmo1w785z7ueih2ybfpux8&ckId=h2c8pxojavrmo1w785z7ueih2ybfpux8&sfrom=search_job_pc&curPage=0&pageSize=40&index=19'},\n     'recruiter': {'chatted': False,\n      'recruiterId': '3789b2e4fbf5d2f8f19e0ad6a98742b4',\n      'imId': 'a7c3b56606702f91e4cd5c055e1e05ce',\n      'imUserType': '2',\n      'recruiterName': '赵女士',\n      'recruiterTitle': '高级销售经理',\n      'recruiterPhoto': '5f8f9865ea60860b75384fa508u.jpg'},\n     'comp': {'compId': 8860565,\n      'compName': '百度国际科技(深圳)有限公司',\n      'compScale': '1000-2000人',\n      'compStage': '融资未公开',\n      'compLogo': '5eb78f0cf254020457420a3b06u.jpg',\n      'link': 'https://www.liepin.com/company/8860565/',\n      'compIndustry': '互联网'},\n     'dataParams': '{\"jobKind\":\"2\",\"userId\":\"3789b2e4fbf5d2f8f19e0ad6a98742b4\",\"jobId\":\"35035533\",\"imId\":\"a7c3b56606702f91e4cd5c055e1e05ce\",\"imUserType\":\"2\",\"recruiterName\":\"赵女士\",\"recruiterPhoto\":\"5f8f9865ea60860b75384fa508u.jpg\"}',\n     'dataInfo': '%7B%22sfrom%22%3A%22search_job_pc%22%2C%22jobKind%22%3A%222%22%2C%22pageSize%22%3A%2240%22%2C%22curPage%22%3A%220%22%2C%22ckId%22%3A%22h2c8pxojavrmo1w785z7ueih2ybfpux8%22%2C%22scene%22%3A%22input%22%2C%22skId%22%3A%22h2c8pxojavrmo1w785z7ueih2ybfpux8%22%2C%22fkId%22%3A%22h2c8pxojavrmo1w785z7ueih2ybfpux8%22%2C%22jobId%22%3A%2235035533%22%2C%22d_curPage%22%3A%220%22%2C%22d_pageSize%22%3A%2240%22%2C%22as_from%22%3A%22search_prime%22%7D'},\n    {'job': {'labels': ['电话销售'],\n      'title': '电话销售',\n      'jobKind': '2',\n      'refreshTime': '20200616160346',\n      'jobId': '29224551',\n      'dq': '广州-番禺区',\n      'requireWorkYears': '一年以下',\n      'requireEduLevel': '大专',\n      'topJob': False,\n      'link': 'https://www.liepin.com/job/1929224551.shtml',\n      'salary': '5-8k',\n      'pcOuterLink': '',\n      'h5OuterLink': '',\n      'advViewFlag': False,\n      'dataPromId': 'd_sfrom=search_prime&d_ckId=null&d_curPage=0&d_pageSize=40&d_headId=null&d_posi=20&skId=h2c8pxojavrmo1w785z7ueih2ybfpux8&fkId=h2c8pxojavrmo1w785z7ueih2ybfpux8&ckId=h2c8pxojavrmo1w785z7ueih2ybfpux8&sfrom=search_job_pc&curPage=0&pageSize=40&index=20'},\n     'recruiter': {'chatted': False,\n      'recruiterId': 'fdc1eb08f778239abdedd4738ebe67c9',\n      'imId': 'b30f020da43d02d61b4fb320fc878e26',\n      'imUserType': '2',\n      'recruiterName': '孔先生',\n      'recruiterTitle': '客户发展部经理',\n      'recruiterPhoto': '5f8f986bdfb13a7dee342f2108u.jpg'},\n     'comp': {'compId': 8860565,\n      'compName': '百度国际科技(深圳)有限公司',\n      'compScale': '1000-2000人',\n      'compStage': '融资未公开',\n      'compLogo': '5eb78f0cf254020457420a3b06u.jpg',\n      'link': 'https://www.liepin.com/company/8860565/',\n      'compIndustry': '互联网'},\n     'dataParams': '{\"jobKind\":\"2\",\"userId\":\"fdc1eb08f778239abdedd4738ebe67c9\",\"jobId\":\"29224551\",\"imId\":\"b30f020da43d02d61b4fb320fc878e26\",\"imUserType\":\"2\",\"recruiterName\":\"孔先生\",\"recruiterPhoto\":\"5f8f986bdfb13a7dee342f2108u.jpg\"}',\n     'dataInfo': '%7B%22sfrom%22%3A%22search_job_pc%22%2C%22jobKind%22%3A%222%22%2C%22pageSize%22%3A%2240%22%2C%22curPage%22%3A%220%22%2C%22ckId%22%3A%22h2c8pxojavrmo1w785z7ueih2ybfpux8%22%2C%22scene%22%3A%22input%22%2C%22skId%22%3A%22h2c8pxojavrmo1w785z7ueih2ybfpux8%22%2C%22fkId%22%3A%22h2c8pxojavrmo1w785z7ueih2ybfpux8%22%2C%22jobId%22%3A%2229224551%22%2C%22d_curPage%22%3A%220%22%2C%22d_pageSize%22%3A%2240%22%2C%22as_from%22%3A%22search_prime%22%7D'},\n    {'job': {'labels': ['华南市场', '直销'],\n      'title': '销售代表',\n      'jobKind': '2',\n      'refreshTime': '20200616160418',\n      'jobId': '29224373',\n      'dq': '广州-番禺区',\n      'requireWorkYears': '一年以下',\n      'requireEduLevel': '大专',\n      'topJob': False,\n      'link': 'https://www.liepin.com/job/1929224373.shtml',\n      'salary': '5-8k',\n      'pcOuterLink': '',\n      'h5OuterLink': '',\n      'advViewFlag': False,\n      'dataPromId': 'd_sfrom=search_prime&d_ckId=null&d_curPage=0&d_pageSize=40&d_headId=null&d_posi=21&skId=h2c8pxojavrmo1w785z7ueih2ybfpux8&fkId=h2c8pxojavrmo1w785z7ueih2ybfpux8&ckId=h2c8pxojavrmo1w785z7ueih2ybfpux8&sfrom=search_job_pc&curPage=0&pageSize=40&index=21'},\n     'recruiter': {'chatted': False,\n      'recruiterId': 'fdc1eb08f778239abdedd4738ebe67c9',\n      'imId': 'b30f020da43d02d61b4fb320fc878e26',\n      'imUserType': '2',\n      'recruiterName': '孔先生',\n      'recruiterTitle': '客户发展部经理',\n      'recruiterPhoto': '5f8f986bdfb13a7dee342f2108u.jpg'},\n     'comp': {'compId': 8860565,\n      'compName': '百度国际科技(深圳)有限公司',\n      'compScale': '1000-2000人',\n      'compStage': '融资未公开',\n      'compLogo': '5eb78f0cf254020457420a3b06u.jpg',\n      'link': 'https://www.liepin.com/company/8860565/',\n      'compIndustry': '互联网'},\n     'dataParams': '{\"jobKind\":\"2\",\"userId\":\"fdc1eb08f778239abdedd4738ebe67c9\",\"jobId\":\"29224373\",\"imId\":\"b30f020da43d02d61b4fb320fc878e26\",\"imUserType\":\"2\",\"recruiterName\":\"孔先生\",\"recruiterPhoto\":\"5f8f986bdfb13a7dee342f2108u.jpg\"}',\n     'dataInfo': '%7B%22sfrom%22%3A%22search_job_pc%22%2C%22jobKind%22%3A%222%22%2C%22pageSize%22%3A%2240%22%2C%22curPage%22%3A%220%22%2C%22ckId%22%3A%22h2c8pxojavrmo1w785z7ueih2ybfpux8%22%2C%22scene%22%3A%22input%22%2C%22skId%22%3A%22h2c8pxojavrmo1w785z7ueih2ybfpux8%22%2C%22fkId%22%3A%22h2c8pxojavrmo1w785z7ueih2ybfpux8%22%2C%22jobId%22%3A%2229224373%22%2C%22d_curPage%22%3A%220%22%2C%22d_pageSize%22%3A%2240%22%2C%22as_from%22%3A%22search_prime%22%7D'},\n    {'job': {'labels': [],\n      'title': '硬件开发工程师',\n      'jobKind': '2',\n      'refreshTime': '20231008113434',\n      'jobId': '62032031',\n      'dq': '广州',\n      'requireWorkYears': '一年以下',\n      'requireEduLevel': '本科',\n      'topJob': False,\n      'link': 'https://www.liepin.com/job/1962032031.shtml',\n      'salary': '6-8k',\n      'pcOuterLink': '',\n      'h5OuterLink': '',\n      'advViewFlag': False,\n      'dataPromId': 'd_sfrom=search_prime&d_ckId=null&d_curPage=0&d_pageSize=40&d_headId=null&d_posi=22&skId=h2c8pxojavrmo1w785z7ueih2ybfpux8&fkId=h2c8pxojavrmo1w785z7ueih2ybfpux8&ckId=h2c8pxojavrmo1w785z7ueih2ybfpux8&sfrom=search_job_pc&curPage=0&pageSize=40&index=22'},\n     'recruiter': {'chatted': False,\n      'recruiterId': '41c10efd20dba29b28c239e3e45be7be',\n      'imId': '81e6423a39bfd1636042c177f0a1d2b1',\n      'imUserType': '2',\n      'recruiterName': '杨女士',\n      'recruiterTitle': '副总',\n      'recruiterPhoto': '6223256b018d734eebe72c1d06u.png'},\n     'comp': {'compId': 7895506,\n      'compName': '广州市瑞立德信息系统有限公司',\n      'compScale': '50-99人',\n      'compStage': '融资未公开',\n      'compLogo': '6178b24fd534f67a0634f98a05u.png',\n      'link': 'https://www.liepin.com/company/7895506/',\n      'compIndustry': '计算机软件'},\n     'dataParams': '{\"jobKind\":\"2\",\"userId\":\"41c10efd20dba29b28c239e3e45be7be\",\"jobId\":\"62032031\",\"imId\":\"81e6423a39bfd1636042c177f0a1d2b1\",\"imUserType\":\"2\",\"recruiterName\":\"杨女士\",\"recruiterPhoto\":\"6223256b018d734eebe72c1d06u.png\"}',\n     'dataInfo': '%7B%22sfrom%22%3A%22search_job_pc%22%2C%22jobKind%22%3A%222%22%2C%22pageSize%22%3A%2240%22%2C%22curPage%22%3A%220%22%2C%22ckId%22%3A%22h2c8pxojavrmo1w785z7ueih2ybfpux8%22%2C%22scene%22%3A%22input%22%2C%22skId%22%3A%22h2c8pxojavrmo1w785z7ueih2ybfpux8%22%2C%22fkId%22%3A%22h2c8pxojavrmo1w785z7ueih2ybfpux8%22%2C%22jobId%22%3A%2262032031%22%2C%22d_curPage%22%3A%220%22%2C%22d_pageSize%22%3A%2240%22%2C%22as_from%22%3A%22search_prime%22%7D'},\n    {'job': {'labels': ['saas', '咨询服务', 'to B', 'IT/互联网/软件'],\n      'title': '大客户销售顾问',\n      'jobKind': '2',\n      'refreshTime': '20220608105013',\n      'jobId': '50050439',\n      'dq': '广州-黄埔区',\n      'requireWorkYears': '一年以下',\n      'requireEduLevel': '学历不限',\n      'topJob': False,\n      'link': 'https://www.liepin.com/job/1950050439.shtml',\n      'salary': '4-9k',\n      'pcOuterLink': '',\n      'h5OuterLink': '',\n      'advViewFlag': False,\n      'dataPromId': 'd_sfrom=search_prime&d_ckId=null&d_curPage=0&d_pageSize=40&d_headId=null&d_posi=23&skId=h2c8pxojavrmo1w785z7ueih2ybfpux8&fkId=h2c8pxojavrmo1w785z7ueih2ybfpux8&ckId=h2c8pxojavrmo1w785z7ueih2ybfpux8&sfrom=search_job_pc&curPage=0&pageSize=40&index=23'},\n     'recruiter': {'chatted': False,\n      'recruiterId': '1e8b07391518bf7cbf8a25ba3a700bd8',\n      'imId': 'f93c76b5557c11d8c62254bb58ecf996',\n      'imUserType': '2',\n      'recruiterName': '王先生',\n      'recruiterTitle': '咨询总监',\n      'recruiterPhoto': '6295862be1a73c6342ec03bf01u.png'},\n     'comp': {'compId': 13229415,\n      'compName': '深圳大管加软件与技术服务有限公司广州分公司',\n      'compScale': '100-499人',\n      'compLogo': '6244dcfd327ecf47c93c385804u.jpg',\n      'link': 'https://www.liepin.com/company/13229415/',\n      'compIndustry': 'IT服务'},\n     'dataParams': '{\"jobKind\":\"2\",\"userId\":\"1e8b07391518bf7cbf8a25ba3a700bd8\",\"jobId\":\"50050439\",\"imId\":\"f93c76b5557c11d8c62254bb58ecf996\",\"imUserType\":\"2\",\"recruiterName\":\"王先生\",\"recruiterPhoto\":\"6295862be1a73c6342ec03bf01u.png\"}',\n     'dataInfo': '%7B%22sfrom%22%3A%22search_job_pc%22%2C%22jobKind%22%3A%222%22%2C%22pageSize%22%3A%2240%22%2C%22curPage%22%3A%220%22%2C%22ckId%22%3A%22h2c8pxojavrmo1w785z7ueih2ybfpux8%22%2C%22scene%22%3A%22input%22%2C%22skId%22%3A%22h2c8pxojavrmo1w785z7ueih2ybfpux8%22%2C%22fkId%22%3A%22h2c8pxojavrmo1w785z7ueih2ybfpux8%22%2C%22jobId%22%3A%2250050439%22%2C%22d_curPage%22%3A%220%22%2C%22d_pageSize%22%3A%2240%22%2C%22as_from%22%3A%22search_prime%22%7D'},\n    {'job': {'labels': [],\n      'title': '供应链管培生',\n      'jobKind': '2',\n      'refreshTime': '20221102113009',\n      'jobId': '53534059',\n      'dq': '广州-天河区',\n      'requireWorkYears': '一年以下',\n      'requireEduLevel': '统招本科',\n      'topJob': False,\n      'link': 'https://www.liepin.com/job/1953534059.shtml',\n      'salary': '8-10k',\n      'pcOuterLink': '',\n      'h5OuterLink': '',\n      'advViewFlag': False,\n      'dataPromId': 'd_sfrom=search_prime&d_ckId=null&d_curPage=0&d_pageSize=40&d_headId=null&d_posi=24&skId=h2c8pxojavrmo1w785z7ueih2ybfpux8&fkId=h2c8pxojavrmo1w785z7ueih2ybfpux8&ckId=h2c8pxojavrmo1w785z7ueih2ybfpux8&sfrom=search_job_pc&curPage=0&pageSize=40&index=24'},\n     'recruiter': {'chatted': False,\n      'recruiterId': 'f73e6c4f154fd2ab647c8190ea0ac544',\n      'imId': 'f2786b632b3798d0e613caf6959a29cf',\n      'imUserType': '2',\n      'recruiterName': '吴女士',\n      'recruiterTitle': '人事主管',\n      'recruiterPhoto': '5f8f9863f6d1ab58476f246a08u.jpg'},\n     'comp': {'compId': 12556077,\n      'compName': '德致商成集团',\n      'compScale': '100-499人',\n      'compLogo': '60371c165f6e0b3bf7afd1fe08u.png',\n      'link': 'https://www.liepin.com/company/12556077/',\n      'compIndustry': '互联网'},\n     'dataParams': '{\"jobKind\":\"2\",\"userId\":\"f73e6c4f154fd2ab647c8190ea0ac544\",\"jobId\":\"53534059\",\"imId\":\"f2786b632b3798d0e613caf6959a29cf\",\"imUserType\":\"2\",\"recruiterName\":\"吴女士\",\"recruiterPhoto\":\"5f8f9863f6d1ab58476f246a08u.jpg\"}',\n     'dataInfo': '%7B%22sfrom%22%3A%22search_job_pc%22%2C%22jobKind%22%3A%222%22%2C%22pageSize%22%3A%2240%22%2C%22curPage%22%3A%220%22%2C%22ckId%22%3A%22h2c8pxojavrmo1w785z7ueih2ybfpux8%22%2C%22scene%22%3A%22input%22%2C%22skId%22%3A%22h2c8pxojavrmo1w785z7ueih2ybfpux8%22%2C%22fkId%22%3A%22h2c8pxojavrmo1w785z7ueih2ybfpux8%22%2C%22jobId%22%3A%2253534059%22%2C%22d_curPage%22%3A%220%22%2C%22d_pageSize%22%3A%2240%22%2C%22as_from%22%3A%22search_prime%22%7D'},\n    {'job': {'labels': ['跨境电商平台', '亚马逊', '英语运营', 'Amazon', '电子商务'],\n      'title': '亚马逊初级运营',\n      'jobKind': '2',\n      'refreshTime': '20231027105620',\n      'jobId': '60830001',\n      'dq': '广州-番禺区',\n      'requireWorkYears': '一年以下',\n      'requireEduLevel': '本科',\n      'topJob': False,\n      'link': 'https://www.liepin.com/job/1960830001.shtml',\n      'salary': '4-6k',\n      'pcOuterLink': '',\n      'h5OuterLink': '',\n      'advViewFlag': False,\n      'dataPromId': 'd_sfrom=search_prime&d_ckId=null&d_curPage=0&d_pageSize=40&d_headId=null&d_posi=25&skId=h2c8pxojavrmo1w785z7ueih2ybfpux8&fkId=h2c8pxojavrmo1w785z7ueih2ybfpux8&ckId=h2c8pxojavrmo1w785z7ueih2ybfpux8&sfrom=search_job_pc&curPage=0&pageSize=40&index=25'},\n     'recruiter': {'chatted': False,\n      'recruiterId': 'a4331cf4ce079e113243085ea92fa014',\n      'imId': '6ea2a78a9b023250e70dc0cfcb4da503',\n      'imUserType': '2',\n      'recruiterName': '吴女士',\n      'recruiterTitle': '',\n      'recruiterPhoto': '5f8f9865ea60860b75384fa508u.jpg'},\n     'comp': {'compId': 13412183,\n      'compName': '优诺创新',\n      'compScale': '100-499人',\n      'compStage': '其他',\n      'compLogo': '63f33b78d97d2f1d3a43024808u.jpg',\n      'link': 'https://www.liepin.com/company/13412183/',\n      'compIndustry': '电子商务'},\n     'dataParams': '{\"jobKind\":\"2\",\"userId\":\"a4331cf4ce079e113243085ea92fa014\",\"jobId\":\"60830001\",\"imId\":\"6ea2a78a9b023250e70dc0cfcb4da503\",\"imUserType\":\"2\",\"recruiterName\":\"吴女士\",\"recruiterPhoto\":\"5f8f9865ea60860b75384fa508u.jpg\"}',\n     'dataInfo': '%7B%22sfrom%22%3A%22search_job_pc%22%2C%22jobKind%22%3A%222%22%2C%22pageSize%22%3A%2240%22%2C%22curPage%22%3A%220%22%2C%22ckId%22%3A%22h2c8pxojavrmo1w785z7ueih2ybfpux8%22%2C%22scene%22%3A%22input%22%2C%22skId%22%3A%22h2c8pxojavrmo1w785z7ueih2ybfpux8%22%2C%22fkId%22%3A%22h2c8pxojavrmo1w785z7ueih2ybfpux8%22%2C%22jobId%22%3A%2260830001%22%2C%22d_curPage%22%3A%220%22%2C%22d_pageSize%22%3A%2240%22%2C%22as_from%22%3A%22search_prime%22%7D'},\n    {'job': {'labels': [],\n      'title': '学术推广代表',\n      'jobKind': '2',\n      'refreshTime': '20231027093951',\n      'jobId': '53992879',\n      'dq': '广州',\n      'requireWorkYears': '一年以下',\n      'requireEduLevel': '大专',\n      'topJob': False,\n      'link': 'https://www.liepin.com/job/1953992879.shtml',\n      'salary': '8-10k',\n      'pcOuterLink': '',\n      'h5OuterLink': '',\n      'advViewFlag': False,\n      'dataPromId': 'd_sfrom=search_prime&d_ckId=null&d_curPage=0&d_pageSize=40&d_headId=null&d_posi=26&skId=h2c8pxojavrmo1w785z7ueih2ybfpux8&fkId=h2c8pxojavrmo1w785z7ueih2ybfpux8&ckId=h2c8pxojavrmo1w785z7ueih2ybfpux8&sfrom=search_job_pc&curPage=0&pageSize=40&index=26'},\n     'recruiter': {'chatted': False,\n      'recruiterId': '2066e6b08625d6be4e24b686c74d20bf',\n      'imId': '1788432f70562a8901ab80e4a8b96567',\n      'imUserType': '2',\n      'recruiterName': '马女士',\n      'recruiterTitle': '招聘专员',\n      'recruiterPhoto': '5f8f986779c7cc70efbf36c008u.jpg'},\n     'comp': {'compId': 8501198,\n      'compName': '山西仟源医药集团',\n      'compScale': '1000-2000人',\n      'compStage': '沪深A股上市',\n      'compLogo': '5bfea3a774719d2aa34c942203a.png',\n      'link': 'https://www.liepin.com/company/8501198/',\n      'compIndustry': '制药'},\n     'dataParams': '{\"jobKind\":\"2\",\"userId\":\"2066e6b08625d6be4e24b686c74d20bf\",\"jobId\":\"53992879\",\"imId\":\"1788432f70562a8901ab80e4a8b96567\",\"imUserType\":\"2\",\"recruiterName\":\"马女士\",\"recruiterPhoto\":\"5f8f986779c7cc70efbf36c008u.jpg\"}',\n     'dataInfo': '%7B%22sfrom%22%3A%22search_job_pc%22%2C%22jobKind%22%3A%222%22%2C%22pageSize%22%3A%2240%22%2C%22curPage%22%3A%220%22%2C%22ckId%22%3A%22h2c8pxojavrmo1w785z7ueih2ybfpux8%22%2C%22scene%22%3A%22input%22%2C%22skId%22%3A%22h2c8pxojavrmo1w785z7ueih2ybfpux8%22%2C%22fkId%22%3A%22h2c8pxojavrmo1w785z7ueih2ybfpux8%22%2C%22jobId%22%3A%2253992879%22%2C%22d_curPage%22%3A%220%22%2C%22d_pageSize%22%3A%2240%22%2C%22as_from%22%3A%22search_prime%22%7D'},\n    {'job': {'labels': ['电商产品', '数据分析', '市场调研', '用户研究', '产品规划'],\n      'title': '产品专员',\n      'jobKind': '2',\n      'refreshTime': '20230808145205',\n      'jobId': '60635847',\n      'dq': '广州',\n      'requireWorkYears': '一年以下',\n      'requireEduLevel': '本科',\n      'topJob': False,\n      'link': 'https://www.liepin.com/job/1960635847.shtml',\n      'salary': '6-8k',\n      'pcOuterLink': '',\n      'h5OuterLink': '',\n      'advViewFlag': False,\n      'dataPromId': 'd_sfrom=search_prime&d_ckId=null&d_curPage=0&d_pageSize=40&d_headId=null&d_posi=27&skId=h2c8pxojavrmo1w785z7ueih2ybfpux8&fkId=h2c8pxojavrmo1w785z7ueih2ybfpux8&ckId=h2c8pxojavrmo1w785z7ueih2ybfpux8&sfrom=search_job_pc&curPage=0&pageSize=40&index=27'},\n     'recruiter': {'chatted': False,\n      'recruiterId': '528a209e898d0f3ab991345999de7b11',\n      'imId': 'd6ff48a4ac8b1f0e2980490a0cdf2257',\n      'imUserType': '2',\n      'recruiterName': '曾女士',\n      'recruiterTitle': '人力资源经理',\n      'recruiterPhoto': '59cb62467832e11b880bc09f06a.png'},\n     'comp': {'compId': 9189185,\n      'compName': '广州海葳特科技有限公司',\n      'compScale': '100-499人',\n      'compLogo': '5bfea30f74719d2aa34c779e03a.png',\n      'link': 'https://www.liepin.com/company/9189185/',\n      'compIndustry': '电子商务'},\n     'dataParams': '{\"jobKind\":\"2\",\"userId\":\"528a209e898d0f3ab991345999de7b11\",\"jobId\":\"60635847\",\"imId\":\"d6ff48a4ac8b1f0e2980490a0cdf2257\",\"imUserType\":\"2\",\"recruiterName\":\"曾女士\",\"recruiterPhoto\":\"59cb62467832e11b880bc09f06a.png\"}',\n     'dataInfo': '%7B%22sfrom%22%3A%22search_job_pc%22%2C%22jobKind%22%3A%222%22%2C%22pageSize%22%3A%2240%22%2C%22curPage%22%3A%220%22%2C%22ckId%22%3A%22h2c8pxojavrmo1w785z7ueih2ybfpux8%22%2C%22scene%22%3A%22input%22%2C%22skId%22%3A%22h2c8pxojavrmo1w785z7ueih2ybfpux8%22%2C%22fkId%22%3A%22h2c8pxojavrmo1w785z7ueih2ybfpux8%22%2C%22jobId%22%3A%2260635847%22%2C%22d_curPage%22%3A%220%22%2C%22d_pageSize%22%3A%2240%22%2C%22as_from%22%3A%22search_prime%22%7D'},\n    {'job': {'labels': ['化妆品原料', '化妆品包装'],\n      'title': '采购文员',\n      'jobKind': '2',\n      'refreshTime': '20231026155015',\n      'jobId': '62441777',\n      'dq': '广州-花都区',\n      'requireWorkYears': '一年以下',\n      'requireEduLevel': '大专',\n      'topJob': False,\n      'link': 'https://www.liepin.com/job/1962441777.shtml',\n      'salary': '4-6k',\n      'pcOuterLink': '',\n      'h5OuterLink': '',\n      'advViewFlag': False,\n      'dataPromId': 'd_sfrom=search_prime&d_ckId=null&d_curPage=0&d_pageSize=40&d_headId=null&d_posi=28&skId=h2c8pxojavrmo1w785z7ueih2ybfpux8&fkId=h2c8pxojavrmo1w785z7ueih2ybfpux8&ckId=h2c8pxojavrmo1w785z7ueih2ybfpux8&sfrom=search_job_pc&curPage=0&pageSize=40&index=28'},\n     'recruiter': {'chatted': False,\n      'recruiterId': '215516b87e6fafca9aed82e7eb047b30',\n      'imId': '51fc1720a272b3b68f669bb17ec3d8eb',\n      'imUserType': '2',\n      'recruiterName': '匡女士',\n      'recruiterTitle': '人事行政',\n      'recruiterPhoto': '5f8f9866dfb13a7dee342f1808u.jpg'},\n     'comp': {'compId': 10234543,\n      'compName': '广州楚雨化妆品有限公司',\n      'compScale': '1-49人',\n      'compStage': '融资未公开',\n      'compLogo': '61b07937d0458d53c627567e02u.jpg',\n      'link': 'https://www.liepin.com/company/10234543/',\n      'compIndustry': '金属制品'},\n     'dataParams': '{\"jobKind\":\"2\",\"userId\":\"215516b87e6fafca9aed82e7eb047b30\",\"jobId\":\"62441777\",\"imId\":\"51fc1720a272b3b68f669bb17ec3d8eb\",\"imUserType\":\"2\",\"recruiterName\":\"匡女士\",\"recruiterPhoto\":\"5f8f9866dfb13a7dee342f1808u.jpg\"}',\n     'dataInfo': '%7B%22sfrom%22%3A%22search_job_pc%22%2C%22jobKind%22%3A%222%22%2C%22pageSize%22%3A%2240%22%2C%22curPage%22%3A%220%22%2C%22ckId%22%3A%22h2c8pxojavrmo1w785z7ueih2ybfpux8%22%2C%22scene%22%3A%22input%22%2C%22skId%22%3A%22h2c8pxojavrmo1w785z7ueih2ybfpux8%22%2C%22fkId%22%3A%22h2c8pxojavrmo1w785z7ueih2ybfpux8%22%2C%22jobId%22%3A%2262441777%22%2C%22d_curPage%22%3A%220%22%2C%22d_pageSize%22%3A%2240%22%2C%22as_from%22%3A%22search_prime%22%7D'},\n    {'job': {'labels': ['临床试验',\n       '临床稽查',\n       '科研院校',\n       'GCP认证',\n       'SAE',\n       '受试者管理',\n       'CRF'],\n      'title': 'CRA',\n      'jobKind': '1',\n      'refreshTime': '20231025154036',\n      'jobId': '48766771',\n      'dq': '广州',\n      'requireWorkYears': '一年以下',\n      'requireEduLevel': '学历不限',\n      'topJob': False,\n      'link': 'https://www.liepin.com/a/48766771.shtml',\n      'salary': '24-25k',\n      'advViewFlag': False,\n      'dataPromId': 'd_sfrom=search_prime&d_ckId=null&d_curPage=0&d_pageSize=40&d_headId=null&d_posi=29&skId=h2c8pxojavrmo1w785z7ueih2ybfpux8&fkId=h2c8pxojavrmo1w785z7ueih2ybfpux8&ckId=h2c8pxojavrmo1w785z7ueih2ybfpux8&sfrom=search_job_pc&curPage=0&pageSize=40&index=29'},\n     'recruiter': {'chatted': False,\n      'recruiterId': '6e7ad95ddfcada7c60e0326a098f27c0',\n      'imId': '29d53dfa6116945e04612e645251413c',\n      'imUserType': '2',\n      'recruiterName': '赵女士',\n      'recruiterTitle': '猎头顾问',\n      'recruiterPhoto': '64b4e43b23be6c6ae2a3330c08u.jpeg'},\n     'comp': {'compName': '某国内大型制药公司',\n      'compScale': '1000-2000人',\n      'compStage': '战略融资',\n      'compLogo': '60e2fe0bf3df194a3c48adb502u.png',\n      'link': '',\n      'compIndustry': '制药'},\n     'dataParams': '{\"jobKind\":\"1\",\"userId\":\"6e7ad95ddfcada7c60e0326a098f27c0\",\"jobId\":\"48766771\",\"imId\":\"29d53dfa6116945e04612e645251413c\",\"imUserType\":\"2\",\"recruiterName\":\"赵女士\",\"recruiterPhoto\":\"64b4e43b23be6c6ae2a3330c08u.jpeg\"}',\n     'dataInfo': '%7B%22sfrom%22%3A%22search_job_pc%22%2C%22jobKind%22%3A%221%22%2C%22pageSize%22%3A%2240%22%2C%22curPage%22%3A%220%22%2C%22ckId%22%3A%22h2c8pxojavrmo1w785z7ueih2ybfpux8%22%2C%22scene%22%3A%22input%22%2C%22skId%22%3A%22h2c8pxojavrmo1w785z7ueih2ybfpux8%22%2C%22fkId%22%3A%22h2c8pxojavrmo1w785z7ueih2ybfpux8%22%2C%22jobId%22%3A%2248766771%22%2C%22d_curPage%22%3A%220%22%2C%22d_pageSize%22%3A%2240%22%2C%22as_from%22%3A%22search_prime%22%7D'},\n    {'job': {'labels': [],\n      'title': '跨境电商产品开发',\n      'jobKind': '2',\n      'refreshTime': '20230909085850',\n      'jobId': '61314913',\n      'dq': '广州-天河区',\n      'requireWorkYears': '一年以下',\n      'requireEduLevel': '统招本科',\n      'topJob': False,\n      'link': 'https://www.liepin.com/job/1961314913.shtml',\n      'salary': '8-15k·13薪',\n      'pcOuterLink': '',\n      'h5OuterLink': '',\n      'advViewFlag': False,\n      'dataPromId': 'd_sfrom=search_prime&d_ckId=null&d_curPage=0&d_pageSize=40&d_headId=null&d_posi=30&skId=h2c8pxojavrmo1w785z7ueih2ybfpux8&fkId=h2c8pxojavrmo1w785z7ueih2ybfpux8&ckId=h2c8pxojavrmo1w785z7ueih2ybfpux8&sfrom=search_job_pc&curPage=0&pageSize=40&index=30'},\n     'recruiter': {'chatted': False,\n      'recruiterId': 'e5e57a39883fc22bc40d05b12491a718',\n      'imId': 'd12addd48fdc7690a0ad0daaaaa88c96',\n      'imUserType': '2',\n      'recruiterName': '谢先生',\n      'recruiterTitle': '人事主管',\n      'recruiterPhoto': '5f8f98698dbe6273dcf8516008u.jpg'},\n     'comp': {'compId': 13665957,\n      'compName': '广州速卖锋科技技术有限公司',\n      'compScale': '50-99人',\n      'compLogo': '61b07937d0458d53c627567e02u.jpg',\n      'link': 'https://www.liepin.com/company/13665957/',\n      'compIndustry': '电子商务'},\n     'dataParams': '{\"jobKind\":\"2\",\"userId\":\"e5e57a39883fc22bc40d05b12491a718\",\"jobId\":\"61314913\",\"imId\":\"d12addd48fdc7690a0ad0daaaaa88c96\",\"imUserType\":\"2\",\"recruiterName\":\"谢先生\",\"recruiterPhoto\":\"5f8f98698dbe6273dcf8516008u.jpg\"}',\n     'dataInfo': '%7B%22sfrom%22%3A%22search_job_pc%22%2C%22jobKind%22%3A%222%22%2C%22pageSize%22%3A%2240%22%2C%22curPage%22%3A%220%22%2C%22ckId%22%3A%22h2c8pxojavrmo1w785z7ueih2ybfpux8%22%2C%22scene%22%3A%22input%22%2C%22skId%22%3A%22h2c8pxojavrmo1w785z7ueih2ybfpux8%22%2C%22fkId%22%3A%22h2c8pxojavrmo1w785z7ueih2ybfpux8%22%2C%22jobId%22%3A%2261314913%22%2C%22d_curPage%22%3A%220%22%2C%22d_pageSize%22%3A%2240%22%2C%22as_from%22%3A%22search_prime%22%7D'},\n    {'job': {'labels': [],\n      'title': '商品编辑',\n      'jobKind': '2',\n      'refreshTime': '20230911120007',\n      'jobId': '61528811',\n      'dq': '广州-番禺区',\n      'requireWorkYears': '一年以下',\n      'requireEduLevel': '大专',\n      'topJob': False,\n      'link': 'https://www.liepin.com/job/1961528811.shtml',\n      'salary': '5-6k',\n      'pcOuterLink': '',\n      'h5OuterLink': '',\n      'advViewFlag': False,\n      'dataPromId': 'd_sfrom=search_prime&d_ckId=null&d_curPage=0&d_pageSize=40&d_headId=null&d_posi=31&skId=h2c8pxojavrmo1w785z7ueih2ybfpux8&fkId=h2c8pxojavrmo1w785z7ueih2ybfpux8&ckId=h2c8pxojavrmo1w785z7ueih2ybfpux8&sfrom=search_job_pc&curPage=0&pageSize=40&index=31'},\n     'recruiter': {'chatted': False,\n      'recruiterId': '2dbb07111c80bf49070306a59d51e729',\n      'imId': '7aae95699a84cc7beb73d155ecd17678',\n      'imUserType': '2',\n      'recruiterName': '佘女士',\n      'recruiterTitle': 'HRBP主管',\n      'recruiterPhoto': '5f8f9866dfb13a7dee342f1808u.jpg'},\n     'comp': {'compId': 12462501,\n      'compName': '天孖 Trendsi',\n      'compScale': '1-49人',\n      'compStage': '天使轮',\n      'compLogo': '5fb1f8f67d84d06ed7b35b9605u.png',\n      'link': 'https://www.liepin.com/company/12462501/',\n      'compIndustry': '互联网'},\n     'dataParams': '{\"jobKind\":\"2\",\"userId\":\"2dbb07111c80bf49070306a59d51e729\",\"jobId\":\"61528811\",\"imId\":\"7aae95699a84cc7beb73d155ecd17678\",\"imUserType\":\"2\",\"recruiterName\":\"佘女士\",\"recruiterPhoto\":\"5f8f9866dfb13a7dee342f1808u.jpg\"}',\n     'dataInfo': '%7B%22sfrom%22%3A%22search_job_pc%22%2C%22jobKind%22%3A%222%22%2C%22pageSize%22%3A%2240%22%2C%22curPage%22%3A%220%22%2C%22ckId%22%3A%22h2c8pxojavrmo1w785z7ueih2ybfpux8%22%2C%22scene%22%3A%22input%22%2C%22skId%22%3A%22h2c8pxojavrmo1w785z7ueih2ybfpux8%22%2C%22fkId%22%3A%22h2c8pxojavrmo1w785z7ueih2ybfpux8%22%2C%22jobId%22%3A%2261528811%22%2C%22d_curPage%22%3A%220%22%2C%22d_pageSize%22%3A%2240%22%2C%22as_from%22%3A%22search_prime%22%7D'},\n    {'job': {'labels': ['销售管理', '学术类', '产品推广', '市场准入', '品牌推广'],\n      'title': '医药学术专员',\n      'jobKind': '2',\n      'refreshTime': '20230724111653',\n      'jobId': '60225029',\n      'dq': '广州-越秀区',\n      'requireWorkYears': '一年以下',\n      'requireEduLevel': '大专',\n      'topJob': False,\n      'link': 'https://www.liepin.com/job/1960225029.shtml',\n      'salary': '4-7k',\n      'pcOuterLink': '',\n      'h5OuterLink': '',\n      'advViewFlag': False,\n      'dataPromId': 'd_sfrom=search_prime&d_ckId=null&d_curPage=0&d_pageSize=40&d_headId=null&d_posi=32&skId=h2c8pxojavrmo1w785z7ueih2ybfpux8&fkId=h2c8pxojavrmo1w785z7ueih2ybfpux8&ckId=h2c8pxojavrmo1w785z7ueih2ybfpux8&sfrom=search_job_pc&curPage=0&pageSize=40&index=32'},\n     'recruiter': {'chatted': False,\n      'recruiterId': 'df19a7685d708e6556086e91afd1038d',\n      'imId': 'cf57319d85f69300f5555d53f3dd73c0',\n      'imUserType': '2',\n      'recruiterName': '吴女士',\n      'recruiterTitle': 'HR',\n      'recruiterPhoto': '5f8f9863f6d1ab58476f246a08u.jpg'},\n     'comp': {'compId': 10177919,\n      'compName': '扬子江药业集团江苏扬子江医药经营有限公司',\n      'compScale': '',\n      'compLogo': '61b07937d0458d53c627567e02u.jpg',\n      'link': 'https://www.liepin.com/company/10177919/',\n      'compIndustry': '制药'},\n     'dataParams': '{\"jobKind\":\"2\",\"userId\":\"df19a7685d708e6556086e91afd1038d\",\"jobId\":\"60225029\",\"imId\":\"cf57319d85f69300f5555d53f3dd73c0\",\"imUserType\":\"2\",\"recruiterName\":\"吴女士\",\"recruiterPhoto\":\"5f8f9863f6d1ab58476f246a08u.jpg\"}',\n     'dataInfo': '%7B%22sfrom%22%3A%22search_job_pc%22%2C%22jobKind%22%3A%222%22%2C%22pageSize%22%3A%2240%22%2C%22curPage%22%3A%220%22%2C%22ckId%22%3A%22h2c8pxojavrmo1w785z7ueih2ybfpux8%22%2C%22scene%22%3A%22input%22%2C%22skId%22%3A%22h2c8pxojavrmo1w785z7ueih2ybfpux8%22%2C%22fkId%22%3A%22h2c8pxojavrmo1w785z7ueih2ybfpux8%22%2C%22jobId%22%3A%2260225029%22%2C%22d_curPage%22%3A%220%22%2C%22d_pageSize%22%3A%2240%22%2C%22as_from%22%3A%22search_prime%22%7D'},\n    {'job': {'labels': ['学术推广', '学术经理'],\n      'title': '医药学术专员',\n      'jobKind': '2',\n      'refreshTime': '20230822105716',\n      'jobId': '42780989',\n      'dq': '广州-天河区',\n      'requireWorkYears': '一年以下',\n      'requireEduLevel': '本科',\n      'topJob': False,\n      'link': 'https://www.liepin.com/job/1942780989.shtml',\n      'salary': '5-7k',\n      'pcOuterLink': '',\n      'h5OuterLink': '',\n      'advViewFlag': False,\n      'dataPromId': 'd_sfrom=search_prime&d_ckId=null&d_curPage=0&d_pageSize=40&d_headId=null&d_posi=33&skId=h2c8pxojavrmo1w785z7ueih2ybfpux8&fkId=h2c8pxojavrmo1w785z7ueih2ybfpux8&ckId=h2c8pxojavrmo1w785z7ueih2ybfpux8&sfrom=search_job_pc&curPage=0&pageSize=40&index=33'},\n     'recruiter': {'chatted': False,\n      'recruiterId': 'f892d67cbcb4746aa3a62603ee4f8dd2',\n      'imId': 'e5a7bfccb6230dbe4036597854bcf58c',\n      'imUserType': '2',\n      'recruiterName': '吴女士',\n      'recruiterTitle': '人力资源',\n      'recruiterPhoto': '5f8f9865ea60860b75384fa508u.jpg'},\n     'comp': {'compId': 9727507,\n      'compName': '广州市赛凌医药科技有限公司',\n      'compScale': '1-49人',\n      'compStage': '融资未公开',\n      'compLogo': '61b07937d0458d53c627567e02u.jpg',\n      'link': 'https://www.liepin.com/company/9727507/',\n      'compIndustry': '制药'},\n     'dataParams': '{\"jobKind\":\"2\",\"userId\":\"f892d67cbcb4746aa3a62603ee4f8dd2\",\"jobId\":\"42780989\",\"imId\":\"e5a7bfccb6230dbe4036597854bcf58c\",\"imUserType\":\"2\",\"recruiterName\":\"吴女士\",\"recruiterPhoto\":\"5f8f9865ea60860b75384fa508u.jpg\"}',\n     'dataInfo': '%7B%22sfrom%22%3A%22search_job_pc%22%2C%22jobKind%22%3A%222%22%2C%22pageSize%22%3A%2240%22%2C%22curPage%22%3A%220%22%2C%22ckId%22%3A%22h2c8pxojavrmo1w785z7ueih2ybfpux8%22%2C%22scene%22%3A%22input%22%2C%22skId%22%3A%22h2c8pxojavrmo1w785z7ueih2ybfpux8%22%2C%22fkId%22%3A%22h2c8pxojavrmo1w785z7ueih2ybfpux8%22%2C%22jobId%22%3A%2242780989%22%2C%22d_curPage%22%3A%220%22%2C%22d_pageSize%22%3A%2240%22%2C%22as_from%22%3A%22search_prime%22%7D'},\n    {'job': {'labels': ['化妆品', '日化', '美业行业'],\n      'title': '化妆品开发助理',\n      'jobKind': '2',\n      'refreshTime': '20230912160934',\n      'jobId': '61577945',\n      'dq': '广州-白云区',\n      'requireWorkYears': '一年以下',\n      'requireEduLevel': '大专',\n      'topJob': False,\n      'link': 'https://www.liepin.com/job/1961577945.shtml',\n      'salary': '5-6k',\n      'pcOuterLink': '',\n      'h5OuterLink': '',\n      'advViewFlag': False,\n      'dataPromId': 'd_sfrom=search_prime&d_ckId=null&d_curPage=0&d_pageSize=40&d_headId=null&d_posi=34&skId=h2c8pxojavrmo1w785z7ueih2ybfpux8&fkId=h2c8pxojavrmo1w785z7ueih2ybfpux8&ckId=h2c8pxojavrmo1w785z7ueih2ybfpux8&sfrom=search_job_pc&curPage=0&pageSize=40&index=34'},\n     'recruiter': {'chatted': False,\n      'recruiterId': '22317706797e73bc6280e03a4961fd16',\n      'imId': '5f16c8e03fa255e36bc971ec2e264ed1',\n      'imUserType': '2',\n      'recruiterName': '钟女士',\n      'recruiterTitle': '人事经理',\n      'recruiterPhoto': '64dde6e3db444f3a0e8c8e1707u.png'},\n     'comp': {'compId': 12749623,\n      'compName': '广州丽人妆生物科技有限公司',\n      'compScale': '50-99人',\n      'compLogo': '64dd899d76a88002830413db01u.jpg',\n      'link': 'https://www.liepin.com/company/12749623/',\n      'compIndustry': '日化'},\n     'dataParams': '{\"jobKind\":\"2\",\"userId\":\"22317706797e73bc6280e03a4961fd16\",\"jobId\":\"61577945\",\"imId\":\"5f16c8e03fa255e36bc971ec2e264ed1\",\"imUserType\":\"2\",\"recruiterName\":\"钟女士\",\"recruiterPhoto\":\"64dde6e3db444f3a0e8c8e1707u.png\"}',\n     'dataInfo': '%7B%22sfrom%22%3A%22search_job_pc%22%2C%22jobKind%22%3A%222%22%2C%22pageSize%22%3A%2240%22%2C%22curPage%22%3A%220%22%2C%22ckId%22%3A%22h2c8pxojavrmo1w785z7ueih2ybfpux8%22%2C%22scene%22%3A%22input%22%2C%22skId%22%3A%22h2c8pxojavrmo1w785z7ueih2ybfpux8%22%2C%22fkId%22%3A%22h2c8pxojavrmo1w785z7ueih2ybfpux8%22%2C%22jobId%22%3A%2261577945%22%2C%22d_curPage%22%3A%220%22%2C%22d_pageSize%22%3A%2240%22%2C%22as_from%22%3A%22search_prime%22%7D'},\n    {'job': {'labels': ['ios', 'swift', 'c++'],\n      'title': '高级ios开发工程师',\n      'jobKind': '2',\n      'refreshTime': '20200910141413',\n      'jobId': '31591593',\n      'dq': '广州',\n      'requireWorkYears': '一年以下',\n      'requireEduLevel': '本科',\n      'topJob': False,\n      'link': 'https://www.liepin.com/job/1931591593.shtml',\n      'salary': '20-40k',\n      'pcOuterLink': '',\n      'h5OuterLink': '',\n      'advViewFlag': False,\n      'dataPromId': 'd_sfrom=search_prime&d_ckId=null&d_curPage=0&d_pageSize=40&d_headId=null&d_posi=35&skId=h2c8pxojavrmo1w785z7ueih2ybfpux8&fkId=h2c8pxojavrmo1w785z7ueih2ybfpux8&ckId=h2c8pxojavrmo1w785z7ueih2ybfpux8&sfrom=search_job_pc&curPage=0&pageSize=40&index=35'},\n     'recruiter': {'chatted': False,\n      'recruiterId': '37db68e03ec658ae45961de2c7d4c3f8',\n      'imId': 'b9b8e55bd8f5570e062c1b1ee9c7454d',\n      'imUserType': '2',\n      'recruiterName': '许先生',\n      'recruiterTitle': 'Android',\n      'recruiterPhoto': '5f8f986aea60860b75384fab08u.jpg'},\n     'comp': {'compId': 9867815,\n      'compName': '抖音有限公司',\n      'compScale': '10000人以上',\n      'compStage': 'D轮',\n      'compLogo': '61b07937d0458d53c627567e02u.jpg',\n      'link': 'https://www.liepin.com/company/9867815/',\n      'compIndustry': '云计算/大数据'},\n     'dataParams': '{\"jobKind\":\"2\",\"userId\":\"37db68e03ec658ae45961de2c7d4c3f8\",\"jobId\":\"31591593\",\"imId\":\"b9b8e55bd8f5570e062c1b1ee9c7454d\",\"imUserType\":\"2\",\"recruiterName\":\"许先生\",\"recruiterPhoto\":\"5f8f986aea60860b75384fab08u.jpg\"}',\n     'dataInfo': '%7B%22sfrom%22%3A%22search_job_pc%22%2C%22jobKind%22%3A%222%22%2C%22pageSize%22%3A%2240%22%2C%22curPage%22%3A%220%22%2C%22ckId%22%3A%22h2c8pxojavrmo1w785z7ueih2ybfpux8%22%2C%22scene%22%3A%22input%22%2C%22skId%22%3A%22h2c8pxojavrmo1w785z7ueih2ybfpux8%22%2C%22fkId%22%3A%22h2c8pxojavrmo1w785z7ueih2ybfpux8%22%2C%22jobId%22%3A%2231591593%22%2C%22d_curPage%22%3A%220%22%2C%22d_pageSize%22%3A%2240%22%2C%22as_from%22%3A%22search_prime%22%7D'},\n    {'job': {'labels': ['学术推广', '医药代表'],\n      'title': '医药学术推广',\n      'jobKind': '2',\n      'refreshTime': '20230919164637',\n      'jobId': '61762895',\n      'dq': '广州-天河区',\n      'requireWorkYears': '一年以下',\n      'requireEduLevel': '大专',\n      'topJob': False,\n      'link': 'https://www.liepin.com/job/1961762895.shtml',\n      'salary': '4-8k',\n      'pcOuterLink': '',\n      'h5OuterLink': '',\n      'advViewFlag': False,\n      'dataPromId': 'd_sfrom=search_prime&d_ckId=null&d_curPage=0&d_pageSize=40&d_headId=null&d_posi=36&skId=h2c8pxojavrmo1w785z7ueih2ybfpux8&fkId=h2c8pxojavrmo1w785z7ueih2ybfpux8&ckId=h2c8pxojavrmo1w785z7ueih2ybfpux8&sfrom=search_job_pc&curPage=0&pageSize=40&index=36'},\n     'recruiter': {'chatted': False,\n      'recruiterId': 'a98aa77f343aaf76c20cbf7b428875df',\n      'imId': '2c42672a27c1b9e6e7b184a1ccff1ea4',\n      'imUserType': '2',\n      'recruiterName': '李女士',\n      'recruiterTitle': 'HR',\n      'recruiterPhoto': '5f8f9865ea60860b75384fa508u.jpg'},\n     'comp': {'compId': 12666657,\n      'compName': '柳叶刀医生集团(广东)有限公司',\n      'compScale': '50-99人',\n      'compLogo': '61b07937d0458d53c627567e02u.jpg',\n      'link': 'https://www.liepin.com/company/12666657/',\n      'compIndustry': '医疗机构'},\n     'dataParams': '{\"jobKind\":\"2\",\"userId\":\"a98aa77f343aaf76c20cbf7b428875df\",\"jobId\":\"61762895\",\"imId\":\"2c42672a27c1b9e6e7b184a1ccff1ea4\",\"imUserType\":\"2\",\"recruiterName\":\"李女士\",\"recruiterPhoto\":\"5f8f9865ea60860b75384fa508u.jpg\"}',\n     'dataInfo': '%7B%22sfrom%22%3A%22search_job_pc%22%2C%22jobKind%22%3A%222%22%2C%22pageSize%22%3A%2240%22%2C%22curPage%22%3A%220%22%2C%22ckId%22%3A%22h2c8pxojavrmo1w785z7ueih2ybfpux8%22%2C%22scene%22%3A%22input%22%2C%22skId%22%3A%22h2c8pxojavrmo1w785z7ueih2ybfpux8%22%2C%22fkId%22%3A%22h2c8pxojavrmo1w785z7ueih2ybfpux8%22%2C%22jobId%22%3A%2261762895%22%2C%22d_curPage%22%3A%220%22%2C%22d_pageSize%22%3A%2240%22%2C%22as_from%22%3A%22search_prime%22%7D'},\n    {'job': {'labels': ['数字化咨询',\n       '战略咨询',\n       '数据分析',\n       '营销管理咨询',\n       '运营管理咨询',\n       '品牌咨询',\n       '企管咨询',\n       '设计咨询',\n       '用户调研',\n       '产品调研'],\n      'title': '数字化创新咨询实习生',\n      'jobKind': '2',\n      'refreshTime': '20231027154740',\n      'jobId': '57983271',\n      'dq': '广州-越秀区',\n      'requireWorkYears': '一年以下',\n      'requireEduLevel': '硕士',\n      'topJob': False,\n      'link': 'https://www.liepin.com/job/1957983271.shtml',\n      'salary': '2-3k',\n      'pcOuterLink': '',\n      'h5OuterLink': '',\n      'advViewFlag': False,\n      'dataPromId': 'd_sfrom=search_prime&d_ckId=null&d_curPage=0&d_pageSize=40&d_headId=null&d_posi=37&skId=h2c8pxojavrmo1w785z7ueih2ybfpux8&fkId=h2c8pxojavrmo1w785z7ueih2ybfpux8&ckId=h2c8pxojavrmo1w785z7ueih2ybfpux8&sfrom=search_job_pc&curPage=0&pageSize=40&index=37'},\n     'recruiter': {'chatted': False,\n      'recruiterId': '8d90c26ed477481c5bfe988e1b72f121',\n      'imId': 'edbe6a7c4ed9d6e5aaa70b13e477f173',\n      'imUserType': '2',\n      'recruiterName': 'Keli Tang',\n      'recruiterTitle': 'HRBP',\n      'recruiterPhoto': '5f8f9865ea60860b75384fa508u.jpg'},\n     'comp': {'compId': 9283329,\n      'compName': '即能科技(广州)有限公司',\n      'compScale': '1-49人',\n      'compLogo': '59dc78457832e11b880f044c05a.png',\n      'link': 'https://www.liepin.com/company/9283329/',\n      'compIndustry': '专业技术服务'},\n     'dataParams': '{\"jobKind\":\"2\",\"userId\":\"8d90c26ed477481c5bfe988e1b72f121\",\"jobId\":\"57983271\",\"imId\":\"edbe6a7c4ed9d6e5aaa70b13e477f173\",\"imUserType\":\"2\",\"recruiterName\":\"Keli Tang\",\"recruiterPhoto\":\"5f8f9865ea60860b75384fa508u.jpg\"}',\n     'dataInfo': '%7B%22sfrom%22%3A%22search_job_pc%22%2C%22jobKind%22%3A%222%22%2C%22pageSize%22%3A%2240%22%2C%22curPage%22%3A%220%22%2C%22ckId%22%3A%22h2c8pxojavrmo1w785z7ueih2ybfpux8%22%2C%22scene%22%3A%22input%22%2C%22skId%22%3A%22h2c8pxojavrmo1w785z7ueih2ybfpux8%22%2C%22fkId%22%3A%22h2c8pxojavrmo1w785z7ueih2ybfpux8%22%2C%22jobId%22%3A%2257983271%22%2C%22d_curPage%22%3A%220%22%2C%22d_pageSize%22%3A%2240%22%2C%22as_from%22%3A%22search_prime%22%7D'},\n    {'job': {'labels': ['旅游行业', 'OTA', '电子商务', '旅游产品运营', '旅游线路策划'],\n      'title': '导游/旅行顾问',\n      'jobKind': '2',\n      'refreshTime': '20210724165111',\n      'jobId': '38044257',\n      'dq': '广州-白云区',\n      'requireWorkYears': '一年以下',\n      'requireEduLevel': '学历不限',\n      'topJob': False,\n      'link': 'https://www.liepin.com/job/1938044257.shtml',\n      'salary': '8-12k',\n      'pcOuterLink': '',\n      'h5OuterLink': '',\n      'advViewFlag': False,\n      'dataPromId': 'd_sfrom=search_prime&d_ckId=null&d_curPage=0&d_pageSize=40&d_headId=null&d_posi=38&skId=h2c8pxojavrmo1w785z7ueih2ybfpux8&fkId=h2c8pxojavrmo1w785z7ueih2ybfpux8&ckId=h2c8pxojavrmo1w785z7ueih2ybfpux8&sfrom=search_job_pc&curPage=0&pageSize=40&index=38'},\n     'recruiter': {'chatted': False,\n      'recruiterId': '188a95ddd9c77035c96360bcdbc5c4b4',\n      'imId': 'cfaa8f31ecea5d6ce3a362ce23913155',\n      'imUserType': '2',\n      'recruiterName': '夏先生',\n      'recruiterTitle': '人事专员',\n      'recruiterPhoto': '5f8f9868f6d1ab58476f24a008u.jpg'},\n     'comp': {'compId': 12685249,\n      'compName': '广州凯越国际旅行社有限公司',\n      'compScale': '50-99人',\n      'compStage': '融资未公开',\n      'compLogo': '61b07937d0458d53c627567e02u.jpg',\n      'link': 'https://www.liepin.com/company/12685249/',\n      'compIndustry': '旅游'},\n     'dataParams': '{\"jobKind\":\"2\",\"userId\":\"188a95ddd9c77035c96360bcdbc5c4b4\",\"jobId\":\"38044257\",\"imId\":\"cfaa8f31ecea5d6ce3a362ce23913155\",\"imUserType\":\"2\",\"recruiterName\":\"夏先生\",\"recruiterPhoto\":\"5f8f9868f6d1ab58476f24a008u.jpg\"}',\n     'dataInfo': '%7B%22sfrom%22%3A%22search_job_pc%22%2C%22jobKind%22%3A%222%22%2C%22pageSize%22%3A%2240%22%2C%22curPage%22%3A%220%22%2C%22ckId%22%3A%22h2c8pxojavrmo1w785z7ueih2ybfpux8%22%2C%22scene%22%3A%22input%22%2C%22skId%22%3A%22h2c8pxojavrmo1w785z7ueih2ybfpux8%22%2C%22fkId%22%3A%22h2c8pxojavrmo1w785z7ueih2ybfpux8%22%2C%22jobId%22%3A%2238044257%22%2C%22d_curPage%22%3A%220%22%2C%22d_pageSize%22%3A%2240%22%2C%22as_from%22%3A%22search_prime%22%7D'},\n    {'job': {'labels': ['市场洞察',\n       '客户管理',\n       'to B',\n       '面销',\n       '陌拜销售',\n       '交通/物流/贸易',\n       '消费品',\n       '制造业'],\n      'title': '物流营销专员',\n      'jobKind': '2',\n      'refreshTime': '20230915110524',\n      'jobId': '61595971',\n      'dq': '广州-番禺区',\n      'requireWorkYears': '一年以下',\n      'requireEduLevel': '大专',\n      'topJob': False,\n      'link': 'https://www.liepin.com/job/1961595971.shtml',\n      'salary': '4-7k',\n      'pcOuterLink': '',\n      'h5OuterLink': '',\n      'advViewFlag': False,\n      'dataPromId': 'd_sfrom=search_prime&d_ckId=null&d_curPage=0&d_pageSize=40&d_headId=null&d_posi=39&skId=h2c8pxojavrmo1w785z7ueih2ybfpux8&fkId=h2c8pxojavrmo1w785z7ueih2ybfpux8&ckId=h2c8pxojavrmo1w785z7ueih2ybfpux8&sfrom=search_job_pc&curPage=0&pageSize=40&index=39'},\n     'recruiter': {'chatted': False,\n      'recruiterId': '7867b8a4f5b86707295af17a1abc8c3e',\n      'imId': '3f89cb446c03e05bc3ed12b17ed1d27e',\n      'imUserType': '2',\n      'recruiterName': '唐女士',\n      'recruiterTitle': '集团招聘负责人',\n      'recruiterPhoto': '5f8f986779c7cc70efbf36c008u.jpg'},\n     'comp': {'compId': 9147264,\n      'compName': '广州拓领物流有限公司',\n      'compScale': '1-49人',\n      'compStage': '融资未公开',\n      'compLogo': '5bfe90e374719d35745ab8fd03a.png',\n      'link': 'https://www.liepin.com/company/9147264/',\n      'compIndustry': '货运/物流/仓储'},\n     'dataParams': '{\"jobKind\":\"2\",\"userId\":\"7867b8a4f5b86707295af17a1abc8c3e\",\"jobId\":\"61595971\",\"imId\":\"3f89cb446c03e05bc3ed12b17ed1d27e\",\"imUserType\":\"2\",\"recruiterName\":\"唐女士\",\"recruiterPhoto\":\"5f8f986779c7cc70efbf36c008u.jpg\"}',\n     'dataInfo': '%7B%22sfrom%22%3A%22search_job_pc%22%2C%22jobKind%22%3A%222%22%2C%22pageSize%22%3A%2240%22%2C%22curPage%22%3A%220%22%2C%22ckId%22%3A%22h2c8pxojavrmo1w785z7ueih2ybfpux8%22%2C%22scene%22%3A%22input%22%2C%22skId%22%3A%22h2c8pxojavrmo1w785z7ueih2ybfpux8%22%2C%22fkId%22%3A%22h2c8pxojavrmo1w785z7ueih2ybfpux8%22%2C%22jobId%22%3A%2261595971%22%2C%22d_curPage%22%3A%220%22%2C%22d_pageSize%22%3A%2240%22%2C%22as_from%22%3A%22search_prime%22%7D'}],\n   'compList': []},\n  'pagination': {'totalPage': 2,\n   'pageSize': 40,\n   'currentPage': 0,\n   'totalCounts': 56,\n   'hasNext': False},\n  'passThroughData': {'sfrom': 'search_job_pc',\n   'ckId': 'h2c8pxojavrmo1w785z7ueih2ybfpux8',\n   'scene': 'input',\n   'skId': 'h2c8pxojavrmo1w785z7ueih2ybfpux8',\n   'fkId': 'h2c8pxojavrmo1w785z7ueih2ybfpux8'}}}"
     },
     "execution_count": 7,
     "metadata": {},
     "output_type": "execute_result"
    }
   ],
   "source": [
    "import time\n",
    "import random\n",
    "wait_time = random.randint(3,10)\n",
    "\n",
    "payload = payloadd(str(城市),str(关键词),str(工作经验))\n",
    "# create an HTML session using Requests-HTML\n",
    "session = HTMLSession()\n",
    "r = session.post(url, data=json.dumps(payload), headers=headers())\n",
    "\n",
    "# extract the JSON data from the response\n",
    "response_data = r.json()\n",
    "\n",
    "# example: print the number of job postings returned\n",
    "response_data"
   ],
   "metadata": {
    "collapsed": false
   }
  },
  {
   "cell_type": "code",
   "execution_count": 8,
   "id": "c9ce3169",
   "metadata": {},
   "outputs": [
    {
     "data": {
      "text/plain": "2"
     },
     "execution_count": 8,
     "metadata": {},
     "output_type": "execute_result"
    }
   ],
   "source": [
    "# 向上取整\n",
    "page = response_data['data']['pagination']['totalPage']\n",
    "page"
   ]
  },
  {
   "cell_type": "markdown",
   "id": "00d5fcb6",
   "metadata": {},
   "source": [
    "## 翻页获取数据"
   ]
  },
  {
   "cell_type": "code",
   "execution_count": 43,
   "id": "43043d51",
   "metadata": {},
   "outputs": [],
   "source": [
    "import pandas as pd\n",
    "import requests\n",
    "response_df = []\n",
    "for i in range(page): # 需要判断页面的数据有多少页\n",
    "    payload['data']['mainSearchPcConditionForm']['currentPage']=i\n",
    "    df = pd.json_normalize(response_data['data']['data']['jobCardList'])\n",
    "    response_df.append(df)\n",
    "    time.sleep(wait_time)"
   ]
  },
  {
   "cell_type": "code",
   "execution_count": 9,
   "outputs": [],
   "source": [],
   "metadata": {
    "collapsed": false
   }
  },
  {
   "cell_type": "markdown",
   "id": "abf39634",
   "metadata": {},
   "source": [
    "## 数据整理成为表格\n",
    "> 1. pandas 中的concat方法"
   ]
  },
  {
   "cell_type": "code",
   "execution_count": 10,
   "id": "481b39e9",
   "metadata": {
    "scrolled": true
   },
   "outputs": [
    {
     "data": {
      "text/plain": "                                           dataParams  \\\n0   {\"jobKind\":\"2\",\"userId\":\"17ef54758d358b720d978...   \n1   {\"jobKind\":\"2\",\"userId\":\"17ef54758d358b720d978...   \n2   {\"jobKind\":\"2\",\"userId\":\"cf01d8d7485481826ff0c...   \n3   {\"jobKind\":\"2\",\"userId\":\"b4e202c249d928a12ab21...   \n4   {\"jobKind\":\"2\",\"userId\":\"3fcd2f12b166bad5fdacd...   \n..                                                ...   \n35  {\"jobKind\":\"2\",\"userId\":\"37db68e03ec658ae45961...   \n36  {\"jobKind\":\"2\",\"userId\":\"a98aa77f343aaf76c20cb...   \n37  {\"jobKind\":\"2\",\"userId\":\"8d90c26ed477481c5bfe9...   \n38  {\"jobKind\":\"2\",\"userId\":\"188a95ddd9c77035c9636...   \n39  {\"jobKind\":\"2\",\"userId\":\"7867b8a4f5b86707295af...   \n\n                                             dataInfo  \\\n0   %7B%22sfrom%22%3A%22search_job_pc%22%2C%22jobK...   \n1   %7B%22sfrom%22%3A%22search_job_pc%22%2C%22jobK...   \n2   %7B%22sfrom%22%3A%22search_job_pc%22%2C%22jobK...   \n3   %7B%22sfrom%22%3A%22search_job_pc%22%2C%22jobK...   \n4   %7B%22sfrom%22%3A%22search_job_pc%22%2C%22jobK...   \n..                                                ...   \n35  %7B%22sfrom%22%3A%22search_job_pc%22%2C%22jobK...   \n36  %7B%22sfrom%22%3A%22search_job_pc%22%2C%22jobK...   \n37  %7B%22sfrom%22%3A%22search_job_pc%22%2C%22jobK...   \n38  %7B%22sfrom%22%3A%22search_job_pc%22%2C%22jobK...   \n39  %7B%22sfrom%22%3A%22search_job_pc%22%2C%22jobK...   \n\n                                           job.labels            job.title  \\\n0                [策略产品, 商业产品, 供应链产品, 消费品, 产品规划, 团队管理]  GTM经理/产品经理/产品上市项目管理   \n1   [数据产品, 工艺品/收藏品, 消费品, 产品优化, 产品规划, 数据分析, 产品设计, 用...               高级产品经理   \n2                                              [数据分析]             潮玩盲盒产品经理   \n3                               [BD，业务，采购，, 酒店/旅行社合作]             酒店签约产品经理   \n4                       [工具产品, OTA, to B, 产品优化, 用户研究]                 产品经理   \n..                                                ...                  ...   \n35                                  [ios, swift, c++]           高级ios开发工程师   \n36                                       [学术推广, 医药代表]               医药学术推广   \n37  [数字化咨询, 战略咨询, 数据分析, 营销管理咨询, 运营管理咨询, 品牌咨询, 企管咨询...           数字化创新咨询实习生   \n38                  [旅游行业, OTA, 电子商务, 旅游产品运营, 旅游线路策划]              导游/旅行顾问   \n39   [市场洞察, 客户管理, to B, 面销, 陌拜销售, 交通/物流/贸易, 消费品, 制造业]               物流营销专员   \n\n   job.jobKind job.refreshTime job.jobId  job.dq job.requireWorkYears  \\\n0            2  20230804141131  60552001  广州-荔湾区                 一年以下   \n1            2  20230607134704  59150941  广州-荔湾区                 一年以下   \n2            2  20230307150921  44235539  广州-海珠区                 一年以下   \n3            2  20210224104701  36091987      广州                 一年以下   \n4            2  20231027161849  62406775  广州-海珠区                 一年以下   \n..         ...             ...       ...     ...                  ...   \n35           2  20200910141413  31591593      广州                 一年以下   \n36           2  20230919164637  61762895  广州-天河区                 一年以下   \n37           2  20231027154740  57983271  广州-越秀区                 一年以下   \n38           2  20210724165111  38044257  广州-白云区                 一年以下   \n39           2  20230915110524  61595971  广州-番禺区                 一年以下   \n\n   job.requireEduLevel  ...  recruiter.recruiterName recruiter.recruiterTitle  \\\n0                   本科  ...                      薛先生                     运营总监   \n1                   本科  ...                      薛先生                     运营总监   \n2                   大专  ...                      朱女士                     人资经理   \n3                中专/中技  ...                      李先生                     运营总监   \n4                   本科  ...                      梁女士                   人力资源主管   \n..                 ...  ...                      ...                      ...   \n35                  本科  ...                      许先生                  Android   \n36                  大专  ...                      李女士                       HR   \n37                  硕士  ...                Keli Tang                     HRBP   \n38                学历不限  ...                      夏先生                     人事专员   \n39                  大专  ...                      唐女士                  集团招聘负责人   \n\n           recruiter.recruiterPhoto comp.compId    comp.compName  \\\n0   5f8f986bdfb13a7dee342f2108u.jpg  13443587.0      佛山市开仪家具有限公司   \n1   5f8f986bdfb13a7dee342f2108u.jpg  13443587.0      佛山市开仪家具有限公司   \n2   5f8f9863f6d1ab58476f246a08u.jpg  12846035.0   北京妙趣盒生文化传播有限公司   \n3   603486248f5866739fffda8207u.png  12569735.0     广州视界行旅行社有限公司   \n4   5f8f9863f6d1ab58476f246a08u.jpg   8082331.0              租租车   \n..                              ...         ...              ...   \n35  5f8f986aea60860b75384fab08u.jpg   9867815.0           抖音有限公司   \n36  5f8f9865ea60860b75384fa508u.jpg  12666657.0  柳叶刀医生集团(广东)有限公司   \n37  5f8f9865ea60860b75384fa508u.jpg   9283329.0     即能科技(广州)有限公司   \n38  5f8f9868f6d1ab58476f24a008u.jpg  12685249.0    广州凯越国际旅行社有限公司   \n39  5f8f986779c7cc70efbf36c008u.jpg   9147264.0       广州拓领物流有限公司   \n\n    comp.compScale                    comp.compLogo  \\\n0            1-49人  61b07937d0458d53c627567e02u.jpg   \n1            1-49人  61b07937d0458d53c627567e02u.jpg   \n2         100-499人  61b07937d0458d53c627567e02u.jpg   \n3            1-49人  603470aab9834220c1e1405904u.jpg   \n4       1000-2000人  59b6035970324a7f8c9d651306a.jpg   \n..             ...                              ...   \n35        10000人以上  61b07937d0458d53c627567e02u.jpg   \n36          50-99人  61b07937d0458d53c627567e02u.jpg   \n37           1-49人  59dc78457832e11b880f044c05a.png   \n38          50-99人  61b07937d0458d53c627567e02u.jpg   \n39           1-49人  5bfe90e374719d35745ab8fd03a.png   \n\n                                   comp.link comp.compIndustry comp.compStage  \n0   https://www.liepin.com/company/13443587/             家具/家居            NaN  \n1   https://www.liepin.com/company/13443587/             家具/家居            NaN  \n2   https://www.liepin.com/company/12846035/             批发/零售            NaN  \n3   https://www.liepin.com/company/12569735/             酒店/民宿          融资未公开  \n4    https://www.liepin.com/company/8082331/               互联网             D轮  \n..                                       ...               ...            ...  \n35   https://www.liepin.com/company/9867815/           云计算/大数据             D轮  \n36  https://www.liepin.com/company/12666657/              医疗机构            NaN  \n37   https://www.liepin.com/company/9283329/            专业技术服务            NaN  \n38  https://www.liepin.com/company/12685249/                旅游          融资未公开  \n39   https://www.liepin.com/company/9147264/          货运/物流/仓储          融资未公开  \n\n[80 rows x 31 columns]",
      "text/html": "<div>\n<style scoped>\n    .dataframe tbody tr th:only-of-type {\n        vertical-align: middle;\n    }\n\n    .dataframe tbody tr th {\n        vertical-align: top;\n    }\n\n    .dataframe thead th {\n        text-align: right;\n    }\n</style>\n<table border=\"1\" class=\"dataframe\">\n  <thead>\n    <tr style=\"text-align: right;\">\n      <th></th>\n      <th>dataParams</th>\n      <th>dataInfo</th>\n      <th>job.labels</th>\n      <th>job.title</th>\n      <th>job.jobKind</th>\n      <th>job.refreshTime</th>\n      <th>job.jobId</th>\n      <th>job.dq</th>\n      <th>job.requireWorkYears</th>\n      <th>job.requireEduLevel</th>\n      <th>...</th>\n      <th>recruiter.recruiterName</th>\n      <th>recruiter.recruiterTitle</th>\n      <th>recruiter.recruiterPhoto</th>\n      <th>comp.compId</th>\n      <th>comp.compName</th>\n      <th>comp.compScale</th>\n      <th>comp.compLogo</th>\n      <th>comp.link</th>\n      <th>comp.compIndustry</th>\n      <th>comp.compStage</th>\n    </tr>\n  </thead>\n  <tbody>\n    <tr>\n      <th>0</th>\n      <td>{\"jobKind\":\"2\",\"userId\":\"17ef54758d358b720d978...</td>\n      <td>%7B%22sfrom%22%3A%22search_job_pc%22%2C%22jobK...</td>\n      <td>[策略产品, 商业产品, 供应链产品, 消费品, 产品规划, 团队管理]</td>\n      <td>GTM经理/产品经理/产品上市项目管理</td>\n      <td>2</td>\n      <td>20230804141131</td>\n      <td>60552001</td>\n      <td>广州-荔湾区</td>\n      <td>一年以下</td>\n      <td>本科</td>\n      <td>...</td>\n      <td>薛先生</td>\n      <td>运营总监</td>\n      <td>5f8f986bdfb13a7dee342f2108u.jpg</td>\n      <td>13443587.0</td>\n      <td>佛山市开仪家具有限公司</td>\n      <td>1-49人</td>\n      <td>61b07937d0458d53c627567e02u.jpg</td>\n      <td>https://www.liepin.com/company/13443587/</td>\n      <td>家具/家居</td>\n      <td>NaN</td>\n    </tr>\n    <tr>\n      <th>1</th>\n      <td>{\"jobKind\":\"2\",\"userId\":\"17ef54758d358b720d978...</td>\n      <td>%7B%22sfrom%22%3A%22search_job_pc%22%2C%22jobK...</td>\n      <td>[数据产品, 工艺品/收藏品, 消费品, 产品优化, 产品规划, 数据分析, 产品设计, 用...</td>\n      <td>高级产品经理</td>\n      <td>2</td>\n      <td>20230607134704</td>\n      <td>59150941</td>\n      <td>广州-荔湾区</td>\n      <td>一年以下</td>\n      <td>本科</td>\n      <td>...</td>\n      <td>薛先生</td>\n      <td>运营总监</td>\n      <td>5f8f986bdfb13a7dee342f2108u.jpg</td>\n      <td>13443587.0</td>\n      <td>佛山市开仪家具有限公司</td>\n      <td>1-49人</td>\n      <td>61b07937d0458d53c627567e02u.jpg</td>\n      <td>https://www.liepin.com/company/13443587/</td>\n      <td>家具/家居</td>\n      <td>NaN</td>\n    </tr>\n    <tr>\n      <th>2</th>\n      <td>{\"jobKind\":\"2\",\"userId\":\"cf01d8d7485481826ff0c...</td>\n      <td>%7B%22sfrom%22%3A%22search_job_pc%22%2C%22jobK...</td>\n      <td>[数据分析]</td>\n      <td>潮玩盲盒产品经理</td>\n      <td>2</td>\n      <td>20230307150921</td>\n      <td>44235539</td>\n      <td>广州-海珠区</td>\n      <td>一年以下</td>\n      <td>大专</td>\n      <td>...</td>\n      <td>朱女士</td>\n      <td>人资经理</td>\n      <td>5f8f9863f6d1ab58476f246a08u.jpg</td>\n      <td>12846035.0</td>\n      <td>北京妙趣盒生文化传播有限公司</td>\n      <td>100-499人</td>\n      <td>61b07937d0458d53c627567e02u.jpg</td>\n      <td>https://www.liepin.com/company/12846035/</td>\n      <td>批发/零售</td>\n      <td>NaN</td>\n    </tr>\n    <tr>\n      <th>3</th>\n      <td>{\"jobKind\":\"2\",\"userId\":\"b4e202c249d928a12ab21...</td>\n      <td>%7B%22sfrom%22%3A%22search_job_pc%22%2C%22jobK...</td>\n      <td>[BD，业务，采购，, 酒店/旅行社合作]</td>\n      <td>酒店签约产品经理</td>\n      <td>2</td>\n      <td>20210224104701</td>\n      <td>36091987</td>\n      <td>广州</td>\n      <td>一年以下</td>\n      <td>中专/中技</td>\n      <td>...</td>\n      <td>李先生</td>\n      <td>运营总监</td>\n      <td>603486248f5866739fffda8207u.png</td>\n      <td>12569735.0</td>\n      <td>广州视界行旅行社有限公司</td>\n      <td>1-49人</td>\n      <td>603470aab9834220c1e1405904u.jpg</td>\n      <td>https://www.liepin.com/company/12569735/</td>\n      <td>酒店/民宿</td>\n      <td>融资未公开</td>\n    </tr>\n    <tr>\n      <th>4</th>\n      <td>{\"jobKind\":\"2\",\"userId\":\"3fcd2f12b166bad5fdacd...</td>\n      <td>%7B%22sfrom%22%3A%22search_job_pc%22%2C%22jobK...</td>\n      <td>[工具产品, OTA, to B, 产品优化, 用户研究]</td>\n      <td>产品经理</td>\n      <td>2</td>\n      <td>20231027161849</td>\n      <td>62406775</td>\n      <td>广州-海珠区</td>\n      <td>一年以下</td>\n      <td>本科</td>\n      <td>...</td>\n      <td>梁女士</td>\n      <td>人力资源主管</td>\n      <td>5f8f9863f6d1ab58476f246a08u.jpg</td>\n      <td>8082331.0</td>\n      <td>租租车</td>\n      <td>1000-2000人</td>\n      <td>59b6035970324a7f8c9d651306a.jpg</td>\n      <td>https://www.liepin.com/company/8082331/</td>\n      <td>互联网</td>\n      <td>D轮</td>\n    </tr>\n    <tr>\n      <th>...</th>\n      <td>...</td>\n      <td>...</td>\n      <td>...</td>\n      <td>...</td>\n      <td>...</td>\n      <td>...</td>\n      <td>...</td>\n      <td>...</td>\n      <td>...</td>\n      <td>...</td>\n      <td>...</td>\n      <td>...</td>\n      <td>...</td>\n      <td>...</td>\n      <td>...</td>\n      <td>...</td>\n      <td>...</td>\n      <td>...</td>\n      <td>...</td>\n      <td>...</td>\n      <td>...</td>\n    </tr>\n    <tr>\n      <th>35</th>\n      <td>{\"jobKind\":\"2\",\"userId\":\"37db68e03ec658ae45961...</td>\n      <td>%7B%22sfrom%22%3A%22search_job_pc%22%2C%22jobK...</td>\n      <td>[ios, swift, c++]</td>\n      <td>高级ios开发工程师</td>\n      <td>2</td>\n      <td>20200910141413</td>\n      <td>31591593</td>\n      <td>广州</td>\n      <td>一年以下</td>\n      <td>本科</td>\n      <td>...</td>\n      <td>许先生</td>\n      <td>Android</td>\n      <td>5f8f986aea60860b75384fab08u.jpg</td>\n      <td>9867815.0</td>\n      <td>抖音有限公司</td>\n      <td>10000人以上</td>\n      <td>61b07937d0458d53c627567e02u.jpg</td>\n      <td>https://www.liepin.com/company/9867815/</td>\n      <td>云计算/大数据</td>\n      <td>D轮</td>\n    </tr>\n    <tr>\n      <th>36</th>\n      <td>{\"jobKind\":\"2\",\"userId\":\"a98aa77f343aaf76c20cb...</td>\n      <td>%7B%22sfrom%22%3A%22search_job_pc%22%2C%22jobK...</td>\n      <td>[学术推广, 医药代表]</td>\n      <td>医药学术推广</td>\n      <td>2</td>\n      <td>20230919164637</td>\n      <td>61762895</td>\n      <td>广州-天河区</td>\n      <td>一年以下</td>\n      <td>大专</td>\n      <td>...</td>\n      <td>李女士</td>\n      <td>HR</td>\n      <td>5f8f9865ea60860b75384fa508u.jpg</td>\n      <td>12666657.0</td>\n      <td>柳叶刀医生集团(广东)有限公司</td>\n      <td>50-99人</td>\n      <td>61b07937d0458d53c627567e02u.jpg</td>\n      <td>https://www.liepin.com/company/12666657/</td>\n      <td>医疗机构</td>\n      <td>NaN</td>\n    </tr>\n    <tr>\n      <th>37</th>\n      <td>{\"jobKind\":\"2\",\"userId\":\"8d90c26ed477481c5bfe9...</td>\n      <td>%7B%22sfrom%22%3A%22search_job_pc%22%2C%22jobK...</td>\n      <td>[数字化咨询, 战略咨询, 数据分析, 营销管理咨询, 运营管理咨询, 品牌咨询, 企管咨询...</td>\n      <td>数字化创新咨询实习生</td>\n      <td>2</td>\n      <td>20231027154740</td>\n      <td>57983271</td>\n      <td>广州-越秀区</td>\n      <td>一年以下</td>\n      <td>硕士</td>\n      <td>...</td>\n      <td>Keli Tang</td>\n      <td>HRBP</td>\n      <td>5f8f9865ea60860b75384fa508u.jpg</td>\n      <td>9283329.0</td>\n      <td>即能科技(广州)有限公司</td>\n      <td>1-49人</td>\n      <td>59dc78457832e11b880f044c05a.png</td>\n      <td>https://www.liepin.com/company/9283329/</td>\n      <td>专业技术服务</td>\n      <td>NaN</td>\n    </tr>\n    <tr>\n      <th>38</th>\n      <td>{\"jobKind\":\"2\",\"userId\":\"188a95ddd9c77035c9636...</td>\n      <td>%7B%22sfrom%22%3A%22search_job_pc%22%2C%22jobK...</td>\n      <td>[旅游行业, OTA, 电子商务, 旅游产品运营, 旅游线路策划]</td>\n      <td>导游/旅行顾问</td>\n      <td>2</td>\n      <td>20210724165111</td>\n      <td>38044257</td>\n      <td>广州-白云区</td>\n      <td>一年以下</td>\n      <td>学历不限</td>\n      <td>...</td>\n      <td>夏先生</td>\n      <td>人事专员</td>\n      <td>5f8f9868f6d1ab58476f24a008u.jpg</td>\n      <td>12685249.0</td>\n      <td>广州凯越国际旅行社有限公司</td>\n      <td>50-99人</td>\n      <td>61b07937d0458d53c627567e02u.jpg</td>\n      <td>https://www.liepin.com/company/12685249/</td>\n      <td>旅游</td>\n      <td>融资未公开</td>\n    </tr>\n    <tr>\n      <th>39</th>\n      <td>{\"jobKind\":\"2\",\"userId\":\"7867b8a4f5b86707295af...</td>\n      <td>%7B%22sfrom%22%3A%22search_job_pc%22%2C%22jobK...</td>\n      <td>[市场洞察, 客户管理, to B, 面销, 陌拜销售, 交通/物流/贸易, 消费品, 制造业]</td>\n      <td>物流营销专员</td>\n      <td>2</td>\n      <td>20230915110524</td>\n      <td>61595971</td>\n      <td>广州-番禺区</td>\n      <td>一年以下</td>\n      <td>大专</td>\n      <td>...</td>\n      <td>唐女士</td>\n      <td>集团招聘负责人</td>\n      <td>5f8f986779c7cc70efbf36c008u.jpg</td>\n      <td>9147264.0</td>\n      <td>广州拓领物流有限公司</td>\n      <td>1-49人</td>\n      <td>5bfe90e374719d35745ab8fd03a.png</td>\n      <td>https://www.liepin.com/company/9147264/</td>\n      <td>货运/物流/仓储</td>\n      <td>融资未公开</td>\n    </tr>\n  </tbody>\n</table>\n<p>80 rows × 31 columns</p>\n</div>"
     },
     "execution_count": 10,
     "metadata": {},
     "output_type": "execute_result"
    }
   ],
   "source": [
    "df = pd.concat(response_df)\n",
    "df"
   ]
  },
  {
   "cell_type": "code",
   "execution_count": 11,
   "id": "c2ac6009",
   "metadata": {},
   "outputs": [
    {
     "data": {
      "text/plain": "'产品经理'"
     },
     "execution_count": 11,
     "metadata": {},
     "output_type": "execute_result"
    }
   ],
   "source": [
    "key = payload['data']['mainSearchPcConditionForm']['key']\n",
    "key"
   ]
  },
  {
   "cell_type": "markdown",
   "id": "70fc6de3",
   "metadata": {},
   "source": [
    "## 数据存储"
   ]
  },
  {
   "cell_type": "code",
   "execution_count": 12,
   "id": "2e032016",
   "metadata": {},
   "outputs": [],
   "source": [
    "import time"
   ]
  },
  {
   "cell_type": "code",
   "execution_count": 13,
   "id": "0affdb43",
   "metadata": {},
   "outputs": [
    {
     "data": {
      "text/plain": "time.struct_time(tm_year=2023, tm_mon=10, tm_mday=29, tm_hour=13, tm_min=59, tm_sec=7, tm_wday=6, tm_yday=302, tm_isdst=0)"
     },
     "execution_count": 13,
     "metadata": {},
     "output_type": "execute_result"
    }
   ],
   "source": [
    "time.localtime()"
   ]
  },
  {
   "cell_type": "code",
   "execution_count": 14,
   "id": "9badfd3c",
   "metadata": {},
   "outputs": [
    {
     "data": {
      "text/plain": "'2023-10-29_13-59'"
     },
     "execution_count": 14,
     "metadata": {},
     "output_type": "execute_result"
    }
   ],
   "source": [
    "output_time = str(time.localtime().tm_year)+'-'\\\n",
    "              +str(time.localtime().tm_mon)+'-'\\\n",
    "             +str(time.localtime().tm_mday)+'_'\\\n",
    "             +str(time.localtime().tm_hour)+'-' \\\n",
    "             +str(time.localtime().tm_min)\n",
    "output_time "
   ]
  },
  {
   "cell_type": "code",
   "execution_count": 15,
   "id": "1d2de632",
   "metadata": {},
   "outputs": [],
   "source": [
    "# 按照职位名称和时间导出文件\n",
    "df.to_excel( key +'_liepin_'+output_time+'.xlsx')"
   ]
  },
  {
   "cell_type": "markdown",
   "id": "f6511a95",
   "metadata": {},
   "source": [
    "# 数据分析\n",
    "\n",
    "> 1. Pandas/Numpy\n",
    "> 2. Pyecharts(bokeh、matplotlab、seaborn、echarts、Tebleau)/更考虑用户的体验"
   ]
  },
  {
   "cell_type": "code",
   "execution_count": 16,
   "id": "ae96f73c",
   "metadata": {},
   "outputs": [],
   "source": [
    "import pandas as pd"
   ]
  },
  {
   "cell_type": "code",
   "execution_count": 17,
   "id": "af2682c2",
   "metadata": {
    "scrolled": true
   },
   "outputs": [
    {
     "data": {
      "text/plain": "    Unnamed: 0                                         dataParams  \\\n0            0  {\"jobKind\":\"2\",\"userId\":\"17ef54758d358b720d978...   \n1            1  {\"jobKind\":\"2\",\"userId\":\"17ef54758d358b720d978...   \n2            2  {\"jobKind\":\"2\",\"userId\":\"cf01d8d7485481826ff0c...   \n3            3  {\"jobKind\":\"2\",\"userId\":\"b4e202c249d928a12ab21...   \n4            4  {\"jobKind\":\"2\",\"userId\":\"3fcd2f12b166bad5fdacd...   \n..         ...                                                ...   \n75          35  {\"jobKind\":\"2\",\"userId\":\"37db68e03ec658ae45961...   \n76          36  {\"jobKind\":\"2\",\"userId\":\"a98aa77f343aaf76c20cb...   \n77          37  {\"jobKind\":\"2\",\"userId\":\"8d90c26ed477481c5bfe9...   \n78          38  {\"jobKind\":\"2\",\"userId\":\"188a95ddd9c77035c9636...   \n79          39  {\"jobKind\":\"2\",\"userId\":\"7867b8a4f5b86707295af...   \n\n                                             dataInfo  \\\n0   %7B%22sfrom%22%3A%22search_job_pc%22%2C%22jobK...   \n1   %7B%22sfrom%22%3A%22search_job_pc%22%2C%22jobK...   \n2   %7B%22sfrom%22%3A%22search_job_pc%22%2C%22jobK...   \n3   %7B%22sfrom%22%3A%22search_job_pc%22%2C%22jobK...   \n4   %7B%22sfrom%22%3A%22search_job_pc%22%2C%22jobK...   \n..                                                ...   \n75  %7B%22sfrom%22%3A%22search_job_pc%22%2C%22jobK...   \n76  %7B%22sfrom%22%3A%22search_job_pc%22%2C%22jobK...   \n77  %7B%22sfrom%22%3A%22search_job_pc%22%2C%22jobK...   \n78  %7B%22sfrom%22%3A%22search_job_pc%22%2C%22jobK...   \n79  %7B%22sfrom%22%3A%22search_job_pc%22%2C%22jobK...   \n\n                                           job.labels            job.title  \\\n0    ['策略产品', '商业产品', '供应链产品', '消费品', '产品规划', '团队管理']  GTM经理/产品经理/产品上市项目管理   \n1   ['数据产品', '工艺品/收藏品', '消费品', '产品优化', '产品规划', '数据...               高级产品经理   \n2                                            ['数据分析']             潮玩盲盒产品经理   \n3                           ['BD，业务，采购，', '酒店/旅行社合作']             酒店签约产品经理   \n4             ['工具产品', 'OTA', 'to B', '产品优化', '用户研究']                 产品经理   \n..                                                ...                  ...   \n75                            ['ios', 'swift', 'c++']           高级ios开发工程师   \n76                                   ['学术推广', '医药代表']               医药学术推广   \n77  ['数字化咨询', '战略咨询', '数据分析', '营销管理咨询', '运营管理咨询', ...           数字化创新咨询实习生   \n78        ['旅游行业', 'OTA', '电子商务', '旅游产品运营', '旅游线路策划']              导游/旅行顾问   \n79  ['市场洞察', '客户管理', 'to B', '面销', '陌拜销售', '交通/物流/...               物流营销专员   \n\n    job.jobKind  job.refreshTime  job.jobId  job.dq job.requireWorkYears  ...  \\\n0             2   20230804141131   60552001  广州-荔湾区                 一年以下  ...   \n1             2   20230607134704   59150941  广州-荔湾区                 一年以下  ...   \n2             2   20230307150921   44235539  广州-海珠区                 一年以下  ...   \n3             2   20210224104701   36091987      广州                 一年以下  ...   \n4             2   20231027161849   62406775  广州-海珠区                 一年以下  ...   \n..          ...              ...        ...     ...                  ...  ...   \n75            2   20200910141413   31591593      广州                 一年以下  ...   \n76            2   20230919164637   61762895  广州-天河区                 一年以下  ...   \n77            2   20231027154740   57983271  广州-越秀区                 一年以下  ...   \n78            2   20210724165111   38044257  广州-白云区                 一年以下  ...   \n79            2   20230915110524   61595971  广州-番禺区                 一年以下  ...   \n\n   recruiter.recruiterName  recruiter.recruiterTitle  \\\n0                      薛先生                      运营总监   \n1                      薛先生                      运营总监   \n2                      朱女士                      人资经理   \n3                      李先生                      运营总监   \n4                      梁女士                    人力资源主管   \n..                     ...                       ...   \n75                     许先生                   Android   \n76                     李女士                        HR   \n77               Keli Tang                      HRBP   \n78                     夏先生                      人事专员   \n79                     唐女士                   集团招聘负责人   \n\n           recruiter.recruiterPhoto comp.compId    comp.compName  \\\n0   5f8f986bdfb13a7dee342f2108u.jpg  13443587.0      佛山市开仪家具有限公司   \n1   5f8f986bdfb13a7dee342f2108u.jpg  13443587.0      佛山市开仪家具有限公司   \n2   5f8f9863f6d1ab58476f246a08u.jpg  12846035.0   北京妙趣盒生文化传播有限公司   \n3   603486248f5866739fffda8207u.png  12569735.0     广州视界行旅行社有限公司   \n4   5f8f9863f6d1ab58476f246a08u.jpg   8082331.0              租租车   \n..                              ...         ...              ...   \n75  5f8f986aea60860b75384fab08u.jpg   9867815.0           抖音有限公司   \n76  5f8f9865ea60860b75384fa508u.jpg  12666657.0  柳叶刀医生集团(广东)有限公司   \n77  5f8f9865ea60860b75384fa508u.jpg   9283329.0     即能科技(广州)有限公司   \n78  5f8f9868f6d1ab58476f24a008u.jpg  12685249.0    广州凯越国际旅行社有限公司   \n79  5f8f986779c7cc70efbf36c008u.jpg   9147264.0       广州拓领物流有限公司   \n\n    comp.compScale                    comp.compLogo  \\\n0            1-49人  61b07937d0458d53c627567e02u.jpg   \n1            1-49人  61b07937d0458d53c627567e02u.jpg   \n2         100-499人  61b07937d0458d53c627567e02u.jpg   \n3            1-49人  603470aab9834220c1e1405904u.jpg   \n4       1000-2000人  59b6035970324a7f8c9d651306a.jpg   \n..             ...                              ...   \n75        10000人以上  61b07937d0458d53c627567e02u.jpg   \n76          50-99人  61b07937d0458d53c627567e02u.jpg   \n77           1-49人  59dc78457832e11b880f044c05a.png   \n78          50-99人  61b07937d0458d53c627567e02u.jpg   \n79           1-49人  5bfe90e374719d35745ab8fd03a.png   \n\n                                   comp.link  comp.compIndustry comp.compStage  \n0   https://www.liepin.com/company/13443587/              家具/家居            NaN  \n1   https://www.liepin.com/company/13443587/              家具/家居            NaN  \n2   https://www.liepin.com/company/12846035/              批发/零售            NaN  \n3   https://www.liepin.com/company/12569735/              酒店/民宿          融资未公开  \n4    https://www.liepin.com/company/8082331/                互联网             D轮  \n..                                       ...                ...            ...  \n75   https://www.liepin.com/company/9867815/            云计算/大数据             D轮  \n76  https://www.liepin.com/company/12666657/               医疗机构            NaN  \n77   https://www.liepin.com/company/9283329/             专业技术服务            NaN  \n78  https://www.liepin.com/company/12685249/                 旅游          融资未公开  \n79   https://www.liepin.com/company/9147264/           货运/物流/仓储          融资未公开  \n\n[80 rows x 32 columns]",
      "text/html": "<div>\n<style scoped>\n    .dataframe tbody tr th:only-of-type {\n        vertical-align: middle;\n    }\n\n    .dataframe tbody tr th {\n        vertical-align: top;\n    }\n\n    .dataframe thead th {\n        text-align: right;\n    }\n</style>\n<table border=\"1\" class=\"dataframe\">\n  <thead>\n    <tr style=\"text-align: right;\">\n      <th></th>\n      <th>Unnamed: 0</th>\n      <th>dataParams</th>\n      <th>dataInfo</th>\n      <th>job.labels</th>\n      <th>job.title</th>\n      <th>job.jobKind</th>\n      <th>job.refreshTime</th>\n      <th>job.jobId</th>\n      <th>job.dq</th>\n      <th>job.requireWorkYears</th>\n      <th>...</th>\n      <th>recruiter.recruiterName</th>\n      <th>recruiter.recruiterTitle</th>\n      <th>recruiter.recruiterPhoto</th>\n      <th>comp.compId</th>\n      <th>comp.compName</th>\n      <th>comp.compScale</th>\n      <th>comp.compLogo</th>\n      <th>comp.link</th>\n      <th>comp.compIndustry</th>\n      <th>comp.compStage</th>\n    </tr>\n  </thead>\n  <tbody>\n    <tr>\n      <th>0</th>\n      <td>0</td>\n      <td>{\"jobKind\":\"2\",\"userId\":\"17ef54758d358b720d978...</td>\n      <td>%7B%22sfrom%22%3A%22search_job_pc%22%2C%22jobK...</td>\n      <td>['策略产品', '商业产品', '供应链产品', '消费品', '产品规划', '团队管理']</td>\n      <td>GTM经理/产品经理/产品上市项目管理</td>\n      <td>2</td>\n      <td>20230804141131</td>\n      <td>60552001</td>\n      <td>广州-荔湾区</td>\n      <td>一年以下</td>\n      <td>...</td>\n      <td>薛先生</td>\n      <td>运营总监</td>\n      <td>5f8f986bdfb13a7dee342f2108u.jpg</td>\n      <td>13443587.0</td>\n      <td>佛山市开仪家具有限公司</td>\n      <td>1-49人</td>\n      <td>61b07937d0458d53c627567e02u.jpg</td>\n      <td>https://www.liepin.com/company/13443587/</td>\n      <td>家具/家居</td>\n      <td>NaN</td>\n    </tr>\n    <tr>\n      <th>1</th>\n      <td>1</td>\n      <td>{\"jobKind\":\"2\",\"userId\":\"17ef54758d358b720d978...</td>\n      <td>%7B%22sfrom%22%3A%22search_job_pc%22%2C%22jobK...</td>\n      <td>['数据产品', '工艺品/收藏品', '消费品', '产品优化', '产品规划', '数据...</td>\n      <td>高级产品经理</td>\n      <td>2</td>\n      <td>20230607134704</td>\n      <td>59150941</td>\n      <td>广州-荔湾区</td>\n      <td>一年以下</td>\n      <td>...</td>\n      <td>薛先生</td>\n      <td>运营总监</td>\n      <td>5f8f986bdfb13a7dee342f2108u.jpg</td>\n      <td>13443587.0</td>\n      <td>佛山市开仪家具有限公司</td>\n      <td>1-49人</td>\n      <td>61b07937d0458d53c627567e02u.jpg</td>\n      <td>https://www.liepin.com/company/13443587/</td>\n      <td>家具/家居</td>\n      <td>NaN</td>\n    </tr>\n    <tr>\n      <th>2</th>\n      <td>2</td>\n      <td>{\"jobKind\":\"2\",\"userId\":\"cf01d8d7485481826ff0c...</td>\n      <td>%7B%22sfrom%22%3A%22search_job_pc%22%2C%22jobK...</td>\n      <td>['数据分析']</td>\n      <td>潮玩盲盒产品经理</td>\n      <td>2</td>\n      <td>20230307150921</td>\n      <td>44235539</td>\n      <td>广州-海珠区</td>\n      <td>一年以下</td>\n      <td>...</td>\n      <td>朱女士</td>\n      <td>人资经理</td>\n      <td>5f8f9863f6d1ab58476f246a08u.jpg</td>\n      <td>12846035.0</td>\n      <td>北京妙趣盒生文化传播有限公司</td>\n      <td>100-499人</td>\n      <td>61b07937d0458d53c627567e02u.jpg</td>\n      <td>https://www.liepin.com/company/12846035/</td>\n      <td>批发/零售</td>\n      <td>NaN</td>\n    </tr>\n    <tr>\n      <th>3</th>\n      <td>3</td>\n      <td>{\"jobKind\":\"2\",\"userId\":\"b4e202c249d928a12ab21...</td>\n      <td>%7B%22sfrom%22%3A%22search_job_pc%22%2C%22jobK...</td>\n      <td>['BD，业务，采购，', '酒店/旅行社合作']</td>\n      <td>酒店签约产品经理</td>\n      <td>2</td>\n      <td>20210224104701</td>\n      <td>36091987</td>\n      <td>广州</td>\n      <td>一年以下</td>\n      <td>...</td>\n      <td>李先生</td>\n      <td>运营总监</td>\n      <td>603486248f5866739fffda8207u.png</td>\n      <td>12569735.0</td>\n      <td>广州视界行旅行社有限公司</td>\n      <td>1-49人</td>\n      <td>603470aab9834220c1e1405904u.jpg</td>\n      <td>https://www.liepin.com/company/12569735/</td>\n      <td>酒店/民宿</td>\n      <td>融资未公开</td>\n    </tr>\n    <tr>\n      <th>4</th>\n      <td>4</td>\n      <td>{\"jobKind\":\"2\",\"userId\":\"3fcd2f12b166bad5fdacd...</td>\n      <td>%7B%22sfrom%22%3A%22search_job_pc%22%2C%22jobK...</td>\n      <td>['工具产品', 'OTA', 'to B', '产品优化', '用户研究']</td>\n      <td>产品经理</td>\n      <td>2</td>\n      <td>20231027161849</td>\n      <td>62406775</td>\n      <td>广州-海珠区</td>\n      <td>一年以下</td>\n      <td>...</td>\n      <td>梁女士</td>\n      <td>人力资源主管</td>\n      <td>5f8f9863f6d1ab58476f246a08u.jpg</td>\n      <td>8082331.0</td>\n      <td>租租车</td>\n      <td>1000-2000人</td>\n      <td>59b6035970324a7f8c9d651306a.jpg</td>\n      <td>https://www.liepin.com/company/8082331/</td>\n      <td>互联网</td>\n      <td>D轮</td>\n    </tr>\n    <tr>\n      <th>...</th>\n      <td>...</td>\n      <td>...</td>\n      <td>...</td>\n      <td>...</td>\n      <td>...</td>\n      <td>...</td>\n      <td>...</td>\n      <td>...</td>\n      <td>...</td>\n      <td>...</td>\n      <td>...</td>\n      <td>...</td>\n      <td>...</td>\n      <td>...</td>\n      <td>...</td>\n      <td>...</td>\n      <td>...</td>\n      <td>...</td>\n      <td>...</td>\n      <td>...</td>\n      <td>...</td>\n    </tr>\n    <tr>\n      <th>75</th>\n      <td>35</td>\n      <td>{\"jobKind\":\"2\",\"userId\":\"37db68e03ec658ae45961...</td>\n      <td>%7B%22sfrom%22%3A%22search_job_pc%22%2C%22jobK...</td>\n      <td>['ios', 'swift', 'c++']</td>\n      <td>高级ios开发工程师</td>\n      <td>2</td>\n      <td>20200910141413</td>\n      <td>31591593</td>\n      <td>广州</td>\n      <td>一年以下</td>\n      <td>...</td>\n      <td>许先生</td>\n      <td>Android</td>\n      <td>5f8f986aea60860b75384fab08u.jpg</td>\n      <td>9867815.0</td>\n      <td>抖音有限公司</td>\n      <td>10000人以上</td>\n      <td>61b07937d0458d53c627567e02u.jpg</td>\n      <td>https://www.liepin.com/company/9867815/</td>\n      <td>云计算/大数据</td>\n      <td>D轮</td>\n    </tr>\n    <tr>\n      <th>76</th>\n      <td>36</td>\n      <td>{\"jobKind\":\"2\",\"userId\":\"a98aa77f343aaf76c20cb...</td>\n      <td>%7B%22sfrom%22%3A%22search_job_pc%22%2C%22jobK...</td>\n      <td>['学术推广', '医药代表']</td>\n      <td>医药学术推广</td>\n      <td>2</td>\n      <td>20230919164637</td>\n      <td>61762895</td>\n      <td>广州-天河区</td>\n      <td>一年以下</td>\n      <td>...</td>\n      <td>李女士</td>\n      <td>HR</td>\n      <td>5f8f9865ea60860b75384fa508u.jpg</td>\n      <td>12666657.0</td>\n      <td>柳叶刀医生集团(广东)有限公司</td>\n      <td>50-99人</td>\n      <td>61b07937d0458d53c627567e02u.jpg</td>\n      <td>https://www.liepin.com/company/12666657/</td>\n      <td>医疗机构</td>\n      <td>NaN</td>\n    </tr>\n    <tr>\n      <th>77</th>\n      <td>37</td>\n      <td>{\"jobKind\":\"2\",\"userId\":\"8d90c26ed477481c5bfe9...</td>\n      <td>%7B%22sfrom%22%3A%22search_job_pc%22%2C%22jobK...</td>\n      <td>['数字化咨询', '战略咨询', '数据分析', '营销管理咨询', '运营管理咨询', ...</td>\n      <td>数字化创新咨询实习生</td>\n      <td>2</td>\n      <td>20231027154740</td>\n      <td>57983271</td>\n      <td>广州-越秀区</td>\n      <td>一年以下</td>\n      <td>...</td>\n      <td>Keli Tang</td>\n      <td>HRBP</td>\n      <td>5f8f9865ea60860b75384fa508u.jpg</td>\n      <td>9283329.0</td>\n      <td>即能科技(广州)有限公司</td>\n      <td>1-49人</td>\n      <td>59dc78457832e11b880f044c05a.png</td>\n      <td>https://www.liepin.com/company/9283329/</td>\n      <td>专业技术服务</td>\n      <td>NaN</td>\n    </tr>\n    <tr>\n      <th>78</th>\n      <td>38</td>\n      <td>{\"jobKind\":\"2\",\"userId\":\"188a95ddd9c77035c9636...</td>\n      <td>%7B%22sfrom%22%3A%22search_job_pc%22%2C%22jobK...</td>\n      <td>['旅游行业', 'OTA', '电子商务', '旅游产品运营', '旅游线路策划']</td>\n      <td>导游/旅行顾问</td>\n      <td>2</td>\n      <td>20210724165111</td>\n      <td>38044257</td>\n      <td>广州-白云区</td>\n      <td>一年以下</td>\n      <td>...</td>\n      <td>夏先生</td>\n      <td>人事专员</td>\n      <td>5f8f9868f6d1ab58476f24a008u.jpg</td>\n      <td>12685249.0</td>\n      <td>广州凯越国际旅行社有限公司</td>\n      <td>50-99人</td>\n      <td>61b07937d0458d53c627567e02u.jpg</td>\n      <td>https://www.liepin.com/company/12685249/</td>\n      <td>旅游</td>\n      <td>融资未公开</td>\n    </tr>\n    <tr>\n      <th>79</th>\n      <td>39</td>\n      <td>{\"jobKind\":\"2\",\"userId\":\"7867b8a4f5b86707295af...</td>\n      <td>%7B%22sfrom%22%3A%22search_job_pc%22%2C%22jobK...</td>\n      <td>['市场洞察', '客户管理', 'to B', '面销', '陌拜销售', '交通/物流/...</td>\n      <td>物流营销专员</td>\n      <td>2</td>\n      <td>20230915110524</td>\n      <td>61595971</td>\n      <td>广州-番禺区</td>\n      <td>一年以下</td>\n      <td>...</td>\n      <td>唐女士</td>\n      <td>集团招聘负责人</td>\n      <td>5f8f986779c7cc70efbf36c008u.jpg</td>\n      <td>9147264.0</td>\n      <td>广州拓领物流有限公司</td>\n      <td>1-49人</td>\n      <td>5bfe90e374719d35745ab8fd03a.png</td>\n      <td>https://www.liepin.com/company/9147264/</td>\n      <td>货运/物流/仓储</td>\n      <td>融资未公开</td>\n    </tr>\n  </tbody>\n</table>\n<p>80 rows × 32 columns</p>\n</div>"
     },
     "execution_count": 17,
     "metadata": {},
     "output_type": "execute_result"
    }
   ],
   "source": [
    "df = pd.read_excel(key+'_liepin_'+output_time+'.xlsx')\n",
    "df"
   ]
  },
  {
   "cell_type": "code",
   "execution_count": 18,
   "id": "e14c166d",
   "metadata": {
    "scrolled": false
   },
   "outputs": [
    {
     "name": "stdout",
     "output_type": "stream",
     "text": [
      "<class 'pandas.core.frame.DataFrame'>\n",
      "RangeIndex: 80 entries, 0 to 79\n",
      "Data columns (total 32 columns):\n",
      " #   Column                    Non-Null Count  Dtype  \n",
      "---  ------                    --------------  -----  \n",
      " 0   Unnamed: 0                80 non-null     int64  \n",
      " 1   dataParams                80 non-null     object \n",
      " 2   dataInfo                  80 non-null     object \n",
      " 3   job.labels                80 non-null     object \n",
      " 4   job.title                 80 non-null     object \n",
      " 5   job.jobKind               80 non-null     int64  \n",
      " 6   job.refreshTime           80 non-null     int64  \n",
      " 7   job.jobId                 80 non-null     int64  \n",
      " 8   job.dq                    80 non-null     object \n",
      " 9   job.requireWorkYears      80 non-null     object \n",
      " 10  job.requireEduLevel       80 non-null     object \n",
      " 11  job.topJob                80 non-null     bool   \n",
      " 12  job.link                  80 non-null     object \n",
      " 13  job.salary                80 non-null     object \n",
      " 14  job.pcOuterLink           0 non-null      float64\n",
      " 15  job.h5OuterLink           0 non-null      float64\n",
      " 16  job.advViewFlag           80 non-null     bool   \n",
      " 17  job.dataPromId            80 non-null     object \n",
      " 18  recruiter.chatted         80 non-null     bool   \n",
      " 19  recruiter.recruiterId     80 non-null     object \n",
      " 20  recruiter.imId            80 non-null     object \n",
      " 21  recruiter.imUserType      80 non-null     int64  \n",
      " 22  recruiter.recruiterName   80 non-null     object \n",
      " 23  recruiter.recruiterTitle  74 non-null     object \n",
      " 24  recruiter.recruiterPhoto  80 non-null     object \n",
      " 25  comp.compId               78 non-null     float64\n",
      " 26  comp.compName             80 non-null     object \n",
      " 27  comp.compScale            78 non-null     object \n",
      " 28  comp.compLogo             80 non-null     object \n",
      " 29  comp.link                 78 non-null     object \n",
      " 30  comp.compIndustry         80 non-null     object \n",
      " 31  comp.compStage            46 non-null     object \n",
      "dtypes: bool(3), float64(3), int64(5), object(21)\n",
      "memory usage: 18.5+ KB\n"
     ]
    }
   ],
   "source": [
    "df.info()"
   ]
  },
  {
   "cell_type": "markdown",
   "id": "9bf806de",
   "metadata": {},
   "source": [
    "## 筛选存在数据分析价值的列"
   ]
  },
  {
   "cell_type": "code",
   "execution_count": 19,
   "id": "048c64d5",
   "metadata": {
    "scrolled": true
   },
   "outputs": [],
   "source": [
    "if payload['data']['mainSearchPcConditionForm'][\"workYearCode\"]=='2':\n",
    "    df_PM_gz =  df[['job.labels','job.refreshTime','job.title','job.salary','job.dq','job.topJob','comp.compStage','comp.compName','comp.compIndustry','comp.compScale']]\n",
    "else:\n",
    "    df_PM_gz =  df[['job.labels','job.refreshTime','job.title','job.salary','job.dq','job.topJob','job.requireWorkYears','job.requireEduLevel','comp.compStage','comp.compName','comp.compIndustry','comp.compScale']]"
   ]
  },
  {
   "cell_type": "markdown",
   "id": "66931fa5",
   "metadata": {},
   "source": [
    "## 地区分布"
   ]
  },
  {
   "cell_type": "code",
   "execution_count": 20,
   "id": "40af9bd5",
   "metadata": {
    "scrolled": true
   },
   "outputs": [
    {
     "data": {
      "text/plain": "广州        22\n广州-番禺区    14\n广州-越秀区    12\n广州-天河区    10\n广州-海珠区     6\n广州-白云区     6\n广州-荔湾区     4\n广州-南沙区     2\n广州-黄埔区     2\n广州-花都区     2\nName: job.dq, dtype: int64"
     },
     "execution_count": 20,
     "metadata": {},
     "output_type": "execute_result"
    }
   ],
   "source": [
    "df_PM_gz['job.dq'].value_counts()"
   ]
  },
  {
   "cell_type": "code",
   "execution_count": 21,
   "id": "6e2e2626",
   "metadata": {},
   "outputs": [
    {
     "data": {
      "text/plain": "['番禺区', '越秀区', '天河区', '海珠区', '白云区', '荔湾区', '南沙区', '黄埔区', '花都区']"
     },
     "execution_count": 21,
     "metadata": {},
     "output_type": "execute_result"
    }
   ],
   "source": [
    "地区 = [ df_PM_gz['job.dq'].value_counts().index.tolist()[i].split('-')[1]\\\n",
    "         for i,v in enumerate(df_PM_gz['job.dq'].value_counts().index.tolist()) if '-' in v]\n",
    "地区"
   ]
  },
  {
   "cell_type": "code",
   "execution_count": 22,
   "id": "6c2a3f0f",
   "metadata": {},
   "outputs": [
    {
     "data": {
      "text/plain": "[14, 12, 10, 6, 6, 4, 2, 2, 2]"
     },
     "execution_count": 22,
     "metadata": {},
     "output_type": "execute_result"
    }
   ],
   "source": [
    "岗位个数 = [ df_PM_gz['job.dq'].value_counts().values.tolist()[i] for i,v in enumerate(df_PM_gz['job.dq'].value_counts().index.tolist()) if \"-\" in v]\n",
    "岗位个数"
   ]
  },
  {
   "cell_type": "code",
   "execution_count": 23,
   "id": "7bdd1791",
   "metadata": {},
   "outputs": [
    {
     "data": {
      "text/plain": "5       项目工程师\n7     产品经理实习生\n45      项目工程师\n47    产品经理实习生\nName: job.title, dtype: object"
     },
     "execution_count": 23,
     "metadata": {},
     "output_type": "execute_result"
    }
   ],
   "source": [
    "# 还要合并回去原来的行\n",
    "df_PM_gz['job.title'][   df_PM_gz['job.title'].str.contains('（')   ].str.split('（').apply(lambda x:x[0])"
   ]
  },
  {
   "cell_type": "code",
   "execution_count": 24,
   "id": "67ce6925",
   "metadata": {
    "scrolled": false
   },
   "outputs": [
    {
     "data": {
      "text/plain": "产品经理               10\n网络推广专员              4\n医药学术专员              4\nGTM经理               2\n跨境电商产品开发            2\n亚马逊初级运营             2\n学术推广代表              2\n产品专员                2\n采购文员                2\nCRA                 2\n商品编辑                2\n大客户销售顾问             2\n化妆品开发助理             2\n高级ios开发工程师          2\n医药学术推广              2\n数字化创新咨询实习生          2\n导游                  2\n供应链管培生              2\n硬件开发工程师             2\n高级产品经理              2\n销售代表                2\n电话销售                2\n空运跟单                2\nJava开发工程师           2\n【可考虑应届生】亚马逊产品专员     2\n市场管培生               2\n产品项目经理              2\n产品部经理               2\n学术产品经理              2\n产品经理实习生             2\n项目工程师               2\n酒店签约产品经理            2\n潮玩盲盒产品经理            2\n物流营销专员              2\nName: job.title, dtype: int64"
     },
     "execution_count": 24,
     "metadata": {},
     "output_type": "execute_result"
    }
   ],
   "source": [
    "# 处理过一些，清洗后的数据\n",
    "df_job_title = df_PM_gz['job.title'].apply(lambda x:x.split('（')[0].split('/')[0].split('(')[0]).value_counts()\n",
    "df_job_title"
   ]
  },
  {
   "cell_type": "code",
   "execution_count": 25,
   "id": "002d568f",
   "metadata": {
    "scrolled": true
   },
   "outputs": [
    {
     "data": {
      "text/plain": "['产品经理',\n '网络推广专员',\n '医药学术专员',\n 'GTM经理',\n '跨境电商产品开发',\n '亚马逊初级运营',\n '学术推广代表',\n '产品专员',\n '采购文员',\n 'CRA',\n '商品编辑',\n '大客户销售顾问',\n '化妆品开发助理',\n '高级ios开发工程师',\n '医药学术推广',\n '数字化创新咨询实习生',\n '导游',\n '供应链管培生',\n '硬件开发工程师',\n '高级产品经理',\n '销售代表',\n '电话销售',\n '空运跟单',\n 'Java开发工程师',\n '【可考虑应届生】亚马逊产品专员',\n '市场管培生',\n '产品项目经理',\n '产品部经理',\n '学术产品经理',\n '产品经理实习生',\n '项目工程师',\n '酒店签约产品经理',\n '潮玩盲盒产品经理',\n '物流营销专员']"
     },
     "execution_count": 25,
     "metadata": {},
     "output_type": "execute_result"
    }
   ],
   "source": [
    "df_job_title.index.tolist()"
   ]
  },
  {
   "cell_type": "code",
   "execution_count": 26,
   "id": "02180275",
   "metadata": {},
   "outputs": [
    {
     "data": {
      "text/plain": "34"
     },
     "execution_count": 26,
     "metadata": {},
     "output_type": "execute_result"
    }
   ],
   "source": [
    "len(df_job_title.index.tolist())"
   ]
  },
  {
   "cell_type": "code",
   "execution_count": 27,
   "id": "e8c8f438",
   "metadata": {
    "scrolled": true
   },
   "outputs": [
    {
     "data": {
      "text/plain": "[10,\n 4,\n 4,\n 2,\n 2,\n 2,\n 2,\n 2,\n 2,\n 2,\n 2,\n 2,\n 2,\n 2,\n 2,\n 2,\n 2,\n 2,\n 2,\n 2,\n 2,\n 2,\n 2,\n 2,\n 2,\n 2,\n 2,\n 2,\n 2,\n 2,\n 2,\n 2,\n 2,\n 2]"
     },
     "execution_count": 27,
     "metadata": {},
     "output_type": "execute_result"
    }
   ],
   "source": [
    "df_job_title.values.tolist()"
   ]
  },
  {
   "cell_type": "code",
   "execution_count": 28,
   "id": "24635f28",
   "metadata": {},
   "outputs": [
    {
     "data": {
      "text/plain": "产品经理                        10\n网络推广专员                       4\n医药学术专员                       4\nGTM经理/产品经理/产品上市项目管理          2\n跨境电商产品开发                     2\n亚马逊初级运营                      2\n学术推广代表                       2\n产品专员                         2\n采购文员                         2\nCRA                          2\n商品编辑                         2\n大客户销售顾问                      2\n化妆品开发助理                      2\n高级ios开发工程师                   2\n医药学术推广                       2\n数字化创新咨询实习生                   2\n导游/旅行顾问                      2\n供应链管培生                       2\n硬件开发工程师                      2\n高级产品经理                       2\n销售代表                         2\n电话销售                         2\n空运跟单/空运操作 Operation          2\nJava开发工程师                    2\n【可考虑应届生】亚马逊产品专员(J10118)      2\n市场管培生                        2\n产品项目经理                       2\n产品部经理                        2\n学术产品经理                       2\n产品经理实习生（直播玩法） (MJ004122)     2\n项目工程师（PM方向）                  2\n酒店签约产品经理                     2\n潮玩盲盒产品经理                     2\n物流营销专员                       2\nName: job.title, dtype: int64"
     },
     "execution_count": 28,
     "metadata": {},
     "output_type": "execute_result"
    }
   ],
   "source": [
    "# 未处理字符串的数据（不太整洁和干净的数据）\n",
    "df_PM_gz['job.title'].value_counts()"
   ]
  },
  {
   "cell_type": "code",
   "execution_count": 29,
   "id": "0a02f2bc",
   "metadata": {},
   "outputs": [
    {
     "data": {
      "text/plain": "[('网络推广专员', 4),\n ('医药学术专员', 4),\n ('GTM经理', 2),\n ('跨境电商产品开发', 2),\n ('亚马逊初级运营', 2),\n ('学术推广代表', 2),\n ('产品专员', 2),\n ('采购文员', 2),\n ('CRA', 2),\n ('商品编辑', 2),\n ('大客户销售顾问', 2),\n ('化妆品开发助理', 2),\n ('高级ios开发工程师', 2),\n ('医药学术推广', 2),\n ('数字化创新咨询实习生', 2),\n ('导游', 2),\n ('供应链管培生', 2),\n ('硬件开发工程师', 2),\n ('高级产品经理', 2),\n ('销售代表', 2),\n ('电话销售', 2),\n ('空运跟单', 2),\n ('Java开发工程师', 2),\n ('【可考虑应届生】亚马逊产品专员', 2),\n ('市场管培生', 2),\n ('产品项目经理', 2),\n ('产品部经理', 2),\n ('学术产品经理', 2),\n ('产品经理实习生', 2),\n ('项目工程师', 2),\n ('酒店签约产品经理', 2),\n ('潮玩盲盒产品经理', 2),\n ('物流营销专员', 2)]"
     },
     "execution_count": 29,
     "metadata": {},
     "output_type": "execute_result"
    }
   ],
   "source": [
    "# 列表推导式\n",
    "PM_title_words = [(  df_job_title.index.tolist()[i]   ,   df_job_title.values.tolist()[i]  )    for i in range(1,len(df_job_title.index.tolist())) ]\n",
    "PM_title_words"
   ]
  },
  {
   "cell_type": "code",
   "execution_count": 29,
   "id": "601ce6a9",
   "metadata": {},
   "outputs": [],
   "source": [
    "\n"
   ]
  },
  {
   "cell_type": "markdown",
   "id": "6dd926d7",
   "metadata": {},
   "source": [
    "## job.labels\n",
    "\n",
    "* 目标：统计labels的数量并做词云图"
   ]
  },
  {
   "cell_type": "code",
   "execution_count": 30,
   "id": "692c0136",
   "metadata": {},
   "outputs": [
    {
     "data": {
      "text/plain": "0      ['策略产品', '商业产品', '供应链产品', '消费品', '产品规划', '团队管理']\n1     ['数据产品', '工艺品/收藏品', '消费品', '产品优化', '产品规划', '数据...\n2                                              ['数据分析']\n3                             ['BD，业务，采购，', '酒店/旅行社合作']\n4               ['工具产品', 'OTA', 'to B', '产品优化', '用户研究']\n                            ...                        \n75                              ['ios', 'swift', 'c++']\n76                                     ['学术推广', '医药代表']\n77    ['数字化咨询', '战略咨询', '数据分析', '营销管理咨询', '运营管理咨询', ...\n78          ['旅游行业', 'OTA', '电子商务', '旅游产品运营', '旅游线路策划']\n79    ['市场洞察', '客户管理', 'to B', '面销', '陌拜销售', '交通/物流/...\nName: job.labels, Length: 80, dtype: object"
     },
     "execution_count": 30,
     "metadata": {},
     "output_type": "execute_result"
    }
   ],
   "source": [
    "df_PM_gz['job.labels']"
   ]
  },
  {
   "cell_type": "code",
   "execution_count": 31,
   "id": "58da6bb3",
   "metadata": {},
   "outputs": [
    {
     "data": {
      "text/plain": "array([\"['策略产品', '商业产品', '供应链产品', '消费品', '产品规划', '团队管理']\",\n       \"['数据产品', '工艺品/收藏品', '消费品', '产品优化', '产品规划', '数据分析', '产品设计', '用户研究', '需求分析', '团队管理']\",\n       \"['数据分析']\", \"['BD，业务，采购，', '酒店/旅行社合作']\",\n       \"['工具产品', 'OTA', 'to B', '产品优化', '用户研究']\", \"['数据库', '项目管理']\",\n       \"['市场策划', '市场推广', '活动策划']\", \"['直播/视频产品', '直播', '数据分析', '用户研究']\",\n       \"['医学应届毕业生', '医疗耗材', '医生']\",\n       \"['文字编辑', '医美编辑', '医药编辑', '文案编辑', '医学文献编辑', '医学文献检索', '药学文献检索', '中英文文献', '专利文献检索', '文献检索']\",\n       \"['策略产品', '贸易/进出口', '用户研究', '产品设计', '产品规划', '产品优化']\", '[]',\n       \"['市场推广', '市场策划', '活动策划']\", \"['网络运维', '网络建设', '技术支持', 'IT/信息化领域']\",\n       '[]', \"['跨境电商', '产品规划', 'to C', '教育行业', '宠物用品']\",\n       \"['java', 'mysql', '数据库', 'oracle', 'sql', 'jquery', 'javascript', 'css', 'html', 'vue']\",\n       \"['货运代理', '物流跟单', '报关报检', '物流管理']\", \"['网络营销']\", \"['网络营销']\",\n       \"['电话销售']\", \"['华南市场', '直销']\", '[]',\n       \"['saas', '咨询服务', 'to B', 'IT/互联网/软件']\", '[]',\n       \"['跨境电商平台', '亚马逊', '英语运营', 'Amazon', '电子商务']\", '[]',\n       \"['电商产品', '数据分析', '市场调研', '用户研究', '产品规划']\", \"['化妆品原料', '化妆品包装']\",\n       \"['临床试验', '临床稽查', '科研院校', 'GCP认证', 'SAE', '受试者管理', 'CRF']\", '[]',\n       '[]', \"['销售管理', '学术类', '产品推广', '市场准入', '品牌推广']\",\n       \"['学术推广', '学术经理']\", \"['化妆品', '日化', '美业行业']\",\n       \"['ios', 'swift', 'c++']\", \"['学术推广', '医药代表']\",\n       \"['数字化咨询', '战略咨询', '数据分析', '营销管理咨询', '运营管理咨询', '品牌咨询', '企管咨询', '设计咨询', '用户调研', '产品调研']\",\n       \"['旅游行业', 'OTA', '电子商务', '旅游产品运营', '旅游线路策划']\",\n       \"['市场洞察', '客户管理', 'to B', '面销', '陌拜销售', '交通/物流/贸易', '消费品', '制造业']\",\n       \"['策略产品', '商业产品', '供应链产品', '消费品', '产品规划', '团队管理']\",\n       \"['数据产品', '工艺品/收藏品', '消费品', '产品优化', '产品规划', '数据分析', '产品设计', '用户研究', '需求分析', '团队管理']\",\n       \"['数据分析']\", \"['BD，业务，采购，', '酒店/旅行社合作']\",\n       \"['工具产品', 'OTA', 'to B', '产品优化', '用户研究']\", \"['数据库', '项目管理']\",\n       \"['市场策划', '市场推广', '活动策划']\", \"['直播/视频产品', '直播', '数据分析', '用户研究']\",\n       \"['医学应届毕业生', '医疗耗材', '医生']\",\n       \"['文字编辑', '医美编辑', '医药编辑', '文案编辑', '医学文献编辑', '医学文献检索', '药学文献检索', '中英文文献', '专利文献检索', '文献检索']\",\n       \"['策略产品', '贸易/进出口', '用户研究', '产品设计', '产品规划', '产品优化']\", '[]',\n       \"['市场推广', '市场策划', '活动策划']\", \"['网络运维', '网络建设', '技术支持', 'IT/信息化领域']\",\n       '[]', \"['跨境电商', '产品规划', 'to C', '教育行业', '宠物用品']\",\n       \"['java', 'mysql', '数据库', 'oracle', 'sql', 'jquery', 'javascript', 'css', 'html', 'vue']\",\n       \"['货运代理', '物流跟单', '报关报检', '物流管理']\", \"['网络营销']\", \"['网络营销']\",\n       \"['电话销售']\", \"['华南市场', '直销']\", '[]',\n       \"['saas', '咨询服务', 'to B', 'IT/互联网/软件']\", '[]',\n       \"['跨境电商平台', '亚马逊', '英语运营', 'Amazon', '电子商务']\", '[]',\n       \"['电商产品', '数据分析', '市场调研', '用户研究', '产品规划']\", \"['化妆品原料', '化妆品包装']\",\n       \"['临床试验', '临床稽查', '科研院校', 'GCP认证', 'SAE', '受试者管理', 'CRF']\", '[]',\n       '[]', \"['销售管理', '学术类', '产品推广', '市场准入', '品牌推广']\",\n       \"['学术推广', '学术经理']\", \"['化妆品', '日化', '美业行业']\",\n       \"['ios', 'swift', 'c++']\", \"['学术推广', '医药代表']\",\n       \"['数字化咨询', '战略咨询', '数据分析', '营销管理咨询', '运营管理咨询', '品牌咨询', '企管咨询', '设计咨询', '用户调研', '产品调研']\",\n       \"['旅游行业', 'OTA', '电子商务', '旅游产品运营', '旅游线路策划']\",\n       \"['市场洞察', '客户管理', 'to B', '面销', '陌拜销售', '交通/物流/贸易', '消费品', '制造业']\"],\n      dtype=object)"
     },
     "execution_count": 31,
     "metadata": {},
     "output_type": "execute_result"
    }
   ],
   "source": [
    "df_PM_gz['job.labels'].values"
   ]
  },
  {
   "cell_type": "code",
   "execution_count": 32,
   "id": "d607c892",
   "metadata": {},
   "outputs": [
    {
     "data": {
      "text/plain": "[['策略产品', '商业产品', '供应链产品', '消费品', '产品规划', '团队管理'],\n ['数据产品',\n  '工艺品/收藏品',\n  '消费品',\n  '产品优化',\n  '产品规划',\n  '数据分析',\n  '产品设计',\n  '用户研究',\n  '需求分析',\n  '团队管理'],\n ['数据分析'],\n ['BD，业务，采购，', '酒店/旅行社合作'],\n ['工具产品', 'OTA', 'to B', '产品优化', '用户研究'],\n ['数据库', '项目管理'],\n ['市场策划', '市场推广', '活动策划'],\n ['直播/视频产品', '直播', '数据分析', '用户研究'],\n ['医学应届毕业生', '医疗耗材', '医生'],\n ['文字编辑',\n  '医美编辑',\n  '医药编辑',\n  '文案编辑',\n  '医学文献编辑',\n  '医学文献检索',\n  '药学文献检索',\n  '中英文文献',\n  '专利文献检索',\n  '文献检索'],\n ['策略产品', '贸易/进出口', '用户研究', '产品设计', '产品规划', '产品优化'],\n [],\n ['市场推广', '市场策划', '活动策划'],\n ['网络运维', '网络建设', '技术支持', 'IT/信息化领域'],\n [],\n ['跨境电商', '产品规划', 'to C', '教育行业', '宠物用品'],\n ['java',\n  'mysql',\n  '数据库',\n  'oracle',\n  'sql',\n  'jquery',\n  'javascript',\n  'css',\n  'html',\n  'vue'],\n ['货运代理', '物流跟单', '报关报检', '物流管理'],\n ['网络营销'],\n ['网络营销'],\n ['电话销售'],\n ['华南市场', '直销'],\n [],\n ['saas', '咨询服务', 'to B', 'IT/互联网/软件'],\n [],\n ['跨境电商平台', '亚马逊', '英语运营', 'Amazon', '电子商务'],\n [],\n ['电商产品', '数据分析', '市场调研', '用户研究', '产品规划'],\n ['化妆品原料', '化妆品包装'],\n ['临床试验', '临床稽查', '科研院校', 'GCP认证', 'SAE', '受试者管理', 'CRF'],\n [],\n [],\n ['销售管理', '学术类', '产品推广', '市场准入', '品牌推广'],\n ['学术推广', '学术经理'],\n ['化妆品', '日化', '美业行业'],\n ['ios', 'swift', 'c++'],\n ['学术推广', '医药代表'],\n ['数字化咨询',\n  '战略咨询',\n  '数据分析',\n  '营销管理咨询',\n  '运营管理咨询',\n  '品牌咨询',\n  '企管咨询',\n  '设计咨询',\n  '用户调研',\n  '产品调研'],\n ['旅游行业', 'OTA', '电子商务', '旅游产品运营', '旅游线路策划'],\n ['市场洞察', '客户管理', 'to B', '面销', '陌拜销售', '交通/物流/贸易', '消费品', '制造业'],\n ['策略产品', '商业产品', '供应链产品', '消费品', '产品规划', '团队管理'],\n ['数据产品',\n  '工艺品/收藏品',\n  '消费品',\n  '产品优化',\n  '产品规划',\n  '数据分析',\n  '产品设计',\n  '用户研究',\n  '需求分析',\n  '团队管理'],\n ['数据分析'],\n ['BD，业务，采购，', '酒店/旅行社合作'],\n ['工具产品', 'OTA', 'to B', '产品优化', '用户研究'],\n ['数据库', '项目管理'],\n ['市场策划', '市场推广', '活动策划'],\n ['直播/视频产品', '直播', '数据分析', '用户研究'],\n ['医学应届毕业生', '医疗耗材', '医生'],\n ['文字编辑',\n  '医美编辑',\n  '医药编辑',\n  '文案编辑',\n  '医学文献编辑',\n  '医学文献检索',\n  '药学文献检索',\n  '中英文文献',\n  '专利文献检索',\n  '文献检索'],\n ['策略产品', '贸易/进出口', '用户研究', '产品设计', '产品规划', '产品优化'],\n [],\n ['市场推广', '市场策划', '活动策划'],\n ['网络运维', '网络建设', '技术支持', 'IT/信息化领域'],\n [],\n ['跨境电商', '产品规划', 'to C', '教育行业', '宠物用品'],\n ['java',\n  'mysql',\n  '数据库',\n  'oracle',\n  'sql',\n  'jquery',\n  'javascript',\n  'css',\n  'html',\n  'vue'],\n ['货运代理', '物流跟单', '报关报检', '物流管理'],\n ['网络营销'],\n ['网络营销'],\n ['电话销售'],\n ['华南市场', '直销'],\n [],\n ['saas', '咨询服务', 'to B', 'IT/互联网/软件'],\n [],\n ['跨境电商平台', '亚马逊', '英语运营', 'Amazon', '电子商务'],\n [],\n ['电商产品', '数据分析', '市场调研', '用户研究', '产品规划'],\n ['化妆品原料', '化妆品包装'],\n ['临床试验', '临床稽查', '科研院校', 'GCP认证', 'SAE', '受试者管理', 'CRF'],\n [],\n [],\n ['销售管理', '学术类', '产品推广', '市场准入', '品牌推广'],\n ['学术推广', '学术经理'],\n ['化妆品', '日化', '美业行业'],\n ['ios', 'swift', 'c++'],\n ['学术推广', '医药代表'],\n ['数字化咨询',\n  '战略咨询',\n  '数据分析',\n  '营销管理咨询',\n  '运营管理咨询',\n  '品牌咨询',\n  '企管咨询',\n  '设计咨询',\n  '用户调研',\n  '产品调研'],\n ['旅游行业', 'OTA', '电子商务', '旅游产品运营', '旅游线路策划'],\n ['市场洞察', '客户管理', 'to B', '面销', '陌拜销售', '交通/物流/贸易', '消费品', '制造业']]"
     },
     "execution_count": 32,
     "metadata": {},
     "output_type": "execute_result"
    }
   ],
   "source": [
    "df_PM_gz['job.labels'].apply(lambda x:eval(x)).tolist()"
   ]
  },
  {
   "cell_type": "code",
   "execution_count": 33,
   "id": "cdd091f5",
   "metadata": {},
   "outputs": [
    {
     "data": {
      "text/plain": "['策略产品',\n '商业产品',\n '供应链产品',\n '消费品',\n '产品规划',\n '团队管理',\n '数据产品',\n '工艺品/收藏品',\n '消费品',\n '产品优化',\n '产品规划',\n '数据分析',\n '产品设计',\n '用户研究',\n '需求分析',\n '团队管理',\n '数据分析',\n 'BD，业务，采购，',\n '酒店/旅行社合作',\n '工具产品',\n 'OTA',\n 'to B',\n '产品优化',\n '用户研究',\n '数据库',\n '项目管理',\n '市场策划',\n '市场推广',\n '活动策划',\n '直播/视频产品',\n '直播',\n '数据分析',\n '用户研究',\n '医学应届毕业生',\n '医疗耗材',\n '医生',\n '文字编辑',\n '医美编辑',\n '医药编辑',\n '文案编辑',\n '医学文献编辑',\n '医学文献检索',\n '药学文献检索',\n '中英文文献',\n '专利文献检索',\n '文献检索',\n '策略产品',\n '贸易/进出口',\n '用户研究',\n '产品设计',\n '产品规划',\n '产品优化',\n '市场推广',\n '市场策划',\n '活动策划',\n '网络运维',\n '网络建设',\n '技术支持',\n 'IT/信息化领域',\n '跨境电商',\n '产品规划',\n 'to C',\n '教育行业',\n '宠物用品',\n 'java',\n 'mysql',\n '数据库',\n 'oracle',\n 'sql',\n 'jquery',\n 'javascript',\n 'css',\n 'html',\n 'vue',\n '货运代理',\n '物流跟单',\n '报关报检',\n '物流管理',\n '网络营销',\n '网络营销',\n '电话销售',\n '华南市场',\n '直销',\n 'saas',\n '咨询服务',\n 'to B',\n 'IT/互联网/软件',\n '跨境电商平台',\n '亚马逊',\n '英语运营',\n 'Amazon',\n '电子商务',\n '电商产品',\n '数据分析',\n '市场调研',\n '用户研究',\n '产品规划',\n '化妆品原料',\n '化妆品包装',\n '临床试验',\n '临床稽查',\n '科研院校',\n 'GCP认证',\n 'SAE',\n '受试者管理',\n 'CRF',\n '销售管理',\n '学术类',\n '产品推广',\n '市场准入',\n '品牌推广',\n '学术推广',\n '学术经理',\n '化妆品',\n '日化',\n '美业行业',\n 'ios',\n 'swift',\n 'c++',\n '学术推广',\n '医药代表',\n '数字化咨询',\n '战略咨询',\n '数据分析',\n '营销管理咨询',\n '运营管理咨询',\n '品牌咨询',\n '企管咨询',\n '设计咨询',\n '用户调研',\n '产品调研',\n '旅游行业',\n 'OTA',\n '电子商务',\n '旅游产品运营',\n '旅游线路策划',\n '市场洞察',\n '客户管理',\n 'to B',\n '面销',\n '陌拜销售',\n '交通/物流/贸易',\n '消费品',\n '制造业',\n '策略产品',\n '商业产品',\n '供应链产品',\n '消费品',\n '产品规划',\n '团队管理',\n '数据产品',\n '工艺品/收藏品',\n '消费品',\n '产品优化',\n '产品规划',\n '数据分析',\n '产品设计',\n '用户研究',\n '需求分析',\n '团队管理',\n '数据分析',\n 'BD，业务，采购，',\n '酒店/旅行社合作',\n '工具产品',\n 'OTA',\n 'to B',\n '产品优化',\n '用户研究',\n '数据库',\n '项目管理',\n '市场策划',\n '市场推广',\n '活动策划',\n '直播/视频产品',\n '直播',\n '数据分析',\n '用户研究',\n '医学应届毕业生',\n '医疗耗材',\n '医生',\n '文字编辑',\n '医美编辑',\n '医药编辑',\n '文案编辑',\n '医学文献编辑',\n '医学文献检索',\n '药学文献检索',\n '中英文文献',\n '专利文献检索',\n '文献检索',\n '策略产品',\n '贸易/进出口',\n '用户研究',\n '产品设计',\n '产品规划',\n '产品优化',\n '市场推广',\n '市场策划',\n '活动策划',\n '网络运维',\n '网络建设',\n '技术支持',\n 'IT/信息化领域',\n '跨境电商',\n '产品规划',\n 'to C',\n '教育行业',\n '宠物用品',\n 'java',\n 'mysql',\n '数据库',\n 'oracle',\n 'sql',\n 'jquery',\n 'javascript',\n 'css',\n 'html',\n 'vue',\n '货运代理',\n '物流跟单',\n '报关报检',\n '物流管理',\n '网络营销',\n '网络营销',\n '电话销售',\n '华南市场',\n '直销',\n 'saas',\n '咨询服务',\n 'to B',\n 'IT/互联网/软件',\n '跨境电商平台',\n '亚马逊',\n '英语运营',\n 'Amazon',\n '电子商务',\n '电商产品',\n '数据分析',\n '市场调研',\n '用户研究',\n '产品规划',\n '化妆品原料',\n '化妆品包装',\n '临床试验',\n '临床稽查',\n '科研院校',\n 'GCP认证',\n 'SAE',\n '受试者管理',\n 'CRF',\n '销售管理',\n '学术类',\n '产品推广',\n '市场准入',\n '品牌推广',\n '学术推广',\n '学术经理',\n '化妆品',\n '日化',\n '美业行业',\n 'ios',\n 'swift',\n 'c++',\n '学术推广',\n '医药代表',\n '数字化咨询',\n '战略咨询',\n '数据分析',\n '营销管理咨询',\n '运营管理咨询',\n '品牌咨询',\n '企管咨询',\n '设计咨询',\n '用户调研',\n '产品调研',\n '旅游行业',\n 'OTA',\n '电子商务',\n '旅游产品运营',\n '旅游线路策划',\n '市场洞察',\n '客户管理',\n 'to B',\n '面销',\n '陌拜销售',\n '交通/物流/贸易',\n '消费品',\n '制造业']"
     },
     "execution_count": 33,
     "metadata": {},
     "output_type": "execute_result"
    }
   ],
   "source": [
    "# 列表的推导式\n",
    "PM_labels_list = [j     for i in df_PM_gz['job.labels'].apply(lambda x:eval(x)).tolist()       for j in i    ]\n",
    "PM_labels_list"
   ]
  },
  {
   "cell_type": "code",
   "execution_count": 34,
   "id": "41a5b2f5",
   "metadata": {},
   "outputs": [
    {
     "data": {
      "text/plain": "[('市场准入', 2),\n ('消费品', 6),\n ('GCP认证', 2),\n ('vue', 2),\n ('用户调研', 2),\n ('直销', 2),\n ('工具产品', 2),\n ('数据分析', 10),\n ('设计咨询', 2),\n ('产品优化', 6),\n ('客户管理', 2),\n ('mysql', 2),\n ('医药编辑', 2),\n ('OTA', 4),\n ('swift', 2),\n ('化妆品', 2),\n ('制造业', 2),\n ('产品调研', 2),\n ('工艺品/收藏品', 2),\n ('saas', 2),\n ('学术推广', 4),\n ('数据库', 4),\n ('javascript', 2),\n ('直播/视频产品', 2),\n ('文字编辑', 2),\n ('医疗耗材', 2),\n ('跨境电商平台', 2),\n ('受试者管理', 2),\n ('药学文献检索', 2),\n ('面销', 2),\n ('科研院校', 2),\n ('酒店/旅行社合作', 2),\n ('jquery', 2),\n ('医美编辑', 2),\n ('电商产品', 2),\n ('医学文献检索', 2),\n ('专利文献检索', 2),\n ('电话销售', 2),\n ('医学文献编辑', 2),\n ('网络运维', 2),\n ('c++', 2),\n ('品牌咨询', 2),\n ('化妆品包装', 2),\n ('华南市场', 2),\n ('oracle', 2),\n ('to C', 2),\n ('营销管理咨询', 2),\n ('旅游线路策划', 2),\n ('贸易/进出口', 2),\n ('css', 2),\n ('需求分析', 2),\n ('销售管理', 2),\n ('交通/物流/贸易', 2),\n ('美业行业', 2),\n ('物流跟单', 2),\n ('产品设计', 4),\n ('html', 2),\n ('货运代理', 2),\n ('市场推广', 4),\n ('IT/互联网/软件', 2),\n ('旅游产品运营', 2),\n ('跨境电商', 2),\n ('英语运营', 2),\n ('sql', 2),\n ('IT/信息化领域', 2),\n ('Amazon', 2),\n ('学术类', 2),\n ('教育行业', 2),\n ('用户研究', 10),\n ('数字化咨询', 2),\n ('日化', 2),\n ('产品推广', 2),\n ('文案编辑', 2),\n ('化妆品原料', 2),\n ('数据产品', 2),\n ('网络建设', 2),\n ('java', 2),\n ('电子商务', 4),\n ('亚马逊', 2),\n ('策略产品', 4),\n ('中英文文献', 2),\n ('临床稽查', 2),\n ('CRF', 2),\n ('产品规划', 10),\n ('商业产品', 2),\n ('陌拜销售', 2),\n ('报关报检', 2),\n ('活动策划', 4),\n ('供应链产品', 2),\n ('医药代表', 2),\n ('市场调研', 2),\n ('医学应届毕业生', 2),\n ('医生', 2),\n ('咨询服务', 2),\n ('团队管理', 4),\n ('学术经理', 2),\n ('战略咨询', 2),\n ('ios', 2),\n ('企管咨询', 2),\n ('BD，业务，采购，', 2),\n ('临床试验', 2),\n ('品牌推广', 2),\n ('SAE', 2),\n ('技术支持', 2),\n ('网络营销', 4),\n ('to B', 6),\n ('文献检索', 2),\n ('市场策划', 4),\n ('项目管理', 2),\n ('物流管理', 2),\n ('运营管理咨询', 2),\n ('旅游行业', 2),\n ('宠物用品', 2),\n ('直播', 2),\n ('市场洞察', 2)]"
     },
     "execution_count": 34,
     "metadata": {},
     "output_type": "execute_result"
    }
   ],
   "source": [
    "# 创建words\n",
    "\n",
    "PM_labels_words = [ (i,PM_labels_list.count(i)) for i in set(PM_labels_list)]\n",
    "PM_labels_words"
   ]
  },
  {
   "cell_type": "code",
   "execution_count": 34,
   "id": "251470c9",
   "metadata": {},
   "outputs": [],
   "source": []
  },
  {
   "cell_type": "markdown",
   "id": "f4a2acfd",
   "metadata": {},
   "source": [
    "## 薪资-（平均薪资）"
   ]
  },
  {
   "cell_type": "code",
   "execution_count": 35,
   "id": "16561a4f",
   "metadata": {
    "scrolled": true
   },
   "outputs": [],
   "source": [
    "# columns 重命名\n",
    "if payload['data']['mainSearchPcConditionForm'][\"workYearCode\"]=='2':\n",
    "    df_PM_gz = df_PM_gz.rename(columns={\n",
    "        'job.labels':'职位标签',\n",
    "        'job.refreshTime':'职位更新时间',\n",
    "        'job.title':'职位',\n",
    "        'job.salary':'薪资',\n",
    "        'job.dq':'地区',\n",
    "        'job.topJob':'是否top职位',\n",
    "        'comp.compStage':'公司融资情况',\n",
    "        'comp.compName':'公司名称',\n",
    "        'comp.compIndustry':'行业',\n",
    "        'comp.compScale':'规模'\n",
    "    })\n",
    "else:\n",
    "    df_PM_gz = df_PM_gz.rename(columns={\n",
    "        'job.labels':'职位标签',\n",
    "        'job.refreshTime':'职位更新时间',\n",
    "        'job.title':'职位',\n",
    "        'job.salary':'薪资',\n",
    "        'job.dq':'地区',\n",
    "        'job.topJob':'是否top职位',\n",
    "        'job.requireWorkYears':'工作年限',\n",
    "        'job.requireEduLevel':'学历',\n",
    "        'comp.compStage':'公司融资情况',\n",
    "        'comp.compName':'公司名称',\n",
    "        'comp.compIndustry':'行业',\n",
    "        'comp.compScale':'规模'\n",
    "    })"
   ]
  },
  {
   "cell_type": "code",
   "execution_count": 36,
   "outputs": [
    {
     "name": "stdout",
     "output_type": "stream",
     "text": [
      "<class 'pandas.core.frame.DataFrame'>\n"
     ]
    }
   ],
   "source": [
    "print(type(df_PM_gz))"
   ],
   "metadata": {
    "collapsed": false
   }
  },
  {
   "cell_type": "code",
   "execution_count": 37,
   "id": "00bdb902",
   "metadata": {
    "scrolled": true
   },
   "outputs": [],
   "source": [
    "if payload['data']['mainSearchPcConditionForm'][\"workYearCode\"]=='2':\n",
    "    非薪资面议 = df_PM_gz [ ~df_PM_gz['薪资'].str.contains(\"面议\")]\n",
    "else:\n",
    "    非薪资面议 = df_PM_gz [ ~df_PM_gz['薪资'].str.contains(\"面议|元/天\")]"
   ]
  },
  {
   "cell_type": "code",
   "execution_count": 37,
   "outputs": [],
   "source": [],
   "metadata": {
    "collapsed": false
   }
  },
  {
   "cell_type": "code",
   "execution_count": 38,
   "id": "18d53ef0",
   "metadata": {},
   "outputs": [],
   "source": [
    "if payload['data']['mainSearchPcConditionForm'][\"workYearCode\"]=='2':\n",
    "    非薪资面议_detail = 非薪资面议['薪资'].apply(lambda x:x.split('元')[0]).tolist()\n",
    "else:\n",
    "     非薪资面议_detail = 非薪资面议['薪资'].apply(lambda x:x.split('薪')[0].split('·')[0]).tolist()"
   ]
  },
  {
   "cell_type": "code",
   "execution_count": 39,
   "outputs": [
    {
     "data": {
      "text/plain": "['10-30k',\n '10-30k',\n '10-15k',\n '6-11k',\n '10-15k',\n '12-20k',\n '8-15k',\n '2-3k',\n '11-20k',\n '12-18k',\n '8-12k',\n '2-3k',\n '5-8k',\n '8-9k',\n '6-9k',\n '9-13k',\n '5-7k',\n '5-10k',\n '5-10k',\n '5-8k',\n '5-8k',\n '6-8k',\n '4-9k',\n '8-10k',\n '4-6k',\n '8-10k',\n '6-8k',\n '4-6k',\n '24-25k',\n '8-15k',\n '5-6k',\n '4-7k',\n '5-7k',\n '5-6k',\n '20-40k',\n '4-8k',\n '2-3k',\n '8-12k',\n '4-7k',\n '10-30k',\n '10-30k',\n '10-15k',\n '6-11k',\n '10-15k',\n '12-20k',\n '8-15k',\n '2-3k',\n '11-20k',\n '12-18k',\n '8-12k',\n '2-3k',\n '5-8k',\n '8-9k',\n '6-9k',\n '9-13k',\n '5-7k',\n '5-10k',\n '5-10k',\n '5-8k',\n '5-8k',\n '6-8k',\n '4-9k',\n '8-10k',\n '4-6k',\n '8-10k',\n '6-8k',\n '4-6k',\n '24-25k',\n '8-15k',\n '5-6k',\n '4-7k',\n '5-7k',\n '5-6k',\n '20-40k',\n '4-8k',\n '2-3k',\n '8-12k',\n '4-7k']"
     },
     "execution_count": 39,
     "metadata": {},
     "output_type": "execute_result"
    }
   ],
   "source": [
    "非薪资面议_detail"
   ],
   "metadata": {
    "collapsed": false
   }
  },
  {
   "cell_type": "code",
   "execution_count": 40,
   "outputs": [
    {
     "data": {
      "text/plain": "6"
     },
     "execution_count": 40,
     "metadata": {},
     "output_type": "execute_result"
    }
   ],
   "source": [
    "len(非薪资面议_detail[0])"
   ],
   "metadata": {
    "collapsed": false
   }
  },
  {
   "cell_type": "code",
   "execution_count": 41,
   "id": "e6004d3a",
   "metadata": {},
   "outputs": [
    {
     "data": {
      "text/plain": "13.541666666666666"
     },
     "execution_count": 41,
     "metadata": {},
     "output_type": "execute_result"
    }
   ],
   "source": [
    "(10+15)/2*13/12"
   ]
  },
  {
   "cell_type": "code",
   "execution_count": 42,
   "id": "6296b488",
   "metadata": {},
   "outputs": [
    {
     "ename": "IndexError",
     "evalue": "list index out of range",
     "output_type": "error",
     "traceback": [
      "\u001B[1;31m---------------------------------------------------------------------------\u001B[0m",
      "\u001B[1;31mIndexError\u001B[0m                                Traceback (most recent call last)",
      "Cell \u001B[1;32mIn[42], line 6\u001B[0m\n\u001B[0;32m      2\u001B[0m     平均薪资 \u001B[38;5;241m=\u001B[39m [ \u001B[38;5;28mint\u001B[39m(i)\u001B[38;5;241m*\u001B[39m\u001B[38;5;241m30\u001B[39m    \\\n\u001B[0;32m      3\u001B[0m     \u001B[38;5;28;01mif\u001B[39;00m \u001B[38;5;28mlen\u001B[39m(i)\u001B[38;5;241m==\u001B[39m\u001B[38;5;241m3\u001B[39m \u001B[38;5;28;01melse\u001B[39;00m \u001B[38;5;28mround\u001B[39m((\u001B[38;5;28mint\u001B[39m(i\u001B[38;5;241m.\u001B[39msplit(\u001B[38;5;124m'\u001B[39m\u001B[38;5;124m-\u001B[39m\u001B[38;5;124m'\u001B[39m)[\u001B[38;5;241m0\u001B[39m]) \u001B[38;5;241m+\u001B[39m\u001B[38;5;28mint\u001B[39m(i\u001B[38;5;241m.\u001B[39msplit(\u001B[38;5;124m'\u001B[39m\u001B[38;5;124m-\u001B[39m\u001B[38;5;124m'\u001B[39m)[\u001B[38;5;241m1\u001B[39m]))\u001B[38;5;241m/\u001B[39m\u001B[38;5;241m2\u001B[39m\u001B[38;5;241m*\u001B[39m\u001B[38;5;241m30\u001B[39m)     \\\n\u001B[0;32m      4\u001B[0m     \u001B[38;5;28;01mfor\u001B[39;00m i \u001B[38;5;129;01min\u001B[39;00m 非薪资面议_detail]\n\u001B[0;32m      5\u001B[0m \u001B[38;5;28;01melse\u001B[39;00m:\n\u001B[1;32m----> 6\u001B[0m     平均薪资 \u001B[38;5;241m=\u001B[39m [(\u001B[38;5;28mint\u001B[39m(i[\u001B[38;5;241m0\u001B[39m]\u001B[38;5;241m.\u001B[39msplit(\u001B[38;5;124m'\u001B[39m\u001B[38;5;124m-\u001B[39m\u001B[38;5;124m'\u001B[39m)[\u001B[38;5;241m0\u001B[39m]) \u001B[38;5;241m+\u001B[39m \u001B[38;5;28mint\u001B[39m(i[\u001B[38;5;241m0\u001B[39m]\u001B[38;5;241m.\u001B[39msplit(\u001B[38;5;124m'\u001B[39m\u001B[38;5;124m-\u001B[39m\u001B[38;5;124m'\u001B[39m)[\u001B[38;5;241m1\u001B[39m]\u001B[38;5;241m.\u001B[39msplit(\u001B[38;5;124m'\u001B[39m\u001B[38;5;124mk\u001B[39m\u001B[38;5;124m'\u001B[39m)[\u001B[38;5;241m0\u001B[39m])) \u001B[38;5;241m/\u001B[39m \u001B[38;5;241m2\u001B[39m \\\n\u001B[0;32m      7\u001B[0m                     \u001B[38;5;28;01mif\u001B[39;00m \u001B[38;5;28mlen\u001B[39m(i) \u001B[38;5;241m==\u001B[39m \u001B[38;5;241m3\u001B[39m \u001B[38;5;28;01melse\u001B[39;00m \u001B[38;5;28mround\u001B[39m(\n\u001B[0;32m      8\u001B[0m         (\u001B[38;5;28mint\u001B[39m(i[\u001B[38;5;241m0\u001B[39m]\u001B[38;5;241m.\u001B[39msplit(\u001B[38;5;124m'\u001B[39m\u001B[38;5;124m-\u001B[39m\u001B[38;5;124m'\u001B[39m)[\u001B[38;5;241m0\u001B[39m]) \u001B[38;5;241m+\u001B[39m \u001B[38;5;28mint\u001B[39m(i[\u001B[38;5;241m0\u001B[39m]\u001B[38;5;241m.\u001B[39msplit(\u001B[38;5;124m'\u001B[39m\u001B[38;5;124m-\u001B[39m\u001B[38;5;124m'\u001B[39m)[\u001B[38;5;241m1\u001B[39m]\u001B[38;5;241m.\u001B[39msplit(\u001B[38;5;124m'\u001B[39m\u001B[38;5;124mk\u001B[39m\u001B[38;5;124m'\u001B[39m)[\u001B[38;5;241m0\u001B[39m])) \u001B[38;5;241m/\u001B[39m \u001B[38;5;241m2\u001B[39m \u001B[38;5;241m*\u001B[39m \u001B[38;5;28mint\u001B[39m(i[\u001B[38;5;241m1\u001B[39m]) \u001B[38;5;241m/\u001B[39m \u001B[38;5;241m12\u001B[39m, \u001B[38;5;241m1\u001B[39m) \\\n\u001B[0;32m      9\u001B[0m                 \u001B[38;5;28;01mfor\u001B[39;00m i \u001B[38;5;129;01min\u001B[39;00m 非薪资面议_detail]\n",
      "Cell \u001B[1;32mIn[42], line 8\u001B[0m, in \u001B[0;36m<listcomp>\u001B[1;34m(.0)\u001B[0m\n\u001B[0;32m      2\u001B[0m     平均薪资 \u001B[38;5;241m=\u001B[39m [ \u001B[38;5;28mint\u001B[39m(i)\u001B[38;5;241m*\u001B[39m\u001B[38;5;241m30\u001B[39m    \\\n\u001B[0;32m      3\u001B[0m     \u001B[38;5;28;01mif\u001B[39;00m \u001B[38;5;28mlen\u001B[39m(i)\u001B[38;5;241m==\u001B[39m\u001B[38;5;241m3\u001B[39m \u001B[38;5;28;01melse\u001B[39;00m \u001B[38;5;28mround\u001B[39m((\u001B[38;5;28mint\u001B[39m(i\u001B[38;5;241m.\u001B[39msplit(\u001B[38;5;124m'\u001B[39m\u001B[38;5;124m-\u001B[39m\u001B[38;5;124m'\u001B[39m)[\u001B[38;5;241m0\u001B[39m]) \u001B[38;5;241m+\u001B[39m\u001B[38;5;28mint\u001B[39m(i\u001B[38;5;241m.\u001B[39msplit(\u001B[38;5;124m'\u001B[39m\u001B[38;5;124m-\u001B[39m\u001B[38;5;124m'\u001B[39m)[\u001B[38;5;241m1\u001B[39m]))\u001B[38;5;241m/\u001B[39m\u001B[38;5;241m2\u001B[39m\u001B[38;5;241m*\u001B[39m\u001B[38;5;241m30\u001B[39m)     \\\n\u001B[0;32m      4\u001B[0m     \u001B[38;5;28;01mfor\u001B[39;00m i \u001B[38;5;129;01min\u001B[39;00m 非薪资面议_detail]\n\u001B[0;32m      5\u001B[0m \u001B[38;5;28;01melse\u001B[39;00m:\n\u001B[0;32m      6\u001B[0m     平均薪资 \u001B[38;5;241m=\u001B[39m [(\u001B[38;5;28mint\u001B[39m(i[\u001B[38;5;241m0\u001B[39m]\u001B[38;5;241m.\u001B[39msplit(\u001B[38;5;124m'\u001B[39m\u001B[38;5;124m-\u001B[39m\u001B[38;5;124m'\u001B[39m)[\u001B[38;5;241m0\u001B[39m]) \u001B[38;5;241m+\u001B[39m \u001B[38;5;28mint\u001B[39m(i[\u001B[38;5;241m0\u001B[39m]\u001B[38;5;241m.\u001B[39msplit(\u001B[38;5;124m'\u001B[39m\u001B[38;5;124m-\u001B[39m\u001B[38;5;124m'\u001B[39m)[\u001B[38;5;241m1\u001B[39m]\u001B[38;5;241m.\u001B[39msplit(\u001B[38;5;124m'\u001B[39m\u001B[38;5;124mk\u001B[39m\u001B[38;5;124m'\u001B[39m)[\u001B[38;5;241m0\u001B[39m])) \u001B[38;5;241m/\u001B[39m \u001B[38;5;241m2\u001B[39m \\\n\u001B[0;32m      7\u001B[0m                     \u001B[38;5;28;01mif\u001B[39;00m \u001B[38;5;28mlen\u001B[39m(i) \u001B[38;5;241m==\u001B[39m \u001B[38;5;241m3\u001B[39m \u001B[38;5;28;01melse\u001B[39;00m \u001B[38;5;28mround\u001B[39m(\n\u001B[1;32m----> 8\u001B[0m         (\u001B[38;5;28mint\u001B[39m(i[\u001B[38;5;241m0\u001B[39m]\u001B[38;5;241m.\u001B[39msplit(\u001B[38;5;124m'\u001B[39m\u001B[38;5;124m-\u001B[39m\u001B[38;5;124m'\u001B[39m)[\u001B[38;5;241m0\u001B[39m]) \u001B[38;5;241m+\u001B[39m \u001B[38;5;28mint\u001B[39m(\u001B[43mi\u001B[49m\u001B[43m[\u001B[49m\u001B[38;5;241;43m0\u001B[39;49m\u001B[43m]\u001B[49m\u001B[38;5;241;43m.\u001B[39;49m\u001B[43msplit\u001B[49m\u001B[43m(\u001B[49m\u001B[38;5;124;43m'\u001B[39;49m\u001B[38;5;124;43m-\u001B[39;49m\u001B[38;5;124;43m'\u001B[39;49m\u001B[43m)\u001B[49m\u001B[43m[\u001B[49m\u001B[38;5;241;43m1\u001B[39;49m\u001B[43m]\u001B[49m\u001B[38;5;241m.\u001B[39msplit(\u001B[38;5;124m'\u001B[39m\u001B[38;5;124mk\u001B[39m\u001B[38;5;124m'\u001B[39m)[\u001B[38;5;241m0\u001B[39m])) \u001B[38;5;241m/\u001B[39m \u001B[38;5;241m2\u001B[39m \u001B[38;5;241m*\u001B[39m \u001B[38;5;28mint\u001B[39m(i[\u001B[38;5;241m1\u001B[39m]) \u001B[38;5;241m/\u001B[39m \u001B[38;5;241m12\u001B[39m, \u001B[38;5;241m1\u001B[39m) \\\n\u001B[0;32m      9\u001B[0m                 \u001B[38;5;28;01mfor\u001B[39;00m i \u001B[38;5;129;01min\u001B[39;00m 非薪资面议_detail]\n",
      "\u001B[1;31mIndexError\u001B[0m: list index out of range"
     ]
    }
   ],
   "source": [
    "if payload['data']['mainSearchPcConditionForm'][\"workYearCode\"]=='2':\n",
    "    平均薪资 = [ int(i)*30    \\\n",
    "    if len(i)==3 else round((int(i.split('-')[0]) +int(i.split('-')[1]))/2*30)     \\\n",
    "    for i in 非薪资面议_detail]\n",
    "else:\n",
    "    平均薪资 = [(int(i[0].split('-')[0]) + int(i[0].split('-')[1].split('k')[0])) / 2 \\\n",
    "                    if len(i) == 3 else round(\n",
    "        (int(i[0].split('-')[0]) + int(i[0].split('-')[1].split('k')[0])) / 2 * int(i[1]) / 12, 1) \\\n",
    "                for i in 非薪资面议_detail]"
   ]
  },
  {
   "cell_type": "code",
   "execution_count": null,
   "id": "b7ee36c9",
   "metadata": {},
   "outputs": [],
   "source": [
    "len(平均薪资)"
   ]
  },
  {
   "cell_type": "code",
   "execution_count": null,
   "id": "0bf7c61d",
   "metadata": {
    "scrolled": true
   },
   "outputs": [],
   "source": [
    "非薪资面议['平均薪资']=平均薪资"
   ]
  },
  {
   "cell_type": "code",
   "execution_count": null,
   "id": "7de0c864",
   "metadata": {
    "scrolled": true
   },
   "outputs": [],
   "source": [
    "非薪资面议"
   ]
  },
  {
   "cell_type": "code",
   "execution_count": null,
   "id": "5a723ae3",
   "metadata": {
    "scrolled": true
   },
   "outputs": [],
   "source": [
    "# 分地区平均薪资\n",
    "分地区_平均薪资 = 非薪资面议.groupby('地区').agg({'平均薪资':'median'})\n",
    "分地区_平均薪资\n",
    "jsongg = 分地区_平均薪资.to_json(force_ascii=False)\n",
    "jsongg"
   ]
  },
  {
   "cell_type": "code",
   "execution_count": null,
   "outputs": [],
   "source": [
    "分地区_平均薪资"
   ],
   "metadata": {
    "collapsed": false
   }
  },
  {
   "cell_type": "code",
   "execution_count": null,
   "outputs": [],
   "source": [
    "data = json.loads(jsongg)"
   ],
   "metadata": {
    "collapsed": false
   }
  },
  {
   "cell_type": "code",
   "execution_count": null,
   "id": "f260e86e",
   "metadata": {},
   "outputs": [],
   "source": [
    "分地区_平均薪资_values =  [round(i[0],1) for i in 分地区_平均薪资.values.tolist()]\n",
    "分地区_平均薪资_values"
   ]
  },
  {
   "cell_type": "code",
   "execution_count": null,
   "outputs": [],
   "source": [
    "平均薪资_整数 = [int(i[0]) for i in 分地区_平均薪资.values.tolist()]\n",
    "平均薪资_整数"
   ],
   "metadata": {
    "collapsed": false
   }
  },
  {
   "cell_type": "code",
   "execution_count": null,
   "id": "23b5bf70",
   "metadata": {},
   "outputs": [],
   "source": [
    "分地区_平均薪资_index = 分地区_平均薪资.index.tolist()\n",
    "分地区_平均薪资_index"
   ]
  },
  {
   "cell_type": "code",
   "execution_count": null,
   "outputs": [],
   "source": [
    "chart2_data = [{value:平均薪资_整数[i],name:分地区_平均薪资_index} for i in range(len(分地区_平均薪资_index))]"
   ],
   "metadata": {
    "collapsed": false
   }
  },
  {
   "cell_type": "code",
   "execution_count": null,
   "id": "7144cf60",
   "metadata": {},
   "outputs": [],
   "source": [
    "from pyecharts import options as opts\n",
    "from pyecharts.charts import Bar\n",
    "from pyecharts.faker import Faker\n",
    "\n",
    "\n",
    "c = (\n",
    "    Bar()\n",
    "    .add_xaxis([i.split('-')[1] for i in 分地区_平均薪资_index[1:]])\n",
    "    .add_yaxis(\"地区\",分地区_平均薪资_values[1:])\n",
    "    .set_global_opts(\n",
    "        title_opts=opts.TitleOpts(title=\"PM-分地区-中位数薪资\"),\n",
    "        brush_opts=opts.BrushOpts(),\n",
    "    )\n",
    "    .render( key + 用户输入城市+\"平均薪资\"+output_time+'.html')\n",
    ")\n",
    "# c.render_notebook()"
   ]
  },
  {
   "cell_type": "code",
   "execution_count": null,
   "id": "eea5da69",
   "metadata": {},
   "outputs": [],
   "source": [
    "df_year_salary = 非薪资面议.groupby('工作年限').agg({'平均薪资':'mean'})\n",
    "df_year_salary"
   ]
  },
  {
   "cell_type": "code",
   "execution_count": null,
   "id": "2163b27f",
   "metadata": {
    "scrolled": true
   },
   "outputs": [],
   "source": [
    "# 分工作时间和学历平均薪资\n",
    "df_year_edulevel =  非薪资面议.groupby(['工作年限','学历']).agg({'平均薪资':'mean'})\n",
    "df_year_edulevel"
   ]
  },
  {
   "cell_type": "code",
   "execution_count": null,
   "id": "9e3d7c57",
   "metadata": {},
   "outputs": [],
   "source": [
    "# 分行业\n",
    "df_industry = 非薪资面议.groupby('行业').agg({'平均薪资':'mean'})\n",
    "df_industry"
   ]
  },
  {
   "cell_type": "code",
   "execution_count": null,
   "id": "b22612f0",
   "metadata": {},
   "outputs": [],
   "source": [
    "with pd.ExcelWriter(key+'_'+output_time+'_.xlsx') as writer:  \n",
    "    df_year_salary.to_excel(writer, sheet_name='分工作年限平均薪资')\n",
    "    df_year_edulevel.to_excel(writer, sheet_name='分学历平均薪资')\n",
    "    df_industry.to_excel(writer, sheet_name='分行业平均薪资')"
   ]
  },
  {
   "cell_type": "code",
   "execution_count": null,
   "id": "9326b535",
   "metadata": {},
   "outputs": [],
   "source": []
  },
  {
   "cell_type": "code",
   "execution_count": null,
   "id": "2b4f207e",
   "metadata": {},
   "outputs": [],
   "source": [
    "工作经验 = input('工作经验')"
   ]
  },
  {
   "cell_type": "code",
   "execution_count": null,
   "id": "70f92c9d",
   "metadata": {},
   "outputs": [],
   "source": [
    "import pandas\n",
    "from requests_html import HTMLSession\n",
    "import json\n",
    "import pandas as pd\n",
    "import requests\n",
    "城市编码 = {\n",
    "    '全国': '410',\n",
    "    '北京': '010',\n",
    "    '上海': '020',\n",
    "    '天津': '030',\n",
    "    '重庆': '040',\n",
    "    '广州': '050020',\n",
    "    '深圳': '050090',\n",
    "    '苏州': '060080',\n",
    "    '南京': '060020',\n",
    "    '杭州': '070020',\n",
    "    '大连': '210040',\n",
    "    '成都': '280020',\n",
    "    '武汉': '170020',\n",
    "    '西安': '270020'\n",
    "\n",
    "}\n",
    "workExperiences = [{'code': '1', 'name': '应届生'},\n",
    "                   {'code': '2', 'name': '实习生'},\n",
    "                   {'code': '0$1', 'name': '1年以内'},\n",
    "                   {'code': '1$3', 'name': '1-3年'},\n",
    "                   {'code': '3$5', 'name': '3-5年'},\n",
    "                   {'code': '5$10', 'name': '5-10年'},\n",
    "                   {'code': '10$999', 'name': '10年以上'}]\n",
    "\n",
    "def choose_WE(工作经验):\n",
    "    for i in workExperiences:\n",
    "        if i['name'] == 工作经验:\n",
    "            return i['code']\n",
    "url = \"https://apic.liepin.com/api/com.liepin.searchfront4c.pc-search-job\"\n",
    "payload = {\n",
    "\"data\": {\n",
    "    \"mainSearchPcConditionForm\": {\n",
    "        \"city\": '050020',\n",
    "        \"dq\": '050020',\n",
    "        \"pubTime\": \"\",\n",
    "        \"currentPage\": 0,\n",
    "        \"pageSize\": 40,\n",
    "        \"key\": '产品经理',\n",
    "        \"suggestTag\": \"\",\n",
    "        \"workYearCode\": choose_WE(工作经验),\n",
    "        \"compId\": \"\",\n",
    "        \"compName\": \"\",\n",
    "        \"compTag\": \"\",\n",
    "        \"industry\": \"\",\n",
    "        \"salary\": \"\",\n",
    "        \"jobKind\": \"\",\n",
    "        \"compScale\": \"\",\n",
    "        \"compKind\": \"\",\n",
    "        \"compStage\": \"\",\n",
    "        \"eduLevel\": \"\"\n",
    "    },\n",
    "    \"passThroughForm\": {\n",
    "        \"scene\": \"input\",\n",
    "        \"skId\": \"\",\n",
    "        \"fkId\": \"\",\n",
    "        \"ckId\": \"h2c8pxojavrmo1w785z7ueih2ybfpux8\",\n",
    "        \"suggest\": None\n",
    "    }\n",
    "}\n",
    "}\n",
    "session = HTMLSession()\n",
    "headers = {headers}\n",
    "r = session.post(url, data=json.dumps(payload), headers=headers)\n",
    "response_data = r.json()"
   ]
  },
  {
   "cell_type": "code",
   "execution_count": null,
   "id": "981e1308",
   "metadata": {},
   "outputs": [],
   "source": [
    "page = response_data['data']['pagination']['totalPage']\n",
    "page\n",
    "import random\n",
    "import time"
   ]
  },
  {
   "cell_type": "code",
   "execution_count": null,
   "outputs": [],
   "source": [
    "response_df = []\n",
    "for i in range(page): # 需要判断页面的数据有多少页\n",
    "    payload['data']['mainSearchPcConditionForm']['currentPage']=i\n",
    "    df = pd.json_normalize(response_data['data']['data']['jobCardList'])\n",
    "    response_df.append(df)\n",
    "    wait_time = random.randint(3,10)\n",
    "    time.sleep(wait_time)\n",
    "df = pd.concat(response_df)\n",
    "df"
   ],
   "metadata": {
    "collapsed": false
   }
  },
  {
   "cell_type": "code",
   "execution_count": null,
   "outputs": [],
   "source": [
    "key = payload['data']['mainSearchPcConditionForm']['key']"
   ],
   "metadata": {
    "collapsed": false
   }
  },
  {
   "cell_type": "code",
   "execution_count": null,
   "outputs": [],
   "source": [
    "df.to_excel('liepin2.xlsx')\n",
    "df = pd.read_excel('liepin2.xlsx')\n",
    "df"
   ],
   "metadata": {
    "collapsed": false
   }
  },
  {
   "cell_type": "code",
   "execution_count": null,
   "outputs": [],
   "source": [
    "df"
   ],
   "metadata": {
    "collapsed": false
   }
  },
  {
   "cell_type": "code",
   "execution_count": null,
   "outputs": [],
   "source": [
    "if payload['data']['mainSearchPcConditionForm'][\"workYearCode\"] in ['1','2']:\n",
    "    df_PM_gz = df[\n",
    "        ['job.labels', 'job.refreshTime', 'job.title', 'job.salary', 'job.dq', 'job.topJob', 'comp.compStage',\n",
    "         'comp.compName', 'comp.compIndustry', 'comp.compScale']]\n",
    "else:\n",
    "    df_PM_gz = df[\n",
    "        ['job.labels', 'job.refreshTime', 'job.title', 'job.salary', 'job.dq', 'job.topJob', 'job.requireWorkYears',\n",
    "         'job.requireEduLevel', 'comp.compStage', 'comp.compName', 'comp.compIndustry', 'comp.compScale']]"
   ],
   "metadata": {
    "collapsed": false
   }
  },
  {
   "cell_type": "code",
   "execution_count": null,
   "outputs": [],
   "source": [
    "df_PM_gz['job.dq'].value_counts()\n",
    "地区 = [ df_PM_gz['job.dq'].value_counts().index.tolist()[i].split('-')[1]\\\n",
    "         for i,v in enumerate(df_PM_gz['job.dq'].value_counts().index.tolist()) if '-' in v]\n",
    "地区\n",
    "岗位个数 = [ df_PM_gz['job.dq'].value_counts().values.tolist()[i] for i,v in enumerate(df_PM_gz['job.dq'].value_counts().index.tolist()) if \"-\" in v]\n",
    "岗位个数\n"
   ],
   "metadata": {
    "collapsed": false
   }
  },
  {
   "cell_type": "code",
   "execution_count": null,
   "outputs": [],
   "source": [
    "df_PM_gz['job.title'][df_PM_gz['job.title'].str.contains('（')].str.split('（').apply(lambda x: x[0])\n",
    "df_job_title = df_PM_gz['job.title'].apply(lambda x: x.split('（')[0].split('/')[0].split('(')[0]).value_counts()\n",
    "df_job_title.index.tolist()\n",
    "len(df_job_title.index.tolist())\n",
    "df_job_title.values.tolist()\n",
    "df_PM_gz['job.title'].value_counts()"
   ],
   "metadata": {
    "collapsed": false
   }
  },
  {
   "cell_type": "code",
   "execution_count": null,
   "outputs": [],
   "source": [
    "PM_title_words = [(df_job_title.index.tolist()[i], df_job_title.values.tolist()[i]) for i in\n",
    "                  range(1, len(df_job_title.index.tolist()))]\n",
    "PM_title_words\n",
    "df_PM_gz['job.labels']\n",
    "df_PM_gz['job.labels'].values\n",
    "df_PM_gz['job.labels'].apply(lambda x: eval(x)).tolist()\n",
    "PM_labels_list = [j for i in df_PM_gz['job.labels'].apply(lambda x: eval(x)).tolist() for j in i]\n",
    "PM_labels_list\n",
    "PM_labels_words = [(i, PM_labels_list.count(i)) for i in set(PM_labels_list)]\n",
    "PM_labels_words"
   ],
   "metadata": {
    "collapsed": false
   }
  },
  {
   "cell_type": "code",
   "execution_count": null,
   "outputs": [],
   "source": [
    "if payload['data']['mainSearchPcConditionForm'][\"workYearCode\"] in ['1','2']:\n",
    "    df_PM_gz = df_PM_gz.rename(columns={\n",
    "        'job.labels': '职位标签',\n",
    "        'job.refreshTime': '职位更新时间',\n",
    "        'job.title': '职位',\n",
    "        'job.salary': '薪资',\n",
    "        'job.dq': '地区',\n",
    "        'job.topJob': '是否top职位',\n",
    "        'comp.compStage': '公司融资情况',\n",
    "        'comp.compName': '公司名称',\n",
    "        'comp.compIndustry': '行业',\n",
    "        'comp.compScale': '规模'\n",
    "    })\n",
    "else:\n",
    "    df_PM_gz = df_PM_gz.rename(columns={\n",
    "        'job.labels': '职位标签',\n",
    "        'job.refreshTime': '职位更新时间',\n",
    "        'job.title': '职位',\n",
    "        'job.salary': '薪资',\n",
    "        'job.dq': '地区',\n",
    "        'job.topJob': '是否top职位',\n",
    "        'job.requireWorkYears': '工作年限',\n",
    "        'job.requireEduLevel': '学历',\n",
    "        'comp.compStage': '公司融资情况',\n",
    "        'comp.compName': '公司名称',\n",
    "        'comp.compIndustry': '行业',\n",
    "        'comp.compScale': '规模'\n",
    "    })\n"
   ],
   "metadata": {
    "collapsed": false
   }
  },
  {
   "cell_type": "code",
   "execution_count": null,
   "outputs": [],
   "source": [
    "if payload['data']['mainSearchPcConditionForm'][\"workYearCode\"] in ['1','2']:\n",
    "    非薪资面议 = df_PM_gz[~df_PM_gz['薪资'].str.contains(\"面议\")]\n",
    "\n",
    "else:\n",
    "    非薪资面议 = df_PM_gz[~df_PM_gz['薪资'].str.contains(\"面议|元/天\")]"
   ],
   "metadata": {
    "collapsed": false
   }
  },
  {
   "cell_type": "code",
   "execution_count": null,
   "outputs": [],
   "source": [
    "if payload['data']['mainSearchPcConditionForm'][\"workYearCode\"] in ['2']:\n",
    "    非薪资面议_detail = 非薪资面议['薪资'].apply(lambda x: x.split('元')[0]).tolist()\n",
    "else:\n",
    "    非薪资面议_detail = 非薪资面议['薪资'].apply(lambda x: x.split('薪')[0].split('·')[0]).tolist()"
   ],
   "metadata": {
    "collapsed": false
   }
  },
  {
   "cell_type": "code",
   "execution_count": null,
   "outputs": [],
   "source": [
    "非薪资面议_detail"
   ],
   "metadata": {
    "collapsed": false
   }
  },
  {
   "cell_type": "code",
   "execution_count": null,
   "outputs": [],
   "source": [
    "if payload['data']['mainSearchPcConditionForm'][\"workYearCode\"] in ['2']:\n",
    "    平均薪资 = [int(i) * 30 \\\n",
    "            if len(i) == 3 else round((int(i.split('-')[0]) + int(i.split('-')[1])) / 2 * 30) \\\n",
    "                    for i in 非薪资面议_detail]\n",
    "else:\n",
    "    平均薪资 = [(int(i.split('-')[0]) + int(i.split('-')[1].split('k')[0])) / 2 \\\n",
    "               if len(i) == 1 else round((int(i.split('-')[0]) + int(i.split('-')[1].split('k')[0])) / 2 *1000 ) \\\n",
    "               for i in 非薪资面议_detail]"
   ],
   "metadata": {
    "collapsed": false
   }
  },
  {
   "cell_type": "code",
   "execution_count": null,
   "outputs": [],
   "source": [
    "平均薪资"
   ],
   "metadata": {
    "collapsed": false
   }
  },
  {
   "cell_type": "code",
   "execution_count": null,
   "outputs": [],
   "source": [],
   "metadata": {
    "collapsed": false
   }
  },
  {
   "cell_type": "code",
   "execution_count": null,
   "outputs": [],
   "source": [
    "非薪资面议['平均薪资'] = 平均薪资\n",
    "分地区_平均薪资 = 非薪资面议.groupby('地区').agg({'平均薪资': 'mean'})"
   ],
   "metadata": {
    "collapsed": false
   }
  },
  {
   "cell_type": "code",
   "execution_count": null,
   "outputs": [],
   "source": [
    "分地区_平均薪资_values = [round(i[0], 1) for i in 分地区_平均薪资.values.tolist()]\n",
    "分地区_平均薪资_values"
   ],
   "metadata": {
    "collapsed": false
   }
  },
  {
   "cell_type": "code",
   "execution_count": null,
   "outputs": [],
   "source": [
    "分地区_平均薪资_index = 分地区_平均薪资.index.tolist()\n",
    "分地区_平均薪资_index"
   ],
   "metadata": {
    "collapsed": false
   }
  },
  {
   "cell_type": "code",
   "execution_count": null,
   "outputs": [],
   "source": [],
   "metadata": {
    "collapsed": false
   }
  }
 ],
 "metadata": {
  "kernelspec": {
   "display_name": "Python 3",
   "language": "python",
   "name": "python3"
  },
  "language_info": {
   "codemirror_mode": {
    "name": "ipython",
    "version": 3
   },
   "file_extension": ".py",
   "mimetype": "text/x-python",
   "name": "python",
   "nbconvert_exporter": "python",
   "pygments_lexer": "ipython3",
   "version": "3.8.8"
  },
  "toc": {
   "base_numbering": 1,
   "nav_menu": {},
   "number_sections": true,
   "sideBar": true,
   "skip_h1_title": false,
   "title_cell": "Table of Contents",
   "title_sidebar": "Contents",
   "toc_cell": false,
   "toc_position": {
    "height": "618px",
    "left": "29px",
    "top": "111.125px",
    "width": "327.188px"
   },
   "toc_section_display": true,
   "toc_window_display": true
  }
 },
 "nbformat": 4,
 "nbformat_minor": 5
}
